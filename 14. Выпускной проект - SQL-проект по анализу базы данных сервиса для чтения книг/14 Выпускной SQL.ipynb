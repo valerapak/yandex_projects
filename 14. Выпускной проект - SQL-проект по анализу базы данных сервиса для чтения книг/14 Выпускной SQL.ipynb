{
 "cells": [
  {
   "cell_type": "markdown",
   "metadata": {},
   "source": [
    "# Приложение для чтения книг "
   ]
  },
  {
   "cell_type": "markdown",
   "metadata": {},
   "source": [
    "## Описание проекта\n",
    "\n",
    "Провести анализ базы данных одного из сервисов для чтения книг и сделать предложения по созданию нового конкурентного продукта."
   ]
  },
  {
   "cell_type": "markdown",
   "metadata": {},
   "source": [
    "### Задание\n",
    "\n",
    "- Посчитать количество книг, вышедших после 1 января 2000 года;\n",
    "- Посчитать количество обзоров и среднюю оценку каждой книги;\n",
    "- Определить издательство, которое выпустило наибольшее число книг толще 50 страниц (чтобы исключить из анализа брошюры);\n",
    "- Определить автора с самой высокой средней оценкой книг — учитываются только книги с 50 и более оценками;\n",
    "- Посчитать среднее количество обзоров от пользователей, которые поставили больше 50 оценок."
   ]
  },
  {
   "cell_type": "markdown",
   "metadata": {},
   "source": [
    "### Описание данных\n",
    "\n",
    "**Таблица `books`**\n",
    "\n",
    "Содержит данные о книгах:\n",
    "\n",
    "- `book_id` — идентификатор книги;\n",
    "- `author_id` — идентификатор автора;\n",
    "- `title` — название книги;\n",
    "- `num_pages` — количество страниц;\n",
    "- `publication_date` — дата публикации книги;\n",
    "- `publisher_id` — идентификатор издателя.\n",
    "\n",
    "**Таблица `authors`**\n",
    "\n",
    "Содержит данные об авторах:\n",
    "\n",
    "- `author_id` — идентификатор автора;\n",
    "- `author` — имя автора.\n",
    "\n",
    "**Таблица `publishers`**\n",
    "\n",
    "Содержит данные об издательствах:\n",
    "\n",
    "- `publisher_id` — идентификатор издательства;\n",
    "- `publisher` — название издательства;\n",
    "\n",
    "**Таблица `ratings`**\n",
    "\n",
    "Содержит данные о пользовательских оценках книг:\n",
    "\n",
    "- `rating_id` — идентификатор оценки;\n",
    "- `book_id` — идентификатор книги;\n",
    "- `username` — имя пользователя, оставившего оценку;\n",
    "- `rating` — оценка книги.\n",
    "\n",
    "**Таблица `reviews`**\n",
    "\n",
    "Содержит данные о пользовательских обзорах на книги:\n",
    "\n",
    "- `review_id` — идентификатор обзора;\n",
    "- `book_id` — идентификатор книги;\n",
    "- `username` — имя пользователя, написавшего обзор;\n",
    "- `text` — текст обзора."
   ]
  },
  {
   "cell_type": "markdown",
   "metadata": {},
   "source": [
    "## Предобработка данных"
   ]
  },
  {
   "cell_type": "code",
   "execution_count": 1,
   "metadata": {},
   "outputs": [],
   "source": [
    "# импортируем библиотеки\n",
    "import pandas as pd\n",
    "from sqlalchemy import create_engine\n",
    "\n",
    "# устанавливаем параметры\n",
    "db_config = {'user': 'praktikum_student', # имя пользователя\n",
    "'pwd': 'Sdf4$2;d-d30pp', # пароль\n",
    "'host': 'rc1b-wcoijxj3yxfsf3fs.mdb.yandexcloud.net',\n",
    "'port': 6432, # порт подключения\n",
    "'db': 'data-analyst-final-project-db'} # название базы данных\n",
    "connection_string = 'postgresql://{}:{}@{}:{}/{}'.format(db_config['user'],\n",
    " db_config['pwd'],\n",
    " db_config['host'],\n",
    " db_config['port'],\n",
    " db_config['db'])\n",
    "\n",
    "# сохраняем коннектор\n",
    "engine = create_engine(connection_string, connect_args={'sslmode':'require'}) "
   ]
  },
  {
   "cell_type": "code",
   "execution_count": 2,
   "metadata": {},
   "outputs": [],
   "source": [
    "# Функция для вывода данных\n",
    "def show(query):\n",
    "    return pd.io.sql.read_sql(query, con = engine)"
   ]
  },
  {
   "cell_type": "code",
   "execution_count": 3,
   "metadata": {},
   "outputs": [
    {
     "data": {
      "text/html": [
       "<div>\n",
       "<style scoped>\n",
       "    .dataframe tbody tr th:only-of-type {\n",
       "        vertical-align: middle;\n",
       "    }\n",
       "\n",
       "    .dataframe tbody tr th {\n",
       "        vertical-align: top;\n",
       "    }\n",
       "\n",
       "    .dataframe thead th {\n",
       "        text-align: right;\n",
       "    }\n",
       "</style>\n",
       "<table border=\"1\" class=\"dataframe\">\n",
       "  <thead>\n",
       "    <tr style=\"text-align: right;\">\n",
       "      <th></th>\n",
       "      <th>book_id</th>\n",
       "      <th>author_id</th>\n",
       "      <th>title</th>\n",
       "      <th>num_pages</th>\n",
       "      <th>publication_date</th>\n",
       "      <th>publisher_id</th>\n",
       "    </tr>\n",
       "  </thead>\n",
       "  <tbody>\n",
       "    <tr>\n",
       "      <th>0</th>\n",
       "      <td>1</td>\n",
       "      <td>546</td>\n",
       "      <td>'Salem's Lot</td>\n",
       "      <td>594</td>\n",
       "      <td>2005-11-01</td>\n",
       "      <td>93</td>\n",
       "    </tr>\n",
       "    <tr>\n",
       "      <th>1</th>\n",
       "      <td>2</td>\n",
       "      <td>465</td>\n",
       "      <td>1 000 Places to See Before You Die</td>\n",
       "      <td>992</td>\n",
       "      <td>2003-05-22</td>\n",
       "      <td>336</td>\n",
       "    </tr>\n",
       "    <tr>\n",
       "      <th>2</th>\n",
       "      <td>3</td>\n",
       "      <td>407</td>\n",
       "      <td>13 Little Blue Envelopes (Little Blue Envelope...</td>\n",
       "      <td>322</td>\n",
       "      <td>2010-12-21</td>\n",
       "      <td>135</td>\n",
       "    </tr>\n",
       "    <tr>\n",
       "      <th>3</th>\n",
       "      <td>4</td>\n",
       "      <td>82</td>\n",
       "      <td>1491: New Revelations of the Americas Before C...</td>\n",
       "      <td>541</td>\n",
       "      <td>2006-10-10</td>\n",
       "      <td>309</td>\n",
       "    </tr>\n",
       "    <tr>\n",
       "      <th>4</th>\n",
       "      <td>5</td>\n",
       "      <td>125</td>\n",
       "      <td>1776</td>\n",
       "      <td>386</td>\n",
       "      <td>2006-07-04</td>\n",
       "      <td>268</td>\n",
       "    </tr>\n",
       "  </tbody>\n",
       "</table>\n",
       "</div>"
      ],
      "text/plain": [
       "   book_id  author_id                                              title  \\\n",
       "0        1        546                                       'Salem's Lot   \n",
       "1        2        465                 1 000 Places to See Before You Die   \n",
       "2        3        407  13 Little Blue Envelopes (Little Blue Envelope...   \n",
       "3        4         82  1491: New Revelations of the Americas Before C...   \n",
       "4        5        125                                               1776   \n",
       "\n",
       "   num_pages publication_date  publisher_id  \n",
       "0        594       2005-11-01            93  \n",
       "1        992       2003-05-22           336  \n",
       "2        322       2010-12-21           135  \n",
       "3        541       2006-10-10           309  \n",
       "4        386       2006-07-04           268  "
      ]
     },
     "execution_count": 3,
     "metadata": {},
     "output_type": "execute_result"
    }
   ],
   "source": [
    "books = '''\n",
    "SELECT *\n",
    "FROM books\n",
    "'''\n",
    "show(books).head()"
   ]
  },
  {
   "cell_type": "code",
   "execution_count": 4,
   "metadata": {},
   "outputs": [
    {
     "name": "stdout",
     "output_type": "stream",
     "text": [
      "<class 'pandas.core.frame.DataFrame'>\n",
      "RangeIndex: 1000 entries, 0 to 999\n",
      "Data columns (total 6 columns):\n",
      " #   Column            Non-Null Count  Dtype \n",
      "---  ------            --------------  ----- \n",
      " 0   book_id           1000 non-null   int64 \n",
      " 1   author_id         1000 non-null   int64 \n",
      " 2   title             1000 non-null   object\n",
      " 3   num_pages         1000 non-null   int64 \n",
      " 4   publication_date  1000 non-null   object\n",
      " 5   publisher_id      1000 non-null   int64 \n",
      "dtypes: int64(4), object(2)\n",
      "memory usage: 47.0+ KB\n"
     ]
    }
   ],
   "source": [
    "show(books).info()"
   ]
  },
  {
   "cell_type": "code",
   "execution_count": 5,
   "metadata": {},
   "outputs": [
    {
     "name": "stdout",
     "output_type": "stream",
     "text": [
      "Дубликатов: 0\n",
      "\n",
      "Пропусков:\n",
      "book_id             0\n",
      "author_id           0\n",
      "title               0\n",
      "num_pages           0\n",
      "publication_date    0\n",
      "publisher_id        0\n",
      "dtype: int64\n"
     ]
    }
   ],
   "source": [
    "print('Дубликатов:', show(books).duplicated().sum())\n",
    "print()\n",
    "print('Пропусков:')\n",
    "print(show(books).isna().sum())"
   ]
  },
  {
   "cell_type": "markdown",
   "metadata": {},
   "source": [
    "Таблица \"books\" содержит список из 1000 строк (книг). Пропусков нет, дубликатов нет, формат столбца \"publication_date\" не временной"
   ]
  },
  {
   "cell_type": "code",
   "execution_count": 6,
   "metadata": {},
   "outputs": [
    {
     "data": {
      "text/html": [
       "<div>\n",
       "<style scoped>\n",
       "    .dataframe tbody tr th:only-of-type {\n",
       "        vertical-align: middle;\n",
       "    }\n",
       "\n",
       "    .dataframe tbody tr th {\n",
       "        vertical-align: top;\n",
       "    }\n",
       "\n",
       "    .dataframe thead th {\n",
       "        text-align: right;\n",
       "    }\n",
       "</style>\n",
       "<table border=\"1\" class=\"dataframe\">\n",
       "  <thead>\n",
       "    <tr style=\"text-align: right;\">\n",
       "      <th></th>\n",
       "      <th>author_id</th>\n",
       "      <th>author</th>\n",
       "    </tr>\n",
       "  </thead>\n",
       "  <tbody>\n",
       "    <tr>\n",
       "      <th>0</th>\n",
       "      <td>1</td>\n",
       "      <td>A.S. Byatt</td>\n",
       "    </tr>\n",
       "    <tr>\n",
       "      <th>1</th>\n",
       "      <td>2</td>\n",
       "      <td>Aesop/Laura Harris/Laura Gibbs</td>\n",
       "    </tr>\n",
       "    <tr>\n",
       "      <th>2</th>\n",
       "      <td>3</td>\n",
       "      <td>Agatha Christie</td>\n",
       "    </tr>\n",
       "    <tr>\n",
       "      <th>3</th>\n",
       "      <td>4</td>\n",
       "      <td>Alan Brennert</td>\n",
       "    </tr>\n",
       "    <tr>\n",
       "      <th>4</th>\n",
       "      <td>5</td>\n",
       "      <td>Alan Moore/David   Lloyd</td>\n",
       "    </tr>\n",
       "  </tbody>\n",
       "</table>\n",
       "</div>"
      ],
      "text/plain": [
       "   author_id                          author\n",
       "0          1                      A.S. Byatt\n",
       "1          2  Aesop/Laura Harris/Laura Gibbs\n",
       "2          3                 Agatha Christie\n",
       "3          4                   Alan Brennert\n",
       "4          5        Alan Moore/David   Lloyd"
      ]
     },
     "execution_count": 6,
     "metadata": {},
     "output_type": "execute_result"
    }
   ],
   "source": [
    "authors = '''\n",
    "SELECT *\n",
    "FROM authors\n",
    "\n",
    "'''\n",
    "show(authors).head()"
   ]
  },
  {
   "cell_type": "code",
   "execution_count": 7,
   "metadata": {},
   "outputs": [
    {
     "name": "stdout",
     "output_type": "stream",
     "text": [
      "<class 'pandas.core.frame.DataFrame'>\n",
      "RangeIndex: 636 entries, 0 to 635\n",
      "Data columns (total 2 columns):\n",
      " #   Column     Non-Null Count  Dtype \n",
      "---  ------     --------------  ----- \n",
      " 0   author_id  636 non-null    int64 \n",
      " 1   author     636 non-null    object\n",
      "dtypes: int64(1), object(1)\n",
      "memory usage: 10.1+ KB\n"
     ]
    }
   ],
   "source": [
    "show(authors).info()"
   ]
  },
  {
   "cell_type": "code",
   "execution_count": 8,
   "metadata": {},
   "outputs": [
    {
     "name": "stdout",
     "output_type": "stream",
     "text": [
      "Дубликатов: 0\n",
      "\n",
      "Пропусков:\n"
     ]
    },
    {
     "data": {
      "text/plain": [
       "author_id    0\n",
       "author       0\n",
       "dtype: int64"
      ]
     },
     "execution_count": 8,
     "metadata": {},
     "output_type": "execute_result"
    }
   ],
   "source": [
    "print('Дубликатов:', show(authors).duplicated().sum())\n",
    "print()\n",
    "print('Пропусков:') \n",
    "show(authors).isna().sum()    "
   ]
  },
  {
   "cell_type": "markdown",
   "metadata": {},
   "source": [
    "Таблица \"authors\" содержит список из 636 строк (авторов). Пропусков нет, дубликатов нет"
   ]
  },
  {
   "cell_type": "code",
   "execution_count": 9,
   "metadata": {},
   "outputs": [
    {
     "data": {
      "text/html": [
       "<div>\n",
       "<style scoped>\n",
       "    .dataframe tbody tr th:only-of-type {\n",
       "        vertical-align: middle;\n",
       "    }\n",
       "\n",
       "    .dataframe tbody tr th {\n",
       "        vertical-align: top;\n",
       "    }\n",
       "\n",
       "    .dataframe thead th {\n",
       "        text-align: right;\n",
       "    }\n",
       "</style>\n",
       "<table border=\"1\" class=\"dataframe\">\n",
       "  <thead>\n",
       "    <tr style=\"text-align: right;\">\n",
       "      <th></th>\n",
       "      <th>publisher_id</th>\n",
       "      <th>publisher</th>\n",
       "    </tr>\n",
       "  </thead>\n",
       "  <tbody>\n",
       "    <tr>\n",
       "      <th>0</th>\n",
       "      <td>1</td>\n",
       "      <td>Ace</td>\n",
       "    </tr>\n",
       "    <tr>\n",
       "      <th>1</th>\n",
       "      <td>2</td>\n",
       "      <td>Ace Book</td>\n",
       "    </tr>\n",
       "    <tr>\n",
       "      <th>2</th>\n",
       "      <td>3</td>\n",
       "      <td>Ace Books</td>\n",
       "    </tr>\n",
       "    <tr>\n",
       "      <th>3</th>\n",
       "      <td>4</td>\n",
       "      <td>Ace Hardcover</td>\n",
       "    </tr>\n",
       "    <tr>\n",
       "      <th>4</th>\n",
       "      <td>5</td>\n",
       "      <td>Addison Wesley Publishing Company</td>\n",
       "    </tr>\n",
       "  </tbody>\n",
       "</table>\n",
       "</div>"
      ],
      "text/plain": [
       "   publisher_id                          publisher\n",
       "0             1                                Ace\n",
       "1             2                           Ace Book\n",
       "2             3                          Ace Books\n",
       "3             4                      Ace Hardcover\n",
       "4             5  Addison Wesley Publishing Company"
      ]
     },
     "execution_count": 9,
     "metadata": {},
     "output_type": "execute_result"
    }
   ],
   "source": [
    "publishers = '''\n",
    "SELECT *\n",
    "FROM publishers\n",
    "'''\n",
    "show(publishers).head()"
   ]
  },
  {
   "cell_type": "code",
   "execution_count": 10,
   "metadata": {},
   "outputs": [
    {
     "name": "stdout",
     "output_type": "stream",
     "text": [
      "<class 'pandas.core.frame.DataFrame'>\n",
      "RangeIndex: 340 entries, 0 to 339\n",
      "Data columns (total 2 columns):\n",
      " #   Column        Non-Null Count  Dtype \n",
      "---  ------        --------------  ----- \n",
      " 0   publisher_id  340 non-null    int64 \n",
      " 1   publisher     340 non-null    object\n",
      "dtypes: int64(1), object(1)\n",
      "memory usage: 5.4+ KB\n"
     ]
    }
   ],
   "source": [
    "show(publishers).info()"
   ]
  },
  {
   "cell_type": "code",
   "execution_count": 11,
   "metadata": {},
   "outputs": [
    {
     "name": "stdout",
     "output_type": "stream",
     "text": [
      "Дубликатов: 0\n",
      "\n",
      "Пропусков:\n"
     ]
    },
    {
     "data": {
      "text/plain": [
       "publisher_id    0\n",
       "publisher       0\n",
       "dtype: int64"
      ]
     },
     "execution_count": 11,
     "metadata": {},
     "output_type": "execute_result"
    }
   ],
   "source": [
    "print('Дубликатов:', show(publishers).duplicated().sum())\n",
    "print()\n",
    "print('Пропусков:') \n",
    "show(publishers).isna().sum()"
   ]
  },
  {
   "cell_type": "markdown",
   "metadata": {},
   "source": [
    "Таблица \"publishers\" содержит список из 340 строк (книгоиздателей). Пропусков нет, дубликатов нет"
   ]
  },
  {
   "cell_type": "code",
   "execution_count": 12,
   "metadata": {},
   "outputs": [
    {
     "data": {
      "text/html": [
       "<div>\n",
       "<style scoped>\n",
       "    .dataframe tbody tr th:only-of-type {\n",
       "        vertical-align: middle;\n",
       "    }\n",
       "\n",
       "    .dataframe tbody tr th {\n",
       "        vertical-align: top;\n",
       "    }\n",
       "\n",
       "    .dataframe thead th {\n",
       "        text-align: right;\n",
       "    }\n",
       "</style>\n",
       "<table border=\"1\" class=\"dataframe\">\n",
       "  <thead>\n",
       "    <tr style=\"text-align: right;\">\n",
       "      <th></th>\n",
       "      <th>rating_id</th>\n",
       "      <th>book_id</th>\n",
       "      <th>username</th>\n",
       "      <th>rating</th>\n",
       "    </tr>\n",
       "  </thead>\n",
       "  <tbody>\n",
       "    <tr>\n",
       "      <th>0</th>\n",
       "      <td>1</td>\n",
       "      <td>1</td>\n",
       "      <td>ryanfranco</td>\n",
       "      <td>4</td>\n",
       "    </tr>\n",
       "    <tr>\n",
       "      <th>1</th>\n",
       "      <td>2</td>\n",
       "      <td>1</td>\n",
       "      <td>grantpatricia</td>\n",
       "      <td>2</td>\n",
       "    </tr>\n",
       "    <tr>\n",
       "      <th>2</th>\n",
       "      <td>3</td>\n",
       "      <td>1</td>\n",
       "      <td>brandtandrea</td>\n",
       "      <td>5</td>\n",
       "    </tr>\n",
       "    <tr>\n",
       "      <th>3</th>\n",
       "      <td>4</td>\n",
       "      <td>2</td>\n",
       "      <td>lorichen</td>\n",
       "      <td>3</td>\n",
       "    </tr>\n",
       "    <tr>\n",
       "      <th>4</th>\n",
       "      <td>5</td>\n",
       "      <td>2</td>\n",
       "      <td>mariokeller</td>\n",
       "      <td>2</td>\n",
       "    </tr>\n",
       "  </tbody>\n",
       "</table>\n",
       "</div>"
      ],
      "text/plain": [
       "   rating_id  book_id       username  rating\n",
       "0          1        1     ryanfranco       4\n",
       "1          2        1  grantpatricia       2\n",
       "2          3        1   brandtandrea       5\n",
       "3          4        2       lorichen       3\n",
       "4          5        2    mariokeller       2"
      ]
     },
     "execution_count": 12,
     "metadata": {},
     "output_type": "execute_result"
    }
   ],
   "source": [
    "ratings = '''\n",
    "SELECT *\n",
    "FROM ratings\n",
    "'''\n",
    "show(ratings).head()"
   ]
  },
  {
   "cell_type": "code",
   "execution_count": 13,
   "metadata": {},
   "outputs": [
    {
     "name": "stdout",
     "output_type": "stream",
     "text": [
      "<class 'pandas.core.frame.DataFrame'>\n",
      "RangeIndex: 6456 entries, 0 to 6455\n",
      "Data columns (total 4 columns):\n",
      " #   Column     Non-Null Count  Dtype \n",
      "---  ------     --------------  ----- \n",
      " 0   rating_id  6456 non-null   int64 \n",
      " 1   book_id    6456 non-null   int64 \n",
      " 2   username   6456 non-null   object\n",
      " 3   rating     6456 non-null   int64 \n",
      "dtypes: int64(3), object(1)\n",
      "memory usage: 201.9+ KB\n"
     ]
    }
   ],
   "source": [
    "show(ratings).info()"
   ]
  },
  {
   "cell_type": "code",
   "execution_count": 14,
   "metadata": {},
   "outputs": [
    {
     "name": "stdout",
     "output_type": "stream",
     "text": [
      "Дубликатов: 0\n",
      "\n",
      "Пропусков:\n"
     ]
    },
    {
     "data": {
      "text/plain": [
       "rating_id    0\n",
       "book_id      0\n",
       "username     0\n",
       "rating       0\n",
       "dtype: int64"
      ]
     },
     "execution_count": 14,
     "metadata": {},
     "output_type": "execute_result"
    }
   ],
   "source": [
    "print('Дубликатов:', show(ratings).duplicated().sum())\n",
    "print()\n",
    "print('Пропусков:')  \n",
    "show(ratings).isna().sum()"
   ]
  },
  {
   "cell_type": "markdown",
   "metadata": {},
   "source": [
    "Таблица \"ratings\" содержит список из 6456 строк (рейтингов пользователей). Пропусков нет, дубликатов нет"
   ]
  },
  {
   "cell_type": "code",
   "execution_count": 15,
   "metadata": {},
   "outputs": [
    {
     "data": {
      "text/html": [
       "<div>\n",
       "<style scoped>\n",
       "    .dataframe tbody tr th:only-of-type {\n",
       "        vertical-align: middle;\n",
       "    }\n",
       "\n",
       "    .dataframe tbody tr th {\n",
       "        vertical-align: top;\n",
       "    }\n",
       "\n",
       "    .dataframe thead th {\n",
       "        text-align: right;\n",
       "    }\n",
       "</style>\n",
       "<table border=\"1\" class=\"dataframe\">\n",
       "  <thead>\n",
       "    <tr style=\"text-align: right;\">\n",
       "      <th></th>\n",
       "      <th>review_id</th>\n",
       "      <th>book_id</th>\n",
       "      <th>username</th>\n",
       "      <th>text</th>\n",
       "    </tr>\n",
       "  </thead>\n",
       "  <tbody>\n",
       "    <tr>\n",
       "      <th>0</th>\n",
       "      <td>1</td>\n",
       "      <td>1</td>\n",
       "      <td>brandtandrea</td>\n",
       "      <td>Mention society tell send professor analysis. ...</td>\n",
       "    </tr>\n",
       "    <tr>\n",
       "      <th>1</th>\n",
       "      <td>2</td>\n",
       "      <td>1</td>\n",
       "      <td>ryanfranco</td>\n",
       "      <td>Foot glass pretty audience hit themselves. Amo...</td>\n",
       "    </tr>\n",
       "    <tr>\n",
       "      <th>2</th>\n",
       "      <td>3</td>\n",
       "      <td>2</td>\n",
       "      <td>lorichen</td>\n",
       "      <td>Listen treat keep worry. Miss husband tax but ...</td>\n",
       "    </tr>\n",
       "    <tr>\n",
       "      <th>3</th>\n",
       "      <td>4</td>\n",
       "      <td>3</td>\n",
       "      <td>johnsonamanda</td>\n",
       "      <td>Finally month interesting blue could nature cu...</td>\n",
       "    </tr>\n",
       "    <tr>\n",
       "      <th>4</th>\n",
       "      <td>5</td>\n",
       "      <td>3</td>\n",
       "      <td>scotttamara</td>\n",
       "      <td>Nation purpose heavy give wait song will. List...</td>\n",
       "    </tr>\n",
       "  </tbody>\n",
       "</table>\n",
       "</div>"
      ],
      "text/plain": [
       "   review_id  book_id       username  \\\n",
       "0          1        1   brandtandrea   \n",
       "1          2        1     ryanfranco   \n",
       "2          3        2       lorichen   \n",
       "3          4        3  johnsonamanda   \n",
       "4          5        3    scotttamara   \n",
       "\n",
       "                                                text  \n",
       "0  Mention society tell send professor analysis. ...  \n",
       "1  Foot glass pretty audience hit themselves. Amo...  \n",
       "2  Listen treat keep worry. Miss husband tax but ...  \n",
       "3  Finally month interesting blue could nature cu...  \n",
       "4  Nation purpose heavy give wait song will. List...  "
      ]
     },
     "execution_count": 15,
     "metadata": {},
     "output_type": "execute_result"
    }
   ],
   "source": [
    "reviews = '''\n",
    "SELECT *\n",
    "FROM reviews\n",
    "'''\n",
    "show(reviews).head()"
   ]
  },
  {
   "cell_type": "code",
   "execution_count": 16,
   "metadata": {},
   "outputs": [
    {
     "name": "stdout",
     "output_type": "stream",
     "text": [
      "<class 'pandas.core.frame.DataFrame'>\n",
      "RangeIndex: 2793 entries, 0 to 2792\n",
      "Data columns (total 4 columns):\n",
      " #   Column     Non-Null Count  Dtype \n",
      "---  ------     --------------  ----- \n",
      " 0   review_id  2793 non-null   int64 \n",
      " 1   book_id    2793 non-null   int64 \n",
      " 2   username   2793 non-null   object\n",
      " 3   text       2793 non-null   object\n",
      "dtypes: int64(2), object(2)\n",
      "memory usage: 87.4+ KB\n"
     ]
    }
   ],
   "source": [
    "show(reviews).info()"
   ]
  },
  {
   "cell_type": "code",
   "execution_count": 17,
   "metadata": {},
   "outputs": [
    {
     "name": "stdout",
     "output_type": "stream",
     "text": [
      "Дубликатов: 0\n",
      "\n",
      "Пропусков:\n"
     ]
    },
    {
     "data": {
      "text/plain": [
       "review_id    0\n",
       "book_id      0\n",
       "username     0\n",
       "text         0\n",
       "dtype: int64"
      ]
     },
     "execution_count": 17,
     "metadata": {},
     "output_type": "execute_result"
    }
   ],
   "source": [
    "print('Дубликатов:', show(reviews).duplicated().sum())\n",
    "print()\n",
    "print('Пропусков:')  \n",
    "show(reviews).isna().sum()"
   ]
  },
  {
   "cell_type": "markdown",
   "metadata": {},
   "source": [
    "Таблица \"reviews\" содержит список из 2793 строк (обзоров пользователей). Пропусков нет, дубликатов нет"
   ]
  },
  {
   "cell_type": "markdown",
   "metadata": {},
   "source": [
    "## Исследовательский анализ данных"
   ]
  },
  {
   "cell_type": "markdown",
   "metadata": {},
   "source": [
    "### Количество книг, выпущенных после 1 января 2000 года:"
   ]
  },
  {
   "cell_type": "code",
   "execution_count": 18,
   "metadata": {},
   "outputs": [
    {
     "data": {
      "text/html": [
       "<div>\n",
       "<style scoped>\n",
       "    .dataframe tbody tr th:only-of-type {\n",
       "        vertical-align: middle;\n",
       "    }\n",
       "\n",
       "    .dataframe tbody tr th {\n",
       "        vertical-align: top;\n",
       "    }\n",
       "\n",
       "    .dataframe thead th {\n",
       "        text-align: right;\n",
       "    }\n",
       "</style>\n",
       "<table border=\"1\" class=\"dataframe\">\n",
       "  <thead>\n",
       "    <tr style=\"text-align: right;\">\n",
       "      <th></th>\n",
       "      <th>books_count</th>\n",
       "    </tr>\n",
       "  </thead>\n",
       "  <tbody>\n",
       "    <tr>\n",
       "      <th>0</th>\n",
       "      <td>819</td>\n",
       "    </tr>\n",
       "  </tbody>\n",
       "</table>\n",
       "</div>"
      ],
      "text/plain": [
       "   books_count\n",
       "0          819"
      ]
     },
     "execution_count": 18,
     "metadata": {},
     "output_type": "execute_result"
    }
   ],
   "source": [
    "books_count = '''\n",
    "SELECT COUNT(book_id) AS books_count \n",
    "FROM books \n",
    "WHERE publication_date >'2000-01-01'\n",
    "'''\n",
    "show(books_count)"
   ]
  },
  {
   "cell_type": "markdown",
   "metadata": {},
   "source": [
    "После 1 января 2000 года вышло 819 книг"
   ]
  },
  {
   "cell_type": "markdown",
   "metadata": {},
   "source": [
    "### Количество пользовательских обзоров и средняя оценка для каждой книги:"
   ]
  },
  {
   "cell_type": "code",
   "execution_count": 19,
   "metadata": {},
   "outputs": [],
   "source": [
    "# rating_reviews = '''\n",
    "#SELECT books.title AS title,\n",
    " #      books.book_id AS id,\n",
    " #      ROUND(AVG(ratings.rating), 2) AS avg_rating,\n",
    " #      COUNT(DISTINCT reviews.text) AS reviews_count\n",
    "#FROM books\n",
    "#INNER JOIN ratings ON ratings.book_id = books.book_id\n",
    "#INNER JOIN reviews ON reviews.book_id = books.book_id\n",
    "#GROUP BY books.book_id\n",
    "#ORDER by reviews_count DESC\n",
    "#'''\n",
    "#show(rating_reviews)"
   ]
  },
  {
   "cell_type": "code",
   "execution_count": 20,
   "metadata": {},
   "outputs": [
    {
     "data": {
      "text/html": [
       "<div>\n",
       "<style scoped>\n",
       "    .dataframe tbody tr th:only-of-type {\n",
       "        vertical-align: middle;\n",
       "    }\n",
       "\n",
       "    .dataframe tbody tr th {\n",
       "        vertical-align: top;\n",
       "    }\n",
       "\n",
       "    .dataframe thead th {\n",
       "        text-align: right;\n",
       "    }\n",
       "</style>\n",
       "<table border=\"1\" class=\"dataframe\">\n",
       "  <thead>\n",
       "    <tr style=\"text-align: right;\">\n",
       "      <th></th>\n",
       "      <th>title</th>\n",
       "      <th>id</th>\n",
       "      <th>avg_rating</th>\n",
       "      <th>reviews_count</th>\n",
       "    </tr>\n",
       "  </thead>\n",
       "  <tbody>\n",
       "    <tr>\n",
       "      <th>0</th>\n",
       "      <td>Twilight (Twilight  #1)</td>\n",
       "      <td>948</td>\n",
       "      <td>3.66</td>\n",
       "      <td>7</td>\n",
       "    </tr>\n",
       "    <tr>\n",
       "      <th>1</th>\n",
       "      <td>Water for Elephants</td>\n",
       "      <td>963</td>\n",
       "      <td>3.98</td>\n",
       "      <td>6</td>\n",
       "    </tr>\n",
       "    <tr>\n",
       "      <th>2</th>\n",
       "      <td>The Glass Castle</td>\n",
       "      <td>734</td>\n",
       "      <td>4.21</td>\n",
       "      <td>6</td>\n",
       "    </tr>\n",
       "    <tr>\n",
       "      <th>3</th>\n",
       "      <td>Harry Potter and the Prisoner of Azkaban (Harr...</td>\n",
       "      <td>302</td>\n",
       "      <td>4.41</td>\n",
       "      <td>6</td>\n",
       "    </tr>\n",
       "    <tr>\n",
       "      <th>4</th>\n",
       "      <td>The Curious Incident of the Dog in the Night-Time</td>\n",
       "      <td>695</td>\n",
       "      <td>4.08</td>\n",
       "      <td>6</td>\n",
       "    </tr>\n",
       "    <tr>\n",
       "      <th>...</th>\n",
       "      <td>...</td>\n",
       "      <td>...</td>\n",
       "      <td>...</td>\n",
       "      <td>...</td>\n",
       "    </tr>\n",
       "    <tr>\n",
       "      <th>995</th>\n",
       "      <td>Anne Rice's The Vampire Lestat: A Graphic Novel</td>\n",
       "      <td>83</td>\n",
       "      <td>3.67</td>\n",
       "      <td>0</td>\n",
       "    </tr>\n",
       "    <tr>\n",
       "      <th>996</th>\n",
       "      <td>The Natural Way to Draw</td>\n",
       "      <td>808</td>\n",
       "      <td>3.00</td>\n",
       "      <td>0</td>\n",
       "    </tr>\n",
       "    <tr>\n",
       "      <th>997</th>\n",
       "      <td>The Cat in the Hat and Other Dr. Seuss Favorites</td>\n",
       "      <td>672</td>\n",
       "      <td>5.00</td>\n",
       "      <td>0</td>\n",
       "    </tr>\n",
       "    <tr>\n",
       "      <th>998</th>\n",
       "      <td>Essential Tales and Poems</td>\n",
       "      <td>221</td>\n",
       "      <td>4.00</td>\n",
       "      <td>0</td>\n",
       "    </tr>\n",
       "    <tr>\n",
       "      <th>999</th>\n",
       "      <td>Disney's Beauty and the Beast (A Little Golden...</td>\n",
       "      <td>191</td>\n",
       "      <td>4.00</td>\n",
       "      <td>0</td>\n",
       "    </tr>\n",
       "  </tbody>\n",
       "</table>\n",
       "<p>1000 rows × 4 columns</p>\n",
       "</div>"
      ],
      "text/plain": [
       "                                                 title   id  avg_rating  \\\n",
       "0                              Twilight (Twilight  #1)  948        3.66   \n",
       "1                                  Water for Elephants  963        3.98   \n",
       "2                                     The Glass Castle  734        4.21   \n",
       "3    Harry Potter and the Prisoner of Azkaban (Harr...  302        4.41   \n",
       "4    The Curious Incident of the Dog in the Night-Time  695        4.08   \n",
       "..                                                 ...  ...         ...   \n",
       "995    Anne Rice's The Vampire Lestat: A Graphic Novel   83        3.67   \n",
       "996                            The Natural Way to Draw  808        3.00   \n",
       "997   The Cat in the Hat and Other Dr. Seuss Favorites  672        5.00   \n",
       "998                          Essential Tales and Poems  221        4.00   \n",
       "999  Disney's Beauty and the Beast (A Little Golden...  191        4.00   \n",
       "\n",
       "     reviews_count  \n",
       "0                7  \n",
       "1                6  \n",
       "2                6  \n",
       "3                6  \n",
       "4                6  \n",
       "..             ...  \n",
       "995              0  \n",
       "996              0  \n",
       "997              0  \n",
       "998              0  \n",
       "999              0  \n",
       "\n",
       "[1000 rows x 4 columns]"
      ]
     },
     "execution_count": 20,
     "metadata": {},
     "output_type": "execute_result"
    }
   ],
   "source": [
    "rating_reviews = '''\n",
    "SELECT books.title AS title,\n",
    "       books.book_id AS id,\n",
    "       ROUND(AVG(ratings.rating), 2) AS avg_rating,\n",
    "       COUNT(DISTINCT reviews.text) AS reviews_count\n",
    "FROM books\n",
    "INNER JOIN ratings ON ratings.book_id = books.book_id\n",
    "LEFT JOIN reviews ON reviews.book_id = books.book_id\n",
    "GROUP BY books.book_id\n",
    "ORDER by reviews_count DESC\n",
    "'''\n",
    "show(rating_reviews)"
   ]
  },
  {
   "cell_type": "markdown",
   "metadata": {},
   "source": [
    "\n",
    "Больше всего пользовательских обзоров (7) было написано для книги \"Twilight (Twilight #1)\" с рейтингом 3,66."
   ]
  },
  {
   "cell_type": "markdown",
   "metadata": {},
   "source": [
    "### Издательство, которое издало наибольшее число книг толще 50 страниц (т.е. из анализа исключаются различные брошюры)"
   ]
  },
  {
   "cell_type": "code",
   "execution_count": 21,
   "metadata": {},
   "outputs": [
    {
     "data": {
      "text/html": [
       "<div>\n",
       "<style scoped>\n",
       "    .dataframe tbody tr th:only-of-type {\n",
       "        vertical-align: middle;\n",
       "    }\n",
       "\n",
       "    .dataframe tbody tr th {\n",
       "        vertical-align: top;\n",
       "    }\n",
       "\n",
       "    .dataframe thead th {\n",
       "        text-align: right;\n",
       "    }\n",
       "</style>\n",
       "<table border=\"1\" class=\"dataframe\">\n",
       "  <thead>\n",
       "    <tr style=\"text-align: right;\">\n",
       "      <th></th>\n",
       "      <th>publisher_name</th>\n",
       "      <th>books_published</th>\n",
       "    </tr>\n",
       "  </thead>\n",
       "  <tbody>\n",
       "    <tr>\n",
       "      <th>0</th>\n",
       "      <td>Penguin Books</td>\n",
       "      <td>42</td>\n",
       "    </tr>\n",
       "    <tr>\n",
       "      <th>1</th>\n",
       "      <td>Vintage</td>\n",
       "      <td>31</td>\n",
       "    </tr>\n",
       "    <tr>\n",
       "      <th>2</th>\n",
       "      <td>Grand Central Publishing</td>\n",
       "      <td>25</td>\n",
       "    </tr>\n",
       "    <tr>\n",
       "      <th>3</th>\n",
       "      <td>Penguin Classics</td>\n",
       "      <td>24</td>\n",
       "    </tr>\n",
       "    <tr>\n",
       "      <th>4</th>\n",
       "      <td>Ballantine Books</td>\n",
       "      <td>19</td>\n",
       "    </tr>\n",
       "  </tbody>\n",
       "</table>\n",
       "</div>"
      ],
      "text/plain": [
       "             publisher_name  books_published\n",
       "0             Penguin Books               42\n",
       "1                   Vintage               31\n",
       "2  Grand Central Publishing               25\n",
       "3          Penguin Classics               24\n",
       "4          Ballantine Books               19"
      ]
     },
     "execution_count": 21,
     "metadata": {},
     "output_type": "execute_result"
    }
   ],
   "source": [
    "book_publisher = '''\n",
    "SELECT publishers.publisher AS publisher_name,\n",
    "       COUNT(books.book_id) AS books_published\n",
    "FROM publishers\n",
    "INNER JOIN books ON books.publisher_id = publishers.publisher_id\n",
    "WHERE books.num_pages > 50\n",
    "GROUP BY publisher_name\n",
    "ORDER BY books_published DESC\n",
    "'''\n",
    "show(book_publisher).head()"
   ]
  },
  {
   "cell_type": "markdown",
   "metadata": {},
   "source": [
    "Penguin Books - издательство, которое выпустило наибольшее число книг (42 книги) толще 50 страниц"
   ]
  },
  {
   "cell_type": "markdown",
   "metadata": {},
   "source": [
    "### Автор с самой высокой средней оценкой среди книг с 50 и более пользовательскими оценками"
   ]
  },
  {
   "cell_type": "code",
   "execution_count": 22,
   "metadata": {},
   "outputs": [
    {
     "data": {
      "text/html": [
       "<div>\n",
       "<style scoped>\n",
       "    .dataframe tbody tr th:only-of-type {\n",
       "        vertical-align: middle;\n",
       "    }\n",
       "\n",
       "    .dataframe tbody tr th {\n",
       "        vertical-align: top;\n",
       "    }\n",
       "\n",
       "    .dataframe thead th {\n",
       "        text-align: right;\n",
       "    }\n",
       "</style>\n",
       "<table border=\"1\" class=\"dataframe\">\n",
       "  <thead>\n",
       "    <tr style=\"text-align: right;\">\n",
       "      <th></th>\n",
       "      <th>author</th>\n",
       "      <th>total_avg_rating</th>\n",
       "    </tr>\n",
       "  </thead>\n",
       "  <tbody>\n",
       "    <tr>\n",
       "      <th>0</th>\n",
       "      <td>J.K. Rowling/Mary GrandPré</td>\n",
       "      <td>4.283844</td>\n",
       "    </tr>\n",
       "    <tr>\n",
       "      <th>1</th>\n",
       "      <td>Markus Zusak/Cao Xuân Việt Khương</td>\n",
       "      <td>4.264151</td>\n",
       "    </tr>\n",
       "    <tr>\n",
       "      <th>2</th>\n",
       "      <td>J.R.R. Tolkien</td>\n",
       "      <td>4.258446</td>\n",
       "    </tr>\n",
       "    <tr>\n",
       "      <th>3</th>\n",
       "      <td>Louisa May Alcott</td>\n",
       "      <td>4.192308</td>\n",
       "    </tr>\n",
       "    <tr>\n",
       "      <th>4</th>\n",
       "      <td>Rick Riordan</td>\n",
       "      <td>4.080645</td>\n",
       "    </tr>\n",
       "    <tr>\n",
       "      <th>5</th>\n",
       "      <td>William Golding</td>\n",
       "      <td>3.901408</td>\n",
       "    </tr>\n",
       "    <tr>\n",
       "      <th>6</th>\n",
       "      <td>J.D. Salinger</td>\n",
       "      <td>3.825581</td>\n",
       "    </tr>\n",
       "    <tr>\n",
       "      <th>7</th>\n",
       "      <td>Paulo Coelho/Alan R. Clarke/Özdemir İnce</td>\n",
       "      <td>3.789474</td>\n",
       "    </tr>\n",
       "    <tr>\n",
       "      <th>8</th>\n",
       "      <td>William Shakespeare/Paul Werstine/Barbara A. M...</td>\n",
       "      <td>3.787879</td>\n",
       "    </tr>\n",
       "    <tr>\n",
       "      <th>9</th>\n",
       "      <td>Dan Brown</td>\n",
       "      <td>3.754540</td>\n",
       "    </tr>\n",
       "    <tr>\n",
       "      <th>10</th>\n",
       "      <td>Lois Lowry</td>\n",
       "      <td>3.750000</td>\n",
       "    </tr>\n",
       "    <tr>\n",
       "      <th>11</th>\n",
       "      <td>George Orwell/Boris Grabnar/Peter Škerl</td>\n",
       "      <td>3.729730</td>\n",
       "    </tr>\n",
       "    <tr>\n",
       "      <th>12</th>\n",
       "      <td>Stephenie Meyer</td>\n",
       "      <td>3.662500</td>\n",
       "    </tr>\n",
       "    <tr>\n",
       "      <th>13</th>\n",
       "      <td>John Steinbeck</td>\n",
       "      <td>3.622951</td>\n",
       "    </tr>\n",
       "  </tbody>\n",
       "</table>\n",
       "</div>"
      ],
      "text/plain": [
       "                                               author  total_avg_rating\n",
       "0                          J.K. Rowling/Mary GrandPré          4.283844\n",
       "1                   Markus Zusak/Cao Xuân Việt Khương          4.264151\n",
       "2                                      J.R.R. Tolkien          4.258446\n",
       "3                                   Louisa May Alcott          4.192308\n",
       "4                                        Rick Riordan          4.080645\n",
       "5                                     William Golding          3.901408\n",
       "6                                       J.D. Salinger          3.825581\n",
       "7            Paulo Coelho/Alan R. Clarke/Özdemir İnce          3.789474\n",
       "8   William Shakespeare/Paul Werstine/Barbara A. M...          3.787879\n",
       "9                                           Dan Brown          3.754540\n",
       "10                                         Lois Lowry          3.750000\n",
       "11            George Orwell/Boris Grabnar/Peter Škerl          3.729730\n",
       "12                                    Stephenie Meyer          3.662500\n",
       "13                                     John Steinbeck          3.622951"
      ]
     },
     "execution_count": 22,
     "metadata": {},
     "output_type": "execute_result"
    }
   ],
   "source": [
    "top_author = '''\n",
    "SELECT author,\n",
    "       AVG(sub.avg_rating) as total_avg_rating\n",
    "FROM \n",
    "    (SELECT author,\n",
    "            books.book_id,\n",
    "            AVG(rating) as avg_rating\n",
    "     FROM authors\n",
    "     LEFT JOIN books ON books.author_id = authors.author_id\n",
    "     LEFT JOIN ratings ON ratings.book_id = books.book_id\n",
    "     GROUP BY author,\n",
    "              books.book_id\n",
    "     HAVING COUNT(rating) >= 50) as sub\n",
    "GROUP BY author\n",
    "ORDER BY total_avg_rating DESC\n",
    "'''\n",
    "show(top_author)"
   ]
  },
  {
   "cell_type": "markdown",
   "metadata": {},
   "source": [
    "J.K. Rowling и Mary GrandPré (соавторство) - автор с самой высокой средней оценкой книг с 50 и более оценками.\n",
    "\n",
    "14 из 636 представленных авторов имеют 50 и более оценок пользователей"
   ]
  },
  {
   "cell_type": "markdown",
   "metadata": {},
   "source": [
    " ### Среднее количество обзоров пользователей, которые поставили более чем по 50 оценок"
   ]
  },
  {
   "cell_type": "code",
   "execution_count": 23,
   "metadata": {},
   "outputs": [
    {
     "data": {
      "text/html": [
       "<div>\n",
       "<style scoped>\n",
       "    .dataframe tbody tr th:only-of-type {\n",
       "        vertical-align: middle;\n",
       "    }\n",
       "\n",
       "    .dataframe tbody tr th {\n",
       "        vertical-align: top;\n",
       "    }\n",
       "\n",
       "    .dataframe thead th {\n",
       "        text-align: right;\n",
       "    }\n",
       "</style>\n",
       "<table border=\"1\" class=\"dataframe\">\n",
       "  <thead>\n",
       "    <tr style=\"text-align: right;\">\n",
       "      <th></th>\n",
       "      <th>round</th>\n",
       "    </tr>\n",
       "  </thead>\n",
       "  <tbody>\n",
       "    <tr>\n",
       "      <th>0</th>\n",
       "      <td>24.0</td>\n",
       "    </tr>\n",
       "  </tbody>\n",
       "</table>\n",
       "</div>"
      ],
      "text/plain": [
       "   round\n",
       "0   24.0"
      ]
     },
     "execution_count": 23,
     "metadata": {},
     "output_type": "execute_result"
    }
   ],
   "source": [
    "avg_text = '''\n",
    "SELECT ROUND(avg(count)) \n",
    "FROM \n",
    "    (SELECT COUNT(text)\n",
    "     FROM reviews\n",
    "     FULL OUTER JOIN \n",
    "                     (SELECT username,\n",
    "                             COUNT(rating_id) as cnt\n",
    "                      FROM ratings\n",
    "                      GROUP BY username) AS ratings_count\n",
    "     ON ratings_count.username = reviews.username\n",
    "     WHERE cnt > 50\n",
    "     GROUP BY reviews.username) as count;                                  \n",
    "'''\n",
    "show(avg_text)"
   ]
  },
  {
   "cell_type": "markdown",
   "metadata": {},
   "source": [
    "Среднее количество обзоров от пользователей, которые поставили больше 50 оценок - 24"
   ]
  },
  {
   "cell_type": "markdown",
   "metadata": {},
   "source": [
    "## Общий вывод:\n",
    "После 1 января 2000 года вышло 819 книг\n",
    "\n",
    "Больше всего пользовательских обзоров (7) было написано для книги Twilight (Twilight #1)\n",
    "\n",
    "Penguin Books - издательство, которое выпустило наибольшее число книг (42 книги) толще 50 страниц\n",
    "\n",
    "J.K. Rowling/Mary GrandPré - авторы с самой высокой средней оценкой книг, учитывая только книги с 50 и более оценками\n",
    "\n",
    "Среднее количество обзоров от пользователей, которые поставили больше 50 оценок - 24\n",
    "\n",
    "Рекомендации:\n",
    "\n",
    "Полученные результаты анализа базы данных, добытой нелегким трудом у конкурентов, с рейтингами и отзывами пользователей могут служить основой для формирования ассортимента нового приложения. \n",
    "В качестве книжного ассортимента для нового приложения рекомендуется выбрать книги авторов, указанных в сводной таблице 'top_author'. \n",
    "В первую очередь следует обратить внимание на книги, имеющие высокую популярность у читателей и проверенные временем, например такие, как \"Гарри Поттер\" или \"Сумерки\". "
   ]
  }
 ],
 "metadata": {
  "ExecuteTimeLog": [
   {
    "duration": 9202,
    "start_time": "2022-09-07T20:00:34.581Z"
   },
   {
    "duration": 3,
    "start_time": "2022-09-07T20:00:54.389Z"
   },
   {
    "duration": 85,
    "start_time": "2022-09-07T20:01:03.504Z"
   },
   {
    "duration": 22,
    "start_time": "2022-09-07T20:01:14.821Z"
   },
   {
    "duration": 26,
    "start_time": "2022-09-07T20:02:17.961Z"
   },
   {
    "duration": 22,
    "start_time": "2022-09-07T20:02:23.481Z"
   },
   {
    "duration": 28,
    "start_time": "2022-09-07T20:03:09.757Z"
   },
   {
    "duration": 21,
    "start_time": "2022-09-07T20:03:37.881Z"
   },
   {
    "duration": 13,
    "start_time": "2022-09-07T20:04:52.205Z"
   },
   {
    "duration": 15,
    "start_time": "2022-09-07T20:05:12.964Z"
   },
   {
    "duration": 71,
    "start_time": "2022-09-07T20:07:47.018Z"
   },
   {
    "duration": 18,
    "start_time": "2022-09-07T20:07:53.919Z"
   },
   {
    "duration": 24,
    "start_time": "2022-09-07T20:08:30.351Z"
   },
   {
    "duration": 20,
    "start_time": "2022-09-07T20:09:02.679Z"
   },
   {
    "duration": 12,
    "start_time": "2022-09-07T20:09:12.435Z"
   },
   {
    "duration": 14,
    "start_time": "2022-09-07T20:09:24.324Z"
   },
   {
    "duration": 16,
    "start_time": "2022-09-07T20:10:26.318Z"
   },
   {
    "duration": 27,
    "start_time": "2022-09-07T20:10:57.435Z"
   },
   {
    "duration": 32,
    "start_time": "2022-09-07T20:11:12.139Z"
   },
   {
    "duration": 98,
    "start_time": "2022-09-07T20:11:53.516Z"
   },
   {
    "duration": 13,
    "start_time": "2022-09-07T20:13:37.071Z"
   },
   {
    "duration": 16,
    "start_time": "2022-09-07T20:13:42.795Z"
   },
   {
    "duration": 26,
    "start_time": "2022-09-07T20:14:04.339Z"
   },
   {
    "duration": 32,
    "start_time": "2022-09-07T20:14:06.683Z"
   },
   {
    "duration": 25,
    "start_time": "2022-09-07T20:14:59.123Z"
   },
   {
    "duration": 24,
    "start_time": "2022-09-07T20:15:08.369Z"
   },
   {
    "duration": 77,
    "start_time": "2022-09-07T20:15:43.971Z"
   },
   {
    "duration": 11,
    "start_time": "2022-09-07T20:22:36.751Z"
   },
   {
    "duration": 32,
    "start_time": "2022-09-07T20:23:13.527Z"
   },
   {
    "duration": 38,
    "start_time": "2022-09-07T20:23:24.684Z"
   },
   {
    "duration": 62,
    "start_time": "2022-09-07T20:25:19.311Z"
   },
   {
    "duration": 115,
    "start_time": "2022-09-07T20:28:58.916Z"
   },
   {
    "duration": 53,
    "start_time": "2022-09-07T20:32:43.446Z"
   },
   {
    "duration": 622,
    "start_time": "2022-09-07T20:40:20.054Z"
   },
   {
    "duration": 38,
    "start_time": "2022-09-07T20:41:05.618Z"
   },
   {
    "duration": 26,
    "start_time": "2022-09-07T20:42:52.194Z"
   },
   {
    "duration": 43,
    "start_time": "2022-09-07T20:45:18.385Z"
   },
   {
    "duration": 32,
    "start_time": "2022-09-07T20:45:27.798Z"
   },
   {
    "duration": 21,
    "start_time": "2022-09-07T20:46:37.990Z"
   },
   {
    "duration": 17,
    "start_time": "2022-09-07T20:47:38.046Z"
   },
   {
    "duration": 14,
    "start_time": "2022-09-07T20:48:38.946Z"
   },
   {
    "duration": 8709,
    "start_time": "2022-09-07T20:58:51.185Z"
   },
   {
    "duration": 3,
    "start_time": "2022-09-07T20:58:59.896Z"
   },
   {
    "duration": 117,
    "start_time": "2022-09-07T20:58:59.901Z"
   },
   {
    "duration": 18,
    "start_time": "2022-09-07T20:59:00.020Z"
   },
   {
    "duration": 25,
    "start_time": "2022-09-07T20:59:00.040Z"
   },
   {
    "duration": 13,
    "start_time": "2022-09-07T20:59:00.067Z"
   },
   {
    "duration": 22,
    "start_time": "2022-09-07T20:59:00.082Z"
   },
   {
    "duration": 21,
    "start_time": "2022-09-07T20:59:00.106Z"
   },
   {
    "duration": 12,
    "start_time": "2022-09-07T20:59:00.129Z"
   },
   {
    "duration": 13,
    "start_time": "2022-09-07T20:59:00.144Z"
   },
   {
    "duration": 40,
    "start_time": "2022-09-07T20:59:00.159Z"
   },
   {
    "duration": 27,
    "start_time": "2022-09-07T20:59:00.201Z"
   },
   {
    "duration": 28,
    "start_time": "2022-09-07T20:59:00.230Z"
   },
   {
    "duration": 103,
    "start_time": "2022-09-07T20:59:00.259Z"
   },
   {
    "duration": 23,
    "start_time": "2022-09-07T20:59:00.364Z"
   },
   {
    "duration": 29,
    "start_time": "2022-09-07T20:59:00.389Z"
   },
   {
    "duration": 34,
    "start_time": "2022-09-07T20:59:00.420Z"
   },
   {
    "duration": 10,
    "start_time": "2022-09-07T20:59:00.456Z"
   },
   {
    "duration": 32,
    "start_time": "2022-09-07T20:59:00.468Z"
   },
   {
    "duration": 14,
    "start_time": "2022-09-07T20:59:00.502Z"
   },
   {
    "duration": 28,
    "start_time": "2022-09-07T20:59:00.517Z"
   },
   {
    "duration": 14,
    "start_time": "2022-09-07T20:59:00.547Z"
   },
   {
    "duration": 8593,
    "start_time": "2022-09-07T21:01:27.485Z"
   },
   {
    "duration": 3,
    "start_time": "2022-09-07T21:01:36.079Z"
   },
   {
    "duration": 74,
    "start_time": "2022-09-07T21:01:36.086Z"
   },
   {
    "duration": 18,
    "start_time": "2022-09-07T21:01:36.162Z"
   },
   {
    "duration": 20,
    "start_time": "2022-09-07T21:01:36.181Z"
   },
   {
    "duration": 11,
    "start_time": "2022-09-07T21:01:36.203Z"
   },
   {
    "duration": 14,
    "start_time": "2022-09-07T21:01:36.216Z"
   },
   {
    "duration": 17,
    "start_time": "2022-09-07T21:01:36.232Z"
   },
   {
    "duration": 12,
    "start_time": "2022-09-07T21:01:36.252Z"
   },
   {
    "duration": 28,
    "start_time": "2022-09-07T21:01:36.266Z"
   },
   {
    "duration": 17,
    "start_time": "2022-09-07T21:01:36.295Z"
   },
   {
    "duration": 26,
    "start_time": "2022-09-07T21:01:36.313Z"
   },
   {
    "duration": 28,
    "start_time": "2022-09-07T21:01:36.341Z"
   },
   {
    "duration": 99,
    "start_time": "2022-09-07T21:01:36.371Z"
   },
   {
    "duration": 21,
    "start_time": "2022-09-07T21:01:36.471Z"
   },
   {
    "duration": 20,
    "start_time": "2022-09-07T21:01:36.494Z"
   },
   {
    "duration": 31,
    "start_time": "2022-09-07T21:01:36.515Z"
   },
   {
    "duration": 10,
    "start_time": "2022-09-07T21:01:36.548Z"
   },
   {
    "duration": 32,
    "start_time": "2022-09-07T21:01:36.559Z"
   },
   {
    "duration": 12,
    "start_time": "2022-09-07T21:01:36.592Z"
   },
   {
    "duration": 17,
    "start_time": "2022-09-07T21:01:36.605Z"
   },
   {
    "duration": 12,
    "start_time": "2022-09-07T21:01:36.623Z"
   },
   {
    "duration": 9903,
    "start_time": "2022-09-08T15:44:02.372Z"
   },
   {
    "duration": 2,
    "start_time": "2022-09-08T15:44:12.277Z"
   },
   {
    "duration": 77,
    "start_time": "2022-09-08T15:44:12.281Z"
   },
   {
    "duration": 17,
    "start_time": "2022-09-08T15:44:12.360Z"
   },
   {
    "duration": 21,
    "start_time": "2022-09-08T15:44:12.379Z"
   },
   {
    "duration": 12,
    "start_time": "2022-09-08T15:44:12.402Z"
   },
   {
    "duration": 14,
    "start_time": "2022-09-08T15:44:12.415Z"
   },
   {
    "duration": 16,
    "start_time": "2022-09-08T15:44:12.431Z"
   },
   {
    "duration": 10,
    "start_time": "2022-09-08T15:44:12.449Z"
   },
   {
    "duration": 13,
    "start_time": "2022-09-08T15:44:12.462Z"
   },
   {
    "duration": 37,
    "start_time": "2022-09-08T15:44:12.476Z"
   },
   {
    "duration": 24,
    "start_time": "2022-09-08T15:44:12.515Z"
   },
   {
    "duration": 25,
    "start_time": "2022-09-08T15:44:12.541Z"
   },
   {
    "duration": 96,
    "start_time": "2022-09-08T15:44:12.567Z"
   },
   {
    "duration": 18,
    "start_time": "2022-09-08T15:44:12.665Z"
   },
   {
    "duration": 26,
    "start_time": "2022-09-08T15:44:12.685Z"
   },
   {
    "duration": 26,
    "start_time": "2022-09-08T15:44:12.712Z"
   },
   {
    "duration": 10,
    "start_time": "2022-09-08T15:44:12.740Z"
   },
   {
    "duration": 30,
    "start_time": "2022-09-08T15:44:12.752Z"
   },
   {
    "duration": 23,
    "start_time": "2022-09-08T15:44:12.784Z"
   },
   {
    "duration": 17,
    "start_time": "2022-09-08T15:44:12.809Z"
   },
   {
    "duration": 13,
    "start_time": "2022-09-08T15:44:12.828Z"
   },
   {
    "duration": 31,
    "start_time": "2022-09-08T15:45:05.452Z"
   },
   {
    "duration": 7444,
    "start_time": "2022-09-08T16:23:51.758Z"
   },
   {
    "duration": 4,
    "start_time": "2022-09-08T16:23:59.204Z"
   },
   {
    "duration": 267,
    "start_time": "2022-09-08T16:23:59.210Z"
   },
   {
    "duration": 75,
    "start_time": "2022-09-08T16:23:59.479Z"
   },
   {
    "duration": 143,
    "start_time": "2022-09-08T16:23:59.556Z"
   },
   {
    "duration": 69,
    "start_time": "2022-09-08T16:23:59.700Z"
   },
   {
    "duration": 71,
    "start_time": "2022-09-08T16:23:59.770Z"
   },
   {
    "duration": 135,
    "start_time": "2022-09-08T16:23:59.842Z"
   },
   {
    "duration": 71,
    "start_time": "2022-09-08T16:23:59.979Z"
   },
   {
    "duration": 71,
    "start_time": "2022-09-08T16:24:00.053Z"
   },
   {
    "duration": 132,
    "start_time": "2022-09-08T16:24:00.126Z"
   },
   {
    "duration": 90,
    "start_time": "2022-09-08T16:24:00.260Z"
   },
   {
    "duration": 81,
    "start_time": "2022-09-08T16:24:00.351Z"
   },
   {
    "duration": 215,
    "start_time": "2022-09-08T16:24:00.434Z"
   },
   {
    "duration": 84,
    "start_time": "2022-09-08T16:24:00.651Z"
   },
   {
    "duration": 99,
    "start_time": "2022-09-08T16:24:00.737Z"
   },
   {
    "duration": 149,
    "start_time": "2022-09-08T16:24:00.839Z"
   },
   {
    "duration": 71,
    "start_time": "2022-09-08T16:24:00.989Z"
   },
   {
    "duration": 95,
    "start_time": "2022-09-08T16:24:01.062Z"
   },
   {
    "duration": 72,
    "start_time": "2022-09-08T16:24:01.159Z"
   },
   {
    "duration": 79,
    "start_time": "2022-09-08T16:24:01.233Z"
   },
   {
    "duration": 72,
    "start_time": "2022-09-08T16:24:01.313Z"
   },
   {
    "duration": 106,
    "start_time": "2022-09-08T16:26:51.710Z"
   },
   {
    "duration": 103,
    "start_time": "2022-09-08T16:27:24.842Z"
   },
   {
    "duration": 110,
    "start_time": "2022-09-08T16:27:53.790Z"
   },
   {
    "duration": 104,
    "start_time": "2022-09-08T16:28:15.490Z"
   },
   {
    "duration": 111,
    "start_time": "2022-09-08T16:31:27.505Z"
   },
   {
    "duration": 6503,
    "start_time": "2022-09-08T16:32:15.183Z"
   },
   {
    "duration": 3,
    "start_time": "2022-09-08T16:32:21.688Z"
   },
   {
    "duration": 327,
    "start_time": "2022-09-08T16:32:21.692Z"
   },
   {
    "duration": 82,
    "start_time": "2022-09-08T16:32:22.021Z"
   },
   {
    "duration": 154,
    "start_time": "2022-09-08T16:32:22.105Z"
   },
   {
    "duration": 76,
    "start_time": "2022-09-08T16:32:22.261Z"
   },
   {
    "duration": 78,
    "start_time": "2022-09-08T16:32:22.338Z"
   },
   {
    "duration": 153,
    "start_time": "2022-09-08T16:32:22.418Z"
   },
   {
    "duration": 81,
    "start_time": "2022-09-08T16:32:22.573Z"
   },
   {
    "duration": 86,
    "start_time": "2022-09-08T16:32:22.657Z"
   },
   {
    "duration": 150,
    "start_time": "2022-09-08T16:32:22.745Z"
   },
   {
    "duration": 101,
    "start_time": "2022-09-08T16:32:22.897Z"
   },
   {
    "duration": 89,
    "start_time": "2022-09-08T16:32:23.000Z"
   },
   {
    "duration": 205,
    "start_time": "2022-09-08T16:32:23.091Z"
   },
   {
    "duration": 81,
    "start_time": "2022-09-08T16:32:23.297Z"
   },
   {
    "duration": 83,
    "start_time": "2022-09-08T16:32:23.380Z"
   },
   {
    "duration": 155,
    "start_time": "2022-09-08T16:32:23.464Z"
   },
   {
    "duration": 73,
    "start_time": "2022-09-08T16:32:23.621Z"
   },
   {
    "duration": 2,
    "start_time": "2022-09-08T16:32:23.696Z"
   },
   {
    "duration": 105,
    "start_time": "2022-09-08T16:32:23.699Z"
   },
   {
    "duration": 81,
    "start_time": "2022-09-08T16:32:23.808Z"
   },
   {
    "duration": 82,
    "start_time": "2022-09-08T16:32:23.891Z"
   },
   {
    "duration": 77,
    "start_time": "2022-09-08T16:32:23.975Z"
   },
   {
    "duration": 533,
    "start_time": "2022-09-08T16:33:40.871Z"
   },
   {
    "duration": 5042,
    "start_time": "2022-09-08T16:33:41.406Z"
   },
   {
    "duration": 3,
    "start_time": "2022-09-08T16:33:46.450Z"
   },
   {
    "duration": 277,
    "start_time": "2022-09-08T16:33:46.455Z"
   },
   {
    "duration": 81,
    "start_time": "2022-09-08T16:33:46.733Z"
   },
   {
    "duration": 152,
    "start_time": "2022-09-08T16:33:46.815Z"
   },
   {
    "duration": 76,
    "start_time": "2022-09-08T16:33:46.969Z"
   },
   {
    "duration": 78,
    "start_time": "2022-09-08T16:33:47.046Z"
   },
   {
    "duration": 145,
    "start_time": "2022-09-08T16:33:47.126Z"
   },
   {
    "duration": 74,
    "start_time": "2022-09-08T16:33:47.274Z"
   },
   {
    "duration": 78,
    "start_time": "2022-09-08T16:33:47.349Z"
   },
   {
    "duration": 145,
    "start_time": "2022-09-08T16:33:47.428Z"
   },
   {
    "duration": 108,
    "start_time": "2022-09-08T16:33:47.574Z"
   },
   {
    "duration": 108,
    "start_time": "2022-09-08T16:33:47.684Z"
   },
   {
    "duration": 210,
    "start_time": "2022-09-08T16:33:47.794Z"
   },
   {
    "duration": 83,
    "start_time": "2022-09-08T16:33:48.006Z"
   },
   {
    "duration": 84,
    "start_time": "2022-09-08T16:33:48.091Z"
   },
   {
    "duration": 155,
    "start_time": "2022-09-08T16:33:48.177Z"
   },
   {
    "duration": 75,
    "start_time": "2022-09-08T16:33:48.333Z"
   },
   {
    "duration": 3,
    "start_time": "2022-09-08T16:33:48.409Z"
   },
   {
    "duration": 112,
    "start_time": "2022-09-08T16:33:48.414Z"
   },
   {
    "duration": 79,
    "start_time": "2022-09-08T16:33:48.528Z"
   },
   {
    "duration": 82,
    "start_time": "2022-09-08T16:33:48.608Z"
   },
   {
    "duration": 75,
    "start_time": "2022-09-08T16:33:48.692Z"
   },
   {
    "duration": 5985,
    "start_time": "2022-09-08T16:38:06.370Z"
   },
   {
    "duration": 3,
    "start_time": "2022-09-08T16:38:12.357Z"
   },
   {
    "duration": 289,
    "start_time": "2022-09-08T16:38:12.361Z"
   },
   {
    "duration": 80,
    "start_time": "2022-09-08T16:38:12.652Z"
   },
   {
    "duration": 151,
    "start_time": "2022-09-08T16:38:12.733Z"
   },
   {
    "duration": 77,
    "start_time": "2022-09-08T16:38:12.886Z"
   },
   {
    "duration": 78,
    "start_time": "2022-09-08T16:38:12.965Z"
   },
   {
    "duration": 147,
    "start_time": "2022-09-08T16:38:13.044Z"
   },
   {
    "duration": 75,
    "start_time": "2022-09-08T16:38:13.192Z"
   },
   {
    "duration": 78,
    "start_time": "2022-09-08T16:38:13.270Z"
   },
   {
    "duration": 147,
    "start_time": "2022-09-08T16:38:13.350Z"
   },
   {
    "duration": 112,
    "start_time": "2022-09-08T16:38:13.499Z"
   },
   {
    "duration": 91,
    "start_time": "2022-09-08T16:38:13.613Z"
   },
   {
    "duration": 214,
    "start_time": "2022-09-08T16:38:13.707Z"
   },
   {
    "duration": 82,
    "start_time": "2022-09-08T16:38:13.923Z"
   },
   {
    "duration": 86,
    "start_time": "2022-09-08T16:38:14.007Z"
   },
   {
    "duration": 162,
    "start_time": "2022-09-08T16:38:14.096Z"
   },
   {
    "duration": 75,
    "start_time": "2022-09-08T16:38:14.259Z"
   },
   {
    "duration": 3,
    "start_time": "2022-09-08T16:38:14.336Z"
   },
   {
    "duration": 130,
    "start_time": "2022-09-08T16:38:14.341Z"
   },
   {
    "duration": 77,
    "start_time": "2022-09-08T16:38:14.472Z"
   },
   {
    "duration": 80,
    "start_time": "2022-09-08T16:38:14.551Z"
   },
   {
    "duration": 77,
    "start_time": "2022-09-08T16:38:14.633Z"
   },
   {
    "duration": 6974,
    "start_time": "2022-09-09T12:20:47.566Z"
   },
   {
    "duration": 4,
    "start_time": "2022-09-09T12:20:54.543Z"
   },
   {
    "duration": 299,
    "start_time": "2022-09-09T12:20:54.549Z"
   },
   {
    "duration": 87,
    "start_time": "2022-09-09T12:20:54.851Z"
   },
   {
    "duration": 148,
    "start_time": "2022-09-09T12:20:54.940Z"
   },
   {
    "duration": 75,
    "start_time": "2022-09-09T12:20:55.090Z"
   },
   {
    "duration": 82,
    "start_time": "2022-09-09T12:20:55.167Z"
   },
   {
    "duration": 150,
    "start_time": "2022-09-09T12:20:55.251Z"
   },
   {
    "duration": 72,
    "start_time": "2022-09-09T12:20:55.403Z"
   },
   {
    "duration": 79,
    "start_time": "2022-09-09T12:20:55.478Z"
   },
   {
    "duration": 148,
    "start_time": "2022-09-09T12:20:55.559Z"
   },
   {
    "duration": 97,
    "start_time": "2022-09-09T12:20:55.709Z"
   },
   {
    "duration": 98,
    "start_time": "2022-09-09T12:20:55.808Z"
   },
   {
    "duration": 221,
    "start_time": "2022-09-09T12:20:55.908Z"
   },
   {
    "duration": 80,
    "start_time": "2022-09-09T12:20:56.130Z"
   },
   {
    "duration": 81,
    "start_time": "2022-09-09T12:20:56.211Z"
   },
   {
    "duration": 156,
    "start_time": "2022-09-09T12:20:56.294Z"
   },
   {
    "duration": 72,
    "start_time": "2022-09-09T12:20:56.452Z"
   },
   {
    "duration": 2,
    "start_time": "2022-09-09T12:20:56.526Z"
   },
   {
    "duration": 102,
    "start_time": "2022-09-09T12:20:56.530Z"
   },
   {
    "duration": 75,
    "start_time": "2022-09-09T12:20:56.634Z"
   },
   {
    "duration": 81,
    "start_time": "2022-09-09T12:20:56.710Z"
   },
   {
    "duration": 75,
    "start_time": "2022-09-09T12:20:56.793Z"
   }
  ],
  "kernelspec": {
   "display_name": "Python 3 (ipykernel)",
   "language": "python",
   "name": "python3"
  },
  "language_info": {
   "codemirror_mode": {
    "name": "ipython",
    "version": 3
   },
   "file_extension": ".py",
   "mimetype": "text/x-python",
   "name": "python",
   "nbconvert_exporter": "python",
   "pygments_lexer": "ipython3",
   "version": "3.9.13"
  },
  "toc": {
   "base_numbering": 1,
   "nav_menu": {},
   "number_sections": true,
   "sideBar": true,
   "skip_h1_title": true,
   "title_cell": "Table of Contents",
   "title_sidebar": "Contents",
   "toc_cell": false,
   "toc_position": {},
   "toc_section_display": true,
   "toc_window_display": true
  }
 },
 "nbformat": 4,
 "nbformat_minor": 2
}
