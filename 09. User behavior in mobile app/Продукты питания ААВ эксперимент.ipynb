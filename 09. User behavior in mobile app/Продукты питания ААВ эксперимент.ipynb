{
 "cells": [
  {
   "cell_type": "markdown",
   "metadata": {},
   "source": [
    "# Описание проекта\n",
    "\n",
    "    Проект - анализ поведения пользователей мобильного приложения по продаже продуктов питания.\n",
    "\n",
    "    Цели исследования: \n",
    "    \n",
    "    - Изучение воронки продаж: сколько пользователей доходят до покупки в приложении и как они это делают; \n",
    "    что мешает остальным пользователям дойти до покупки;\n",
    "    - Исследование результатов А/А/В эксперимента: как изменение шрифта в приложении повлияет на поведение\n",
    "    пользователей; нужно ли менять шрифт или оставить прежний. \n",
    "    \n",
    "    Ход исследования: \n",
    "    \n",
    "    - Загрузка данных и подготовка к анализу\n",
    "    - Предобработка данных.\n",
    "    - Анализ данных и составление расчетов.\n",
    "    - Общий вывод\n",
    "    \n",
    "# Описание данных\n",
    "\n",
    "    Файл с данными: \" /datasets/logs_exp.csv \"\n",
    "    \n",
    "    - EventName — название события;\n",
    "    - DeviceIDHash — уникальный идентификатор пользователя;\n",
    "    - EventTimestamp — время события;\n",
    "    - ExpId — номер эксперимента: 246 и 247 — контрольные группы, а 248 — экспериментальная."
   ]
  },
  {
   "cell_type": "markdown",
   "metadata": {},
   "source": [
    "## Загрузка данных и подготовка к анализу"
   ]
  },
  {
   "cell_type": "code",
   "execution_count": 1,
   "metadata": {},
   "outputs": [],
   "source": [
    "import pandas as pd\n",
    "import datetime as dt\n",
    "import numpy as np\n",
    "import math as mth\n",
    "import scipy.stats as st\n",
    "import matplotlib.pyplot as plt\n",
    "import seaborn as sns\n",
    "from pandas.plotting import register_matplotlib_converters\n",
    "import warnings\n",
    "register_matplotlib_converters()\n",
    "import plotly.express as px\n",
    "from plotly import graph_objects as go"
   ]
  },
  {
   "cell_type": "code",
   "execution_count": 2,
   "metadata": {},
   "outputs": [
    {
     "data": {
      "text/html": [
       "<div>\n",
       "<style scoped>\n",
       "    .dataframe tbody tr th:only-of-type {\n",
       "        vertical-align: middle;\n",
       "    }\n",
       "\n",
       "    .dataframe tbody tr th {\n",
       "        vertical-align: top;\n",
       "    }\n",
       "\n",
       "    .dataframe thead th {\n",
       "        text-align: right;\n",
       "    }\n",
       "</style>\n",
       "<table border=\"1\" class=\"dataframe\">\n",
       "  <thead>\n",
       "    <tr style=\"text-align: right;\">\n",
       "      <th></th>\n",
       "      <th>EventName\\tDeviceIDHash\\tEventTimestamp\\tExpId</th>\n",
       "    </tr>\n",
       "  </thead>\n",
       "  <tbody>\n",
       "    <tr>\n",
       "      <th>0</th>\n",
       "      <td>MainScreenAppear\\t4575588528974610257\\t1564029...</td>\n",
       "    </tr>\n",
       "    <tr>\n",
       "      <th>1</th>\n",
       "      <td>MainScreenAppear\\t7416695313311560658\\t1564053...</td>\n",
       "    </tr>\n",
       "    <tr>\n",
       "      <th>2</th>\n",
       "      <td>PaymentScreenSuccessful\\t3518123091307005509\\t...</td>\n",
       "    </tr>\n",
       "    <tr>\n",
       "      <th>3</th>\n",
       "      <td>CartScreenAppear\\t3518123091307005509\\t1564054...</td>\n",
       "    </tr>\n",
       "    <tr>\n",
       "      <th>4</th>\n",
       "      <td>PaymentScreenSuccessful\\t6217807653094995999\\t...</td>\n",
       "    </tr>\n",
       "  </tbody>\n",
       "</table>\n",
       "</div>"
      ],
      "text/plain": [
       "      EventName\\tDeviceIDHash\\tEventTimestamp\\tExpId\n",
       "0  MainScreenAppear\\t4575588528974610257\\t1564029...\n",
       "1  MainScreenAppear\\t7416695313311560658\\t1564053...\n",
       "2  PaymentScreenSuccessful\\t3518123091307005509\\t...\n",
       "3  CartScreenAppear\\t3518123091307005509\\t1564054...\n",
       "4  PaymentScreenSuccessful\\t6217807653094995999\\t..."
      ]
     },
     "execution_count": 2,
     "metadata": {},
     "output_type": "execute_result"
    }
   ],
   "source": [
    "data = pd.read_csv('/datasets/logs_exp.csv')\n",
    "data.head()"
   ]
  },
  {
   "cell_type": "code",
   "execution_count": 3,
   "metadata": {
    "scrolled": true
   },
   "outputs": [
    {
     "data": {
      "text/html": [
       "<div>\n",
       "<style scoped>\n",
       "    .dataframe tbody tr th:only-of-type {\n",
       "        vertical-align: middle;\n",
       "    }\n",
       "\n",
       "    .dataframe tbody tr th {\n",
       "        vertical-align: top;\n",
       "    }\n",
       "\n",
       "    .dataframe thead th {\n",
       "        text-align: right;\n",
       "    }\n",
       "</style>\n",
       "<table border=\"1\" class=\"dataframe\">\n",
       "  <thead>\n",
       "    <tr style=\"text-align: right;\">\n",
       "      <th></th>\n",
       "      <th>EventName</th>\n",
       "      <th>DeviceIDHash</th>\n",
       "      <th>EventTimestamp</th>\n",
       "      <th>ExpId</th>\n",
       "    </tr>\n",
       "  </thead>\n",
       "  <tbody>\n",
       "    <tr>\n",
       "      <th>0</th>\n",
       "      <td>MainScreenAppear</td>\n",
       "      <td>4575588528974610257</td>\n",
       "      <td>1564029816</td>\n",
       "      <td>246</td>\n",
       "    </tr>\n",
       "    <tr>\n",
       "      <th>1</th>\n",
       "      <td>MainScreenAppear</td>\n",
       "      <td>7416695313311560658</td>\n",
       "      <td>1564053102</td>\n",
       "      <td>246</td>\n",
       "    </tr>\n",
       "    <tr>\n",
       "      <th>2</th>\n",
       "      <td>PaymentScreenSuccessful</td>\n",
       "      <td>3518123091307005509</td>\n",
       "      <td>1564054127</td>\n",
       "      <td>248</td>\n",
       "    </tr>\n",
       "    <tr>\n",
       "      <th>3</th>\n",
       "      <td>CartScreenAppear</td>\n",
       "      <td>3518123091307005509</td>\n",
       "      <td>1564054127</td>\n",
       "      <td>248</td>\n",
       "    </tr>\n",
       "    <tr>\n",
       "      <th>4</th>\n",
       "      <td>PaymentScreenSuccessful</td>\n",
       "      <td>6217807653094995999</td>\n",
       "      <td>1564055322</td>\n",
       "      <td>248</td>\n",
       "    </tr>\n",
       "  </tbody>\n",
       "</table>\n",
       "</div>"
      ],
      "text/plain": [
       "                 EventName         DeviceIDHash  EventTimestamp  ExpId\n",
       "0         MainScreenAppear  4575588528974610257      1564029816    246\n",
       "1         MainScreenAppear  7416695313311560658      1564053102    246\n",
       "2  PaymentScreenSuccessful  3518123091307005509      1564054127    248\n",
       "3         CartScreenAppear  3518123091307005509      1564054127    248\n",
       "4  PaymentScreenSuccessful  6217807653094995999      1564055322    248"
      ]
     },
     "execution_count": 3,
     "metadata": {},
     "output_type": "execute_result"
    }
   ],
   "source": [
    "# Необходимо разделить данные\n",
    "data = pd.read_csv('/datasets/logs_exp.csv', sep='\\t')\n",
    "data.head()"
   ]
  },
  {
   "cell_type": "code",
   "execution_count": 4,
   "metadata": {},
   "outputs": [
    {
     "name": "stdout",
     "output_type": "stream",
     "text": [
      "<class 'pandas.core.frame.DataFrame'>\n",
      "RangeIndex: 244126 entries, 0 to 244125\n",
      "Data columns (total 4 columns):\n",
      " #   Column          Non-Null Count   Dtype \n",
      "---  ------          --------------   ----- \n",
      " 0   EventName       244126 non-null  object\n",
      " 1   DeviceIDHash    244126 non-null  int64 \n",
      " 2   EventTimestamp  244126 non-null  int64 \n",
      " 3   ExpId           244126 non-null  int64 \n",
      "dtypes: int64(3), object(1)\n",
      "memory usage: 7.5+ MB\n"
     ]
    }
   ],
   "source": [
    "data.info()"
   ]
  },
  {
   "cell_type": "markdown",
   "metadata": {},
   "source": [
    "## Предобработка данных "
   ]
  },
  {
   "cell_type": "code",
   "execution_count": 5,
   "metadata": {},
   "outputs": [
    {
     "data": {
      "text/html": [
       "<div>\n",
       "<style scoped>\n",
       "    .dataframe tbody tr th:only-of-type {\n",
       "        vertical-align: middle;\n",
       "    }\n",
       "\n",
       "    .dataframe tbody tr th {\n",
       "        vertical-align: top;\n",
       "    }\n",
       "\n",
       "    .dataframe thead th {\n",
       "        text-align: right;\n",
       "    }\n",
       "</style>\n",
       "<table border=\"1\" class=\"dataframe\">\n",
       "  <thead>\n",
       "    <tr style=\"text-align: right;\">\n",
       "      <th></th>\n",
       "      <th>event</th>\n",
       "      <th>user_id</th>\n",
       "      <th>event_ts</th>\n",
       "      <th>group</th>\n",
       "    </tr>\n",
       "  </thead>\n",
       "  <tbody>\n",
       "    <tr>\n",
       "      <th>0</th>\n",
       "      <td>MainScreenAppear</td>\n",
       "      <td>4575588528974610257</td>\n",
       "      <td>1564029816</td>\n",
       "      <td>246</td>\n",
       "    </tr>\n",
       "    <tr>\n",
       "      <th>1</th>\n",
       "      <td>MainScreenAppear</td>\n",
       "      <td>7416695313311560658</td>\n",
       "      <td>1564053102</td>\n",
       "      <td>246</td>\n",
       "    </tr>\n",
       "    <tr>\n",
       "      <th>2</th>\n",
       "      <td>PaymentScreenSuccessful</td>\n",
       "      <td>3518123091307005509</td>\n",
       "      <td>1564054127</td>\n",
       "      <td>248</td>\n",
       "    </tr>\n",
       "    <tr>\n",
       "      <th>3</th>\n",
       "      <td>CartScreenAppear</td>\n",
       "      <td>3518123091307005509</td>\n",
       "      <td>1564054127</td>\n",
       "      <td>248</td>\n",
       "    </tr>\n",
       "    <tr>\n",
       "      <th>4</th>\n",
       "      <td>PaymentScreenSuccessful</td>\n",
       "      <td>6217807653094995999</td>\n",
       "      <td>1564055322</td>\n",
       "      <td>248</td>\n",
       "    </tr>\n",
       "  </tbody>\n",
       "</table>\n",
       "</div>"
      ],
      "text/plain": [
       "                     event              user_id    event_ts  group\n",
       "0         MainScreenAppear  4575588528974610257  1564029816    246\n",
       "1         MainScreenAppear  7416695313311560658  1564053102    246\n",
       "2  PaymentScreenSuccessful  3518123091307005509  1564054127    248\n",
       "3         CartScreenAppear  3518123091307005509  1564054127    248\n",
       "4  PaymentScreenSuccessful  6217807653094995999  1564055322    248"
      ]
     },
     "execution_count": 5,
     "metadata": {},
     "output_type": "execute_result"
    }
   ],
   "source": [
    "# Заменим названия столбцов на более удобные\n",
    "\n",
    "# data.columns=['event', 'user_id', 'event_ts', 'group']\n",
    "data.rename(columns= {'EventName':'event', 'DeviceIDHash':'user_id', 'EventTimestamp':'event_ts', 'ExpId':'group'}, inplace=True) \n",
    "data.head()"
   ]
  },
  {
   "cell_type": "code",
   "execution_count": 6,
   "metadata": {},
   "outputs": [
    {
     "data": {
      "text/plain": [
       "event       0\n",
       "user_id     0\n",
       "event_ts    0\n",
       "group       0\n",
       "dtype: int64"
      ]
     },
     "execution_count": 6,
     "metadata": {},
     "output_type": "execute_result"
    }
   ],
   "source": [
    "# Проверка на пропуски\n",
    "data.isna().sum()"
   ]
  },
  {
   "cell_type": "markdown",
   "metadata": {},
   "source": [
    "    Пропусков нет"
   ]
  },
  {
   "cell_type": "code",
   "execution_count": 7,
   "metadata": {},
   "outputs": [
    {
     "data": {
      "text/plain": [
       "413"
      ]
     },
     "execution_count": 7,
     "metadata": {},
     "output_type": "execute_result"
    }
   ],
   "source": [
    "# Проверка на дубликаты\n",
    "data.duplicated().sum()"
   ]
  },
  {
   "cell_type": "markdown",
   "metadata": {},
   "source": [
    "    Кол-во дубликатов = 413. Возможно это технические ошибки выгрузки, так как время указано вплоть до секунд. Вряд ли один и тот же пользователь в ту же секунду совершил одно и то же действие. Удалим дубликаты методом drop_duplicates."
   ]
  },
  {
   "cell_type": "code",
   "execution_count": 8,
   "metadata": {},
   "outputs": [
    {
     "name": "stdout",
     "output_type": "stream",
     "text": [
      "<class 'pandas.core.frame.DataFrame'>\n",
      "Int64Index: 243713 entries, 0 to 244125\n",
      "Data columns (total 4 columns):\n",
      " #   Column    Non-Null Count   Dtype \n",
      "---  ------    --------------   ----- \n",
      " 0   event     243713 non-null  object\n",
      " 1   user_id   243713 non-null  int64 \n",
      " 2   event_ts  243713 non-null  int64 \n",
      " 3   group     243713 non-null  int64 \n",
      "dtypes: int64(3), object(1)\n",
      "memory usage: 9.3+ MB\n"
     ]
    }
   ],
   "source": [
    "data.drop_duplicates(inplace=True)\n",
    "data.info()"
   ]
  },
  {
   "cell_type": "markdown",
   "metadata": {},
   "source": [
    "    Также следует проверить, нет ли у нас пользователей, находящихся одновременно в разных группах"
   ]
  },
  {
   "cell_type": "code",
   "execution_count": 9,
   "metadata": {},
   "outputs": [
    {
     "data": {
      "text/plain": [
       "event          0\n",
       "user_id        0\n",
       "event_ts       0\n",
       "group          0\n",
       "group_count    0\n",
       "dtype: int64"
      ]
     },
     "execution_count": 9,
     "metadata": {},
     "output_type": "execute_result"
    }
   ],
   "source": [
    "count_groups = data.groupby('user_id')['group'].nunique()\n",
    "count_groups\n",
    "data = data.merge(count_groups, on=['user_id'])\n",
    "#data.head()\n",
    "data.rename(columns = {'group_x':'group', 'group_y':'group_count'}, inplace = True)\n",
    "#data.head()\n",
    "data.query('group_count!=1').count()"
   ]
  },
  {
   "cell_type": "code",
   "execution_count": 10,
   "metadata": {},
   "outputs": [
    {
     "data": {
      "text/html": [
       "<div>\n",
       "<style scoped>\n",
       "    .dataframe tbody tr th:only-of-type {\n",
       "        vertical-align: middle;\n",
       "    }\n",
       "\n",
       "    .dataframe tbody tr th {\n",
       "        vertical-align: top;\n",
       "    }\n",
       "\n",
       "    .dataframe thead th {\n",
       "        text-align: right;\n",
       "    }\n",
       "</style>\n",
       "<table border=\"1\" class=\"dataframe\">\n",
       "  <thead>\n",
       "    <tr style=\"text-align: right;\">\n",
       "      <th></th>\n",
       "      <th>event</th>\n",
       "      <th>user_id</th>\n",
       "      <th>event_ts</th>\n",
       "      <th>group</th>\n",
       "      <th>group_count</th>\n",
       "      <th>event_dt</th>\n",
       "    </tr>\n",
       "  </thead>\n",
       "  <tbody>\n",
       "    <tr>\n",
       "      <th>0</th>\n",
       "      <td>MainScreenAppear</td>\n",
       "      <td>4575588528974610257</td>\n",
       "      <td>1564029816</td>\n",
       "      <td>246</td>\n",
       "      <td>1</td>\n",
       "      <td>2019-07-25 04:43:36</td>\n",
       "    </tr>\n",
       "    <tr>\n",
       "      <th>1</th>\n",
       "      <td>MainScreenAppear</td>\n",
       "      <td>4575588528974610257</td>\n",
       "      <td>1564633800</td>\n",
       "      <td>246</td>\n",
       "      <td>1</td>\n",
       "      <td>2019-08-01 04:30:00</td>\n",
       "    </tr>\n",
       "    <tr>\n",
       "      <th>2</th>\n",
       "      <td>MainScreenAppear</td>\n",
       "      <td>4575588528974610257</td>\n",
       "      <td>1564888031</td>\n",
       "      <td>246</td>\n",
       "      <td>1</td>\n",
       "      <td>2019-08-04 03:07:11</td>\n",
       "    </tr>\n",
       "    <tr>\n",
       "      <th>3</th>\n",
       "      <td>OffersScreenAppear</td>\n",
       "      <td>4575588528974610257</td>\n",
       "      <td>1564888070</td>\n",
       "      <td>246</td>\n",
       "      <td>1</td>\n",
       "      <td>2019-08-04 03:07:50</td>\n",
       "    </tr>\n",
       "    <tr>\n",
       "      <th>4</th>\n",
       "      <td>MainScreenAppear</td>\n",
       "      <td>4575588528974610257</td>\n",
       "      <td>1564888143</td>\n",
       "      <td>246</td>\n",
       "      <td>1</td>\n",
       "      <td>2019-08-04 03:09:03</td>\n",
       "    </tr>\n",
       "  </tbody>\n",
       "</table>\n",
       "</div>"
      ],
      "text/plain": [
       "                event              user_id    event_ts  group  group_count  \\\n",
       "0    MainScreenAppear  4575588528974610257  1564029816    246            1   \n",
       "1    MainScreenAppear  4575588528974610257  1564633800    246            1   \n",
       "2    MainScreenAppear  4575588528974610257  1564888031    246            1   \n",
       "3  OffersScreenAppear  4575588528974610257  1564888070    246            1   \n",
       "4    MainScreenAppear  4575588528974610257  1564888143    246            1   \n",
       "\n",
       "             event_dt  \n",
       "0 2019-07-25 04:43:36  \n",
       "1 2019-08-01 04:30:00  \n",
       "2 2019-08-04 03:07:11  \n",
       "3 2019-08-04 03:07:50  \n",
       "4 2019-08-04 03:09:03  "
      ]
     },
     "execution_count": 10,
     "metadata": {},
     "output_type": "execute_result"
    }
   ],
   "source": [
    "# Добавим столбец даты и времени, а также отдельный столбец дат\n",
    "data['event_dt'] = pd.to_datetime(data['event_ts'], unit='s')\n",
    "data.head()"
   ]
  },
  {
   "cell_type": "code",
   "execution_count": 11,
   "metadata": {},
   "outputs": [
    {
     "data": {
      "text/html": [
       "<div>\n",
       "<style scoped>\n",
       "    .dataframe tbody tr th:only-of-type {\n",
       "        vertical-align: middle;\n",
       "    }\n",
       "\n",
       "    .dataframe tbody tr th {\n",
       "        vertical-align: top;\n",
       "    }\n",
       "\n",
       "    .dataframe thead th {\n",
       "        text-align: right;\n",
       "    }\n",
       "</style>\n",
       "<table border=\"1\" class=\"dataframe\">\n",
       "  <thead>\n",
       "    <tr style=\"text-align: right;\">\n",
       "      <th></th>\n",
       "      <th>event</th>\n",
       "      <th>user_id</th>\n",
       "      <th>event_ts</th>\n",
       "      <th>group</th>\n",
       "      <th>group_count</th>\n",
       "      <th>event_dt</th>\n",
       "      <th>date</th>\n",
       "    </tr>\n",
       "  </thead>\n",
       "  <tbody>\n",
       "    <tr>\n",
       "      <th>0</th>\n",
       "      <td>MainScreenAppear</td>\n",
       "      <td>4575588528974610257</td>\n",
       "      <td>1564029816</td>\n",
       "      <td>246</td>\n",
       "      <td>1</td>\n",
       "      <td>2019-07-25 04:43:36</td>\n",
       "      <td>2019-07-25</td>\n",
       "    </tr>\n",
       "    <tr>\n",
       "      <th>1</th>\n",
       "      <td>MainScreenAppear</td>\n",
       "      <td>4575588528974610257</td>\n",
       "      <td>1564633800</td>\n",
       "      <td>246</td>\n",
       "      <td>1</td>\n",
       "      <td>2019-08-01 04:30:00</td>\n",
       "      <td>2019-08-01</td>\n",
       "    </tr>\n",
       "    <tr>\n",
       "      <th>2</th>\n",
       "      <td>MainScreenAppear</td>\n",
       "      <td>4575588528974610257</td>\n",
       "      <td>1564888031</td>\n",
       "      <td>246</td>\n",
       "      <td>1</td>\n",
       "      <td>2019-08-04 03:07:11</td>\n",
       "      <td>2019-08-04</td>\n",
       "    </tr>\n",
       "    <tr>\n",
       "      <th>3</th>\n",
       "      <td>OffersScreenAppear</td>\n",
       "      <td>4575588528974610257</td>\n",
       "      <td>1564888070</td>\n",
       "      <td>246</td>\n",
       "      <td>1</td>\n",
       "      <td>2019-08-04 03:07:50</td>\n",
       "      <td>2019-08-04</td>\n",
       "    </tr>\n",
       "    <tr>\n",
       "      <th>4</th>\n",
       "      <td>MainScreenAppear</td>\n",
       "      <td>4575588528974610257</td>\n",
       "      <td>1564888143</td>\n",
       "      <td>246</td>\n",
       "      <td>1</td>\n",
       "      <td>2019-08-04 03:09:03</td>\n",
       "      <td>2019-08-04</td>\n",
       "    </tr>\n",
       "  </tbody>\n",
       "</table>\n",
       "</div>"
      ],
      "text/plain": [
       "                event              user_id    event_ts  group  group_count  \\\n",
       "0    MainScreenAppear  4575588528974610257  1564029816    246            1   \n",
       "1    MainScreenAppear  4575588528974610257  1564633800    246            1   \n",
       "2    MainScreenAppear  4575588528974610257  1564888031    246            1   \n",
       "3  OffersScreenAppear  4575588528974610257  1564888070    246            1   \n",
       "4    MainScreenAppear  4575588528974610257  1564888143    246            1   \n",
       "\n",
       "             event_dt        date  \n",
       "0 2019-07-25 04:43:36  2019-07-25  \n",
       "1 2019-08-01 04:30:00  2019-08-01  \n",
       "2 2019-08-04 03:07:11  2019-08-04  \n",
       "3 2019-08-04 03:07:50  2019-08-04  \n",
       "4 2019-08-04 03:09:03  2019-08-04  "
      ]
     },
     "execution_count": 11,
     "metadata": {},
     "output_type": "execute_result"
    }
   ],
   "source": [
    "data['date'] = data['event_dt'].dt.date\n",
    "data.head()"
   ]
  },
  {
   "cell_type": "code",
   "execution_count": 12,
   "metadata": {},
   "outputs": [
    {
     "name": "stdout",
     "output_type": "stream",
     "text": [
      "<class 'pandas.core.frame.DataFrame'>\n",
      "Int64Index: 243713 entries, 0 to 243712\n",
      "Data columns (total 7 columns):\n",
      " #   Column       Non-Null Count   Dtype         \n",
      "---  ------       --------------   -----         \n",
      " 0   event        243713 non-null  object        \n",
      " 1   user_id      243713 non-null  int64         \n",
      " 2   event_ts     243713 non-null  int64         \n",
      " 3   group        243713 non-null  int64         \n",
      " 4   group_count  243713 non-null  int64         \n",
      " 5   event_dt     243713 non-null  datetime64[ns]\n",
      " 6   date         243713 non-null  object        \n",
      "dtypes: datetime64[ns](1), int64(4), object(2)\n",
      "memory usage: 14.9+ MB\n"
     ]
    }
   ],
   "source": [
    "data.info()"
   ]
  },
  {
   "cell_type": "markdown",
   "metadata": {},
   "source": [
    "## Анализ данных и составление расчетов.\n"
   ]
  },
  {
   "cell_type": "markdown",
   "metadata": {},
   "source": [
    "### Изучение и проверка данных  "
   ]
  },
  {
   "cell_type": "code",
   "execution_count": 13,
   "metadata": {},
   "outputs": [
    {
     "data": {
      "text/plain": [
       "243713"
      ]
     },
     "execution_count": 13,
     "metadata": {},
     "output_type": "execute_result"
    }
   ],
   "source": [
    "# Посчитаем, сколько всего событий в логе\n",
    "len(data['event'])"
   ]
  },
  {
   "cell_type": "code",
   "execution_count": 14,
   "metadata": {},
   "outputs": [
    {
     "data": {
      "text/plain": [
       "5"
      ]
     },
     "metadata": {},
     "output_type": "display_data"
    },
    {
     "data": {
      "text/plain": [
       "array(['MainScreenAppear', 'OffersScreenAppear', 'CartScreenAppear',\n",
       "       'PaymentScreenSuccessful', 'Tutorial'], dtype=object)"
      ]
     },
     "execution_count": 14,
     "metadata": {},
     "output_type": "execute_result"
    }
   ],
   "source": [
    "# Сколько всего уникальных событий в логе\n",
    "display(data['event'].nunique())\n",
    "data['event'].unique()"
   ]
  },
  {
   "cell_type": "code",
   "execution_count": 15,
   "metadata": {},
   "outputs": [
    {
     "data": {
      "text/plain": [
       "7551"
      ]
     },
     "execution_count": 15,
     "metadata": {},
     "output_type": "execute_result"
    }
   ],
   "source": [
    "# Сколько всего пользователей в логе\n",
    "data['user_id'].nunique()"
   ]
  },
  {
   "cell_type": "code",
   "execution_count": 16,
   "metadata": {},
   "outputs": [
    {
     "data": {
      "text/plain": [
       "20.0"
      ]
     },
     "metadata": {},
     "output_type": "display_data"
    },
    {
     "data": {
      "text/plain": [
       "count    7551.000000\n",
       "mean       32.275593\n",
       "std        65.154219\n",
       "min         1.000000\n",
       "25%         9.000000\n",
       "50%        20.000000\n",
       "75%        37.000000\n",
       "max      2307.000000\n",
       "Name: event_ts, dtype: float64"
      ]
     },
     "execution_count": 16,
     "metadata": {},
     "output_type": "execute_result"
    }
   ],
   "source": [
    "# Сколько в среднем событий приходится на пользователя?\n",
    "user_events = data.groupby('user_id'\n",
    "                          ).agg({'event_ts':'count'}\n",
    "                               ).sort_values(by='event_ts',ascending=False\n",
    "                                            ).reset_index()\n",
    "\n",
    "display(user_events['event_ts'].median())\n",
    "user_events['event_ts'].describe()\n"
   ]
  },
  {
   "cell_type": "code",
   "execution_count": 17,
   "metadata": {},
   "outputs": [
    {
     "data": {
      "text/plain": [
       "Timestamp('2019-07-25 04:43:36')"
      ]
     },
     "metadata": {},
     "output_type": "display_data"
    },
    {
     "data": {
      "text/plain": [
       "Timestamp('2019-08-07 21:15:17')"
      ]
     },
     "execution_count": 17,
     "metadata": {},
     "output_type": "execute_result"
    }
   ],
   "source": [
    "# Данными за какой период вы располагаете? Найдите максимальную и минимальную дату.\n",
    "display(data['event_dt'].min())\n",
    "data['event_dt'].max()"
   ]
  },
  {
   "cell_type": "markdown",
   "metadata": {},
   "source": [
    "    У нас имеется лог, в котором записаны 243 713 событий. Всего у нас 5 типов событий:\n",
    "    - \"MainScreenAppear\" - главная страница;\n",
    "    - \"OffersScreenAppear\" - страница предложений (каталог);\n",
    "    - \"CartScreenAppear\" - страница корзины;\n",
    "    - \"PaymentScreenSuccessful\" - страница успешной оплаты; \n",
    "    - \"Tutorial\" - обучающая страница как оформить покупку товара\n",
    "    \n",
    "    Все записи лога зафиксированы в промежутке с '2019-07-25 04:43:36' по '2019-08-07 21:15:17'.\n",
    "    За этот период мобильное приложение посетил 7551 пользователь. \n",
    "    В среднем на одного пользователя приходится 32 события (медиана = 20 событий).\n",
    "    "
   ]
  },
  {
   "cell_type": "markdown",
   "metadata": {},
   "source": [
    "   ### Определение корректных данных. Отсеивание старых записей"
   ]
  },
  {
   "cell_type": "code",
   "execution_count": 19,
   "metadata": {},
   "outputs": [
    {
     "data": {
      "image/png": "[encoded data removed]",
      "text/plain": [
       "<Figure size 864x360 with 1 Axes>"
      ]
     },
     "metadata": {
      "needs_background": "light"
     },
     "output_type": "display_data"
    }
   ],
   "source": [
    "# Гистограмма по дате и времени. \n",
    "data['event_dt'].hist(bins=1000, figsize=(12,5))\n",
    "plt.xticks(rotation=40)\n",
    "plt.xlabel('Дата посещения', fontsize=14)\n",
    "plt.ylabel('Количество событий', fontsize=14)\n",
    "plt.title('Распределение количества событий по дням', fontsize=18)\n",
    "plt.show(block=False)"
   ]
  },
  {
   "cell_type": "markdown",
   "metadata": {},
   "source": [
    "    По графику распределения видно, что у нас неполные данные с 25 июля до 01 августа 2019. \n",
    "    Скорее всего, подобный \"перекос\" данных связан с тем, что в логи по некоторым пользователям попали события из прошлого. \n",
    "    Таким образом, мы можем анализировать данные с 1 августа 2019 года."
   ]
  },
  {
   "cell_type": "code",
   "execution_count": null,
   "metadata": {},
   "outputs": [],
   "source": [
    "# Отбросим неполные старые данные\n",
    "good_data = data.query('event_dt >= \"2019-08-01\"')\n",
    "\n",
    "# Сколько событий и пользователей потерялось при урезании данных\n",
    "event_delta = len(data['event_dt']) - len(good_data['event_dt'])\n",
    "users_delta = data['user_id'].nunique() - good_data['user_id'].nunique()\n",
    "\n",
    "display(\"Количество потерянных событий:\", event_delta)\n",
    "display('Количество потерянных пользователей:', users_delta)"
   ]
  },
  {
   "cell_type": "code",
   "execution_count": null,
   "metadata": {},
   "outputs": [],
   "source": [
    "display((len(data['event_ts']) - len(good_data['event_ts'])) / len(data['event_ts'])*100)\n",
    "(len(data['user_id'].unique()) - len(good_data['user_id'].unique())) / len(data['user_id'].unique())*100"
   ]
  },
  {
   "cell_type": "markdown",
   "metadata": {},
   "source": [
    "    При урезании потеряли всего 1,16% данных и 0,225% пользователей"
   ]
  },
  {
   "cell_type": "code",
   "execution_count": null,
   "metadata": {},
   "outputs": [],
   "source": [
    "# Посчитаем количество пользователей в экспериментальных группах\n",
    "display(data.groupby('group').agg({'user_id':'nunique'}).sort_values(by='user_id'))\n",
    "good_data.groupby('group').agg({'user_id':'nunique'}).sort_values(by='user_id')"
   ]
  },
  {
   "cell_type": "markdown",
   "metadata": {},
   "source": [
    "    Из 17 \"потерянных\" пользователей по 5 человек было из 246 и 248 группы, 7 человек из 247-й. \n",
    "    В новых данных разбивка пользователей на группы эксперимента 246, 247 и 248 слабо изменилась."
   ]
  },
  {
   "cell_type": "markdown",
   "metadata": {},
   "source": [
    "### Изучение воронки событий  "
   ]
  },
  {
   "cell_type": "code",
   "execution_count": null,
   "metadata": {},
   "outputs": [],
   "source": [
    "# Какие события есть в логах, как часто они встречаются. \n",
    "\n",
    "event_funnel = good_data.groupby('event'\n",
    "                              ).agg({'event_dt':'count'}\n",
    "                                   ).sort_values(by='event_dt', ascending=False\n",
    "                                                ).reset_index()\n",
    "event_funnel\n"
   ]
  },
  {
   "cell_type": "code",
   "execution_count": null,
   "metadata": {},
   "outputs": [],
   "source": [
    "# Количество событий ежедневно \n",
    "daily_events = good_data.pivot_table(index=['date', 'event'], values='event_dt', aggfunc='count')\n",
    "daily_events.tail(10)"
   ]
  },
  {
   "cell_type": "code",
   "execution_count": null,
   "metadata": {},
   "outputs": [],
   "source": [
    "# Сколько пользователей совершали каждое из возможных событий. \n",
    "# События по числу пользователей. \n",
    "\n",
    "event_users = good_data.groupby('event'\n",
    "                          ).agg({'user_id':'nunique'}\n",
    "                               ).sort_values(by='user_id', ascending=False\n",
    "                                            ).reset_index()\n",
    "daily_users = data.pivot_table(index=['date', 'event'], values='user_id', aggfunc='nunique')\n",
    "\n",
    "display(event_users)\n",
    "daily_users.tail(10)"
   ]
  },
  {
   "cell_type": "code",
   "execution_count": null,
   "metadata": {},
   "outputs": [],
   "source": [
    "# Доля пользователей, которые хоть раз совершали событие\n",
    "event_users = good_data.groupby('event').agg({'user_id':'nunique'}).reset_index().sort_values(by='user_id', ascending=False)\n",
    "event_users.columns=['event', 'users']\n",
    "event_users['ratio'] = (event_users['users'] / data['user_id'].nunique()).round(3)\n",
    "event_users"
   ]
  },
  {
   "cell_type": "code",
   "execution_count": null,
   "metadata": {},
   "outputs": [],
   "source": [
    "# Доля пользователей, которые совершили только одно событие\n",
    "users = good_data.groupby('user_id').agg({'event_dt':'nunique'}).reset_index()\n",
    "one_time_users = round(len(users[users['event_dt']==1])/len(users['user_id'])*100, 2)\n",
    "display(len(users[users['event_dt']==1]))\n",
    "one_time_users\n"
   ]
  },
  {
   "cell_type": "markdown",
   "metadata": {},
   "source": [
    "        На главную страницу попали 98,3% пользователей, страницу с каталогом открыли 61% пользователей, \n",
    "    корзину открыли 49,5% пользователей, страницу успешной оплаты увидели 47% пользователей. Инструкцию открыло \n",
    "    всего 11,1% пользователей. 119 человек (1,58% пользователей) совершили только одно событие из 5 возможных.\n",
    "        Далеко не все пользователи заходят на главную страницу. Возможно, они уходят на этапе туториала. \n",
    "    Таким образом, первым шагом в воронке событий может быть туториал, однако поскольку его проходят далеко не все,\n",
    "    нерационально его включать в воронку. Так, в качестве первого шага рассматриваем появление главной страницы; \n",
    "    второй шаг - страница с предложениями (каталогом); третий шаг - корзина; четвёртый (последний) шаг - \n",
    "    страница об успешной оплате. Исключим страницу с инструкцией из воронки событий.   "
   ]
  },
  {
   "cell_type": "code",
   "execution_count": null,
   "metadata": {},
   "outputs": [],
   "source": [
    "# Данные для построения воронки событий \n",
    "funnel_data = good_data.query('event!=\"Tutorial\"')\n",
    "good_funnel = funnel_data.groupby('event'\n",
    "                                 ).agg({'event_dt':'count'}\n",
    "                                      ).sort_values(by='event_dt', ascending=False\n",
    "                                                   ).reset_index()\n",
    "good_funnel"
   ]
  },
  {
   "cell_type": "code",
   "execution_count": null,
   "metadata": {},
   "outputs": [],
   "source": [
    "# График воронки\n",
    "fig = go.Figure(\n",
    "    go.Funnel(\n",
    "        y=good_funnel['event'],\n",
    "        x=good_funnel['event_dt'],\n",
    "        textinfo = \"value+percent initial+percent previous\",\n",
    "    )\n",
    ")\n",
    "fig.show() "
   ]
  },
  {
   "cell_type": "code",
   "execution_count": null,
   "metadata": {},
   "outputs": [],
   "source": [
    "# Воронка по дням\n",
    "daily_funnel = funnel_data.pivot_table(index='event', columns='date', values='event_dt', aggfunc='count').reset_index()\n",
    "daily_funnel.columns = daily_funnel.columns.astype(str)\n",
    "daily_funnel.sort_values(by='2019-08-01', ascending=False)\n"
   ]
  },
  {
   "cell_type": "code",
   "execution_count": null,
   "metadata": {},
   "outputs": [],
   "source": [
    "# Воронка по количеству пользователей\n",
    "funnel_users = funnel_data.groupby('event'\n",
    "                                  ).agg({'user_id':'nunique'}\n",
    "                                       ).sort_values(by='user_id', ascending=False\n",
    "                                                    ).reset_index()\n",
    "funnel_users"
   ]
  },
  {
   "cell_type": "code",
   "execution_count": null,
   "metadata": {},
   "outputs": [],
   "source": [
    "# Какая доля пользователей проходит на следующий шаг воронки (от числа пользователей на предыдущем)\n",
    "fig = go.Figure(\n",
    "    go.Funnel(\n",
    "        y=funnel_users['event'],\n",
    "        x=funnel_users['user_id'], \n",
    "        textinfo = \"value+percent initial+percent previous\")\n",
    ")\n",
    "fig.show() "
   ]
  },
  {
   "cell_type": "markdown",
   "metadata": {},
   "source": [
    "    На втором шаге мы теряем больше всего пользователей 38%. Возможно есть какая-то проблема на первом шаге, \n",
    "    которая мешает/усложняет/отпугивает пользователей - надо об этом сообщить тестировщикам и выяснить причину. \n",
    "    От первого этапа до этапа оплаты, доходит 48% пользователей, это неплохой показатель. \n",
    "    В основном те люди, которые добавили товар в корзину и перешли на страницу с корзиной, то есть на третий этап, \n",
    "    оплачивают товар на последнем этапе - 95%."
   ]
  },
  {
   "cell_type": "markdown",
   "metadata": {},
   "source": [
    "## Изучение результатов эксперимента"
   ]
  },
  {
   "cell_type": "markdown",
   "metadata": {},
   "source": [
    "### Анализ количества пользователей в экспериментальных группах"
   ]
  },
  {
   "cell_type": "code",
   "execution_count": null,
   "metadata": {},
   "outputs": [],
   "source": [
    "# Количество пользователей в каждой экспериментальной группе\n",
    "group_count = good_data.groupby('group')['user_id'].nunique()\n",
    "group_count"
   ]
  },
  {
   "cell_type": "markdown",
   "metadata": {},
   "source": [
    "    Группы распределены почти равномерно: 2 484 пользователя в 246 группе, 2 513 пользователей в 247 группе, \n",
    "    и в 248 группе 2 537 пользователей."
   ]
  },
  {
   "cell_type": "code",
   "execution_count": null,
   "metadata": {},
   "outputs": [],
   "source": [
    "# Наиболее часто встречающееся событие\n",
    "events = funnel_data.groupby('event').agg({'event_dt':'nunique'}).sort_values(by='event_dt', ascending=False).reset_index()\n",
    "main_event = good_funnel.merge(funnel_users, on='event')\n",
    "main_event.columns = ['event','events_count', 'users_count']\n",
    "group_users = funnel_data.pivot_table(index='event', columns='group', values='user_id', aggfunc='nunique'\n",
    "                                     ).sort_values(by=246, ascending=False).reset_index()\n",
    "test_pivot = main_event.merge(group_users, on='event')\n",
    "test_pivot"
   ]
  },
  {
   "cell_type": "markdown",
   "metadata": {},
   "source": [
    "    Наиболее часто встречающееся событие - это открытие главной страницы (117 328 событий у 7419 пользователей). "
   ]
  },
  {
   "cell_type": "markdown",
   "metadata": {},
   "source": [
    "### Статистическое исследование разницы между выборками\n",
    " \n",
    "Перед тем как начать A/B-тест надо убедиться что:\n",
    "- на результаты не влияют аномалии и выбросы в генеральной совокупности;\n",
    "- инструмент «деления» трафика работает безошибочно;\n",
    "- данные отправляются в системы аналитики корректно.\n",
    "\n",
    "Для этого проводят A/A-тест. Он похож на A/B-тест, только группам показывают не разные, а одинаковые версии страниц.Если трафик и инструмент проведения A/A-теста не подвели, различий в показателях не будет. Ещё А/А-тест помогает определить длительность теста и методику анализа данных.\n",
    "\n",
    "Критерии успешного A/A-теста:\n",
    "\n",
    "- Количество пользователей в различных группах различается не более, чем на 1%;\n",
    "- Для всех групп фиксируют и отправляют в системы аналитики данные об одном и том же;\n",
    "- Различие ключевых метрик по группам не превышает 1% и не имеет статистической значимости;\n",
    "- Попавший в одну из групп посетитель остаётся в этой группе до конца теста. Если пользователь видит разные версии исследуемой страницы в ходе одного исследования, неизвестно, какая именно повлияла на его решения. Значит, и результаты такого теста нельзя интерпретировать однозначно.\n",
    "\n",
    "    \n",
    "Степень различия ключевых метрик по группам зависит от необходимой чувствительности эксперимента. Скажем, если вы хотите определить результаты теста, в котором ожидаете не менее 30% прироста, то 10% погрешности измерений вас устроят. Однако такое бывает редко: изменение показателей на 30% обычно заметно и без A/B-теста. Его применяют там, где степень различия между группами не больше 10%, или же подвержены колебаниям. В таких случаях точность A/A-теста в 1% — распространённый критерий.     "
   ]
  },
  {
   "cell_type": "code",
   "execution_count": null,
   "metadata": {},
   "outputs": [],
   "source": [
    "# Добавим колонку для последущего анализа экспериментальных групп \n",
    "group_count['246+247'] = group_count[246] + group_count[247]\n",
    "\n",
    "test_pivot['246+247'] = test_pivot[246] + test_pivot[247]\n",
    "test_pivot['246_ratio'] = (test_pivot[246]/group_count[246]).round(3)\n",
    "test_pivot['247_ratio'] = (test_pivot[247]/group_count[247]).round(3)\n",
    "test_pivot['248_ratio'] = (test_pivot[248]/group_count[248]).round(3)\n",
    "test_pivot['246+247_ratio'] = (test_pivot['246+247']/(group_count['246+247'])).round(3)\n",
    "test_pivot"
   ]
  },
  {
   "cell_type": "markdown",
   "metadata": {},
   "source": [
    "#### А/А-тест (группа 246 / группа 247)\n",
    "    Проанализируем по две выборки для каждого из четырёх событий в группе 246 и в группе 247.\n",
    "\n",
    "    Сформулируем нулевую гипотезу H0: Доли двух выборок равны между собой. \n",
    "    Альтернативная гипотеза H1: Доли двух выборок не равны между собой.\n",
    "\n",
    "    Проверим гипотезы через z-критерий. Введём уровень значимости alpha равный 1%."
   ]
  },
  {
   "cell_type": "code",
   "execution_count": null,
   "metadata": {},
   "outputs": [],
   "source": [
    "# Нулевая гипотеза H0: Доли двух выборок равны между собой. \n",
    "# Альтернативная гипотеза H1: Доли двух выборок не равны между собой.\n",
    "\n",
    "alpha = .01 # критический уровень статистической значимости\n",
    "def z_test(group_1, group_2, alpha):\n",
    "    for i in test_pivot.index:\n",
    "        p1 = test_pivot[group_1][i] / group_count[group_1]\n",
    "        # пропорция успехов во второй группе:\n",
    "        p2 = test_pivot[group_2][i] / group_count[group_2]\n",
    "        # пропорция успехов в комбинированном датасете:\n",
    "        p_combined = ((test_pivot[group_1][i] + test_pivot[group_2][i]) / \n",
    "                      (group_count[group_1] + group_count[group_2]))\n",
    "        # разница пропорций в датасетах\n",
    "        difference = p1 - p2\n",
    "        # считаем статистику в ст.отклонениях стандартного нормального распределения\n",
    "        z_value = difference / mth.sqrt(p_combined * (1 - p_combined) * \n",
    "                                        (1/group_count[group_1] + 1/group_count[group_2]))\n",
    "        # задаем стандартное нормальное распределение (среднее 0, ст.отклонение 1)\n",
    "        distr = st.norm(0, 1) \n",
    "        p_value = (1 - distr.cdf(abs(z_value))) * 2\n",
    "        print('{} p-значение: {}'.format(test_pivot['event'][i], p_value))\n",
    "        if (p_value < alpha):\n",
    "            print(\"Отвергаем нулевую гипотезу: между долями есть значимая разница\")\n",
    "        else:\n",
    "            print(\"Не получилось отвергнуть нулевую гипотезу, нет оснований считать доли разными\")\n",
    "        print('')\n",
    "        \n",
    "z_test(246, 247, alpha)"
   ]
  },
  {
   "cell_type": "markdown",
   "metadata": {},
   "source": [
    "    Исходя из того, что все A/A-тесты показали отсутствие статистически значимых различий долей пользователей, совершивших события, по каждому из событий, мы можем сделать вывод о том, что разбиение на группы работает корректно"
   ]
  },
  {
   "cell_type": "markdown",
   "metadata": {},
   "source": [
    "#### A/B-тест \n",
    "\n",
    "    Так как для A/B теста не нужна высокая точность, то для дальнейших экспериментов выберем самый стандартный уровень\n",
    "    значимости равный 5%. Дальше проведем еще 3 группы тестов: 246/248, 247/248, 246+247/248. \n",
    "    Сравнения также проведём по каждому из событий. "
   ]
  },
  {
   "cell_type": "code",
   "execution_count": null,
   "metadata": {},
   "outputs": [],
   "source": [
    "# 246/248\n",
    "alpha = 0.05\n",
    "z_test(246, 248, alpha)"
   ]
  },
  {
   "cell_type": "code",
   "execution_count": null,
   "metadata": {},
   "outputs": [],
   "source": [
    "# 247/248\n",
    "z_test(247, 248, alpha)"
   ]
  },
  {
   "cell_type": "code",
   "execution_count": null,
   "metadata": {},
   "outputs": [],
   "source": [
    "# 246+247/248\n",
    "z_test('246+247', 248, alpha)"
   ]
  },
  {
   "cell_type": "markdown",
   "metadata": {},
   "source": [
    "    Исходя из того, что все A/B-тесты показали отсутствие статистически значимых различий долей пользователей, совершивших\n",
    "    события, по каждому из событий, мы можем сделать вывод о том, что изменения, которые были осуществлены в B-тесте \n",
    "    не имеют существенного влияния на изменение долей. Практически за неделю экспериментов с новым шрифтом не наблюдалось\n",
    "    изменений в показателях поведения потребителей - пользователи моментально адаптировались к новому шрифту."
   ]
  },
  {
   "cell_type": "markdown",
   "metadata": {},
   "source": [
    "## Общие выводы\n",
    "\n",
    "Было проведено исследование поведения пользователей мобильного приложения, разработанного стартапом, который продаёт продукты питания на основе логов в приложении. В логах рассматривается 243 713 событий. При этом существует 5 вариантов событий:\n",
    "\n",
    "- MainScreenAppear - появление главного экрана (главной страницы);\n",
    "- OffersScreenAppear - появление экрана с предложениями (каталог товаров);\n",
    "- CartScreenAppear - появление экрана с корзиной товаров;\n",
    "- PaymentScreenSuccessful - экран об успешной оплате;\n",
    "- Tutorial - ознакомление с инструкцией.\n",
    "\n",
    "В логах представлены данные о 7 551 пользователе. При этом для них имеется очень большой разброс в количестве событий: от 1 до 2 307 за весь рассматриваемый период. Среднее значение составляет 32 события, а медианное значение - 20 событий. Поскольку распределение не является нормальным, рациональнее в качестве средней использовать медиану. Таким образом, в среднем, на каждого пользователя приходится около 20 событий за рассматриваемый период.\n",
    "\n",
    "У нас имеется 3 группы экспериментов: 246 и 247 - контрольные группы, а 248 - экспериментальная группа. Это группы, на основе которых проводилось A/A/B-тестирование. В группе эксперимента номер 246 представлено 2 489 пользователей. В группе 247 - 2 520 пользователей, а в группе 248 - 2 542 пользователя.\n",
    "\n",
    "Данные представлены за период с 04:43 25 июля по 21:15 7 августа 2019 года. По распределению количества пользователей для каждого события по дате и времени начала мы изучили, насколько имеющиеся данные являются полными. Оказалось, что у нас неполные данные до 01.08.2019. Скорее всего, подобный \"перекос\"связан с тем, что в логи по некоторым пользователям попали события из прошлого. Таким образом, производился анализ \"усечённых\" данных: с 1 августа по 7 августа 2019 года. В логах актуальных данных осталось 240 887 событий, то есть было отброшено всего 1,16% данных по событиям. Актуальные данные включают в себя логи по 7 534 пользователям, то есть было отброшено всего 0,23% данных по пользователям. Из \"отброшенных\" пользователей все они были из разных групп, соответственно, в новых данных разбиение пользователей на группы эксперимента 246, 247 и 248 слабо изменилось.\n",
    "\n",
    "Анализ данных позволил сделать следующие выводы:\n",
    "\n",
    "1) Наиболее часто встречающееся событие - это открытие главной страницы (оно появляется в логах 117 328 раз), далее - появление страницы с каталогом товаров (46 333 события). На третьем месте по частоте возникновения - страница с корзиной (42 303 события). Далее - экран об успешной оплате (33 918 событий). На последнем месте по частоте возникновения событий находится ознакомление с инструкцией (туториал): всего 1 005 событий. Это может указывать на то, что не каждому пользователю для совершения всех шагов до оплаты нужен туториал\n",
    "\n",
    "2) Места по количеству пользователей для каждого события распределились так же, как и по частоте возникновения событий. На главную зашло 7 419 пользователей; страницу с каталогом открыли 4 593 пользователя; экран с корзиной появился у 3 734 пользователей и экран с успешной оплатой - у 3 539 пользователей. Инструкцию открывало 840 пользователей. Шаг \"появление главной страницы\" прошли 98,5% пользователей, страницу с предложениями прошло 61% пользователей, корзину открыли 49,6% пользователей, экран об успешной оплате увидели 47% пользователей. Инструкцию открыло только 11,1% пользователей.\n",
    "\n",
    "    Отметим, что далеко не все пользователи заходят на главный экран. Возможно, они уходят на этапе туториала. Таким образом, первым шагом в воронке событий может быть туториал, однако поскольку его проходят далеко не все, нерационально его включать в воронку. Так, в качестве первого шага рассматриваем появление основной страницы; второй шаг - каталог; третий шаг - корзина; четвёртый (последний) шаг - страница об успешной оплате. Соотвтетственно из анализа воронки событий был исключен страница с инструкцией.\n",
    "\n",
    "3) С главного экрана на выбор продуктов переходит 61,9%. На следующем шаге уходит меньшее число пользователей: в корзину переходит 81,3% пользоателей, открывших каталог. И после корзины 94,8% пользователей совершает оплату. Всего 47.7% пользователей доходит от первого события до оплаты.\n",
    "\n",
    "    Соответственно, самым \"сложным\" шагом для пользователей является переход на второй этап - страницу с товарами.\n",
    "\n",
    "4) Все группы распределены почти равномерно: в 246 группе 2 484 пользователя (33% от всех пользователей); в 247 группе 2 513 пользователей (33,4% от всех); в 248 группе 2 537 пользователей (33,7% от общего числа). В целом, данные в рамках суток распределены нормально с небольшими смещениями в отдельные дни. \n",
    "\n",
    "5) Для определения, насколько значимы различия между выборками, был проведён статистический тест по z-критерию. В ходе тестирования были проведены 16 экспериментов:\n",
    "    - 246/247 - 4 эксперимента (для каждого события) / уровень статистической значимости - 1%\n",
    "    - 246/248 - 4 эксперимента (для каждого события) / уровень статистической значимости - 5%\n",
    "    - 247/248 - 4 эксперимента (для каждого события) / уровень статистической значимости - 5%\n",
    "    - 246+247/248 - 4 эксперимента (для каждого события) / уровень статистической значимости - 5%\n",
    "    \n",
    "    Так как группы A1/A2 должны быть одинаковыми, то над ними и контроль жестче. Поэтому для проведения A/A тестирования был взят уровень статистической значимости равный 1%. Для остальных А/В-тестов был выбран уровень статистической значимости равный 5%.\n",
    "\n",
    "В результате всех и каждого A/A/B эксперимента значимой разницы между группами не выявлено. Разбиение на группы работает корректно и практически за неделю экспериментов с новым шрифтом не наблюдалось изменений в показателях поведения потребителей - пользователи моментально адаптировались к новому шрифту.\n",
    "\n",
    "Рекомендации:\n",
    "\n",
    "1) Следует пересмотреть инструкцию - упростить переход к ней/от нее, изменить оформление и т.п.;\n",
    "\n",
    "2) Необходимо изучить проблемы с переходом от главной страницы на выбор предложений. Проблемы могут быть связаны как с техническими неполадками, так и с дизайном приложения или интуитивной \"понятностью\" перехода по страницам.    "
   ]
  }
 ],
 "metadata": {
  "ExecuteTimeLog": [
   {
    "duration": 1422,
    "start_time": "2022-07-06T09:04:30.097Z"
   },
   {
    "duration": 638,
    "start_time": "2022-07-06T09:05:39.938Z"
   },
   {
    "duration": 72,
    "start_time": "2022-07-06T09:09:13.285Z"
   },
   {
    "duration": 101,
    "start_time": "2022-07-06T09:10:46.481Z"
   },
   {
    "duration": 8,
    "start_time": "2022-07-06T09:10:59.324Z"
   },
   {
    "duration": 150,
    "start_time": "2022-07-06T09:17:06.418Z"
   },
   {
    "duration": 27,
    "start_time": "2022-07-06T09:19:08.960Z"
   },
   {
    "duration": 3,
    "start_time": "2022-07-06T09:55:27.766Z"
   },
   {
    "duration": 1169,
    "start_time": "2022-07-06T10:02:23.665Z"
   },
   {
    "duration": 273,
    "start_time": "2022-07-06T10:02:24.836Z"
   },
   {
    "duration": 148,
    "start_time": "2022-07-06T10:02:25.110Z"
   },
   {
    "duration": 19,
    "start_time": "2022-07-06T10:02:25.261Z"
   },
   {
    "duration": 8,
    "start_time": "2022-07-06T10:09:25.538Z"
   },
   {
    "duration": 100,
    "start_time": "2022-07-06T10:10:10.140Z"
   },
   {
    "duration": 10,
    "start_time": "2022-07-06T10:10:20.402Z"
   },
   {
    "duration": 12,
    "start_time": "2022-07-06T10:10:30.157Z"
   },
   {
    "duration": 3,
    "start_time": "2022-07-06T10:10:47.966Z"
   },
   {
    "duration": 13,
    "start_time": "2022-07-06T10:10:54.609Z"
   },
   {
    "duration": 9,
    "start_time": "2022-07-06T10:13:09.505Z"
   },
   {
    "duration": 4,
    "start_time": "2022-07-06T10:13:43.535Z"
   },
   {
    "duration": 10,
    "start_time": "2022-07-06T10:15:17.245Z"
   },
   {
    "duration": 9,
    "start_time": "2022-07-06T10:15:25.553Z"
   },
   {
    "duration": 8,
    "start_time": "2022-07-06T10:18:36.981Z"
   },
   {
    "duration": 12,
    "start_time": "2022-07-06T10:18:44.679Z"
   },
   {
    "duration": 12,
    "start_time": "2022-07-06T10:19:05.378Z"
   },
   {
    "duration": 12,
    "start_time": "2022-07-06T10:19:16.400Z"
   },
   {
    "duration": 12,
    "start_time": "2022-07-06T10:19:33.269Z"
   },
   {
    "duration": 14,
    "start_time": "2022-07-06T10:19:43.045Z"
   },
   {
    "duration": 13,
    "start_time": "2022-07-06T10:20:40.044Z"
   },
   {
    "duration": 15,
    "start_time": "2022-07-06T10:21:38.038Z"
   },
   {
    "duration": 72,
    "start_time": "2022-07-06T10:21:51.600Z"
   },
   {
    "duration": 68,
    "start_time": "2022-07-06T10:21:58.930Z"
   },
   {
    "duration": 70,
    "start_time": "2022-07-06T10:23:55.840Z"
   },
   {
    "duration": 19,
    "start_time": "2022-07-06T10:27:39.654Z"
   },
   {
    "duration": 197,
    "start_time": "2022-07-06T10:34:00.652Z"
   },
   {
    "duration": 1160,
    "start_time": "2022-07-06T10:34:08.782Z"
   },
   {
    "duration": 279,
    "start_time": "2022-07-06T10:34:09.944Z"
   },
   {
    "duration": 154,
    "start_time": "2022-07-06T10:34:10.225Z"
   },
   {
    "duration": 19,
    "start_time": "2022-07-06T10:34:10.381Z"
   },
   {
    "duration": 13,
    "start_time": "2022-07-06T10:34:10.402Z"
   },
   {
    "duration": 15,
    "start_time": "2022-07-06T10:34:10.424Z"
   },
   {
    "duration": 58,
    "start_time": "2022-07-06T10:34:10.441Z"
   },
   {
    "duration": 114,
    "start_time": "2022-07-06T10:34:10.500Z"
   },
   {
    "duration": 0,
    "start_time": "2022-07-06T10:34:10.623Z"
   },
   {
    "duration": 0,
    "start_time": "2022-07-06T10:34:10.625Z"
   },
   {
    "duration": 0,
    "start_time": "2022-07-06T10:34:10.627Z"
   },
   {
    "duration": 11,
    "start_time": "2022-07-06T10:34:18.544Z"
   },
   {
    "duration": 39,
    "start_time": "2022-07-06T10:34:46.189Z"
   },
   {
    "duration": 17,
    "start_time": "2022-07-06T10:35:41.365Z"
   },
   {
    "duration": 19,
    "start_time": "2022-07-06T10:35:50.875Z"
   },
   {
    "duration": 70,
    "start_time": "2022-07-06T10:36:03.399Z"
   },
   {
    "duration": 9,
    "start_time": "2022-07-06T10:37:24.477Z"
   },
   {
    "duration": 37,
    "start_time": "2022-07-06T10:37:34.187Z"
   },
   {
    "duration": 64,
    "start_time": "2022-07-06T10:39:40.168Z"
   },
   {
    "duration": 15,
    "start_time": "2022-07-06T10:40:05.041Z"
   },
   {
    "duration": 1158,
    "start_time": "2022-07-06T10:40:27.769Z"
   },
   {
    "duration": 279,
    "start_time": "2022-07-06T10:40:28.928Z"
   },
   {
    "duration": 149,
    "start_time": "2022-07-06T10:40:29.208Z"
   },
   {
    "duration": 19,
    "start_time": "2022-07-06T10:40:29.359Z"
   },
   {
    "duration": 6,
    "start_time": "2022-07-06T10:40:29.380Z"
   },
   {
    "duration": 21,
    "start_time": "2022-07-06T10:40:29.388Z"
   },
   {
    "duration": 58,
    "start_time": "2022-07-06T10:40:29.424Z"
   },
   {
    "duration": 13,
    "start_time": "2022-07-06T10:40:29.484Z"
   },
   {
    "duration": 50,
    "start_time": "2022-07-06T10:40:29.499Z"
   },
   {
    "duration": 61,
    "start_time": "2022-07-06T10:40:29.552Z"
   },
   {
    "duration": 69,
    "start_time": "2022-07-06T10:40:29.623Z"
   },
   {
    "duration": 664,
    "start_time": "2022-07-06T10:41:14.489Z"
   },
   {
    "duration": 61,
    "start_time": "2022-07-06T10:41:48.897Z"
   },
   {
    "duration": 551,
    "start_time": "2022-07-06T10:42:14.576Z"
   },
   {
    "duration": 437,
    "start_time": "2022-07-06T10:42:36.481Z"
   },
   {
    "duration": 1205,
    "start_time": "2022-07-06T10:43:09.231Z"
   },
   {
    "duration": 278,
    "start_time": "2022-07-06T10:43:10.437Z"
   },
   {
    "duration": 155,
    "start_time": "2022-07-06T10:43:10.724Z"
   },
   {
    "duration": 20,
    "start_time": "2022-07-06T10:43:10.881Z"
   },
   {
    "duration": 7,
    "start_time": "2022-07-06T10:43:10.903Z"
   },
   {
    "duration": 14,
    "start_time": "2022-07-06T10:43:10.923Z"
   },
   {
    "duration": 66,
    "start_time": "2022-07-06T10:43:10.939Z"
   },
   {
    "duration": 25,
    "start_time": "2022-07-06T10:43:11.007Z"
   },
   {
    "duration": 20,
    "start_time": "2022-07-06T10:43:11.034Z"
   },
   {
    "duration": 85,
    "start_time": "2022-07-06T10:43:11.056Z"
   },
   {
    "duration": 82,
    "start_time": "2022-07-06T10:43:11.143Z"
   },
   {
    "duration": 17,
    "start_time": "2022-07-06T10:43:11.226Z"
   },
   {
    "duration": 13,
    "start_time": "2022-07-06T10:43:41.810Z"
   },
   {
    "duration": 78,
    "start_time": "2022-07-06T10:47:38.757Z"
   },
   {
    "duration": 1228,
    "start_time": "2022-07-06T10:48:03.661Z"
   },
   {
    "duration": 301,
    "start_time": "2022-07-06T10:48:04.891Z"
   },
   {
    "duration": 160,
    "start_time": "2022-07-06T10:48:05.194Z"
   },
   {
    "duration": 20,
    "start_time": "2022-07-06T10:48:05.356Z"
   },
   {
    "duration": 8,
    "start_time": "2022-07-06T10:48:05.377Z"
   },
   {
    "duration": 21,
    "start_time": "2022-07-06T10:48:05.386Z"
   },
   {
    "duration": 65,
    "start_time": "2022-07-06T10:48:05.423Z"
   },
   {
    "duration": 13,
    "start_time": "2022-07-06T10:48:05.489Z"
   },
   {
    "duration": 98,
    "start_time": "2022-07-06T10:48:05.503Z"
   },
   {
    "duration": 38,
    "start_time": "2022-07-06T10:48:05.604Z"
   },
   {
    "duration": 90,
    "start_time": "2022-07-06T10:48:05.644Z"
   },
   {
    "duration": 116,
    "start_time": "2022-07-06T10:48:05.736Z"
   },
   {
    "duration": 27,
    "start_time": "2022-07-06T10:48:05.854Z"
   },
   {
    "duration": 8,
    "start_time": "2022-07-06T10:48:38.713Z"
   },
   {
    "duration": 8,
    "start_time": "2022-07-06T10:55:59.357Z"
   },
   {
    "duration": 29,
    "start_time": "2022-07-06T10:57:32.167Z"
   },
   {
    "duration": 19,
    "start_time": "2022-07-06T10:57:52.455Z"
   },
   {
    "duration": 7,
    "start_time": "2022-07-06T10:58:20.639Z"
   },
   {
    "duration": 1184,
    "start_time": "2022-07-06T10:59:39.117Z"
   },
   {
    "duration": 287,
    "start_time": "2022-07-06T10:59:40.303Z"
   },
   {
    "duration": 146,
    "start_time": "2022-07-06T10:59:40.592Z"
   },
   {
    "duration": 20,
    "start_time": "2022-07-06T10:59:40.740Z"
   },
   {
    "duration": 8,
    "start_time": "2022-07-06T10:59:40.761Z"
   },
   {
    "duration": 19,
    "start_time": "2022-07-06T10:59:40.771Z"
   },
   {
    "duration": 73,
    "start_time": "2022-07-06T10:59:40.792Z"
   },
   {
    "duration": 13,
    "start_time": "2022-07-06T10:59:40.867Z"
   },
   {
    "duration": 90,
    "start_time": "2022-07-06T10:59:40.882Z"
   },
   {
    "duration": 28,
    "start_time": "2022-07-06T10:59:40.974Z"
   },
   {
    "duration": 121,
    "start_time": "2022-07-06T10:59:41.003Z"
   },
   {
    "duration": 7,
    "start_time": "2022-07-06T10:59:41.126Z"
   },
   {
    "duration": 46,
    "start_time": "2022-07-06T10:59:41.135Z"
   },
   {
    "duration": 15,
    "start_time": "2022-07-06T10:59:41.184Z"
   },
   {
    "duration": 6,
    "start_time": "2022-07-06T10:59:41.201Z"
   },
   {
    "duration": 113,
    "start_time": "2022-07-06T11:02:43.640Z"
   },
   {
    "duration": 21,
    "start_time": "2022-07-06T11:03:18.817Z"
   },
   {
    "duration": 20,
    "start_time": "2022-07-06T11:04:04.073Z"
   },
   {
    "duration": 17,
    "start_time": "2022-07-06T11:05:07.455Z"
   },
   {
    "duration": 13,
    "start_time": "2022-07-06T11:06:08.754Z"
   },
   {
    "duration": 16,
    "start_time": "2022-07-06T11:06:37.669Z"
   },
   {
    "duration": 13,
    "start_time": "2022-07-06T11:07:13.007Z"
   },
   {
    "duration": 13,
    "start_time": "2022-07-06T11:07:55.577Z"
   },
   {
    "duration": 15,
    "start_time": "2022-07-06T11:08:07.797Z"
   },
   {
    "duration": 19,
    "start_time": "2022-07-06T11:13:14.539Z"
   },
   {
    "duration": 16,
    "start_time": "2022-07-06T11:13:39.389Z"
   },
   {
    "duration": 17,
    "start_time": "2022-07-06T11:13:55.855Z"
   },
   {
    "duration": 7,
    "start_time": "2022-07-06T11:16:30.140Z"
   },
   {
    "duration": 64,
    "start_time": "2022-07-06T11:17:04.138Z"
   },
   {
    "duration": 7,
    "start_time": "2022-07-06T11:17:25.379Z"
   },
   {
    "duration": 378,
    "start_time": "2022-07-06T11:22:21.258Z"
   },
   {
    "duration": 260,
    "start_time": "2022-07-06T11:26:52.307Z"
   },
   {
    "duration": 415,
    "start_time": "2022-07-06T11:27:02.172Z"
   },
   {
    "duration": 839,
    "start_time": "2022-07-06T11:27:12.784Z"
   },
   {
    "duration": 890,
    "start_time": "2022-07-06T11:30:05.746Z"
   },
   {
    "duration": 851,
    "start_time": "2022-07-06T11:30:22.134Z"
   },
   {
    "duration": 897,
    "start_time": "2022-07-06T11:30:30.440Z"
   },
   {
    "duration": 798,
    "start_time": "2022-07-06T11:30:50.026Z"
   },
   {
    "duration": 1506,
    "start_time": "2022-07-06T11:31:02.903Z"
   },
   {
    "duration": 1614,
    "start_time": "2022-07-06T11:39:24.534Z"
   },
   {
    "duration": 1589,
    "start_time": "2022-07-06T11:39:49.228Z"
   },
   {
    "duration": 1655,
    "start_time": "2022-07-06T11:40:18.788Z"
   },
   {
    "duration": 1803,
    "start_time": "2022-07-06T11:40:42.930Z"
   },
   {
    "duration": 294,
    "start_time": "2022-07-06T11:42:45.789Z"
   },
   {
    "duration": 30,
    "start_time": "2022-07-06T11:43:20.543Z"
   },
   {
    "duration": 57,
    "start_time": "2022-07-06T11:44:26.228Z"
   },
   {
    "duration": 27,
    "start_time": "2022-07-06T11:45:44.059Z"
   },
   {
    "duration": 28,
    "start_time": "2022-07-06T11:47:52.368Z"
   },
   {
    "duration": 1339,
    "start_time": "2022-07-06T11:48:25.702Z"
   },
   {
    "duration": 1665,
    "start_time": "2022-07-06T11:48:47.989Z"
   },
   {
    "duration": 1244,
    "start_time": "2022-07-06T11:49:10.830Z"
   },
   {
    "duration": 40,
    "start_time": "2022-07-06T11:53:04.238Z"
   },
   {
    "duration": 44,
    "start_time": "2022-07-06T11:53:20.692Z"
   },
   {
    "duration": 37,
    "start_time": "2022-07-06T11:53:59.895Z"
   },
   {
    "duration": 35,
    "start_time": "2022-07-06T11:54:08.631Z"
   },
   {
    "duration": 10,
    "start_time": "2022-07-06T11:56:15.102Z"
   },
   {
    "duration": 80,
    "start_time": "2022-07-06T11:59:38.870Z"
   },
   {
    "duration": 26,
    "start_time": "2022-07-06T11:59:51.566Z"
   },
   {
    "duration": 54,
    "start_time": "2022-07-06T12:03:00.895Z"
   },
   {
    "duration": 24,
    "start_time": "2022-07-06T12:03:13.891Z"
   },
   {
    "duration": 24,
    "start_time": "2022-07-06T12:04:36.679Z"
   },
   {
    "duration": 37,
    "start_time": "2022-07-06T12:05:14.086Z"
   },
   {
    "duration": 38,
    "start_time": "2022-07-06T12:08:42.037Z"
   },
   {
    "duration": 27,
    "start_time": "2022-07-06T12:09:33.065Z"
   },
   {
    "duration": 38,
    "start_time": "2022-07-06T12:11:35.871Z"
   },
   {
    "duration": 41,
    "start_time": "2022-07-06T12:12:11.681Z"
   },
   {
    "duration": 18,
    "start_time": "2022-07-06T13:07:07.292Z"
   },
   {
    "duration": 21,
    "start_time": "2022-07-06T13:07:58.289Z"
   },
   {
    "duration": 487,
    "start_time": "2022-07-06T13:08:13.041Z"
   },
   {
    "duration": 1733,
    "start_time": "2022-07-06T16:24:17.584Z"
   },
   {
    "duration": 679,
    "start_time": "2022-07-06T16:24:19.319Z"
   },
   {
    "duration": 177,
    "start_time": "2022-07-06T16:24:20.001Z"
   },
   {
    "duration": 20,
    "start_time": "2022-07-06T16:24:20.182Z"
   },
   {
    "duration": 27,
    "start_time": "2022-07-06T16:24:20.204Z"
   },
   {
    "duration": 29,
    "start_time": "2022-07-06T16:24:20.233Z"
   },
   {
    "duration": 97,
    "start_time": "2022-07-06T16:24:20.264Z"
   },
   {
    "duration": 17,
    "start_time": "2022-07-06T16:24:20.363Z"
   },
   {
    "duration": 141,
    "start_time": "2022-07-06T16:24:20.383Z"
   },
   {
    "duration": 31,
    "start_time": "2022-07-06T16:24:20.527Z"
   },
   {
    "duration": 147,
    "start_time": "2022-07-06T16:24:20.560Z"
   },
   {
    "duration": 33,
    "start_time": "2022-07-06T16:24:20.709Z"
   },
   {
    "duration": 19,
    "start_time": "2022-07-06T16:24:20.744Z"
   },
   {
    "duration": 8,
    "start_time": "2022-07-06T16:24:20.765Z"
   },
   {
    "duration": 59,
    "start_time": "2022-07-06T16:24:20.775Z"
   },
   {
    "duration": 8,
    "start_time": "2022-07-06T16:24:20.836Z"
   },
   {
    "duration": 1748,
    "start_time": "2022-07-06T16:24:20.846Z"
   },
   {
    "duration": 49,
    "start_time": "2022-07-06T16:24:22.596Z"
   },
   {
    "duration": 21,
    "start_time": "2022-07-06T16:24:22.647Z"
   },
   {
    "duration": 67,
    "start_time": "2022-07-06T16:24:22.671Z"
   },
   {
    "duration": 41,
    "start_time": "2022-07-06T16:24:22.741Z"
   },
   {
    "duration": 46,
    "start_time": "2022-07-06T16:24:22.784Z"
   },
   {
    "duration": 1404,
    "start_time": "2022-07-07T13:03:28.635Z"
   },
   {
    "duration": 749,
    "start_time": "2022-07-07T13:03:30.041Z"
   },
   {
    "duration": 155,
    "start_time": "2022-07-07T13:03:30.792Z"
   },
   {
    "duration": 29,
    "start_time": "2022-07-07T13:03:30.949Z"
   },
   {
    "duration": 31,
    "start_time": "2022-07-07T13:03:30.980Z"
   },
   {
    "duration": 28,
    "start_time": "2022-07-07T13:03:31.012Z"
   },
   {
    "duration": 93,
    "start_time": "2022-07-07T13:03:31.042Z"
   },
   {
    "duration": 12,
    "start_time": "2022-07-07T13:03:31.137Z"
   },
   {
    "duration": 89,
    "start_time": "2022-07-07T13:03:31.151Z"
   },
   {
    "duration": 53,
    "start_time": "2022-07-07T13:03:31.243Z"
   },
   {
    "duration": 117,
    "start_time": "2022-07-07T13:03:31.297Z"
   },
   {
    "duration": 29,
    "start_time": "2022-07-07T13:03:31.416Z"
   },
   {
    "duration": 46,
    "start_time": "2022-07-07T13:03:31.446Z"
   },
   {
    "duration": 7,
    "start_time": "2022-07-07T13:03:31.494Z"
   },
   {
    "duration": 18,
    "start_time": "2022-07-07T13:03:31.503Z"
   },
   {
    "duration": 6,
    "start_time": "2022-07-07T13:03:31.523Z"
   },
   {
    "duration": 1628,
    "start_time": "2022-07-07T13:03:31.531Z"
   },
   {
    "duration": 43,
    "start_time": "2022-07-07T13:03:33.166Z"
   },
   {
    "duration": 18,
    "start_time": "2022-07-07T13:03:33.210Z"
   },
   {
    "duration": 49,
    "start_time": "2022-07-07T13:03:33.229Z"
   },
   {
    "duration": 39,
    "start_time": "2022-07-07T13:03:33.280Z"
   },
   {
    "duration": 49,
    "start_time": "2022-07-07T13:03:33.321Z"
   },
   {
    "duration": 109,
    "start_time": "2022-07-07T13:30:20.571Z"
   },
   {
    "duration": 44,
    "start_time": "2022-07-07T13:31:37.842Z"
   },
   {
    "duration": 86,
    "start_time": "2022-07-07T13:31:42.387Z"
   },
   {
    "duration": 96,
    "start_time": "2022-07-07T13:32:36.705Z"
   },
   {
    "duration": 136,
    "start_time": "2022-07-07T13:32:46.165Z"
   },
   {
    "duration": 92,
    "start_time": "2022-07-07T13:33:34.237Z"
   },
   {
    "duration": 90,
    "start_time": "2022-07-07T13:33:43.158Z"
   },
   {
    "duration": 541,
    "start_time": "2022-07-07T13:35:03.675Z"
   },
   {
    "duration": 13,
    "start_time": "2022-07-07T13:35:20.676Z"
   },
   {
    "duration": 107,
    "start_time": "2022-07-07T13:35:39.170Z"
   },
   {
    "duration": 72,
    "start_time": "2022-07-07T13:36:31.206Z"
   },
   {
    "duration": 73,
    "start_time": "2022-07-07T13:37:02.402Z"
   },
   {
    "duration": 86,
    "start_time": "2022-07-07T13:37:57.097Z"
   },
   {
    "duration": 83,
    "start_time": "2022-07-07T13:38:08.776Z"
   },
   {
    "duration": 110,
    "start_time": "2022-07-07T13:38:55.589Z"
   },
   {
    "duration": 145,
    "start_time": "2022-07-07T13:48:32.450Z"
   },
   {
    "duration": 160,
    "start_time": "2022-07-07T13:49:04.777Z"
   },
   {
    "duration": 10,
    "start_time": "2022-07-07T13:56:47.839Z"
   },
   {
    "duration": 206,
    "start_time": "2022-07-07T13:56:58.319Z"
   },
   {
    "duration": 13,
    "start_time": "2022-07-07T13:59:57.181Z"
   },
   {
    "duration": 1525,
    "start_time": "2022-07-07T18:36:05.889Z"
   },
   {
    "duration": 615,
    "start_time": "2022-07-07T18:36:07.417Z"
   },
   {
    "duration": 153,
    "start_time": "2022-07-07T18:36:08.034Z"
   },
   {
    "duration": 21,
    "start_time": "2022-07-07T18:36:08.189Z"
   },
   {
    "duration": 17,
    "start_time": "2022-07-07T18:36:08.212Z"
   },
   {
    "duration": 26,
    "start_time": "2022-07-07T18:36:08.231Z"
   },
   {
    "duration": 78,
    "start_time": "2022-07-07T18:36:08.259Z"
   },
   {
    "duration": 14,
    "start_time": "2022-07-07T18:36:08.339Z"
   },
   {
    "duration": 90,
    "start_time": "2022-07-07T18:36:08.354Z"
   },
   {
    "duration": 29,
    "start_time": "2022-07-07T18:36:08.448Z"
   },
   {
    "duration": 149,
    "start_time": "2022-07-07T18:36:08.479Z"
   },
   {
    "duration": 29,
    "start_time": "2022-07-07T18:36:08.629Z"
   },
   {
    "duration": 20,
    "start_time": "2022-07-07T18:36:08.660Z"
   },
   {
    "duration": 7,
    "start_time": "2022-07-07T18:36:08.682Z"
   },
   {
    "duration": 55,
    "start_time": "2022-07-07T18:36:08.691Z"
   },
   {
    "duration": 9,
    "start_time": "2022-07-07T18:36:08.748Z"
   },
   {
    "duration": 1847,
    "start_time": "2022-07-07T18:36:08.760Z"
   },
   {
    "duration": 45,
    "start_time": "2022-07-07T18:36:10.610Z"
   },
   {
    "duration": 24,
    "start_time": "2022-07-07T18:36:10.657Z"
   },
   {
    "duration": 52,
    "start_time": "2022-07-07T18:36:10.682Z"
   },
   {
    "duration": 167,
    "start_time": "2022-07-07T18:36:10.736Z"
   },
   {
    "duration": 157,
    "start_time": "2022-07-07T18:36:10.905Z"
   },
   {
    "duration": 177,
    "start_time": "2022-07-07T18:36:11.064Z"
   },
   {
    "duration": 9,
    "start_time": "2022-07-07T18:36:11.243Z"
   },
   {
    "duration": 14,
    "start_time": "2022-07-07T18:36:11.254Z"
   },
   {
    "duration": 27,
    "start_time": "2022-07-07T18:36:11.270Z"
   },
   {
    "duration": 29,
    "start_time": "2022-07-07T18:41:19.078Z"
   },
   {
    "duration": 27,
    "start_time": "2022-07-07T18:42:08.097Z"
   },
   {
    "duration": 35,
    "start_time": "2022-07-07T18:44:07.669Z"
   },
   {
    "duration": 33,
    "start_time": "2022-07-07T18:44:54.765Z"
   },
   {
    "duration": 39,
    "start_time": "2022-07-07T18:45:03.057Z"
   },
   {
    "duration": 1462,
    "start_time": "2022-07-08T15:52:36.062Z"
   },
   {
    "duration": 613,
    "start_time": "2022-07-08T15:52:37.526Z"
   },
   {
    "duration": 146,
    "start_time": "2022-07-08T15:52:38.140Z"
   },
   {
    "duration": 33,
    "start_time": "2022-07-08T15:52:38.288Z"
   },
   {
    "duration": 10,
    "start_time": "2022-07-08T15:52:38.324Z"
   },
   {
    "duration": 20,
    "start_time": "2022-07-08T15:52:38.336Z"
   },
   {
    "duration": 73,
    "start_time": "2022-07-08T15:52:38.358Z"
   },
   {
    "duration": 16,
    "start_time": "2022-07-08T15:52:38.433Z"
   },
   {
    "duration": 101,
    "start_time": "2022-07-08T15:52:38.451Z"
   },
   {
    "duration": 26,
    "start_time": "2022-07-08T15:52:38.555Z"
   },
   {
    "duration": 154,
    "start_time": "2022-07-08T15:52:38.583Z"
   },
   {
    "duration": 35,
    "start_time": "2022-07-08T15:52:38.739Z"
   },
   {
    "duration": 34,
    "start_time": "2022-07-08T15:52:38.776Z"
   },
   {
    "duration": 7,
    "start_time": "2022-07-08T15:52:38.813Z"
   },
   {
    "duration": 27,
    "start_time": "2022-07-08T15:52:38.822Z"
   },
   {
    "duration": 6,
    "start_time": "2022-07-08T15:52:38.851Z"
   },
   {
    "duration": 1562,
    "start_time": "2022-07-08T15:52:38.859Z"
   },
   {
    "duration": 40,
    "start_time": "2022-07-08T15:52:40.423Z"
   },
   {
    "duration": 37,
    "start_time": "2022-07-08T15:52:40.465Z"
   },
   {
    "duration": 28,
    "start_time": "2022-07-08T15:52:40.503Z"
   },
   {
    "duration": 167,
    "start_time": "2022-07-08T15:52:40.533Z"
   },
   {
    "duration": 136,
    "start_time": "2022-07-08T15:52:40.703Z"
   },
   {
    "duration": 176,
    "start_time": "2022-07-08T15:52:40.840Z"
   },
   {
    "duration": 9,
    "start_time": "2022-07-08T15:52:41.018Z"
   },
   {
    "duration": 7,
    "start_time": "2022-07-08T15:52:41.028Z"
   },
   {
    "duration": 30,
    "start_time": "2022-07-08T15:52:41.037Z"
   },
   {
    "duration": 46,
    "start_time": "2022-07-08T15:52:41.068Z"
   },
   {
    "duration": 103,
    "start_time": "2022-07-08T16:01:06.953Z"
   },
   {
    "duration": 117,
    "start_time": "2022-07-08T16:01:16.152Z"
   },
   {
    "duration": 8,
    "start_time": "2022-07-08T16:01:20.842Z"
   },
   {
    "duration": 10,
    "start_time": "2022-07-08T16:01:27.483Z"
   },
   {
    "duration": 9,
    "start_time": "2022-07-08T16:02:13.340Z"
   },
   {
    "duration": 1245,
    "start_time": "2022-07-08T16:02:18.376Z"
   },
   {
    "duration": 287,
    "start_time": "2022-07-08T16:02:19.625Z"
   },
   {
    "duration": 159,
    "start_time": "2022-07-08T16:02:19.915Z"
   },
   {
    "duration": 34,
    "start_time": "2022-07-08T16:02:20.077Z"
   },
   {
    "duration": 9,
    "start_time": "2022-07-08T16:02:20.112Z"
   },
   {
    "duration": 29,
    "start_time": "2022-07-08T16:02:20.123Z"
   },
   {
    "duration": 82,
    "start_time": "2022-07-08T16:02:20.154Z"
   },
   {
    "duration": 97,
    "start_time": "2022-07-08T16:02:20.238Z"
   },
   {
    "duration": 20,
    "start_time": "2022-07-08T16:02:20.338Z"
   },
   {
    "duration": 90,
    "start_time": "2022-07-08T16:02:20.361Z"
   },
   {
    "duration": 29,
    "start_time": "2022-07-08T16:02:20.453Z"
   },
   {
    "duration": 137,
    "start_time": "2022-07-08T16:02:20.484Z"
   },
   {
    "duration": 35,
    "start_time": "2022-07-08T16:02:20.623Z"
   },
   {
    "duration": 21,
    "start_time": "2022-07-08T16:02:20.661Z"
   },
   {
    "duration": 12,
    "start_time": "2022-07-08T16:02:20.702Z"
   },
   {
    "duration": 20,
    "start_time": "2022-07-08T16:02:20.716Z"
   },
   {
    "duration": 8,
    "start_time": "2022-07-08T16:02:20.737Z"
   },
   {
    "duration": 1628,
    "start_time": "2022-07-08T16:02:20.747Z"
   },
   {
    "duration": 46,
    "start_time": "2022-07-08T16:02:22.377Z"
   },
   {
    "duration": 18,
    "start_time": "2022-07-08T16:02:22.424Z"
   },
   {
    "duration": 26,
    "start_time": "2022-07-08T16:02:22.444Z"
   },
   {
    "duration": 119,
    "start_time": "2022-07-08T16:02:22.471Z"
   },
   {
    "duration": 184,
    "start_time": "2022-07-08T16:02:22.592Z"
   },
   {
    "duration": 168,
    "start_time": "2022-07-08T16:02:22.778Z"
   },
   {
    "duration": 10,
    "start_time": "2022-07-08T16:02:22.948Z"
   },
   {
    "duration": 5,
    "start_time": "2022-07-08T16:02:22.960Z"
   },
   {
    "duration": 53,
    "start_time": "2022-07-08T16:02:22.967Z"
   },
   {
    "duration": 54,
    "start_time": "2022-07-08T16:02:23.024Z"
   },
   {
    "duration": 170,
    "start_time": "2022-07-08T16:02:51.671Z"
   },
   {
    "duration": 172,
    "start_time": "2022-07-08T16:03:14.673Z"
   },
   {
    "duration": 53,
    "start_time": "2022-07-08T16:03:51.297Z"
   },
   {
    "duration": 21,
    "start_time": "2022-07-08T16:04:14.549Z"
   },
   {
    "duration": 24,
    "start_time": "2022-07-08T16:04:48.753Z"
   },
   {
    "duration": 5,
    "start_time": "2022-07-08T16:05:31.645Z"
   },
   {
    "duration": 110,
    "start_time": "2022-07-08T16:09:12.035Z"
   },
   {
    "duration": 43,
    "start_time": "2022-07-08T16:09:53.052Z"
   },
   {
    "duration": 103,
    "start_time": "2022-07-08T16:10:19.573Z"
   },
   {
    "duration": 1096,
    "start_time": "2022-07-08T16:12:01.255Z"
   },
   {
    "duration": 54,
    "start_time": "2022-07-08T16:14:19.255Z"
   },
   {
    "duration": 15,
    "start_time": "2022-07-08T16:14:35.309Z"
   },
   {
    "duration": 60,
    "start_time": "2022-07-08T16:15:02.207Z"
   },
   {
    "duration": 62,
    "start_time": "2022-07-08T16:16:25.293Z"
   },
   {
    "duration": 109,
    "start_time": "2022-07-08T16:17:25.155Z"
   },
   {
    "duration": 130,
    "start_time": "2022-07-08T16:18:56.856Z"
   },
   {
    "duration": 163,
    "start_time": "2022-07-08T16:19:31.472Z"
   },
   {
    "duration": 83,
    "start_time": "2022-07-08T16:23:18.169Z"
   },
   {
    "duration": 135,
    "start_time": "2022-07-08T16:29:14.809Z"
   },
   {
    "duration": 145,
    "start_time": "2022-07-08T16:29:32.952Z"
   },
   {
    "duration": 60,
    "start_time": "2022-07-08T16:38:43.068Z"
   },
   {
    "duration": 51,
    "start_time": "2022-07-08T16:40:34.561Z"
   },
   {
    "duration": 43,
    "start_time": "2022-07-08T16:41:08.039Z"
   },
   {
    "duration": 53,
    "start_time": "2022-07-08T16:41:17.668Z"
   },
   {
    "duration": 53,
    "start_time": "2022-07-08T16:42:57.072Z"
   },
   {
    "duration": 50,
    "start_time": "2022-07-08T16:45:10.476Z"
   },
   {
    "duration": 47,
    "start_time": "2022-07-08T16:45:42.155Z"
   },
   {
    "duration": 181,
    "start_time": "2022-07-08T16:51:27.741Z"
   },
   {
    "duration": 59,
    "start_time": "2022-07-08T16:52:38.292Z"
   },
   {
    "duration": 9,
    "start_time": "2022-07-08T16:52:43.375Z"
   },
   {
    "duration": 13,
    "start_time": "2022-07-08T16:53:03.716Z"
   },
   {
    "duration": 1284,
    "start_time": "2022-07-08T16:53:14.484Z"
   },
   {
    "duration": 289,
    "start_time": "2022-07-08T16:53:15.770Z"
   },
   {
    "duration": 151,
    "start_time": "2022-07-08T16:53:16.060Z"
   },
   {
    "duration": 24,
    "start_time": "2022-07-08T16:53:16.214Z"
   },
   {
    "duration": 8,
    "start_time": "2022-07-08T16:53:16.240Z"
   },
   {
    "duration": 32,
    "start_time": "2022-07-08T16:53:16.250Z"
   },
   {
    "duration": 61,
    "start_time": "2022-07-08T16:53:16.300Z"
   },
   {
    "duration": 91,
    "start_time": "2022-07-08T16:53:16.362Z"
   },
   {
    "duration": 13,
    "start_time": "2022-07-08T16:53:16.454Z"
   },
   {
    "duration": 88,
    "start_time": "2022-07-08T16:53:16.469Z"
   },
   {
    "duration": 26,
    "start_time": "2022-07-08T16:53:16.559Z"
   },
   {
    "duration": 141,
    "start_time": "2022-07-08T16:53:16.587Z"
   },
   {
    "duration": 4,
    "start_time": "2022-07-08T16:53:16.730Z"
   },
   {
    "duration": 50,
    "start_time": "2022-07-08T16:53:16.736Z"
   },
   {
    "duration": 18,
    "start_time": "2022-07-08T16:53:16.788Z"
   },
   {
    "duration": 23,
    "start_time": "2022-07-08T16:53:16.808Z"
   },
   {
    "duration": 8,
    "start_time": "2022-07-08T16:53:16.832Z"
   },
   {
    "duration": 1714,
    "start_time": "2022-07-08T16:53:16.842Z"
   },
   {
    "duration": 47,
    "start_time": "2022-07-08T16:53:18.558Z"
   },
   {
    "duration": 25,
    "start_time": "2022-07-08T16:53:18.607Z"
   },
   {
    "duration": 29,
    "start_time": "2022-07-08T16:53:18.634Z"
   },
   {
    "duration": 111,
    "start_time": "2022-07-08T16:53:18.665Z"
   },
   {
    "duration": 164,
    "start_time": "2022-07-08T16:53:18.777Z"
   },
   {
    "duration": 47,
    "start_time": "2022-07-08T16:53:18.942Z"
   },
   {
    "duration": 65,
    "start_time": "2022-07-08T16:53:18.991Z"
   },
   {
    "duration": 165,
    "start_time": "2022-07-08T16:53:19.057Z"
   },
   {
    "duration": 187,
    "start_time": "2022-07-08T16:53:19.223Z"
   },
   {
    "duration": 95,
    "start_time": "2022-07-08T16:53:19.415Z"
   },
   {
    "duration": 12,
    "start_time": "2022-07-08T16:53:19.512Z"
   },
   {
    "duration": 24,
    "start_time": "2022-07-08T16:53:19.526Z"
   },
   {
    "duration": 80,
    "start_time": "2022-07-08T16:53:19.552Z"
   },
   {
    "duration": 31,
    "start_time": "2022-07-08T16:59:52.728Z"
   },
   {
    "duration": 46,
    "start_time": "2022-07-08T17:01:28.736Z"
   },
   {
    "duration": 73,
    "start_time": "2022-07-08T17:02:07.359Z"
   },
   {
    "duration": 69,
    "start_time": "2022-07-08T17:02:25.645Z"
   },
   {
    "duration": 70,
    "start_time": "2022-07-08T17:05:02.008Z"
   },
   {
    "duration": 68,
    "start_time": "2022-07-08T17:05:27.823Z"
   },
   {
    "duration": 80,
    "start_time": "2022-07-08T17:05:37.528Z"
   },
   {
    "duration": 945,
    "start_time": "2022-07-08T17:06:56.536Z"
   },
   {
    "duration": 68,
    "start_time": "2022-07-08T17:07:48.716Z"
   },
   {
    "duration": 66,
    "start_time": "2022-07-08T17:08:11.503Z"
   },
   {
    "duration": 123,
    "start_time": "2022-07-08T17:13:27.639Z"
   },
   {
    "duration": 122,
    "start_time": "2022-07-08T17:14:08.383Z"
   },
   {
    "duration": 105,
    "start_time": "2022-07-08T17:14:16.139Z"
   },
   {
    "duration": 114,
    "start_time": "2022-07-08T17:17:24.670Z"
   },
   {
    "duration": 114,
    "start_time": "2022-07-08T17:17:39.467Z"
   },
   {
    "duration": 115,
    "start_time": "2022-07-08T17:18:14.903Z"
   },
   {
    "duration": 113,
    "start_time": "2022-07-08T17:18:24.959Z"
   },
   {
    "duration": 104,
    "start_time": "2022-07-08T17:18:30.327Z"
   },
   {
    "duration": 116,
    "start_time": "2022-07-08T17:19:15.330Z"
   },
   {
    "duration": 108,
    "start_time": "2022-07-08T17:19:47.447Z"
   },
   {
    "duration": 235,
    "start_time": "2022-07-08T17:21:50.283Z"
   },
   {
    "duration": 82,
    "start_time": "2022-07-08T17:22:07.843Z"
   },
   {
    "duration": 83,
    "start_time": "2022-07-08T17:22:24.368Z"
   },
   {
    "duration": 79,
    "start_time": "2022-07-08T17:22:42.083Z"
   },
   {
    "duration": 81,
    "start_time": "2022-07-08T17:22:58.112Z"
   },
   {
    "duration": 57,
    "start_time": "2022-07-08T17:24:45.791Z"
   },
   {
    "duration": 94,
    "start_time": "2022-07-08T17:25:06.947Z"
   },
   {
    "duration": 94,
    "start_time": "2022-07-08T17:25:42.147Z"
   },
   {
    "duration": 104,
    "start_time": "2022-07-08T17:29:21.747Z"
   },
   {
    "duration": 67,
    "start_time": "2022-07-08T17:33:54.451Z"
   },
   {
    "duration": 67,
    "start_time": "2022-07-08T17:34:22.386Z"
   },
   {
    "duration": 59,
    "start_time": "2022-07-08T17:35:53.203Z"
   },
   {
    "duration": 74,
    "start_time": "2022-07-08T17:51:40.672Z"
   },
   {
    "duration": 67,
    "start_time": "2022-07-08T17:52:03.366Z"
   },
   {
    "duration": 64,
    "start_time": "2022-07-08T17:52:18.285Z"
   },
   {
    "duration": 77,
    "start_time": "2022-07-08T17:52:49.022Z"
   },
   {
    "duration": 76,
    "start_time": "2022-07-08T17:54:01.157Z"
   },
   {
    "duration": 932,
    "start_time": "2022-07-08T17:54:44.253Z"
   },
   {
    "duration": 67,
    "start_time": "2022-07-08T17:54:59.158Z"
   },
   {
    "duration": 70,
    "start_time": "2022-07-08T17:55:36.461Z"
   },
   {
    "duration": 73,
    "start_time": "2022-07-08T17:56:00.276Z"
   },
   {
    "duration": 24,
    "start_time": "2022-07-08T17:57:51.281Z"
   },
   {
    "duration": 20,
    "start_time": "2022-07-08T17:58:44.473Z"
   },
   {
    "duration": 63,
    "start_time": "2022-07-08T17:59:50.781Z"
   },
   {
    "duration": 68,
    "start_time": "2022-07-08T18:00:07.342Z"
   },
   {
    "duration": 64,
    "start_time": "2022-07-08T18:00:23.325Z"
   },
   {
    "duration": 64,
    "start_time": "2022-07-08T18:00:38.489Z"
   },
   {
    "duration": 65,
    "start_time": "2022-07-08T18:04:20.865Z"
   },
   {
    "duration": 62,
    "start_time": "2022-07-08T18:06:18.389Z"
   },
   {
    "duration": 72,
    "start_time": "2022-07-08T18:15:32.714Z"
   },
   {
    "duration": 65,
    "start_time": "2022-07-08T18:16:39.825Z"
   },
   {
    "duration": 70,
    "start_time": "2022-07-08T18:18:42.676Z"
   },
   {
    "duration": 62,
    "start_time": "2022-07-08T18:20:45.764Z"
   },
   {
    "duration": 58,
    "start_time": "2022-07-08T18:22:02.728Z"
   },
   {
    "duration": 65,
    "start_time": "2022-07-08T18:22:11.133Z"
   },
   {
    "duration": 50,
    "start_time": "2022-07-08T18:30:58.560Z"
   },
   {
    "duration": 68,
    "start_time": "2022-07-08T18:31:13.776Z"
   },
   {
    "duration": 74,
    "start_time": "2022-07-08T18:31:24.515Z"
   },
   {
    "duration": 64,
    "start_time": "2022-07-08T18:33:18.000Z"
   },
   {
    "duration": 64,
    "start_time": "2022-07-08T18:37:26.684Z"
   },
   {
    "duration": 76,
    "start_time": "2022-07-08T19:16:03.992Z"
   },
   {
    "duration": 52,
    "start_time": "2022-07-08T19:16:32.790Z"
   },
   {
    "duration": 62,
    "start_time": "2022-07-08T19:16:47.214Z"
   },
   {
    "duration": 65,
    "start_time": "2022-07-08T19:17:17.174Z"
   },
   {
    "duration": 63,
    "start_time": "2022-07-08T19:18:19.937Z"
   },
   {
    "duration": 86,
    "start_time": "2022-07-08T19:21:00.847Z"
   },
   {
    "duration": 75,
    "start_time": "2022-07-08T19:22:08.086Z"
   },
   {
    "duration": 1571,
    "start_time": "2022-07-10T16:29:44.051Z"
   },
   {
    "duration": 637,
    "start_time": "2022-07-10T16:29:45.624Z"
   },
   {
    "duration": 161,
    "start_time": "2022-07-10T16:29:46.263Z"
   },
   {
    "duration": 41,
    "start_time": "2022-07-10T16:29:46.427Z"
   },
   {
    "duration": 9,
    "start_time": "2022-07-10T16:29:46.469Z"
   },
   {
    "duration": 22,
    "start_time": "2022-07-10T16:29:46.481Z"
   },
   {
    "duration": 86,
    "start_time": "2022-07-10T16:29:46.505Z"
   },
   {
    "duration": 92,
    "start_time": "2022-07-10T16:29:46.592Z"
   },
   {
    "duration": 17,
    "start_time": "2022-07-10T16:29:46.686Z"
   },
   {
    "duration": 151,
    "start_time": "2022-07-10T16:29:46.707Z"
   },
   {
    "duration": 49,
    "start_time": "2022-07-10T16:29:46.860Z"
   },
   {
    "duration": 143,
    "start_time": "2022-07-10T16:29:46.912Z"
   },
   {
    "duration": 5,
    "start_time": "2022-07-10T16:29:47.057Z"
   },
   {
    "duration": 84,
    "start_time": "2022-07-10T16:29:47.064Z"
   },
   {
    "duration": 7,
    "start_time": "2022-07-10T16:29:47.150Z"
   },
   {
    "duration": 24,
    "start_time": "2022-07-10T16:29:47.159Z"
   },
   {
    "duration": 7,
    "start_time": "2022-07-10T16:29:47.185Z"
   },
   {
    "duration": 1656,
    "start_time": "2022-07-10T16:29:47.193Z"
   },
   {
    "duration": 44,
    "start_time": "2022-07-10T16:29:48.851Z"
   },
   {
    "duration": 22,
    "start_time": "2022-07-10T16:29:48.897Z"
   },
   {
    "duration": 38,
    "start_time": "2022-07-10T16:29:48.946Z"
   },
   {
    "duration": 137,
    "start_time": "2022-07-10T16:29:48.986Z"
   },
   {
    "duration": 155,
    "start_time": "2022-07-10T16:29:49.125Z"
   },
   {
    "duration": 68,
    "start_time": "2022-07-10T16:29:49.281Z"
   },
   {
    "duration": 3,
    "start_time": "2022-07-10T16:29:49.351Z"
   },
   {
    "duration": 91,
    "start_time": "2022-07-10T16:29:49.356Z"
   },
   {
    "duration": 157,
    "start_time": "2022-07-10T16:29:49.448Z"
   },
   {
    "duration": 197,
    "start_time": "2022-07-10T16:29:49.608Z"
   },
   {
    "duration": 105,
    "start_time": "2022-07-10T16:29:49.807Z"
   },
   {
    "duration": 10,
    "start_time": "2022-07-10T16:29:49.914Z"
   },
   {
    "duration": 44,
    "start_time": "2022-07-10T16:29:49.926Z"
   },
   {
    "duration": 3,
    "start_time": "2022-07-10T16:29:49.971Z"
   },
   {
    "duration": 98,
    "start_time": "2022-07-10T16:29:49.976Z"
   },
   {
    "duration": 3,
    "start_time": "2022-07-10T16:31:16.668Z"
   },
   {
    "duration": 33,
    "start_time": "2022-07-10T16:32:48.196Z"
   },
   {
    "duration": 54,
    "start_time": "2022-07-10T16:56:53.173Z"
   },
   {
    "duration": 13,
    "start_time": "2022-07-10T16:56:59.678Z"
   },
   {
    "duration": 88,
    "start_time": "2022-07-10T16:57:23.341Z"
   },
   {
    "duration": 48,
    "start_time": "2022-07-10T16:57:46.880Z"
   },
   {
    "duration": 24,
    "start_time": "2022-07-10T17:14:44.737Z"
   },
   {
    "duration": 30,
    "start_time": "2022-07-10T17:15:59.582Z"
   },
   {
    "duration": 28,
    "start_time": "2022-07-10T17:16:32.782Z"
   },
   {
    "duration": 88,
    "start_time": "2022-07-10T17:20:09.366Z"
   },
   {
    "duration": 91,
    "start_time": "2022-07-10T17:21:16.498Z"
   },
   {
    "duration": 230,
    "start_time": "2022-07-10T17:21:48.809Z"
   },
   {
    "duration": 99,
    "start_time": "2022-07-10T17:21:56.104Z"
   },
   {
    "duration": 73,
    "start_time": "2022-07-10T17:24:15.243Z"
   },
   {
    "duration": 82,
    "start_time": "2022-07-10T17:27:39.404Z"
   },
   {
    "duration": 101,
    "start_time": "2022-07-10T17:28:59.538Z"
   },
   {
    "duration": 95,
    "start_time": "2022-07-10T17:29:13.462Z"
   },
   {
    "duration": 93,
    "start_time": "2022-07-10T17:29:24.282Z"
   },
   {
    "duration": 89,
    "start_time": "2022-07-10T17:29:46.330Z"
   },
   {
    "duration": 92,
    "start_time": "2022-07-10T17:30:15.965Z"
   },
   {
    "duration": 103,
    "start_time": "2022-07-10T17:31:37.941Z"
   },
   {
    "duration": 27,
    "start_time": "2022-07-10T17:32:09.829Z"
   },
   {
    "duration": 89,
    "start_time": "2022-07-10T17:32:11.845Z"
   },
   {
    "duration": 26,
    "start_time": "2022-07-10T17:32:35.665Z"
   },
   {
    "duration": 86,
    "start_time": "2022-07-10T17:32:38.309Z"
   },
   {
    "duration": 92,
    "start_time": "2022-07-10T17:34:57.551Z"
   },
   {
    "duration": 25,
    "start_time": "2022-07-10T17:35:55.457Z"
   },
   {
    "duration": 86,
    "start_time": "2022-07-10T17:36:09.074Z"
   },
   {
    "duration": 1184,
    "start_time": "2022-07-10T17:36:36.992Z"
   },
   {
    "duration": 274,
    "start_time": "2022-07-10T17:36:38.178Z"
   },
   {
    "duration": 158,
    "start_time": "2022-07-10T17:36:38.453Z"
   },
   {
    "duration": 19,
    "start_time": "2022-07-10T17:36:38.613Z"
   },
   {
    "duration": 27,
    "start_time": "2022-07-10T17:36:38.634Z"
   },
   {
    "duration": 18,
    "start_time": "2022-07-10T17:36:38.662Z"
   },
   {
    "duration": 72,
    "start_time": "2022-07-10T17:36:38.681Z"
   },
   {
    "duration": 80,
    "start_time": "2022-07-10T17:36:38.756Z"
   },
   {
    "duration": 22,
    "start_time": "2022-07-10T17:36:38.837Z"
   },
   {
    "duration": 107,
    "start_time": "2022-07-10T17:36:38.864Z"
   },
   {
    "duration": 45,
    "start_time": "2022-07-10T17:36:38.973Z"
   },
   {
    "duration": 150,
    "start_time": "2022-07-10T17:36:39.020Z"
   },
   {
    "duration": 9,
    "start_time": "2022-07-10T17:36:39.172Z"
   },
   {
    "duration": 83,
    "start_time": "2022-07-10T17:36:39.183Z"
   },
   {
    "duration": 7,
    "start_time": "2022-07-10T17:36:39.267Z"
   },
   {
    "duration": 18,
    "start_time": "2022-07-10T17:36:39.275Z"
   },
   {
    "duration": 7,
    "start_time": "2022-07-10T17:36:39.294Z"
   },
   {
    "duration": 1580,
    "start_time": "2022-07-10T17:36:39.302Z"
   },
   {
    "duration": 36,
    "start_time": "2022-07-10T17:36:40.883Z"
   },
   {
    "duration": 38,
    "start_time": "2022-07-10T17:36:40.921Z"
   },
   {
    "duration": 24,
    "start_time": "2022-07-10T17:36:40.963Z"
   },
   {
    "duration": 112,
    "start_time": "2022-07-10T17:36:40.989Z"
   },
   {
    "duration": 137,
    "start_time": "2022-07-10T17:36:41.103Z"
   },
   {
    "duration": 57,
    "start_time": "2022-07-10T17:36:41.241Z"
   },
   {
    "duration": 2,
    "start_time": "2022-07-10T17:36:41.300Z"
   },
   {
    "duration": 63,
    "start_time": "2022-07-10T17:36:41.304Z"
   },
   {
    "duration": 139,
    "start_time": "2022-07-10T17:36:41.369Z"
   },
   {
    "duration": 159,
    "start_time": "2022-07-10T17:36:41.512Z"
   },
   {
    "duration": 86,
    "start_time": "2022-07-10T17:36:41.673Z"
   },
   {
    "duration": 10,
    "start_time": "2022-07-10T17:36:41.760Z"
   },
   {
    "duration": 19,
    "start_time": "2022-07-10T17:36:41.771Z"
   },
   {
    "duration": 66,
    "start_time": "2022-07-10T17:36:41.792Z"
   },
   {
    "duration": 0,
    "start_time": "2022-07-10T17:36:41.860Z"
   },
   {
    "duration": 69,
    "start_time": "2022-07-10T17:37:10.049Z"
   },
   {
    "duration": 104,
    "start_time": "2022-07-10T17:37:21.943Z"
   },
   {
    "duration": 98,
    "start_time": "2022-07-10T17:38:24.065Z"
   },
   {
    "duration": 92,
    "start_time": "2022-07-10T17:39:45.948Z"
   },
   {
    "duration": 32,
    "start_time": "2022-07-10T17:44:55.658Z"
   },
   {
    "duration": 37,
    "start_time": "2022-07-10T17:45:05.244Z"
   },
   {
    "duration": 167,
    "start_time": "2022-07-10T17:52:16.056Z"
   },
   {
    "duration": 75,
    "start_time": "2022-07-10T17:52:35.145Z"
   },
   {
    "duration": 5,
    "start_time": "2022-07-10T17:55:54.980Z"
   },
   {
    "duration": 6,
    "start_time": "2022-07-10T17:57:56.576Z"
   },
   {
    "duration": 9,
    "start_time": "2022-07-10T17:58:04.828Z"
   },
   {
    "duration": 7,
    "start_time": "2022-07-10T17:58:45.752Z"
   },
   {
    "duration": 12,
    "start_time": "2022-07-10T17:59:06.771Z"
   },
   {
    "duration": 12,
    "start_time": "2022-07-10T17:59:57.264Z"
   },
   {
    "duration": 11,
    "start_time": "2022-07-10T18:00:21.384Z"
   },
   {
    "duration": 30,
    "start_time": "2022-07-10T18:00:30.144Z"
   },
   {
    "duration": 28,
    "start_time": "2022-07-10T18:01:47.003Z"
   },
   {
    "duration": 28,
    "start_time": "2022-07-10T18:04:20.658Z"
   },
   {
    "duration": 76,
    "start_time": "2022-07-10T18:07:16.751Z"
   },
   {
    "duration": 76,
    "start_time": "2022-07-10T18:07:49.967Z"
   },
   {
    "duration": 86,
    "start_time": "2022-07-10T18:09:02.951Z"
   },
   {
    "duration": 82,
    "start_time": "2022-07-10T18:25:52.588Z"
   },
   {
    "duration": 76,
    "start_time": "2022-07-10T18:26:14.484Z"
   },
   {
    "duration": 1271,
    "start_time": "2022-07-10T18:26:19.145Z"
   },
   {
    "duration": 287,
    "start_time": "2022-07-10T18:26:20.418Z"
   },
   {
    "duration": 158,
    "start_time": "2022-07-10T18:26:20.707Z"
   },
   {
    "duration": 21,
    "start_time": "2022-07-10T18:26:20.867Z"
   },
   {
    "duration": 7,
    "start_time": "2022-07-10T18:26:20.890Z"
   },
   {
    "duration": 19,
    "start_time": "2022-07-10T18:26:20.899Z"
   },
   {
    "duration": 74,
    "start_time": "2022-07-10T18:26:20.919Z"
   },
   {
    "duration": 99,
    "start_time": "2022-07-10T18:26:20.994Z"
   },
   {
    "duration": 12,
    "start_time": "2022-07-10T18:26:21.095Z"
   },
   {
    "duration": 92,
    "start_time": "2022-07-10T18:26:21.110Z"
   },
   {
    "duration": 45,
    "start_time": "2022-07-10T18:26:21.204Z"
   },
   {
    "duration": 126,
    "start_time": "2022-07-10T18:26:21.251Z"
   },
   {
    "duration": 5,
    "start_time": "2022-07-10T18:26:21.378Z"
   },
   {
    "duration": 66,
    "start_time": "2022-07-10T18:26:21.384Z"
   },
   {
    "duration": 9,
    "start_time": "2022-07-10T18:26:21.452Z"
   },
   {
    "duration": 24,
    "start_time": "2022-07-10T18:26:21.463Z"
   },
   {
    "duration": 8,
    "start_time": "2022-07-10T18:26:21.489Z"
   },
   {
    "duration": 1593,
    "start_time": "2022-07-10T18:26:21.499Z"
   },
   {
    "duration": 52,
    "start_time": "2022-07-10T18:26:23.094Z"
   },
   {
    "duration": 27,
    "start_time": "2022-07-10T18:26:23.148Z"
   },
   {
    "duration": 29,
    "start_time": "2022-07-10T18:26:23.178Z"
   },
   {
    "duration": 124,
    "start_time": "2022-07-10T18:26:23.209Z"
   },
   {
    "duration": 171,
    "start_time": "2022-07-10T18:26:23.334Z"
   },
   {
    "duration": 69,
    "start_time": "2022-07-10T18:26:23.507Z"
   },
   {
    "duration": 3,
    "start_time": "2022-07-10T18:26:23.578Z"
   },
   {
    "duration": 65,
    "start_time": "2022-07-10T18:26:23.582Z"
   },
   {
    "duration": 185,
    "start_time": "2022-07-10T18:26:23.648Z"
   },
   {
    "duration": 154,
    "start_time": "2022-07-10T18:26:23.836Z"
   },
   {
    "duration": 75,
    "start_time": "2022-07-10T18:26:23.992Z"
   },
   {
    "duration": 9,
    "start_time": "2022-07-10T18:26:24.069Z"
   },
   {
    "duration": 22,
    "start_time": "2022-07-10T18:26:24.080Z"
   },
   {
    "duration": 100,
    "start_time": "2022-07-10T18:26:24.104Z"
   },
   {
    "duration": 96,
    "start_time": "2022-07-10T18:26:24.206Z"
   },
   {
    "duration": 93,
    "start_time": "2022-07-10T18:26:24.304Z"
   },
   {
    "duration": 966,
    "start_time": "2022-07-10T18:26:24.399Z"
   },
   {
    "duration": 846,
    "start_time": "2022-07-10T18:30:26.654Z"
   },
   {
    "duration": 72,
    "start_time": "2022-07-10T18:30:52.708Z"
   },
   {
    "duration": 402,
    "start_time": "2022-07-10T18:33:00.372Z"
   },
   {
    "duration": 280,
    "start_time": "2022-07-10T18:33:32.700Z"
   },
   {
    "duration": 1400,
    "start_time": "2022-07-10T18:33:47.701Z"
   },
   {
    "duration": 327,
    "start_time": "2022-07-10T18:33:49.104Z"
   },
   {
    "duration": 172,
    "start_time": "2022-07-10T18:33:49.432Z"
   },
   {
    "duration": 22,
    "start_time": "2022-07-10T18:33:49.606Z"
   },
   {
    "duration": 22,
    "start_time": "2022-07-10T18:33:49.630Z"
   },
   {
    "duration": 22,
    "start_time": "2022-07-10T18:33:49.653Z"
   },
   {
    "duration": 96,
    "start_time": "2022-07-10T18:33:49.676Z"
   },
   {
    "duration": 92,
    "start_time": "2022-07-10T18:33:49.774Z"
   },
   {
    "duration": 14,
    "start_time": "2022-07-10T18:33:49.867Z"
   },
   {
    "duration": 90,
    "start_time": "2022-07-10T18:33:49.884Z"
   },
   {
    "duration": 31,
    "start_time": "2022-07-10T18:33:49.976Z"
   },
   {
    "duration": 145,
    "start_time": "2022-07-10T18:33:50.009Z"
   },
   {
    "duration": 5,
    "start_time": "2022-07-10T18:33:50.156Z"
   },
   {
    "duration": 64,
    "start_time": "2022-07-10T18:33:50.164Z"
   },
   {
    "duration": 21,
    "start_time": "2022-07-10T18:33:50.230Z"
   },
   {
    "duration": 27,
    "start_time": "2022-07-10T18:33:50.253Z"
   },
   {
    "duration": 9,
    "start_time": "2022-07-10T18:33:50.282Z"
   },
   {
    "duration": 1630,
    "start_time": "2022-07-10T18:33:50.293Z"
   },
   {
    "duration": 41,
    "start_time": "2022-07-10T18:33:51.925Z"
   },
   {
    "duration": 19,
    "start_time": "2022-07-10T18:33:51.968Z"
   },
   {
    "duration": 27,
    "start_time": "2022-07-10T18:33:51.988Z"
   },
   {
    "duration": 144,
    "start_time": "2022-07-10T18:33:52.017Z"
   },
   {
    "duration": 162,
    "start_time": "2022-07-10T18:33:52.164Z"
   },
   {
    "duration": 64,
    "start_time": "2022-07-10T18:33:52.328Z"
   },
   {
    "duration": 2,
    "start_time": "2022-07-10T18:33:52.393Z"
   },
   {
    "duration": 65,
    "start_time": "2022-07-10T18:33:52.397Z"
   },
   {
    "duration": 158,
    "start_time": "2022-07-10T18:33:52.463Z"
   },
   {
    "duration": 227,
    "start_time": "2022-07-10T18:33:52.624Z"
   },
   {
    "duration": 43,
    "start_time": "2022-07-10T18:33:52.852Z"
   },
   {
    "duration": 11,
    "start_time": "2022-07-10T18:33:52.897Z"
   },
   {
    "duration": 58,
    "start_time": "2022-07-10T18:33:52.910Z"
   },
   {
    "duration": 368,
    "start_time": "2022-07-10T18:33:52.970Z"
   },
   {
    "duration": 0,
    "start_time": "2022-07-10T18:33:53.340Z"
   },
   {
    "duration": 276,
    "start_time": "2022-07-10T18:35:08.520Z"
   },
   {
    "duration": 1230,
    "start_time": "2022-07-10T18:35:14.997Z"
   },
   {
    "duration": 297,
    "start_time": "2022-07-10T18:35:16.230Z"
   },
   {
    "duration": 200,
    "start_time": "2022-07-10T18:35:16.529Z"
   },
   {
    "duration": 44,
    "start_time": "2022-07-10T18:35:16.731Z"
   },
   {
    "duration": 16,
    "start_time": "2022-07-10T18:35:16.777Z"
   },
   {
    "duration": 38,
    "start_time": "2022-07-10T18:35:16.795Z"
   },
   {
    "duration": 74,
    "start_time": "2022-07-10T18:35:16.835Z"
   },
   {
    "duration": 106,
    "start_time": "2022-07-10T18:35:16.911Z"
   },
   {
    "duration": 29,
    "start_time": "2022-07-10T18:35:17.018Z"
   },
   {
    "duration": 85,
    "start_time": "2022-07-10T18:35:17.049Z"
   },
   {
    "duration": 34,
    "start_time": "2022-07-10T18:35:17.145Z"
   },
   {
    "duration": 145,
    "start_time": "2022-07-10T18:35:17.181Z"
   },
   {
    "duration": 4,
    "start_time": "2022-07-10T18:35:17.327Z"
   },
   {
    "duration": 60,
    "start_time": "2022-07-10T18:35:17.349Z"
   },
   {
    "duration": 8,
    "start_time": "2022-07-10T18:35:17.411Z"
   },
   {
    "duration": 42,
    "start_time": "2022-07-10T18:35:17.420Z"
   },
   {
    "duration": 9,
    "start_time": "2022-07-10T18:35:17.464Z"
   },
   {
    "duration": 1623,
    "start_time": "2022-07-10T18:35:17.474Z"
   },
   {
    "duration": 60,
    "start_time": "2022-07-10T18:35:19.099Z"
   },
   {
    "duration": 24,
    "start_time": "2022-07-10T18:35:19.161Z"
   },
   {
    "duration": 65,
    "start_time": "2022-07-10T18:35:19.187Z"
   },
   {
    "duration": 145,
    "start_time": "2022-07-10T18:35:19.254Z"
   },
   {
    "duration": 164,
    "start_time": "2022-07-10T18:35:19.400Z"
   },
   {
    "duration": 56,
    "start_time": "2022-07-10T18:35:19.566Z"
   },
   {
    "duration": 22,
    "start_time": "2022-07-10T18:35:19.624Z"
   },
   {
    "duration": 70,
    "start_time": "2022-07-10T18:35:19.648Z"
   },
   {
    "duration": 176,
    "start_time": "2022-07-10T18:35:19.720Z"
   },
   {
    "duration": 186,
    "start_time": "2022-07-10T18:35:19.898Z"
   },
   {
    "duration": 63,
    "start_time": "2022-07-10T18:35:20.087Z"
   },
   {
    "duration": 11,
    "start_time": "2022-07-10T18:35:20.152Z"
   },
   {
    "duration": 58,
    "start_time": "2022-07-10T18:35:20.165Z"
   },
   {
    "duration": 456,
    "start_time": "2022-07-10T18:35:20.225Z"
   },
   {
    "duration": 0,
    "start_time": "2022-07-10T18:35:20.683Z"
   },
   {
    "duration": 86,
    "start_time": "2022-07-10T18:35:37.654Z"
   },
   {
    "duration": 56,
    "start_time": "2022-07-10T18:38:22.460Z"
   },
   {
    "duration": 261,
    "start_time": "2022-07-10T18:39:07.520Z"
   },
   {
    "duration": 48,
    "start_time": "2022-07-10T18:39:26.466Z"
   },
   {
    "duration": 59,
    "start_time": "2022-07-10T18:40:00.966Z"
   },
   {
    "duration": 63,
    "start_time": "2022-07-10T18:42:22.299Z"
   },
   {
    "duration": 55,
    "start_time": "2022-07-10T18:42:54.458Z"
   },
   {
    "duration": 70,
    "start_time": "2022-07-10T18:44:28.872Z"
   },
   {
    "duration": 59,
    "start_time": "2022-07-10T18:45:10.756Z"
   },
   {
    "duration": 3,
    "start_time": "2022-07-10T18:48:07.361Z"
   },
   {
    "duration": 10,
    "start_time": "2022-07-10T18:48:31.214Z"
   },
   {
    "duration": 48,
    "start_time": "2022-07-10T18:48:39.959Z"
   },
   {
    "duration": 23,
    "start_time": "2022-07-10T18:50:17.765Z"
   },
   {
    "duration": 156,
    "start_time": "2022-07-10T18:50:23.666Z"
   },
   {
    "duration": 163,
    "start_time": "2022-07-10T18:50:38.461Z"
   },
   {
    "duration": 160,
    "start_time": "2022-07-10T18:58:57.861Z"
   },
   {
    "duration": 401,
    "start_time": "2022-07-10T18:59:25.673Z"
   },
   {
    "duration": 148,
    "start_time": "2022-07-10T19:00:01.665Z"
   },
   {
    "duration": 17,
    "start_time": "2022-07-10T19:00:09.544Z"
   },
   {
    "duration": 13,
    "start_time": "2022-07-10T19:00:17.872Z"
   },
   {
    "duration": 425,
    "start_time": "2022-07-10T19:00:24.281Z"
   },
   {
    "duration": 147,
    "start_time": "2022-07-10T19:01:16.692Z"
   },
   {
    "duration": 164,
    "start_time": "2022-07-10T19:01:35.612Z"
   },
   {
    "duration": 186,
    "start_time": "2022-07-10T19:04:03.901Z"
   },
   {
    "duration": 31,
    "start_time": "2022-07-10T19:23:07.438Z"
   },
   {
    "duration": 915,
    "start_time": "2022-07-10T19:24:00.289Z"
   },
   {
    "duration": 22,
    "start_time": "2022-07-10T19:25:04.877Z"
   },
   {
    "duration": 26,
    "start_time": "2022-07-10T19:25:47.761Z"
   },
   {
    "duration": 33,
    "start_time": "2022-07-10T19:25:57.244Z"
   },
   {
    "duration": 56,
    "start_time": "2022-07-10T19:31:21.301Z"
   },
   {
    "duration": 974,
    "start_time": "2022-07-10T19:31:32.442Z"
   },
   {
    "duration": 72,
    "start_time": "2022-07-10T19:33:25.789Z"
   },
   {
    "duration": 18,
    "start_time": "2022-07-10T19:35:00.263Z"
   },
   {
    "duration": 60,
    "start_time": "2022-07-10T19:36:38.737Z"
   },
   {
    "duration": 61,
    "start_time": "2022-07-10T19:36:53.217Z"
   },
   {
    "duration": 150,
    "start_time": "2022-07-10T19:38:40.945Z"
   },
   {
    "duration": 182,
    "start_time": "2022-07-10T19:39:03.633Z"
   },
   {
    "duration": 92,
    "start_time": "2022-07-10T19:46:49.812Z"
   },
   {
    "duration": 92,
    "start_time": "2022-07-10T19:46:59.065Z"
   },
   {
    "duration": 134,
    "start_time": "2022-07-10T19:50:12.349Z"
   },
   {
    "duration": 324,
    "start_time": "2022-07-10T19:52:57.374Z"
   },
   {
    "duration": 56,
    "start_time": "2022-07-10T19:54:07.830Z"
   },
   {
    "duration": 119,
    "start_time": "2022-07-10T19:54:18.052Z"
   },
   {
    "duration": 327,
    "start_time": "2022-07-10T19:56:16.322Z"
   },
   {
    "duration": 142,
    "start_time": "2022-07-10T19:56:48.758Z"
   },
   {
    "duration": 386,
    "start_time": "2022-07-10T19:57:01.311Z"
   },
   {
    "duration": 148,
    "start_time": "2022-07-10T19:57:40.642Z"
   },
   {
    "duration": 174,
    "start_time": "2022-07-10T19:58:08.327Z"
   },
   {
    "duration": 143,
    "start_time": "2022-07-10T19:59:31.247Z"
   },
   {
    "duration": 42,
    "start_time": "2022-07-10T20:11:26.876Z"
   },
   {
    "duration": 63,
    "start_time": "2022-07-10T20:13:18.852Z"
   },
   {
    "duration": 64,
    "start_time": "2022-07-10T20:14:51.096Z"
   },
   {
    "duration": 74,
    "start_time": "2022-07-10T20:15:14.633Z"
   },
   {
    "duration": 68,
    "start_time": "2022-07-10T20:15:51.065Z"
   },
   {
    "duration": 67,
    "start_time": "2022-07-10T20:16:15.196Z"
   },
   {
    "duration": 73,
    "start_time": "2022-07-10T20:17:01.780Z"
   },
   {
    "duration": 64,
    "start_time": "2022-07-10T20:17:08.156Z"
   },
   {
    "duration": 72,
    "start_time": "2022-07-10T20:17:15.524Z"
   },
   {
    "duration": 69,
    "start_time": "2022-07-10T20:17:40.208Z"
   },
   {
    "duration": 73,
    "start_time": "2022-07-10T20:17:49.996Z"
   },
   {
    "duration": 72,
    "start_time": "2022-07-10T20:18:43.183Z"
   },
   {
    "duration": 89,
    "start_time": "2022-07-10T20:31:29.200Z"
   },
   {
    "duration": 73,
    "start_time": "2022-07-10T20:31:37.928Z"
   },
   {
    "duration": 74,
    "start_time": "2022-07-10T20:31:50.128Z"
   },
   {
    "duration": 71,
    "start_time": "2022-07-10T20:31:56.872Z"
   },
   {
    "duration": 71,
    "start_time": "2022-07-10T20:32:35.279Z"
   },
   {
    "duration": 66,
    "start_time": "2022-07-10T20:33:30.079Z"
   },
   {
    "duration": 69,
    "start_time": "2022-07-10T20:33:35.228Z"
   },
   {
    "duration": 69,
    "start_time": "2022-07-10T20:38:29.822Z"
   },
   {
    "duration": 68,
    "start_time": "2022-07-10T20:39:03.618Z"
   },
   {
    "duration": 69,
    "start_time": "2022-07-10T20:39:15.430Z"
   },
   {
    "duration": 73,
    "start_time": "2022-07-10T20:39:24.836Z"
   },
   {
    "duration": 82,
    "start_time": "2022-07-10T20:41:29.106Z"
   },
   {
    "duration": 89,
    "start_time": "2022-07-10T20:42:33.441Z"
   },
   {
    "duration": 85,
    "start_time": "2022-07-10T21:00:46.502Z"
   },
   {
    "duration": 2332,
    "start_time": "2022-07-11T07:51:06.913Z"
   },
   {
    "duration": 612,
    "start_time": "2022-07-11T07:51:09.247Z"
   },
   {
    "duration": 155,
    "start_time": "2022-07-11T07:51:09.864Z"
   },
   {
    "duration": 23,
    "start_time": "2022-07-11T07:51:10.024Z"
   },
   {
    "duration": 8,
    "start_time": "2022-07-11T07:51:10.049Z"
   },
   {
    "duration": 22,
    "start_time": "2022-07-11T07:51:10.059Z"
   },
   {
    "duration": 75,
    "start_time": "2022-07-11T07:51:10.083Z"
   },
   {
    "duration": 105,
    "start_time": "2022-07-11T07:51:10.160Z"
   },
   {
    "duration": 81,
    "start_time": "2022-07-11T07:51:10.268Z"
   },
   {
    "duration": 113,
    "start_time": "2022-07-11T07:51:10.352Z"
   },
   {
    "duration": 28,
    "start_time": "2022-07-11T07:51:10.467Z"
   },
   {
    "duration": 127,
    "start_time": "2022-07-11T07:51:10.497Z"
   },
   {
    "duration": 4,
    "start_time": "2022-07-11T07:51:10.626Z"
   },
   {
    "duration": 48,
    "start_time": "2022-07-11T07:51:10.632Z"
   },
   {
    "duration": 7,
    "start_time": "2022-07-11T07:51:10.682Z"
   },
   {
    "duration": 43,
    "start_time": "2022-07-11T07:51:10.691Z"
   },
   {
    "duration": 6,
    "start_time": "2022-07-11T07:51:10.736Z"
   },
   {
    "duration": 2042,
    "start_time": "2022-07-11T07:51:10.744Z"
   },
   {
    "duration": 56,
    "start_time": "2022-07-11T07:51:12.787Z"
   },
   {
    "duration": 19,
    "start_time": "2022-07-11T07:51:12.844Z"
   },
   {
    "duration": 26,
    "start_time": "2022-07-11T07:51:12.865Z"
   },
   {
    "duration": 109,
    "start_time": "2022-07-11T07:51:12.893Z"
   },
   {
    "duration": 150,
    "start_time": "2022-07-11T07:51:13.004Z"
   },
   {
    "duration": 48,
    "start_time": "2022-07-11T07:51:13.157Z"
   },
   {
    "duration": 2,
    "start_time": "2022-07-11T07:51:13.207Z"
   },
   {
    "duration": 50,
    "start_time": "2022-07-11T07:51:13.223Z"
   },
   {
    "duration": 154,
    "start_time": "2022-07-11T07:51:13.276Z"
   },
   {
    "duration": 134,
    "start_time": "2022-07-11T07:51:13.432Z"
   },
   {
    "duration": 75,
    "start_time": "2022-07-11T07:51:13.569Z"
   },
   {
    "duration": 9,
    "start_time": "2022-07-11T07:51:13.646Z"
   },
   {
    "duration": 19,
    "start_time": "2022-07-11T07:51:13.657Z"
   },
   {
    "duration": 149,
    "start_time": "2022-07-11T07:51:13.677Z"
   },
   {
    "duration": 187,
    "start_time": "2022-07-11T07:51:13.828Z"
   },
   {
    "duration": 0,
    "start_time": "2022-07-11T07:51:14.016Z"
   },
   {
    "duration": 1,
    "start_time": "2022-07-11T07:51:14.017Z"
   },
   {
    "duration": 0,
    "start_time": "2022-07-11T07:51:14.023Z"
   },
   {
    "duration": 33,
    "start_time": "2022-07-11T07:55:37.801Z"
   },
   {
    "duration": 35,
    "start_time": "2022-07-11T07:57:20.697Z"
   },
   {
    "duration": 40,
    "start_time": "2022-07-11T07:57:38.685Z"
   },
   {
    "duration": 48,
    "start_time": "2022-07-11T07:57:59.450Z"
   },
   {
    "duration": 44,
    "start_time": "2022-07-11T07:58:14.878Z"
   },
   {
    "duration": 48,
    "start_time": "2022-07-11T07:58:31.817Z"
   },
   {
    "duration": 41,
    "start_time": "2022-07-11T08:03:48.130Z"
   },
   {
    "duration": 880,
    "start_time": "2022-07-11T08:05:31.985Z"
   },
   {
    "duration": 34,
    "start_time": "2022-07-11T08:06:07.485Z"
   },
   {
    "duration": 42,
    "start_time": "2022-07-11T08:07:00.128Z"
   },
   {
    "duration": 62,
    "start_time": "2022-07-11T08:51:27.825Z"
   },
   {
    "duration": 63,
    "start_time": "2022-07-11T08:51:50.729Z"
   },
   {
    "duration": 64,
    "start_time": "2022-07-11T08:52:06.533Z"
   },
   {
    "duration": 142,
    "start_time": "2022-07-11T08:57:23.201Z"
   },
   {
    "duration": 143,
    "start_time": "2022-07-11T08:58:22.557Z"
   },
   {
    "duration": 155,
    "start_time": "2022-07-11T08:58:28.709Z"
   },
   {
    "duration": 141,
    "start_time": "2022-07-11T08:59:41.800Z"
   },
   {
    "duration": 160,
    "start_time": "2022-07-11T09:18:11.696Z"
   },
   {
    "duration": 52,
    "start_time": "2022-07-11T09:19:39.092Z"
   },
   {
    "duration": 55,
    "start_time": "2022-07-11T09:19:52.824Z"
   },
   {
    "duration": 187,
    "start_time": "2022-07-11T09:21:04.249Z"
   },
   {
    "duration": 175,
    "start_time": "2022-07-11T09:21:24.817Z"
   },
   {
    "duration": 466,
    "start_time": "2022-07-11T09:24:01.392Z"
   },
   {
    "duration": 1193,
    "start_time": "2022-07-11T09:24:06.278Z"
   },
   {
    "duration": 288,
    "start_time": "2022-07-11T09:24:07.474Z"
   },
   {
    "duration": 151,
    "start_time": "2022-07-11T09:24:07.763Z"
   },
   {
    "duration": 19,
    "start_time": "2022-07-11T09:24:07.916Z"
   },
   {
    "duration": 7,
    "start_time": "2022-07-11T09:24:07.937Z"
   },
   {
    "duration": 18,
    "start_time": "2022-07-11T09:24:07.945Z"
   },
   {
    "duration": 81,
    "start_time": "2022-07-11T09:24:07.964Z"
   },
   {
    "duration": 81,
    "start_time": "2022-07-11T09:24:08.046Z"
   },
   {
    "duration": 13,
    "start_time": "2022-07-11T09:24:08.129Z"
   },
   {
    "duration": 84,
    "start_time": "2022-07-11T09:24:08.145Z"
   },
   {
    "duration": 26,
    "start_time": "2022-07-11T09:24:08.231Z"
   },
   {
    "duration": 119,
    "start_time": "2022-07-11T09:24:08.259Z"
   },
   {
    "duration": 4,
    "start_time": "2022-07-11T09:24:08.380Z"
   },
   {
    "duration": 56,
    "start_time": "2022-07-11T09:24:08.385Z"
   },
   {
    "duration": 6,
    "start_time": "2022-07-11T09:24:08.443Z"
   },
   {
    "duration": 19,
    "start_time": "2022-07-11T09:24:08.451Z"
   },
   {
    "duration": 7,
    "start_time": "2022-07-11T09:24:08.471Z"
   },
   {
    "duration": 1448,
    "start_time": "2022-07-11T09:24:08.479Z"
   },
   {
    "duration": 34,
    "start_time": "2022-07-11T09:24:09.928Z"
   },
   {
    "duration": 18,
    "start_time": "2022-07-11T09:24:09.964Z"
   },
   {
    "duration": 52,
    "start_time": "2022-07-11T09:24:09.984Z"
   },
   {
    "duration": 113,
    "start_time": "2022-07-11T09:24:10.038Z"
   },
   {
    "duration": 140,
    "start_time": "2022-07-11T09:24:10.153Z"
   },
   {
    "duration": 60,
    "start_time": "2022-07-11T09:24:10.295Z"
   },
   {
    "duration": 2,
    "start_time": "2022-07-11T09:24:10.357Z"
   },
   {
    "duration": 80,
    "start_time": "2022-07-11T09:24:10.361Z"
   },
   {
    "duration": 141,
    "start_time": "2022-07-11T09:24:10.443Z"
   },
   {
    "duration": 142,
    "start_time": "2022-07-11T09:24:10.587Z"
   },
   {
    "duration": 39,
    "start_time": "2022-07-11T09:24:10.731Z"
   },
   {
    "duration": 8,
    "start_time": "2022-07-11T09:24:10.771Z"
   },
   {
    "duration": 33,
    "start_time": "2022-07-11T09:24:10.780Z"
   },
   {
    "duration": 548,
    "start_time": "2022-07-11T09:24:10.823Z"
   },
   {
    "duration": 0,
    "start_time": "2022-07-11T09:24:11.372Z"
   },
   {
    "duration": 0,
    "start_time": "2022-07-11T09:24:11.373Z"
   },
   {
    "duration": 0,
    "start_time": "2022-07-11T09:24:11.374Z"
   },
   {
    "duration": 0,
    "start_time": "2022-07-11T09:24:11.375Z"
   },
   {
    "duration": 0,
    "start_time": "2022-07-11T09:24:11.376Z"
   },
   {
    "duration": 0,
    "start_time": "2022-07-11T09:24:11.377Z"
   },
   {
    "duration": 0,
    "start_time": "2022-07-11T09:24:11.378Z"
   },
   {
    "duration": 0,
    "start_time": "2022-07-11T09:24:11.380Z"
   },
   {
    "duration": 154,
    "start_time": "2022-07-11T09:25:01.696Z"
   },
   {
    "duration": 180,
    "start_time": "2022-07-11T09:41:37.154Z"
   },
   {
    "duration": 72,
    "start_time": "2022-07-11T09:45:17.932Z"
   },
   {
    "duration": 79,
    "start_time": "2022-07-11T09:45:29.501Z"
   },
   {
    "duration": 164,
    "start_time": "2022-07-11T09:48:13.524Z"
   },
   {
    "duration": 155,
    "start_time": "2022-07-11T09:48:57.541Z"
   },
   {
    "duration": 248,
    "start_time": "2022-07-11T09:49:47.256Z"
   },
   {
    "duration": 18,
    "start_time": "2022-07-11T09:49:59.135Z"
   },
   {
    "duration": 31,
    "start_time": "2022-07-11T09:54:21.030Z"
   },
   {
    "duration": 174,
    "start_time": "2022-07-11T09:55:17.312Z"
   },
   {
    "duration": 180,
    "start_time": "2022-07-11T09:58:07.347Z"
   },
   {
    "duration": 170,
    "start_time": "2022-07-11T10:32:36.763Z"
   },
   {
    "duration": 191,
    "start_time": "2022-07-11T10:35:48.265Z"
   },
   {
    "duration": 65,
    "start_time": "2022-07-11T10:50:32.947Z"
   },
   {
    "duration": 104,
    "start_time": "2022-07-11T10:53:47.004Z"
   },
   {
    "duration": 1312,
    "start_time": "2022-07-11T10:53:58.151Z"
   },
   {
    "duration": 193,
    "start_time": "2022-07-11T10:54:18.805Z"
   },
   {
    "duration": 941,
    "start_time": "2022-07-11T11:03:08.267Z"
   },
   {
    "duration": 1193,
    "start_time": "2022-07-11T11:03:36.927Z"
   },
   {
    "duration": 269,
    "start_time": "2022-07-11T11:03:38.124Z"
   },
   {
    "duration": 147,
    "start_time": "2022-07-11T11:03:38.395Z"
   },
   {
    "duration": 18,
    "start_time": "2022-07-11T11:03:38.545Z"
   },
   {
    "duration": 36,
    "start_time": "2022-07-11T11:03:38.565Z"
   },
   {
    "duration": 72,
    "start_time": "2022-07-11T11:03:38.602Z"
   },
   {
    "duration": 124,
    "start_time": "2022-07-11T11:03:38.676Z"
   },
   {
    "duration": 86,
    "start_time": "2022-07-11T11:03:38.802Z"
   },
   {
    "duration": 11,
    "start_time": "2022-07-11T11:03:38.890Z"
   },
   {
    "duration": 89,
    "start_time": "2022-07-11T11:03:38.903Z"
   },
   {
    "duration": 37,
    "start_time": "2022-07-11T11:03:38.994Z"
   },
   {
    "duration": 113,
    "start_time": "2022-07-11T11:03:39.033Z"
   },
   {
    "duration": 4,
    "start_time": "2022-07-11T11:03:39.148Z"
   },
   {
    "duration": 54,
    "start_time": "2022-07-11T11:03:39.154Z"
   },
   {
    "duration": 19,
    "start_time": "2022-07-11T11:03:39.210Z"
   },
   {
    "duration": 22,
    "start_time": "2022-07-11T11:03:39.230Z"
   },
   {
    "duration": 19,
    "start_time": "2022-07-11T11:03:39.254Z"
   },
   {
    "duration": 1444,
    "start_time": "2022-07-11T11:03:39.275Z"
   },
   {
    "duration": 32,
    "start_time": "2022-07-11T11:03:40.723Z"
   },
   {
    "duration": 18,
    "start_time": "2022-07-11T11:03:40.757Z"
   },
   {
    "duration": 49,
    "start_time": "2022-07-11T11:03:40.776Z"
   },
   {
    "duration": 82,
    "start_time": "2022-07-11T11:03:40.826Z"
   },
   {
    "duration": 138,
    "start_time": "2022-07-11T11:03:40.909Z"
   },
   {
    "duration": 48,
    "start_time": "2022-07-11T11:03:41.048Z"
   },
   {
    "duration": 3,
    "start_time": "2022-07-11T11:03:41.097Z"
   },
   {
    "duration": 64,
    "start_time": "2022-07-11T11:03:41.101Z"
   },
   {
    "duration": 162,
    "start_time": "2022-07-11T11:03:41.167Z"
   },
   {
    "duration": 133,
    "start_time": "2022-07-11T11:03:41.333Z"
   },
   {
    "duration": 76,
    "start_time": "2022-07-11T11:03:41.467Z"
   },
   {
    "duration": 8,
    "start_time": "2022-07-11T11:03:41.545Z"
   },
   {
    "duration": 54,
    "start_time": "2022-07-11T11:03:41.555Z"
   },
   {
    "duration": 0,
    "start_time": "2022-07-11T11:03:41.610Z"
   },
   {
    "duration": 0,
    "start_time": "2022-07-11T11:03:41.612Z"
   },
   {
    "duration": 0,
    "start_time": "2022-07-11T11:03:41.613Z"
   },
   {
    "duration": 0,
    "start_time": "2022-07-11T11:03:41.614Z"
   },
   {
    "duration": 0,
    "start_time": "2022-07-11T11:03:41.615Z"
   },
   {
    "duration": 0,
    "start_time": "2022-07-11T11:03:41.616Z"
   },
   {
    "duration": 0,
    "start_time": "2022-07-11T11:03:41.618Z"
   },
   {
    "duration": 0,
    "start_time": "2022-07-11T11:03:41.619Z"
   },
   {
    "duration": 0,
    "start_time": "2022-07-11T11:03:41.620Z"
   },
   {
    "duration": 0,
    "start_time": "2022-07-11T11:03:41.621Z"
   },
   {
    "duration": 0,
    "start_time": "2022-07-11T11:03:41.622Z"
   },
   {
    "duration": 54,
    "start_time": "2022-07-11T11:04:24.000Z"
   },
   {
    "duration": 1693,
    "start_time": "2022-07-11T11:04:27.517Z"
   },
   {
    "duration": 194,
    "start_time": "2022-07-11T11:05:00.628Z"
   },
   {
    "duration": 285,
    "start_time": "2022-07-11T11:05:07.368Z"
   },
   {
    "duration": 238,
    "start_time": "2022-07-11T11:05:30.219Z"
   },
   {
    "duration": 217,
    "start_time": "2022-07-11T11:05:49.549Z"
   },
   {
    "duration": 46,
    "start_time": "2022-07-11T11:11:14.549Z"
   },
   {
    "duration": 45,
    "start_time": "2022-07-11T11:12:29.071Z"
   },
   {
    "duration": 184,
    "start_time": "2022-07-11T11:14:46.288Z"
   },
   {
    "duration": 17,
    "start_time": "2022-07-11T11:19:31.242Z"
   },
   {
    "duration": 16,
    "start_time": "2022-07-11T11:20:46.282Z"
   },
   {
    "duration": 4,
    "start_time": "2022-07-11T11:23:30.537Z"
   },
   {
    "duration": 12,
    "start_time": "2022-07-11T11:23:39.887Z"
   },
   {
    "duration": 12,
    "start_time": "2022-07-11T11:24:38.727Z"
   },
   {
    "duration": 13,
    "start_time": "2022-07-11T11:24:48.270Z"
   },
   {
    "duration": 9,
    "start_time": "2022-07-11T11:26:26.475Z"
   },
   {
    "duration": 9,
    "start_time": "2022-07-11T11:27:09.692Z"
   },
   {
    "duration": 9,
    "start_time": "2022-07-11T11:27:51.791Z"
   },
   {
    "duration": 37,
    "start_time": "2022-07-11T11:30:38.404Z"
   },
   {
    "duration": 32,
    "start_time": "2022-07-11T11:31:35.146Z"
   },
   {
    "duration": 51,
    "start_time": "2022-07-11T11:32:45.972Z"
   },
   {
    "duration": 43,
    "start_time": "2022-07-11T11:36:03.568Z"
   },
   {
    "duration": 56,
    "start_time": "2022-07-11T11:36:09.576Z"
   },
   {
    "duration": 47,
    "start_time": "2022-07-11T11:36:28.952Z"
   },
   {
    "duration": 1103,
    "start_time": "2022-07-11T11:36:43.304Z"
   },
   {
    "duration": 44,
    "start_time": "2022-07-11T11:37:03.084Z"
   },
   {
    "duration": 11,
    "start_time": "2022-07-11T11:37:13.177Z"
   },
   {
    "duration": 45,
    "start_time": "2022-07-11T11:37:59.628Z"
   },
   {
    "duration": 162,
    "start_time": "2022-07-11T11:38:26.476Z"
   },
   {
    "duration": 51,
    "start_time": "2022-07-11T11:48:31.143Z"
   },
   {
    "duration": 59,
    "start_time": "2022-07-11T11:48:44.638Z"
   },
   {
    "duration": 64,
    "start_time": "2022-07-11T11:49:10.993Z"
   },
   {
    "duration": 53,
    "start_time": "2022-07-11T11:50:43.684Z"
   },
   {
    "duration": 63,
    "start_time": "2022-07-11T12:04:02.060Z"
   },
   {
    "duration": 1055,
    "start_time": "2022-07-11T12:05:01.659Z"
   },
   {
    "duration": 63,
    "start_time": "2022-07-11T12:05:13.839Z"
   },
   {
    "duration": 74,
    "start_time": "2022-07-11T12:06:44.042Z"
   },
   {
    "duration": 104,
    "start_time": "2022-07-11T12:07:41.186Z"
   },
   {
    "duration": 53,
    "start_time": "2022-07-11T12:08:29.237Z"
   },
   {
    "duration": 12,
    "start_time": "2022-07-11T12:08:34.966Z"
   },
   {
    "duration": 137,
    "start_time": "2022-07-11T12:09:30.042Z"
   },
   {
    "duration": 121,
    "start_time": "2022-07-11T12:12:28.941Z"
   },
   {
    "duration": 17,
    "start_time": "2022-07-11T12:12:32.890Z"
   },
   {
    "duration": 13,
    "start_time": "2022-07-11T12:15:14.409Z"
   },
   {
    "duration": 11,
    "start_time": "2022-07-11T12:15:17.549Z"
   },
   {
    "duration": 10,
    "start_time": "2022-07-11T12:15:18.269Z"
   },
   {
    "duration": 12,
    "start_time": "2022-07-11T12:15:20.789Z"
   },
   {
    "duration": 52,
    "start_time": "2022-07-11T12:23:16.153Z"
   },
   {
    "duration": 48,
    "start_time": "2022-07-11T12:24:19.067Z"
   },
   {
    "duration": 50,
    "start_time": "2022-07-11T12:24:53.765Z"
   },
   {
    "duration": 62,
    "start_time": "2022-07-11T12:25:27.896Z"
   },
   {
    "duration": 63,
    "start_time": "2022-07-11T12:25:37.547Z"
   },
   {
    "duration": 41,
    "start_time": "2022-07-11T12:27:40.056Z"
   },
   {
    "duration": 9,
    "start_time": "2022-07-11T12:28:26.565Z"
   },
   {
    "duration": 9,
    "start_time": "2022-07-11T12:30:26.954Z"
   },
   {
    "duration": 35,
    "start_time": "2022-07-11T12:34:33.042Z"
   },
   {
    "duration": 28,
    "start_time": "2022-07-11T12:34:52.554Z"
   },
   {
    "duration": 25,
    "start_time": "2022-07-11T12:37:11.159Z"
   },
   {
    "duration": 44,
    "start_time": "2022-07-11T12:37:21.355Z"
   },
   {
    "duration": 402,
    "start_time": "2022-07-11T12:39:43.358Z"
   },
   {
    "duration": 27,
    "start_time": "2022-07-11T12:40:40.171Z"
   },
   {
    "duration": 73,
    "start_time": "2022-07-11T12:40:47.899Z"
   },
   {
    "duration": 35,
    "start_time": "2022-07-11T12:41:05.515Z"
   },
   {
    "duration": 1356,
    "start_time": "2022-07-11T16:03:45.845Z"
   },
   {
    "duration": 576,
    "start_time": "2022-07-11T16:03:47.204Z"
   },
   {
    "duration": 147,
    "start_time": "2022-07-11T16:03:47.785Z"
   },
   {
    "duration": 19,
    "start_time": "2022-07-11T16:03:47.933Z"
   },
   {
    "duration": 7,
    "start_time": "2022-07-11T16:03:47.954Z"
   },
   {
    "duration": 20,
    "start_time": "2022-07-11T16:03:47.963Z"
   },
   {
    "duration": 64,
    "start_time": "2022-07-11T16:03:47.984Z"
   },
   {
    "duration": 87,
    "start_time": "2022-07-11T16:03:48.049Z"
   },
   {
    "duration": 12,
    "start_time": "2022-07-11T16:03:48.139Z"
   },
   {
    "duration": 87,
    "start_time": "2022-07-11T16:03:48.152Z"
   },
   {
    "duration": 26,
    "start_time": "2022-07-11T16:03:48.240Z"
   },
   {
    "duration": 123,
    "start_time": "2022-07-11T16:03:48.267Z"
   },
   {
    "duration": 9,
    "start_time": "2022-07-11T16:03:48.392Z"
   },
   {
    "duration": 44,
    "start_time": "2022-07-11T16:03:48.403Z"
   },
   {
    "duration": 7,
    "start_time": "2022-07-11T16:03:48.448Z"
   },
   {
    "duration": 25,
    "start_time": "2022-07-11T16:03:48.456Z"
   },
   {
    "duration": 7,
    "start_time": "2022-07-11T16:03:48.501Z"
   },
   {
    "duration": 1567,
    "start_time": "2022-07-11T16:03:48.509Z"
   },
   {
    "duration": 45,
    "start_time": "2022-07-11T16:03:50.078Z"
   },
   {
    "duration": 18,
    "start_time": "2022-07-11T16:03:50.125Z"
   },
   {
    "duration": 27,
    "start_time": "2022-07-11T16:03:50.145Z"
   },
   {
    "duration": 108,
    "start_time": "2022-07-11T16:03:50.174Z"
   },
   {
    "duration": 143,
    "start_time": "2022-07-11T16:03:50.284Z"
   },
   {
    "duration": 52,
    "start_time": "2022-07-11T16:03:50.429Z"
   },
   {
    "duration": 18,
    "start_time": "2022-07-11T16:03:50.483Z"
   },
   {
    "duration": 63,
    "start_time": "2022-07-11T16:03:50.502Z"
   },
   {
    "duration": 136,
    "start_time": "2022-07-11T16:03:50.568Z"
   },
   {
    "duration": 134,
    "start_time": "2022-07-11T16:03:50.706Z"
   },
   {
    "duration": 73,
    "start_time": "2022-07-11T16:03:50.842Z"
   },
   {
    "duration": 9,
    "start_time": "2022-07-11T16:03:50.917Z"
   },
   {
    "duration": 174,
    "start_time": "2022-07-11T16:03:50.927Z"
   },
   {
    "duration": 0,
    "start_time": "2022-07-11T16:03:51.102Z"
   },
   {
    "duration": 0,
    "start_time": "2022-07-11T16:03:51.104Z"
   },
   {
    "duration": 0,
    "start_time": "2022-07-11T16:03:51.105Z"
   },
   {
    "duration": 0,
    "start_time": "2022-07-11T16:03:51.106Z"
   },
   {
    "duration": 0,
    "start_time": "2022-07-11T16:03:51.107Z"
   },
   {
    "duration": 0,
    "start_time": "2022-07-11T16:03:51.108Z"
   },
   {
    "duration": 112,
    "start_time": "2022-07-11T16:04:35.027Z"
   },
   {
    "duration": 783,
    "start_time": "2022-07-11T16:04:41.222Z"
   },
   {
    "duration": 45,
    "start_time": "2022-07-11T16:05:21.418Z"
   },
   {
    "duration": 1245,
    "start_time": "2022-07-11T16:06:24.130Z"
   },
   {
    "duration": 253,
    "start_time": "2022-07-11T16:06:25.377Z"
   },
   {
    "duration": 143,
    "start_time": "2022-07-11T16:06:25.632Z"
   },
   {
    "duration": 23,
    "start_time": "2022-07-11T16:06:25.777Z"
   },
   {
    "duration": 9,
    "start_time": "2022-07-11T16:06:25.802Z"
   },
   {
    "duration": 24,
    "start_time": "2022-07-11T16:06:25.812Z"
   },
   {
    "duration": 64,
    "start_time": "2022-07-11T16:06:25.838Z"
   },
   {
    "duration": 73,
    "start_time": "2022-07-11T16:06:25.904Z"
   },
   {
    "duration": 30,
    "start_time": "2022-07-11T16:06:25.979Z"
   },
   {
    "duration": 73,
    "start_time": "2022-07-11T16:06:26.012Z"
   },
   {
    "duration": 37,
    "start_time": "2022-07-11T16:06:26.087Z"
   },
   {
    "duration": 119,
    "start_time": "2022-07-11T16:06:26.126Z"
   },
   {
    "duration": 5,
    "start_time": "2022-07-11T16:06:26.246Z"
   },
   {
    "duration": 60,
    "start_time": "2022-07-11T16:06:26.254Z"
   },
   {
    "duration": 7,
    "start_time": "2022-07-11T16:06:26.316Z"
   },
   {
    "duration": 21,
    "start_time": "2022-07-11T16:06:26.325Z"
   },
   {
    "duration": 8,
    "start_time": "2022-07-11T16:06:26.348Z"
   },
   {
    "duration": 1535,
    "start_time": "2022-07-11T16:06:26.358Z"
   },
   {
    "duration": 36,
    "start_time": "2022-07-11T16:06:27.895Z"
   },
   {
    "duration": 17,
    "start_time": "2022-07-11T16:06:27.933Z"
   },
   {
    "duration": 25,
    "start_time": "2022-07-11T16:06:27.951Z"
   },
   {
    "duration": 83,
    "start_time": "2022-07-11T16:06:28.001Z"
   },
   {
    "duration": 143,
    "start_time": "2022-07-11T16:06:28.085Z"
   },
   {
    "duration": 48,
    "start_time": "2022-07-11T16:06:28.230Z"
   },
   {
    "duration": 3,
    "start_time": "2022-07-11T16:06:28.279Z"
   },
   {
    "duration": 60,
    "start_time": "2022-07-11T16:06:28.283Z"
   },
   {
    "duration": 150,
    "start_time": "2022-07-11T16:06:28.344Z"
   },
   {
    "duration": 129,
    "start_time": "2022-07-11T16:06:28.496Z"
   },
   {
    "duration": 39,
    "start_time": "2022-07-11T16:06:28.627Z"
   },
   {
    "duration": 36,
    "start_time": "2022-07-11T16:06:28.668Z"
   },
   {
    "duration": 44,
    "start_time": "2022-07-11T16:06:28.705Z"
   },
   {
    "duration": 123,
    "start_time": "2022-07-11T16:06:28.750Z"
   },
   {
    "duration": 16,
    "start_time": "2022-07-11T16:06:28.875Z"
   },
   {
    "duration": 11,
    "start_time": "2022-07-11T16:06:28.901Z"
   },
   {
    "duration": 17,
    "start_time": "2022-07-11T16:06:28.914Z"
   },
   {
    "duration": 8,
    "start_time": "2022-07-11T16:06:28.932Z"
   },
   {
    "duration": 9,
    "start_time": "2022-07-11T16:06:28.942Z"
   },
   {
    "duration": 102,
    "start_time": "2022-07-11T16:08:30.652Z"
   },
   {
    "duration": 9,
    "start_time": "2022-07-11T16:08:39.208Z"
   },
   {
    "duration": 1436,
    "start_time": "2022-07-11T18:04:21.688Z"
   },
   {
    "duration": 678,
    "start_time": "2022-07-11T18:04:23.125Z"
   },
   {
    "duration": 168,
    "start_time": "2022-07-11T18:04:23.804Z"
   },
   {
    "duration": 21,
    "start_time": "2022-07-11T18:04:23.974Z"
   },
   {
    "duration": 8,
    "start_time": "2022-07-11T18:04:23.997Z"
   },
   {
    "duration": 18,
    "start_time": "2022-07-11T18:04:24.007Z"
   },
   {
    "duration": 66,
    "start_time": "2022-07-11T18:04:24.048Z"
   },
   {
    "duration": 93,
    "start_time": "2022-07-11T18:04:24.116Z"
   },
   {
    "duration": 13,
    "start_time": "2022-07-11T18:04:24.210Z"
   },
   {
    "duration": 98,
    "start_time": "2022-07-11T18:04:24.225Z"
   },
   {
    "duration": 56,
    "start_time": "2022-07-11T18:04:24.324Z"
   },
   {
    "duration": 149,
    "start_time": "2022-07-11T18:04:24.382Z"
   },
   {
    "duration": 24,
    "start_time": "2022-07-11T18:04:24.533Z"
   },
   {
    "duration": 58,
    "start_time": "2022-07-11T18:04:24.558Z"
   },
   {
    "duration": 8,
    "start_time": "2022-07-11T18:04:24.618Z"
   },
   {
    "duration": 38,
    "start_time": "2022-07-11T18:04:24.628Z"
   },
   {
    "duration": 17,
    "start_time": "2022-07-11T18:04:24.671Z"
   },
   {
    "duration": 1674,
    "start_time": "2022-07-11T18:04:24.690Z"
   },
   {
    "duration": 38,
    "start_time": "2022-07-11T18:04:26.366Z"
   },
   {
    "duration": 47,
    "start_time": "2022-07-11T18:04:26.405Z"
   },
   {
    "duration": 30,
    "start_time": "2022-07-11T18:04:26.457Z"
   },
   {
    "duration": 108,
    "start_time": "2022-07-11T18:04:26.489Z"
   },
   {
    "duration": 164,
    "start_time": "2022-07-11T18:04:26.599Z"
   },
   {
    "duration": 54,
    "start_time": "2022-07-11T18:04:26.765Z"
   },
   {
    "duration": 2,
    "start_time": "2022-07-11T18:04:26.820Z"
   },
   {
    "duration": 68,
    "start_time": "2022-07-11T18:04:26.824Z"
   },
   {
    "duration": 163,
    "start_time": "2022-07-11T18:04:26.894Z"
   },
   {
    "duration": 137,
    "start_time": "2022-07-11T18:04:27.064Z"
   },
   {
    "duration": 51,
    "start_time": "2022-07-11T18:04:27.248Z"
   },
   {
    "duration": 10,
    "start_time": "2022-07-11T18:04:27.301Z"
   },
   {
    "duration": 78,
    "start_time": "2022-07-11T18:04:27.314Z"
   },
   {
    "duration": 141,
    "start_time": "2022-07-11T18:04:27.394Z"
   },
   {
    "duration": 34,
    "start_time": "2022-07-11T18:04:27.537Z"
   },
   {
    "duration": 19,
    "start_time": "2022-07-11T18:04:27.573Z"
   },
   {
    "duration": 14,
    "start_time": "2022-07-11T18:04:27.594Z"
   },
   {
    "duration": 15,
    "start_time": "2022-07-11T18:04:27.610Z"
   },
   {
    "duration": 31,
    "start_time": "2022-07-11T18:04:27.627Z"
   },
   {
    "duration": 230,
    "start_time": "2022-07-11T18:09:51.861Z"
   },
   {
    "duration": 11,
    "start_time": "2022-07-11T18:33:46.777Z"
   },
   {
    "duration": 135,
    "start_time": "2022-07-11T18:37:14.172Z"
   },
   {
    "duration": 14,
    "start_time": "2022-07-11T18:37:22.603Z"
   },
   {
    "duration": 13,
    "start_time": "2022-07-11T18:38:37.204Z"
   },
   {
    "duration": 36,
    "start_time": "2022-07-11T18:39:42.108Z"
   },
   {
    "duration": 77,
    "start_time": "2022-07-11T18:41:54.704Z"
   },
   {
    "duration": 46,
    "start_time": "2022-07-11T18:42:11.840Z"
   },
   {
    "duration": 36,
    "start_time": "2022-07-11T18:42:37.373Z"
   },
   {
    "duration": 109,
    "start_time": "2022-07-11T18:46:06.916Z"
   },
   {
    "duration": 118,
    "start_time": "2022-07-11T18:46:30.240Z"
   },
   {
    "duration": 82,
    "start_time": "2022-07-11T18:46:55.282Z"
   },
   {
    "duration": 180,
    "start_time": "2022-07-11T18:51:30.419Z"
   },
   {
    "duration": 16,
    "start_time": "2022-07-11T18:56:02.499Z"
   },
   {
    "duration": 57,
    "start_time": "2022-07-11T18:56:12.504Z"
   },
   {
    "duration": 61,
    "start_time": "2022-07-11T18:58:53.423Z"
   },
   {
    "duration": 53,
    "start_time": "2022-07-11T18:59:17.023Z"
   },
   {
    "duration": 153,
    "start_time": "2022-07-11T18:59:45.208Z"
   },
   {
    "duration": 175,
    "start_time": "2022-07-11T19:00:19.134Z"
   },
   {
    "duration": 194,
    "start_time": "2022-07-11T19:00:28.920Z"
   },
   {
    "duration": 120,
    "start_time": "2022-07-11T19:00:51.762Z"
   },
   {
    "duration": 131,
    "start_time": "2022-07-11T19:01:16.297Z"
   },
   {
    "duration": 139,
    "start_time": "2022-07-11T19:01:28.223Z"
   },
   {
    "duration": 112,
    "start_time": "2022-07-11T19:01:45.957Z"
   },
   {
    "duration": 79,
    "start_time": "2022-07-11T19:02:15.016Z"
   },
   {
    "duration": 18,
    "start_time": "2022-07-11T19:12:43.545Z"
   },
   {
    "duration": 59,
    "start_time": "2022-07-11T19:13:39.743Z"
   },
   {
    "duration": 63,
    "start_time": "2022-07-11T19:13:49.460Z"
   },
   {
    "duration": 95,
    "start_time": "2022-07-11T19:20:05.022Z"
   },
   {
    "duration": 128,
    "start_time": "2022-07-11T19:20:12.802Z"
   },
   {
    "duration": 45,
    "start_time": "2022-07-11T19:20:21.259Z"
   },
   {
    "duration": 48,
    "start_time": "2022-07-11T19:21:09.339Z"
   },
   {
    "duration": 65,
    "start_time": "2022-07-11T19:21:18.852Z"
   },
   {
    "duration": 116,
    "start_time": "2022-07-11T19:31:02.989Z"
   },
   {
    "duration": 5,
    "start_time": "2022-07-11T19:31:10.951Z"
   },
   {
    "duration": 98,
    "start_time": "2022-07-11T19:31:35.402Z"
   },
   {
    "duration": 81,
    "start_time": "2022-07-11T19:31:46.841Z"
   },
   {
    "duration": 78,
    "start_time": "2022-07-11T19:31:59.996Z"
   },
   {
    "duration": 84,
    "start_time": "2022-07-11T19:32:11.762Z"
   },
   {
    "duration": 102,
    "start_time": "2022-07-11T19:33:55.918Z"
   },
   {
    "duration": 98,
    "start_time": "2022-07-11T19:34:33.670Z"
   },
   {
    "duration": 101,
    "start_time": "2022-07-11T19:34:58.409Z"
   },
   {
    "duration": 56,
    "start_time": "2022-07-11T19:50:11.953Z"
   },
   {
    "duration": 57,
    "start_time": "2022-07-11T19:51:25.678Z"
   },
   {
    "duration": 25,
    "start_time": "2022-07-11T19:51:44.194Z"
   },
   {
    "duration": 1347,
    "start_time": "2022-07-12T07:05:43.066Z"
   },
   {
    "duration": 789,
    "start_time": "2022-07-12T07:05:44.415Z"
   },
   {
    "duration": 153,
    "start_time": "2022-07-12T07:05:45.209Z"
   },
   {
    "duration": 19,
    "start_time": "2022-07-12T07:05:45.364Z"
   },
   {
    "duration": 23,
    "start_time": "2022-07-12T07:05:45.385Z"
   },
   {
    "duration": 15,
    "start_time": "2022-07-12T07:05:45.410Z"
   },
   {
    "duration": 55,
    "start_time": "2022-07-12T07:05:45.427Z"
   },
   {
    "duration": 92,
    "start_time": "2022-07-12T07:05:45.484Z"
   },
   {
    "duration": 84,
    "start_time": "2022-07-12T07:05:45.579Z"
   },
   {
    "duration": 14,
    "start_time": "2022-07-12T07:05:45.664Z"
   },
   {
    "duration": 88,
    "start_time": "2022-07-12T07:05:45.679Z"
   },
   {
    "duration": 35,
    "start_time": "2022-07-12T07:05:45.769Z"
   },
   {
    "duration": 4,
    "start_time": "2022-07-12T07:05:45.805Z"
   },
   {
    "duration": 45,
    "start_time": "2022-07-12T07:05:45.810Z"
   },
   {
    "duration": 7,
    "start_time": "2022-07-12T07:05:45.856Z"
   },
   {
    "duration": 41,
    "start_time": "2022-07-12T07:05:45.864Z"
   },
   {
    "duration": 7,
    "start_time": "2022-07-12T07:05:45.907Z"
   },
   {
    "duration": 1583,
    "start_time": "2022-07-12T07:05:45.915Z"
   },
   {
    "duration": 49,
    "start_time": "2022-07-12T07:05:47.500Z"
   },
   {
    "duration": 14,
    "start_time": "2022-07-12T07:05:47.551Z"
   },
   {
    "duration": 70,
    "start_time": "2022-07-12T07:05:47.567Z"
   },
   {
    "duration": 30,
    "start_time": "2022-07-12T07:05:47.638Z"
   },
   {
    "duration": 94,
    "start_time": "2022-07-12T07:05:47.670Z"
   },
   {
    "duration": 139,
    "start_time": "2022-07-12T07:05:47.766Z"
   },
   {
    "duration": 52,
    "start_time": "2022-07-12T07:05:47.907Z"
   },
   {
    "duration": 75,
    "start_time": "2022-07-12T07:05:47.961Z"
   },
   {
    "duration": 3,
    "start_time": "2022-07-12T07:05:48.040Z"
   },
   {
    "duration": 64,
    "start_time": "2022-07-12T07:05:48.045Z"
   },
   {
    "duration": 171,
    "start_time": "2022-07-12T07:05:48.111Z"
   },
   {
    "duration": 123,
    "start_time": "2022-07-12T07:05:48.285Z"
   },
   {
    "duration": 49,
    "start_time": "2022-07-12T07:05:48.410Z"
   },
   {
    "duration": 43,
    "start_time": "2022-07-12T07:05:48.461Z"
   },
   {
    "duration": 18,
    "start_time": "2022-07-12T07:05:48.506Z"
   },
   {
    "duration": 163,
    "start_time": "2022-07-12T07:05:48.526Z"
   },
   {
    "duration": 28,
    "start_time": "2022-07-12T07:05:48.691Z"
   },
   {
    "duration": 21,
    "start_time": "2022-07-12T07:05:48.721Z"
   },
   {
    "duration": 16,
    "start_time": "2022-07-12T07:05:48.744Z"
   },
   {
    "duration": 12,
    "start_time": "2022-07-12T07:05:48.762Z"
   },
   {
    "duration": 35,
    "start_time": "2022-07-12T07:05:48.776Z"
   },
   {
    "duration": 50,
    "start_time": "2022-07-12T07:18:55.064Z"
   },
   {
    "duration": 9,
    "start_time": "2022-07-12T07:19:36.042Z"
   },
   {
    "duration": 3,
    "start_time": "2022-07-12T07:23:07.280Z"
   },
   {
    "duration": 15,
    "start_time": "2022-07-12T07:27:08.429Z"
   },
   {
    "duration": 22,
    "start_time": "2022-07-12T07:29:50.310Z"
   },
   {
    "duration": 131,
    "start_time": "2022-07-12T07:38:40.220Z"
   },
   {
    "duration": 9,
    "start_time": "2022-07-12T07:40:44.672Z"
   },
   {
    "duration": 8,
    "start_time": "2022-07-12T07:40:53.344Z"
   },
   {
    "duration": 121,
    "start_time": "2022-07-12T07:42:11.776Z"
   },
   {
    "duration": 18,
    "start_time": "2022-07-12T07:42:23.249Z"
   },
   {
    "duration": 1034,
    "start_time": "2022-07-12T07:45:24.144Z"
   },
   {
    "duration": 17,
    "start_time": "2022-07-12T07:45:48.397Z"
   },
   {
    "duration": 143,
    "start_time": "2022-07-12T07:45:55.389Z"
   },
   {
    "duration": 101,
    "start_time": "2022-07-12T07:47:15.994Z"
   },
   {
    "duration": 88,
    "start_time": "2022-07-12T07:48:19.277Z"
   },
   {
    "duration": 24,
    "start_time": "2022-07-12T07:48:50.598Z"
   },
   {
    "duration": 132,
    "start_time": "2022-07-12T07:49:00.891Z"
   },
   {
    "duration": 1339,
    "start_time": "2022-07-12T07:49:05.314Z"
   },
   {
    "duration": 18,
    "start_time": "2022-07-12T07:49:18.754Z"
   },
   {
    "duration": 19,
    "start_time": "2022-07-12T07:49:26.942Z"
   },
   {
    "duration": 16,
    "start_time": "2022-07-12T07:56:44.751Z"
   },
   {
    "duration": 132,
    "start_time": "2022-07-12T08:03:26.092Z"
   },
   {
    "duration": 9,
    "start_time": "2022-07-12T08:43:47.367Z"
   },
   {
    "duration": 9,
    "start_time": "2022-07-12T08:43:52.543Z"
   },
   {
    "duration": 1282,
    "start_time": "2022-07-12T08:43:55.399Z"
   },
   {
    "duration": 23,
    "start_time": "2022-07-12T08:44:21.595Z"
   },
   {
    "duration": 1393,
    "start_time": "2022-07-12T08:44:29.787Z"
   },
   {
    "duration": 302,
    "start_time": "2022-07-12T08:44:31.182Z"
   },
   {
    "duration": 152,
    "start_time": "2022-07-12T08:44:31.485Z"
   },
   {
    "duration": 20,
    "start_time": "2022-07-12T08:44:31.638Z"
   },
   {
    "duration": 8,
    "start_time": "2022-07-12T08:44:31.660Z"
   },
   {
    "duration": 36,
    "start_time": "2022-07-12T08:44:31.669Z"
   },
   {
    "duration": 61,
    "start_time": "2022-07-12T08:44:31.706Z"
   },
   {
    "duration": 95,
    "start_time": "2022-07-12T08:44:31.769Z"
   },
   {
    "duration": 91,
    "start_time": "2022-07-12T08:44:31.865Z"
   },
   {
    "duration": 16,
    "start_time": "2022-07-12T08:44:31.957Z"
   },
   {
    "duration": 88,
    "start_time": "2022-07-12T08:44:31.974Z"
   },
   {
    "duration": 46,
    "start_time": "2022-07-12T08:44:32.064Z"
   },
   {
    "duration": 3,
    "start_time": "2022-07-12T08:44:32.112Z"
   },
   {
    "duration": 47,
    "start_time": "2022-07-12T08:44:32.120Z"
   },
   {
    "duration": 7,
    "start_time": "2022-07-12T08:44:32.169Z"
   },
   {
    "duration": 26,
    "start_time": "2022-07-12T08:44:32.203Z"
   },
   {
    "duration": 9,
    "start_time": "2022-07-12T08:44:32.230Z"
   },
   {
    "duration": 1589,
    "start_time": "2022-07-12T08:44:32.241Z"
   },
   {
    "duration": 43,
    "start_time": "2022-07-12T08:44:33.832Z"
   },
   {
    "duration": 31,
    "start_time": "2022-07-12T08:44:33.877Z"
   },
   {
    "duration": 33,
    "start_time": "2022-07-12T08:44:33.909Z"
   },
   {
    "duration": 24,
    "start_time": "2022-07-12T08:44:33.944Z"
   },
   {
    "duration": 86,
    "start_time": "2022-07-12T08:44:33.970Z"
   },
   {
    "duration": 124,
    "start_time": "2022-07-12T08:44:34.058Z"
   },
   {
    "duration": 57,
    "start_time": "2022-07-12T08:44:34.184Z"
   },
   {
    "duration": 66,
    "start_time": "2022-07-12T08:44:34.243Z"
   },
   {
    "duration": 46,
    "start_time": "2022-07-12T08:44:34.311Z"
   },
   {
    "duration": 162,
    "start_time": "2022-07-12T08:44:34.359Z"
   },
   {
    "duration": 101,
    "start_time": "2022-07-12T08:44:34.523Z"
   },
   {
    "duration": 42,
    "start_time": "2022-07-12T08:44:34.626Z"
   },
   {
    "duration": 39,
    "start_time": "2022-07-12T08:44:34.670Z"
   },
   {
    "duration": 14,
    "start_time": "2022-07-12T08:44:34.711Z"
   },
   {
    "duration": 126,
    "start_time": "2022-07-12T08:44:34.727Z"
   },
   {
    "duration": 17,
    "start_time": "2022-07-12T08:44:34.855Z"
   },
   {
    "duration": 31,
    "start_time": "2022-07-12T08:44:34.874Z"
   },
   {
    "duration": 13,
    "start_time": "2022-07-12T08:44:34.906Z"
   },
   {
    "duration": 9,
    "start_time": "2022-07-12T08:44:34.920Z"
   },
   {
    "duration": 13,
    "start_time": "2022-07-12T08:44:34.930Z"
   },
   {
    "duration": 168,
    "start_time": "2022-07-12T09:41:51.401Z"
   },
   {
    "duration": 1394,
    "start_time": "2022-07-12T12:13:52.486Z"
   },
   {
    "duration": 582,
    "start_time": "2022-07-12T12:13:53.882Z"
   },
   {
    "duration": 143,
    "start_time": "2022-07-12T12:13:54.465Z"
   },
   {
    "duration": 19,
    "start_time": "2022-07-12T12:13:54.609Z"
   },
   {
    "duration": 7,
    "start_time": "2022-07-12T12:13:54.631Z"
   },
   {
    "duration": 16,
    "start_time": "2022-07-12T12:13:54.640Z"
   },
   {
    "duration": 77,
    "start_time": "2022-07-12T12:13:54.658Z"
   },
   {
    "duration": 77,
    "start_time": "2022-07-12T12:13:54.737Z"
   },
   {
    "duration": 73,
    "start_time": "2022-07-12T12:13:54.816Z"
   },
   {
    "duration": 27,
    "start_time": "2022-07-12T12:13:54.890Z"
   },
   {
    "duration": 74,
    "start_time": "2022-07-12T12:13:54.918Z"
   },
   {
    "duration": 45,
    "start_time": "2022-07-12T12:13:54.994Z"
   },
   {
    "duration": 5,
    "start_time": "2022-07-12T12:13:55.040Z"
   },
   {
    "duration": 63,
    "start_time": "2022-07-12T12:13:55.047Z"
   },
   {
    "duration": 7,
    "start_time": "2022-07-12T12:13:55.112Z"
   },
   {
    "duration": 25,
    "start_time": "2022-07-12T12:13:55.120Z"
   },
   {
    "duration": 7,
    "start_time": "2022-07-12T12:13:55.147Z"
   },
   {
    "duration": 1460,
    "start_time": "2022-07-12T12:13:55.156Z"
   },
   {
    "duration": 37,
    "start_time": "2022-07-12T12:13:56.618Z"
   },
   {
    "duration": 11,
    "start_time": "2022-07-12T12:13:56.657Z"
   },
   {
    "duration": 62,
    "start_time": "2022-07-12T12:13:56.669Z"
   },
   {
    "duration": 25,
    "start_time": "2022-07-12T12:13:56.732Z"
   },
   {
    "duration": 72,
    "start_time": "2022-07-12T12:13:56.759Z"
   },
   {
    "duration": 110,
    "start_time": "2022-07-12T12:13:56.833Z"
   },
   {
    "duration": 39,
    "start_time": "2022-07-12T12:13:56.944Z"
   },
   {
    "duration": 60,
    "start_time": "2022-07-12T12:13:56.985Z"
   },
   {
    "duration": 41,
    "start_time": "2022-07-12T12:13:57.047Z"
   },
   {
    "duration": 245,
    "start_time": "2022-07-12T12:13:57.090Z"
   },
   {
    "duration": 97,
    "start_time": "2022-07-12T12:13:57.338Z"
   },
   {
    "duration": 35,
    "start_time": "2022-07-12T12:13:57.436Z"
   },
   {
    "duration": 44,
    "start_time": "2022-07-12T12:13:57.473Z"
   },
   {
    "duration": 23,
    "start_time": "2022-07-12T12:13:57.519Z"
   },
   {
    "duration": 113,
    "start_time": "2022-07-12T12:13:57.543Z"
   },
   {
    "duration": 17,
    "start_time": "2022-07-12T12:13:57.657Z"
   },
   {
    "duration": 12,
    "start_time": "2022-07-12T12:13:57.675Z"
   },
   {
    "duration": 27,
    "start_time": "2022-07-12T12:13:57.688Z"
   },
   {
    "duration": 8,
    "start_time": "2022-07-12T12:13:57.716Z"
   },
   {
    "duration": 15,
    "start_time": "2022-07-12T12:13:57.726Z"
   },
   {
    "duration": 1491,
    "start_time": "2022-07-12T13:29:37.551Z"
   },
   {
    "duration": 874,
    "start_time": "2022-07-12T13:29:39.044Z"
   },
   {
    "duration": 179,
    "start_time": "2022-07-12T13:29:39.920Z"
   },
   {
    "duration": 28,
    "start_time": "2022-07-12T13:29:40.103Z"
   },
   {
    "duration": 20,
    "start_time": "2022-07-12T13:29:40.134Z"
   },
   {
    "duration": 23,
    "start_time": "2022-07-12T13:29:40.156Z"
   },
   {
    "duration": 81,
    "start_time": "2022-07-12T13:29:40.181Z"
   },
   {
    "duration": 98,
    "start_time": "2022-07-12T13:29:40.265Z"
   },
   {
    "duration": 99,
    "start_time": "2022-07-12T13:29:40.365Z"
   },
   {
    "duration": 15,
    "start_time": "2022-07-12T13:29:40.467Z"
   },
   {
    "duration": 114,
    "start_time": "2022-07-12T13:29:40.483Z"
   },
   {
    "duration": 31,
    "start_time": "2022-07-12T13:29:40.599Z"
   },
   {
    "duration": 5,
    "start_time": "2022-07-12T13:29:40.632Z"
   },
   {
    "duration": 70,
    "start_time": "2022-07-12T13:29:40.638Z"
   },
   {
    "duration": 7,
    "start_time": "2022-07-12T13:29:40.710Z"
   },
   {
    "duration": 22,
    "start_time": "2022-07-12T13:29:40.719Z"
   },
   {
    "duration": 8,
    "start_time": "2022-07-12T13:29:40.743Z"
   },
   {
    "duration": 1832,
    "start_time": "2022-07-12T13:29:40.753Z"
   },
   {
    "duration": 52,
    "start_time": "2022-07-12T13:29:42.587Z"
   },
   {
    "duration": 14,
    "start_time": "2022-07-12T13:29:42.641Z"
   },
   {
    "duration": 65,
    "start_time": "2022-07-12T13:29:42.657Z"
   },
   {
    "duration": 31,
    "start_time": "2022-07-12T13:29:42.724Z"
   },
   {
    "duration": 88,
    "start_time": "2022-07-12T13:29:42.757Z"
   },
   {
    "duration": 131,
    "start_time": "2022-07-12T13:29:42.847Z"
   },
   {
    "duration": 65,
    "start_time": "2022-07-12T13:29:42.979Z"
   },
   {
    "duration": 66,
    "start_time": "2022-07-12T13:29:43.046Z"
   },
   {
    "duration": 46,
    "start_time": "2022-07-12T13:29:43.113Z"
   },
   {
    "duration": 197,
    "start_time": "2022-07-12T13:29:43.162Z"
   },
   {
    "duration": 77,
    "start_time": "2022-07-12T13:29:43.361Z"
   },
   {
    "duration": 95,
    "start_time": "2022-07-12T13:29:43.439Z"
   },
   {
    "duration": 10,
    "start_time": "2022-07-12T13:29:43.536Z"
   },
   {
    "duration": 57,
    "start_time": "2022-07-12T13:29:43.548Z"
   },
   {
    "duration": 133,
    "start_time": "2022-07-12T13:29:43.607Z"
   },
   {
    "duration": 19,
    "start_time": "2022-07-12T13:29:43.742Z"
   },
   {
    "duration": 20,
    "start_time": "2022-07-12T13:29:43.763Z"
   },
   {
    "duration": 36,
    "start_time": "2022-07-12T13:29:43.785Z"
   },
   {
    "duration": 18,
    "start_time": "2022-07-12T13:29:43.822Z"
   },
   {
    "duration": 26,
    "start_time": "2022-07-12T13:29:43.842Z"
   },
   {
    "duration": 1762,
    "start_time": "2022-07-12T13:33:36.622Z"
   },
   {
    "duration": 1674,
    "start_time": "2022-07-12T13:34:31.206Z"
   },
   {
    "duration": 1613,
    "start_time": "2022-07-12T13:34:47.934Z"
   },
   {
    "duration": 28,
    "start_time": "2022-07-12T13:41:30.942Z"
   },
   {
    "duration": 30,
    "start_time": "2022-07-12T13:42:23.367Z"
   },
   {
    "duration": 84,
    "start_time": "2022-07-12T13:46:52.528Z"
   },
   {
    "duration": 1651,
    "start_time": "2022-07-12T13:49:58.059Z"
   },
   {
    "duration": 1872,
    "start_time": "2022-07-12T13:50:12.034Z"
   },
   {
    "duration": 1877,
    "start_time": "2022-07-12T13:50:24.500Z"
   },
   {
    "duration": 1254,
    "start_time": "2022-07-12T14:00:31.062Z"
   },
   {
    "duration": 312,
    "start_time": "2022-07-12T14:00:32.318Z"
   },
   {
    "duration": 163,
    "start_time": "2022-07-12T14:00:32.632Z"
   },
   {
    "duration": 25,
    "start_time": "2022-07-12T14:00:32.797Z"
   },
   {
    "duration": 6,
    "start_time": "2022-07-12T14:00:32.823Z"
   },
   {
    "duration": 0,
    "start_time": "2022-07-12T14:00:32.831Z"
   },
   {
    "duration": 0,
    "start_time": "2022-07-12T14:00:32.833Z"
   },
   {
    "duration": 0,
    "start_time": "2022-07-12T14:00:32.833Z"
   },
   {
    "duration": 0,
    "start_time": "2022-07-12T14:00:32.835Z"
   },
   {
    "duration": 0,
    "start_time": "2022-07-12T14:00:32.836Z"
   },
   {
    "duration": 0,
    "start_time": "2022-07-12T14:00:32.837Z"
   },
   {
    "duration": 0,
    "start_time": "2022-07-12T14:00:32.838Z"
   },
   {
    "duration": 0,
    "start_time": "2022-07-12T14:00:32.839Z"
   },
   {
    "duration": 0,
    "start_time": "2022-07-12T14:00:32.840Z"
   },
   {
    "duration": 0,
    "start_time": "2022-07-12T14:00:32.841Z"
   },
   {
    "duration": 0,
    "start_time": "2022-07-12T14:00:32.842Z"
   },
   {
    "duration": 0,
    "start_time": "2022-07-12T14:00:32.843Z"
   },
   {
    "duration": 0,
    "start_time": "2022-07-12T14:00:32.844Z"
   },
   {
    "duration": 0,
    "start_time": "2022-07-12T14:00:32.845Z"
   },
   {
    "duration": 0,
    "start_time": "2022-07-12T14:00:32.846Z"
   },
   {
    "duration": 0,
    "start_time": "2022-07-12T14:00:32.847Z"
   },
   {
    "duration": 0,
    "start_time": "2022-07-12T14:00:32.848Z"
   },
   {
    "duration": 0,
    "start_time": "2022-07-12T14:00:32.849Z"
   },
   {
    "duration": 0,
    "start_time": "2022-07-12T14:00:32.850Z"
   },
   {
    "duration": 0,
    "start_time": "2022-07-12T14:00:32.851Z"
   },
   {
    "duration": 0,
    "start_time": "2022-07-12T14:00:32.853Z"
   },
   {
    "duration": 0,
    "start_time": "2022-07-12T14:00:32.854Z"
   },
   {
    "duration": 0,
    "start_time": "2022-07-12T14:00:32.855Z"
   },
   {
    "duration": 0,
    "start_time": "2022-07-12T14:00:32.856Z"
   },
   {
    "duration": 0,
    "start_time": "2022-07-12T14:00:32.857Z"
   },
   {
    "duration": 0,
    "start_time": "2022-07-12T14:00:32.905Z"
   },
   {
    "duration": 0,
    "start_time": "2022-07-12T14:00:32.906Z"
   },
   {
    "duration": 0,
    "start_time": "2022-07-12T14:00:32.907Z"
   },
   {
    "duration": 0,
    "start_time": "2022-07-12T14:00:32.908Z"
   },
   {
    "duration": 0,
    "start_time": "2022-07-12T14:00:32.909Z"
   },
   {
    "duration": 0,
    "start_time": "2022-07-12T14:00:32.910Z"
   },
   {
    "duration": 0,
    "start_time": "2022-07-12T14:00:32.911Z"
   },
   {
    "duration": 0,
    "start_time": "2022-07-12T14:00:32.912Z"
   },
   {
    "duration": 9,
    "start_time": "2022-07-12T14:00:52.442Z"
   },
   {
    "duration": 1461,
    "start_time": "2022-07-12T14:03:08.738Z"
   },
   {
    "duration": 1946,
    "start_time": "2022-07-12T14:03:26.422Z"
   },
   {
    "duration": 310,
    "start_time": "2022-07-12T14:03:28.370Z"
   },
   {
    "duration": 152,
    "start_time": "2022-07-12T14:03:28.682Z"
   },
   {
    "duration": 21,
    "start_time": "2022-07-12T14:03:28.836Z"
   },
   {
    "duration": 18,
    "start_time": "2022-07-12T14:03:28.858Z"
   },
   {
    "duration": 28,
    "start_time": "2022-07-12T14:03:28.877Z"
   },
   {
    "duration": 79,
    "start_time": "2022-07-12T14:03:28.907Z"
   },
   {
    "duration": 77,
    "start_time": "2022-07-12T14:03:28.987Z"
   },
   {
    "duration": 90,
    "start_time": "2022-07-12T14:03:29.066Z"
   },
   {
    "duration": 19,
    "start_time": "2022-07-12T14:03:29.159Z"
   },
   {
    "duration": 88,
    "start_time": "2022-07-12T14:03:29.180Z"
   },
   {
    "duration": 36,
    "start_time": "2022-07-12T14:03:29.269Z"
   },
   {
    "duration": 4,
    "start_time": "2022-07-12T14:03:29.306Z"
   },
   {
    "duration": 55,
    "start_time": "2022-07-12T14:03:29.312Z"
   },
   {
    "duration": 7,
    "start_time": "2022-07-12T14:03:29.369Z"
   },
   {
    "duration": 37,
    "start_time": "2022-07-12T14:03:29.377Z"
   },
   {
    "duration": 7,
    "start_time": "2022-07-12T14:03:29.416Z"
   },
   {
    "duration": 1892,
    "start_time": "2022-07-12T14:03:29.424Z"
   },
   {
    "duration": 0,
    "start_time": "2022-07-12T14:03:31.318Z"
   },
   {
    "duration": 0,
    "start_time": "2022-07-12T14:03:31.320Z"
   },
   {
    "duration": 0,
    "start_time": "2022-07-12T14:03:31.322Z"
   },
   {
    "duration": 0,
    "start_time": "2022-07-12T14:03:31.324Z"
   },
   {
    "duration": 0,
    "start_time": "2022-07-12T14:03:31.325Z"
   },
   {
    "duration": 0,
    "start_time": "2022-07-12T14:03:31.327Z"
   },
   {
    "duration": 0,
    "start_time": "2022-07-12T14:03:31.329Z"
   },
   {
    "duration": 0,
    "start_time": "2022-07-12T14:03:31.330Z"
   },
   {
    "duration": 0,
    "start_time": "2022-07-12T14:03:31.332Z"
   },
   {
    "duration": 0,
    "start_time": "2022-07-12T14:03:31.334Z"
   },
   {
    "duration": 0,
    "start_time": "2022-07-12T14:03:31.336Z"
   },
   {
    "duration": 0,
    "start_time": "2022-07-12T14:03:31.337Z"
   },
   {
    "duration": 0,
    "start_time": "2022-07-12T14:03:31.339Z"
   },
   {
    "duration": 0,
    "start_time": "2022-07-12T14:03:31.341Z"
   },
   {
    "duration": 0,
    "start_time": "2022-07-12T14:03:31.343Z"
   },
   {
    "duration": 0,
    "start_time": "2022-07-12T14:03:31.344Z"
   },
   {
    "duration": 0,
    "start_time": "2022-07-12T14:03:31.346Z"
   },
   {
    "duration": 0,
    "start_time": "2022-07-12T14:03:31.347Z"
   },
   {
    "duration": 0,
    "start_time": "2022-07-12T14:03:31.349Z"
   },
   {
    "duration": 0,
    "start_time": "2022-07-12T14:03:31.350Z"
   },
   {
    "duration": 1680,
    "start_time": "2022-07-12T14:04:27.682Z"
   },
   {
    "duration": 1265,
    "start_time": "2022-07-12T14:04:35.142Z"
   },
   {
    "duration": 349,
    "start_time": "2022-07-12T14:04:36.409Z"
   },
   {
    "duration": 168,
    "start_time": "2022-07-12T14:04:36.763Z"
   },
   {
    "duration": 20,
    "start_time": "2022-07-12T14:04:36.933Z"
   },
   {
    "duration": 11,
    "start_time": "2022-07-12T14:04:36.955Z"
   },
   {
    "duration": 19,
    "start_time": "2022-07-12T14:04:36.968Z"
   },
   {
    "duration": 64,
    "start_time": "2022-07-12T14:04:37.005Z"
   },
   {
    "duration": 108,
    "start_time": "2022-07-12T14:04:37.072Z"
   },
   {
    "duration": 98,
    "start_time": "2022-07-12T14:04:37.183Z"
   },
   {
    "duration": 26,
    "start_time": "2022-07-12T14:04:37.284Z"
   },
   {
    "duration": 80,
    "start_time": "2022-07-12T14:04:37.312Z"
   },
   {
    "duration": 30,
    "start_time": "2022-07-12T14:04:37.403Z"
   },
   {
    "duration": 4,
    "start_time": "2022-07-12T14:04:37.436Z"
   },
   {
    "duration": 71,
    "start_time": "2022-07-12T14:04:37.442Z"
   },
   {
    "duration": 9,
    "start_time": "2022-07-12T14:04:37.515Z"
   },
   {
    "duration": 23,
    "start_time": "2022-07-12T14:04:37.526Z"
   },
   {
    "duration": 7,
    "start_time": "2022-07-12T14:04:37.551Z"
   },
   {
    "duration": 1713,
    "start_time": "2022-07-12T14:04:37.559Z"
   },
   {
    "duration": 50,
    "start_time": "2022-07-12T14:04:39.274Z"
   },
   {
    "duration": 11,
    "start_time": "2022-07-12T14:04:39.326Z"
   },
   {
    "duration": 40,
    "start_time": "2022-07-12T14:04:39.338Z"
   },
   {
    "duration": 53,
    "start_time": "2022-07-12T14:04:39.379Z"
   },
   {
    "duration": 82,
    "start_time": "2022-07-12T14:04:39.435Z"
   },
   {
    "duration": 129,
    "start_time": "2022-07-12T14:04:39.519Z"
   },
   {
    "duration": 62,
    "start_time": "2022-07-12T14:04:39.650Z"
   },
   {
    "duration": 53,
    "start_time": "2022-07-12T14:04:39.715Z"
   },
   {
    "duration": 66,
    "start_time": "2022-07-12T14:04:39.773Z"
   },
   {
    "duration": 324,
    "start_time": "2022-07-12T14:04:39.841Z"
   },
   {
    "duration": 83,
    "start_time": "2022-07-12T14:04:40.167Z"
   },
   {
    "duration": 94,
    "start_time": "2022-07-12T14:04:40.251Z"
   },
   {
    "duration": 9,
    "start_time": "2022-07-12T14:04:40.347Z"
   },
   {
    "duration": 46,
    "start_time": "2022-07-12T14:04:40.358Z"
   },
   {
    "duration": 131,
    "start_time": "2022-07-12T14:04:40.406Z"
   },
   {
    "duration": 21,
    "start_time": "2022-07-12T14:04:40.538Z"
   },
   {
    "duration": 17,
    "start_time": "2022-07-12T14:04:40.560Z"
   },
   {
    "duration": 33,
    "start_time": "2022-07-12T14:04:40.578Z"
   },
   {
    "duration": 10,
    "start_time": "2022-07-12T14:04:40.612Z"
   },
   {
    "duration": 16,
    "start_time": "2022-07-12T14:04:40.623Z"
   },
   {
    "duration": 1360,
    "start_time": "2022-08-25T19:05:02.707Z"
   },
   {
    "duration": 757,
    "start_time": "2022-08-25T19:05:04.069Z"
   },
   {
    "duration": 162,
    "start_time": "2022-08-25T19:05:04.828Z"
   },
   {
    "duration": 35,
    "start_time": "2022-08-25T19:05:04.992Z"
   },
   {
    "duration": 30,
    "start_time": "2022-08-25T19:05:05.029Z"
   },
   {
    "duration": 18,
    "start_time": "2022-08-25T19:05:05.061Z"
   },
   {
    "duration": 70,
    "start_time": "2022-08-25T19:05:05.081Z"
   },
   {
    "duration": 99,
    "start_time": "2022-08-25T19:05:05.153Z"
   },
   {
    "duration": 96,
    "start_time": "2022-08-25T19:05:05.254Z"
   },
   {
    "duration": 13,
    "start_time": "2022-08-25T19:05:05.353Z"
   },
   {
    "duration": 103,
    "start_time": "2022-08-25T19:05:05.369Z"
   },
   {
    "duration": 45,
    "start_time": "2022-08-25T19:05:05.474Z"
   },
   {
    "duration": 5,
    "start_time": "2022-08-25T19:05:05.520Z"
   },
   {
    "duration": 76,
    "start_time": "2022-08-25T19:05:05.526Z"
   },
   {
    "duration": 17,
    "start_time": "2022-08-25T19:05:05.604Z"
   },
   {
    "duration": 41,
    "start_time": "2022-08-25T19:05:05.625Z"
   },
   {
    "duration": 6,
    "start_time": "2022-08-25T19:05:05.668Z"
   },
   {
    "duration": 1790,
    "start_time": "2022-08-25T19:05:05.676Z"
   },
   {
    "duration": 70,
    "start_time": "2022-08-25T19:05:07.468Z"
   },
   {
    "duration": 15,
    "start_time": "2022-08-25T19:05:07.541Z"
   },
   {
    "duration": 57,
    "start_time": "2022-08-25T19:05:07.559Z"
   },
   {
    "duration": 38,
    "start_time": "2022-08-25T19:05:07.622Z"
   },
   {
    "duration": 93,
    "start_time": "2022-08-25T19:05:07.662Z"
   },
   {
    "duration": 135,
    "start_time": "2022-08-25T19:05:07.758Z"
   },
   {
    "duration": 59,
    "start_time": "2022-08-25T19:05:07.895Z"
   },
   {
    "duration": 73,
    "start_time": "2022-08-25T19:05:07.956Z"
   },
   {
    "duration": 61,
    "start_time": "2022-08-25T19:05:08.031Z"
   },
   {
    "duration": 173,
    "start_time": "2022-08-25T19:05:08.097Z"
   },
   {
    "duration": 162,
    "start_time": "2022-08-25T19:05:08.272Z"
   },
   {
    "duration": 39,
    "start_time": "2022-08-25T19:05:08.436Z"
   },
   {
    "duration": 9,
    "start_time": "2022-08-25T19:05:08.477Z"
   },
   {
    "duration": 35,
    "start_time": "2022-08-25T19:05:08.488Z"
   },
   {
    "duration": 159,
    "start_time": "2022-08-25T19:05:08.527Z"
   },
   {
    "duration": 31,
    "start_time": "2022-08-25T19:05:08.688Z"
   },
   {
    "duration": 39,
    "start_time": "2022-08-25T19:05:08.721Z"
   },
   {
    "duration": 22,
    "start_time": "2022-08-25T19:05:08.762Z"
   },
   {
    "duration": 17,
    "start_time": "2022-08-25T19:05:08.786Z"
   },
   {
    "duration": 44,
    "start_time": "2022-08-25T19:05:08.805Z"
   },
   {
    "duration": 1518,
    "start_time": "2022-08-25T19:07:07.159Z"
   },
   {
    "duration": 373,
    "start_time": "2022-08-25T19:07:08.679Z"
   },
   {
    "duration": 174,
    "start_time": "2022-08-25T19:07:09.053Z"
   },
   {
    "duration": 26,
    "start_time": "2022-08-25T19:07:09.235Z"
   },
   {
    "duration": 9,
    "start_time": "2022-08-25T19:07:09.263Z"
   },
   {
    "duration": 22,
    "start_time": "2022-08-25T19:07:09.274Z"
   },
   {
    "duration": 93,
    "start_time": "2022-08-25T19:07:09.311Z"
   },
   {
    "duration": 90,
    "start_time": "2022-08-25T19:07:09.406Z"
   },
   {
    "duration": 97,
    "start_time": "2022-08-25T19:07:09.498Z"
   },
   {
    "duration": 28,
    "start_time": "2022-08-25T19:07:09.597Z"
   },
   {
    "duration": 83,
    "start_time": "2022-08-25T19:07:09.627Z"
   },
   {
    "duration": 48,
    "start_time": "2022-08-25T19:07:09.712Z"
   },
   {
    "duration": 4,
    "start_time": "2022-08-25T19:07:09.761Z"
   },
   {
    "duration": 79,
    "start_time": "2022-08-25T19:07:09.767Z"
   },
   {
    "duration": 7,
    "start_time": "2022-08-25T19:07:09.848Z"
   },
   {
    "duration": 19,
    "start_time": "2022-08-25T19:07:09.857Z"
   },
   {
    "duration": 41,
    "start_time": "2022-08-25T19:07:09.878Z"
   },
   {
    "duration": 116,
    "start_time": "2022-08-25T19:07:09.927Z"
   },
   {
    "duration": 0,
    "start_time": "2022-08-25T19:07:10.045Z"
   },
   {
    "duration": 0,
    "start_time": "2022-08-25T19:07:10.046Z"
   },
   {
    "duration": 0,
    "start_time": "2022-08-25T19:07:10.048Z"
   },
   {
    "duration": 0,
    "start_time": "2022-08-25T19:07:10.049Z"
   },
   {
    "duration": 0,
    "start_time": "2022-08-25T19:07:10.050Z"
   },
   {
    "duration": 0,
    "start_time": "2022-08-25T19:07:10.052Z"
   },
   {
    "duration": 0,
    "start_time": "2022-08-25T19:07:10.053Z"
   },
   {
    "duration": 0,
    "start_time": "2022-08-25T19:07:10.055Z"
   },
   {
    "duration": 0,
    "start_time": "2022-08-25T19:07:10.056Z"
   },
   {
    "duration": 0,
    "start_time": "2022-08-25T19:07:10.058Z"
   },
   {
    "duration": 0,
    "start_time": "2022-08-25T19:07:10.059Z"
   },
   {
    "duration": 0,
    "start_time": "2022-08-25T19:07:10.061Z"
   },
   {
    "duration": 0,
    "start_time": "2022-08-25T19:07:10.062Z"
   },
   {
    "duration": 0,
    "start_time": "2022-08-25T19:07:10.064Z"
   },
   {
    "duration": 0,
    "start_time": "2022-08-25T19:07:10.065Z"
   },
   {
    "duration": 0,
    "start_time": "2022-08-25T19:07:10.066Z"
   },
   {
    "duration": 0,
    "start_time": "2022-08-25T19:07:10.067Z"
   },
   {
    "duration": 0,
    "start_time": "2022-08-25T19:07:10.069Z"
   },
   {
    "duration": 0,
    "start_time": "2022-08-25T19:07:10.109Z"
   },
   {
    "duration": 0,
    "start_time": "2022-08-25T19:07:10.110Z"
   },
   {
    "duration": 1598,
    "start_time": "2022-08-25T19:07:43.167Z"
   }
  ],
  "kernelspec": {
   "display_name": "Python 3 (ipykernel)",
   "language": "python",
   "name": "python3"
  },
  "language_info": {
   "codemirror_mode": {
    "name": "ipython",
    "version": 3
   },
   "file_extension": ".py",
   "mimetype": "text/x-python",
   "name": "python",
   "nbconvert_exporter": "python",
   "pygments_lexer": "ipython3",
   "version": "3.9.13"
  },
  "toc": {
   "base_numbering": 1,
   "nav_menu": {},
   "number_sections": true,
   "sideBar": true,
   "skip_h1_title": true,
   "title_cell": "Table of Contents",
   "title_sidebar": "Contents",
   "toc_cell": false,
   "toc_position": {},
   "toc_section_display": true,
   "toc_window_display": false
  }
 },
 "nbformat": 4,
 "nbformat_minor": 2
}
