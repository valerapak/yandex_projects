{
 "cells": [
  {
   "cell_type": "markdown",
   "metadata": {},
   "source": [
    "# Описание проекта\n",
    "Вы аналитик компании «Мегалайн» — федерального оператора сотовой связи. Клиентам предлагают два тарифных плана: «Смарт» и «Ультра». Чтобы скорректировать рекламный бюджет, коммерческий департамент хочет понять, какой тариф приносит больше денег.\n",
    "\n",
    "Вам предстоит сделать предварительный анализ тарифов на небольшой выборке клиентов. В вашем распоряжении данные 500 пользователей «Мегалайна»: кто они, откуда, каким тарифом пользуются, сколько звонков и сообщений каждый отправил за 2018 год. Нужно проанализировать поведение клиентов и сделать вывод — какой тариф лучше."
   ]
  },
  {
   "cell_type": "markdown",
   "metadata": {},
   "source": [
    "# Описание тарифов\n",
    "\n",
    "# Тариф «Смарт»\n",
    "    Ежемесячная плата: 550 рублей\n",
    "    Включено 500 минут разговора, 50 сообщений и 15 Гб интернет-трафика\n",
    "    Стоимость услуг сверх тарифного пакета: \n",
    "    - минута разговора: 3 рубля\n",
    "    - сообщение: 3 рубля\n",
    "    - 1 Гб интернет-трафика: 200 рублей\n",
    "\n",
    "\n",
    "# Тариф «Ультра»\n",
    "\n",
    "    Ежемесячная плата: 1950 рублей\n",
    "    Включено 3000 минут разговора, 1000 сообщений и 30 Гб интернет-трафика\n",
    "    Стоимость услуг сверх тарифного пакета:\n",
    "    - минута разговора: 1 рубль\n",
    "    - сообщение: 1 рубль\n",
    "    - 1 Гб интернет-трафика: 150 рублей"
   ]
  },
  {
   "cell_type": "markdown",
   "metadata": {},
   "source": [
    "# Примечание:\n",
    "«Мегалайн» всегда округляет секунды до минут, а мегабайты — до гигабайт. Каждый звонок округляется отдельно: даже если он длился всего 1 секунду, будет засчитан как 1 минута.\n",
    "\n",
    "Для веб-трафика отдельные сессии не считаются. Вместо этого общая сумма за месяц округляется в бо́льшую сторону. Если абонент использует 1025 мегабайт в этом месяце, с него возьмут плату за 2 гигабайта."
   ]
  },
  {
   "cell_type": "markdown",
   "metadata": {},
   "source": [
    "## Предобработка данных\n",
    "\n",
    "    Приведите данные к нужным типам.\n",
    "    Найдите и исправьте ошибки в данных, если они есть.\n",
    "    Поясните, какие ошибки вы нашли и как их исправили. В данных вы найдёте звонки с нулевой продолжительностью. \n",
    "    Это не ошибка: нулями обозначены пропущенные звонки, поэтому их не нужно удалять."
   ]
  },
  {
   "cell_type": "markdown",
   "metadata": {},
   "source": [
    "В данном разделе было выполнено следующее:\n",
    "    \n",
    "1. Удален ненужный столбец в датасете internet;\n",
    "    \n",
    "2. Изменен формат значений даты в нескольких датасетах на временной;\n",
    "    \n",
    "3. В датасете users в столбце \"дата прекращения\" обнаружены пропуски, которые, согласно легенде,говорят о том, что тарифом пользовались на момент составления датасета - оставил без изменений\n",
    "    \n",
    "\n"
   ]
  },
  {
   "cell_type": "code",
   "execution_count": 1,
   "metadata": {},
   "outputs": [],
   "source": [
    "import pandas as pd\n",
    "import matplotlib.pyplot as plt\n",
    "import seaborn as sns\n",
    "import numpy as np\n",
    "import math \n",
    "import scipy.stats as st\n",
    "import random"
   ]
  },
  {
   "cell_type": "code",
   "execution_count": 2,
   "metadata": {},
   "outputs": [],
   "source": [
    "calls = pd.read_csv('/datasets/calls.csv')\n",
    "internet = pd.read_csv('/datasets/internet.csv')\n",
    "messages = pd.read_csv('/datasets/messages.csv')\n",
    "tariffs = pd.read_csv('/datasets/tariffs.csv')\n",
    "users = pd.read_csv('/datasets/users.csv')"
   ]
  },
  {
   "cell_type": "code",
   "execution_count": 3,
   "metadata": {},
   "outputs": [
    {
     "data": {
      "text/html": [
       "<div>\n",
       "<style scoped>\n",
       "    .dataframe tbody tr th:only-of-type {\n",
       "        vertical-align: middle;\n",
       "    }\n",
       "\n",
       "    .dataframe tbody tr th {\n",
       "        vertical-align: top;\n",
       "    }\n",
       "\n",
       "    .dataframe thead th {\n",
       "        text-align: right;\n",
       "    }\n",
       "</style>\n",
       "<table border=\"1\" class=\"dataframe\">\n",
       "  <thead>\n",
       "    <tr style=\"text-align: right;\">\n",
       "      <th></th>\n",
       "      <th>id</th>\n",
       "      <th>call_date</th>\n",
       "      <th>duration</th>\n",
       "      <th>user_id</th>\n",
       "    </tr>\n",
       "  </thead>\n",
       "  <tbody>\n",
       "    <tr>\n",
       "      <th>0</th>\n",
       "      <td>1000_0</td>\n",
       "      <td>2018-07-25</td>\n",
       "      <td>0.00</td>\n",
       "      <td>1000</td>\n",
       "    </tr>\n",
       "    <tr>\n",
       "      <th>1</th>\n",
       "      <td>1000_1</td>\n",
       "      <td>2018-08-17</td>\n",
       "      <td>0.00</td>\n",
       "      <td>1000</td>\n",
       "    </tr>\n",
       "    <tr>\n",
       "      <th>2</th>\n",
       "      <td>1000_2</td>\n",
       "      <td>2018-06-11</td>\n",
       "      <td>2.85</td>\n",
       "      <td>1000</td>\n",
       "    </tr>\n",
       "    <tr>\n",
       "      <th>3</th>\n",
       "      <td>1000_3</td>\n",
       "      <td>2018-09-21</td>\n",
       "      <td>13.80</td>\n",
       "      <td>1000</td>\n",
       "    </tr>\n",
       "    <tr>\n",
       "      <th>4</th>\n",
       "      <td>1000_4</td>\n",
       "      <td>2018-12-15</td>\n",
       "      <td>5.18</td>\n",
       "      <td>1000</td>\n",
       "    </tr>\n",
       "  </tbody>\n",
       "</table>\n",
       "</div>"
      ],
      "text/plain": [
       "       id   call_date  duration  user_id\n",
       "0  1000_0  2018-07-25      0.00     1000\n",
       "1  1000_1  2018-08-17      0.00     1000\n",
       "2  1000_2  2018-06-11      2.85     1000\n",
       "3  1000_3  2018-09-21     13.80     1000\n",
       "4  1000_4  2018-12-15      5.18     1000"
      ]
     },
     "execution_count": 3,
     "metadata": {},
     "output_type": "execute_result"
    }
   ],
   "source": [
    "calls.head()"
   ]
  },
  {
   "cell_type": "code",
   "execution_count": 4,
   "metadata": {},
   "outputs": [
    {
     "data": {
      "text/html": [
       "<div>\n",
       "<style scoped>\n",
       "    .dataframe tbody tr th:only-of-type {\n",
       "        vertical-align: middle;\n",
       "    }\n",
       "\n",
       "    .dataframe tbody tr th {\n",
       "        vertical-align: top;\n",
       "    }\n",
       "\n",
       "    .dataframe thead th {\n",
       "        text-align: right;\n",
       "    }\n",
       "</style>\n",
       "<table border=\"1\" class=\"dataframe\">\n",
       "  <thead>\n",
       "    <tr style=\"text-align: right;\">\n",
       "      <th></th>\n",
       "      <th>Unnamed: 0</th>\n",
       "      <th>id</th>\n",
       "      <th>mb_used</th>\n",
       "      <th>session_date</th>\n",
       "      <th>user_id</th>\n",
       "    </tr>\n",
       "  </thead>\n",
       "  <tbody>\n",
       "    <tr>\n",
       "      <th>0</th>\n",
       "      <td>0</td>\n",
       "      <td>1000_0</td>\n",
       "      <td>112.95</td>\n",
       "      <td>2018-11-25</td>\n",
       "      <td>1000</td>\n",
       "    </tr>\n",
       "    <tr>\n",
       "      <th>1</th>\n",
       "      <td>1</td>\n",
       "      <td>1000_1</td>\n",
       "      <td>1052.81</td>\n",
       "      <td>2018-09-07</td>\n",
       "      <td>1000</td>\n",
       "    </tr>\n",
       "    <tr>\n",
       "      <th>2</th>\n",
       "      <td>2</td>\n",
       "      <td>1000_2</td>\n",
       "      <td>1197.26</td>\n",
       "      <td>2018-06-25</td>\n",
       "      <td>1000</td>\n",
       "    </tr>\n",
       "    <tr>\n",
       "      <th>3</th>\n",
       "      <td>3</td>\n",
       "      <td>1000_3</td>\n",
       "      <td>550.27</td>\n",
       "      <td>2018-08-22</td>\n",
       "      <td>1000</td>\n",
       "    </tr>\n",
       "    <tr>\n",
       "      <th>4</th>\n",
       "      <td>4</td>\n",
       "      <td>1000_4</td>\n",
       "      <td>302.56</td>\n",
       "      <td>2018-09-24</td>\n",
       "      <td>1000</td>\n",
       "    </tr>\n",
       "  </tbody>\n",
       "</table>\n",
       "</div>"
      ],
      "text/plain": [
       "   Unnamed: 0      id  mb_used session_date  user_id\n",
       "0           0  1000_0   112.95   2018-11-25     1000\n",
       "1           1  1000_1  1052.81   2018-09-07     1000\n",
       "2           2  1000_2  1197.26   2018-06-25     1000\n",
       "3           3  1000_3   550.27   2018-08-22     1000\n",
       "4           4  1000_4   302.56   2018-09-24     1000"
      ]
     },
     "execution_count": 4,
     "metadata": {},
     "output_type": "execute_result"
    }
   ],
   "source": [
    "internet.head()"
   ]
  },
  {
   "cell_type": "code",
   "execution_count": 5,
   "metadata": {},
   "outputs": [
    {
     "data": {
      "text/html": [
       "<div>\n",
       "<style scoped>\n",
       "    .dataframe tbody tr th:only-of-type {\n",
       "        vertical-align: middle;\n",
       "    }\n",
       "\n",
       "    .dataframe tbody tr th {\n",
       "        vertical-align: top;\n",
       "    }\n",
       "\n",
       "    .dataframe thead th {\n",
       "        text-align: right;\n",
       "    }\n",
       "</style>\n",
       "<table border=\"1\" class=\"dataframe\">\n",
       "  <thead>\n",
       "    <tr style=\"text-align: right;\">\n",
       "      <th></th>\n",
       "      <th>id</th>\n",
       "      <th>mb_used</th>\n",
       "      <th>session_date</th>\n",
       "      <th>user_id</th>\n",
       "    </tr>\n",
       "  </thead>\n",
       "  <tbody>\n",
       "    <tr>\n",
       "      <th>0</th>\n",
       "      <td>1000_0</td>\n",
       "      <td>112.95</td>\n",
       "      <td>2018-11-25</td>\n",
       "      <td>1000</td>\n",
       "    </tr>\n",
       "    <tr>\n",
       "      <th>1</th>\n",
       "      <td>1000_1</td>\n",
       "      <td>1052.81</td>\n",
       "      <td>2018-09-07</td>\n",
       "      <td>1000</td>\n",
       "    </tr>\n",
       "    <tr>\n",
       "      <th>2</th>\n",
       "      <td>1000_2</td>\n",
       "      <td>1197.26</td>\n",
       "      <td>2018-06-25</td>\n",
       "      <td>1000</td>\n",
       "    </tr>\n",
       "    <tr>\n",
       "      <th>3</th>\n",
       "      <td>1000_3</td>\n",
       "      <td>550.27</td>\n",
       "      <td>2018-08-22</td>\n",
       "      <td>1000</td>\n",
       "    </tr>\n",
       "    <tr>\n",
       "      <th>4</th>\n",
       "      <td>1000_4</td>\n",
       "      <td>302.56</td>\n",
       "      <td>2018-09-24</td>\n",
       "      <td>1000</td>\n",
       "    </tr>\n",
       "  </tbody>\n",
       "</table>\n",
       "</div>"
      ],
      "text/plain": [
       "       id  mb_used session_date  user_id\n",
       "0  1000_0   112.95   2018-11-25     1000\n",
       "1  1000_1  1052.81   2018-09-07     1000\n",
       "2  1000_2  1197.26   2018-06-25     1000\n",
       "3  1000_3   550.27   2018-08-22     1000\n",
       "4  1000_4   302.56   2018-09-24     1000"
      ]
     },
     "execution_count": 5,
     "metadata": {},
     "output_type": "execute_result"
    }
   ],
   "source": [
    "# Есть ненужный столбец, можно от него избавиться\n",
    "internet = internet.drop(['Unnamed: 0'], axis=1)\n",
    "internet.head()"
   ]
  },
  {
   "cell_type": "code",
   "execution_count": 6,
   "metadata": {},
   "outputs": [
    {
     "data": {
      "text/html": [
       "<div>\n",
       "<style scoped>\n",
       "    .dataframe tbody tr th:only-of-type {\n",
       "        vertical-align: middle;\n",
       "    }\n",
       "\n",
       "    .dataframe tbody tr th {\n",
       "        vertical-align: top;\n",
       "    }\n",
       "\n",
       "    .dataframe thead th {\n",
       "        text-align: right;\n",
       "    }\n",
       "</style>\n",
       "<table border=\"1\" class=\"dataframe\">\n",
       "  <thead>\n",
       "    <tr style=\"text-align: right;\">\n",
       "      <th></th>\n",
       "      <th>id</th>\n",
       "      <th>message_date</th>\n",
       "      <th>user_id</th>\n",
       "    </tr>\n",
       "  </thead>\n",
       "  <tbody>\n",
       "    <tr>\n",
       "      <th>0</th>\n",
       "      <td>1000_0</td>\n",
       "      <td>2018-06-27</td>\n",
       "      <td>1000</td>\n",
       "    </tr>\n",
       "    <tr>\n",
       "      <th>1</th>\n",
       "      <td>1000_1</td>\n",
       "      <td>2018-10-08</td>\n",
       "      <td>1000</td>\n",
       "    </tr>\n",
       "    <tr>\n",
       "      <th>2</th>\n",
       "      <td>1000_2</td>\n",
       "      <td>2018-08-04</td>\n",
       "      <td>1000</td>\n",
       "    </tr>\n",
       "    <tr>\n",
       "      <th>3</th>\n",
       "      <td>1000_3</td>\n",
       "      <td>2018-06-16</td>\n",
       "      <td>1000</td>\n",
       "    </tr>\n",
       "    <tr>\n",
       "      <th>4</th>\n",
       "      <td>1000_4</td>\n",
       "      <td>2018-12-05</td>\n",
       "      <td>1000</td>\n",
       "    </tr>\n",
       "  </tbody>\n",
       "</table>\n",
       "</div>"
      ],
      "text/plain": [
       "       id message_date  user_id\n",
       "0  1000_0   2018-06-27     1000\n",
       "1  1000_1   2018-10-08     1000\n",
       "2  1000_2   2018-08-04     1000\n",
       "3  1000_3   2018-06-16     1000\n",
       "4  1000_4   2018-12-05     1000"
      ]
     },
     "execution_count": 6,
     "metadata": {},
     "output_type": "execute_result"
    }
   ],
   "source": [
    "messages.head()"
   ]
  },
  {
   "cell_type": "code",
   "execution_count": 7,
   "metadata": {},
   "outputs": [
    {
     "data": {
      "text/html": [
       "<div>\n",
       "<style scoped>\n",
       "    .dataframe tbody tr th:only-of-type {\n",
       "        vertical-align: middle;\n",
       "    }\n",
       "\n",
       "    .dataframe tbody tr th {\n",
       "        vertical-align: top;\n",
       "    }\n",
       "\n",
       "    .dataframe thead th {\n",
       "        text-align: right;\n",
       "    }\n",
       "</style>\n",
       "<table border=\"1\" class=\"dataframe\">\n",
       "  <thead>\n",
       "    <tr style=\"text-align: right;\">\n",
       "      <th></th>\n",
       "      <th>messages_included</th>\n",
       "      <th>mb_per_month_included</th>\n",
       "      <th>minutes_included</th>\n",
       "      <th>rub_monthly_fee</th>\n",
       "      <th>rub_per_gb</th>\n",
       "      <th>rub_per_message</th>\n",
       "      <th>rub_per_minute</th>\n",
       "      <th>tariff_name</th>\n",
       "    </tr>\n",
       "  </thead>\n",
       "  <tbody>\n",
       "    <tr>\n",
       "      <th>0</th>\n",
       "      <td>50</td>\n",
       "      <td>15360</td>\n",
       "      <td>500</td>\n",
       "      <td>550</td>\n",
       "      <td>200</td>\n",
       "      <td>3</td>\n",
       "      <td>3</td>\n",
       "      <td>smart</td>\n",
       "    </tr>\n",
       "    <tr>\n",
       "      <th>1</th>\n",
       "      <td>1000</td>\n",
       "      <td>30720</td>\n",
       "      <td>3000</td>\n",
       "      <td>1950</td>\n",
       "      <td>150</td>\n",
       "      <td>1</td>\n",
       "      <td>1</td>\n",
       "      <td>ultra</td>\n",
       "    </tr>\n",
       "  </tbody>\n",
       "</table>\n",
       "</div>"
      ],
      "text/plain": [
       "   messages_included  mb_per_month_included  minutes_included  \\\n",
       "0                 50                  15360               500   \n",
       "1               1000                  30720              3000   \n",
       "\n",
       "   rub_monthly_fee  rub_per_gb  rub_per_message  rub_per_minute tariff_name  \n",
       "0              550         200                3               3       smart  \n",
       "1             1950         150                1               1       ultra  "
      ]
     },
     "execution_count": 7,
     "metadata": {},
     "output_type": "execute_result"
    }
   ],
   "source": [
    "tariffs.head()"
   ]
  },
  {
   "cell_type": "code",
   "execution_count": 8,
   "metadata": {},
   "outputs": [
    {
     "data": {
      "text/html": [
       "<div>\n",
       "<style scoped>\n",
       "    .dataframe tbody tr th:only-of-type {\n",
       "        vertical-align: middle;\n",
       "    }\n",
       "\n",
       "    .dataframe tbody tr th {\n",
       "        vertical-align: top;\n",
       "    }\n",
       "\n",
       "    .dataframe thead th {\n",
       "        text-align: right;\n",
       "    }\n",
       "</style>\n",
       "<table border=\"1\" class=\"dataframe\">\n",
       "  <thead>\n",
       "    <tr style=\"text-align: right;\">\n",
       "      <th></th>\n",
       "      <th>user_id</th>\n",
       "      <th>age</th>\n",
       "      <th>churn_date</th>\n",
       "      <th>city</th>\n",
       "      <th>first_name</th>\n",
       "      <th>last_name</th>\n",
       "      <th>reg_date</th>\n",
       "      <th>tariff</th>\n",
       "    </tr>\n",
       "  </thead>\n",
       "  <tbody>\n",
       "    <tr>\n",
       "      <th>0</th>\n",
       "      <td>1000</td>\n",
       "      <td>52</td>\n",
       "      <td>NaN</td>\n",
       "      <td>Краснодар</td>\n",
       "      <td>Рафаил</td>\n",
       "      <td>Верещагин</td>\n",
       "      <td>2018-05-25</td>\n",
       "      <td>ultra</td>\n",
       "    </tr>\n",
       "    <tr>\n",
       "      <th>1</th>\n",
       "      <td>1001</td>\n",
       "      <td>41</td>\n",
       "      <td>NaN</td>\n",
       "      <td>Москва</td>\n",
       "      <td>Иван</td>\n",
       "      <td>Ежов</td>\n",
       "      <td>2018-11-01</td>\n",
       "      <td>smart</td>\n",
       "    </tr>\n",
       "    <tr>\n",
       "      <th>2</th>\n",
       "      <td>1002</td>\n",
       "      <td>59</td>\n",
       "      <td>NaN</td>\n",
       "      <td>Стерлитамак</td>\n",
       "      <td>Евгений</td>\n",
       "      <td>Абрамович</td>\n",
       "      <td>2018-06-17</td>\n",
       "      <td>smart</td>\n",
       "    </tr>\n",
       "    <tr>\n",
       "      <th>3</th>\n",
       "      <td>1003</td>\n",
       "      <td>23</td>\n",
       "      <td>NaN</td>\n",
       "      <td>Москва</td>\n",
       "      <td>Белла</td>\n",
       "      <td>Белякова</td>\n",
       "      <td>2018-08-17</td>\n",
       "      <td>ultra</td>\n",
       "    </tr>\n",
       "    <tr>\n",
       "      <th>4</th>\n",
       "      <td>1004</td>\n",
       "      <td>68</td>\n",
       "      <td>NaN</td>\n",
       "      <td>Новокузнецк</td>\n",
       "      <td>Татьяна</td>\n",
       "      <td>Авдеенко</td>\n",
       "      <td>2018-05-14</td>\n",
       "      <td>ultra</td>\n",
       "    </tr>\n",
       "  </tbody>\n",
       "</table>\n",
       "</div>"
      ],
      "text/plain": [
       "   user_id  age churn_date         city first_name  last_name    reg_date  \\\n",
       "0     1000   52        NaN    Краснодар     Рафаил  Верещагин  2018-05-25   \n",
       "1     1001   41        NaN       Москва       Иван       Ежов  2018-11-01   \n",
       "2     1002   59        NaN  Стерлитамак    Евгений  Абрамович  2018-06-17   \n",
       "3     1003   23        NaN       Москва      Белла   Белякова  2018-08-17   \n",
       "4     1004   68        NaN  Новокузнецк    Татьяна   Авдеенко  2018-05-14   \n",
       "\n",
       "  tariff  \n",
       "0  ultra  \n",
       "1  smart  \n",
       "2  smart  \n",
       "3  ultra  \n",
       "4  ultra  "
      ]
     },
     "execution_count": 8,
     "metadata": {},
     "output_type": "execute_result"
    }
   ],
   "source": [
    "users.head()"
   ]
  },
  {
   "cell_type": "code",
   "execution_count": 9,
   "metadata": {},
   "outputs": [],
   "source": [
    "# Изменим формат столбцов с датами на временной:\n",
    "calls['call_date'] = pd.to_datetime(calls['call_date'], format='%Y-%m-%d')\n",
    "internet['session_date'] = pd.to_datetime(internet['session_date'], format='%Y-%m-%d')\n",
    "messages['message_date'] = pd.to_datetime(messages['message_date'], format='%Y-%m-%d')\n",
    "users['churn_date'] = pd.to_datetime(users['churn_date'], format='%Y-%m-%d')\n",
    "users['reg_date'] = pd.to_datetime(users['reg_date'], format='%Y-%m-%d')"
   ]
  },
  {
   "cell_type": "code",
   "execution_count": 10,
   "metadata": {},
   "outputs": [
    {
     "name": "stdout",
     "output_type": "stream",
     "text": [
      "<class 'pandas.core.frame.DataFrame'>\n",
      "RangeIndex: 202607 entries, 0 to 202606\n",
      "Data columns (total 4 columns):\n",
      " #   Column     Non-Null Count   Dtype         \n",
      "---  ------     --------------   -----         \n",
      " 0   id         202607 non-null  object        \n",
      " 1   call_date  202607 non-null  datetime64[ns]\n",
      " 2   duration   202607 non-null  float64       \n",
      " 3   user_id    202607 non-null  int64         \n",
      "dtypes: datetime64[ns](1), float64(1), int64(1), object(1)\n",
      "memory usage: 6.2+ MB\n",
      "None\n",
      "\n",
      "<class 'pandas.core.frame.DataFrame'>\n",
      "RangeIndex: 149396 entries, 0 to 149395\n",
      "Data columns (total 4 columns):\n",
      " #   Column        Non-Null Count   Dtype         \n",
      "---  ------        --------------   -----         \n",
      " 0   id            149396 non-null  object        \n",
      " 1   mb_used       149396 non-null  float64       \n",
      " 2   session_date  149396 non-null  datetime64[ns]\n",
      " 3   user_id       149396 non-null  int64         \n",
      "dtypes: datetime64[ns](1), float64(1), int64(1), object(1)\n",
      "memory usage: 4.6+ MB\n",
      "None\n",
      "\n",
      "<class 'pandas.core.frame.DataFrame'>\n",
      "RangeIndex: 123036 entries, 0 to 123035\n",
      "Data columns (total 3 columns):\n",
      " #   Column        Non-Null Count   Dtype         \n",
      "---  ------        --------------   -----         \n",
      " 0   id            123036 non-null  object        \n",
      " 1   message_date  123036 non-null  datetime64[ns]\n",
      " 2   user_id       123036 non-null  int64         \n",
      "dtypes: datetime64[ns](1), int64(1), object(1)\n",
      "memory usage: 2.8+ MB\n",
      "None\n",
      "\n",
      "<class 'pandas.core.frame.DataFrame'>\n",
      "RangeIndex: 2 entries, 0 to 1\n",
      "Data columns (total 8 columns):\n",
      " #   Column                 Non-Null Count  Dtype \n",
      "---  ------                 --------------  ----- \n",
      " 0   messages_included      2 non-null      int64 \n",
      " 1   mb_per_month_included  2 non-null      int64 \n",
      " 2   minutes_included       2 non-null      int64 \n",
      " 3   rub_monthly_fee        2 non-null      int64 \n",
      " 4   rub_per_gb             2 non-null      int64 \n",
      " 5   rub_per_message        2 non-null      int64 \n",
      " 6   rub_per_minute         2 non-null      int64 \n",
      " 7   tariff_name            2 non-null      object\n",
      "dtypes: int64(7), object(1)\n",
      "memory usage: 256.0+ bytes\n",
      "None\n",
      "\n",
      "<class 'pandas.core.frame.DataFrame'>\n",
      "RangeIndex: 500 entries, 0 to 499\n",
      "Data columns (total 8 columns):\n",
      " #   Column      Non-Null Count  Dtype         \n",
      "---  ------      --------------  -----         \n",
      " 0   user_id     500 non-null    int64         \n",
      " 1   age         500 non-null    int64         \n",
      " 2   churn_date  38 non-null     datetime64[ns]\n",
      " 3   city        500 non-null    object        \n",
      " 4   first_name  500 non-null    object        \n",
      " 5   last_name   500 non-null    object        \n",
      " 6   reg_date    500 non-null    datetime64[ns]\n",
      " 7   tariff      500 non-null    object        \n",
      "dtypes: datetime64[ns](2), int64(2), object(4)\n",
      "memory usage: 31.4+ KB\n",
      "None\n",
      "\n"
     ]
    }
   ],
   "source": [
    "for data in (calls, internet, messages, tariffs, users):\n",
    "    print(data.info(), end='\\n\\n' )"
   ]
  },
  {
   "cell_type": "code",
   "execution_count": 11,
   "metadata": {},
   "outputs": [
    {
     "name": "stdout",
     "output_type": "stream",
     "text": [
      "id           0\n",
      "call_date    0\n",
      "duration     0\n",
      "user_id      0\n",
      "dtype: int64\n",
      "\n",
      "id              0\n",
      "mb_used         0\n",
      "session_date    0\n",
      "user_id         0\n",
      "dtype: int64\n",
      "\n",
      "id              0\n",
      "message_date    0\n",
      "user_id         0\n",
      "dtype: int64\n",
      "\n",
      "messages_included        0\n",
      "mb_per_month_included    0\n",
      "minutes_included         0\n",
      "rub_monthly_fee          0\n",
      "rub_per_gb               0\n",
      "rub_per_message          0\n",
      "rub_per_minute           0\n",
      "tariff_name              0\n",
      "dtype: int64\n",
      "\n",
      "user_id         0\n",
      "age             0\n",
      "churn_date    462\n",
      "city            0\n",
      "first_name      0\n",
      "last_name       0\n",
      "reg_date        0\n",
      "tariff          0\n",
      "dtype: int64\n",
      "\n"
     ]
    }
   ],
   "source": [
    "# Проверим наличие пропусков\n",
    "for data in (calls, internet, messages, tariffs, users):\n",
    "    print(data.isna().sum(), end='\\n\\n')"
   ]
  },
  {
   "cell_type": "markdown",
   "metadata": {},
   "source": [
    "Пропуски в churn_date - пропущенные звонки - оставил без изменения, как и было указано в описании проекта"
   ]
  },
  {
   "cell_type": "code",
   "execution_count": 12,
   "metadata": {},
   "outputs": [
    {
     "name": "stdout",
     "output_type": "stream",
     "text": [
      "0\n",
      "0\n",
      "0\n",
      "0\n",
      "0\n"
     ]
    }
   ],
   "source": [
    "# проверка на дубликаты\n",
    "for data in (calls, internet, messages, tariffs, users):\n",
    "    print(data.duplicated().sum())"
   ]
  },
  {
   "cell_type": "code",
   "execution_count": 13,
   "metadata": {},
   "outputs": [
    {
     "data": {
      "text/html": [
       "<div>\n",
       "<style scoped>\n",
       "    .dataframe tbody tr th:only-of-type {\n",
       "        vertical-align: middle;\n",
       "    }\n",
       "\n",
       "    .dataframe tbody tr th {\n",
       "        vertical-align: top;\n",
       "    }\n",
       "\n",
       "    .dataframe thead th {\n",
       "        text-align: right;\n",
       "    }\n",
       "</style>\n",
       "<table border=\"1\" class=\"dataframe\">\n",
       "  <thead>\n",
       "    <tr style=\"text-align: right;\">\n",
       "      <th></th>\n",
       "      <th>id</th>\n",
       "      <th>mb_used</th>\n",
       "      <th>session_date</th>\n",
       "      <th>user_id</th>\n",
       "    </tr>\n",
       "  </thead>\n",
       "  <tbody>\n",
       "    <tr>\n",
       "      <th>0</th>\n",
       "      <td>1000_0</td>\n",
       "      <td>112.95</td>\n",
       "      <td>2018-11-25</td>\n",
       "      <td>1000</td>\n",
       "    </tr>\n",
       "    <tr>\n",
       "      <th>1</th>\n",
       "      <td>1000_1</td>\n",
       "      <td>1052.81</td>\n",
       "      <td>2018-09-07</td>\n",
       "      <td>1000</td>\n",
       "    </tr>\n",
       "    <tr>\n",
       "      <th>2</th>\n",
       "      <td>1000_2</td>\n",
       "      <td>1197.26</td>\n",
       "      <td>2018-06-25</td>\n",
       "      <td>1000</td>\n",
       "    </tr>\n",
       "    <tr>\n",
       "      <th>3</th>\n",
       "      <td>1000_3</td>\n",
       "      <td>550.27</td>\n",
       "      <td>2018-08-22</td>\n",
       "      <td>1000</td>\n",
       "    </tr>\n",
       "    <tr>\n",
       "      <th>4</th>\n",
       "      <td>1000_4</td>\n",
       "      <td>302.56</td>\n",
       "      <td>2018-09-24</td>\n",
       "      <td>1000</td>\n",
       "    </tr>\n",
       "  </tbody>\n",
       "</table>\n",
       "</div>"
      ],
      "text/plain": [
       "       id  mb_used session_date  user_id\n",
       "0  1000_0   112.95   2018-11-25     1000\n",
       "1  1000_1  1052.81   2018-09-07     1000\n",
       "2  1000_2  1197.26   2018-06-25     1000\n",
       "3  1000_3   550.27   2018-08-22     1000\n",
       "4  1000_4   302.56   2018-09-24     1000"
      ]
     },
     "execution_count": 13,
     "metadata": {},
     "output_type": "execute_result"
    }
   ],
   "source": [
    "# Рассмотрим данные потребления трафика\n",
    "internet.head()"
   ]
  },
  {
   "cell_type": "code",
   "execution_count": 14,
   "metadata": {},
   "outputs": [
    {
     "data": {
      "text/plain": [
       "0.00      19598\n",
       "335.91        9\n",
       "447.30        9\n",
       "197.56        9\n",
       "199.11        8\n",
       "          ...  \n",
       "182.69        1\n",
       "726.03        1\n",
       "315.12        1\n",
       "898.99        1\n",
       "677.66        1\n",
       "Name: mb_used, Length: 70003, dtype: int64"
      ]
     },
     "execution_count": 14,
     "metadata": {},
     "output_type": "execute_result"
    }
   ],
   "source": [
    "internet['mb_used'].value_counts()"
   ]
  },
  {
   "cell_type": "code",
   "execution_count": 15,
   "metadata": {},
   "outputs": [
    {
     "data": {
      "text/plain": [
       "<AxesSubplot:>"
      ]
     },
     "execution_count": 15,
     "metadata": {},
     "output_type": "execute_result"
    },
    {
     "data": {
      "image/png": "[encoded data removed]",
      "text/plain": [
       "<Figure size 1080x720 with 1 Axes>"
      ]
     },
     "metadata": {
      "needs_background": "light"
     },
     "output_type": "display_data"
    }
   ],
   "source": [
    "internet['mb_used'].hist(bins=100, figsize=(15,10))"
   ]
  },
  {
   "cell_type": "code",
   "execution_count": 59,
   "metadata": {},
   "outputs": [
    {
     "data": {
      "text/plain": [
       "0.13118155773916304"
      ]
     },
     "execution_count": 59,
     "metadata": {},
     "output_type": "execute_result"
    }
   ],
   "source": [
    "zero_internet_ratio = len(internet[internet['mb_used']==0])/len(internet['mb_used'])\n",
    "zero_internet_ratio"
   ]
  },
  {
   "cell_type": "markdown",
   "metadata": {},
   "source": [
    "В ходе рассмотрения данных потребления интернета было выявлено определенное количество нулевых значений = 13% от общего количества интернет-сессий. В данном исследовании, на мой взгляд, их можно оставить без изменений, так как они не влияют на общую цель проекта - исследование экономической эффективности тарифов, потому что определенный объем интернет-трафика уже включен в тарифный план. "
   ]
  },
  {
   "cell_type": "markdown",
   "metadata": {},
   "source": [
    "## Посчитайте для каждого пользователя:\n",
    "\n",
    "    - количество сделанных звонков и израсходованных минут разговора по месяцам;\n",
    "    - количество отправленных сообщений по месяцам;\n",
    "    - объем израсходованного интернет-трафика по месяцам;\n",
    "    - помесячную выручку с каждого пользователя (вычтите бесплатный лимит из суммарного количества звонков,\n",
    "    сообщений и интернет-трафика; остаток умножьте на значение из тарифного плана; прибавьте абонентскую плату,\n",
    "    соответствующую тарифному плану)."
   ]
  },
  {
   "cell_type": "code",
   "execution_count": 17,
   "metadata": {},
   "outputs": [],
   "source": [
    "# Выделим отдельный столбец для месяцев:\n",
    "calls['month'] = calls['call_date'].dt.month\n",
    "messages['month'] = messages['message_date'].dt.month\n",
    "internet['month'] = internet['session_date'].dt.month"
   ]
  },
  {
   "cell_type": "code",
   "execution_count": 18,
   "metadata": {},
   "outputs": [
    {
     "data": {
      "text/plain": [
       "0     0.0\n",
       "1     0.0\n",
       "2     3.0\n",
       "3    14.0\n",
       "4     6.0\n",
       "Name: duration_round, dtype: float64"
      ]
     },
     "execution_count": 18,
     "metadata": {},
     "output_type": "execute_result"
    }
   ],
   "source": [
    "# Округлим значения длительности звонков до верхнего:\n",
    "# Исправил использование метода np.ceil - без apply\n",
    "# calls('duration_round') = calls('duration').apply(np.ceil)\n",
    "calls['duration_round'] = np.ceil(calls['duration'])\n",
    "calls['duration_round'].head()"
   ]
  },
  {
   "cell_type": "code",
   "execution_count": 60,
   "metadata": {},
   "outputs": [
    {
     "data": {
      "text/html": [
       "<div>\n",
       "<style scoped>\n",
       "    .dataframe tbody tr th:only-of-type {\n",
       "        vertical-align: middle;\n",
       "    }\n",
       "\n",
       "    .dataframe tbody tr th {\n",
       "        vertical-align: top;\n",
       "    }\n",
       "\n",
       "    .dataframe thead th {\n",
       "        text-align: right;\n",
       "    }\n",
       "</style>\n",
       "<table border=\"1\" class=\"dataframe\">\n",
       "  <thead>\n",
       "    <tr style=\"text-align: right;\">\n",
       "      <th></th>\n",
       "      <th></th>\n",
       "      <th>calls</th>\n",
       "      <th>duration</th>\n",
       "    </tr>\n",
       "    <tr>\n",
       "      <th>user_id</th>\n",
       "      <th>month</th>\n",
       "      <th></th>\n",
       "      <th></th>\n",
       "    </tr>\n",
       "  </thead>\n",
       "  <tbody>\n",
       "    <tr>\n",
       "      <th rowspan=\"5\" valign=\"top\">1000</th>\n",
       "      <th>5</th>\n",
       "      <td>22</td>\n",
       "      <td>159.0</td>\n",
       "    </tr>\n",
       "    <tr>\n",
       "      <th>6</th>\n",
       "      <td>43</td>\n",
       "      <td>172.0</td>\n",
       "    </tr>\n",
       "    <tr>\n",
       "      <th>7</th>\n",
       "      <td>47</td>\n",
       "      <td>340.0</td>\n",
       "    </tr>\n",
       "    <tr>\n",
       "      <th>8</th>\n",
       "      <td>52</td>\n",
       "      <td>408.0</td>\n",
       "    </tr>\n",
       "    <tr>\n",
       "      <th>9</th>\n",
       "      <td>58</td>\n",
       "      <td>466.0</td>\n",
       "    </tr>\n",
       "  </tbody>\n",
       "</table>\n",
       "</div>"
      ],
      "text/plain": [
       "               calls  duration\n",
       "user_id month                 \n",
       "1000    5         22     159.0\n",
       "        6         43     172.0\n",
       "        7         47     340.0\n",
       "        8         52     408.0\n",
       "        9         58     466.0"
      ]
     },
     "execution_count": 60,
     "metadata": {},
     "output_type": "execute_result"
    }
   ],
   "source": [
    "# Создадим отдельные таблицы для звонков, сообщений, интернета и потом объединим их:\n",
    "calls_info = calls.pivot_table(index=['user_id', 'month'], values='duration_round', aggfunc=('sum', 'count'))\n",
    "calls_info.columns = ['calls', 'duration']\n",
    "calls_info.head()"
   ]
  },
  {
   "cell_type": "code",
   "execution_count": 20,
   "metadata": {},
   "outputs": [
    {
     "data": {
      "text/html": [
       "<div>\n",
       "<style scoped>\n",
       "    .dataframe tbody tr th:only-of-type {\n",
       "        vertical-align: middle;\n",
       "    }\n",
       "\n",
       "    .dataframe tbody tr th {\n",
       "        vertical-align: top;\n",
       "    }\n",
       "\n",
       "    .dataframe thead th {\n",
       "        text-align: right;\n",
       "    }\n",
       "</style>\n",
       "<table border=\"1\" class=\"dataframe\">\n",
       "  <thead>\n",
       "    <tr style=\"text-align: right;\">\n",
       "      <th></th>\n",
       "      <th></th>\n",
       "      <th>messages</th>\n",
       "    </tr>\n",
       "    <tr>\n",
       "      <th>user_id</th>\n",
       "      <th>month</th>\n",
       "      <th></th>\n",
       "    </tr>\n",
       "  </thead>\n",
       "  <tbody>\n",
       "    <tr>\n",
       "      <th rowspan=\"5\" valign=\"top\">1000</th>\n",
       "      <th>5</th>\n",
       "      <td>22</td>\n",
       "    </tr>\n",
       "    <tr>\n",
       "      <th>6</th>\n",
       "      <td>60</td>\n",
       "    </tr>\n",
       "    <tr>\n",
       "      <th>7</th>\n",
       "      <td>75</td>\n",
       "    </tr>\n",
       "    <tr>\n",
       "      <th>8</th>\n",
       "      <td>81</td>\n",
       "    </tr>\n",
       "    <tr>\n",
       "      <th>9</th>\n",
       "      <td>57</td>\n",
       "    </tr>\n",
       "  </tbody>\n",
       "</table>\n",
       "</div>"
      ],
      "text/plain": [
       "               messages\n",
       "user_id month          \n",
       "1000    5            22\n",
       "        6            60\n",
       "        7            75\n",
       "        8            81\n",
       "        9            57"
      ]
     },
     "execution_count": 20,
     "metadata": {},
     "output_type": "execute_result"
    }
   ],
   "source": [
    "messages_info = messages.pivot_table(index=['user_id', 'month'], values='id', aggfunc='count')\n",
    "messages_info.columns=['messages']\n",
    "messages_info.head()\n"
   ]
  },
  {
   "cell_type": "code",
   "execution_count": 21,
   "metadata": {},
   "outputs": [
    {
     "data": {
      "text/html": [
       "<div>\n",
       "<style scoped>\n",
       "    .dataframe tbody tr th:only-of-type {\n",
       "        vertical-align: middle;\n",
       "    }\n",
       "\n",
       "    .dataframe tbody tr th {\n",
       "        vertical-align: top;\n",
       "    }\n",
       "\n",
       "    .dataframe thead th {\n",
       "        text-align: right;\n",
       "    }\n",
       "</style>\n",
       "<table border=\"1\" class=\"dataframe\">\n",
       "  <thead>\n",
       "    <tr style=\"text-align: right;\">\n",
       "      <th></th>\n",
       "      <th></th>\n",
       "      <th>mb_used</th>\n",
       "    </tr>\n",
       "    <tr>\n",
       "      <th>user_id</th>\n",
       "      <th>month</th>\n",
       "      <th></th>\n",
       "    </tr>\n",
       "  </thead>\n",
       "  <tbody>\n",
       "    <tr>\n",
       "      <th rowspan=\"5\" valign=\"top\">1000</th>\n",
       "      <th>5</th>\n",
       "      <td>2253.49</td>\n",
       "    </tr>\n",
       "    <tr>\n",
       "      <th>6</th>\n",
       "      <td>23233.77</td>\n",
       "    </tr>\n",
       "    <tr>\n",
       "      <th>7</th>\n",
       "      <td>14003.64</td>\n",
       "    </tr>\n",
       "    <tr>\n",
       "      <th>8</th>\n",
       "      <td>14055.93</td>\n",
       "    </tr>\n",
       "    <tr>\n",
       "      <th>9</th>\n",
       "      <td>14568.91</td>\n",
       "    </tr>\n",
       "  </tbody>\n",
       "</table>\n",
       "</div>"
      ],
      "text/plain": [
       "                mb_used\n",
       "user_id month          \n",
       "1000    5       2253.49\n",
       "        6      23233.77\n",
       "        7      14003.64\n",
       "        8      14055.93\n",
       "        9      14568.91"
      ]
     },
     "execution_count": 21,
     "metadata": {},
     "output_type": "execute_result"
    }
   ],
   "source": [
    "internet_info = internet.pivot_table(index=['user_id', 'month'], values='mb_used', aggfunc='sum')\n",
    "internet_info.columns=['mb_used']\n",
    "internet_info.head()"
   ]
  },
  {
   "cell_type": "code",
   "execution_count": 22,
   "metadata": {},
   "outputs": [
    {
     "data": {
      "text/html": [
       "<div>\n",
       "<style scoped>\n",
       "    .dataframe tbody tr th:only-of-type {\n",
       "        vertical-align: middle;\n",
       "    }\n",
       "\n",
       "    .dataframe tbody tr th {\n",
       "        vertical-align: top;\n",
       "    }\n",
       "\n",
       "    .dataframe thead th {\n",
       "        text-align: right;\n",
       "    }\n",
       "</style>\n",
       "<table border=\"1\" class=\"dataframe\">\n",
       "  <thead>\n",
       "    <tr style=\"text-align: right;\">\n",
       "      <th></th>\n",
       "      <th>user_id</th>\n",
       "      <th>month</th>\n",
       "      <th>calls</th>\n",
       "      <th>duration</th>\n",
       "      <th>messages</th>\n",
       "      <th>mb_used</th>\n",
       "    </tr>\n",
       "  </thead>\n",
       "  <tbody>\n",
       "    <tr>\n",
       "      <th>0</th>\n",
       "      <td>1000</td>\n",
       "      <td>5</td>\n",
       "      <td>22.0</td>\n",
       "      <td>159.0</td>\n",
       "      <td>22.0</td>\n",
       "      <td>2253.49</td>\n",
       "    </tr>\n",
       "    <tr>\n",
       "      <th>1</th>\n",
       "      <td>1000</td>\n",
       "      <td>6</td>\n",
       "      <td>43.0</td>\n",
       "      <td>172.0</td>\n",
       "      <td>60.0</td>\n",
       "      <td>23233.77</td>\n",
       "    </tr>\n",
       "    <tr>\n",
       "      <th>2</th>\n",
       "      <td>1000</td>\n",
       "      <td>7</td>\n",
       "      <td>47.0</td>\n",
       "      <td>340.0</td>\n",
       "      <td>75.0</td>\n",
       "      <td>14003.64</td>\n",
       "    </tr>\n",
       "    <tr>\n",
       "      <th>3</th>\n",
       "      <td>1000</td>\n",
       "      <td>8</td>\n",
       "      <td>52.0</td>\n",
       "      <td>408.0</td>\n",
       "      <td>81.0</td>\n",
       "      <td>14055.93</td>\n",
       "    </tr>\n",
       "    <tr>\n",
       "      <th>4</th>\n",
       "      <td>1000</td>\n",
       "      <td>9</td>\n",
       "      <td>58.0</td>\n",
       "      <td>466.0</td>\n",
       "      <td>57.0</td>\n",
       "      <td>14568.91</td>\n",
       "    </tr>\n",
       "  </tbody>\n",
       "</table>\n",
       "</div>"
      ],
      "text/plain": [
       "   user_id  month  calls  duration  messages   mb_used\n",
       "0     1000      5   22.0     159.0      22.0   2253.49\n",
       "1     1000      6   43.0     172.0      60.0  23233.77\n",
       "2     1000      7   47.0     340.0      75.0  14003.64\n",
       "3     1000      8   52.0     408.0      81.0  14055.93\n",
       "4     1000      9   58.0     466.0      57.0  14568.91"
      ]
     },
     "execution_count": 22,
     "metadata": {},
     "output_type": "execute_result"
    }
   ],
   "source": [
    "# Объединим три таблицы с помощью functools.reduce (загуглил как это делается)\n",
    "from functools import reduce\n",
    "data_frames = [calls_info, messages_info, internet_info]\n",
    "user_data = reduce(lambda left,right: pd.merge(left,right,on=['user_id', 'month'], how='outer'), data_frames)\n",
    "user_data = user_data.reset_index()\n",
    "user_data.head()"
   ]
  },
  {
   "cell_type": "code",
   "execution_count": 23,
   "metadata": {},
   "outputs": [
    {
     "data": {
      "text/plain": [
       "1372    12\n",
       "1227    12\n",
       "1135    12\n",
       "1472    12\n",
       "1134    12\n",
       "        ..\n",
       "1140     1\n",
       "1434     1\n",
       "1297     1\n",
       "1252     1\n",
       "1445     1\n",
       "Name: user_id, Length: 498, dtype: int64"
      ]
     },
     "execution_count": 23,
     "metadata": {},
     "output_type": "execute_result"
    }
   ],
   "source": [
    "user_data['user_id'].value_counts()"
   ]
  },
  {
   "cell_type": "code",
   "execution_count": 24,
   "metadata": {},
   "outputs": [
    {
     "data": {
      "text/plain": [
       "user_id       0\n",
       "month         0\n",
       "calls        40\n",
       "duration     40\n",
       "messages    497\n",
       "mb_used      11\n",
       "dtype: int64"
      ]
     },
     "execution_count": 24,
     "metadata": {},
     "output_type": "execute_result"
    }
   ],
   "source": [
    "user_data.isna().sum()"
   ]
  },
  {
   "cell_type": "markdown",
   "metadata": {},
   "source": [
    "В этой таблице у нас есть пропуски, которые в дальнейшем могут повлиять на расчет выручки с каждого пользователя. Большое количество пропусков в messages можно объяснить тем, что сейчас пользователи практически не пишут смс. Все пропуски можно заменить на 0, так как мы в любом случае не знаем, тратили ли пользователи сверх пакета или нет, и для выручки мы примем в расчет только абонентскую плату по тарифу. "
   ]
  },
  {
   "cell_type": "code",
   "execution_count": 25,
   "metadata": {},
   "outputs": [
    {
     "data": {
      "text/plain": [
       "user_id     0\n",
       "month       0\n",
       "calls       0\n",
       "duration    0\n",
       "messages    0\n",
       "mb_used     0\n",
       "dtype: int64"
      ]
     },
     "execution_count": 25,
     "metadata": {},
     "output_type": "execute_result"
    }
   ],
   "source": [
    "user_data = user_data.fillna(0)\n",
    "user_data.isna().sum()"
   ]
  },
  {
   "cell_type": "code",
   "execution_count": 26,
   "metadata": {},
   "outputs": [
    {
     "data": {
      "text/html": [
       "<div>\n",
       "<style scoped>\n",
       "    .dataframe tbody tr th:only-of-type {\n",
       "        vertical-align: middle;\n",
       "    }\n",
       "\n",
       "    .dataframe tbody tr th {\n",
       "        vertical-align: top;\n",
       "    }\n",
       "\n",
       "    .dataframe thead th {\n",
       "        text-align: right;\n",
       "    }\n",
       "</style>\n",
       "<table border=\"1\" class=\"dataframe\">\n",
       "  <thead>\n",
       "    <tr style=\"text-align: right;\">\n",
       "      <th></th>\n",
       "      <th>user_id</th>\n",
       "      <th>month</th>\n",
       "      <th>calls</th>\n",
       "      <th>duration</th>\n",
       "      <th>messages</th>\n",
       "      <th>mb_used</th>\n",
       "      <th>gb_used</th>\n",
       "    </tr>\n",
       "  </thead>\n",
       "  <tbody>\n",
       "    <tr>\n",
       "      <th>0</th>\n",
       "      <td>1000</td>\n",
       "      <td>5</td>\n",
       "      <td>22.0</td>\n",
       "      <td>159.0</td>\n",
       "      <td>22.0</td>\n",
       "      <td>2253.49</td>\n",
       "      <td>3.0</td>\n",
       "    </tr>\n",
       "    <tr>\n",
       "      <th>1</th>\n",
       "      <td>1000</td>\n",
       "      <td>6</td>\n",
       "      <td>43.0</td>\n",
       "      <td>172.0</td>\n",
       "      <td>60.0</td>\n",
       "      <td>23233.77</td>\n",
       "      <td>23.0</td>\n",
       "    </tr>\n",
       "    <tr>\n",
       "      <th>2</th>\n",
       "      <td>1000</td>\n",
       "      <td>7</td>\n",
       "      <td>47.0</td>\n",
       "      <td>340.0</td>\n",
       "      <td>75.0</td>\n",
       "      <td>14003.64</td>\n",
       "      <td>14.0</td>\n",
       "    </tr>\n",
       "    <tr>\n",
       "      <th>3</th>\n",
       "      <td>1000</td>\n",
       "      <td>8</td>\n",
       "      <td>52.0</td>\n",
       "      <td>408.0</td>\n",
       "      <td>81.0</td>\n",
       "      <td>14055.93</td>\n",
       "      <td>14.0</td>\n",
       "    </tr>\n",
       "    <tr>\n",
       "      <th>4</th>\n",
       "      <td>1000</td>\n",
       "      <td>9</td>\n",
       "      <td>58.0</td>\n",
       "      <td>466.0</td>\n",
       "      <td>57.0</td>\n",
       "      <td>14568.91</td>\n",
       "      <td>15.0</td>\n",
       "    </tr>\n",
       "  </tbody>\n",
       "</table>\n",
       "</div>"
      ],
      "text/plain": [
       "   user_id  month  calls  duration  messages   mb_used  gb_used\n",
       "0     1000      5   22.0     159.0      22.0   2253.49      3.0\n",
       "1     1000      6   43.0     172.0      60.0  23233.77     23.0\n",
       "2     1000      7   47.0     340.0      75.0  14003.64     14.0\n",
       "3     1000      8   52.0     408.0      81.0  14055.93     14.0\n",
       "4     1000      9   58.0     466.0      57.0  14568.91     15.0"
      ]
     },
     "execution_count": 26,
     "metadata": {},
     "output_type": "execute_result"
    }
   ],
   "source": [
    "# Создадим отдельный столбец для использованных Гб\n",
    "# Округлим полученные значения мегабайт до верхнего\n",
    "# user_data['gb_used'] = user_data['mb_used']/1024.apply(np.ceil)\n",
    "user_data['gb_used'] = np.ceil(user_data['mb_used']/1024)\n",
    "user_data.head()"
   ]
  },
  {
   "cell_type": "code",
   "execution_count": 27,
   "metadata": {},
   "outputs": [
    {
     "data": {
      "text/plain": [
       "1372    12\n",
       "1227    12\n",
       "1135    12\n",
       "1472    12\n",
       "1134    12\n",
       "        ..\n",
       "1140     1\n",
       "1434     1\n",
       "1297     1\n",
       "1252     1\n",
       "1445     1\n",
       "Name: user_id, Length: 498, dtype: int64"
      ]
     },
     "execution_count": 27,
     "metadata": {},
     "output_type": "execute_result"
    }
   ],
   "source": [
    "user_data['user_id'].value_counts()"
   ]
  },
  {
   "cell_type": "code",
   "execution_count": 28,
   "metadata": {},
   "outputs": [
    {
     "data": {
      "text/html": [
       "<div>\n",
       "<style scoped>\n",
       "    .dataframe tbody tr th:only-of-type {\n",
       "        vertical-align: middle;\n",
       "    }\n",
       "\n",
       "    .dataframe tbody tr th {\n",
       "        vertical-align: top;\n",
       "    }\n",
       "\n",
       "    .dataframe thead th {\n",
       "        text-align: right;\n",
       "    }\n",
       "</style>\n",
       "<table border=\"1\" class=\"dataframe\">\n",
       "  <thead>\n",
       "    <tr style=\"text-align: right;\">\n",
       "      <th></th>\n",
       "      <th>user_id</th>\n",
       "      <th>month</th>\n",
       "      <th>calls</th>\n",
       "      <th>duration</th>\n",
       "      <th>messages</th>\n",
       "      <th>mb_used</th>\n",
       "      <th>gb_used</th>\n",
       "      <th>tariff</th>\n",
       "    </tr>\n",
       "  </thead>\n",
       "  <tbody>\n",
       "    <tr>\n",
       "      <th>0</th>\n",
       "      <td>1000</td>\n",
       "      <td>5</td>\n",
       "      <td>22.0</td>\n",
       "      <td>159.0</td>\n",
       "      <td>22.0</td>\n",
       "      <td>2253.49</td>\n",
       "      <td>3.0</td>\n",
       "      <td>ultra</td>\n",
       "    </tr>\n",
       "    <tr>\n",
       "      <th>1</th>\n",
       "      <td>1000</td>\n",
       "      <td>6</td>\n",
       "      <td>43.0</td>\n",
       "      <td>172.0</td>\n",
       "      <td>60.0</td>\n",
       "      <td>23233.77</td>\n",
       "      <td>23.0</td>\n",
       "      <td>ultra</td>\n",
       "    </tr>\n",
       "    <tr>\n",
       "      <th>2</th>\n",
       "      <td>1000</td>\n",
       "      <td>7</td>\n",
       "      <td>47.0</td>\n",
       "      <td>340.0</td>\n",
       "      <td>75.0</td>\n",
       "      <td>14003.64</td>\n",
       "      <td>14.0</td>\n",
       "      <td>ultra</td>\n",
       "    </tr>\n",
       "    <tr>\n",
       "      <th>3</th>\n",
       "      <td>1000</td>\n",
       "      <td>8</td>\n",
       "      <td>52.0</td>\n",
       "      <td>408.0</td>\n",
       "      <td>81.0</td>\n",
       "      <td>14055.93</td>\n",
       "      <td>14.0</td>\n",
       "      <td>ultra</td>\n",
       "    </tr>\n",
       "    <tr>\n",
       "      <th>4</th>\n",
       "      <td>1000</td>\n",
       "      <td>9</td>\n",
       "      <td>58.0</td>\n",
       "      <td>466.0</td>\n",
       "      <td>57.0</td>\n",
       "      <td>14568.91</td>\n",
       "      <td>15.0</td>\n",
       "      <td>ultra</td>\n",
       "    </tr>\n",
       "  </tbody>\n",
       "</table>\n",
       "</div>"
      ],
      "text/plain": [
       "   user_id  month  calls  duration  messages   mb_used  gb_used tariff\n",
       "0     1000      5   22.0     159.0      22.0   2253.49      3.0  ultra\n",
       "1     1000      6   43.0     172.0      60.0  23233.77     23.0  ultra\n",
       "2     1000      7   47.0     340.0      75.0  14003.64     14.0  ultra\n",
       "3     1000      8   52.0     408.0      81.0  14055.93     14.0  ultra\n",
       "4     1000      9   58.0     466.0      57.0  14568.91     15.0  ultra"
      ]
     },
     "execution_count": 28,
     "metadata": {},
     "output_type": "execute_result"
    }
   ],
   "source": [
    "# Добавим столбец с названием тарифа\n",
    "tariff = pd.DataFrame()\n",
    "tariff = users[['user_id', 'tariff']]\n",
    "user_data = user_data.merge(tariff)\n",
    "user_data.head()"
   ]
  },
  {
   "cell_type": "code",
   "execution_count": 29,
   "metadata": {},
   "outputs": [
    {
     "data": {
      "text/plain": [
       "1372    12\n",
       "1227    12\n",
       "1135    12\n",
       "1472    12\n",
       "1134    12\n",
       "        ..\n",
       "1140     1\n",
       "1434     1\n",
       "1297     1\n",
       "1252     1\n",
       "1445     1\n",
       "Name: user_id, Length: 498, dtype: int64"
      ]
     },
     "execution_count": 29,
     "metadata": {},
     "output_type": "execute_result"
    }
   ],
   "source": [
    "user_data['user_id'].value_counts()"
   ]
  },
  {
   "cell_type": "code",
   "execution_count": 30,
   "metadata": {},
   "outputs": [
    {
     "data": {
      "text/html": [
       "<div>\n",
       "<style scoped>\n",
       "    .dataframe tbody tr th:only-of-type {\n",
       "        vertical-align: middle;\n",
       "    }\n",
       "\n",
       "    .dataframe tbody tr th {\n",
       "        vertical-align: top;\n",
       "    }\n",
       "\n",
       "    .dataframe thead th {\n",
       "        text-align: right;\n",
       "    }\n",
       "</style>\n",
       "<table border=\"1\" class=\"dataframe\">\n",
       "  <thead>\n",
       "    <tr style=\"text-align: right;\">\n",
       "      <th></th>\n",
       "      <th>messages_included</th>\n",
       "      <th>mb_per_month_included</th>\n",
       "      <th>minutes_included</th>\n",
       "      <th>rub_monthly_fee</th>\n",
       "      <th>rub_per_gb</th>\n",
       "      <th>rub_per_message</th>\n",
       "      <th>rub_per_minute</th>\n",
       "      <th>tariff_name</th>\n",
       "      <th>gb_included</th>\n",
       "    </tr>\n",
       "  </thead>\n",
       "  <tbody>\n",
       "    <tr>\n",
       "      <th>0</th>\n",
       "      <td>50</td>\n",
       "      <td>15360</td>\n",
       "      <td>500</td>\n",
       "      <td>550</td>\n",
       "      <td>200</td>\n",
       "      <td>3</td>\n",
       "      <td>3</td>\n",
       "      <td>smart</td>\n",
       "      <td>15.0</td>\n",
       "    </tr>\n",
       "    <tr>\n",
       "      <th>1</th>\n",
       "      <td>1000</td>\n",
       "      <td>30720</td>\n",
       "      <td>3000</td>\n",
       "      <td>1950</td>\n",
       "      <td>150</td>\n",
       "      <td>1</td>\n",
       "      <td>1</td>\n",
       "      <td>ultra</td>\n",
       "      <td>30.0</td>\n",
       "    </tr>\n",
       "  </tbody>\n",
       "</table>\n",
       "</div>"
      ],
      "text/plain": [
       "   messages_included  mb_per_month_included  minutes_included  \\\n",
       "0                 50                  15360               500   \n",
       "1               1000                  30720              3000   \n",
       "\n",
       "   rub_monthly_fee  rub_per_gb  rub_per_message  rub_per_minute tariff_name  \\\n",
       "0              550         200                3               3       smart   \n",
       "1             1950         150                1               1       ultra   \n",
       "\n",
       "   gb_included  \n",
       "0         15.0  \n",
       "1         30.0  "
      ]
     },
     "execution_count": 30,
     "metadata": {},
     "output_type": "execute_result"
    }
   ],
   "source": [
    "# Добавим столбец с Гб в датасет \"tariffs\"\n",
    "tariffs['gb_included'] = tariffs['mb_per_month_included']/1024\n",
    "tariffs"
   ]
  },
  {
   "cell_type": "code",
   "execution_count": 31,
   "metadata": {},
   "outputs": [
    {
     "data": {
      "text/html": [
       "<div>\n",
       "<style scoped>\n",
       "    .dataframe tbody tr th:only-of-type {\n",
       "        vertical-align: middle;\n",
       "    }\n",
       "\n",
       "    .dataframe tbody tr th {\n",
       "        vertical-align: top;\n",
       "    }\n",
       "\n",
       "    .dataframe thead th {\n",
       "        text-align: right;\n",
       "    }\n",
       "</style>\n",
       "<table border=\"1\" class=\"dataframe\">\n",
       "  <thead>\n",
       "    <tr style=\"text-align: right;\">\n",
       "      <th></th>\n",
       "      <th>user_id</th>\n",
       "      <th>month</th>\n",
       "      <th>calls</th>\n",
       "      <th>duration</th>\n",
       "      <th>messages</th>\n",
       "      <th>mb_used</th>\n",
       "      <th>gb_used</th>\n",
       "      <th>tariff</th>\n",
       "      <th>revenue</th>\n",
       "    </tr>\n",
       "  </thead>\n",
       "  <tbody>\n",
       "    <tr>\n",
       "      <th>0</th>\n",
       "      <td>1000</td>\n",
       "      <td>5</td>\n",
       "      <td>22.0</td>\n",
       "      <td>159.0</td>\n",
       "      <td>22.0</td>\n",
       "      <td>2253.49</td>\n",
       "      <td>3.0</td>\n",
       "      <td>ultra</td>\n",
       "      <td>1950.0</td>\n",
       "    </tr>\n",
       "    <tr>\n",
       "      <th>1</th>\n",
       "      <td>1000</td>\n",
       "      <td>6</td>\n",
       "      <td>43.0</td>\n",
       "      <td>172.0</td>\n",
       "      <td>60.0</td>\n",
       "      <td>23233.77</td>\n",
       "      <td>23.0</td>\n",
       "      <td>ultra</td>\n",
       "      <td>1950.0</td>\n",
       "    </tr>\n",
       "    <tr>\n",
       "      <th>2</th>\n",
       "      <td>1000</td>\n",
       "      <td>7</td>\n",
       "      <td>47.0</td>\n",
       "      <td>340.0</td>\n",
       "      <td>75.0</td>\n",
       "      <td>14003.64</td>\n",
       "      <td>14.0</td>\n",
       "      <td>ultra</td>\n",
       "      <td>1950.0</td>\n",
       "    </tr>\n",
       "    <tr>\n",
       "      <th>3</th>\n",
       "      <td>1000</td>\n",
       "      <td>8</td>\n",
       "      <td>52.0</td>\n",
       "      <td>408.0</td>\n",
       "      <td>81.0</td>\n",
       "      <td>14055.93</td>\n",
       "      <td>14.0</td>\n",
       "      <td>ultra</td>\n",
       "      <td>1950.0</td>\n",
       "    </tr>\n",
       "    <tr>\n",
       "      <th>4</th>\n",
       "      <td>1000</td>\n",
       "      <td>9</td>\n",
       "      <td>58.0</td>\n",
       "      <td>466.0</td>\n",
       "      <td>57.0</td>\n",
       "      <td>14568.91</td>\n",
       "      <td>15.0</td>\n",
       "      <td>ultra</td>\n",
       "      <td>1950.0</td>\n",
       "    </tr>\n",
       "  </tbody>\n",
       "</table>\n",
       "</div>"
      ],
      "text/plain": [
       "   user_id  month  calls  duration  messages   mb_used  gb_used tariff  \\\n",
       "0     1000      5   22.0     159.0      22.0   2253.49      3.0  ultra   \n",
       "1     1000      6   43.0     172.0      60.0  23233.77     23.0  ultra   \n",
       "2     1000      7   47.0     340.0      75.0  14003.64     14.0  ultra   \n",
       "3     1000      8   52.0     408.0      81.0  14055.93     14.0  ultra   \n",
       "4     1000      9   58.0     466.0      57.0  14568.91     15.0  ultra   \n",
       "\n",
       "   revenue  \n",
       "0   1950.0  \n",
       "1   1950.0  \n",
       "2   1950.0  \n",
       "3   1950.0  \n",
       "4   1950.0  "
      ]
     },
     "execution_count": 31,
     "metadata": {},
     "output_type": "execute_result"
    }
   ],
   "source": [
    "# Создадим функцию для расчета выручки каждого пользователя с учетом абонентской платы по тарифу\n",
    "\n",
    "user_data['revenue'] = ''\n",
    "\n",
    "def revenue(row):\n",
    "    if row['tariff'] == \"ultra\":\n",
    "        extra_duration = row['duration'] - tariffs.loc[1, 'minutes_included']\n",
    "        extra_gb = row['gb_used'] - tariffs.loc[1, 'gb_included']\n",
    "        extra_messages = row['messages'] - tariffs.loc[1, 'messages_included']\n",
    "        \n",
    "        if extra_duration < 0: \n",
    "            extra_duration = 0\n",
    "        if extra_gb < 0: \n",
    "            extra_gb = 0\n",
    "        if extra_messages < 0: \n",
    "            extra_messages = 0\n",
    "        \n",
    "        return (\n",
    "            tariffs.loc[1, 'rub_per_message']*extra_messages \n",
    "            + tariffs.loc[1, 'rub_per_gb']*extra_gb \n",
    "            + tariffs.loc[1, 'rub_per_minute']*extra_duration \n",
    "            + tariffs.loc[1, 'rub_monthly_fee']\n",
    "        )\n",
    "    else:\n",
    "        extra_duration = row['duration'] - tariffs.loc[0, 'minutes_included']\n",
    "        extra_gb = row['gb_used'] - tariffs.loc[0, 'gb_included']\n",
    "        extra_messages = row['messages'] - tariffs.loc[0, 'messages_included']\n",
    "        \n",
    "        if extra_duration < 0: \n",
    "            extra_duration = 0\n",
    "        if extra_gb < 0: \n",
    "            extra_gb = 0\n",
    "        if extra_messages < 0: \n",
    "            extra_messages = 0\n",
    "        \n",
    "        return (\n",
    "            tariffs.loc[0, 'rub_per_message']*extra_messages \n",
    "            + tariffs.loc[0, 'rub_per_gb']*extra_gb \n",
    "            + tariffs.loc[0, 'rub_per_minute']*extra_duration \n",
    "            + tariffs.loc[0, 'rub_monthly_fee']\n",
    "        )\n",
    "\n",
    "user_data['revenue'] = user_data.apply(revenue, axis=1)\n",
    "user_data.head()\n",
    "       \n",
    "   \n"
   ]
  },
  {
   "cell_type": "code",
   "execution_count": 32,
   "metadata": {},
   "outputs": [
    {
     "data": {
      "text/plain": [
       "(498,)"
      ]
     },
     "execution_count": 32,
     "metadata": {},
     "output_type": "execute_result"
    }
   ],
   "source": [
    "# Комментарий ревьюера\n",
    "user_data.user_id.unique().shape "
   ]
  },
  {
   "cell_type": "code",
   "execution_count": 33,
   "metadata": {},
   "outputs": [
    {
     "name": "stdout",
     "output_type": "stream",
     "text": [
      "[1128, 1371]\n"
     ]
    }
   ],
   "source": [
    "list_of_users = set(user_data['user_id'].unique().tolist())\n",
    "id_numbers =set(np.arange(1000,1500,1).tolist())\n",
    "print(list(id_numbers-list_of_users))"
   ]
  },
  {
   "cell_type": "code",
   "execution_count": 34,
   "metadata": {},
   "outputs": [
    {
     "name": "stdout",
     "output_type": "stream",
     "text": [
      "Empty DataFrame\n",
      "Columns: [id, call_date, duration, user_id, month, duration_round]\n",
      "Index: []\n",
      "Empty DataFrame\n",
      "Columns: [id, mb_used, session_date, user_id, month]\n",
      "Index: []\n",
      "Empty DataFrame\n",
      "Columns: [id, message_date, user_id, month]\n",
      "Index: []\n",
      "     user_id  age churn_date      city first_name last_name   reg_date tariff\n",
      "128     1128   51 2018-12-23  Волжский     Ксения    Агаева 2018-12-15  ultra\n",
      "371     1371   50 2018-12-30      Омск     Ириней  Трофимов 2018-12-25  smart\n"
     ]
    }
   ],
   "source": [
    "for data in (calls, internet, messages, users):\n",
    "    print(data.query('user_id==1128 or user_id==1371'))\n"
   ]
  },
  {
   "cell_type": "markdown",
   "metadata": {},
   "source": [
    "В ходе проверки выяснилось, что пропавшие два пользователя (по одному на каждый исследуемый тариф) не попали в отфильтрованную таблицу, потому что абоненты совсем не пользовались мобильной связью/интернетом/сообщениями, и отказались от данного тарифа практически уже через неделю. Также мы не можем с уверенностью сказать, была ли списана у данных пользователей абонентская плата за тариф - возможно тариф и был аннулирован за неуплату. Поэтому мы не можем добавить их в расчет выручки."
   ]
  },
  {
   "cell_type": "markdown",
   "metadata": {},
   "source": [
    "## Проанализируйте данные\n",
    "Опишите поведение клиентов оператора, исходя из выборки. Сколько минут разговора, сколько сообщений и какой объём интернет-трафика требуется пользователям каждого тарифа в месяц? Посчитайте среднее количество, дисперсию и стандартное отклонение. Постройте гистограммы. Опишите распределения."
   ]
  },
  {
   "cell_type": "code",
   "execution_count": 35,
   "metadata": {},
   "outputs": [
    {
     "data": {
      "text/html": [
       "<div>\n",
       "<style scoped>\n",
       "    .dataframe tbody tr th:only-of-type {\n",
       "        vertical-align: middle;\n",
       "    }\n",
       "\n",
       "    .dataframe tbody tr th {\n",
       "        vertical-align: top;\n",
       "    }\n",
       "\n",
       "    .dataframe thead tr th {\n",
       "        text-align: left;\n",
       "    }\n",
       "</style>\n",
       "<table border=\"1\" class=\"dataframe\">\n",
       "  <thead>\n",
       "    <tr>\n",
       "      <th></th>\n",
       "      <th>user_id</th>\n",
       "      <th>tariff</th>\n",
       "      <th colspan=\"3\" halign=\"left\">mean</th>\n",
       "      <th colspan=\"3\" halign=\"left\">median</th>\n",
       "    </tr>\n",
       "    <tr>\n",
       "      <th></th>\n",
       "      <th></th>\n",
       "      <th></th>\n",
       "      <th>duration</th>\n",
       "      <th>gb_used</th>\n",
       "      <th>messages</th>\n",
       "      <th>duration</th>\n",
       "      <th>gb_used</th>\n",
       "      <th>messages</th>\n",
       "    </tr>\n",
       "  </thead>\n",
       "  <tbody>\n",
       "    <tr>\n",
       "      <th>0</th>\n",
       "      <td>1000</td>\n",
       "      <td>ultra</td>\n",
       "      <td>320.750000</td>\n",
       "      <td>13.625000</td>\n",
       "      <td>62.0</td>\n",
       "      <td>339.0</td>\n",
       "      <td>14.5</td>\n",
       "      <td>65.0</td>\n",
       "    </tr>\n",
       "    <tr>\n",
       "      <th>1</th>\n",
       "      <td>1001</td>\n",
       "      <td>smart</td>\n",
       "      <td>422.000000</td>\n",
       "      <td>16.000000</td>\n",
       "      <td>0.0</td>\n",
       "      <td>422.0</td>\n",
       "      <td>16.0</td>\n",
       "      <td>0.0</td>\n",
       "    </tr>\n",
       "    <tr>\n",
       "      <th>2</th>\n",
       "      <td>1002</td>\n",
       "      <td>smart</td>\n",
       "      <td>216.714286</td>\n",
       "      <td>16.714286</td>\n",
       "      <td>10.0</td>\n",
       "      <td>214.0</td>\n",
       "      <td>18.0</td>\n",
       "      <td>11.0</td>\n",
       "    </tr>\n",
       "    <tr>\n",
       "      <th>3</th>\n",
       "      <td>1003</td>\n",
       "      <td>ultra</td>\n",
       "      <td>764.400000</td>\n",
       "      <td>11.800000</td>\n",
       "      <td>76.0</td>\n",
       "      <td>824.0</td>\n",
       "      <td>12.0</td>\n",
       "      <td>83.0</td>\n",
       "    </tr>\n",
       "    <tr>\n",
       "      <th>4</th>\n",
       "      <td>1004</td>\n",
       "      <td>ultra</td>\n",
       "      <td>123.375000</td>\n",
       "      <td>18.750000</td>\n",
       "      <td>149.0</td>\n",
       "      <td>132.5</td>\n",
       "      <td>18.0</td>\n",
       "      <td>154.5</td>\n",
       "    </tr>\n",
       "  </tbody>\n",
       "</table>\n",
       "</div>"
      ],
      "text/plain": [
       "  user_id tariff        mean                       median                 \n",
       "                    duration    gb_used messages duration gb_used messages\n",
       "0    1000  ultra  320.750000  13.625000     62.0    339.0    14.5     65.0\n",
       "1    1001  smart  422.000000  16.000000      0.0    422.0    16.0      0.0\n",
       "2    1002  smart  216.714286  16.714286     10.0    214.0    18.0     11.0\n",
       "3    1003  ultra  764.400000  11.800000     76.0    824.0    12.0     83.0\n",
       "4    1004  ultra  123.375000  18.750000    149.0    132.5    18.0    154.5"
      ]
     },
     "execution_count": 35,
     "metadata": {},
     "output_type": "execute_result"
    }
   ],
   "source": [
    "# Посчитаем, сколько в среднем каждому пользователю требуется минут, сообщений и мегабайт в месяц. \n",
    "# Для описания лучше использовать медиану, но можно посчитать оба показателя (медиана и средняя)\n",
    "users_monthly = user_data.pivot_table(index=['user_id', 'tariff'], values=['duration', 'messages', 'gb_used'], aggfunc=['mean', 'median'])\n",
    "users_monthly = users_monthly.reset_index()\n",
    "users_monthly.head()"
   ]
  },
  {
   "cell_type": "code",
   "execution_count": 36,
   "metadata": {},
   "outputs": [
    {
     "data": {
      "text/html": [
       "<div>\n",
       "<style scoped>\n",
       "    .dataframe tbody tr th:only-of-type {\n",
       "        vertical-align: middle;\n",
       "    }\n",
       "\n",
       "    .dataframe tbody tr th {\n",
       "        vertical-align: top;\n",
       "    }\n",
       "\n",
       "    .dataframe thead th {\n",
       "        text-align: right;\n",
       "    }\n",
       "</style>\n",
       "<table border=\"1\" class=\"dataframe\">\n",
       "  <thead>\n",
       "    <tr style=\"text-align: right;\">\n",
       "      <th></th>\n",
       "      <th>user_id</th>\n",
       "      <th>month</th>\n",
       "      <th>calls</th>\n",
       "      <th>duration</th>\n",
       "      <th>messages</th>\n",
       "      <th>mb_used</th>\n",
       "      <th>gb_used</th>\n",
       "      <th>tariff</th>\n",
       "      <th>revenue</th>\n",
       "    </tr>\n",
       "  </thead>\n",
       "  <tbody>\n",
       "    <tr>\n",
       "      <th>8</th>\n",
       "      <td>1001</td>\n",
       "      <td>11</td>\n",
       "      <td>59.0</td>\n",
       "      <td>430.0</td>\n",
       "      <td>0.0</td>\n",
       "      <td>18429.34</td>\n",
       "      <td>18.0</td>\n",
       "      <td>smart</td>\n",
       "      <td>1150.0</td>\n",
       "    </tr>\n",
       "    <tr>\n",
       "      <th>9</th>\n",
       "      <td>1001</td>\n",
       "      <td>12</td>\n",
       "      <td>63.0</td>\n",
       "      <td>414.0</td>\n",
       "      <td>0.0</td>\n",
       "      <td>14036.66</td>\n",
       "      <td>14.0</td>\n",
       "      <td>smart</td>\n",
       "      <td>550.0</td>\n",
       "    </tr>\n",
       "    <tr>\n",
       "      <th>10</th>\n",
       "      <td>1002</td>\n",
       "      <td>6</td>\n",
       "      <td>15.0</td>\n",
       "      <td>117.0</td>\n",
       "      <td>4.0</td>\n",
       "      <td>10856.82</td>\n",
       "      <td>11.0</td>\n",
       "      <td>smart</td>\n",
       "      <td>550.0</td>\n",
       "    </tr>\n",
       "    <tr>\n",
       "      <th>11</th>\n",
       "      <td>1002</td>\n",
       "      <td>7</td>\n",
       "      <td>26.0</td>\n",
       "      <td>214.0</td>\n",
       "      <td>11.0</td>\n",
       "      <td>17580.10</td>\n",
       "      <td>18.0</td>\n",
       "      <td>smart</td>\n",
       "      <td>1150.0</td>\n",
       "    </tr>\n",
       "    <tr>\n",
       "      <th>12</th>\n",
       "      <td>1002</td>\n",
       "      <td>8</td>\n",
       "      <td>42.0</td>\n",
       "      <td>289.0</td>\n",
       "      <td>13.0</td>\n",
       "      <td>20319.26</td>\n",
       "      <td>20.0</td>\n",
       "      <td>smart</td>\n",
       "      <td>1550.0</td>\n",
       "    </tr>\n",
       "  </tbody>\n",
       "</table>\n",
       "</div>"
      ],
      "text/plain": [
       "    user_id  month  calls  duration  messages   mb_used  gb_used tariff  \\\n",
       "8      1001     11   59.0     430.0       0.0  18429.34     18.0  smart   \n",
       "9      1001     12   63.0     414.0       0.0  14036.66     14.0  smart   \n",
       "10     1002      6   15.0     117.0       4.0  10856.82     11.0  smart   \n",
       "11     1002      7   26.0     214.0      11.0  17580.10     18.0  smart   \n",
       "12     1002      8   42.0     289.0      13.0  20319.26     20.0  smart   \n",
       "\n",
       "    revenue  \n",
       "8    1150.0  \n",
       "9     550.0  \n",
       "10    550.0  \n",
       "11   1150.0  \n",
       "12   1550.0  "
      ]
     },
     "execution_count": 36,
     "metadata": {},
     "output_type": "execute_result"
    }
   ],
   "source": [
    "# Выделим отдельные таблицы с пользователями разных тарифов\n",
    "smart_users = user_data.query('tariff==\"smart\"')\n",
    "smart_users.head()"
   ]
  },
  {
   "cell_type": "code",
   "execution_count": 37,
   "metadata": {},
   "outputs": [
    {
     "name": "stdout",
     "output_type": "stream",
     "text": [
      "<class 'pandas.core.frame.DataFrame'>\n",
      "Int64Index: 2229 entries, 8 to 3213\n",
      "Data columns (total 9 columns):\n",
      " #   Column    Non-Null Count  Dtype  \n",
      "---  ------    --------------  -----  \n",
      " 0   user_id   2229 non-null   int64  \n",
      " 1   month     2229 non-null   int64  \n",
      " 2   calls     2229 non-null   float64\n",
      " 3   duration  2229 non-null   float64\n",
      " 4   messages  2229 non-null   float64\n",
      " 5   mb_used   2229 non-null   float64\n",
      " 6   gb_used   2229 non-null   float64\n",
      " 7   tariff    2229 non-null   object \n",
      " 8   revenue   2229 non-null   float64\n",
      "dtypes: float64(6), int64(2), object(1)\n",
      "memory usage: 174.1+ KB\n"
     ]
    }
   ],
   "source": [
    "smart_users.info()"
   ]
  },
  {
   "cell_type": "code",
   "execution_count": 38,
   "metadata": {},
   "outputs": [
    {
     "data": {
      "text/plain": [
       "550.0     567\n",
       "950.0      87\n",
       "1150.0     80\n",
       "1350.0     78\n",
       "750.0      71\n",
       "         ... \n",
       "1073.0      1\n",
       "888.0       1\n",
       "1158.0      1\n",
       "3985.0      1\n",
       "912.0       1\n",
       "Name: revenue, Length: 767, dtype: int64"
      ]
     },
     "execution_count": 38,
     "metadata": {},
     "output_type": "execute_result"
    }
   ],
   "source": [
    "smart_users['revenue'].value_counts()"
   ]
  },
  {
   "cell_type": "code",
   "execution_count": 39,
   "metadata": {},
   "outputs": [
    {
     "data": {
      "text/html": [
       "<div>\n",
       "<style scoped>\n",
       "    .dataframe tbody tr th:only-of-type {\n",
       "        vertical-align: middle;\n",
       "    }\n",
       "\n",
       "    .dataframe tbody tr th {\n",
       "        vertical-align: top;\n",
       "    }\n",
       "\n",
       "    .dataframe thead th {\n",
       "        text-align: right;\n",
       "    }\n",
       "</style>\n",
       "<table border=\"1\" class=\"dataframe\">\n",
       "  <thead>\n",
       "    <tr style=\"text-align: right;\">\n",
       "      <th></th>\n",
       "      <th>user_id</th>\n",
       "      <th>month</th>\n",
       "      <th>calls</th>\n",
       "      <th>duration</th>\n",
       "      <th>messages</th>\n",
       "      <th>mb_used</th>\n",
       "      <th>gb_used</th>\n",
       "      <th>tariff</th>\n",
       "      <th>revenue</th>\n",
       "    </tr>\n",
       "  </thead>\n",
       "  <tbody>\n",
       "    <tr>\n",
       "      <th>0</th>\n",
       "      <td>1000</td>\n",
       "      <td>5</td>\n",
       "      <td>22.0</td>\n",
       "      <td>159.0</td>\n",
       "      <td>22.0</td>\n",
       "      <td>2253.49</td>\n",
       "      <td>3.0</td>\n",
       "      <td>ultra</td>\n",
       "      <td>1950.0</td>\n",
       "    </tr>\n",
       "    <tr>\n",
       "      <th>1</th>\n",
       "      <td>1000</td>\n",
       "      <td>6</td>\n",
       "      <td>43.0</td>\n",
       "      <td>172.0</td>\n",
       "      <td>60.0</td>\n",
       "      <td>23233.77</td>\n",
       "      <td>23.0</td>\n",
       "      <td>ultra</td>\n",
       "      <td>1950.0</td>\n",
       "    </tr>\n",
       "    <tr>\n",
       "      <th>2</th>\n",
       "      <td>1000</td>\n",
       "      <td>7</td>\n",
       "      <td>47.0</td>\n",
       "      <td>340.0</td>\n",
       "      <td>75.0</td>\n",
       "      <td>14003.64</td>\n",
       "      <td>14.0</td>\n",
       "      <td>ultra</td>\n",
       "      <td>1950.0</td>\n",
       "    </tr>\n",
       "    <tr>\n",
       "      <th>3</th>\n",
       "      <td>1000</td>\n",
       "      <td>8</td>\n",
       "      <td>52.0</td>\n",
       "      <td>408.0</td>\n",
       "      <td>81.0</td>\n",
       "      <td>14055.93</td>\n",
       "      <td>14.0</td>\n",
       "      <td>ultra</td>\n",
       "      <td>1950.0</td>\n",
       "    </tr>\n",
       "    <tr>\n",
       "      <th>4</th>\n",
       "      <td>1000</td>\n",
       "      <td>9</td>\n",
       "      <td>58.0</td>\n",
       "      <td>466.0</td>\n",
       "      <td>57.0</td>\n",
       "      <td>14568.91</td>\n",
       "      <td>15.0</td>\n",
       "      <td>ultra</td>\n",
       "      <td>1950.0</td>\n",
       "    </tr>\n",
       "  </tbody>\n",
       "</table>\n",
       "</div>"
      ],
      "text/plain": [
       "   user_id  month  calls  duration  messages   mb_used  gb_used tariff  \\\n",
       "0     1000      5   22.0     159.0      22.0   2253.49      3.0  ultra   \n",
       "1     1000      6   43.0     172.0      60.0  23233.77     23.0  ultra   \n",
       "2     1000      7   47.0     340.0      75.0  14003.64     14.0  ultra   \n",
       "3     1000      8   52.0     408.0      81.0  14055.93     14.0  ultra   \n",
       "4     1000      9   58.0     466.0      57.0  14568.91     15.0  ultra   \n",
       "\n",
       "   revenue  \n",
       "0   1950.0  \n",
       "1   1950.0  \n",
       "2   1950.0  \n",
       "3   1950.0  \n",
       "4   1950.0  "
      ]
     },
     "execution_count": 39,
     "metadata": {},
     "output_type": "execute_result"
    }
   ],
   "source": [
    "ultra_users = user_data.query('tariff==\"ultra\"')\n",
    "ultra_users.head()"
   ]
  },
  {
   "cell_type": "code",
   "execution_count": 40,
   "metadata": {},
   "outputs": [
    {
     "data": {
      "text/plain": [
       "1950.0    851\n",
       "2250.0     21\n",
       "2400.0     18\n",
       "2550.0     13\n",
       "2100.0     12\n",
       "3000.0     10\n",
       "2700.0     10\n",
       "3150.0      9\n",
       "3750.0      9\n",
       "3300.0      9\n",
       "2850.0      7\n",
       "3900.0      6\n",
       "3450.0      4\n",
       "3600.0      2\n",
       "4200.0      1\n",
       "4800.0      1\n",
       "4050.0      1\n",
       "4650.0      1\n",
       "Name: revenue, dtype: int64"
      ]
     },
     "execution_count": 40,
     "metadata": {},
     "output_type": "execute_result"
    }
   ],
   "source": [
    "ultra_users['revenue'].value_counts()"
   ]
  },
  {
   "cell_type": "code",
   "execution_count": 41,
   "metadata": {},
   "outputs": [
    {
     "data": {
      "text/html": [
       "<div>\n",
       "<style scoped>\n",
       "    .dataframe tbody tr th:only-of-type {\n",
       "        vertical-align: middle;\n",
       "    }\n",
       "\n",
       "    .dataframe tbody tr th {\n",
       "        vertical-align: top;\n",
       "    }\n",
       "\n",
       "    .dataframe thead th {\n",
       "        text-align: right;\n",
       "    }\n",
       "</style>\n",
       "<table border=\"1\" class=\"dataframe\">\n",
       "  <thead>\n",
       "    <tr style=\"text-align: right;\">\n",
       "      <th></th>\n",
       "      <th>duration</th>\n",
       "      <th>gb_used</th>\n",
       "      <th>messages</th>\n",
       "      <th>revenue</th>\n",
       "    </tr>\n",
       "    <tr>\n",
       "      <th>tariff</th>\n",
       "      <th></th>\n",
       "      <th></th>\n",
       "      <th></th>\n",
       "      <th></th>\n",
       "    </tr>\n",
       "  </thead>\n",
       "  <tbody>\n",
       "    <tr>\n",
       "      <th>smart</th>\n",
       "      <td>422.0</td>\n",
       "      <td>17.0</td>\n",
       "      <td>28.0</td>\n",
       "      <td>1023.0</td>\n",
       "    </tr>\n",
       "    <tr>\n",
       "      <th>ultra</th>\n",
       "      <td>518.0</td>\n",
       "      <td>19.0</td>\n",
       "      <td>38.0</td>\n",
       "      <td>1950.0</td>\n",
       "    </tr>\n",
       "  </tbody>\n",
       "</table>\n",
       "</div>"
      ],
      "text/plain": [
       "        duration  gb_used  messages  revenue\n",
       "tariff                                      \n",
       "smart      422.0     17.0      28.0   1023.0\n",
       "ultra      518.0     19.0      38.0   1950.0"
      ]
     },
     "execution_count": 41,
     "metadata": {},
     "output_type": "execute_result"
    }
   ],
   "source": [
    "# Посчитаем, сколько в среднем расходуют пользователи тарифов \"Смарт и \"Ультра\"  \n",
    "median = user_data.pivot_table(\n",
    "    index='tariff', values=['duration', 'messages', 'gb_used', 'revenue'], aggfunc='median')\n",
    "median"
   ]
  },
  {
   "cell_type": "markdown",
   "metadata": {},
   "source": [
    "Видно, что пользователям тарифа \"Смарт\" не хватает предоставленных 15 Гб трафика"
   ]
  },
  {
   "cell_type": "code",
   "execution_count": 42,
   "metadata": {},
   "outputs": [
    {
     "data": {
      "text/html": [
       "<div>\n",
       "<style scoped>\n",
       "    .dataframe tbody tr th:only-of-type {\n",
       "        vertical-align: middle;\n",
       "    }\n",
       "\n",
       "    .dataframe tbody tr th {\n",
       "        vertical-align: top;\n",
       "    }\n",
       "\n",
       "    .dataframe thead th {\n",
       "        text-align: right;\n",
       "    }\n",
       "</style>\n",
       "<table border=\"1\" class=\"dataframe\">\n",
       "  <thead>\n",
       "    <tr style=\"text-align: right;\">\n",
       "      <th></th>\n",
       "      <th>duration</th>\n",
       "      <th>gb_used</th>\n",
       "      <th>messages</th>\n",
       "    </tr>\n",
       "    <tr>\n",
       "      <th>tariff</th>\n",
       "      <th></th>\n",
       "      <th></th>\n",
       "      <th></th>\n",
       "    </tr>\n",
       "  </thead>\n",
       "  <tbody>\n",
       "    <tr>\n",
       "      <th>smart</th>\n",
       "      <td>36219.315784</td>\n",
       "      <td>33.028705</td>\n",
       "      <td>796.812958</td>\n",
       "    </tr>\n",
       "    <tr>\n",
       "      <th>ultra</th>\n",
       "      <td>100873.633397</td>\n",
       "      <td>97.091686</td>\n",
       "      <td>2285.266143</td>\n",
       "    </tr>\n",
       "  </tbody>\n",
       "</table>\n",
       "</div>"
      ],
      "text/plain": [
       "             duration    gb_used     messages\n",
       "tariff                                       \n",
       "smart    36219.315784  33.028705   796.812958\n",
       "ultra   100873.633397  97.091686  2285.266143"
      ]
     },
     "execution_count": 42,
     "metadata": {},
     "output_type": "execute_result"
    }
   ],
   "source": [
    "# Посчитаем статистические показатели\n",
    "variation = user_data.pivot_table(\n",
    "    index='tariff', values=['duration', 'messages', 'gb_used'], aggfunc=np.var)\n",
    "variation"
   ]
  },
  {
   "cell_type": "code",
   "execution_count": 43,
   "metadata": {},
   "outputs": [
    {
     "data": {
      "text/html": [
       "<div>\n",
       "<style scoped>\n",
       "    .dataframe tbody tr th:only-of-type {\n",
       "        vertical-align: middle;\n",
       "    }\n",
       "\n",
       "    .dataframe tbody tr th {\n",
       "        vertical-align: top;\n",
       "    }\n",
       "\n",
       "    .dataframe thead th {\n",
       "        text-align: right;\n",
       "    }\n",
       "</style>\n",
       "<table border=\"1\" class=\"dataframe\">\n",
       "  <thead>\n",
       "    <tr style=\"text-align: right;\">\n",
       "      <th></th>\n",
       "      <th>duration</th>\n",
       "      <th>gb_used</th>\n",
       "      <th>messages</th>\n",
       "    </tr>\n",
       "    <tr>\n",
       "      <th>tariff</th>\n",
       "      <th></th>\n",
       "      <th></th>\n",
       "      <th></th>\n",
       "    </tr>\n",
       "  </thead>\n",
       "  <tbody>\n",
       "    <tr>\n",
       "      <th>smart</th>\n",
       "      <td>190.313730</td>\n",
       "      <td>5.747061</td>\n",
       "      <td>28.227876</td>\n",
       "    </tr>\n",
       "    <tr>\n",
       "      <th>ultra</th>\n",
       "      <td>317.606098</td>\n",
       "      <td>9.853511</td>\n",
       "      <td>47.804457</td>\n",
       "    </tr>\n",
       "  </tbody>\n",
       "</table>\n",
       "</div>"
      ],
      "text/plain": [
       "          duration   gb_used   messages\n",
       "tariff                                 \n",
       "smart   190.313730  5.747061  28.227876\n",
       "ultra   317.606098  9.853511  47.804457"
      ]
     },
     "execution_count": 43,
     "metadata": {},
     "output_type": "execute_result"
    }
   ],
   "source": [
    "standard_deviation = user_data.pivot_table(\n",
    "    index='tariff', values=['duration', 'messages', 'gb_used'], aggfunc=np.std)\n",
    "standard_deviation"
   ]
  },
  {
   "cell_type": "code",
   "execution_count": 44,
   "metadata": {},
   "outputs": [
    {
     "data": {
      "text/html": [
       "<div>\n",
       "<style scoped>\n",
       "    .dataframe tbody tr th:only-of-type {\n",
       "        vertical-align: middle;\n",
       "    }\n",
       "\n",
       "    .dataframe tbody tr th {\n",
       "        vertical-align: top;\n",
       "    }\n",
       "\n",
       "    .dataframe thead tr th {\n",
       "        text-align: left;\n",
       "    }\n",
       "\n",
       "    .dataframe thead tr:last-of-type th {\n",
       "        text-align: right;\n",
       "    }\n",
       "</style>\n",
       "<table border=\"1\" class=\"dataframe\">\n",
       "  <thead>\n",
       "    <tr>\n",
       "      <th></th>\n",
       "      <th colspan=\"3\" halign=\"left\">mean</th>\n",
       "      <th colspan=\"3\" halign=\"left\">var</th>\n",
       "      <th colspan=\"3\" halign=\"left\">std</th>\n",
       "    </tr>\n",
       "    <tr>\n",
       "      <th></th>\n",
       "      <th>duration</th>\n",
       "      <th>gb_used</th>\n",
       "      <th>messages</th>\n",
       "      <th>duration</th>\n",
       "      <th>gb_used</th>\n",
       "      <th>messages</th>\n",
       "      <th>duration</th>\n",
       "      <th>gb_used</th>\n",
       "      <th>messages</th>\n",
       "    </tr>\n",
       "    <tr>\n",
       "      <th>tariff</th>\n",
       "      <th></th>\n",
       "      <th></th>\n",
       "      <th></th>\n",
       "      <th></th>\n",
       "      <th></th>\n",
       "      <th></th>\n",
       "      <th></th>\n",
       "      <th></th>\n",
       "      <th></th>\n",
       "    </tr>\n",
       "  </thead>\n",
       "  <tbody>\n",
       "    <tr>\n",
       "      <th>smart</th>\n",
       "      <td>417.934948</td>\n",
       "      <td>16.328847</td>\n",
       "      <td>33.384029</td>\n",
       "      <td>36219.315784</td>\n",
       "      <td>33.028705</td>\n",
       "      <td>796.812958</td>\n",
       "      <td>190.313730</td>\n",
       "      <td>5.747061</td>\n",
       "      <td>28.227876</td>\n",
       "    </tr>\n",
       "    <tr>\n",
       "      <th>ultra</th>\n",
       "      <td>526.623350</td>\n",
       "      <td>19.494416</td>\n",
       "      <td>49.363452</td>\n",
       "      <td>100873.633397</td>\n",
       "      <td>97.091686</td>\n",
       "      <td>2285.266143</td>\n",
       "      <td>317.606098</td>\n",
       "      <td>9.853511</td>\n",
       "      <td>47.804457</td>\n",
       "    </tr>\n",
       "  </tbody>\n",
       "</table>\n",
       "</div>"
      ],
      "text/plain": [
       "              mean                                  var             \\\n",
       "          duration    gb_used   messages       duration    gb_used   \n",
       "tariff                                                               \n",
       "smart   417.934948  16.328847  33.384029   36219.315784  33.028705   \n",
       "ultra   526.623350  19.494416  49.363452  100873.633397  97.091686   \n",
       "\n",
       "                            std                       \n",
       "           messages    duration   gb_used   messages  \n",
       "tariff                                                \n",
       "smart    796.812958  190.313730  5.747061  28.227876  \n",
       "ultra   2285.266143  317.606098  9.853511  47.804457  "
      ]
     },
     "execution_count": 44,
     "metadata": {},
     "output_type": "execute_result"
    }
   ],
   "source": [
    "user_stats = user_data.pivot_table(\n",
    "    index='tariff', values=['duration', 'messages', 'gb_used'], aggfunc=['mean', np.var, np.std])\n",
    "user_stats"
   ]
  },
  {
   "cell_type": "code",
   "execution_count": 45,
   "metadata": {},
   "outputs": [
    {
     "data": {
      "text/plain": [
       "<matplotlib.legend.Legend at 0x7f4de5a62ac0>"
      ]
     },
     "execution_count": 45,
     "metadata": {},
     "output_type": "execute_result"
    },
    {
     "data": {
      "image/png": "[encoded data removed]",
      "text/plain": [
       "<Figure size 504x360 with 1 Axes>"
      ]
     },
     "metadata": {
      "needs_background": "light"
     },
     "output_type": "display_data"
    }
   ],
   "source": [
    "plt.figure(figsize=(7,5))\n",
    "plt.hist(ultra_users['duration'], bins=100, alpha=0.5, label=\"Тариф Ультра\")\n",
    "plt.hist(smart_users['duration'], bins=100, alpha=0.5, label=\"Тариф Смарт\")\n",
    "plt.ylim(0, 80)\n",
    "plt.xlim(1, 2000) \n",
    "plt.xlabel(\"Длительность звонков\", size=10)\n",
    "plt.ylabel(\"Количество звонков\", size=10)\n",
    "plt.title(\"Сравнение длительности звонков\")\n",
    "plt.legend(loc='upper right')"
   ]
  },
  {
   "cell_type": "code",
   "execution_count": 46,
   "metadata": {},
   "outputs": [
    {
     "data": {
      "text/plain": [
       "<matplotlib.legend.Legend at 0x7f4de59cf460>"
      ]
     },
     "execution_count": 46,
     "metadata": {},
     "output_type": "execute_result"
    },
    {
     "data": {
      "image/png": "[encoded data removed]",
      "text/plain": [
       "<Figure size 504x360 with 1 Axes>"
      ]
     },
     "metadata": {
      "needs_background": "light"
     },
     "output_type": "display_data"
    }
   ],
   "source": [
    "plt.figure(figsize=(7,5))\n",
    "plt.hist(ultra_users['messages'], bins=100, alpha=0.5, label=\"Тариф Ультра\")\n",
    "plt.hist(smart_users['messages'], bins=100, alpha=0.5, label=\"Тариф Смарт\")\n",
    "plt.ylim(0, 80)\n",
    "plt.xlim(1, 250) \n",
    "plt.xlabel(\"Количество сообщений\", size=10)\n",
    "plt.ylabel(\"Количество пользователей\", size=10)\n",
    "plt.title(\"Сравнение отправленных сообщений\")\n",
    "plt.legend(loc='upper right')"
   ]
  },
  {
   "cell_type": "code",
   "execution_count": 47,
   "metadata": {},
   "outputs": [
    {
     "data": {
      "text/plain": [
       "<matplotlib.legend.Legend at 0x7f4de4d3dd90>"
      ]
     },
     "execution_count": 47,
     "metadata": {},
     "output_type": "execute_result"
    },
    {
     "data": {
      "image/png": "[encoded data removed]",
      "text/plain": [
       "<Figure size 504x360 with 1 Axes>"
      ]
     },
     "metadata": {
      "needs_background": "light"
     },
     "output_type": "display_data"
    }
   ],
   "source": [
    "plt.figure(figsize=(7,5))\n",
    "plt.hist(ultra_users['gb_used'], bins=100, alpha=0.5, label=\"Тариф Ультра\")\n",
    "plt.hist(smart_users['gb_used'], bins=100, alpha=0.5, label=\"Тариф Смарт\")\n",
    "plt.ylim(0, 200)\n",
    "plt.xlim(1, 60) \n",
    "plt.xlabel(\"Количество гигабайт\", size=10)\n",
    "plt.ylabel(\"Количество пользователей\", size=10)\n",
    "plt.title(\"Сравнение отправленных сообщений\")\n",
    "plt.legend(loc='upper right')"
   ]
  },
  {
   "cell_type": "markdown",
   "metadata": {},
   "source": [
    "  Гистограммы по длительности звонков и интернет-трафику показывают нормальное распределение, по количеству использованных сообщений можем наблюдать распределение Пирсона. Выделяются нулевые выбросы в длительности - показывают пропущенные звонки, и в сообщениях. Они не влияют на распределение.\n",
    "    \n",
    "  Что касается статистических показателей, то если средние значения пользователей тарифов \"Смарт\" и \"Ультра\" нет так сильно различаются, то по таким показателям как стандартное отклонение и дисперсия разница существенная по все категориям (длительность звонков, сообщения, интернет). Это можно объяснить тем, что пользователи более дорогого тарифа \"Ультра\", имея бОльшие лимиты по услугам, чувствуют себя свободней в использовании той или иной услуги, и их поведение гораздо разнообразней. В тоже время, пользователям тарифа \"Смарт\" явно не хватает предоставленных в рамках пакета минут и интернета. "
   ]
  },
  {
   "cell_type": "code",
   "execution_count": 48,
   "metadata": {},
   "outputs": [
    {
     "data": {
      "text/html": [
       "<div>\n",
       "<style scoped>\n",
       "    .dataframe tbody tr th:only-of-type {\n",
       "        vertical-align: middle;\n",
       "    }\n",
       "\n",
       "    .dataframe tbody tr th {\n",
       "        vertical-align: top;\n",
       "    }\n",
       "\n",
       "    .dataframe thead tr th {\n",
       "        text-align: left;\n",
       "    }\n",
       "\n",
       "    .dataframe thead tr:last-of-type th {\n",
       "        text-align: right;\n",
       "    }\n",
       "</style>\n",
       "<table border=\"1\" class=\"dataframe\">\n",
       "  <thead>\n",
       "    <tr>\n",
       "      <th></th>\n",
       "      <th>mean</th>\n",
       "      <th>median</th>\n",
       "      <th>var</th>\n",
       "      <th>std</th>\n",
       "    </tr>\n",
       "    <tr>\n",
       "      <th></th>\n",
       "      <th>revenue</th>\n",
       "      <th>revenue</th>\n",
       "      <th>revenue</th>\n",
       "      <th>revenue</th>\n",
       "    </tr>\n",
       "    <tr>\n",
       "      <th>tariff</th>\n",
       "      <th></th>\n",
       "      <th></th>\n",
       "      <th></th>\n",
       "      <th></th>\n",
       "    </tr>\n",
       "  </thead>\n",
       "  <tbody>\n",
       "    <tr>\n",
       "      <th>smart</th>\n",
       "      <td>1289.973531</td>\n",
       "      <td>1023.0</td>\n",
       "      <td>669785.708006</td>\n",
       "      <td>818.404367</td>\n",
       "    </tr>\n",
       "    <tr>\n",
       "      <th>ultra</th>\n",
       "      <td>2070.152284</td>\n",
       "      <td>1950.0</td>\n",
       "      <td>141516.745079</td>\n",
       "      <td>376.187114</td>\n",
       "    </tr>\n",
       "  </tbody>\n",
       "</table>\n",
       "</div>"
      ],
      "text/plain": [
       "               mean  median            var         std\n",
       "            revenue revenue        revenue     revenue\n",
       "tariff                                                \n",
       "smart   1289.973531  1023.0  669785.708006  818.404367\n",
       "ultra   2070.152284  1950.0  141516.745079  376.187114"
      ]
     },
     "execution_count": 48,
     "metadata": {},
     "output_type": "execute_result"
    }
   ],
   "source": [
    "# Посчитаем статистические показатели для выручки\n",
    "revenue_stats = user_data.pivot_table(\n",
    "    index='tariff', values=['revenue'], aggfunc=['mean', 'median', np.var, np.std])\n",
    "revenue_stats"
   ]
  },
  {
   "cell_type": "code",
   "execution_count": 49,
   "metadata": {},
   "outputs": [
    {
     "data": {
      "text/html": [
       "<div>\n",
       "<style scoped>\n",
       "    .dataframe tbody tr th:only-of-type {\n",
       "        vertical-align: middle;\n",
       "    }\n",
       "\n",
       "    .dataframe tbody tr th {\n",
       "        vertical-align: top;\n",
       "    }\n",
       "\n",
       "    .dataframe thead th {\n",
       "        text-align: right;\n",
       "    }\n",
       "</style>\n",
       "<table border=\"1\" class=\"dataframe\">\n",
       "  <thead>\n",
       "    <tr style=\"text-align: right;\">\n",
       "      <th></th>\n",
       "      <th>tariff</th>\n",
       "      <th>month</th>\n",
       "      <th>revenue</th>\n",
       "      <th>active_users</th>\n",
       "    </tr>\n",
       "  </thead>\n",
       "  <tbody>\n",
       "    <tr>\n",
       "      <th>0</th>\n",
       "      <td>smart</td>\n",
       "      <td>1</td>\n",
       "      <td>24525.0</td>\n",
       "      <td>34</td>\n",
       "    </tr>\n",
       "    <tr>\n",
       "      <th>1</th>\n",
       "      <td>smart</td>\n",
       "      <td>2</td>\n",
       "      <td>48001.0</td>\n",
       "      <td>58</td>\n",
       "    </tr>\n",
       "    <tr>\n",
       "      <th>2</th>\n",
       "      <td>smart</td>\n",
       "      <td>3</td>\n",
       "      <td>89676.0</td>\n",
       "      <td>77</td>\n",
       "    </tr>\n",
       "    <tr>\n",
       "      <th>3</th>\n",
       "      <td>smart</td>\n",
       "      <td>4</td>\n",
       "      <td>107866.0</td>\n",
       "      <td>112</td>\n",
       "    </tr>\n",
       "    <tr>\n",
       "      <th>4</th>\n",
       "      <td>smart</td>\n",
       "      <td>5</td>\n",
       "      <td>168849.0</td>\n",
       "      <td>141</td>\n",
       "    </tr>\n",
       "    <tr>\n",
       "      <th>5</th>\n",
       "      <td>smart</td>\n",
       "      <td>6</td>\n",
       "      <td>197459.0</td>\n",
       "      <td>164</td>\n",
       "    </tr>\n",
       "    <tr>\n",
       "      <th>6</th>\n",
       "      <td>smart</td>\n",
       "      <td>7</td>\n",
       "      <td>246014.0</td>\n",
       "      <td>201</td>\n",
       "    </tr>\n",
       "    <tr>\n",
       "      <th>7</th>\n",
       "      <td>smart</td>\n",
       "      <td>8</td>\n",
       "      <td>310340.0</td>\n",
       "      <td>235</td>\n",
       "    </tr>\n",
       "    <tr>\n",
       "      <th>8</th>\n",
       "      <td>smart</td>\n",
       "      <td>9</td>\n",
       "      <td>324986.0</td>\n",
       "      <td>260</td>\n",
       "    </tr>\n",
       "    <tr>\n",
       "      <th>9</th>\n",
       "      <td>smart</td>\n",
       "      <td>10</td>\n",
       "      <td>401267.0</td>\n",
       "      <td>294</td>\n",
       "    </tr>\n",
       "    <tr>\n",
       "      <th>10</th>\n",
       "      <td>smart</td>\n",
       "      <td>11</td>\n",
       "      <td>424403.0</td>\n",
       "      <td>316</td>\n",
       "    </tr>\n",
       "    <tr>\n",
       "      <th>11</th>\n",
       "      <td>smart</td>\n",
       "      <td>12</td>\n",
       "      <td>531965.0</td>\n",
       "      <td>337</td>\n",
       "    </tr>\n",
       "    <tr>\n",
       "      <th>12</th>\n",
       "      <td>ultra</td>\n",
       "      <td>1</td>\n",
       "      <td>17550.0</td>\n",
       "      <td>9</td>\n",
       "    </tr>\n",
       "    <tr>\n",
       "      <th>13</th>\n",
       "      <td>ultra</td>\n",
       "      <td>2</td>\n",
       "      <td>47400.0</td>\n",
       "      <td>24</td>\n",
       "    </tr>\n",
       "    <tr>\n",
       "      <th>14</th>\n",
       "      <td>ultra</td>\n",
       "      <td>3</td>\n",
       "      <td>74550.0</td>\n",
       "      <td>37</td>\n",
       "    </tr>\n",
       "    <tr>\n",
       "      <th>15</th>\n",
       "      <td>ultra</td>\n",
       "      <td>4</td>\n",
       "      <td>110100.0</td>\n",
       "      <td>55</td>\n",
       "    </tr>\n",
       "    <tr>\n",
       "      <th>16</th>\n",
       "      <td>ultra</td>\n",
       "      <td>5</td>\n",
       "      <td>138000.0</td>\n",
       "      <td>67</td>\n",
       "    </tr>\n",
       "    <tr>\n",
       "      <th>17</th>\n",
       "      <td>ultra</td>\n",
       "      <td>6</td>\n",
       "      <td>171300.0</td>\n",
       "      <td>84</td>\n",
       "    </tr>\n",
       "    <tr>\n",
       "      <th>18</th>\n",
       "      <td>ultra</td>\n",
       "      <td>7</td>\n",
       "      <td>192750.0</td>\n",
       "      <td>91</td>\n",
       "    </tr>\n",
       "    <tr>\n",
       "      <th>19</th>\n",
       "      <td>ultra</td>\n",
       "      <td>8</td>\n",
       "      <td>222900.0</td>\n",
       "      <td>107</td>\n",
       "    </tr>\n",
       "    <tr>\n",
       "      <th>20</th>\n",
       "      <td>ultra</td>\n",
       "      <td>9</td>\n",
       "      <td>232800.0</td>\n",
       "      <td>115</td>\n",
       "    </tr>\n",
       "    <tr>\n",
       "      <th>21</th>\n",
       "      <td>ultra</td>\n",
       "      <td>10</td>\n",
       "      <td>254100.0</td>\n",
       "      <td>123</td>\n",
       "    </tr>\n",
       "    <tr>\n",
       "      <th>22</th>\n",
       "      <td>ultra</td>\n",
       "      <td>11</td>\n",
       "      <td>280350.0</td>\n",
       "      <td>134</td>\n",
       "    </tr>\n",
       "    <tr>\n",
       "      <th>23</th>\n",
       "      <td>ultra</td>\n",
       "      <td>12</td>\n",
       "      <td>297300.0</td>\n",
       "      <td>139</td>\n",
       "    </tr>\n",
       "  </tbody>\n",
       "</table>\n",
       "</div>"
      ],
      "text/plain": [
       "   tariff  month   revenue  active_users\n",
       "0   smart      1   24525.0            34\n",
       "1   smart      2   48001.0            58\n",
       "2   smart      3   89676.0            77\n",
       "3   smart      4  107866.0           112\n",
       "4   smart      5  168849.0           141\n",
       "5   smart      6  197459.0           164\n",
       "6   smart      7  246014.0           201\n",
       "7   smart      8  310340.0           235\n",
       "8   smart      9  324986.0           260\n",
       "9   smart     10  401267.0           294\n",
       "10  smart     11  424403.0           316\n",
       "11  smart     12  531965.0           337\n",
       "12  ultra      1   17550.0             9\n",
       "13  ultra      2   47400.0            24\n",
       "14  ultra      3   74550.0            37\n",
       "15  ultra      4  110100.0            55\n",
       "16  ultra      5  138000.0            67\n",
       "17  ultra      6  171300.0            84\n",
       "18  ultra      7  192750.0            91\n",
       "19  ultra      8  222900.0           107\n",
       "20  ultra      9  232800.0           115\n",
       "21  ultra     10  254100.0           123\n",
       "22  ultra     11  280350.0           134\n",
       "23  ultra     12  297300.0           139"
      ]
     },
     "execution_count": 49,
     "metadata": {},
     "output_type": "execute_result"
    }
   ],
   "source": [
    "# Ежемесячная выручка и количество пользователей по тарифам\n",
    "monthly_users_revenue = user_data.pivot_table(\n",
    "    index=['tariff', 'month'], values=['user_id', 'revenue'], aggfunc={'user_id':'count', 'revenue':'sum'}\n",
    ").reset_index()\n",
    "monthly_users_revenue.rename(columns={'user_id':'active_users'}, inplace=True)\n",
    "monthly_users_revenue"
   ]
  },
  {
   "cell_type": "code",
   "execution_count": 50,
   "metadata": {},
   "outputs": [
    {
     "data": {
      "text/plain": [
       "<matplotlib.legend.Legend at 0x7f4de49e5520>"
      ]
     },
     "execution_count": 50,
     "metadata": {},
     "output_type": "execute_result"
    },
    {
     "data": {
      "image/png": "[encoded data removed]",
      "text/plain": [
       "<Figure size 720x360 with 1 Axes>"
      ]
     },
     "metadata": {
      "needs_background": "light"
     },
     "output_type": "display_data"
    }
   ],
   "source": [
    "plt.figure(figsize=(10,5))\n",
    "x1 = monthly_users_revenue[monthly_users_revenue['tariff']=='smart']['month']\n",
    "y1 = monthly_users_revenue[monthly_users_revenue['tariff']=='smart']['revenue']\n",
    "x2 = monthly_users_revenue[monthly_users_revenue['tariff']=='ultra']['month']\n",
    "y2 = monthly_users_revenue[monthly_users_revenue['tariff']=='ultra']['revenue']\n",
    "plt.plot(x1, y1, label=\"Тариф Смарт\")\n",
    "plt.plot(x2, y2, label=\"Тариф Ультра\")\n",
    "plt.xlabel(\"Месяц\", size=10)\n",
    "plt.ylabel(\"Выручка\", size=10)\n",
    "plt.title(\"Динамика ежемесячной выручки по тарифам\")\n",
    "plt.legend(loc='upper right')"
   ]
  },
  {
   "cell_type": "code",
   "execution_count": 51,
   "metadata": {},
   "outputs": [
    {
     "data": {
      "text/plain": [
       "<matplotlib.legend.Legend at 0x7f4de4a25610>"
      ]
     },
     "execution_count": 51,
     "metadata": {},
     "output_type": "execute_result"
    },
    {
     "data": {
      "image/png": "[encoded data removed]",
      "text/plain": [
       "<Figure size 720x360 with 1 Axes>"
      ]
     },
     "metadata": {
      "needs_background": "light"
     },
     "output_type": "display_data"
    }
   ],
   "source": [
    "plt.figure(figsize=(10,5))\n",
    "x1 = monthly_users_revenue[monthly_users_revenue['tariff']=='smart']['month']\n",
    "y1 = monthly_users_revenue[monthly_users_revenue['tariff']=='smart']['active_users']\n",
    "x2 = monthly_users_revenue[monthly_users_revenue['tariff']=='ultra']['month']\n",
    "y2 = monthly_users_revenue[monthly_users_revenue['tariff']=='ultra']['active_users']\n",
    "plt.plot(x1, y1, label=\"Тариф Смарт\")\n",
    "plt.plot(x2, y2, label=\"Тариф Ультра\")\n",
    "plt.xlabel(\"Месяц\", size=10)\n",
    "plt.ylabel(\"Количество пользователей\", size=10)\n",
    "plt.title(\"Количество активных пользователей по месяцам\")\n",
    "plt.legend(loc='upper right')"
   ]
  },
  {
   "cell_type": "code",
   "execution_count": 52,
   "metadata": {},
   "outputs": [
    {
     "data": {
      "text/plain": [
       "<AxesSubplot:>"
      ]
     },
     "execution_count": 52,
     "metadata": {},
     "output_type": "execute_result"
    },
    {
     "data": {
      "image/png": "[encoded data removed]",
      "text/plain": [
       "<Figure size 432x288 with 1 Axes>"
      ]
     },
     "metadata": {
      "needs_background": "light"
     },
     "output_type": "display_data"
    }
   ],
   "source": [
    "ultra_users['revenue'].hist()"
   ]
  },
  {
   "cell_type": "code",
   "execution_count": 53,
   "metadata": {},
   "outputs": [
    {
     "data": {
      "text/plain": [
       "<AxesSubplot:>"
      ]
     },
     "execution_count": 53,
     "metadata": {},
     "output_type": "execute_result"
    },
    {
     "data": {
      "image/png": "[encoded data removed]",
      "text/plain": [
       "<Figure size 432x288 with 1 Axes>"
      ]
     },
     "metadata": {
      "needs_background": "light"
     },
     "output_type": "display_data"
    }
   ],
   "source": [
    "smart_users['revenue'].hist()"
   ]
  },
  {
   "cell_type": "markdown",
   "metadata": {},
   "source": [
    "Анализ выручки по тарифам показал более спокойное и пресдказуемое \"поведение\" пользователей дорогого тарифа \"Ультра\" - основная часть выручки приходится на стандартную стоимость тарифа (1950 руб). Пользователи тарифа \"Смарт\" платят больше стоимости тарифа - практически в два раза. При этом стоит отметить что пользователи не отказываются от дешевого тарифа в пользу дорогого. Мы не видим тенденции снижения роста количества пользователей по обоим тарифам, но рост пользователей тарифа Смарт в течение года больше, чем рост пользователей Ультра."
   ]
  },
  {
   "cell_type": "markdown",
   "metadata": {},
   "source": [
    "## Проверьте гипотезы\n",
    "- средняя выручка пользователей тарифов «Ультра» и «Смарт» различаются;\n",
    "- средняя выручка пользователей из Москвы отличается от выручки пользователей из других регионов."
   ]
  },
  {
   "cell_type": "markdown",
   "metadata": {},
   "source": [
    "Сформулируем гипотезы следующим образом:\n",
    "            \n",
    "- Н0: Средняя выручка пользователей тарифа \"Смарт\" равна средней выручке пользователей тарифа \"Ультра\"\n",
    "- Н1: Средняя выручка пользователей тарифа \"Смарт\" и тарифа \"Ультра\" различаются\n",
    "    \n",
    "    \n",
    "- Н0: Средняя выручка пользователей из Москвы равна выручке пользователей из других регионов\n",
    "- Н1: средняя выручка пользователей из Москвы отличается от выручки пользователей из других регионов\n",
    "\n",
    "В данном случае используем метод для проверки гипотезы о равенстве среднего двух генеральных совокупностей: scipy.stats.ttest_ind() "
   ]
  },
  {
   "cell_type": "code",
   "execution_count": 54,
   "metadata": {},
   "outputs": [
    {
     "data": {
      "text/html": [
       "<div>\n",
       "<style scoped>\n",
       "    .dataframe tbody tr th:only-of-type {\n",
       "        vertical-align: middle;\n",
       "    }\n",
       "\n",
       "    .dataframe tbody tr th {\n",
       "        vertical-align: top;\n",
       "    }\n",
       "\n",
       "    .dataframe thead th {\n",
       "        text-align: right;\n",
       "    }\n",
       "</style>\n",
       "<table border=\"1\" class=\"dataframe\">\n",
       "  <thead>\n",
       "    <tr style=\"text-align: right;\">\n",
       "      <th></th>\n",
       "      <th>user_id</th>\n",
       "      <th>month</th>\n",
       "      <th>calls</th>\n",
       "      <th>duration</th>\n",
       "      <th>messages</th>\n",
       "      <th>mb_used</th>\n",
       "      <th>gb_used</th>\n",
       "      <th>tariff</th>\n",
       "      <th>revenue</th>\n",
       "      <th>city</th>\n",
       "    </tr>\n",
       "  </thead>\n",
       "  <tbody>\n",
       "    <tr>\n",
       "      <th>0</th>\n",
       "      <td>1000</td>\n",
       "      <td>5</td>\n",
       "      <td>22.0</td>\n",
       "      <td>159.0</td>\n",
       "      <td>22.0</td>\n",
       "      <td>2253.49</td>\n",
       "      <td>3.0</td>\n",
       "      <td>ultra</td>\n",
       "      <td>1950.0</td>\n",
       "      <td>Краснодар</td>\n",
       "    </tr>\n",
       "    <tr>\n",
       "      <th>1</th>\n",
       "      <td>1000</td>\n",
       "      <td>6</td>\n",
       "      <td>43.0</td>\n",
       "      <td>172.0</td>\n",
       "      <td>60.0</td>\n",
       "      <td>23233.77</td>\n",
       "      <td>23.0</td>\n",
       "      <td>ultra</td>\n",
       "      <td>1950.0</td>\n",
       "      <td>Краснодар</td>\n",
       "    </tr>\n",
       "    <tr>\n",
       "      <th>2</th>\n",
       "      <td>1000</td>\n",
       "      <td>7</td>\n",
       "      <td>47.0</td>\n",
       "      <td>340.0</td>\n",
       "      <td>75.0</td>\n",
       "      <td>14003.64</td>\n",
       "      <td>14.0</td>\n",
       "      <td>ultra</td>\n",
       "      <td>1950.0</td>\n",
       "      <td>Краснодар</td>\n",
       "    </tr>\n",
       "    <tr>\n",
       "      <th>3</th>\n",
       "      <td>1000</td>\n",
       "      <td>8</td>\n",
       "      <td>52.0</td>\n",
       "      <td>408.0</td>\n",
       "      <td>81.0</td>\n",
       "      <td>14055.93</td>\n",
       "      <td>14.0</td>\n",
       "      <td>ultra</td>\n",
       "      <td>1950.0</td>\n",
       "      <td>Краснодар</td>\n",
       "    </tr>\n",
       "    <tr>\n",
       "      <th>4</th>\n",
       "      <td>1000</td>\n",
       "      <td>9</td>\n",
       "      <td>58.0</td>\n",
       "      <td>466.0</td>\n",
       "      <td>57.0</td>\n",
       "      <td>14568.91</td>\n",
       "      <td>15.0</td>\n",
       "      <td>ultra</td>\n",
       "      <td>1950.0</td>\n",
       "      <td>Краснодар</td>\n",
       "    </tr>\n",
       "  </tbody>\n",
       "</table>\n",
       "</div>"
      ],
      "text/plain": [
       "   user_id  month  calls  duration  messages   mb_used  gb_used tariff  \\\n",
       "0     1000      5   22.0     159.0      22.0   2253.49      3.0  ultra   \n",
       "1     1000      6   43.0     172.0      60.0  23233.77     23.0  ultra   \n",
       "2     1000      7   47.0     340.0      75.0  14003.64     14.0  ultra   \n",
       "3     1000      8   52.0     408.0      81.0  14055.93     14.0  ultra   \n",
       "4     1000      9   58.0     466.0      57.0  14568.91     15.0  ultra   \n",
       "\n",
       "   revenue       city  \n",
       "0   1950.0  Краснодар  \n",
       "1   1950.0  Краснодар  \n",
       "2   1950.0  Краснодар  \n",
       "3   1950.0  Краснодар  \n",
       "4   1950.0  Краснодар  "
      ]
     },
     "execution_count": 54,
     "metadata": {},
     "output_type": "execute_result"
    }
   ],
   "source": [
    "# Для удобства добавим столбец \"Город\" в таблицу\n",
    "city = pd.DataFrame()\n",
    "city = users[['user_id', 'city']]\n",
    "user_data = user_data.merge(city)\n",
    "user_data.head()"
   ]
  },
  {
   "cell_type": "code",
   "execution_count": 55,
   "metadata": {},
   "outputs": [
    {
     "name": "stdout",
     "output_type": "stream",
     "text": [
      "p-значение: 4.2606313931076085e-250\n",
      "Отвергаем нулевую гипотезу\n"
     ]
    }
   ],
   "source": [
    "# Н0: Средняя выручка пользователей тарифа \"Смарт\" равна средней выручке пользователей тарифа \"Ультра\"\n",
    "# Н1: Средняя выручка пользователей тарифа \"Смарт\" и тарифа \"Ультра\" различаются\n",
    "\n",
    "smart = smart_users['revenue']\n",
    "ultra = ultra_users['revenue']\n",
    "\n",
    "alpha = .05 # критический уровень статистической значимости\n",
    "# если p-value окажется меньше него - отвегнем гипотезу\n",
    "\n",
    "results = st.ttest_ind(smart, ultra, equal_var = False)\n",
    "\n",
    "print('p-значение:', results.pvalue)\n",
    "\n",
    "if results.pvalue < alpha:\n",
    "    print(\"Отвергаем нулевую гипотезу\")\n",
    "else:\n",
    "    print(\"Не получилось отвергнуть нулевую гипотезу\") "
   ]
  },
  {
   "cell_type": "code",
   "execution_count": 56,
   "metadata": {},
   "outputs": [
    {
     "data": {
      "text/html": [
       "<div>\n",
       "<style scoped>\n",
       "    .dataframe tbody tr th:only-of-type {\n",
       "        vertical-align: middle;\n",
       "    }\n",
       "\n",
       "    .dataframe tbody tr th {\n",
       "        vertical-align: top;\n",
       "    }\n",
       "\n",
       "    .dataframe thead tr th {\n",
       "        text-align: left;\n",
       "    }\n",
       "\n",
       "    .dataframe thead tr:last-of-type th {\n",
       "        text-align: right;\n",
       "    }\n",
       "</style>\n",
       "<table border=\"1\" class=\"dataframe\">\n",
       "  <thead>\n",
       "    <tr>\n",
       "      <th></th>\n",
       "      <th>mean</th>\n",
       "      <th>median</th>\n",
       "    </tr>\n",
       "    <tr>\n",
       "      <th></th>\n",
       "      <th>revenue</th>\n",
       "      <th>revenue</th>\n",
       "    </tr>\n",
       "    <tr>\n",
       "      <th>tariff</th>\n",
       "      <th></th>\n",
       "      <th></th>\n",
       "    </tr>\n",
       "  </thead>\n",
       "  <tbody>\n",
       "    <tr>\n",
       "      <th>smart</th>\n",
       "      <td>1289.973531</td>\n",
       "      <td>1023.0</td>\n",
       "    </tr>\n",
       "    <tr>\n",
       "      <th>ultra</th>\n",
       "      <td>2070.152284</td>\n",
       "      <td>1950.0</td>\n",
       "    </tr>\n",
       "  </tbody>\n",
       "</table>\n",
       "</div>"
      ],
      "text/plain": [
       "               mean  median\n",
       "            revenue revenue\n",
       "tariff                     \n",
       "smart   1289.973531  1023.0\n",
       "ultra   2070.152284  1950.0"
      ]
     },
     "execution_count": 56,
     "metadata": {},
     "output_type": "execute_result"
    }
   ],
   "source": [
    "tariff_revenue = user_data.pivot_table(index='tariff', values='revenue', aggfunc=['mean', 'median'])\n",
    "tariff_revenue"
   ]
  },
  {
   "cell_type": "markdown",
   "metadata": {},
   "source": [
    "Гипотеза о том, что средняя выручка пользователей тарифа \"Смарт\" равна средней выручке пользователей тарифа \"Ультра\", не подтвердилась. Средние значения выручки по тарифам различаются почти в 2 раза. Пользователи тарифа \"Смарт\" с абонентской платой в 550 рублей платят гораздо больше из-за нехватки услуг в рамках тарифного пакета. "
   ]
  },
  {
   "cell_type": "code",
   "execution_count": 57,
   "metadata": {},
   "outputs": [
    {
     "name": "stdout",
     "output_type": "stream",
     "text": [
      "p-значение: 0.5257376663729298\n",
      "Не получилось отвергнуть нулевую гипотезу\n"
     ]
    }
   ],
   "source": [
    "# Н0: Средняя выручка пользователей из Москвы равна выручке пользователей из других регионов\n",
    "# Н1: средняя выручка пользователей из Москвы отличается от выручки пользователей из других регионов\n",
    "\n",
    "moscow = user_data.query('city==\"Москва\"')['revenue']\n",
    "regions = user_data.query('city!=\"Москва\"')['revenue']\n",
    "\n",
    "alpha = .05 # критический уровень статистической значимости\n",
    "# если p-value окажется меньше него - отвегнем гипотезу\n",
    "\n",
    "results = st.ttest_ind(moscow, regions, equal_var = False)\n",
    "\n",
    "print('p-значение:', results.pvalue)\n",
    "\n",
    "if results.pvalue < alpha:\n",
    "    print(\"Отвергаем нулевую гипотезу\")\n",
    "else:\n",
    "    print(\"Не получилось отвергнуть нулевую гипотезу\") "
   ]
  },
  {
   "cell_type": "code",
   "execution_count": 58,
   "metadata": {},
   "outputs": [
    {
     "data": {
      "text/html": [
       "<div>\n",
       "<style scoped>\n",
       "    .dataframe tbody tr th:only-of-type {\n",
       "        vertical-align: middle;\n",
       "    }\n",
       "\n",
       "    .dataframe tbody tr th {\n",
       "        vertical-align: top;\n",
       "    }\n",
       "\n",
       "    .dataframe thead th {\n",
       "        text-align: right;\n",
       "    }\n",
       "</style>\n",
       "<table border=\"1\" class=\"dataframe\">\n",
       "  <thead>\n",
       "    <tr style=\"text-align: right;\">\n",
       "      <th></th>\n",
       "      <th>revenue</th>\n",
       "    </tr>\n",
       "    <tr>\n",
       "      <th>region</th>\n",
       "      <th></th>\n",
       "    </tr>\n",
       "  </thead>\n",
       "  <tbody>\n",
       "    <tr>\n",
       "      <th>Другой регион</th>\n",
       "      <td>1583.0</td>\n",
       "    </tr>\n",
       "    <tr>\n",
       "      <th>Москва</th>\n",
       "      <td>1750.0</td>\n",
       "    </tr>\n",
       "  </tbody>\n",
       "</table>\n",
       "</div>"
      ],
      "text/plain": [
       "               revenue\n",
       "region                \n",
       "Другой регион   1583.0\n",
       "Москва          1750.0"
      ]
     },
     "execution_count": 58,
     "metadata": {},
     "output_type": "execute_result"
    }
   ],
   "source": [
    "def region(city):\n",
    "    if city == 'Москва': \n",
    "        return 'Москва'\n",
    "    else: \n",
    "        return 'Другой регион'\n",
    "    \n",
    "user_data['region'] = user_data['city'].apply(region)\n",
    "user_data.pivot_table(index='region', values='revenue', aggfunc='median')"
   ]
  },
  {
   "cell_type": "markdown",
   "metadata": {},
   "source": [
    "На основе полученных данных мы не можем опровергнуть гипотезу, что средняя выручка пользователей из Москвы равна выручке пользователей из других регионов. "
   ]
  },
  {
   "cell_type": "markdown",
   "metadata": {},
   "source": [
    "## Напишите общий вывод"
   ]
  },
  {
   "cell_type": "markdown",
   "metadata": {},
   "source": [
    "Анализ показал, что пользователям тарифа \"Смарт\" не хватает включенных в тариф лимитов на услуги, особенно предоставляемых 15Гб интернета: в среднем тратят 17Гб, в то время как пользователи тарифа \"Ультра\" не испытывают недостатка предоставляемых в рамках тарифа услуг. Более того, по средним показателям видно, что они расходуют гораздо меньше пакета (518 минут из 1000, 19Гб из 30), компании \"Мегалайн\" можно задуматься об урезании лимитов на услуги. Незначительное использование предоставляемых сообщений (СМС) в обоих тарифах говорит о снижении популярности данной услуги в целом. \n",
    "  \n",
    "В среднем пользователи дешевого тарифа \" переплачивают в 2 раза больше абонентской платы (1023 руб. против 550 руб.). Учитывая перерасход интернета в среднем на 2Гб при стоимости 200 руб за каждый гигабайт сверх пакета, получаем дополнительные 400 руб в месяц. Средняя выручка с каждого пользователя \"Ультра\" составляет 1950 рублей - это абонентская плата за тариф. \n",
    " \n",
    "Нельзя утверждать, что а) выручка от пользователей данных тарифов одинаковая (средние значения 1023 и 1950 отличаются почти в два раза) и б) выручка от московских пользователей отличается от пользователей в других регионах (1750 в Москве и 1583 для других регионов - незначительная разница).\n",
    "\n",
    "С точки зрения экономической эффективности, то за исследуемый период оба тарифа показали устойчивый рост количества новых пользователей, причем люди гораздо охотнее подключаются к дешевому тарифу. Анализ показывает, что несмотря на то что им не хватает включенных в пакет услуг и приходится переплачивать, пользователи при этом все равно платят меньше фиксированной платы дорогого тарифа Ультра (1023 против 1950 руб.). Соответственно, дешевый тариф более экономически эффективен для компании. \n",
    "    \n"
   ]
  }
 ],
 "metadata": {
  "ExecuteTimeLog": [
   {
    "duration": 1796,
    "start_time": "2022-04-14T19:51:04.957Z"
   },
   {
    "duration": 138,
    "start_time": "2022-04-14T19:52:19.664Z"
   },
   {
    "duration": 4,
    "start_time": "2022-04-14T19:52:33.152Z"
   },
   {
    "duration": 509,
    "start_time": "2022-04-14T20:11:11.841Z"
   },
   {
    "duration": 23,
    "start_time": "2022-04-14T20:11:19.166Z"
   },
   {
    "duration": 11,
    "start_time": "2022-04-14T20:11:37.578Z"
   },
   {
    "duration": 36,
    "start_time": "2022-04-14T20:11:47.143Z"
   },
   {
    "duration": 51,
    "start_time": "2022-04-14T20:11:58.979Z"
   },
   {
    "duration": 26,
    "start_time": "2022-04-14T20:12:29.143Z"
   },
   {
    "duration": 13,
    "start_time": "2022-04-14T20:20:18.611Z"
   },
   {
    "duration": 14,
    "start_time": "2022-04-14T20:32:46.342Z"
   },
   {
    "duration": 75,
    "start_time": "2022-04-14T20:37:53.998Z"
   },
   {
    "duration": 1695,
    "start_time": "2022-04-14T20:38:02.608Z"
   },
   {
    "duration": 531,
    "start_time": "2022-04-14T20:38:04.306Z"
   },
   {
    "duration": 1424,
    "start_time": "2022-04-14T20:38:22.552Z"
   },
   {
    "duration": 497,
    "start_time": "2022-04-14T20:38:26.672Z"
   },
   {
    "duration": 1421,
    "start_time": "2022-04-14T20:38:46.974Z"
   },
   {
    "duration": 520,
    "start_time": "2022-04-14T20:38:50.220Z"
   },
   {
    "duration": 19,
    "start_time": "2022-04-14T20:38:54.053Z"
   },
   {
    "duration": 13,
    "start_time": "2022-04-14T20:38:58.068Z"
   },
   {
    "duration": 29,
    "start_time": "2022-04-14T20:39:27.632Z"
   },
   {
    "duration": 241,
    "start_time": "2022-04-14T20:41:49.072Z"
   },
   {
    "duration": 21,
    "start_time": "2022-04-14T20:42:17.769Z"
   },
   {
    "duration": 18,
    "start_time": "2022-04-14T20:43:24.508Z"
   },
   {
    "duration": 20,
    "start_time": "2022-04-14T20:43:41.296Z"
   },
   {
    "duration": 17,
    "start_time": "2022-04-14T20:45:37.933Z"
   },
   {
    "duration": 29,
    "start_time": "2022-04-14T20:45:56.253Z"
   },
   {
    "duration": 11,
    "start_time": "2022-04-14T20:46:05.164Z"
   },
   {
    "duration": 18,
    "start_time": "2022-04-14T20:46:19.138Z"
   },
   {
    "duration": 18,
    "start_time": "2022-04-14T20:46:55.624Z"
   },
   {
    "duration": 52,
    "start_time": "2022-04-14T20:48:02.012Z"
   },
   {
    "duration": 13,
    "start_time": "2022-04-14T20:49:04.509Z"
   },
   {
    "duration": 45,
    "start_time": "2022-04-14T20:49:18.412Z"
   },
   {
    "duration": 13,
    "start_time": "2022-04-14T20:49:54.638Z"
   },
   {
    "duration": 1472,
    "start_time": "2022-04-14T20:50:11.606Z"
   },
   {
    "duration": 501,
    "start_time": "2022-04-14T20:50:13.080Z"
   },
   {
    "duration": 35,
    "start_time": "2022-04-14T20:50:15.043Z"
   },
   {
    "duration": 35,
    "start_time": "2022-04-14T20:50:25.008Z"
   },
   {
    "duration": 25,
    "start_time": "2022-04-14T20:50:52.024Z"
   },
   {
    "duration": 17,
    "start_time": "2022-04-14T20:51:12.586Z"
   },
   {
    "duration": 17,
    "start_time": "2022-04-14T20:51:33.698Z"
   },
   {
    "duration": 250,
    "start_time": "2022-04-14T20:55:48.274Z"
   },
   {
    "duration": 10,
    "start_time": "2022-04-14T20:56:18.894Z"
   },
   {
    "duration": 558,
    "start_time": "2022-04-14T20:56:49.581Z"
   },
   {
    "duration": 34,
    "start_time": "2022-04-14T20:56:50.386Z"
   },
   {
    "duration": 29,
    "start_time": "2022-04-14T20:56:52.594Z"
   },
   {
    "duration": 27,
    "start_time": "2022-04-14T20:56:54.930Z"
   },
   {
    "duration": 16,
    "start_time": "2022-04-14T20:56:57.097Z"
   },
   {
    "duration": 17,
    "start_time": "2022-04-14T20:56:59.664Z"
   },
   {
    "duration": 18,
    "start_time": "2022-04-14T20:57:03.137Z"
   },
   {
    "duration": 134,
    "start_time": "2022-04-14T20:57:23.838Z"
   },
   {
    "duration": 17,
    "start_time": "2022-04-14T20:59:01.739Z"
   },
   {
    "duration": 14,
    "start_time": "2022-04-14T21:00:09.653Z"
   },
   {
    "duration": 16,
    "start_time": "2022-04-14T21:00:28.610Z"
   },
   {
    "duration": 17,
    "start_time": "2022-04-14T21:00:35.786Z"
   },
   {
    "duration": 15,
    "start_time": "2022-04-14T21:00:51.074Z"
   },
   {
    "duration": 1540,
    "start_time": "2022-04-14T21:01:04.409Z"
   },
   {
    "duration": 564,
    "start_time": "2022-04-14T21:01:05.953Z"
   },
   {
    "duration": 37,
    "start_time": "2022-04-14T21:01:06.973Z"
   },
   {
    "duration": 30,
    "start_time": "2022-04-14T21:01:09.036Z"
   },
   {
    "duration": 26,
    "start_time": "2022-04-14T21:01:12.113Z"
   },
   {
    "duration": 16,
    "start_time": "2022-04-14T21:01:13.109Z"
   },
   {
    "duration": 16,
    "start_time": "2022-04-14T21:01:15.709Z"
   },
   {
    "duration": 9,
    "start_time": "2022-04-14T21:01:22.722Z"
   },
   {
    "duration": 256,
    "start_time": "2022-04-14T21:01:29.664Z"
   },
   {
    "duration": 15,
    "start_time": "2022-04-14T21:02:00.142Z"
   },
   {
    "duration": 13,
    "start_time": "2022-04-14T21:02:22.730Z"
   },
   {
    "duration": 15,
    "start_time": "2022-04-14T21:02:39.890Z"
   },
   {
    "duration": 1506,
    "start_time": "2022-04-14T21:03:03.899Z"
   },
   {
    "duration": 538,
    "start_time": "2022-04-14T21:03:05.408Z"
   },
   {
    "duration": 36,
    "start_time": "2022-04-14T21:03:05.949Z"
   },
   {
    "duration": 29,
    "start_time": "2022-04-14T21:03:08.471Z"
   },
   {
    "duration": 25,
    "start_time": "2022-04-14T21:03:09.908Z"
   },
   {
    "duration": 15,
    "start_time": "2022-04-14T21:03:11.855Z"
   },
   {
    "duration": 15,
    "start_time": "2022-04-14T21:03:14.175Z"
   },
   {
    "duration": 9,
    "start_time": "2022-04-14T21:03:17.984Z"
   },
   {
    "duration": 249,
    "start_time": "2022-04-14T21:03:35.095Z"
   },
   {
    "duration": 16,
    "start_time": "2022-04-14T21:04:01.688Z"
   },
   {
    "duration": 15,
    "start_time": "2022-04-14T21:04:10.363Z"
   },
   {
    "duration": 1544,
    "start_time": "2022-04-14T21:05:47.946Z"
   },
   {
    "duration": 571,
    "start_time": "2022-04-14T21:05:49.493Z"
   },
   {
    "duration": 36,
    "start_time": "2022-04-14T21:05:50.067Z"
   },
   {
    "duration": 41,
    "start_time": "2022-04-14T21:05:50.107Z"
   },
   {
    "duration": 27,
    "start_time": "2022-04-14T21:05:50.151Z"
   },
   {
    "duration": 15,
    "start_time": "2022-04-14T21:05:50.180Z"
   },
   {
    "duration": 22,
    "start_time": "2022-04-14T21:05:50.226Z"
   },
   {
    "duration": 322,
    "start_time": "2022-04-14T21:05:50.251Z"
   },
   {
    "duration": 23,
    "start_time": "2022-04-14T21:07:31.807Z"
   },
   {
    "duration": 1569,
    "start_time": "2022-04-14T21:07:45.730Z"
   },
   {
    "duration": 517,
    "start_time": "2022-04-14T21:07:47.301Z"
   },
   {
    "duration": 36,
    "start_time": "2022-04-14T21:07:47.821Z"
   },
   {
    "duration": 30,
    "start_time": "2022-04-14T21:07:47.860Z"
   },
   {
    "duration": 67,
    "start_time": "2022-04-14T21:07:47.893Z"
   },
   {
    "duration": 27,
    "start_time": "2022-04-14T21:07:47.962Z"
   },
   {
    "duration": 48,
    "start_time": "2022-04-14T21:07:47.991Z"
   },
   {
    "duration": 199,
    "start_time": "2022-04-14T21:07:48.042Z"
   },
   {
    "duration": 37,
    "start_time": "2022-04-14T21:08:15.694Z"
   },
   {
    "duration": 21,
    "start_time": "2022-04-14T21:08:26.238Z"
   },
   {
    "duration": 14,
    "start_time": "2022-04-14T21:09:34.609Z"
   },
   {
    "duration": 20,
    "start_time": "2022-04-14T21:09:50.489Z"
   },
   {
    "duration": 1948,
    "start_time": "2022-04-14T21:10:40.809Z"
   },
   {
    "duration": 607,
    "start_time": "2022-04-14T21:10:42.761Z"
   },
   {
    "duration": 35,
    "start_time": "2022-04-14T21:10:43.370Z"
   },
   {
    "duration": 32,
    "start_time": "2022-04-14T21:10:43.408Z"
   },
   {
    "duration": 4,
    "start_time": "2022-04-14T21:10:43.443Z"
   },
   {
    "duration": 24,
    "start_time": "2022-04-14T21:10:43.450Z"
   },
   {
    "duration": 66,
    "start_time": "2022-04-14T21:10:43.476Z"
   },
   {
    "duration": 15,
    "start_time": "2022-04-14T21:10:43.545Z"
   },
   {
    "duration": 21,
    "start_time": "2022-04-14T21:10:43.563Z"
   },
   {
    "duration": 174,
    "start_time": "2022-04-14T21:10:43.587Z"
   },
   {
    "duration": 37,
    "start_time": "2022-04-14T21:10:43.764Z"
   },
   {
    "duration": 37,
    "start_time": "2022-04-14T21:10:43.804Z"
   },
   {
    "duration": 1543,
    "start_time": "2022-04-14T21:11:10.565Z"
   },
   {
    "duration": 520,
    "start_time": "2022-04-14T21:11:12.110Z"
   },
   {
    "duration": 35,
    "start_time": "2022-04-14T21:11:12.632Z"
   },
   {
    "duration": 60,
    "start_time": "2022-04-14T21:11:12.670Z"
   },
   {
    "duration": 14,
    "start_time": "2022-04-14T21:11:12.733Z"
   },
   {
    "duration": 40,
    "start_time": "2022-04-14T21:11:12.749Z"
   },
   {
    "duration": 50,
    "start_time": "2022-04-14T21:11:12.791Z"
   },
   {
    "duration": 33,
    "start_time": "2022-04-14T21:11:12.843Z"
   },
   {
    "duration": 27,
    "start_time": "2022-04-14T21:11:12.878Z"
   },
   {
    "duration": 133,
    "start_time": "2022-04-14T21:11:12.908Z"
   },
   {
    "duration": 26,
    "start_time": "2022-04-14T21:11:13.043Z"
   },
   {
    "duration": 16,
    "start_time": "2022-04-14T21:11:13.072Z"
   },
   {
    "duration": 150,
    "start_time": "2022-04-14T21:11:46.541Z"
   },
   {
    "duration": 1482,
    "start_time": "2022-04-14T21:12:14.117Z"
   },
   {
    "duration": 522,
    "start_time": "2022-04-14T21:12:15.602Z"
   },
   {
    "duration": 34,
    "start_time": "2022-04-14T21:12:16.126Z"
   },
   {
    "duration": 29,
    "start_time": "2022-04-14T21:12:16.164Z"
   },
   {
    "duration": 54,
    "start_time": "2022-04-14T21:12:16.195Z"
   },
   {
    "duration": 12,
    "start_time": "2022-04-14T21:12:16.251Z"
   },
   {
    "duration": 72,
    "start_time": "2022-04-14T21:12:16.266Z"
   },
   {
    "duration": 18,
    "start_time": "2022-04-14T21:12:16.341Z"
   },
   {
    "duration": 22,
    "start_time": "2022-04-14T21:12:16.362Z"
   },
   {
    "duration": 136,
    "start_time": "2022-04-14T21:12:16.426Z"
   },
   {
    "duration": 27,
    "start_time": "2022-04-14T21:12:16.565Z"
   },
   {
    "duration": 40,
    "start_time": "2022-04-14T21:12:16.594Z"
   },
   {
    "duration": 37,
    "start_time": "2022-04-14T21:14:29.072Z"
   },
   {
    "duration": 42,
    "start_time": "2022-04-14T21:14:41.840Z"
   },
   {
    "duration": 13,
    "start_time": "2022-04-14T21:18:31.568Z"
   },
   {
    "duration": 17,
    "start_time": "2022-04-14T21:30:59.221Z"
   },
   {
    "duration": 4,
    "start_time": "2022-04-14T21:37:26.854Z"
   },
   {
    "duration": 446,
    "start_time": "2022-04-14T21:44:20.516Z"
   },
   {
    "duration": 16,
    "start_time": "2022-04-14T21:44:38.007Z"
   },
   {
    "duration": 40,
    "start_time": "2022-04-14T21:57:59.287Z"
   },
   {
    "duration": 12,
    "start_time": "2022-04-14T21:58:42.650Z"
   },
   {
    "duration": 1445,
    "start_time": "2022-04-14T21:58:49.252Z"
   },
   {
    "duration": 522,
    "start_time": "2022-04-14T21:58:50.700Z"
   },
   {
    "duration": 37,
    "start_time": "2022-04-14T21:58:51.224Z"
   },
   {
    "duration": 30,
    "start_time": "2022-04-14T21:58:51.264Z"
   },
   {
    "duration": 30,
    "start_time": "2022-04-14T21:58:51.325Z"
   },
   {
    "duration": 27,
    "start_time": "2022-04-14T21:58:51.357Z"
   },
   {
    "duration": 52,
    "start_time": "2022-04-14T21:58:51.386Z"
   },
   {
    "duration": 16,
    "start_time": "2022-04-14T21:58:51.440Z"
   },
   {
    "duration": 150,
    "start_time": "2022-04-14T21:58:51.458Z"
   },
   {
    "duration": 31,
    "start_time": "2022-04-14T21:58:51.612Z"
   },
   {
    "duration": 16,
    "start_time": "2022-04-14T21:58:51.645Z"
   },
   {
    "duration": 75,
    "start_time": "2022-04-14T21:58:51.664Z"
   },
   {
    "duration": 13,
    "start_time": "2022-04-14T21:58:51.741Z"
   },
   {
    "duration": 18,
    "start_time": "2022-04-14T21:58:51.756Z"
   },
   {
    "duration": 31,
    "start_time": "2022-04-14T21:59:24.943Z"
   },
   {
    "duration": 40,
    "start_time": "2022-04-14T22:00:18.647Z"
   },
   {
    "duration": 6,
    "start_time": "2022-04-14T22:01:01.434Z"
   },
   {
    "duration": 10,
    "start_time": "2022-04-14T22:01:12.098Z"
   },
   {
    "duration": 146,
    "start_time": "2022-04-14T22:04:20.671Z"
   },
   {
    "duration": 13,
    "start_time": "2022-04-14T22:04:29.539Z"
   },
   {
    "duration": 4,
    "start_time": "2022-04-14T22:09:48.508Z"
   },
   {
    "duration": 9,
    "start_time": "2022-04-14T22:13:36.036Z"
   },
   {
    "duration": 11,
    "start_time": "2022-04-14T22:13:58.343Z"
   },
   {
    "duration": 9,
    "start_time": "2022-04-14T22:14:07.536Z"
   },
   {
    "duration": 1426,
    "start_time": "2022-04-14T22:14:35.264Z"
   },
   {
    "duration": 533,
    "start_time": "2022-04-14T22:14:36.693Z"
   },
   {
    "duration": 35,
    "start_time": "2022-04-14T22:14:37.228Z"
   },
   {
    "duration": 56,
    "start_time": "2022-04-14T22:14:37.266Z"
   },
   {
    "duration": 29,
    "start_time": "2022-04-14T22:14:37.324Z"
   },
   {
    "duration": 26,
    "start_time": "2022-04-14T22:14:37.355Z"
   },
   {
    "duration": 48,
    "start_time": "2022-04-14T22:14:37.383Z"
   },
   {
    "duration": 34,
    "start_time": "2022-04-14T22:14:37.433Z"
   },
   {
    "duration": 129,
    "start_time": "2022-04-14T22:14:37.469Z"
   },
   {
    "duration": 34,
    "start_time": "2022-04-14T22:14:37.601Z"
   },
   {
    "duration": 16,
    "start_time": "2022-04-14T22:14:37.637Z"
   },
   {
    "duration": 74,
    "start_time": "2022-04-14T22:14:37.655Z"
   },
   {
    "duration": 12,
    "start_time": "2022-04-14T22:14:37.731Z"
   },
   {
    "duration": 19,
    "start_time": "2022-04-14T22:14:37.745Z"
   },
   {
    "duration": 92,
    "start_time": "2022-04-14T22:14:37.766Z"
   },
   {
    "duration": 14,
    "start_time": "2022-04-14T22:14:37.861Z"
   },
   {
    "duration": 8,
    "start_time": "2022-04-14T22:15:07.044Z"
   },
   {
    "duration": 381,
    "start_time": "2022-04-14T22:19:13.007Z"
   },
   {
    "duration": 430,
    "start_time": "2022-04-14T22:19:24.720Z"
   },
   {
    "duration": 373,
    "start_time": "2022-04-14T22:23:37.094Z"
   },
   {
    "duration": 374,
    "start_time": "2022-04-14T22:27:59.602Z"
   },
   {
    "duration": 375,
    "start_time": "2022-04-14T22:28:14.378Z"
   },
   {
    "duration": 362,
    "start_time": "2022-04-14T22:29:23.354Z"
   },
   {
    "duration": 16,
    "start_time": "2022-04-14T22:34:45.793Z"
   },
   {
    "duration": 7,
    "start_time": "2022-04-14T22:37:34.021Z"
   },
   {
    "duration": 7,
    "start_time": "2022-04-14T22:38:00.226Z"
   },
   {
    "duration": 17,
    "start_time": "2022-04-14T22:42:01.021Z"
   },
   {
    "duration": 26,
    "start_time": "2022-04-14T22:46:29.381Z"
   },
   {
    "duration": 26,
    "start_time": "2022-04-14T22:46:40.197Z"
   },
   {
    "duration": 287,
    "start_time": "2022-04-14T22:47:54.961Z"
   },
   {
    "duration": 302,
    "start_time": "2022-04-14T22:48:03.453Z"
   },
   {
    "duration": 27,
    "start_time": "2022-04-14T22:48:28.193Z"
   },
   {
    "duration": 42,
    "start_time": "2022-04-14T22:50:02.724Z"
   },
   {
    "duration": 51,
    "start_time": "2022-04-14T22:50:13.507Z"
   },
   {
    "duration": 40,
    "start_time": "2022-04-14T22:51:06.489Z"
   },
   {
    "duration": 1821,
    "start_time": "2022-04-14T22:52:29.540Z"
   },
   {
    "duration": 1668,
    "start_time": "2022-04-14T22:52:51.377Z"
   },
   {
    "duration": 1496,
    "start_time": "2022-04-14T22:53:01.206Z"
   },
   {
    "duration": 545,
    "start_time": "2022-04-14T22:53:02.705Z"
   },
   {
    "duration": 40,
    "start_time": "2022-04-14T22:53:03.252Z"
   },
   {
    "duration": 50,
    "start_time": "2022-04-14T22:53:03.296Z"
   },
   {
    "duration": 32,
    "start_time": "2022-04-14T22:53:03.349Z"
   },
   {
    "duration": 59,
    "start_time": "2022-04-14T22:53:03.384Z"
   },
   {
    "duration": 17,
    "start_time": "2022-04-14T22:53:03.446Z"
   },
   {
    "duration": 64,
    "start_time": "2022-04-14T22:53:03.466Z"
   },
   {
    "duration": 138,
    "start_time": "2022-04-14T22:53:03.533Z"
   },
   {
    "duration": 48,
    "start_time": "2022-04-14T22:53:03.676Z"
   },
   {
    "duration": 20,
    "start_time": "2022-04-14T22:53:03.727Z"
   },
   {
    "duration": 67,
    "start_time": "2022-04-14T22:53:03.750Z"
   },
   {
    "duration": 53,
    "start_time": "2022-04-14T22:53:03.819Z"
   },
   {
    "duration": 18,
    "start_time": "2022-04-14T22:53:03.875Z"
   },
   {
    "duration": 47,
    "start_time": "2022-04-14T22:53:03.895Z"
   },
   {
    "duration": 172,
    "start_time": "2022-04-14T22:53:03.944Z"
   },
   {
    "duration": 0,
    "start_time": "2022-04-14T22:53:04.125Z"
   },
   {
    "duration": 0,
    "start_time": "2022-04-14T22:53:04.126Z"
   },
   {
    "duration": 0,
    "start_time": "2022-04-14T22:53:04.128Z"
   },
   {
    "duration": 0,
    "start_time": "2022-04-14T22:53:04.129Z"
   },
   {
    "duration": 26,
    "start_time": "2022-04-14T22:53:47.114Z"
   },
   {
    "duration": 1438,
    "start_time": "2022-04-14T22:54:07.945Z"
   },
   {
    "duration": 522,
    "start_time": "2022-04-14T22:54:09.386Z"
   },
   {
    "duration": 36,
    "start_time": "2022-04-14T22:54:09.910Z"
   },
   {
    "duration": 30,
    "start_time": "2022-04-14T22:54:09.949Z"
   },
   {
    "duration": 61,
    "start_time": "2022-04-14T22:54:09.982Z"
   },
   {
    "duration": 30,
    "start_time": "2022-04-14T22:54:10.045Z"
   },
   {
    "duration": 51,
    "start_time": "2022-04-14T22:54:10.078Z"
   },
   {
    "duration": 23,
    "start_time": "2022-04-14T22:54:10.132Z"
   },
   {
    "duration": 157,
    "start_time": "2022-04-14T22:54:10.158Z"
   },
   {
    "duration": 27,
    "start_time": "2022-04-14T22:54:10.324Z"
   },
   {
    "duration": 16,
    "start_time": "2022-04-14T22:54:10.353Z"
   },
   {
    "duration": 54,
    "start_time": "2022-04-14T22:54:10.371Z"
   },
   {
    "duration": 44,
    "start_time": "2022-04-14T22:54:10.428Z"
   },
   {
    "duration": 16,
    "start_time": "2022-04-14T22:54:10.474Z"
   },
   {
    "duration": 57,
    "start_time": "2022-04-14T22:54:10.492Z"
   },
   {
    "duration": 177,
    "start_time": "2022-04-14T22:54:10.551Z"
   },
   {
    "duration": 0,
    "start_time": "2022-04-14T22:54:10.731Z"
   },
   {
    "duration": 0,
    "start_time": "2022-04-14T22:54:10.733Z"
   },
   {
    "duration": 0,
    "start_time": "2022-04-14T22:54:10.734Z"
   },
   {
    "duration": 1,
    "start_time": "2022-04-14T22:54:10.735Z"
   },
   {
    "duration": 12,
    "start_time": "2022-04-14T22:55:09.781Z"
   },
   {
    "duration": 17,
    "start_time": "2022-04-14T22:55:10.497Z"
   },
   {
    "duration": 40,
    "start_time": "2022-04-14T22:55:13.113Z"
   },
   {
    "duration": 9,
    "start_time": "2022-04-14T22:55:14.562Z"
   },
   {
    "duration": 47,
    "start_time": "2022-04-14T22:56:58.013Z"
   },
   {
    "duration": 50,
    "start_time": "2022-04-14T22:57:05.953Z"
   },
   {
    "duration": 1694,
    "start_time": "2022-04-14T22:57:36.225Z"
   },
   {
    "duration": 1820,
    "start_time": "2022-04-14T22:57:41.340Z"
   },
   {
    "duration": 473,
    "start_time": "2022-04-14T22:58:35.966Z"
   },
   {
    "duration": 49,
    "start_time": "2022-04-14T22:58:54.341Z"
   },
   {
    "duration": 18,
    "start_time": "2022-04-14T23:01:07.422Z"
   },
   {
    "duration": 98,
    "start_time": "2022-04-14T23:04:15.749Z"
   },
   {
    "duration": 122,
    "start_time": "2022-04-14T23:04:24.069Z"
   },
   {
    "duration": 1450,
    "start_time": "2022-04-14T23:05:36.738Z"
   },
   {
    "duration": 530,
    "start_time": "2022-04-14T23:05:38.191Z"
   },
   {
    "duration": 36,
    "start_time": "2022-04-14T23:05:38.723Z"
   },
   {
    "duration": 33,
    "start_time": "2022-04-14T23:05:38.762Z"
   },
   {
    "duration": 29,
    "start_time": "2022-04-14T23:05:38.825Z"
   },
   {
    "duration": 25,
    "start_time": "2022-04-14T23:05:38.857Z"
   },
   {
    "duration": 53,
    "start_time": "2022-04-14T23:05:38.884Z"
   },
   {
    "duration": 25,
    "start_time": "2022-04-14T23:05:38.939Z"
   },
   {
    "duration": 136,
    "start_time": "2022-04-14T23:05:38.967Z"
   },
   {
    "duration": 35,
    "start_time": "2022-04-14T23:05:39.106Z"
   },
   {
    "duration": 16,
    "start_time": "2022-04-14T23:05:39.143Z"
   },
   {
    "duration": 16,
    "start_time": "2022-04-14T23:05:39.161Z"
   },
   {
    "duration": 79,
    "start_time": "2022-04-14T23:05:39.180Z"
   },
   {
    "duration": 17,
    "start_time": "2022-04-14T23:05:39.261Z"
   },
   {
    "duration": 56,
    "start_time": "2022-04-14T23:05:39.281Z"
   },
   {
    "duration": 13,
    "start_time": "2022-04-14T23:05:39.339Z"
   },
   {
    "duration": 22,
    "start_time": "2022-04-14T23:05:39.354Z"
   },
   {
    "duration": 75,
    "start_time": "2022-04-14T23:05:39.378Z"
   },
   {
    "duration": 9,
    "start_time": "2022-04-14T23:05:39.455Z"
   },
   {
    "duration": 91,
    "start_time": "2022-04-14T23:05:39.466Z"
   },
   {
    "duration": 61,
    "start_time": "2022-04-14T23:08:43.365Z"
   },
   {
    "duration": 65,
    "start_time": "2022-04-14T23:09:21.986Z"
   },
   {
    "duration": 24,
    "start_time": "2022-04-14T23:09:56.273Z"
   },
   {
    "duration": 12,
    "start_time": "2022-04-14T23:10:35.650Z"
   },
   {
    "duration": 24,
    "start_time": "2022-04-14T23:12:58.025Z"
   },
   {
    "duration": 38,
    "start_time": "2022-04-14T23:13:04.962Z"
   },
   {
    "duration": 70,
    "start_time": "2022-04-14T23:17:39.517Z"
   },
   {
    "duration": 1418,
    "start_time": "2022-04-14T23:18:05.974Z"
   },
   {
    "duration": 532,
    "start_time": "2022-04-14T23:18:07.395Z"
   },
   {
    "duration": 35,
    "start_time": "2022-04-14T23:18:07.929Z"
   },
   {
    "duration": 57,
    "start_time": "2022-04-14T23:18:07.967Z"
   },
   {
    "duration": 29,
    "start_time": "2022-04-14T23:18:08.027Z"
   },
   {
    "duration": 43,
    "start_time": "2022-04-14T23:18:08.058Z"
   },
   {
    "duration": 32,
    "start_time": "2022-04-14T23:18:08.104Z"
   },
   {
    "duration": 17,
    "start_time": "2022-04-14T23:18:08.138Z"
   },
   {
    "duration": 149,
    "start_time": "2022-04-14T23:18:08.157Z"
   },
   {
    "duration": 35,
    "start_time": "2022-04-14T23:18:08.309Z"
   },
   {
    "duration": 16,
    "start_time": "2022-04-14T23:18:08.347Z"
   },
   {
    "duration": 23,
    "start_time": "2022-04-14T23:18:08.365Z"
   },
   {
    "duration": 75,
    "start_time": "2022-04-14T23:18:08.391Z"
   },
   {
    "duration": 106,
    "start_time": "2022-04-14T23:18:08.469Z"
   },
   {
    "duration": 13,
    "start_time": "2022-04-14T23:18:08.578Z"
   },
   {
    "duration": 92,
    "start_time": "2022-04-14T23:18:08.594Z"
   },
   {
    "duration": 1495,
    "start_time": "2022-04-14T23:18:55.691Z"
   },
   {
    "duration": 503,
    "start_time": "2022-04-14T23:18:57.189Z"
   },
   {
    "duration": 38,
    "start_time": "2022-04-14T23:18:57.694Z"
   },
   {
    "duration": 32,
    "start_time": "2022-04-14T23:18:57.736Z"
   },
   {
    "duration": 60,
    "start_time": "2022-04-14T23:18:57.770Z"
   },
   {
    "duration": 29,
    "start_time": "2022-04-14T23:18:57.833Z"
   },
   {
    "duration": 17,
    "start_time": "2022-04-14T23:18:57.864Z"
   },
   {
    "duration": 54,
    "start_time": "2022-04-14T23:18:57.883Z"
   },
   {
    "duration": 156,
    "start_time": "2022-04-14T23:18:57.940Z"
   },
   {
    "duration": 36,
    "start_time": "2022-04-14T23:18:58.101Z"
   },
   {
    "duration": 17,
    "start_time": "2022-04-14T23:18:58.140Z"
   },
   {
    "duration": 21,
    "start_time": "2022-04-14T23:18:58.159Z"
   },
   {
    "duration": 73,
    "start_time": "2022-04-14T23:18:58.182Z"
   },
   {
    "duration": 94,
    "start_time": "2022-04-14T23:18:58.257Z"
   },
   {
    "duration": 11,
    "start_time": "2022-04-14T23:18:58.354Z"
   },
   {
    "duration": 101,
    "start_time": "2022-04-14T23:18:58.368Z"
   },
   {
    "duration": 106,
    "start_time": "2022-04-14T23:21:51.736Z"
   },
   {
    "duration": 47,
    "start_time": "2022-04-14T23:22:07.931Z"
   },
   {
    "duration": 44,
    "start_time": "2022-04-14T23:24:12.260Z"
   },
   {
    "duration": 27,
    "start_time": "2022-04-14T23:26:29.472Z"
   },
   {
    "duration": 41,
    "start_time": "2022-04-14T23:26:52.467Z"
   },
   {
    "duration": 43,
    "start_time": "2022-04-14T23:31:45.364Z"
   },
   {
    "duration": 60,
    "start_time": "2022-04-14T23:31:57.401Z"
   },
   {
    "duration": 60,
    "start_time": "2022-04-14T23:32:34.683Z"
   },
   {
    "duration": 69,
    "start_time": "2022-04-14T23:33:00.168Z"
   },
   {
    "duration": 31,
    "start_time": "2022-04-14T23:33:52.292Z"
   },
   {
    "duration": 44,
    "start_time": "2022-04-14T23:34:06.107Z"
   },
   {
    "duration": 26,
    "start_time": "2022-04-14T23:34:28.831Z"
   },
   {
    "duration": 38,
    "start_time": "2022-04-14T23:34:44.621Z"
   },
   {
    "duration": 133,
    "start_time": "2022-04-14T23:43:08.475Z"
   },
   {
    "duration": 13,
    "start_time": "2022-04-14T23:43:38.447Z"
   },
   {
    "duration": 38,
    "start_time": "2022-04-14T23:45:10.501Z"
   },
   {
    "duration": 47,
    "start_time": "2022-04-14T23:45:24.854Z"
   },
   {
    "duration": 39,
    "start_time": "2022-04-14T23:45:58.235Z"
   },
   {
    "duration": 39,
    "start_time": "2022-04-14T23:48:37.455Z"
   },
   {
    "duration": 38,
    "start_time": "2022-04-14T23:48:48.731Z"
   },
   {
    "duration": 54,
    "start_time": "2022-04-14T23:50:02.796Z"
   },
   {
    "duration": 46,
    "start_time": "2022-04-14T23:50:15.186Z"
   },
   {
    "duration": 37,
    "start_time": "2022-04-14T23:50:15.974Z"
   },
   {
    "duration": 37,
    "start_time": "2022-04-14T23:50:16.538Z"
   },
   {
    "duration": 1660,
    "start_time": "2022-04-15T17:52:59.127Z"
   },
   {
    "duration": 444,
    "start_time": "2022-04-15T17:53:00.789Z"
   },
   {
    "duration": 26,
    "start_time": "2022-04-15T17:53:01.235Z"
   },
   {
    "duration": 28,
    "start_time": "2022-04-15T17:53:01.263Z"
   },
   {
    "duration": 38,
    "start_time": "2022-04-15T17:53:01.293Z"
   },
   {
    "duration": 19,
    "start_time": "2022-04-15T17:53:01.333Z"
   },
   {
    "duration": 20,
    "start_time": "2022-04-15T17:53:01.354Z"
   },
   {
    "duration": 23,
    "start_time": "2022-04-15T17:53:01.377Z"
   },
   {
    "duration": 97,
    "start_time": "2022-04-15T17:53:01.403Z"
   },
   {
    "duration": 30,
    "start_time": "2022-04-15T17:53:01.504Z"
   },
   {
    "duration": 13,
    "start_time": "2022-04-15T17:53:01.536Z"
   },
   {
    "duration": 38,
    "start_time": "2022-04-15T17:53:01.551Z"
   },
   {
    "duration": 83,
    "start_time": "2022-04-15T17:53:01.590Z"
   },
   {
    "duration": 9,
    "start_time": "2022-04-15T17:53:01.675Z"
   },
   {
    "duration": 77,
    "start_time": "2022-04-15T17:53:01.685Z"
   },
   {
    "duration": 32,
    "start_time": "2022-04-15T17:53:01.765Z"
   },
   {
    "duration": 46,
    "start_time": "2022-04-15T17:53:01.798Z"
   },
   {
    "duration": 24,
    "start_time": "2022-04-15T17:53:01.845Z"
   },
   {
    "duration": 9,
    "start_time": "2022-04-15T17:56:51.867Z"
   },
   {
    "duration": 155,
    "start_time": "2022-04-15T17:58:56.123Z"
   },
   {
    "duration": 4,
    "start_time": "2022-04-15T17:59:20.664Z"
   },
   {
    "duration": 8,
    "start_time": "2022-04-15T17:59:43.196Z"
   },
   {
    "duration": 6,
    "start_time": "2022-04-15T18:02:34.823Z"
   },
   {
    "duration": 6,
    "start_time": "2022-04-15T18:02:57.879Z"
   },
   {
    "duration": 18,
    "start_time": "2022-04-15T18:03:54.115Z"
   },
   {
    "duration": 42,
    "start_time": "2022-04-15T18:04:14.159Z"
   },
   {
    "duration": 4,
    "start_time": "2022-04-15T18:05:00.811Z"
   },
   {
    "duration": 6,
    "start_time": "2022-04-15T18:05:34.067Z"
   },
   {
    "duration": 11,
    "start_time": "2022-04-15T18:05:46.015Z"
   },
   {
    "duration": 1521,
    "start_time": "2022-04-15T18:06:05.681Z"
   },
   {
    "duration": 598,
    "start_time": "2022-04-15T18:06:07.205Z"
   },
   {
    "duration": 27,
    "start_time": "2022-04-15T18:06:07.805Z"
   },
   {
    "duration": 19,
    "start_time": "2022-04-15T18:06:07.834Z"
   },
   {
    "duration": 20,
    "start_time": "2022-04-15T18:06:07.855Z"
   },
   {
    "duration": 20,
    "start_time": "2022-04-15T18:06:07.877Z"
   },
   {
    "duration": 10,
    "start_time": "2022-04-15T18:06:07.923Z"
   },
   {
    "duration": 12,
    "start_time": "2022-04-15T18:06:07.935Z"
   },
   {
    "duration": 99,
    "start_time": "2022-04-15T18:06:07.950Z"
   },
   {
    "duration": 18,
    "start_time": "2022-04-15T18:06:08.052Z"
   },
   {
    "duration": 10,
    "start_time": "2022-04-15T18:06:08.072Z"
   },
   {
    "duration": 59,
    "start_time": "2022-04-15T18:06:08.084Z"
   },
   {
    "duration": 56,
    "start_time": "2022-04-15T18:06:08.145Z"
   },
   {
    "duration": 26,
    "start_time": "2022-04-15T18:06:08.203Z"
   },
   {
    "duration": 48,
    "start_time": "2022-04-15T18:06:08.231Z"
   },
   {
    "duration": 48,
    "start_time": "2022-04-15T18:06:08.281Z"
   },
   {
    "duration": 27,
    "start_time": "2022-04-15T18:06:08.330Z"
   },
   {
    "duration": 21,
    "start_time": "2022-04-15T18:06:08.359Z"
   },
   {
    "duration": 5,
    "start_time": "2022-04-15T18:06:08.382Z"
   },
   {
    "duration": 34,
    "start_time": "2022-04-15T18:06:08.389Z"
   },
   {
    "duration": 188,
    "start_time": "2022-04-15T18:07:38.060Z"
   },
   {
    "duration": 7,
    "start_time": "2022-04-15T18:07:52.946Z"
   },
   {
    "duration": 17,
    "start_time": "2022-04-15T18:07:59.479Z"
   },
   {
    "duration": 392,
    "start_time": "2022-04-15T19:57:36.071Z"
   },
   {
    "duration": 397,
    "start_time": "2022-04-15T19:57:50.847Z"
   },
   {
    "duration": 15,
    "start_time": "2022-04-15T19:58:43.391Z"
   },
   {
    "duration": 2219,
    "start_time": "2022-04-15T19:58:54.427Z"
   },
   {
    "duration": 108,
    "start_time": "2022-04-15T20:07:16.399Z"
   },
   {
    "duration": 1628,
    "start_time": "2022-04-16T13:37:41.318Z"
   },
   {
    "duration": 529,
    "start_time": "2022-04-16T13:37:42.949Z"
   },
   {
    "duration": 38,
    "start_time": "2022-04-16T13:37:43.480Z"
   },
   {
    "duration": 30,
    "start_time": "2022-04-16T13:37:43.521Z"
   },
   {
    "duration": 47,
    "start_time": "2022-04-16T13:37:43.553Z"
   },
   {
    "duration": 24,
    "start_time": "2022-04-16T13:37:43.602Z"
   },
   {
    "duration": 14,
    "start_time": "2022-04-16T13:37:43.629Z"
   },
   {
    "duration": 52,
    "start_time": "2022-04-16T13:37:43.645Z"
   },
   {
    "duration": 120,
    "start_time": "2022-04-16T13:37:43.699Z"
   },
   {
    "duration": 24,
    "start_time": "2022-04-16T13:37:43.823Z"
   },
   {
    "duration": 15,
    "start_time": "2022-04-16T13:37:43.850Z"
   },
   {
    "duration": 64,
    "start_time": "2022-04-16T13:37:43.867Z"
   },
   {
    "duration": 87,
    "start_time": "2022-04-16T13:37:43.933Z"
   },
   {
    "duration": 12,
    "start_time": "2022-04-16T13:37:44.022Z"
   },
   {
    "duration": 78,
    "start_time": "2022-04-16T13:37:44.036Z"
   },
   {
    "duration": 41,
    "start_time": "2022-04-16T13:37:44.116Z"
   },
   {
    "duration": 57,
    "start_time": "2022-04-16T13:37:44.159Z"
   },
   {
    "duration": 31,
    "start_time": "2022-04-16T13:37:44.218Z"
   },
   {
    "duration": 9,
    "start_time": "2022-04-16T13:37:44.252Z"
   },
   {
    "duration": 10,
    "start_time": "2022-04-16T13:37:44.293Z"
   },
   {
    "duration": 169,
    "start_time": "2022-04-16T13:37:44.306Z"
   },
   {
    "duration": 11,
    "start_time": "2022-04-16T13:39:44.842Z"
   },
   {
    "duration": 13,
    "start_time": "2022-04-16T13:40:05.510Z"
   },
   {
    "duration": 7,
    "start_time": "2022-04-16T13:40:39.010Z"
   },
   {
    "duration": 1478,
    "start_time": "2022-04-16T13:41:07.151Z"
   },
   {
    "duration": 528,
    "start_time": "2022-04-16T13:41:08.631Z"
   },
   {
    "duration": 32,
    "start_time": "2022-04-16T13:41:09.161Z"
   },
   {
    "duration": 92,
    "start_time": "2022-04-16T13:41:09.196Z"
   },
   {
    "duration": 28,
    "start_time": "2022-04-16T13:41:09.290Z"
   },
   {
    "duration": 24,
    "start_time": "2022-04-16T13:41:09.320Z"
   },
   {
    "duration": 16,
    "start_time": "2022-04-16T13:41:09.346Z"
   },
   {
    "duration": 16,
    "start_time": "2022-04-16T13:41:09.393Z"
   },
   {
    "duration": 131,
    "start_time": "2022-04-16T13:41:09.411Z"
   },
   {
    "duration": 25,
    "start_time": "2022-04-16T13:41:09.546Z"
   },
   {
    "duration": 31,
    "start_time": "2022-04-16T13:41:09.573Z"
   },
   {
    "duration": 38,
    "start_time": "2022-04-16T13:41:09.606Z"
   },
   {
    "duration": 91,
    "start_time": "2022-04-16T13:41:09.647Z"
   },
   {
    "duration": 11,
    "start_time": "2022-04-16T13:41:09.740Z"
   },
   {
    "duration": 90,
    "start_time": "2022-04-16T13:41:09.753Z"
   },
   {
    "duration": 53,
    "start_time": "2022-04-16T13:41:09.845Z"
   },
   {
    "duration": 39,
    "start_time": "2022-04-16T13:41:09.900Z"
   },
   {
    "duration": 53,
    "start_time": "2022-04-16T13:41:09.941Z"
   },
   {
    "duration": 11,
    "start_time": "2022-04-16T13:41:09.996Z"
   },
   {
    "duration": 8,
    "start_time": "2022-04-16T13:41:10.009Z"
   },
   {
    "duration": 14,
    "start_time": "2022-04-16T13:41:10.020Z"
   },
   {
    "duration": 17,
    "start_time": "2022-04-16T13:43:21.574Z"
   },
   {
    "duration": 18,
    "start_time": "2022-04-16T13:43:55.226Z"
   },
   {
    "duration": 18,
    "start_time": "2022-04-16T13:44:09.862Z"
   },
   {
    "duration": 17,
    "start_time": "2022-04-16T13:44:21.268Z"
   },
   {
    "duration": 142,
    "start_time": "2022-04-16T14:20:03.926Z"
   },
   {
    "duration": 9,
    "start_time": "2022-04-16T14:20:22.421Z"
   },
   {
    "duration": 15,
    "start_time": "2022-04-16T14:20:34.054Z"
   },
   {
    "duration": 938,
    "start_time": "2022-04-16T14:22:07.658Z"
   },
   {
    "duration": 818,
    "start_time": "2022-04-16T14:22:43.818Z"
   },
   {
    "duration": 34,
    "start_time": "2022-04-16T14:23:09.914Z"
   },
   {
    "duration": 13,
    "start_time": "2022-04-16T14:24:15.010Z"
   },
   {
    "duration": 853,
    "start_time": "2022-04-16T14:25:31.526Z"
   },
   {
    "duration": 30,
    "start_time": "2022-04-16T14:25:47.565Z"
   },
   {
    "duration": 8,
    "start_time": "2022-04-16T14:30:26.733Z"
   },
   {
    "duration": 8,
    "start_time": "2022-04-16T14:30:33.549Z"
   },
   {
    "duration": 16,
    "start_time": "2022-04-16T14:30:42.601Z"
   },
   {
    "duration": 13,
    "start_time": "2022-04-16T14:30:52.586Z"
   },
   {
    "duration": 11,
    "start_time": "2022-04-16T14:31:03.685Z"
   },
   {
    "duration": 6,
    "start_time": "2022-04-16T14:31:16.682Z"
   },
   {
    "duration": 12,
    "start_time": "2022-04-16T14:31:20.057Z"
   },
   {
    "duration": 12,
    "start_time": "2022-04-16T14:32:18.061Z"
   },
   {
    "duration": 12,
    "start_time": "2022-04-16T14:32:26.689Z"
   },
   {
    "duration": 38,
    "start_time": "2022-04-16T14:38:34.777Z"
   },
   {
    "duration": 8,
    "start_time": "2022-04-16T14:39:24.380Z"
   },
   {
    "duration": 21,
    "start_time": "2022-04-16T14:39:33.176Z"
   },
   {
    "duration": 6,
    "start_time": "2022-04-16T14:48:51.936Z"
   },
   {
    "duration": 3304,
    "start_time": "2022-04-16T14:48:57.768Z"
   },
   {
    "duration": 20,
    "start_time": "2022-04-16T14:50:06.109Z"
   },
   {
    "duration": 26,
    "start_time": "2022-04-16T14:50:38.822Z"
   },
   {
    "duration": 14,
    "start_time": "2022-04-16T14:51:38.000Z"
   },
   {
    "duration": 12,
    "start_time": "2022-04-16T14:51:53.720Z"
   },
   {
    "duration": 13,
    "start_time": "2022-04-16T14:51:56.496Z"
   },
   {
    "duration": 27,
    "start_time": "2022-04-16T14:52:04.287Z"
   },
   {
    "duration": 35,
    "start_time": "2022-04-16T14:52:37.896Z"
   },
   {
    "duration": 30,
    "start_time": "2022-04-16T14:54:56.913Z"
   },
   {
    "duration": 25,
    "start_time": "2022-04-16T15:09:46.908Z"
   },
   {
    "duration": 1412,
    "start_time": "2022-04-16T15:10:02.205Z"
   },
   {
    "duration": 492,
    "start_time": "2022-04-16T15:10:03.621Z"
   },
   {
    "duration": 37,
    "start_time": "2022-04-16T15:10:04.115Z"
   },
   {
    "duration": 37,
    "start_time": "2022-04-16T15:10:04.157Z"
   },
   {
    "duration": 26,
    "start_time": "2022-04-16T15:10:04.197Z"
   },
   {
    "duration": 27,
    "start_time": "2022-04-16T15:10:04.225Z"
   },
   {
    "duration": 51,
    "start_time": "2022-04-16T15:10:04.255Z"
   },
   {
    "duration": 20,
    "start_time": "2022-04-16T15:10:04.308Z"
   },
   {
    "duration": 124,
    "start_time": "2022-04-16T15:10:04.331Z"
   },
   {
    "duration": 38,
    "start_time": "2022-04-16T15:10:04.460Z"
   },
   {
    "duration": 17,
    "start_time": "2022-04-16T15:10:04.501Z"
   },
   {
    "duration": 43,
    "start_time": "2022-04-16T15:10:04.521Z"
   },
   {
    "duration": 71,
    "start_time": "2022-04-16T15:10:04.593Z"
   },
   {
    "duration": 28,
    "start_time": "2022-04-16T15:10:04.666Z"
   },
   {
    "duration": 67,
    "start_time": "2022-04-16T15:10:04.697Z"
   },
   {
    "duration": 61,
    "start_time": "2022-04-16T15:10:04.767Z"
   },
   {
    "duration": 65,
    "start_time": "2022-04-16T15:10:04.831Z"
   },
   {
    "duration": 34,
    "start_time": "2022-04-16T15:10:04.899Z"
   },
   {
    "duration": 8,
    "start_time": "2022-04-16T15:10:04.935Z"
   },
   {
    "duration": 14,
    "start_time": "2022-04-16T15:10:04.945Z"
   },
   {
    "duration": 38,
    "start_time": "2022-04-16T15:10:04.961Z"
   },
   {
    "duration": 13,
    "start_time": "2022-04-16T15:10:05.001Z"
   },
   {
    "duration": 179,
    "start_time": "2022-04-16T15:10:05.017Z"
   },
   {
    "duration": 0,
    "start_time": "2022-04-16T15:10:05.199Z"
   },
   {
    "duration": 1433,
    "start_time": "2022-04-16T15:10:23.183Z"
   },
   {
    "duration": 490,
    "start_time": "2022-04-16T15:10:24.619Z"
   },
   {
    "duration": 36,
    "start_time": "2022-04-16T15:10:25.111Z"
   },
   {
    "duration": 28,
    "start_time": "2022-04-16T15:10:25.149Z"
   },
   {
    "duration": 34,
    "start_time": "2022-04-16T15:10:25.180Z"
   },
   {
    "duration": 25,
    "start_time": "2022-04-16T15:10:25.216Z"
   },
   {
    "duration": 14,
    "start_time": "2022-04-16T15:10:25.243Z"
   },
   {
    "duration": 43,
    "start_time": "2022-04-16T15:10:25.259Z"
   },
   {
    "duration": 131,
    "start_time": "2022-04-16T15:10:25.304Z"
   },
   {
    "duration": 26,
    "start_time": "2022-04-16T15:10:25.438Z"
   },
   {
    "duration": 39,
    "start_time": "2022-04-16T15:10:25.467Z"
   },
   {
    "duration": 44,
    "start_time": "2022-04-16T15:10:25.508Z"
   },
   {
    "duration": 92,
    "start_time": "2022-04-16T15:10:25.554Z"
   },
   {
    "duration": 10,
    "start_time": "2022-04-16T15:10:25.649Z"
   },
   {
    "duration": 85,
    "start_time": "2022-04-16T15:10:25.661Z"
   },
   {
    "duration": 48,
    "start_time": "2022-04-16T15:10:25.748Z"
   },
   {
    "duration": 38,
    "start_time": "2022-04-16T15:10:25.798Z"
   },
   {
    "duration": 57,
    "start_time": "2022-04-16T15:10:25.838Z"
   },
   {
    "duration": 8,
    "start_time": "2022-04-16T15:10:25.897Z"
   },
   {
    "duration": 9,
    "start_time": "2022-04-16T15:10:25.907Z"
   },
   {
    "duration": 11,
    "start_time": "2022-04-16T15:10:25.918Z"
   },
   {
    "duration": 12,
    "start_time": "2022-04-16T15:10:25.931Z"
   },
   {
    "duration": 74,
    "start_time": "2022-04-16T15:10:25.945Z"
   },
   {
    "duration": 201,
    "start_time": "2022-04-16T15:10:26.021Z"
   },
   {
    "duration": 204,
    "start_time": "2022-04-16T15:11:51.936Z"
   },
   {
    "duration": 31,
    "start_time": "2022-04-16T15:12:01.560Z"
   },
   {
    "duration": 171,
    "start_time": "2022-04-16T16:30:29.760Z"
   },
   {
    "duration": 26,
    "start_time": "2022-04-16T16:31:54.704Z"
   },
   {
    "duration": 202,
    "start_time": "2022-04-16T16:33:07.796Z"
   },
   {
    "duration": 12,
    "start_time": "2022-04-16T16:33:26.232Z"
   },
   {
    "duration": 29,
    "start_time": "2022-04-16T16:53:02.737Z"
   },
   {
    "duration": 30,
    "start_time": "2022-04-16T16:53:22.092Z"
   },
   {
    "duration": 41,
    "start_time": "2022-04-16T16:54:36.625Z"
   },
   {
    "duration": 25,
    "start_time": "2022-04-16T17:02:29.233Z"
   },
   {
    "duration": 22,
    "start_time": "2022-04-16T17:04:49.544Z"
   },
   {
    "duration": 238,
    "start_time": "2022-04-16T17:10:49.037Z"
   },
   {
    "duration": 32,
    "start_time": "2022-04-16T17:11:00.533Z"
   },
   {
    "duration": 28,
    "start_time": "2022-04-16T17:14:09.413Z"
   },
   {
    "duration": 16,
    "start_time": "2022-04-16T17:25:27.727Z"
   },
   {
    "duration": 15,
    "start_time": "2022-04-16T17:29:56.072Z"
   },
   {
    "duration": 15,
    "start_time": "2022-04-16T17:36:12.269Z"
   },
   {
    "duration": 14,
    "start_time": "2022-04-16T17:38:14.845Z"
   },
   {
    "duration": 16,
    "start_time": "2022-04-16T17:38:33.242Z"
   },
   {
    "duration": 26,
    "start_time": "2022-04-16T17:40:24.214Z"
   },
   {
    "duration": 16,
    "start_time": "2022-04-16T17:41:21.350Z"
   },
   {
    "duration": 806,
    "start_time": "2022-04-16T17:44:17.682Z"
   },
   {
    "duration": 19,
    "start_time": "2022-04-16T17:46:02.666Z"
   },
   {
    "duration": 29,
    "start_time": "2022-04-16T17:48:12.125Z"
   },
   {
    "duration": 28,
    "start_time": "2022-04-16T17:48:49.137Z"
   },
   {
    "duration": 27,
    "start_time": "2022-04-16T17:49:47.801Z"
   },
   {
    "duration": 106,
    "start_time": "2022-04-16T17:50:18.889Z"
   },
   {
    "duration": 107,
    "start_time": "2022-04-16T17:50:25.073Z"
   },
   {
    "duration": 123,
    "start_time": "2022-04-16T17:50:36.512Z"
   },
   {
    "duration": 8,
    "start_time": "2022-04-16T17:55:03.238Z"
   },
   {
    "duration": 1381,
    "start_time": "2022-04-16T17:57:20.541Z"
   },
   {
    "duration": 544,
    "start_time": "2022-04-16T17:57:21.925Z"
   },
   {
    "duration": 37,
    "start_time": "2022-04-16T17:57:22.471Z"
   },
   {
    "duration": 29,
    "start_time": "2022-04-16T17:57:22.512Z"
   },
   {
    "duration": 27,
    "start_time": "2022-04-16T17:57:22.543Z"
   },
   {
    "duration": 34,
    "start_time": "2022-04-16T17:57:22.593Z"
   },
   {
    "duration": 16,
    "start_time": "2022-04-16T17:57:22.629Z"
   },
   {
    "duration": 46,
    "start_time": "2022-04-16T17:57:22.647Z"
   },
   {
    "duration": 135,
    "start_time": "2022-04-16T17:57:22.695Z"
   },
   {
    "duration": 27,
    "start_time": "2022-04-16T17:57:22.835Z"
   },
   {
    "duration": 41,
    "start_time": "2022-04-16T17:57:22.864Z"
   },
   {
    "duration": 51,
    "start_time": "2022-04-16T17:57:22.909Z"
   },
   {
    "duration": 87,
    "start_time": "2022-04-16T17:57:22.962Z"
   },
   {
    "duration": 12,
    "start_time": "2022-04-16T17:57:23.052Z"
   },
   {
    "duration": 93,
    "start_time": "2022-04-16T17:57:23.067Z"
   },
   {
    "duration": 55,
    "start_time": "2022-04-16T17:57:23.162Z"
   },
   {
    "duration": 38,
    "start_time": "2022-04-16T17:57:23.219Z"
   },
   {
    "duration": 63,
    "start_time": "2022-04-16T17:57:23.259Z"
   },
   {
    "duration": 8,
    "start_time": "2022-04-16T17:57:23.324Z"
   },
   {
    "duration": 9,
    "start_time": "2022-04-16T17:57:23.334Z"
   },
   {
    "duration": 9,
    "start_time": "2022-04-16T17:57:23.345Z"
   },
   {
    "duration": 191,
    "start_time": "2022-04-16T17:57:23.356Z"
   },
   {
    "duration": 0,
    "start_time": "2022-04-16T17:57:23.550Z"
   },
   {
    "duration": 0,
    "start_time": "2022-04-16T17:57:23.552Z"
   },
   {
    "duration": 1536,
    "start_time": "2022-04-16T17:58:16.332Z"
   },
   {
    "duration": 578,
    "start_time": "2022-04-16T17:58:17.872Z"
   },
   {
    "duration": 36,
    "start_time": "2022-04-16T17:58:18.452Z"
   },
   {
    "duration": 37,
    "start_time": "2022-04-16T17:58:18.491Z"
   },
   {
    "duration": 27,
    "start_time": "2022-04-16T17:58:18.530Z"
   },
   {
    "duration": 65,
    "start_time": "2022-04-16T17:58:18.559Z"
   },
   {
    "duration": 14,
    "start_time": "2022-04-16T17:58:18.626Z"
   },
   {
    "duration": 22,
    "start_time": "2022-04-16T17:58:18.642Z"
   },
   {
    "duration": 157,
    "start_time": "2022-04-16T17:58:18.666Z"
   },
   {
    "duration": 25,
    "start_time": "2022-04-16T17:58:18.827Z"
   },
   {
    "duration": 15,
    "start_time": "2022-04-16T17:58:18.854Z"
   },
   {
    "duration": 46,
    "start_time": "2022-04-16T17:58:18.893Z"
   },
   {
    "duration": 93,
    "start_time": "2022-04-16T17:58:18.941Z"
   },
   {
    "duration": 10,
    "start_time": "2022-04-16T17:58:19.036Z"
   },
   {
    "duration": 86,
    "start_time": "2022-04-16T17:58:19.048Z"
   },
   {
    "duration": 40,
    "start_time": "2022-04-16T17:58:19.136Z"
   },
   {
    "duration": 46,
    "start_time": "2022-04-16T17:58:19.192Z"
   },
   {
    "duration": 56,
    "start_time": "2022-04-16T17:58:19.240Z"
   },
   {
    "duration": 11,
    "start_time": "2022-04-16T17:58:19.300Z"
   },
   {
    "duration": 10,
    "start_time": "2022-04-16T17:58:19.314Z"
   },
   {
    "duration": 11,
    "start_time": "2022-04-16T17:58:19.326Z"
   },
   {
    "duration": 56,
    "start_time": "2022-04-16T17:58:19.339Z"
   },
   {
    "duration": 209,
    "start_time": "2022-04-16T17:58:19.398Z"
   },
   {
    "duration": 0,
    "start_time": "2022-04-16T17:58:19.610Z"
   },
   {
    "duration": 18,
    "start_time": "2022-04-16T18:00:07.892Z"
   },
   {
    "duration": 3430,
    "start_time": "2022-04-16T18:02:13.748Z"
   },
   {
    "duration": 22,
    "start_time": "2022-04-16T18:03:02.081Z"
   },
   {
    "duration": 12,
    "start_time": "2022-04-16T18:03:41.436Z"
   },
   {
    "duration": 28,
    "start_time": "2022-04-16T18:03:52.320Z"
   },
   {
    "duration": 31,
    "start_time": "2022-04-16T18:05:16.680Z"
   },
   {
    "duration": 12,
    "start_time": "2022-04-16T18:07:01.876Z"
   },
   {
    "duration": 13,
    "start_time": "2022-04-16T18:08:06.784Z"
   },
   {
    "duration": 12,
    "start_time": "2022-04-16T18:09:49.272Z"
   },
   {
    "duration": 11,
    "start_time": "2022-04-16T18:10:52.564Z"
   },
   {
    "duration": 118,
    "start_time": "2022-04-16T18:11:17.952Z"
   },
   {
    "duration": 13,
    "start_time": "2022-04-16T18:15:41.888Z"
   },
   {
    "duration": 13,
    "start_time": "2022-04-16T18:15:54.801Z"
   },
   {
    "duration": 210,
    "start_time": "2022-04-16T18:19:37.536Z"
   },
   {
    "duration": 230,
    "start_time": "2022-04-16T18:23:02.091Z"
   },
   {
    "duration": 215,
    "start_time": "2022-04-16T18:29:24.311Z"
   },
   {
    "duration": 29,
    "start_time": "2022-04-16T18:30:43.438Z"
   },
   {
    "duration": 430,
    "start_time": "2022-04-16T18:31:54.947Z"
   },
   {
    "duration": 479,
    "start_time": "2022-04-16T18:33:44.931Z"
   },
   {
    "duration": 466,
    "start_time": "2022-04-16T18:34:21.647Z"
   },
   {
    "duration": 240,
    "start_time": "2022-04-16T18:48:44.875Z"
   },
   {
    "duration": 10,
    "start_time": "2022-04-16T18:48:50.631Z"
   },
   {
    "duration": 12,
    "start_time": "2022-04-16T18:54:24.930Z"
   },
   {
    "duration": 11,
    "start_time": "2022-04-16T18:55:10.158Z"
   },
   {
    "duration": 458,
    "start_time": "2022-04-16T18:58:00.109Z"
   },
   {
    "duration": 428,
    "start_time": "2022-04-16T19:00:12.969Z"
   },
   {
    "duration": 2533,
    "start_time": "2022-04-16T19:00:41.653Z"
   },
   {
    "duration": 463,
    "start_time": "2022-04-16T19:00:52.981Z"
   },
   {
    "duration": 10,
    "start_time": "2022-04-16T19:07:19.828Z"
   },
   {
    "duration": 14,
    "start_time": "2022-04-16T19:07:25.876Z"
   },
   {
    "duration": 1454,
    "start_time": "2022-04-16T19:11:39.052Z"
   },
   {
    "duration": 488,
    "start_time": "2022-04-16T19:11:40.509Z"
   },
   {
    "duration": 36,
    "start_time": "2022-04-16T19:11:40.999Z"
   },
   {
    "duration": 28,
    "start_time": "2022-04-16T19:11:41.038Z"
   },
   {
    "duration": 47,
    "start_time": "2022-04-16T19:11:41.068Z"
   },
   {
    "duration": 24,
    "start_time": "2022-04-16T19:11:41.117Z"
   },
   {
    "duration": 19,
    "start_time": "2022-04-16T19:11:41.143Z"
   },
   {
    "duration": 42,
    "start_time": "2022-04-16T19:11:41.164Z"
   },
   {
    "duration": 117,
    "start_time": "2022-04-16T19:11:41.208Z"
   },
   {
    "duration": 24,
    "start_time": "2022-04-16T19:11:41.329Z"
   },
   {
    "duration": 38,
    "start_time": "2022-04-16T19:11:41.355Z"
   },
   {
    "duration": 42,
    "start_time": "2022-04-16T19:11:41.395Z"
   },
   {
    "duration": 98,
    "start_time": "2022-04-16T19:11:41.439Z"
   },
   {
    "duration": 12,
    "start_time": "2022-04-16T19:11:41.539Z"
   },
   {
    "duration": 90,
    "start_time": "2022-04-16T19:11:41.553Z"
   },
   {
    "duration": 49,
    "start_time": "2022-04-16T19:11:41.645Z"
   },
   {
    "duration": 39,
    "start_time": "2022-04-16T19:11:41.697Z"
   },
   {
    "duration": 63,
    "start_time": "2022-04-16T19:11:41.739Z"
   },
   {
    "duration": 9,
    "start_time": "2022-04-16T19:11:41.805Z"
   },
   {
    "duration": 8,
    "start_time": "2022-04-16T19:11:41.816Z"
   },
   {
    "duration": 17,
    "start_time": "2022-04-16T19:11:41.826Z"
   },
   {
    "duration": 65,
    "start_time": "2022-04-16T19:11:41.845Z"
   },
   {
    "duration": 14,
    "start_time": "2022-04-16T19:11:41.912Z"
   },
   {
    "duration": 455,
    "start_time": "2022-04-16T19:11:41.929Z"
   },
   {
    "duration": 28,
    "start_time": "2022-04-16T19:14:45.857Z"
   },
   {
    "duration": 1450,
    "start_time": "2022-04-16T19:15:45.560Z"
   },
   {
    "duration": 492,
    "start_time": "2022-04-16T19:15:47.013Z"
   },
   {
    "duration": 33,
    "start_time": "2022-04-16T19:15:47.508Z"
   },
   {
    "duration": 28,
    "start_time": "2022-04-16T19:15:47.544Z"
   },
   {
    "duration": 38,
    "start_time": "2022-04-16T19:15:47.574Z"
   },
   {
    "duration": 23,
    "start_time": "2022-04-16T19:15:47.614Z"
   },
   {
    "duration": 14,
    "start_time": "2022-04-16T19:15:47.639Z"
   },
   {
    "duration": 48,
    "start_time": "2022-04-16T19:15:47.655Z"
   },
   {
    "duration": 122,
    "start_time": "2022-04-16T19:15:47.706Z"
   },
   {
    "duration": 25,
    "start_time": "2022-04-16T19:15:47.831Z"
   },
   {
    "duration": 15,
    "start_time": "2022-04-16T19:15:47.858Z"
   },
   {
    "duration": 41,
    "start_time": "2022-04-16T19:15:47.894Z"
   },
   {
    "duration": 98,
    "start_time": "2022-04-16T19:15:47.938Z"
   },
   {
    "duration": 12,
    "start_time": "2022-04-16T19:15:48.039Z"
   },
   {
    "duration": 92,
    "start_time": "2022-04-16T19:15:48.054Z"
   },
   {
    "duration": 54,
    "start_time": "2022-04-16T19:15:48.148Z"
   },
   {
    "duration": 40,
    "start_time": "2022-04-16T19:15:48.205Z"
   },
   {
    "duration": 64,
    "start_time": "2022-04-16T19:15:48.247Z"
   },
   {
    "duration": 10,
    "start_time": "2022-04-16T19:15:48.314Z"
   },
   {
    "duration": 11,
    "start_time": "2022-04-16T19:15:48.326Z"
   },
   {
    "duration": 53,
    "start_time": "2022-04-16T19:15:48.340Z"
   },
   {
    "duration": 28,
    "start_time": "2022-04-16T19:15:48.395Z"
   },
   {
    "duration": 14,
    "start_time": "2022-04-16T19:15:48.425Z"
   },
   {
    "duration": 479,
    "start_time": "2022-04-16T19:15:48.442Z"
   },
   {
    "duration": 7,
    "start_time": "2022-04-16T19:16:27.792Z"
   },
   {
    "duration": 434,
    "start_time": "2022-04-16T19:24:17.687Z"
   },
   {
    "duration": 134,
    "start_time": "2022-04-16T19:25:17.195Z"
   },
   {
    "duration": 19,
    "start_time": "2022-04-16T19:25:38.367Z"
   },
   {
    "duration": 13,
    "start_time": "2022-04-16T19:30:13.039Z"
   },
   {
    "duration": 21,
    "start_time": "2022-04-16T19:31:00.150Z"
   },
   {
    "duration": 23,
    "start_time": "2022-04-16T19:31:38.910Z"
   },
   {
    "duration": 1505,
    "start_time": "2022-04-16T19:31:45.854Z"
   },
   {
    "duration": 557,
    "start_time": "2022-04-16T19:31:47.361Z"
   },
   {
    "duration": 34,
    "start_time": "2022-04-16T19:31:47.921Z"
   },
   {
    "duration": 29,
    "start_time": "2022-04-16T19:31:47.958Z"
   },
   {
    "duration": 32,
    "start_time": "2022-04-16T19:31:47.994Z"
   },
   {
    "duration": 25,
    "start_time": "2022-04-16T19:31:48.028Z"
   },
   {
    "duration": 47,
    "start_time": "2022-04-16T19:31:48.056Z"
   },
   {
    "duration": 19,
    "start_time": "2022-04-16T19:31:48.107Z"
   },
   {
    "duration": 145,
    "start_time": "2022-04-16T19:31:48.129Z"
   },
   {
    "duration": 39,
    "start_time": "2022-04-16T19:31:48.280Z"
   },
   {
    "duration": 16,
    "start_time": "2022-04-16T19:31:48.322Z"
   },
   {
    "duration": 82,
    "start_time": "2022-04-16T19:31:48.341Z"
   },
   {
    "duration": 90,
    "start_time": "2022-04-16T19:31:48.425Z"
   },
   {
    "duration": 13,
    "start_time": "2022-04-16T19:31:48.518Z"
   },
   {
    "duration": 103,
    "start_time": "2022-04-16T19:31:48.534Z"
   },
   {
    "duration": 54,
    "start_time": "2022-04-16T19:31:48.640Z"
   },
   {
    "duration": 44,
    "start_time": "2022-04-16T19:31:48.699Z"
   },
   {
    "duration": 70,
    "start_time": "2022-04-16T19:31:48.746Z"
   },
   {
    "duration": 11,
    "start_time": "2022-04-16T19:31:48.818Z"
   },
   {
    "duration": 15,
    "start_time": "2022-04-16T19:31:48.832Z"
   },
   {
    "duration": 44,
    "start_time": "2022-04-16T19:31:48.849Z"
   },
   {
    "duration": 29,
    "start_time": "2022-04-16T19:31:48.898Z"
   },
   {
    "duration": 13,
    "start_time": "2022-04-16T19:31:48.929Z"
   },
   {
    "duration": 539,
    "start_time": "2022-04-16T19:31:48.944Z"
   },
   {
    "duration": 11,
    "start_time": "2022-04-16T19:31:49.485Z"
   },
   {
    "duration": 43,
    "start_time": "2022-04-16T19:31:49.499Z"
   },
   {
    "duration": 1581,
    "start_time": "2022-04-16T19:33:18.090Z"
   },
   {
    "duration": 596,
    "start_time": "2022-04-16T19:33:19.673Z"
   },
   {
    "duration": 42,
    "start_time": "2022-04-16T19:33:20.272Z"
   },
   {
    "duration": 29,
    "start_time": "2022-04-16T19:33:20.317Z"
   },
   {
    "duration": 51,
    "start_time": "2022-04-16T19:33:20.349Z"
   },
   {
    "duration": 28,
    "start_time": "2022-04-16T19:33:20.403Z"
   },
   {
    "duration": 18,
    "start_time": "2022-04-16T19:33:20.434Z"
   },
   {
    "duration": 55,
    "start_time": "2022-04-16T19:33:20.454Z"
   },
   {
    "duration": 133,
    "start_time": "2022-04-16T19:33:20.512Z"
   },
   {
    "duration": 25,
    "start_time": "2022-04-16T19:33:20.651Z"
   },
   {
    "duration": 34,
    "start_time": "2022-04-16T19:33:20.679Z"
   },
   {
    "duration": 41,
    "start_time": "2022-04-16T19:33:20.715Z"
   },
   {
    "duration": 102,
    "start_time": "2022-04-16T19:33:20.758Z"
   },
   {
    "duration": 10,
    "start_time": "2022-04-16T19:33:20.863Z"
   },
   {
    "duration": 89,
    "start_time": "2022-04-16T19:33:20.875Z"
   },
   {
    "duration": 61,
    "start_time": "2022-04-16T19:33:20.965Z"
   },
   {
    "duration": 39,
    "start_time": "2022-04-16T19:33:21.029Z"
   },
   {
    "duration": 58,
    "start_time": "2022-04-16T19:33:21.070Z"
   },
   {
    "duration": 8,
    "start_time": "2022-04-16T19:33:21.130Z"
   },
   {
    "duration": 8,
    "start_time": "2022-04-16T19:33:21.140Z"
   },
   {
    "duration": 51,
    "start_time": "2022-04-16T19:33:21.150Z"
   },
   {
    "duration": 42,
    "start_time": "2022-04-16T19:33:21.204Z"
   },
   {
    "duration": 13,
    "start_time": "2022-04-16T19:33:21.249Z"
   },
   {
    "duration": 524,
    "start_time": "2022-04-16T19:33:21.265Z"
   },
   {
    "duration": 9,
    "start_time": "2022-04-16T19:33:21.794Z"
   },
   {
    "duration": 26,
    "start_time": "2022-04-16T19:33:21.807Z"
   },
   {
    "duration": 1861,
    "start_time": "2022-04-16T19:34:17.458Z"
   },
   {
    "duration": 528,
    "start_time": "2022-04-16T19:34:19.322Z"
   },
   {
    "duration": 53,
    "start_time": "2022-04-16T19:34:19.852Z"
   },
   {
    "duration": 39,
    "start_time": "2022-04-16T19:34:19.908Z"
   },
   {
    "duration": 56,
    "start_time": "2022-04-16T19:34:19.949Z"
   },
   {
    "duration": 28,
    "start_time": "2022-04-16T19:34:20.007Z"
   },
   {
    "duration": 17,
    "start_time": "2022-04-16T19:34:20.037Z"
   },
   {
    "duration": 46,
    "start_time": "2022-04-16T19:34:20.057Z"
   },
   {
    "duration": 165,
    "start_time": "2022-04-16T19:34:20.106Z"
   },
   {
    "duration": 41,
    "start_time": "2022-04-16T19:34:20.277Z"
   },
   {
    "duration": 16,
    "start_time": "2022-04-16T19:34:20.321Z"
   },
   {
    "duration": 72,
    "start_time": "2022-04-16T19:34:20.340Z"
   },
   {
    "duration": 82,
    "start_time": "2022-04-16T19:34:20.414Z"
   },
   {
    "duration": 11,
    "start_time": "2022-04-16T19:34:20.498Z"
   },
   {
    "duration": 85,
    "start_time": "2022-04-16T19:34:20.511Z"
   },
   {
    "duration": 40,
    "start_time": "2022-04-16T19:34:20.598Z"
   },
   {
    "duration": 58,
    "start_time": "2022-04-16T19:34:20.640Z"
   },
   {
    "duration": 33,
    "start_time": "2022-04-16T19:34:20.700Z"
   },
   {
    "duration": 9,
    "start_time": "2022-04-16T19:34:20.735Z"
   },
   {
    "duration": 47,
    "start_time": "2022-04-16T19:34:20.746Z"
   },
   {
    "duration": 18,
    "start_time": "2022-04-16T19:34:20.795Z"
   },
   {
    "duration": 30,
    "start_time": "2022-04-16T19:34:20.815Z"
   },
   {
    "duration": 13,
    "start_time": "2022-04-16T19:34:20.847Z"
   },
   {
    "duration": 456,
    "start_time": "2022-04-16T19:34:20.894Z"
   },
   {
    "duration": 8,
    "start_time": "2022-04-16T19:34:21.352Z"
   },
   {
    "duration": 33,
    "start_time": "2022-04-16T19:34:21.362Z"
   },
   {
    "duration": 15,
    "start_time": "2022-04-16T19:35:18.578Z"
   },
   {
    "duration": 140,
    "start_time": "2022-04-16T19:35:52.774Z"
   },
   {
    "duration": 1518,
    "start_time": "2022-04-16T19:36:34.929Z"
   },
   {
    "duration": 571,
    "start_time": "2022-04-16T19:36:36.450Z"
   },
   {
    "duration": 37,
    "start_time": "2022-04-16T19:36:37.023Z"
   },
   {
    "duration": 31,
    "start_time": "2022-04-16T19:36:37.064Z"
   },
   {
    "duration": 30,
    "start_time": "2022-04-16T19:36:37.098Z"
   },
   {
    "duration": 27,
    "start_time": "2022-04-16T19:36:37.131Z"
   },
   {
    "duration": 46,
    "start_time": "2022-04-16T19:36:37.160Z"
   },
   {
    "duration": 42,
    "start_time": "2022-04-16T19:36:37.209Z"
   },
   {
    "duration": 139,
    "start_time": "2022-04-16T19:36:37.254Z"
   },
   {
    "duration": 34,
    "start_time": "2022-04-16T19:36:37.399Z"
   },
   {
    "duration": 17,
    "start_time": "2022-04-16T19:36:37.435Z"
   },
   {
    "duration": 71,
    "start_time": "2022-04-16T19:36:37.454Z"
   },
   {
    "duration": 89,
    "start_time": "2022-04-16T19:36:37.527Z"
   },
   {
    "duration": 13,
    "start_time": "2022-04-16T19:36:37.619Z"
   },
   {
    "duration": 102,
    "start_time": "2022-04-16T19:36:37.635Z"
   },
   {
    "duration": 41,
    "start_time": "2022-04-16T19:36:37.739Z"
   },
   {
    "duration": 42,
    "start_time": "2022-04-16T19:36:37.794Z"
   },
   {
    "duration": 66,
    "start_time": "2022-04-16T19:36:37.839Z"
   },
   {
    "duration": 9,
    "start_time": "2022-04-16T19:36:37.908Z"
   },
   {
    "duration": 29,
    "start_time": "2022-04-16T19:36:37.919Z"
   },
   {
    "duration": 17,
    "start_time": "2022-04-16T19:36:37.951Z"
   },
   {
    "duration": 54,
    "start_time": "2022-04-16T19:36:37.970Z"
   },
   {
    "duration": 14,
    "start_time": "2022-04-16T19:36:38.026Z"
   },
   {
    "duration": 507,
    "start_time": "2022-04-16T19:36:38.043Z"
   },
   {
    "duration": 6,
    "start_time": "2022-04-16T19:36:38.552Z"
   },
   {
    "duration": 257,
    "start_time": "2022-04-16T19:39:56.925Z"
   },
   {
    "duration": 5,
    "start_time": "2022-04-16T19:40:08.541Z"
   },
   {
    "duration": 238,
    "start_time": "2022-04-16T19:41:05.582Z"
   },
   {
    "duration": 23,
    "start_time": "2022-04-16T19:41:58.893Z"
   },
   {
    "duration": 33,
    "start_time": "2022-04-16T19:48:05.107Z"
   },
   {
    "duration": 1553,
    "start_time": "2022-04-16T19:48:18.687Z"
   },
   {
    "duration": 569,
    "start_time": "2022-04-16T19:48:20.243Z"
   },
   {
    "duration": 37,
    "start_time": "2022-04-16T19:48:20.814Z"
   },
   {
    "duration": 39,
    "start_time": "2022-04-16T19:48:20.855Z"
   },
   {
    "duration": 37,
    "start_time": "2022-04-16T19:48:20.897Z"
   },
   {
    "duration": 25,
    "start_time": "2022-04-16T19:48:20.936Z"
   },
   {
    "duration": 46,
    "start_time": "2022-04-16T19:48:20.964Z"
   },
   {
    "duration": 28,
    "start_time": "2022-04-16T19:48:21.012Z"
   },
   {
    "duration": 145,
    "start_time": "2022-04-16T19:48:21.042Z"
   },
   {
    "duration": 37,
    "start_time": "2022-04-16T19:48:21.191Z"
   },
   {
    "duration": 24,
    "start_time": "2022-04-16T19:48:21.230Z"
   },
   {
    "duration": 79,
    "start_time": "2022-04-16T19:48:21.256Z"
   },
   {
    "duration": 79,
    "start_time": "2022-04-16T19:48:21.337Z"
   },
   {
    "duration": 11,
    "start_time": "2022-04-16T19:48:21.418Z"
   },
   {
    "duration": 98,
    "start_time": "2022-04-16T19:48:21.431Z"
   },
   {
    "duration": 42,
    "start_time": "2022-04-16T19:48:21.532Z"
   },
   {
    "duration": 64,
    "start_time": "2022-04-16T19:48:21.576Z"
   },
   {
    "duration": 56,
    "start_time": "2022-04-16T19:48:21.642Z"
   },
   {
    "duration": 12,
    "start_time": "2022-04-16T19:48:21.702Z"
   },
   {
    "duration": 17,
    "start_time": "2022-04-16T19:48:21.716Z"
   },
   {
    "duration": 19,
    "start_time": "2022-04-16T19:48:21.735Z"
   },
   {
    "duration": 62,
    "start_time": "2022-04-16T19:48:21.756Z"
   },
   {
    "duration": 36,
    "start_time": "2022-04-16T19:48:21.820Z"
   },
   {
    "duration": 20,
    "start_time": "2022-04-16T19:48:21.859Z"
   },
   {
    "duration": 554,
    "start_time": "2022-04-16T19:48:21.892Z"
   },
   {
    "duration": 6,
    "start_time": "2022-04-16T19:48:22.448Z"
   },
   {
    "duration": 219,
    "start_time": "2022-04-16T19:48:22.457Z"
   },
   {
    "duration": 11,
    "start_time": "2022-04-16T19:49:19.224Z"
   },
   {
    "duration": 1429,
    "start_time": "2022-04-16T19:49:50.635Z"
   },
   {
    "duration": 547,
    "start_time": "2022-04-16T19:49:52.067Z"
   },
   {
    "duration": 36,
    "start_time": "2022-04-16T19:49:52.616Z"
   },
   {
    "duration": 30,
    "start_time": "2022-04-16T19:49:52.654Z"
   },
   {
    "duration": 37,
    "start_time": "2022-04-16T19:49:52.686Z"
   },
   {
    "duration": 25,
    "start_time": "2022-04-16T19:49:52.725Z"
   },
   {
    "duration": 47,
    "start_time": "2022-04-16T19:49:52.753Z"
   },
   {
    "duration": 24,
    "start_time": "2022-04-16T19:49:52.803Z"
   },
   {
    "duration": 132,
    "start_time": "2022-04-16T19:49:52.829Z"
   },
   {
    "duration": 43,
    "start_time": "2022-04-16T19:49:52.965Z"
   },
   {
    "duration": 17,
    "start_time": "2022-04-16T19:49:53.010Z"
   },
   {
    "duration": 65,
    "start_time": "2022-04-16T19:49:53.030Z"
   },
   {
    "duration": 70,
    "start_time": "2022-04-16T19:49:53.099Z"
   },
   {
    "duration": 24,
    "start_time": "2022-04-16T19:49:53.172Z"
   },
   {
    "duration": 78,
    "start_time": "2022-04-16T19:49:53.200Z"
   },
   {
    "duration": 48,
    "start_time": "2022-04-16T19:49:53.297Z"
   },
   {
    "duration": 63,
    "start_time": "2022-04-16T19:49:53.348Z"
   },
   {
    "duration": 33,
    "start_time": "2022-04-16T19:49:53.413Z"
   },
   {
    "duration": 8,
    "start_time": "2022-04-16T19:49:53.448Z"
   },
   {
    "duration": 36,
    "start_time": "2022-04-16T19:49:53.458Z"
   },
   {
    "duration": 26,
    "start_time": "2022-04-16T19:49:53.498Z"
   },
   {
    "duration": 34,
    "start_time": "2022-04-16T19:49:53.526Z"
   },
   {
    "duration": 26,
    "start_time": "2022-04-16T19:49:53.562Z"
   },
   {
    "duration": 20,
    "start_time": "2022-04-16T19:49:53.590Z"
   },
   {
    "duration": 503,
    "start_time": "2022-04-16T19:49:53.613Z"
   },
   {
    "duration": 6,
    "start_time": "2022-04-16T19:49:54.119Z"
   },
   {
    "duration": 181,
    "start_time": "2022-04-16T19:49:54.129Z"
   },
   {
    "duration": 1446,
    "start_time": "2022-04-17T17:39:33.437Z"
   },
   {
    "duration": 416,
    "start_time": "2022-04-17T17:39:34.886Z"
   },
   {
    "duration": 36,
    "start_time": "2022-04-17T17:39:35.304Z"
   },
   {
    "duration": 23,
    "start_time": "2022-04-17T17:39:35.342Z"
   },
   {
    "duration": 36,
    "start_time": "2022-04-17T17:39:35.367Z"
   },
   {
    "duration": 27,
    "start_time": "2022-04-17T17:39:35.405Z"
   },
   {
    "duration": 12,
    "start_time": "2022-04-17T17:39:35.434Z"
   },
   {
    "duration": 17,
    "start_time": "2022-04-17T17:39:35.448Z"
   },
   {
    "duration": 113,
    "start_time": "2022-04-17T17:39:35.467Z"
   },
   {
    "duration": 19,
    "start_time": "2022-04-17T17:39:35.583Z"
   },
   {
    "duration": 13,
    "start_time": "2022-04-17T17:39:35.604Z"
   },
   {
    "duration": 56,
    "start_time": "2022-04-17T17:39:35.620Z"
   },
   {
    "duration": 70,
    "start_time": "2022-04-17T17:39:35.678Z"
   },
   {
    "duration": 7,
    "start_time": "2022-04-17T17:39:35.750Z"
   },
   {
    "duration": 49,
    "start_time": "2022-04-17T17:39:35.759Z"
   },
   {
    "duration": 38,
    "start_time": "2022-04-17T17:39:35.810Z"
   },
   {
    "duration": 26,
    "start_time": "2022-04-17T17:39:35.850Z"
   },
   {
    "duration": 52,
    "start_time": "2022-04-17T17:39:35.878Z"
   },
   {
    "duration": 6,
    "start_time": "2022-04-17T17:39:35.931Z"
   },
   {
    "duration": 11,
    "start_time": "2022-04-17T17:39:35.939Z"
   },
   {
    "duration": 7,
    "start_time": "2022-04-17T17:39:35.951Z"
   },
   {
    "duration": 10,
    "start_time": "2022-04-17T17:39:35.960Z"
   },
   {
    "duration": 32,
    "start_time": "2022-04-17T17:39:35.971Z"
   },
   {
    "duration": 17,
    "start_time": "2022-04-17T17:39:36.005Z"
   },
   {
    "duration": 268,
    "start_time": "2022-04-17T17:39:36.024Z"
   },
   {
    "duration": 30,
    "start_time": "2022-04-17T17:56:06.100Z"
   },
   {
    "duration": 34,
    "start_time": "2022-04-17T17:59:30.448Z"
   },
   {
    "duration": 38,
    "start_time": "2022-04-17T18:02:34.888Z"
   },
   {
    "duration": 28,
    "start_time": "2022-04-17T18:10:07.427Z"
   },
   {
    "duration": 22,
    "start_time": "2022-04-17T18:10:51.588Z"
   },
   {
    "duration": 104,
    "start_time": "2022-04-17T18:16:32.854Z"
   },
   {
    "duration": 1218,
    "start_time": "2022-04-17T18:17:35.000Z"
   },
   {
    "duration": 433,
    "start_time": "2022-04-17T18:17:36.220Z"
   },
   {
    "duration": 24,
    "start_time": "2022-04-17T18:17:36.654Z"
   },
   {
    "duration": 23,
    "start_time": "2022-04-17T18:17:36.680Z"
   },
   {
    "duration": 25,
    "start_time": "2022-04-17T18:17:36.705Z"
   },
   {
    "duration": 17,
    "start_time": "2022-04-17T18:17:36.732Z"
   },
   {
    "duration": 9,
    "start_time": "2022-04-17T18:17:36.750Z"
   },
   {
    "duration": 11,
    "start_time": "2022-04-17T18:17:36.760Z"
   },
   {
    "duration": 104,
    "start_time": "2022-04-17T18:17:36.773Z"
   },
   {
    "duration": 33,
    "start_time": "2022-04-17T18:17:36.879Z"
   },
   {
    "duration": 15,
    "start_time": "2022-04-17T18:17:36.915Z"
   },
   {
    "duration": 31,
    "start_time": "2022-04-17T18:17:36.932Z"
   },
   {
    "duration": 88,
    "start_time": "2022-04-17T18:17:36.965Z"
   },
   {
    "duration": 8,
    "start_time": "2022-04-17T18:17:37.054Z"
   },
   {
    "duration": 50,
    "start_time": "2022-04-17T18:17:37.063Z"
   },
   {
    "duration": 31,
    "start_time": "2022-04-17T18:17:37.115Z"
   },
   {
    "duration": 27,
    "start_time": "2022-04-17T18:17:37.147Z"
   },
   {
    "duration": 51,
    "start_time": "2022-04-17T18:17:37.175Z"
   },
   {
    "duration": 6,
    "start_time": "2022-04-17T18:17:37.227Z"
   },
   {
    "duration": 8,
    "start_time": "2022-04-17T18:17:37.235Z"
   },
   {
    "duration": 6,
    "start_time": "2022-04-17T18:17:37.245Z"
   },
   {
    "duration": 10,
    "start_time": "2022-04-17T18:17:37.252Z"
   },
   {
    "duration": 42,
    "start_time": "2022-04-17T18:17:37.264Z"
   },
   {
    "duration": 13,
    "start_time": "2022-04-17T18:17:37.308Z"
   },
   {
    "duration": 257,
    "start_time": "2022-04-17T18:17:37.323Z"
   },
   {
    "duration": 7,
    "start_time": "2022-04-17T18:17:37.582Z"
   },
   {
    "duration": 35,
    "start_time": "2022-04-17T18:17:37.599Z"
   },
   {
    "duration": 26,
    "start_time": "2022-04-17T18:20:39.282Z"
   },
   {
    "duration": 44,
    "start_time": "2022-04-17T18:20:55.690Z"
   },
   {
    "duration": 67,
    "start_time": "2022-04-17T18:21:21.898Z"
   },
   {
    "duration": 66,
    "start_time": "2022-04-17T18:23:06.518Z"
   },
   {
    "duration": 59,
    "start_time": "2022-04-17T18:24:00.182Z"
   },
   {
    "duration": 57,
    "start_time": "2022-04-17T18:24:16.030Z"
   },
   {
    "duration": 36,
    "start_time": "2022-04-17T18:24:40.670Z"
   },
   {
    "duration": 29,
    "start_time": "2022-04-17T18:25:34.702Z"
   },
   {
    "duration": 51,
    "start_time": "2022-04-17T18:26:01.978Z"
   },
   {
    "duration": 43,
    "start_time": "2022-04-17T18:27:36.886Z"
   },
   {
    "duration": 28,
    "start_time": "2022-04-17T18:28:27.461Z"
   },
   {
    "duration": 70,
    "start_time": "2022-04-17T18:28:29.697Z"
   },
   {
    "duration": 27,
    "start_time": "2022-04-17T18:28:39.653Z"
   },
   {
    "duration": 29,
    "start_time": "2022-04-17T18:28:45.969Z"
   },
   {
    "duration": 1229,
    "start_time": "2022-04-17T18:29:14.876Z"
   },
   {
    "duration": 454,
    "start_time": "2022-04-17T18:29:16.107Z"
   },
   {
    "duration": 23,
    "start_time": "2022-04-17T18:29:16.562Z"
   },
   {
    "duration": 20,
    "start_time": "2022-04-17T18:29:16.587Z"
   },
   {
    "duration": 36,
    "start_time": "2022-04-17T18:29:16.609Z"
   },
   {
    "duration": 23,
    "start_time": "2022-04-17T18:29:16.647Z"
   },
   {
    "duration": 9,
    "start_time": "2022-04-17T18:29:16.671Z"
   },
   {
    "duration": 20,
    "start_time": "2022-04-17T18:29:16.682Z"
   },
   {
    "duration": 93,
    "start_time": "2022-04-17T18:29:16.707Z"
   },
   {
    "duration": 24,
    "start_time": "2022-04-17T18:29:16.804Z"
   },
   {
    "duration": 21,
    "start_time": "2022-04-17T18:29:16.830Z"
   },
   {
    "duration": 43,
    "start_time": "2022-04-17T18:29:16.852Z"
   },
   {
    "duration": 59,
    "start_time": "2022-04-17T18:29:16.903Z"
   },
   {
    "duration": 7,
    "start_time": "2022-04-17T18:29:16.964Z"
   },
   {
    "duration": 74,
    "start_time": "2022-04-17T18:29:16.972Z"
   },
   {
    "duration": 28,
    "start_time": "2022-04-17T18:29:17.048Z"
   },
   {
    "duration": 55,
    "start_time": "2022-04-17T18:29:17.078Z"
   },
   {
    "duration": 23,
    "start_time": "2022-04-17T18:29:17.135Z"
   },
   {
    "duration": 6,
    "start_time": "2022-04-17T18:29:17.160Z"
   },
   {
    "duration": 6,
    "start_time": "2022-04-17T18:29:17.167Z"
   },
   {
    "duration": 34,
    "start_time": "2022-04-17T18:29:17.174Z"
   },
   {
    "duration": 38,
    "start_time": "2022-04-17T18:29:17.211Z"
   },
   {
    "duration": 16,
    "start_time": "2022-04-17T18:29:17.252Z"
   },
   {
    "duration": 8,
    "start_time": "2022-04-17T18:29:17.270Z"
   },
   {
    "duration": 292,
    "start_time": "2022-04-17T18:29:17.280Z"
   },
   {
    "duration": 27,
    "start_time": "2022-04-17T18:29:17.574Z"
   },
   {
    "duration": 53,
    "start_time": "2022-04-17T18:29:17.602Z"
   },
   {
    "duration": 69,
    "start_time": "2022-04-17T18:29:17.658Z"
   },
   {
    "duration": 29,
    "start_time": "2022-04-17T18:32:27.242Z"
   },
   {
    "duration": 28,
    "start_time": "2022-04-17T18:32:59.535Z"
   },
   {
    "duration": 29,
    "start_time": "2022-04-17T18:34:13.223Z"
   },
   {
    "duration": 28,
    "start_time": "2022-04-17T18:54:41.371Z"
   },
   {
    "duration": 10,
    "start_time": "2022-04-17T18:54:56.363Z"
   },
   {
    "duration": 8,
    "start_time": "2022-04-17T18:55:07.072Z"
   },
   {
    "duration": 62,
    "start_time": "2022-04-17T18:55:17.624Z"
   },
   {
    "duration": 27,
    "start_time": "2022-04-17T18:55:31.736Z"
   },
   {
    "duration": 35,
    "start_time": "2022-04-17T18:56:06.144Z"
   },
   {
    "duration": 38,
    "start_time": "2022-04-17T18:56:07.821Z"
   },
   {
    "duration": 15,
    "start_time": "2022-04-17T19:17:49.963Z"
   },
   {
    "duration": 17,
    "start_time": "2022-04-17T19:18:01.431Z"
   },
   {
    "duration": 26,
    "start_time": "2022-04-17T19:21:49.302Z"
   },
   {
    "duration": 27,
    "start_time": "2022-04-17T19:21:54.622Z"
   },
   {
    "duration": 11,
    "start_time": "2022-04-17T19:30:51.398Z"
   },
   {
    "duration": 115,
    "start_time": "2022-04-17T19:31:32.923Z"
   },
   {
    "duration": 19,
    "start_time": "2022-04-17T19:31:46.758Z"
   },
   {
    "duration": 17,
    "start_time": "2022-04-17T19:35:20.793Z"
   },
   {
    "duration": 13,
    "start_time": "2022-04-17T19:36:04.292Z"
   },
   {
    "duration": 4,
    "start_time": "2022-04-17T19:43:46.764Z"
   },
   {
    "duration": 6,
    "start_time": "2022-04-17T19:44:14.169Z"
   },
   {
    "duration": 15,
    "start_time": "2022-04-17T19:47:41.546Z"
   },
   {
    "duration": 19,
    "start_time": "2022-04-17T19:51:39.298Z"
   },
   {
    "duration": 18,
    "start_time": "2022-04-17T19:54:48.550Z"
   },
   {
    "duration": 13,
    "start_time": "2022-04-17T19:54:57.997Z"
   },
   {
    "duration": 34,
    "start_time": "2022-04-17T19:55:01.022Z"
   },
   {
    "duration": 1184,
    "start_time": "2022-04-17T19:55:09.917Z"
   },
   {
    "duration": 469,
    "start_time": "2022-04-17T19:55:11.103Z"
   },
   {
    "duration": 25,
    "start_time": "2022-04-17T19:55:11.573Z"
   },
   {
    "duration": 27,
    "start_time": "2022-04-17T19:55:11.600Z"
   },
   {
    "duration": 18,
    "start_time": "2022-04-17T19:55:11.629Z"
   },
   {
    "duration": 18,
    "start_time": "2022-04-17T19:55:11.648Z"
   },
   {
    "duration": 9,
    "start_time": "2022-04-17T19:55:11.667Z"
   },
   {
    "duration": 13,
    "start_time": "2022-04-17T19:55:11.700Z"
   },
   {
    "duration": 132,
    "start_time": "2022-04-17T19:55:11.715Z"
   },
   {
    "duration": 26,
    "start_time": "2022-04-17T19:55:11.848Z"
   },
   {
    "duration": 24,
    "start_time": "2022-04-17T19:55:11.876Z"
   },
   {
    "duration": 35,
    "start_time": "2022-04-17T19:55:11.902Z"
   },
   {
    "duration": 68,
    "start_time": "2022-04-17T19:55:11.938Z"
   },
   {
    "duration": 9,
    "start_time": "2022-04-17T19:55:12.010Z"
   },
   {
    "duration": 51,
    "start_time": "2022-04-17T19:55:12.021Z"
   },
   {
    "duration": 52,
    "start_time": "2022-04-17T19:55:12.074Z"
   },
   {
    "duration": 29,
    "start_time": "2022-04-17T19:55:12.130Z"
   },
   {
    "duration": 43,
    "start_time": "2022-04-17T19:55:12.161Z"
   },
   {
    "duration": 7,
    "start_time": "2022-04-17T19:55:12.206Z"
   },
   {
    "duration": 13,
    "start_time": "2022-04-17T19:55:12.215Z"
   },
   {
    "duration": 9,
    "start_time": "2022-04-17T19:55:12.229Z"
   },
   {
    "duration": 11,
    "start_time": "2022-04-17T19:55:12.239Z"
   },
   {
    "duration": 18,
    "start_time": "2022-04-17T19:55:12.252Z"
   },
   {
    "duration": 39,
    "start_time": "2022-04-17T19:55:12.271Z"
   },
   {
    "duration": 262,
    "start_time": "2022-04-17T19:55:12.312Z"
   },
   {
    "duration": 37,
    "start_time": "2022-04-17T19:55:12.575Z"
   },
   {
    "duration": 16,
    "start_time": "2022-04-17T19:55:12.615Z"
   },
   {
    "duration": 13,
    "start_time": "2022-04-17T19:55:12.633Z"
   },
   {
    "duration": 15,
    "start_time": "2022-04-17T19:55:12.648Z"
   },
   {
    "duration": 5,
    "start_time": "2022-04-17T19:55:12.665Z"
   },
   {
    "duration": 102,
    "start_time": "2022-04-17T19:55:12.700Z"
   },
   {
    "duration": 0,
    "start_time": "2022-04-17T19:55:12.804Z"
   },
   {
    "duration": 0,
    "start_time": "2022-04-17T19:55:12.805Z"
   },
   {
    "duration": 6,
    "start_time": "2022-04-17T19:59:23.751Z"
   },
   {
    "duration": 6,
    "start_time": "2022-04-17T20:12:31.882Z"
   },
   {
    "duration": 6,
    "start_time": "2022-04-17T20:12:56.909Z"
   },
   {
    "duration": 11,
    "start_time": "2022-04-17T20:14:39.005Z"
   },
   {
    "duration": 6,
    "start_time": "2022-04-17T20:14:58.541Z"
   },
   {
    "duration": 6,
    "start_time": "2022-04-17T20:15:16.825Z"
   },
   {
    "duration": 6,
    "start_time": "2022-04-17T20:15:34.801Z"
   },
   {
    "duration": 6,
    "start_time": "2022-04-17T20:15:45.881Z"
   },
   {
    "duration": 13,
    "start_time": "2022-04-17T20:17:26.305Z"
   },
   {
    "duration": 21,
    "start_time": "2022-04-17T20:18:42.593Z"
   },
   {
    "duration": 10,
    "start_time": "2022-04-17T20:18:54.913Z"
   },
   {
    "duration": 16,
    "start_time": "2022-04-17T20:19:04.885Z"
   },
   {
    "duration": 12,
    "start_time": "2022-04-17T20:20:12.042Z"
   },
   {
    "duration": 17,
    "start_time": "2022-04-17T20:20:22.677Z"
   },
   {
    "duration": 9,
    "start_time": "2022-04-17T20:20:57.797Z"
   },
   {
    "duration": 39,
    "start_time": "2022-04-17T20:21:05.981Z"
   },
   {
    "duration": 27,
    "start_time": "2022-04-17T20:22:25.409Z"
   },
   {
    "duration": 27,
    "start_time": "2022-04-17T20:23:45.661Z"
   },
   {
    "duration": 18,
    "start_time": "2022-04-17T20:28:47.881Z"
   },
   {
    "duration": 27,
    "start_time": "2022-04-17T20:28:57.181Z"
   },
   {
    "duration": 26,
    "start_time": "2022-04-17T20:31:23.721Z"
   },
   {
    "duration": 516,
    "start_time": "2022-04-17T20:34:04.221Z"
   },
   {
    "duration": 234,
    "start_time": "2022-04-17T20:34:45.629Z"
   },
   {
    "duration": 831,
    "start_time": "2022-04-17T20:35:25.065Z"
   },
   {
    "duration": 869,
    "start_time": "2022-04-17T20:35:35.457Z"
   },
   {
    "duration": 440,
    "start_time": "2022-04-17T20:36:28.666Z"
   },
   {
    "duration": 521,
    "start_time": "2022-04-17T20:37:01.158Z"
   },
   {
    "duration": 867,
    "start_time": "2022-04-17T20:37:24.238Z"
   },
   {
    "duration": 1023,
    "start_time": "2022-04-17T20:37:26.150Z"
   },
   {
    "duration": 557,
    "start_time": "2022-04-17T20:37:47.034Z"
   },
   {
    "duration": 729,
    "start_time": "2022-04-17T20:38:19.338Z"
   },
   {
    "duration": 600,
    "start_time": "2022-04-17T20:41:00.343Z"
   },
   {
    "duration": 594,
    "start_time": "2022-04-17T20:41:06.606Z"
   },
   {
    "duration": 752,
    "start_time": "2022-04-17T20:41:07.226Z"
   },
   {
    "duration": 108,
    "start_time": "2022-04-17T20:45:37.673Z"
   },
   {
    "duration": 10,
    "start_time": "2022-04-17T20:50:32.760Z"
   },
   {
    "duration": 16,
    "start_time": "2022-04-17T20:51:07.552Z"
   },
   {
    "duration": 44,
    "start_time": "2022-04-17T20:57:23.487Z"
   },
   {
    "duration": 45,
    "start_time": "2022-04-17T20:57:25.987Z"
   },
   {
    "duration": 37,
    "start_time": "2022-04-17T20:57:41.556Z"
   },
   {
    "duration": 1444,
    "start_time": "2022-04-18T09:34:15.405Z"
   },
   {
    "duration": 447,
    "start_time": "2022-04-18T09:34:16.851Z"
   },
   {
    "duration": 27,
    "start_time": "2022-04-18T09:34:17.299Z"
   },
   {
    "duration": 27,
    "start_time": "2022-04-18T09:34:17.329Z"
   },
   {
    "duration": 25,
    "start_time": "2022-04-18T09:34:17.358Z"
   },
   {
    "duration": 49,
    "start_time": "2022-04-18T09:34:17.386Z"
   },
   {
    "duration": 12,
    "start_time": "2022-04-18T09:34:17.437Z"
   },
   {
    "duration": 15,
    "start_time": "2022-04-18T09:34:17.451Z"
   },
   {
    "duration": 91,
    "start_time": "2022-04-18T09:34:17.469Z"
   },
   {
    "duration": 35,
    "start_time": "2022-04-18T09:34:17.563Z"
   },
   {
    "duration": 11,
    "start_time": "2022-04-18T09:34:17.601Z"
   },
   {
    "duration": 63,
    "start_time": "2022-04-18T09:34:17.614Z"
   },
   {
    "duration": 53,
    "start_time": "2022-04-18T09:34:17.681Z"
   },
   {
    "duration": 10,
    "start_time": "2022-04-18T09:34:17.736Z"
   },
   {
    "duration": 75,
    "start_time": "2022-04-18T09:34:17.748Z"
   },
   {
    "duration": 54,
    "start_time": "2022-04-18T09:34:17.826Z"
   },
   {
    "duration": 30,
    "start_time": "2022-04-18T09:34:17.882Z"
   },
   {
    "duration": 24,
    "start_time": "2022-04-18T09:34:17.914Z"
   },
   {
    "duration": 6,
    "start_time": "2022-04-18T09:34:17.940Z"
   },
   {
    "duration": 37,
    "start_time": "2022-04-18T09:34:17.948Z"
   },
   {
    "duration": 21,
    "start_time": "2022-04-18T09:34:17.987Z"
   },
   {
    "duration": 17,
    "start_time": "2022-04-18T09:34:18.009Z"
   },
   {
    "duration": 21,
    "start_time": "2022-04-18T09:34:18.028Z"
   },
   {
    "duration": 10,
    "start_time": "2022-04-18T09:34:18.051Z"
   },
   {
    "duration": 268,
    "start_time": "2022-04-18T09:34:18.078Z"
   },
   {
    "duration": 43,
    "start_time": "2022-04-18T09:34:18.348Z"
   },
   {
    "duration": 16,
    "start_time": "2022-04-18T09:34:18.394Z"
   },
   {
    "duration": 15,
    "start_time": "2022-04-18T09:34:18.414Z"
   },
   {
    "duration": 16,
    "start_time": "2022-04-18T09:34:18.431Z"
   },
   {
    "duration": 24,
    "start_time": "2022-04-18T09:34:18.474Z"
   },
   {
    "duration": 29,
    "start_time": "2022-04-18T09:34:18.500Z"
   },
   {
    "duration": 55,
    "start_time": "2022-04-18T09:34:18.532Z"
   },
   {
    "duration": 786,
    "start_time": "2022-04-18T09:34:18.589Z"
   },
   {
    "duration": 881,
    "start_time": "2022-04-18T09:34:19.378Z"
   },
   {
    "duration": 27,
    "start_time": "2022-04-18T09:34:20.262Z"
   },
   {
    "duration": 17,
    "start_time": "2022-04-18T09:40:25.521Z"
   },
   {
    "duration": 11,
    "start_time": "2022-04-18T09:44:03.262Z"
   },
   {
    "duration": 1096,
    "start_time": "2022-04-18T09:44:15.064Z"
   },
   {
    "duration": 425,
    "start_time": "2022-04-18T09:44:16.162Z"
   },
   {
    "duration": 27,
    "start_time": "2022-04-18T09:44:16.589Z"
   },
   {
    "duration": 21,
    "start_time": "2022-04-18T09:44:16.618Z"
   },
   {
    "duration": 28,
    "start_time": "2022-04-18T09:44:16.641Z"
   },
   {
    "duration": 17,
    "start_time": "2022-04-18T09:44:16.671Z"
   },
   {
    "duration": 36,
    "start_time": "2022-04-18T09:44:16.690Z"
   },
   {
    "duration": 17,
    "start_time": "2022-04-18T09:44:16.728Z"
   },
   {
    "duration": 15,
    "start_time": "2022-04-18T09:44:16.746Z"
   },
   {
    "duration": 86,
    "start_time": "2022-04-18T09:44:16.763Z"
   },
   {
    "duration": 27,
    "start_time": "2022-04-18T09:44:16.850Z"
   },
   {
    "duration": 11,
    "start_time": "2022-04-18T09:44:16.879Z"
   },
   {
    "duration": 32,
    "start_time": "2022-04-18T09:44:16.891Z"
   },
   {
    "duration": 74,
    "start_time": "2022-04-18T09:44:16.925Z"
   },
   {
    "duration": 8,
    "start_time": "2022-04-18T09:44:17.001Z"
   },
   {
    "duration": 63,
    "start_time": "2022-04-18T09:44:17.010Z"
   },
   {
    "duration": 31,
    "start_time": "2022-04-18T09:44:17.074Z"
   },
   {
    "duration": 28,
    "start_time": "2022-04-18T09:44:17.107Z"
   },
   {
    "duration": 48,
    "start_time": "2022-04-18T09:44:17.136Z"
   },
   {
    "duration": 6,
    "start_time": "2022-04-18T09:44:17.185Z"
   },
   {
    "duration": 26,
    "start_time": "2022-04-18T09:44:17.193Z"
   },
   {
    "duration": 10,
    "start_time": "2022-04-18T09:44:17.220Z"
   },
   {
    "duration": 20,
    "start_time": "2022-04-18T09:44:17.231Z"
   },
   {
    "duration": 21,
    "start_time": "2022-04-18T09:44:17.252Z"
   },
   {
    "duration": 9,
    "start_time": "2022-04-18T09:44:17.274Z"
   },
   {
    "duration": 240,
    "start_time": "2022-04-18T09:44:17.285Z"
   },
   {
    "duration": 46,
    "start_time": "2022-04-18T09:44:17.527Z"
   },
   {
    "duration": 17,
    "start_time": "2022-04-18T09:44:17.577Z"
   },
   {
    "duration": 16,
    "start_time": "2022-04-18T09:44:17.596Z"
   },
   {
    "duration": 21,
    "start_time": "2022-04-18T09:44:17.614Z"
   },
   {
    "duration": 41,
    "start_time": "2022-04-18T09:44:17.638Z"
   },
   {
    "duration": 26,
    "start_time": "2022-04-18T09:44:17.681Z"
   },
   {
    "duration": 30,
    "start_time": "2022-04-18T09:44:17.710Z"
   },
   {
    "duration": 747,
    "start_time": "2022-04-18T09:44:17.742Z"
   },
   {
    "duration": 765,
    "start_time": "2022-04-18T09:44:18.491Z"
   },
   {
    "duration": 29,
    "start_time": "2022-04-18T09:44:19.258Z"
   },
   {
    "duration": 1157,
    "start_time": "2022-04-18T11:19:17.277Z"
   },
   {
    "duration": 386,
    "start_time": "2022-04-18T11:19:18.436Z"
   },
   {
    "duration": 28,
    "start_time": "2022-04-18T11:19:18.824Z"
   },
   {
    "duration": 23,
    "start_time": "2022-04-18T11:19:18.855Z"
   },
   {
    "duration": 13,
    "start_time": "2022-04-18T11:19:18.880Z"
   },
   {
    "duration": 15,
    "start_time": "2022-04-18T11:19:18.895Z"
   },
   {
    "duration": 19,
    "start_time": "2022-04-18T11:19:18.912Z"
   },
   {
    "duration": 10,
    "start_time": "2022-04-18T11:19:18.933Z"
   },
   {
    "duration": 38,
    "start_time": "2022-04-18T11:19:18.945Z"
   },
   {
    "duration": 94,
    "start_time": "2022-04-18T11:19:18.986Z"
   },
   {
    "duration": 19,
    "start_time": "2022-04-18T11:19:19.082Z"
   },
   {
    "duration": 11,
    "start_time": "2022-04-18T11:19:19.103Z"
   },
   {
    "duration": 61,
    "start_time": "2022-04-18T11:19:19.115Z"
   },
   {
    "duration": 50,
    "start_time": "2022-04-18T11:19:19.177Z"
   },
   {
    "duration": 8,
    "start_time": "2022-04-18T11:19:19.229Z"
   },
   {
    "duration": 72,
    "start_time": "2022-04-18T11:19:19.238Z"
   },
   {
    "duration": 31,
    "start_time": "2022-04-18T11:19:19.312Z"
   },
   {
    "duration": 47,
    "start_time": "2022-04-18T11:19:19.345Z"
   },
   {
    "duration": 22,
    "start_time": "2022-04-18T11:19:19.394Z"
   },
   {
    "duration": 6,
    "start_time": "2022-04-18T11:19:19.418Z"
   },
   {
    "duration": 12,
    "start_time": "2022-04-18T11:19:19.425Z"
   },
   {
    "duration": 11,
    "start_time": "2022-04-18T11:19:19.439Z"
   },
   {
    "duration": 30,
    "start_time": "2022-04-18T11:19:19.452Z"
   },
   {
    "duration": 21,
    "start_time": "2022-04-18T11:19:19.484Z"
   },
   {
    "duration": 11,
    "start_time": "2022-04-18T11:19:19.508Z"
   },
   {
    "duration": 283,
    "start_time": "2022-04-18T11:19:19.521Z"
   },
   {
    "duration": 31,
    "start_time": "2022-04-18T11:19:19.807Z"
   },
   {
    "duration": 32,
    "start_time": "2022-04-18T11:19:19.843Z"
   },
   {
    "duration": 20,
    "start_time": "2022-04-18T11:19:19.877Z"
   },
   {
    "duration": 17,
    "start_time": "2022-04-18T11:19:19.898Z"
   },
   {
    "duration": 13,
    "start_time": "2022-04-18T11:19:19.917Z"
   },
   {
    "duration": 18,
    "start_time": "2022-04-18T11:19:19.931Z"
   },
   {
    "duration": 50,
    "start_time": "2022-04-18T11:19:19.950Z"
   },
   {
    "duration": 742,
    "start_time": "2022-04-18T11:19:20.002Z"
   },
   {
    "duration": 789,
    "start_time": "2022-04-18T11:19:20.745Z"
   },
   {
    "duration": 20,
    "start_time": "2022-04-18T11:19:21.536Z"
   },
   {
    "duration": 109,
    "start_time": "2022-04-18T11:21:44.706Z"
   },
   {
    "duration": 1138,
    "start_time": "2022-04-18T11:22:08.403Z"
   },
   {
    "duration": 400,
    "start_time": "2022-04-18T11:22:09.543Z"
   },
   {
    "duration": 27,
    "start_time": "2022-04-18T11:22:09.945Z"
   },
   {
    "duration": 21,
    "start_time": "2022-04-18T11:22:09.974Z"
   },
   {
    "duration": 12,
    "start_time": "2022-04-18T11:22:09.997Z"
   },
   {
    "duration": 15,
    "start_time": "2022-04-18T11:22:10.011Z"
   },
   {
    "duration": 47,
    "start_time": "2022-04-18T11:22:10.028Z"
   },
   {
    "duration": 11,
    "start_time": "2022-04-18T11:22:10.078Z"
   },
   {
    "duration": 11,
    "start_time": "2022-04-18T11:22:10.090Z"
   },
   {
    "duration": 109,
    "start_time": "2022-04-18T11:22:10.105Z"
   },
   {
    "duration": 21,
    "start_time": "2022-04-18T11:22:10.216Z"
   },
   {
    "duration": 11,
    "start_time": "2022-04-18T11:22:10.239Z"
   },
   {
    "duration": 55,
    "start_time": "2022-04-18T11:22:10.252Z"
   },
   {
    "duration": 68,
    "start_time": "2022-04-18T11:22:10.309Z"
   },
   {
    "duration": 8,
    "start_time": "2022-04-18T11:22:10.379Z"
   },
   {
    "duration": 53,
    "start_time": "2022-04-18T11:22:10.389Z"
   },
   {
    "duration": 54,
    "start_time": "2022-04-18T11:22:10.443Z"
   },
   {
    "duration": 29,
    "start_time": "2022-04-18T11:22:10.499Z"
   },
   {
    "duration": 23,
    "start_time": "2022-04-18T11:22:10.530Z"
   },
   {
    "duration": 7,
    "start_time": "2022-04-18T11:22:10.573Z"
   },
   {
    "duration": 10,
    "start_time": "2022-04-18T11:22:10.581Z"
   },
   {
    "duration": 7,
    "start_time": "2022-04-18T11:22:10.593Z"
   },
   {
    "duration": 17,
    "start_time": "2022-04-18T11:22:10.601Z"
   },
   {
    "duration": 20,
    "start_time": "2022-04-18T11:22:10.620Z"
   },
   {
    "duration": 41,
    "start_time": "2022-04-18T11:22:10.642Z"
   },
   {
    "duration": 123,
    "start_time": "2022-04-18T11:22:10.685Z"
   },
   {
    "duration": 0,
    "start_time": "2022-04-18T11:22:10.811Z"
   },
   {
    "duration": 0,
    "start_time": "2022-04-18T11:22:10.812Z"
   },
   {
    "duration": 0,
    "start_time": "2022-04-18T11:22:10.813Z"
   },
   {
    "duration": 0,
    "start_time": "2022-04-18T11:22:10.815Z"
   },
   {
    "duration": 0,
    "start_time": "2022-04-18T11:22:10.816Z"
   },
   {
    "duration": 0,
    "start_time": "2022-04-18T11:22:10.818Z"
   },
   {
    "duration": 0,
    "start_time": "2022-04-18T11:22:10.819Z"
   },
   {
    "duration": 0,
    "start_time": "2022-04-18T11:22:10.820Z"
   },
   {
    "duration": 0,
    "start_time": "2022-04-18T11:22:10.822Z"
   },
   {
    "duration": 0,
    "start_time": "2022-04-18T11:22:10.823Z"
   },
   {
    "duration": 237,
    "start_time": "2022-04-18T11:22:46.586Z"
   },
   {
    "duration": 1120,
    "start_time": "2022-04-18T11:24:13.430Z"
   },
   {
    "duration": 403,
    "start_time": "2022-04-18T11:24:14.552Z"
   },
   {
    "duration": 26,
    "start_time": "2022-04-18T11:24:14.957Z"
   },
   {
    "duration": 27,
    "start_time": "2022-04-18T11:24:14.985Z"
   },
   {
    "duration": 15,
    "start_time": "2022-04-18T11:24:15.015Z"
   },
   {
    "duration": 17,
    "start_time": "2022-04-18T11:24:15.031Z"
   },
   {
    "duration": 44,
    "start_time": "2022-04-18T11:24:15.050Z"
   },
   {
    "duration": 10,
    "start_time": "2022-04-18T11:24:15.096Z"
   },
   {
    "duration": 13,
    "start_time": "2022-04-18T11:24:15.108Z"
   },
   {
    "duration": 103,
    "start_time": "2022-04-18T11:24:15.123Z"
   },
   {
    "duration": 19,
    "start_time": "2022-04-18T11:24:15.228Z"
   },
   {
    "duration": 25,
    "start_time": "2022-04-18T11:24:15.249Z"
   },
   {
    "duration": 36,
    "start_time": "2022-04-18T11:24:15.276Z"
   },
   {
    "duration": 65,
    "start_time": "2022-04-18T11:24:15.315Z"
   },
   {
    "duration": 9,
    "start_time": "2022-04-18T11:24:15.381Z"
   },
   {
    "duration": 58,
    "start_time": "2022-04-18T11:24:15.392Z"
   },
   {
    "duration": 50,
    "start_time": "2022-04-18T11:24:15.452Z"
   },
   {
    "duration": 30,
    "start_time": "2022-04-18T11:24:15.503Z"
   },
   {
    "duration": 39,
    "start_time": "2022-04-18T11:24:15.535Z"
   },
   {
    "duration": 6,
    "start_time": "2022-04-18T11:24:15.576Z"
   },
   {
    "duration": 11,
    "start_time": "2022-04-18T11:24:15.584Z"
   },
   {
    "duration": 10,
    "start_time": "2022-04-18T11:24:15.597Z"
   },
   {
    "duration": 14,
    "start_time": "2022-04-18T11:24:15.609Z"
   },
   {
    "duration": 19,
    "start_time": "2022-04-18T11:24:15.625Z"
   },
   {
    "duration": 30,
    "start_time": "2022-04-18T11:24:15.645Z"
   },
   {
    "duration": 13,
    "start_time": "2022-04-18T11:24:15.677Z"
   },
   {
    "duration": 0,
    "start_time": "2022-04-18T11:24:15.692Z"
   },
   {
    "duration": 0,
    "start_time": "2022-04-18T11:24:15.694Z"
   },
   {
    "duration": 0,
    "start_time": "2022-04-18T11:24:15.695Z"
   },
   {
    "duration": 0,
    "start_time": "2022-04-18T11:24:15.697Z"
   },
   {
    "duration": 0,
    "start_time": "2022-04-18T11:24:15.698Z"
   },
   {
    "duration": 0,
    "start_time": "2022-04-18T11:24:15.700Z"
   },
   {
    "duration": 0,
    "start_time": "2022-04-18T11:24:15.701Z"
   },
   {
    "duration": 0,
    "start_time": "2022-04-18T11:24:15.703Z"
   },
   {
    "duration": 0,
    "start_time": "2022-04-18T11:24:15.704Z"
   },
   {
    "duration": 0,
    "start_time": "2022-04-18T11:24:15.705Z"
   },
   {
    "duration": 233,
    "start_time": "2022-04-18T11:24:45.493Z"
   },
   {
    "duration": 32,
    "start_time": "2022-04-18T11:24:52.376Z"
   },
   {
    "duration": 18,
    "start_time": "2022-04-18T11:24:52.581Z"
   },
   {
    "duration": 14,
    "start_time": "2022-04-18T11:24:52.793Z"
   },
   {
    "duration": 16,
    "start_time": "2022-04-18T11:24:53.010Z"
   },
   {
    "duration": 14,
    "start_time": "2022-04-18T11:24:53.190Z"
   },
   {
    "duration": 14,
    "start_time": "2022-04-18T11:24:53.373Z"
   },
   {
    "duration": 31,
    "start_time": "2022-04-18T11:24:53.550Z"
   },
   {
    "duration": 714,
    "start_time": "2022-04-18T11:24:53.739Z"
   },
   {
    "duration": 776,
    "start_time": "2022-04-18T11:24:54.455Z"
   },
   {
    "duration": 19,
    "start_time": "2022-04-18T11:24:55.233Z"
   },
   {
    "duration": 235,
    "start_time": "2022-04-18T11:26:37.657Z"
   },
   {
    "duration": 6,
    "start_time": "2022-04-18T13:33:11.893Z"
   },
   {
    "duration": 5,
    "start_time": "2022-04-18T13:33:20.893Z"
   },
   {
    "duration": 6,
    "start_time": "2022-04-18T13:56:20.550Z"
   },
   {
    "duration": 13,
    "start_time": "2022-04-18T14:03:13.265Z"
   },
   {
    "duration": 256,
    "start_time": "2022-04-18T14:07:13.675Z"
   },
   {
    "duration": 1397,
    "start_time": "2022-04-20T18:01:19.469Z"
   },
   {
    "duration": 409,
    "start_time": "2022-04-20T18:01:20.868Z"
   },
   {
    "duration": 29,
    "start_time": "2022-04-20T18:01:21.279Z"
   },
   {
    "duration": 24,
    "start_time": "2022-04-20T18:01:21.310Z"
   },
   {
    "duration": 20,
    "start_time": "2022-04-20T18:01:21.336Z"
   },
   {
    "duration": 16,
    "start_time": "2022-04-20T18:01:21.358Z"
   },
   {
    "duration": 30,
    "start_time": "2022-04-20T18:01:21.393Z"
   },
   {
    "duration": 11,
    "start_time": "2022-04-20T18:01:21.425Z"
   },
   {
    "duration": 16,
    "start_time": "2022-04-20T18:01:21.439Z"
   },
   {
    "duration": 121,
    "start_time": "2022-04-20T18:01:21.458Z"
   },
   {
    "duration": 25,
    "start_time": "2022-04-20T18:01:21.581Z"
   },
   {
    "duration": 12,
    "start_time": "2022-04-20T18:01:21.607Z"
   },
   {
    "duration": 35,
    "start_time": "2022-04-20T18:01:21.621Z"
   },
   {
    "duration": 84,
    "start_time": "2022-04-20T18:01:21.658Z"
   },
   {
    "duration": 8,
    "start_time": "2022-04-20T18:01:21.744Z"
   },
   {
    "duration": 71,
    "start_time": "2022-04-20T18:01:21.754Z"
   },
   {
    "duration": 33,
    "start_time": "2022-04-20T18:01:21.827Z"
   },
   {
    "duration": 46,
    "start_time": "2022-04-20T18:01:21.861Z"
   },
   {
    "duration": 25,
    "start_time": "2022-04-20T18:01:21.909Z"
   },
   {
    "duration": 7,
    "start_time": "2022-04-20T18:01:21.937Z"
   },
   {
    "duration": 8,
    "start_time": "2022-04-20T18:01:21.946Z"
   },
   {
    "duration": 39,
    "start_time": "2022-04-20T18:01:21.956Z"
   },
   {
    "duration": 14,
    "start_time": "2022-04-20T18:01:21.997Z"
   },
   {
    "duration": 21,
    "start_time": "2022-04-20T18:01:22.014Z"
   },
   {
    "duration": 9,
    "start_time": "2022-04-20T18:01:22.038Z"
   },
   {
    "duration": 299,
    "start_time": "2022-04-20T18:01:22.050Z"
   },
   {
    "duration": 41,
    "start_time": "2022-04-20T18:01:22.352Z"
   },
   {
    "duration": 17,
    "start_time": "2022-04-20T18:01:22.398Z"
   },
   {
    "duration": 19,
    "start_time": "2022-04-20T18:01:22.416Z"
   },
   {
    "duration": 15,
    "start_time": "2022-04-20T18:01:22.437Z"
   },
   {
    "duration": 43,
    "start_time": "2022-04-20T18:01:22.454Z"
   },
   {
    "duration": 16,
    "start_time": "2022-04-20T18:01:22.499Z"
   },
   {
    "duration": 33,
    "start_time": "2022-04-20T18:01:22.517Z"
   },
   {
    "duration": 762,
    "start_time": "2022-04-20T18:01:22.552Z"
   },
   {
    "duration": 845,
    "start_time": "2022-04-20T18:01:23.316Z"
   },
   {
    "duration": 32,
    "start_time": "2022-04-20T18:01:24.163Z"
   },
   {
    "duration": 7,
    "start_time": "2022-04-20T18:01:24.197Z"
   },
   {
    "duration": 29,
    "start_time": "2022-04-20T18:01:24.206Z"
   },
   {
    "duration": 11,
    "start_time": "2022-04-20T18:55:26.638Z"
   },
   {
    "duration": 1225,
    "start_time": "2022-04-20T19:07:44.821Z"
   },
   {
    "duration": 390,
    "start_time": "2022-04-20T19:07:46.048Z"
   },
   {
    "duration": 27,
    "start_time": "2022-04-20T19:07:46.440Z"
   },
   {
    "duration": 22,
    "start_time": "2022-04-20T19:07:46.469Z"
   },
   {
    "duration": 12,
    "start_time": "2022-04-20T19:07:46.493Z"
   },
   {
    "duration": 13,
    "start_time": "2022-04-20T19:07:46.507Z"
   },
   {
    "duration": 20,
    "start_time": "2022-04-20T19:07:46.522Z"
   },
   {
    "duration": 9,
    "start_time": "2022-04-20T19:07:46.544Z"
   },
   {
    "duration": 37,
    "start_time": "2022-04-20T19:07:46.555Z"
   },
   {
    "duration": 85,
    "start_time": "2022-04-20T19:07:46.595Z"
   },
   {
    "duration": 19,
    "start_time": "2022-04-20T19:07:46.692Z"
   },
   {
    "duration": 10,
    "start_time": "2022-04-20T19:07:46.713Z"
   },
   {
    "duration": 13,
    "start_time": "2022-04-20T19:07:46.725Z"
   },
   {
    "duration": 53,
    "start_time": "2022-04-20T19:07:46.740Z"
   },
   {
    "duration": 55,
    "start_time": "2022-04-20T19:07:46.795Z"
   },
   {
    "duration": 9,
    "start_time": "2022-04-20T19:07:46.852Z"
   },
   {
    "duration": 76,
    "start_time": "2022-04-20T19:07:46.862Z"
   },
   {
    "duration": 29,
    "start_time": "2022-04-20T19:07:46.940Z"
   },
   {
    "duration": 43,
    "start_time": "2022-04-20T19:07:46.971Z"
   },
   {
    "duration": 23,
    "start_time": "2022-04-20T19:07:47.015Z"
   },
   {
    "duration": 3,
    "start_time": "2022-04-20T19:07:47.039Z"
   },
   {
    "duration": 7,
    "start_time": "2022-04-20T19:07:47.043Z"
   },
   {
    "duration": 15,
    "start_time": "2022-04-20T19:07:47.052Z"
   },
   {
    "duration": 37,
    "start_time": "2022-04-20T19:07:47.068Z"
   },
   {
    "duration": 9,
    "start_time": "2022-04-20T19:07:47.107Z"
   },
   {
    "duration": 275,
    "start_time": "2022-04-20T19:07:47.118Z"
   },
   {
    "duration": 31,
    "start_time": "2022-04-20T19:07:47.395Z"
   },
   {
    "duration": 14,
    "start_time": "2022-04-20T19:07:47.430Z"
   },
   {
    "duration": 15,
    "start_time": "2022-04-20T19:07:47.446Z"
   },
   {
    "duration": 42,
    "start_time": "2022-04-20T19:07:47.463Z"
   },
   {
    "duration": 15,
    "start_time": "2022-04-20T19:07:47.506Z"
   },
   {
    "duration": 16,
    "start_time": "2022-04-20T19:07:47.523Z"
   },
   {
    "duration": 56,
    "start_time": "2022-04-20T19:07:47.541Z"
   },
   {
    "duration": 742,
    "start_time": "2022-04-20T19:07:47.599Z"
   },
   {
    "duration": 768,
    "start_time": "2022-04-20T19:07:48.342Z"
   },
   {
    "duration": 20,
    "start_time": "2022-04-20T19:07:49.112Z"
   },
   {
    "duration": 8,
    "start_time": "2022-04-20T19:07:49.134Z"
   },
   {
    "duration": 19,
    "start_time": "2022-04-20T19:07:49.144Z"
   },
   {
    "duration": 1195,
    "start_time": "2022-04-20T19:10:19.068Z"
   },
   {
    "duration": 396,
    "start_time": "2022-04-20T19:10:20.265Z"
   },
   {
    "duration": 29,
    "start_time": "2022-04-20T19:10:20.663Z"
   },
   {
    "duration": 23,
    "start_time": "2022-04-20T19:10:20.693Z"
   },
   {
    "duration": 12,
    "start_time": "2022-04-20T19:10:20.719Z"
   },
   {
    "duration": 13,
    "start_time": "2022-04-20T19:10:20.732Z"
   },
   {
    "duration": 46,
    "start_time": "2022-04-20T19:10:20.747Z"
   },
   {
    "duration": 10,
    "start_time": "2022-04-20T19:10:20.795Z"
   },
   {
    "duration": 17,
    "start_time": "2022-04-20T19:10:20.807Z"
   },
   {
    "duration": 103,
    "start_time": "2022-04-20T19:10:20.826Z"
   },
   {
    "duration": 21,
    "start_time": "2022-04-20T19:10:20.931Z"
   },
   {
    "duration": 11,
    "start_time": "2022-04-20T19:10:20.954Z"
   },
   {
    "duration": 34,
    "start_time": "2022-04-20T19:10:20.967Z"
   },
   {
    "duration": 36,
    "start_time": "2022-04-20T19:10:21.005Z"
   },
   {
    "duration": 72,
    "start_time": "2022-04-20T19:10:21.043Z"
   },
   {
    "duration": 9,
    "start_time": "2022-04-20T19:10:21.117Z"
   },
   {
    "duration": 47,
    "start_time": "2022-04-20T19:10:21.128Z"
   },
   {
    "duration": 41,
    "start_time": "2022-04-20T19:10:21.177Z"
   },
   {
    "duration": 27,
    "start_time": "2022-04-20T19:10:21.220Z"
   },
   {
    "duration": 48,
    "start_time": "2022-04-20T19:10:21.248Z"
   },
   {
    "duration": 6,
    "start_time": "2022-04-20T19:10:21.298Z"
   },
   {
    "duration": 11,
    "start_time": "2022-04-20T19:10:21.306Z"
   },
   {
    "duration": 12,
    "start_time": "2022-04-20T19:10:21.319Z"
   },
   {
    "duration": 19,
    "start_time": "2022-04-20T19:10:21.333Z"
   },
   {
    "duration": 38,
    "start_time": "2022-04-20T19:10:21.354Z"
   },
   {
    "duration": 276,
    "start_time": "2022-04-20T19:10:21.395Z"
   },
   {
    "duration": 39,
    "start_time": "2022-04-20T19:10:21.673Z"
   },
   {
    "duration": 16,
    "start_time": "2022-04-20T19:10:21.714Z"
   },
   {
    "duration": 15,
    "start_time": "2022-04-20T19:10:21.732Z"
   },
   {
    "duration": 43,
    "start_time": "2022-04-20T19:10:21.749Z"
   },
   {
    "duration": 16,
    "start_time": "2022-04-20T19:10:21.794Z"
   },
   {
    "duration": 15,
    "start_time": "2022-04-20T19:10:21.811Z"
   },
   {
    "duration": 30,
    "start_time": "2022-04-20T19:10:21.828Z"
   },
   {
    "duration": 749,
    "start_time": "2022-04-20T19:10:21.860Z"
   },
   {
    "duration": 771,
    "start_time": "2022-04-20T19:10:22.610Z"
   },
   {
    "duration": 25,
    "start_time": "2022-04-20T19:10:23.383Z"
   },
   {
    "duration": 6,
    "start_time": "2022-04-20T19:10:23.410Z"
   },
   {
    "duration": 14,
    "start_time": "2022-04-20T19:10:23.418Z"
   },
   {
    "duration": 17,
    "start_time": "2022-04-20T19:13:06.569Z"
   },
   {
    "duration": 1125,
    "start_time": "2022-04-20T19:13:19.022Z"
   },
   {
    "duration": 378,
    "start_time": "2022-04-20T19:13:20.149Z"
   },
   {
    "duration": 28,
    "start_time": "2022-04-20T19:13:20.529Z"
   },
   {
    "duration": 23,
    "start_time": "2022-04-20T19:13:20.559Z"
   },
   {
    "duration": 13,
    "start_time": "2022-04-20T19:13:20.584Z"
   },
   {
    "duration": 14,
    "start_time": "2022-04-20T19:13:20.599Z"
   },
   {
    "duration": 25,
    "start_time": "2022-04-20T19:13:20.615Z"
   },
   {
    "duration": 10,
    "start_time": "2022-04-20T19:13:20.642Z"
   },
   {
    "duration": 11,
    "start_time": "2022-04-20T19:13:20.653Z"
   },
   {
    "duration": 88,
    "start_time": "2022-04-20T19:13:20.694Z"
   },
   {
    "duration": 25,
    "start_time": "2022-04-20T19:13:20.784Z"
   },
   {
    "duration": 12,
    "start_time": "2022-04-20T19:13:20.811Z"
   },
   {
    "duration": 20,
    "start_time": "2022-04-20T19:13:20.824Z"
   },
   {
    "duration": 57,
    "start_time": "2022-04-20T19:13:20.846Z"
   },
   {
    "duration": 55,
    "start_time": "2022-04-20T19:13:20.905Z"
   },
   {
    "duration": 8,
    "start_time": "2022-04-20T19:13:20.963Z"
   },
   {
    "duration": 68,
    "start_time": "2022-04-20T19:13:20.973Z"
   },
   {
    "duration": 29,
    "start_time": "2022-04-20T19:13:21.043Z"
   },
   {
    "duration": 45,
    "start_time": "2022-04-20T19:13:21.073Z"
   },
   {
    "duration": 24,
    "start_time": "2022-04-20T19:13:21.119Z"
   },
   {
    "duration": 7,
    "start_time": "2022-04-20T19:13:21.145Z"
   },
   {
    "duration": 41,
    "start_time": "2022-04-20T19:13:21.153Z"
   },
   {
    "duration": 7,
    "start_time": "2022-04-20T19:13:21.196Z"
   },
   {
    "duration": 14,
    "start_time": "2022-04-20T19:13:21.205Z"
   },
   {
    "duration": 24,
    "start_time": "2022-04-20T19:13:21.221Z"
   },
   {
    "duration": 10,
    "start_time": "2022-04-20T19:13:21.247Z"
   },
   {
    "duration": 289,
    "start_time": "2022-04-20T19:13:21.259Z"
   },
   {
    "duration": 42,
    "start_time": "2022-04-20T19:13:21.551Z"
   },
   {
    "duration": 16,
    "start_time": "2022-04-20T19:13:21.595Z"
   },
   {
    "duration": 21,
    "start_time": "2022-04-20T19:13:21.613Z"
   },
   {
    "duration": 15,
    "start_time": "2022-04-20T19:13:21.636Z"
   },
   {
    "duration": 14,
    "start_time": "2022-04-20T19:13:21.652Z"
   },
   {
    "duration": 14,
    "start_time": "2022-04-20T19:13:21.692Z"
   },
   {
    "duration": 32,
    "start_time": "2022-04-20T19:13:21.708Z"
   },
   {
    "duration": 720,
    "start_time": "2022-04-20T19:13:21.742Z"
   },
   {
    "duration": 778,
    "start_time": "2022-04-20T19:13:22.464Z"
   },
   {
    "duration": 21,
    "start_time": "2022-04-20T19:13:23.244Z"
   },
   {
    "duration": 13,
    "start_time": "2022-04-20T19:13:23.267Z"
   },
   {
    "duration": 14,
    "start_time": "2022-04-20T19:13:23.293Z"
   },
   {
    "duration": 125,
    "start_time": "2022-04-20T19:14:52.878Z"
   },
   {
    "duration": 30,
    "start_time": "2022-04-20T19:15:55.482Z"
   },
   {
    "duration": 34,
    "start_time": "2022-04-20T19:16:00.146Z"
   },
   {
    "duration": 7,
    "start_time": "2022-04-20T19:16:06.754Z"
   },
   {
    "duration": 31,
    "start_time": "2022-04-20T19:16:14.042Z"
   },
   {
    "duration": 296,
    "start_time": "2022-04-20T19:57:11.066Z"
   },
   {
    "duration": 7,
    "start_time": "2022-04-20T20:24:33.235Z"
   },
   {
    "duration": 7,
    "start_time": "2022-04-20T20:24:48.552Z"
   },
   {
    "duration": 7,
    "start_time": "2022-04-20T20:25:09.455Z"
   },
   {
    "duration": 6,
    "start_time": "2022-04-20T20:25:45.527Z"
   },
   {
    "duration": 268,
    "start_time": "2022-04-20T20:26:15.291Z"
   },
   {
    "duration": 259,
    "start_time": "2022-04-20T20:28:08.643Z"
   },
   {
    "duration": 18,
    "start_time": "2022-04-20T20:29:01.755Z"
   },
   {
    "duration": 7,
    "start_time": "2022-04-20T20:29:14.483Z"
   },
   {
    "duration": 35,
    "start_time": "2022-04-20T20:54:43.590Z"
   },
   {
    "duration": 6,
    "start_time": "2022-04-20T20:55:57.723Z"
   },
   {
    "duration": 14,
    "start_time": "2022-04-20T20:56:08.603Z"
   },
   {
    "duration": 29,
    "start_time": "2022-04-20T21:06:12.019Z"
   },
   {
    "duration": 11,
    "start_time": "2022-04-20T21:06:40.146Z"
   },
   {
    "duration": 7,
    "start_time": "2022-04-20T21:06:49.634Z"
   },
   {
    "duration": 8,
    "start_time": "2022-04-20T21:07:01.610Z"
   },
   {
    "duration": 9,
    "start_time": "2022-04-20T21:08:22.210Z"
   },
   {
    "duration": 12,
    "start_time": "2022-04-20T21:09:37.813Z"
   },
   {
    "duration": 10,
    "start_time": "2022-04-20T21:10:08.334Z"
   },
   {
    "duration": 10,
    "start_time": "2022-04-20T21:11:42.515Z"
   },
   {
    "duration": 18,
    "start_time": "2022-04-20T21:11:52.594Z"
   },
   {
    "duration": 1626,
    "start_time": "2022-04-20T21:44:58.756Z"
   },
   {
    "duration": 621,
    "start_time": "2022-04-20T21:45:00.385Z"
   },
   {
    "duration": 47,
    "start_time": "2022-04-20T21:45:01.008Z"
   },
   {
    "duration": 43,
    "start_time": "2022-04-20T21:45:01.058Z"
   },
   {
    "duration": 20,
    "start_time": "2022-04-20T21:45:01.104Z"
   },
   {
    "duration": 25,
    "start_time": "2022-04-20T21:45:01.126Z"
   },
   {
    "duration": 54,
    "start_time": "2022-04-20T21:45:01.155Z"
   },
   {
    "duration": 27,
    "start_time": "2022-04-20T21:45:01.211Z"
   },
   {
    "duration": 23,
    "start_time": "2022-04-20T21:45:01.240Z"
   },
   {
    "duration": 102,
    "start_time": "2022-04-20T21:45:01.266Z"
   },
   {
    "duration": 30,
    "start_time": "2022-04-20T21:45:01.371Z"
   },
   {
    "duration": 16,
    "start_time": "2022-04-20T21:45:01.403Z"
   },
   {
    "duration": 31,
    "start_time": "2022-04-20T21:45:01.421Z"
   },
   {
    "duration": 82,
    "start_time": "2022-04-20T21:45:01.454Z"
   },
   {
    "duration": 76,
    "start_time": "2022-04-20T21:45:01.539Z"
   },
   {
    "duration": 10,
    "start_time": "2022-04-20T21:45:01.617Z"
   },
   {
    "duration": 83,
    "start_time": "2022-04-20T21:45:01.629Z"
   },
   {
    "duration": 55,
    "start_time": "2022-04-20T21:45:01.714Z"
   },
   {
    "duration": 55,
    "start_time": "2022-04-20T21:45:01.771Z"
   },
   {
    "duration": 23,
    "start_time": "2022-04-20T21:45:01.828Z"
   },
   {
    "duration": 29,
    "start_time": "2022-04-20T21:45:01.853Z"
   },
   {
    "duration": 15,
    "start_time": "2022-04-20T21:45:01.884Z"
   },
   {
    "duration": 13,
    "start_time": "2022-04-20T21:45:01.901Z"
   },
   {
    "duration": 28,
    "start_time": "2022-04-20T21:45:01.916Z"
   },
   {
    "duration": 10,
    "start_time": "2022-04-20T21:45:01.946Z"
   },
   {
    "duration": 279,
    "start_time": "2022-04-20T21:45:01.957Z"
   },
   {
    "duration": 32,
    "start_time": "2022-04-20T21:45:02.238Z"
   },
   {
    "duration": 17,
    "start_time": "2022-04-20T21:45:02.292Z"
   },
   {
    "duration": 12,
    "start_time": "2022-04-20T21:45:02.311Z"
   },
   {
    "duration": 17,
    "start_time": "2022-04-20T21:45:02.324Z"
   },
   {
    "duration": 23,
    "start_time": "2022-04-20T21:45:02.343Z"
   },
   {
    "duration": 34,
    "start_time": "2022-04-20T21:45:02.369Z"
   },
   {
    "duration": 16,
    "start_time": "2022-04-20T21:45:02.405Z"
   },
   {
    "duration": 17,
    "start_time": "2022-04-20T21:45:02.423Z"
   },
   {
    "duration": 56,
    "start_time": "2022-04-20T21:45:02.442Z"
   },
   {
    "duration": 734,
    "start_time": "2022-04-20T21:45:02.501Z"
   },
   {
    "duration": 772,
    "start_time": "2022-04-20T21:45:03.237Z"
   },
   {
    "duration": 21,
    "start_time": "2022-04-20T21:45:04.010Z"
   },
   {
    "duration": 6,
    "start_time": "2022-04-20T21:45:04.033Z"
   },
   {
    "duration": 23,
    "start_time": "2022-04-20T21:45:04.041Z"
   },
   {
    "duration": 34,
    "start_time": "2022-04-20T21:45:04.066Z"
   },
   {
    "duration": 17,
    "start_time": "2022-04-20T21:45:04.102Z"
   },
   {
    "duration": 1114,
    "start_time": "2022-04-28T17:05:41.348Z"
   },
   {
    "duration": 382,
    "start_time": "2022-04-28T17:05:42.464Z"
   },
   {
    "duration": 28,
    "start_time": "2022-04-28T17:05:42.848Z"
   },
   {
    "duration": 23,
    "start_time": "2022-04-28T17:05:42.878Z"
   },
   {
    "duration": 13,
    "start_time": "2022-04-28T17:05:42.906Z"
   },
   {
    "duration": 15,
    "start_time": "2022-04-28T17:05:42.921Z"
   },
   {
    "duration": 22,
    "start_time": "2022-04-28T17:05:42.937Z"
   },
   {
    "duration": 10,
    "start_time": "2022-04-28T17:05:42.961Z"
   },
   {
    "duration": 12,
    "start_time": "2022-04-28T17:05:43.007Z"
   },
   {
    "duration": 101,
    "start_time": "2022-04-28T17:05:43.021Z"
   },
   {
    "duration": 18,
    "start_time": "2022-04-28T17:05:43.124Z"
   },
   {
    "duration": 10,
    "start_time": "2022-04-28T17:05:43.144Z"
   },
   {
    "duration": 12,
    "start_time": "2022-04-28T17:05:43.156Z"
   },
   {
    "duration": 65,
    "start_time": "2022-04-28T17:05:43.171Z"
   },
   {
    "duration": 73,
    "start_time": "2022-04-28T17:05:43.238Z"
   },
   {
    "duration": 8,
    "start_time": "2022-04-28T17:05:43.313Z"
   },
   {
    "duration": 44,
    "start_time": "2022-04-28T17:05:43.322Z"
   },
   {
    "duration": 56,
    "start_time": "2022-04-28T17:05:43.367Z"
   },
   {
    "duration": 25,
    "start_time": "2022-04-28T17:05:43.425Z"
   },
   {
    "duration": 22,
    "start_time": "2022-04-28T17:05:43.452Z"
   },
   {
    "duration": 31,
    "start_time": "2022-04-28T17:05:43.476Z"
   },
   {
    "duration": 7,
    "start_time": "2022-04-28T17:05:43.509Z"
   },
   {
    "duration": 12,
    "start_time": "2022-04-28T17:05:43.517Z"
   },
   {
    "duration": 19,
    "start_time": "2022-04-28T17:05:43.531Z"
   },
   {
    "duration": 9,
    "start_time": "2022-04-28T17:05:43.551Z"
   },
   {
    "duration": 286,
    "start_time": "2022-04-28T17:05:43.562Z"
   },
   {
    "duration": 31,
    "start_time": "2022-04-28T17:05:43.850Z"
   },
   {
    "duration": 35,
    "start_time": "2022-04-28T17:05:43.883Z"
   },
   {
    "duration": 12,
    "start_time": "2022-04-28T17:05:43.920Z"
   },
   {
    "duration": 17,
    "start_time": "2022-04-28T17:05:43.933Z"
   },
   {
    "duration": 6,
    "start_time": "2022-04-28T17:05:43.951Z"
   },
   {
    "duration": 14,
    "start_time": "2022-04-28T17:05:43.959Z"
   },
   {
    "duration": 14,
    "start_time": "2022-04-28T17:05:44.008Z"
   },
   {
    "duration": 14,
    "start_time": "2022-04-28T17:05:44.024Z"
   },
   {
    "duration": 36,
    "start_time": "2022-04-28T17:05:44.039Z"
   },
   {
    "duration": 774,
    "start_time": "2022-04-28T17:05:44.077Z"
   },
   {
    "duration": 821,
    "start_time": "2022-04-28T17:05:44.853Z"
   },
   {
    "duration": 18,
    "start_time": "2022-04-28T17:05:45.676Z"
   },
   {
    "duration": 14,
    "start_time": "2022-04-28T17:05:45.696Z"
   },
   {
    "duration": 22,
    "start_time": "2022-04-28T17:05:45.712Z"
   },
   {
    "duration": 11,
    "start_time": "2022-04-28T17:05:45.738Z"
   },
   {
    "duration": 15,
    "start_time": "2022-04-28T17:05:45.751Z"
   },
   {
    "duration": 4,
    "start_time": "2022-04-28T17:14:25.720Z"
   },
   {
    "duration": 45,
    "start_time": "2022-04-28T19:20:49.987Z"
   },
   {
    "duration": 1593,
    "start_time": "2022-04-28T19:20:59.989Z"
   },
   {
    "duration": 375,
    "start_time": "2022-04-28T19:21:01.584Z"
   },
   {
    "duration": 27,
    "start_time": "2022-04-28T19:21:01.961Z"
   },
   {
    "duration": 21,
    "start_time": "2022-04-28T19:21:01.990Z"
   },
   {
    "duration": 12,
    "start_time": "2022-04-28T19:21:02.014Z"
   },
   {
    "duration": 31,
    "start_time": "2022-04-28T19:21:02.028Z"
   },
   {
    "duration": 19,
    "start_time": "2022-04-28T19:21:02.061Z"
   },
   {
    "duration": 9,
    "start_time": "2022-04-28T19:21:02.082Z"
   },
   {
    "duration": 11,
    "start_time": "2022-04-28T19:21:02.093Z"
   },
   {
    "duration": 111,
    "start_time": "2022-04-28T19:21:02.106Z"
   },
   {
    "duration": 29,
    "start_time": "2022-04-28T19:21:02.218Z"
   },
   {
    "duration": 11,
    "start_time": "2022-04-28T19:21:02.250Z"
   },
   {
    "duration": 14,
    "start_time": "2022-04-28T19:21:02.263Z"
   },
   {
    "duration": 31,
    "start_time": "2022-04-28T19:21:02.281Z"
   },
   {
    "duration": 211,
    "start_time": "2022-04-28T19:21:02.314Z"
   },
   {
    "duration": 59,
    "start_time": "2022-04-28T19:21:02.526Z"
   },
   {
    "duration": 6,
    "start_time": "2022-04-28T19:21:02.587Z"
   },
   {
    "duration": 59,
    "start_time": "2022-04-28T19:21:02.594Z"
   },
   {
    "duration": 26,
    "start_time": "2022-04-28T19:21:02.654Z"
   },
   {
    "duration": 27,
    "start_time": "2022-04-28T19:21:02.681Z"
   },
   {
    "duration": 42,
    "start_time": "2022-04-28T19:21:02.709Z"
   },
   {
    "duration": 7,
    "start_time": "2022-04-28T19:21:02.753Z"
   },
   {
    "duration": 8,
    "start_time": "2022-04-28T19:21:02.762Z"
   },
   {
    "duration": 12,
    "start_time": "2022-04-28T19:21:02.772Z"
   },
   {
    "duration": 16,
    "start_time": "2022-04-28T19:21:02.785Z"
   },
   {
    "duration": 9,
    "start_time": "2022-04-28T19:21:02.803Z"
   },
   {
    "duration": 226,
    "start_time": "2022-04-28T19:21:02.847Z"
   },
   {
    "duration": 4,
    "start_time": "2022-04-28T19:21:03.075Z"
   },
   {
    "duration": 34,
    "start_time": "2022-04-28T19:21:03.080Z"
   },
   {
    "duration": 14,
    "start_time": "2022-04-28T19:21:03.116Z"
   },
   {
    "duration": 20,
    "start_time": "2022-04-28T19:21:03.131Z"
   },
   {
    "duration": 18,
    "start_time": "2022-04-28T19:21:03.152Z"
   },
   {
    "duration": 14,
    "start_time": "2022-04-28T19:21:03.172Z"
   },
   {
    "duration": 22,
    "start_time": "2022-04-28T19:21:03.187Z"
   },
   {
    "duration": 14,
    "start_time": "2022-04-28T19:21:03.210Z"
   },
   {
    "duration": 29,
    "start_time": "2022-04-28T19:21:03.226Z"
   },
   {
    "duration": 62,
    "start_time": "2022-04-28T19:21:03.257Z"
   },
   {
    "duration": 632,
    "start_time": "2022-04-28T19:21:03.321Z"
   },
   {
    "duration": 685,
    "start_time": "2022-04-28T19:21:03.955Z"
   },
   {
    "duration": 18,
    "start_time": "2022-04-28T19:21:04.647Z"
   },
   {
    "duration": 5,
    "start_time": "2022-04-28T19:21:04.668Z"
   },
   {
    "duration": 21,
    "start_time": "2022-04-28T19:21:04.675Z"
   },
   {
    "duration": 10,
    "start_time": "2022-04-28T19:21:04.698Z"
   },
   {
    "duration": 46,
    "start_time": "2022-04-28T19:21:04.709Z"
   },
   {
    "duration": 242,
    "start_time": "2022-04-28T19:22:13.877Z"
   },
   {
    "duration": 402,
    "start_time": "2022-04-28T19:22:51.249Z"
   },
   {
    "duration": 470,
    "start_time": "2022-04-28T19:23:39.279Z"
   },
   {
    "duration": 484,
    "start_time": "2022-04-28T19:24:06.398Z"
   },
   {
    "duration": 9,
    "start_time": "2022-04-28T19:25:05.990Z"
   },
   {
    "duration": 168,
    "start_time": "2022-04-28T19:25:33.927Z"
   },
   {
    "duration": 190,
    "start_time": "2022-04-28T19:25:58.067Z"
   },
   {
    "duration": 286,
    "start_time": "2022-04-28T19:26:12.907Z"
   },
   {
    "duration": 163,
    "start_time": "2022-04-28T19:26:28.570Z"
   },
   {
    "duration": 242,
    "start_time": "2022-04-28T19:26:43.982Z"
   },
   {
    "duration": 10,
    "start_time": "2022-04-28T19:27:42.004Z"
   },
   {
    "duration": 15,
    "start_time": "2022-04-28T19:27:57.820Z"
   },
   {
    "duration": 91,
    "start_time": "2022-04-28T19:38:41.703Z"
   },
   {
    "duration": 10,
    "start_time": "2022-04-28T19:39:12.790Z"
   },
   {
    "duration": 9,
    "start_time": "2022-04-28T19:42:15.743Z"
   },
   {
    "duration": 14,
    "start_time": "2022-04-28T19:43:42.486Z"
   },
   {
    "duration": 4,
    "start_time": "2022-05-01T18:43:56.946Z"
   },
   {
    "duration": 511,
    "start_time": "2022-05-01T18:43:56.986Z"
   },
   {
    "duration": 34,
    "start_time": "2022-05-01T18:43:57.501Z"
   },
   {
    "duration": 52,
    "start_time": "2022-05-01T18:43:57.538Z"
   },
   {
    "duration": 14,
    "start_time": "2022-05-01T18:43:57.593Z"
   },
   {
    "duration": 21,
    "start_time": "2022-05-01T18:43:57.610Z"
   },
   {
    "duration": 49,
    "start_time": "2022-05-01T18:43:57.634Z"
   },
   {
    "duration": 18,
    "start_time": "2022-05-01T18:43:57.687Z"
   },
   {
    "duration": 17,
    "start_time": "2022-05-01T18:43:57.707Z"
   },
   {
    "duration": 144,
    "start_time": "2022-05-01T18:43:57.726Z"
   },
   {
    "duration": 29,
    "start_time": "2022-05-01T18:43:57.872Z"
   },
   {
    "duration": 28,
    "start_time": "2022-05-01T18:43:57.904Z"
   },
   {
    "duration": 16,
    "start_time": "2022-05-01T18:43:57.935Z"
   },
   {
    "duration": 68,
    "start_time": "2022-05-01T18:43:57.954Z"
   },
   {
    "duration": 263,
    "start_time": "2022-05-01T18:43:58.024Z"
   },
   {
    "duration": 14,
    "start_time": "2022-05-01T18:43:58.290Z"
   },
   {
    "duration": 31,
    "start_time": "2022-05-01T18:43:58.307Z"
   },
   {
    "duration": 519,
    "start_time": "2022-05-01T18:43:58.340Z"
   },
   {
    "duration": 94,
    "start_time": "2022-05-01T18:43:58.862Z"
   },
   {
    "duration": 29,
    "start_time": "2022-05-01T18:43:58.958Z"
   },
   {
    "duration": 57,
    "start_time": "2022-05-01T18:43:58.992Z"
   },
   {
    "duration": 61,
    "start_time": "2022-05-01T18:43:59.052Z"
   },
   {
    "duration": 34,
    "start_time": "2022-05-01T18:43:59.115Z"
   },
   {
    "duration": 58,
    "start_time": "2022-05-01T18:43:59.152Z"
   },
   {
    "duration": 8,
    "start_time": "2022-05-01T18:43:59.213Z"
   },
   {
    "duration": 10,
    "start_time": "2022-05-01T18:43:59.223Z"
   },
   {
    "duration": 59,
    "start_time": "2022-05-01T18:43:59.235Z"
   },
   {
    "duration": 29,
    "start_time": "2022-05-01T18:43:59.298Z"
   },
   {
    "duration": 19,
    "start_time": "2022-05-01T18:43:59.330Z"
   },
   {
    "duration": 493,
    "start_time": "2022-05-01T18:43:59.352Z"
   },
   {
    "duration": 7,
    "start_time": "2022-05-01T18:43:59.847Z"
   },
   {
    "duration": 65,
    "start_time": "2022-05-01T18:43:59.856Z"
   },
   {
    "duration": 21,
    "start_time": "2022-05-01T18:43:59.924Z"
   },
   {
    "duration": 39,
    "start_time": "2022-05-01T18:43:59.948Z"
   },
   {
    "duration": 28,
    "start_time": "2022-05-01T18:43:59.990Z"
   },
   {
    "duration": 10,
    "start_time": "2022-05-01T18:44:00.021Z"
   },
   {
    "duration": 52,
    "start_time": "2022-05-01T18:44:00.035Z"
   },
   {
    "duration": 24,
    "start_time": "2022-05-01T18:44:00.094Z"
   },
   {
    "duration": 29,
    "start_time": "2022-05-01T18:44:00.120Z"
   },
   {
    "duration": 82,
    "start_time": "2022-05-01T18:44:00.152Z"
   },
   {
    "duration": 1418,
    "start_time": "2022-05-01T18:44:00.237Z"
   },
   {
    "duration": 1310,
    "start_time": "2022-05-01T18:44:01.658Z"
   },
   {
    "duration": 42,
    "start_time": "2022-05-01T18:44:02.970Z"
   },
   {
    "duration": 9,
    "start_time": "2022-05-01T18:44:03.015Z"
   },
   {
    "duration": 70,
    "start_time": "2022-05-01T18:44:03.027Z"
   },
   {
    "duration": 19,
    "start_time": "2022-05-01T18:44:03.100Z"
   },
   {
    "duration": 29,
    "start_time": "2022-05-01T18:44:03.122Z"
   },
   {
    "duration": 10,
    "start_time": "2022-05-01T18:49:46.815Z"
   },
   {
    "duration": 8,
    "start_time": "2022-05-01T18:54:41.029Z"
   },
   {
    "duration": 185,
    "start_time": "2022-05-01T18:55:15.628Z"
   },
   {
    "duration": 10,
    "start_time": "2022-05-01T18:55:59.480Z"
   },
   {
    "duration": 9,
    "start_time": "2022-05-01T19:07:59.260Z"
   },
   {
    "duration": 10,
    "start_time": "2022-05-01T19:08:42.376Z"
   },
   {
    "duration": 63,
    "start_time": "2022-05-01T19:10:29.615Z"
   },
   {
    "duration": 44,
    "start_time": "2022-05-01T19:10:52.780Z"
   },
   {
    "duration": 2013,
    "start_time": "2022-05-01T19:12:22.271Z"
   },
   {
    "duration": 89,
    "start_time": "2022-05-01T19:12:36.224Z"
   },
   {
    "duration": 80,
    "start_time": "2022-05-01T19:14:08.900Z"
   },
   {
    "duration": 59,
    "start_time": "2022-05-01T19:14:25.742Z"
   },
   {
    "duration": 54,
    "start_time": "2022-05-01T19:14:42.842Z"
   },
   {
    "duration": 81,
    "start_time": "2022-05-01T19:14:53.576Z"
   },
   {
    "duration": 62,
    "start_time": "2022-05-01T19:15:13.860Z"
   },
   {
    "duration": 80,
    "start_time": "2022-05-01T19:15:44.195Z"
   },
   {
    "duration": 29,
    "start_time": "2022-05-01T19:17:32.303Z"
   },
   {
    "duration": 12,
    "start_time": "2022-05-01T19:17:42.040Z"
   },
   {
    "duration": 29,
    "start_time": "2022-05-01T19:18:12.381Z"
   },
   {
    "duration": 8,
    "start_time": "2022-05-01T19:20:38.780Z"
   },
   {
    "duration": 18,
    "start_time": "2022-05-01T19:21:45.773Z"
   },
   {
    "duration": 0,
    "start_time": "2022-05-01T19:21:45.794Z"
   },
   {
    "duration": 62,
    "start_time": "2022-05-01T19:21:59.041Z"
   },
   {
    "duration": 1624,
    "start_time": "2022-05-01T19:22:39.121Z"
   },
   {
    "duration": 10,
    "start_time": "2022-05-01T19:22:49.952Z"
   },
   {
    "duration": 35,
    "start_time": "2022-05-01T19:23:14.600Z"
   },
   {
    "duration": 60,
    "start_time": "2022-05-01T19:23:42.641Z"
   },
   {
    "duration": 39,
    "start_time": "2022-05-01T19:23:50.493Z"
   },
   {
    "duration": 9,
    "start_time": "2022-05-01T19:25:49.421Z"
   },
   {
    "duration": 73,
    "start_time": "2022-05-01T19:41:17.440Z"
   },
   {
    "duration": 65,
    "start_time": "2022-05-01T19:41:29.258Z"
   },
   {
    "duration": 24,
    "start_time": "2022-05-01T19:45:05.981Z"
   },
   {
    "duration": 27,
    "start_time": "2022-05-01T19:47:55.761Z"
   },
   {
    "duration": 36,
    "start_time": "2022-05-01T19:47:55.794Z"
   },
   {
    "duration": 59,
    "start_time": "2022-05-01T19:49:18.110Z"
   },
   {
    "duration": 95,
    "start_time": "2022-05-01T19:49:28.909Z"
   },
   {
    "duration": 126,
    "start_time": "2022-05-01T19:49:39.182Z"
   },
   {
    "duration": 81,
    "start_time": "2022-05-01T19:50:34.342Z"
   },
   {
    "duration": 36,
    "start_time": "2022-05-01T19:52:17.312Z"
   },
   {
    "duration": 60,
    "start_time": "2022-05-01T19:52:27.860Z"
   },
   {
    "duration": 34,
    "start_time": "2022-05-01T19:53:03.179Z"
   },
   {
    "duration": 1969,
    "start_time": "2022-05-01T19:53:32.765Z"
   },
   {
    "duration": 752,
    "start_time": "2022-05-01T19:53:34.737Z"
   },
   {
    "duration": 53,
    "start_time": "2022-05-01T19:53:35.492Z"
   },
   {
    "duration": 52,
    "start_time": "2022-05-01T19:53:35.550Z"
   },
   {
    "duration": 30,
    "start_time": "2022-05-01T19:53:35.607Z"
   },
   {
    "duration": 21,
    "start_time": "2022-05-01T19:53:35.639Z"
   },
   {
    "duration": 68,
    "start_time": "2022-05-01T19:53:35.662Z"
   },
   {
    "duration": 24,
    "start_time": "2022-05-01T19:53:35.732Z"
   },
   {
    "duration": 20,
    "start_time": "2022-05-01T19:53:35.759Z"
   },
   {
    "duration": 227,
    "start_time": "2022-05-01T19:53:35.792Z"
   },
   {
    "duration": 69,
    "start_time": "2022-05-01T19:53:36.022Z"
   },
   {
    "duration": 23,
    "start_time": "2022-05-01T19:53:36.096Z"
   },
   {
    "duration": 20,
    "start_time": "2022-05-01T19:53:36.128Z"
   },
   {
    "duration": 148,
    "start_time": "2022-05-01T19:53:36.188Z"
   },
   {
    "duration": 884,
    "start_time": "2022-05-01T19:53:36.339Z"
   },
   {
    "duration": 23,
    "start_time": "2022-05-01T19:53:37.225Z"
   },
   {
    "duration": 50,
    "start_time": "2022-05-01T19:53:37.288Z"
   },
   {
    "duration": 1547,
    "start_time": "2022-05-01T19:53:37.341Z"
   },
   {
    "duration": 204,
    "start_time": "2022-05-01T19:53:38.892Z"
   },
   {
    "duration": 37,
    "start_time": "2022-05-01T19:53:39.100Z"
   },
   {
    "duration": 184,
    "start_time": "2022-05-01T19:53:39.140Z"
   },
   {
    "duration": 114,
    "start_time": "2022-05-01T19:53:39.328Z"
   },
   {
    "duration": 99,
    "start_time": "2022-05-01T19:53:39.446Z"
   },
   {
    "duration": 186,
    "start_time": "2022-05-01T19:53:39.549Z"
   },
   {
    "duration": 159,
    "start_time": "2022-05-01T19:53:39.741Z"
   },
   {
    "duration": 100,
    "start_time": "2022-05-01T19:53:39.904Z"
   },
   {
    "duration": 17,
    "start_time": "2022-05-01T19:53:40.008Z"
   },
   {
    "duration": 18,
    "start_time": "2022-05-01T19:53:40.033Z"
   },
   {
    "duration": 42,
    "start_time": "2022-05-01T19:53:40.054Z"
   },
   {
    "duration": 32,
    "start_time": "2022-05-01T19:53:40.099Z"
   },
   {
    "duration": 22,
    "start_time": "2022-05-01T19:53:40.134Z"
   },
   {
    "duration": 66,
    "start_time": "2022-05-01T19:53:40.161Z"
   },
   {
    "duration": 23,
    "start_time": "2022-05-01T19:53:40.230Z"
   },
   {
    "duration": 22,
    "start_time": "2022-05-01T19:53:40.256Z"
   },
   {
    "duration": 644,
    "start_time": "2022-05-01T19:53:40.281Z"
   },
   {
    "duration": 7,
    "start_time": "2022-05-01T19:53:40.928Z"
   },
   {
    "duration": 97,
    "start_time": "2022-05-01T19:53:40.938Z"
   },
   {
    "duration": 24,
    "start_time": "2022-05-01T19:53:41.043Z"
   },
   {
    "duration": 28,
    "start_time": "2022-05-01T19:53:41.070Z"
   },
   {
    "duration": 64,
    "start_time": "2022-05-01T19:53:41.105Z"
   },
   {
    "duration": 22,
    "start_time": "2022-05-01T19:53:41.171Z"
   },
   {
    "duration": 61,
    "start_time": "2022-05-01T19:53:41.196Z"
   },
   {
    "duration": 25,
    "start_time": "2022-05-01T19:53:41.261Z"
   },
   {
    "duration": 48,
    "start_time": "2022-05-01T19:53:41.289Z"
   },
   {
    "duration": 79,
    "start_time": "2022-05-01T19:53:41.340Z"
   },
   {
    "duration": 1575,
    "start_time": "2022-05-01T19:53:41.422Z"
   },
   {
    "duration": 1556,
    "start_time": "2022-05-01T19:53:43.001Z"
   },
   {
    "duration": 55,
    "start_time": "2022-05-01T19:53:44.560Z"
   },
   {
    "duration": 27,
    "start_time": "2022-05-01T19:53:44.617Z"
   },
   {
    "duration": 60,
    "start_time": "2022-05-01T19:53:44.647Z"
   },
   {
    "duration": 24,
    "start_time": "2022-05-01T19:53:44.711Z"
   },
   {
    "duration": 38,
    "start_time": "2022-05-01T19:53:44.738Z"
   },
   {
    "duration": 35,
    "start_time": "2022-05-01T19:54:38.828Z"
   },
   {
    "duration": 24,
    "start_time": "2022-05-01T19:55:05.377Z"
   },
   {
    "duration": 1819,
    "start_time": "2022-05-01T19:56:54.054Z"
   },
   {
    "duration": 823,
    "start_time": "2022-05-01T19:56:55.877Z"
   },
   {
    "duration": 67,
    "start_time": "2022-05-01T19:56:56.704Z"
   },
   {
    "duration": 50,
    "start_time": "2022-05-01T19:56:56.774Z"
   },
   {
    "duration": 52,
    "start_time": "2022-05-01T19:56:56.829Z"
   },
   {
    "duration": 72,
    "start_time": "2022-05-01T19:56:56.890Z"
   },
   {
    "duration": 32,
    "start_time": "2022-05-01T19:56:56.965Z"
   },
   {
    "duration": 56,
    "start_time": "2022-05-01T19:56:57.001Z"
   },
   {
    "duration": 24,
    "start_time": "2022-05-01T19:56:57.059Z"
   },
   {
    "duration": 351,
    "start_time": "2022-05-01T19:56:57.093Z"
   },
   {
    "duration": 39,
    "start_time": "2022-05-01T19:56:57.446Z"
   },
   {
    "duration": 29,
    "start_time": "2022-05-01T19:56:57.495Z"
   },
   {
    "duration": 34,
    "start_time": "2022-05-01T19:56:57.528Z"
   },
   {
    "duration": 63,
    "start_time": "2022-05-01T19:56:57.587Z"
   },
   {
    "duration": 407,
    "start_time": "2022-05-01T19:56:57.652Z"
   },
   {
    "duration": 12,
    "start_time": "2022-05-01T19:56:58.062Z"
   },
   {
    "duration": 54,
    "start_time": "2022-05-01T19:56:58.076Z"
   },
   {
    "duration": 637,
    "start_time": "2022-05-01T19:56:58.132Z"
   },
   {
    "duration": 87,
    "start_time": "2022-05-01T19:56:58.771Z"
   },
   {
    "duration": 24,
    "start_time": "2022-05-01T19:56:58.861Z"
   },
   {
    "duration": 99,
    "start_time": "2022-05-01T19:56:58.887Z"
   },
   {
    "duration": 54,
    "start_time": "2022-05-01T19:56:58.989Z"
   },
   {
    "duration": 76,
    "start_time": "2022-05-01T19:56:59.046Z"
   },
   {
    "duration": 36,
    "start_time": "2022-05-01T19:56:59.125Z"
   },
   {
    "duration": 33,
    "start_time": "2022-05-01T19:56:59.164Z"
   },
   {
    "duration": 33,
    "start_time": "2022-05-01T19:56:59.201Z"
   },
   {
    "duration": 12,
    "start_time": "2022-05-01T19:56:59.237Z"
   },
   {
    "duration": 23,
    "start_time": "2022-05-01T19:56:59.251Z"
   },
   {
    "duration": 26,
    "start_time": "2022-05-01T19:56:59.276Z"
   },
   {
    "duration": 61,
    "start_time": "2022-05-01T19:56:59.304Z"
   },
   {
    "duration": 16,
    "start_time": "2022-05-01T19:56:59.369Z"
   },
   {
    "duration": 57,
    "start_time": "2022-05-01T19:56:59.389Z"
   },
   {
    "duration": 924,
    "start_time": "2022-05-01T19:56:59.448Z"
   },
   {
    "duration": 19,
    "start_time": "2022-05-01T19:57:00.392Z"
   },
   {
    "duration": 89,
    "start_time": "2022-05-01T19:57:00.414Z"
   },
   {
    "duration": 44,
    "start_time": "2022-05-01T19:57:00.506Z"
   },
   {
    "duration": 10,
    "start_time": "2022-05-01T19:57:00.556Z"
   },
   {
    "duration": 37,
    "start_time": "2022-05-01T19:57:00.568Z"
   },
   {
    "duration": 27,
    "start_time": "2022-05-01T19:57:00.608Z"
   },
   {
    "duration": 28,
    "start_time": "2022-05-01T19:57:00.638Z"
   },
   {
    "duration": 63,
    "start_time": "2022-05-01T19:57:00.673Z"
   },
   {
    "duration": 23,
    "start_time": "2022-05-01T19:57:00.741Z"
   },
   {
    "duration": 76,
    "start_time": "2022-05-01T19:57:00.766Z"
   },
   {
    "duration": 1476,
    "start_time": "2022-05-01T19:57:00.845Z"
   },
   {
    "duration": 1851,
    "start_time": "2022-05-01T19:57:02.324Z"
   },
   {
    "duration": 54,
    "start_time": "2022-05-01T19:57:04.181Z"
   },
   {
    "duration": 10,
    "start_time": "2022-05-01T19:57:04.239Z"
   },
   {
    "duration": 54,
    "start_time": "2022-05-01T19:57:04.253Z"
   },
   {
    "duration": 30,
    "start_time": "2022-05-01T19:57:04.311Z"
   },
   {
    "duration": 51,
    "start_time": "2022-05-01T19:57:04.344Z"
   },
   {
    "duration": 46,
    "start_time": "2022-05-01T19:57:44.834Z"
   },
   {
    "duration": 81,
    "start_time": "2022-05-01T20:14:33.107Z"
   },
   {
    "duration": 62,
    "start_time": "2022-05-01T20:14:33.193Z"
   },
   {
    "duration": 219,
    "start_time": "2022-05-01T20:16:38.615Z"
   },
   {
    "duration": 85,
    "start_time": "2022-05-01T20:17:33.271Z"
   },
   {
    "duration": 76,
    "start_time": "2022-05-01T20:17:33.359Z"
   },
   {
    "duration": 42,
    "start_time": "2022-05-01T20:18:32.015Z"
   },
   {
    "duration": 43,
    "start_time": "2022-05-01T20:19:35.427Z"
   },
   {
    "duration": 52,
    "start_time": "2022-05-01T20:19:56.271Z"
   },
   {
    "duration": 31,
    "start_time": "2022-05-01T20:23:26.288Z"
   },
   {
    "duration": 16,
    "start_time": "2022-05-01T20:23:42.904Z"
   },
   {
    "duration": 12,
    "start_time": "2022-05-01T20:24:13.547Z"
   },
   {
    "duration": 23,
    "start_time": "2022-05-01T20:28:00.010Z"
   },
   {
    "duration": 29,
    "start_time": "2022-05-01T20:30:04.505Z"
   },
   {
    "duration": 41,
    "start_time": "2022-05-01T20:30:32.985Z"
   },
   {
    "duration": 27,
    "start_time": "2022-05-01T20:31:34.993Z"
   },
   {
    "duration": 46,
    "start_time": "2022-05-01T20:31:52.574Z"
   },
   {
    "duration": 14,
    "start_time": "2022-05-01T20:32:10.724Z"
   },
   {
    "duration": 46,
    "start_time": "2022-05-01T20:32:59.872Z"
   },
   {
    "duration": 18,
    "start_time": "2022-05-01T20:34:55.875Z"
   },
   {
    "duration": 12,
    "start_time": "2022-05-01T20:34:55.955Z"
   },
   {
    "duration": 15,
    "start_time": "2022-05-01T20:41:42.165Z"
   },
   {
    "duration": 12,
    "start_time": "2022-05-01T20:42:18.435Z"
   },
   {
    "duration": 19,
    "start_time": "2022-05-01T20:42:41.867Z"
   },
   {
    "duration": 14,
    "start_time": "2022-05-01T20:44:03.614Z"
   },
   {
    "duration": 181,
    "start_time": "2022-05-01T20:57:10.410Z"
   },
   {
    "duration": 0,
    "start_time": "2022-05-01T20:57:10.595Z"
   },
   {
    "duration": 8,
    "start_time": "2022-05-01T20:57:33.360Z"
   },
   {
    "duration": 70,
    "start_time": "2022-05-01T20:58:02.810Z"
   },
   {
    "duration": 36,
    "start_time": "2022-05-01T20:58:02.895Z"
   },
   {
    "duration": 12,
    "start_time": "2022-05-01T20:59:44.845Z"
   },
   {
    "duration": 7,
    "start_time": "2022-05-01T20:59:54.147Z"
   },
   {
    "duration": 11,
    "start_time": "2022-05-01T21:00:49.398Z"
   },
   {
    "duration": 10,
    "start_time": "2022-05-01T21:05:21.311Z"
   },
   {
    "duration": 14,
    "start_time": "2022-05-01T21:07:15.566Z"
   },
   {
    "duration": 19,
    "start_time": "2022-05-01T21:07:32.598Z"
   },
   {
    "duration": 9,
    "start_time": "2022-05-01T21:12:58.403Z"
   },
   {
    "duration": 21,
    "start_time": "2022-05-01T21:13:06.829Z"
   },
   {
    "duration": 16,
    "start_time": "2022-05-01T21:14:04.030Z"
   },
   {
    "duration": 10,
    "start_time": "2022-05-01T21:16:19.136Z"
   },
   {
    "duration": 7,
    "start_time": "2022-05-01T21:17:02.051Z"
   },
   {
    "duration": 21,
    "start_time": "2022-05-01T21:17:47.031Z"
   },
   {
    "duration": 7,
    "start_time": "2022-05-01T21:18:23.832Z"
   },
   {
    "duration": 9,
    "start_time": "2022-05-01T21:18:34.234Z"
   },
   {
    "duration": 4,
    "start_time": "2022-05-01T21:20:13.852Z"
   },
   {
    "duration": 13,
    "start_time": "2022-05-01T21:20:26.198Z"
   },
   {
    "duration": 1920,
    "start_time": "2022-05-01T21:20:31.574Z"
   },
   {
    "duration": 746,
    "start_time": "2022-05-01T21:20:33.498Z"
   },
   {
    "duration": 59,
    "start_time": "2022-05-01T21:20:34.247Z"
   },
   {
    "duration": 45,
    "start_time": "2022-05-01T21:20:34.309Z"
   },
   {
    "duration": 19,
    "start_time": "2022-05-01T21:20:34.359Z"
   },
   {
    "duration": 28,
    "start_time": "2022-05-01T21:20:34.381Z"
   },
   {
    "duration": 41,
    "start_time": "2022-05-01T21:20:34.416Z"
   },
   {
    "duration": 17,
    "start_time": "2022-05-01T21:20:34.460Z"
   },
   {
    "duration": 53,
    "start_time": "2022-05-01T21:20:34.488Z"
   },
   {
    "duration": 181,
    "start_time": "2022-05-01T21:20:34.544Z"
   },
   {
    "duration": 56,
    "start_time": "2022-05-01T21:20:34.728Z"
   },
   {
    "duration": 25,
    "start_time": "2022-05-01T21:20:34.794Z"
   },
   {
    "duration": 16,
    "start_time": "2022-05-01T21:20:34.822Z"
   },
   {
    "duration": 78,
    "start_time": "2022-05-01T21:20:34.847Z"
   },
   {
    "duration": 308,
    "start_time": "2022-05-01T21:20:34.928Z"
   },
   {
    "duration": 12,
    "start_time": "2022-05-01T21:20:35.238Z"
   },
   {
    "duration": 51,
    "start_time": "2022-05-01T21:20:35.253Z"
   },
   {
    "duration": 547,
    "start_time": "2022-05-01T21:20:35.307Z"
   },
   {
    "duration": 88,
    "start_time": "2022-05-01T21:20:35.856Z"
   },
   {
    "duration": 10,
    "start_time": "2022-05-01T21:20:35.947Z"
   },
   {
    "duration": 83,
    "start_time": "2022-05-01T21:20:35.960Z"
   },
   {
    "duration": 58,
    "start_time": "2022-05-01T21:20:36.045Z"
   },
   {
    "duration": 38,
    "start_time": "2022-05-01T21:20:36.106Z"
   },
   {
    "duration": 74,
    "start_time": "2022-05-01T21:20:36.146Z"
   },
   {
    "duration": 10,
    "start_time": "2022-05-01T21:20:36.226Z"
   },
   {
    "duration": 9,
    "start_time": "2022-05-01T21:20:36.239Z"
   },
   {
    "duration": 33,
    "start_time": "2022-05-01T21:20:36.251Z"
   },
   {
    "duration": 25,
    "start_time": "2022-05-01T21:20:36.286Z"
   },
   {
    "duration": 14,
    "start_time": "2022-05-01T21:20:36.318Z"
   },
   {
    "duration": 26,
    "start_time": "2022-05-01T21:20:36.334Z"
   },
   {
    "duration": 10,
    "start_time": "2022-05-01T21:20:36.382Z"
   },
   {
    "duration": 43,
    "start_time": "2022-05-01T21:20:36.395Z"
   },
   {
    "duration": 504,
    "start_time": "2022-05-01T21:20:36.440Z"
   },
   {
    "duration": 5,
    "start_time": "2022-05-01T21:20:36.947Z"
   },
   {
    "duration": 9,
    "start_time": "2022-05-01T21:20:36.954Z"
   },
   {
    "duration": 40,
    "start_time": "2022-05-01T21:20:36.990Z"
   },
   {
    "duration": 12,
    "start_time": "2022-05-01T21:20:37.032Z"
   },
   {
    "duration": 17,
    "start_time": "2022-05-01T21:20:37.046Z"
   },
   {
    "duration": 29,
    "start_time": "2022-05-01T21:20:37.065Z"
   },
   {
    "duration": 60,
    "start_time": "2022-05-01T21:20:37.097Z"
   },
   {
    "duration": 43,
    "start_time": "2022-05-01T21:20:37.163Z"
   },
   {
    "duration": 30,
    "start_time": "2022-05-01T21:20:37.208Z"
   },
   {
    "duration": 23,
    "start_time": "2022-05-01T21:20:37.240Z"
   },
   {
    "duration": 26,
    "start_time": "2022-05-01T21:20:37.266Z"
   },
   {
    "duration": 55,
    "start_time": "2022-05-01T21:20:37.295Z"
   },
   {
    "duration": 20,
    "start_time": "2022-05-01T21:20:37.353Z"
   },
   {
    "duration": 54,
    "start_time": "2022-05-01T21:20:37.375Z"
   },
   {
    "duration": 46,
    "start_time": "2022-05-01T21:20:37.431Z"
   },
   {
    "duration": 1462,
    "start_time": "2022-05-01T21:20:37.480Z"
   },
   {
    "duration": 1340,
    "start_time": "2022-05-01T21:20:38.946Z"
   },
   {
    "duration": 33,
    "start_time": "2022-05-01T21:20:40.288Z"
   },
   {
    "duration": 8,
    "start_time": "2022-05-01T21:20:40.323Z"
   },
   {
    "duration": 77,
    "start_time": "2022-05-01T21:20:40.333Z"
   },
   {
    "duration": 21,
    "start_time": "2022-05-01T21:20:40.417Z"
   },
   {
    "duration": 33,
    "start_time": "2022-05-01T21:20:40.441Z"
   },
   {
    "duration": 9,
    "start_time": "2022-05-01T21:21:43.593Z"
   },
   {
    "duration": 10,
    "start_time": "2022-05-01T21:21:59.067Z"
   },
   {
    "duration": 20,
    "start_time": "2022-05-01T21:22:09.807Z"
   },
   {
    "duration": 169,
    "start_time": "2022-05-01T21:26:34.450Z"
   },
   {
    "duration": 108,
    "start_time": "2022-05-01T21:27:05.705Z"
   },
   {
    "duration": 19,
    "start_time": "2022-05-01T21:27:12.071Z"
   },
   {
    "duration": 6,
    "start_time": "2022-05-01T21:27:56.991Z"
   },
   {
    "duration": 19,
    "start_time": "2022-05-01T21:29:40.801Z"
   },
   {
    "duration": 108,
    "start_time": "2022-05-01T21:29:52.830Z"
   },
   {
    "duration": 20,
    "start_time": "2022-05-01T21:30:02.711Z"
   },
   {
    "duration": 17,
    "start_time": "2022-05-01T21:30:49.210Z"
   },
   {
    "duration": 14,
    "start_time": "2022-05-01T21:31:00.450Z"
   },
   {
    "duration": 12,
    "start_time": "2022-05-01T21:31:17.610Z"
   },
   {
    "duration": 22,
    "start_time": "2022-05-01T21:33:07.650Z"
   },
   {
    "duration": 19,
    "start_time": "2022-05-01T21:33:23.491Z"
   },
   {
    "duration": 124,
    "start_time": "2022-05-01T21:35:20.970Z"
   },
   {
    "duration": 14,
    "start_time": "2022-05-01T21:35:21.482Z"
   },
   {
    "duration": 126,
    "start_time": "2022-05-01T21:35:39.505Z"
   },
   {
    "duration": 96,
    "start_time": "2022-05-01T21:35:58.732Z"
   },
   {
    "duration": 123,
    "start_time": "2022-05-01T21:36:28.148Z"
   },
   {
    "duration": 125,
    "start_time": "2022-05-01T21:36:53.933Z"
   },
   {
    "duration": 8,
    "start_time": "2022-05-01T21:40:46.772Z"
   },
   {
    "duration": 17,
    "start_time": "2022-05-01T21:42:23.830Z"
   },
   {
    "duration": 13,
    "start_time": "2022-05-01T21:42:52.269Z"
   },
   {
    "duration": 11,
    "start_time": "2022-05-01T21:43:44.209Z"
   },
   {
    "duration": 12,
    "start_time": "2022-05-01T21:45:11.077Z"
   },
   {
    "duration": 19,
    "start_time": "2022-05-01T21:46:24.870Z"
   },
   {
    "duration": 5,
    "start_time": "2022-05-01T21:47:18.891Z"
   },
   {
    "duration": 23,
    "start_time": "2022-05-01T21:47:25.908Z"
   },
   {
    "duration": 21,
    "start_time": "2022-05-01T21:48:21.999Z"
   },
   {
    "duration": 21,
    "start_time": "2022-05-01T21:49:48.391Z"
   },
   {
    "duration": 19,
    "start_time": "2022-05-01T21:51:29.349Z"
   },
   {
    "duration": 104,
    "start_time": "2022-05-01T21:52:53.930Z"
   },
   {
    "duration": 28,
    "start_time": "2022-05-01T21:53:01.530Z"
   },
   {
    "duration": 32,
    "start_time": "2022-05-01T22:02:04.030Z"
   },
   {
    "duration": 38,
    "start_time": "2022-05-01T22:05:17.965Z"
   },
   {
    "duration": 26,
    "start_time": "2022-05-01T22:05:47.709Z"
   },
   {
    "duration": 15,
    "start_time": "2022-05-01T22:06:20.549Z"
   },
   {
    "duration": 16,
    "start_time": "2022-05-01T22:06:28.814Z"
   },
   {
    "duration": 13,
    "start_time": "2022-05-01T22:06:35.070Z"
   },
   {
    "duration": 25,
    "start_time": "2022-05-01T22:06:35.102Z"
   },
   {
    "duration": 15,
    "start_time": "2022-05-01T22:06:48.029Z"
   },
   {
    "duration": 83,
    "start_time": "2022-05-01T22:07:38.006Z"
   },
   {
    "duration": 27,
    "start_time": "2022-05-01T22:07:38.091Z"
   },
   {
    "duration": 86,
    "start_time": "2022-05-01T22:08:27.373Z"
   },
   {
    "duration": 40,
    "start_time": "2022-05-01T22:09:44.005Z"
   },
   {
    "duration": 23,
    "start_time": "2022-05-01T22:11:21.550Z"
   },
   {
    "duration": 12,
    "start_time": "2022-05-01T22:15:15.151Z"
   },
   {
    "duration": 17,
    "start_time": "2022-05-01T22:16:08.330Z"
   },
   {
    "duration": 138,
    "start_time": "2022-05-01T22:16:24.176Z"
   },
   {
    "duration": 27,
    "start_time": "2022-05-01T22:16:42.251Z"
   },
   {
    "duration": 1545,
    "start_time": "2022-05-01T22:17:18.414Z"
   },
   {
    "duration": 2617,
    "start_time": "2022-05-01T22:21:10.110Z"
   },
   {
    "duration": 673,
    "start_time": "2022-05-01T22:24:47.570Z"
   },
   {
    "duration": 737,
    "start_time": "2022-05-01T22:29:35.510Z"
   },
   {
    "duration": 919,
    "start_time": "2022-05-01T22:30:07.950Z"
   },
   {
    "duration": 665,
    "start_time": "2022-05-01T22:33:49.610Z"
   },
   {
    "duration": 661,
    "start_time": "2022-05-01T22:38:08.349Z"
   },
   {
    "duration": 287,
    "start_time": "2022-05-01T22:38:29.548Z"
   },
   {
    "duration": 306,
    "start_time": "2022-05-01T22:38:49.149Z"
   },
   {
    "duration": 652,
    "start_time": "2022-05-01T22:39:04.970Z"
   },
   {
    "duration": 644,
    "start_time": "2022-05-01T22:41:34.891Z"
   },
   {
    "duration": 1195,
    "start_time": "2022-05-01T22:41:35.539Z"
   },
   {
    "duration": 1047,
    "start_time": "2022-05-01T22:44:01.796Z"
   },
   {
    "duration": 991,
    "start_time": "2022-05-01T22:47:06.650Z"
   },
   {
    "duration": 115,
    "start_time": "2022-05-01T22:50:32.231Z"
   },
   {
    "duration": 655,
    "start_time": "2022-05-01T22:50:47.692Z"
   },
   {
    "duration": 657,
    "start_time": "2022-05-01T22:51:05.751Z"
   },
   {
    "duration": 771,
    "start_time": "2022-05-01T22:51:13.569Z"
   },
   {
    "duration": 1550,
    "start_time": "2022-05-01T22:51:14.343Z"
   },
   {
    "duration": 459,
    "start_time": "2022-05-01T22:52:13.591Z"
   },
   {
    "duration": 687,
    "start_time": "2022-05-01T22:52:14.053Z"
   },
   {
    "duration": 677,
    "start_time": "2022-05-01T22:52:45.710Z"
   },
   {
    "duration": 667,
    "start_time": "2022-05-01T22:53:09.576Z"
   },
   {
    "duration": 671,
    "start_time": "2022-05-01T22:54:34.530Z"
   },
   {
    "duration": 966,
    "start_time": "2022-05-01T22:55:24.470Z"
   },
   {
    "duration": 653,
    "start_time": "2022-05-01T22:55:41.309Z"
   },
   {
    "duration": 662,
    "start_time": "2022-05-01T22:55:56.169Z"
   },
   {
    "duration": 929,
    "start_time": "2022-05-01T22:58:25.091Z"
   },
   {
    "duration": 758,
    "start_time": "2022-05-01T22:58:56.892Z"
   },
   {
    "duration": 514,
    "start_time": "2022-05-01T23:00:24.749Z"
   },
   {
    "duration": 524,
    "start_time": "2022-05-01T23:01:46.477Z"
   },
   {
    "duration": 509,
    "start_time": "2022-05-01T23:01:56.791Z"
   },
   {
    "duration": 19,
    "start_time": "2022-05-01T23:05:17.198Z"
   },
   {
    "duration": 19,
    "start_time": "2022-05-01T23:06:09.508Z"
   },
   {
    "duration": 19,
    "start_time": "2022-05-01T23:07:00.728Z"
   },
   {
    "duration": 46,
    "start_time": "2022-05-01T23:08:10.328Z"
   },
   {
    "duration": 209,
    "start_time": "2022-05-01T23:09:35.780Z"
   },
   {
    "duration": 634,
    "start_time": "2022-05-01T23:10:02.029Z"
   },
   {
    "duration": 665,
    "start_time": "2022-05-01T23:11:49.909Z"
   },
   {
    "duration": 665,
    "start_time": "2022-05-01T23:12:04.949Z"
   },
   {
    "duration": 685,
    "start_time": "2022-05-01T23:12:05.616Z"
   },
   {
    "duration": 646,
    "start_time": "2022-05-01T23:12:19.349Z"
   },
   {
    "duration": 664,
    "start_time": "2022-05-01T23:12:19.998Z"
   },
   {
    "duration": 660,
    "start_time": "2022-05-01T23:12:29.428Z"
   },
   {
    "duration": 657,
    "start_time": "2022-05-01T23:12:39.578Z"
   },
   {
    "duration": 670,
    "start_time": "2022-05-01T23:12:40.238Z"
   },
   {
    "duration": 1154,
    "start_time": "2022-05-01T23:13:10.010Z"
   },
   {
    "duration": 647,
    "start_time": "2022-05-01T23:13:19.691Z"
   },
   {
    "duration": 1068,
    "start_time": "2022-05-01T23:13:29.691Z"
   },
   {
    "duration": 676,
    "start_time": "2022-05-01T23:13:51.929Z"
   },
   {
    "duration": 661,
    "start_time": "2022-05-01T23:13:52.608Z"
   },
   {
    "duration": 658,
    "start_time": "2022-05-01T23:14:12.750Z"
   },
   {
    "duration": 678,
    "start_time": "2022-05-01T23:14:13.410Z"
   },
   {
    "duration": 677,
    "start_time": "2022-05-01T23:14:22.009Z"
   },
   {
    "duration": 2039,
    "start_time": "2022-05-01T23:14:58.481Z"
   },
   {
    "duration": 2074,
    "start_time": "2022-05-01T23:15:14.838Z"
   },
   {
    "duration": 1460,
    "start_time": "2022-05-01T23:15:33.869Z"
   },
   {
    "duration": 1436,
    "start_time": "2022-05-01T23:15:45.093Z"
   },
   {
    "duration": 1561,
    "start_time": "2022-05-01T23:16:01.029Z"
   },
   {
    "duration": 3094,
    "start_time": "2022-05-01T23:16:21.990Z"
   },
   {
    "duration": 2490,
    "start_time": "2022-05-01T23:16:44.508Z"
   },
   {
    "duration": 1579,
    "start_time": "2022-05-01T23:17:08.908Z"
   },
   {
    "duration": 1438,
    "start_time": "2022-05-01T23:17:23.308Z"
   },
   {
    "duration": 2724,
    "start_time": "2022-05-01T23:17:47.768Z"
   },
   {
    "duration": 1059,
    "start_time": "2022-05-01T23:18:04.349Z"
   },
   {
    "duration": 1050,
    "start_time": "2022-05-01T23:18:20.149Z"
   },
   {
    "duration": 1036,
    "start_time": "2022-05-01T23:18:43.318Z"
   },
   {
    "duration": 1097,
    "start_time": "2022-05-01T23:19:02.270Z"
   },
   {
    "duration": 1150,
    "start_time": "2022-05-01T23:23:08.885Z"
   },
   {
    "duration": 1169,
    "start_time": "2022-05-01T23:25:16.808Z"
   },
   {
    "duration": 1052,
    "start_time": "2022-05-01T23:26:11.290Z"
   },
   {
    "duration": 1159,
    "start_time": "2022-05-01T23:26:33.228Z"
   },
   {
    "duration": 2800,
    "start_time": "2022-05-01T23:27:35.889Z"
   },
   {
    "duration": 44,
    "start_time": "2022-05-04T09:43:51.590Z"
   },
   {
    "duration": 1318,
    "start_time": "2022-05-04T09:43:59.072Z"
   },
   {
    "duration": 474,
    "start_time": "2022-05-04T09:44:00.392Z"
   },
   {
    "duration": 16,
    "start_time": "2022-05-04T09:44:00.868Z"
   },
   {
    "duration": 11,
    "start_time": "2022-05-04T09:44:00.886Z"
   },
   {
    "duration": 22,
    "start_time": "2022-05-04T09:44:00.899Z"
   },
   {
    "duration": 7,
    "start_time": "2022-05-04T09:44:00.922Z"
   },
   {
    "duration": 31,
    "start_time": "2022-05-04T09:44:00.930Z"
   },
   {
    "duration": 18,
    "start_time": "2022-05-04T09:44:00.963Z"
   },
   {
    "duration": 131,
    "start_time": "2022-05-04T09:44:00.983Z"
   },
   {
    "duration": 75,
    "start_time": "2022-05-04T09:44:01.118Z"
   },
   {
    "duration": 31,
    "start_time": "2022-05-04T09:44:01.195Z"
   },
   {
    "duration": 227,
    "start_time": "2022-05-04T09:44:01.227Z"
   },
   {
    "duration": 11,
    "start_time": "2022-05-04T09:44:01.457Z"
   },
   {
    "duration": 29,
    "start_time": "2022-05-04T09:44:01.470Z"
   },
   {
    "duration": 292,
    "start_time": "2022-05-04T09:44:01.500Z"
   },
   {
    "duration": 16,
    "start_time": "2022-05-04T09:44:01.794Z"
   },
   {
    "duration": 65,
    "start_time": "2022-05-04T09:44:01.812Z"
   },
   {
    "duration": 8,
    "start_time": "2022-05-04T09:44:01.879Z"
   },
   {
    "duration": 69,
    "start_time": "2022-05-04T09:44:01.888Z"
   },
   {
    "duration": 29,
    "start_time": "2022-05-04T09:44:01.959Z"
   },
   {
    "duration": 24,
    "start_time": "2022-05-04T09:44:01.990Z"
   },
   {
    "duration": 50,
    "start_time": "2022-05-04T09:44:02.015Z"
   },
   {
    "duration": 8,
    "start_time": "2022-05-04T09:44:02.066Z"
   },
   {
    "duration": 14,
    "start_time": "2022-05-04T09:44:02.076Z"
   },
   {
    "duration": 19,
    "start_time": "2022-05-04T09:44:02.092Z"
   },
   {
    "duration": 16,
    "start_time": "2022-05-04T09:44:02.113Z"
   },
   {
    "duration": 22,
    "start_time": "2022-05-04T09:44:02.131Z"
   },
   {
    "duration": 16,
    "start_time": "2022-05-04T09:44:02.157Z"
   },
   {
    "duration": 5,
    "start_time": "2022-05-04T09:44:02.175Z"
   },
   {
    "duration": 14,
    "start_time": "2022-05-04T09:44:02.181Z"
   },
   {
    "duration": 264,
    "start_time": "2022-05-04T09:44:02.197Z"
   },
   {
    "duration": 5,
    "start_time": "2022-05-04T09:44:02.463Z"
   },
   {
    "duration": 5,
    "start_time": "2022-05-04T09:44:02.469Z"
   },
   {
    "duration": 22,
    "start_time": "2022-05-04T09:44:02.476Z"
   },
   {
    "duration": 64,
    "start_time": "2022-05-04T09:44:02.499Z"
   },
   {
    "duration": 15,
    "start_time": "2022-05-04T09:44:02.565Z"
   },
   {
    "duration": 12,
    "start_time": "2022-05-04T09:44:02.581Z"
   },
   {
    "duration": 7,
    "start_time": "2022-05-04T09:44:02.595Z"
   },
   {
    "duration": 15,
    "start_time": "2022-05-04T09:44:02.604Z"
   },
   {
    "duration": 32,
    "start_time": "2022-05-04T09:44:02.621Z"
   },
   {
    "duration": 23,
    "start_time": "2022-05-04T09:44:02.655Z"
   },
   {
    "duration": 14,
    "start_time": "2022-05-04T09:44:02.679Z"
   },
   {
    "duration": 15,
    "start_time": "2022-05-04T09:44:02.695Z"
   },
   {
    "duration": 67,
    "start_time": "2022-05-04T09:44:02.711Z"
   },
   {
    "duration": 438,
    "start_time": "2022-05-04T09:44:02.781Z"
   },
   {
    "duration": 451,
    "start_time": "2022-05-04T09:44:03.220Z"
   },
   {
    "duration": 365,
    "start_time": "2022-05-04T09:44:03.673Z"
   },
   {
    "duration": 36,
    "start_time": "2022-05-04T09:44:04.040Z"
   },
   {
    "duration": 129,
    "start_time": "2022-05-04T09:44:04.077Z"
   },
   {
    "duration": 133,
    "start_time": "2022-05-04T09:44:04.207Z"
   },
   {
    "duration": 23,
    "start_time": "2022-05-04T09:44:04.342Z"
   },
   {
    "duration": 5,
    "start_time": "2022-05-04T09:44:04.367Z"
   },
   {
    "duration": 20,
    "start_time": "2022-05-04T09:44:04.374Z"
   },
   {
    "duration": 10,
    "start_time": "2022-05-04T09:44:04.396Z"
   },
   {
    "duration": 43,
    "start_time": "2022-05-04T09:44:04.407Z"
   },
   {
    "duration": 103,
    "start_time": "2022-05-04T09:54:45.110Z"
   },
   {
    "duration": 9,
    "start_time": "2022-05-04T09:55:10.819Z"
   },
   {
    "duration": 16,
    "start_time": "2022-05-04T09:57:21.465Z"
   },
   {
    "duration": 18,
    "start_time": "2022-05-04T09:57:48.410Z"
   },
   {
    "duration": 16,
    "start_time": "2022-05-04T10:03:09.572Z"
   },
   {
    "duration": 14,
    "start_time": "2022-05-04T10:05:29.305Z"
   },
   {
    "duration": 2266,
    "start_time": "2022-05-04T10:06:36.901Z"
   },
   {
    "duration": 2308,
    "start_time": "2022-05-04T10:07:41.506Z"
   },
   {
    "duration": 7918,
    "start_time": "2022-05-04T10:08:04.163Z"
   },
   {
    "duration": 2290,
    "start_time": "2022-05-04T10:08:18.181Z"
   },
   {
    "duration": 1113,
    "start_time": "2022-05-04T10:08:41.905Z"
   },
   {
    "duration": 404,
    "start_time": "2022-05-04T10:08:43.020Z"
   },
   {
    "duration": 12,
    "start_time": "2022-05-04T10:08:43.425Z"
   },
   {
    "duration": 11,
    "start_time": "2022-05-04T10:08:43.439Z"
   },
   {
    "duration": 35,
    "start_time": "2022-05-04T10:08:43.452Z"
   },
   {
    "duration": 7,
    "start_time": "2022-05-04T10:08:43.488Z"
   },
   {
    "duration": 10,
    "start_time": "2022-05-04T10:08:43.496Z"
   },
   {
    "duration": 10,
    "start_time": "2022-05-04T10:08:43.507Z"
   },
   {
    "duration": 83,
    "start_time": "2022-05-04T10:08:43.519Z"
   },
   {
    "duration": 64,
    "start_time": "2022-05-04T10:08:43.605Z"
   },
   {
    "duration": 30,
    "start_time": "2022-05-04T10:08:43.671Z"
   },
   {
    "duration": 206,
    "start_time": "2022-05-04T10:08:43.703Z"
   },
   {
    "duration": 8,
    "start_time": "2022-05-04T10:08:43.911Z"
   },
   {
    "duration": 44,
    "start_time": "2022-05-04T10:08:43.921Z"
   },
   {
    "duration": 281,
    "start_time": "2022-05-04T10:08:43.966Z"
   },
   {
    "duration": 26,
    "start_time": "2022-05-04T10:08:44.251Z"
   },
   {
    "duration": 47,
    "start_time": "2022-05-04T10:08:44.279Z"
   },
   {
    "duration": 27,
    "start_time": "2022-05-04T10:08:44.328Z"
   },
   {
    "duration": 59,
    "start_time": "2022-05-04T10:08:44.358Z"
   },
   {
    "duration": 27,
    "start_time": "2022-05-04T10:08:44.418Z"
   },
   {
    "duration": 33,
    "start_time": "2022-05-04T10:08:44.447Z"
   },
   {
    "duration": 20,
    "start_time": "2022-05-04T10:08:44.482Z"
   },
   {
    "duration": 4,
    "start_time": "2022-05-04T10:08:44.504Z"
   },
   {
    "duration": 7,
    "start_time": "2022-05-04T10:08:44.510Z"
   },
   {
    "duration": 46,
    "start_time": "2022-05-04T10:08:44.518Z"
   },
   {
    "duration": 25,
    "start_time": "2022-05-04T10:08:44.565Z"
   },
   {
    "duration": 7,
    "start_time": "2022-05-04T10:08:44.592Z"
   },
   {
    "duration": 15,
    "start_time": "2022-05-04T10:08:44.602Z"
   },
   {
    "duration": 5,
    "start_time": "2022-05-04T10:08:44.619Z"
   },
   {
    "duration": 21,
    "start_time": "2022-05-04T10:08:44.626Z"
   },
   {
    "duration": 270,
    "start_time": "2022-05-04T10:08:44.648Z"
   },
   {
    "duration": 4,
    "start_time": "2022-05-04T10:08:44.920Z"
   },
   {
    "duration": 5,
    "start_time": "2022-05-04T10:08:44.925Z"
   },
   {
    "duration": 38,
    "start_time": "2022-05-04T10:08:44.932Z"
   },
   {
    "duration": 25,
    "start_time": "2022-05-04T10:08:44.974Z"
   },
   {
    "duration": 3237,
    "start_time": "2022-05-04T10:08:45.000Z"
   },
   {
    "duration": 0,
    "start_time": "2022-05-04T10:08:48.239Z"
   },
   {
    "duration": 0,
    "start_time": "2022-05-04T10:08:48.240Z"
   },
   {
    "duration": 0,
    "start_time": "2022-05-04T10:08:48.241Z"
   },
   {
    "duration": 0,
    "start_time": "2022-05-04T10:08:48.243Z"
   },
   {
    "duration": 0,
    "start_time": "2022-05-04T10:08:48.243Z"
   },
   {
    "duration": 0,
    "start_time": "2022-05-04T10:08:48.245Z"
   },
   {
    "duration": 0,
    "start_time": "2022-05-04T10:08:48.245Z"
   },
   {
    "duration": 0,
    "start_time": "2022-05-04T10:08:48.246Z"
   },
   {
    "duration": 0,
    "start_time": "2022-05-04T10:08:48.247Z"
   },
   {
    "duration": 0,
    "start_time": "2022-05-04T10:08:48.248Z"
   },
   {
    "duration": 0,
    "start_time": "2022-05-04T10:08:48.248Z"
   },
   {
    "duration": 0,
    "start_time": "2022-05-04T10:08:48.249Z"
   },
   {
    "duration": 0,
    "start_time": "2022-05-04T10:08:48.250Z"
   },
   {
    "duration": 0,
    "start_time": "2022-05-04T10:08:48.250Z"
   },
   {
    "duration": 0,
    "start_time": "2022-05-04T10:08:48.257Z"
   },
   {
    "duration": 0,
    "start_time": "2022-05-04T10:08:48.259Z"
   },
   {
    "duration": 0,
    "start_time": "2022-05-04T10:08:48.262Z"
   },
   {
    "duration": 0,
    "start_time": "2022-05-04T10:08:48.263Z"
   },
   {
    "duration": 0,
    "start_time": "2022-05-04T10:08:48.264Z"
   },
   {
    "duration": 0,
    "start_time": "2022-05-04T10:08:48.265Z"
   },
   {
    "duration": 0,
    "start_time": "2022-05-04T10:08:48.267Z"
   },
   {
    "duration": 14,
    "start_time": "2022-05-04T10:09:21.317Z"
   },
   {
    "duration": 16,
    "start_time": "2022-05-04T10:09:55.492Z"
   },
   {
    "duration": 210,
    "start_time": "2022-05-04T10:10:29.905Z"
   },
   {
    "duration": 232,
    "start_time": "2022-05-04T10:11:06.245Z"
   },
   {
    "duration": 11,
    "start_time": "2022-05-04T10:11:06.479Z"
   },
   {
    "duration": 148,
    "start_time": "2022-05-04T10:11:12.350Z"
   },
   {
    "duration": 18,
    "start_time": "2022-05-04T10:11:31.669Z"
   },
   {
    "duration": 10,
    "start_time": "2022-05-04T10:11:38.581Z"
   },
   {
    "duration": 17,
    "start_time": "2022-05-04T10:11:52.275Z"
   },
   {
    "duration": 28,
    "start_time": "2022-05-04T10:12:04.205Z"
   },
   {
    "duration": 14,
    "start_time": "2022-05-04T10:12:05.775Z"
   },
   {
    "duration": 1189,
    "start_time": "2022-05-04T10:12:12.774Z"
   },
   {
    "duration": 415,
    "start_time": "2022-05-04T10:12:13.973Z"
   },
   {
    "duration": 12,
    "start_time": "2022-05-04T10:12:14.389Z"
   },
   {
    "duration": 7,
    "start_time": "2022-05-04T10:12:14.403Z"
   },
   {
    "duration": 13,
    "start_time": "2022-05-04T10:12:14.412Z"
   },
   {
    "duration": 8,
    "start_time": "2022-05-04T10:12:14.427Z"
   },
   {
    "duration": 10,
    "start_time": "2022-05-04T10:12:14.436Z"
   },
   {
    "duration": 40,
    "start_time": "2022-05-04T10:12:14.447Z"
   },
   {
    "duration": 92,
    "start_time": "2022-05-04T10:12:14.489Z"
   },
   {
    "duration": 50,
    "start_time": "2022-05-04T10:12:14.583Z"
   },
   {
    "duration": 52,
    "start_time": "2022-05-04T10:12:14.635Z"
   },
   {
    "duration": 211,
    "start_time": "2022-05-04T10:12:14.689Z"
   },
   {
    "duration": 8,
    "start_time": "2022-05-04T10:12:14.902Z"
   },
   {
    "duration": 19,
    "start_time": "2022-05-04T10:12:14.913Z"
   },
   {
    "duration": 320,
    "start_time": "2022-05-04T10:12:14.934Z"
   },
   {
    "duration": 21,
    "start_time": "2022-05-04T10:12:15.256Z"
   },
   {
    "duration": 46,
    "start_time": "2022-05-04T10:12:15.279Z"
   },
   {
    "duration": 26,
    "start_time": "2022-05-04T10:12:15.326Z"
   },
   {
    "duration": 65,
    "start_time": "2022-05-04T10:12:15.354Z"
   },
   {
    "duration": 33,
    "start_time": "2022-05-04T10:12:15.421Z"
   },
   {
    "duration": 30,
    "start_time": "2022-05-04T10:12:15.456Z"
   },
   {
    "duration": 21,
    "start_time": "2022-05-04T10:12:15.488Z"
   },
   {
    "duration": 5,
    "start_time": "2022-05-04T10:12:15.510Z"
   },
   {
    "duration": 7,
    "start_time": "2022-05-04T10:12:15.517Z"
   },
   {
    "duration": 56,
    "start_time": "2022-05-04T10:12:15.525Z"
   },
   {
    "duration": 13,
    "start_time": "2022-05-04T10:12:15.583Z"
   },
   {
    "duration": 5,
    "start_time": "2022-05-04T10:12:15.598Z"
   },
   {
    "duration": 16,
    "start_time": "2022-05-04T10:12:15.604Z"
   },
   {
    "duration": 6,
    "start_time": "2022-05-04T10:12:15.621Z"
   },
   {
    "duration": 12,
    "start_time": "2022-05-04T10:12:15.628Z"
   },
   {
    "duration": 278,
    "start_time": "2022-05-04T10:12:15.641Z"
   },
   {
    "duration": 4,
    "start_time": "2022-05-04T10:12:15.921Z"
   },
   {
    "duration": 8,
    "start_time": "2022-05-04T10:12:15.927Z"
   },
   {
    "duration": 36,
    "start_time": "2022-05-04T10:12:15.936Z"
   },
   {
    "duration": 20,
    "start_time": "2022-05-04T10:12:15.974Z"
   },
   {
    "duration": 16,
    "start_time": "2022-05-04T10:12:15.995Z"
   },
   {
    "duration": 49,
    "start_time": "2022-05-04T10:12:16.013Z"
   },
   {
    "duration": 18,
    "start_time": "2022-05-04T10:12:16.064Z"
   },
   {
    "duration": 12,
    "start_time": "2022-05-04T10:12:16.083Z"
   },
   {
    "duration": 6,
    "start_time": "2022-05-04T10:12:16.097Z"
   },
   {
    "duration": 15,
    "start_time": "2022-05-04T10:12:16.106Z"
   },
   {
    "duration": 30,
    "start_time": "2022-05-04T10:12:16.122Z"
   },
   {
    "duration": 23,
    "start_time": "2022-05-04T10:12:16.159Z"
   },
   {
    "duration": 14,
    "start_time": "2022-05-04T10:12:16.185Z"
   },
   {
    "duration": 15,
    "start_time": "2022-05-04T10:12:16.201Z"
   },
   {
    "duration": 44,
    "start_time": "2022-05-04T10:12:16.218Z"
   },
   {
    "duration": 385,
    "start_time": "2022-05-04T10:12:16.263Z"
   },
   {
    "duration": 454,
    "start_time": "2022-05-04T10:12:16.650Z"
   },
   {
    "duration": 383,
    "start_time": "2022-05-04T10:12:17.106Z"
   },
   {
    "duration": 26,
    "start_time": "2022-05-04T10:12:17.491Z"
   },
   {
    "duration": 124,
    "start_time": "2022-05-04T10:12:17.519Z"
   },
   {
    "duration": 142,
    "start_time": "2022-05-04T10:12:17.647Z"
   },
   {
    "duration": 22,
    "start_time": "2022-05-04T10:12:17.792Z"
   },
   {
    "duration": 6,
    "start_time": "2022-05-04T10:12:17.816Z"
   },
   {
    "duration": 50,
    "start_time": "2022-05-04T10:12:17.824Z"
   },
   {
    "duration": 13,
    "start_time": "2022-05-04T10:12:17.875Z"
   },
   {
    "duration": 19,
    "start_time": "2022-05-04T10:12:17.890Z"
   },
   {
    "duration": 883,
    "start_time": "2022-05-04T10:16:01.513Z"
   },
   {
    "duration": 127,
    "start_time": "2022-05-04T10:19:42.512Z"
   },
   {
    "duration": 158,
    "start_time": "2022-05-04T10:20:18.911Z"
   },
   {
    "duration": 148,
    "start_time": "2022-05-04T10:20:32.334Z"
   },
   {
    "duration": 21,
    "start_time": "2022-05-04T10:21:02.273Z"
   },
   {
    "duration": 20,
    "start_time": "2022-05-04T10:22:23.772Z"
   },
   {
    "duration": 18,
    "start_time": "2022-05-04T10:22:44.328Z"
   },
   {
    "duration": 259,
    "start_time": "2022-05-04T10:24:07.324Z"
   },
   {
    "duration": 2182,
    "start_time": "2022-05-04T10:26:03.928Z"
   },
   {
    "duration": 18,
    "start_time": "2022-05-04T10:26:33.708Z"
   },
   {
    "duration": 204,
    "start_time": "2022-05-04T10:29:33.807Z"
   },
   {
    "duration": 145,
    "start_time": "2022-05-04T10:38:22.402Z"
   },
   {
    "duration": 145,
    "start_time": "2022-05-04T10:38:57.122Z"
   },
   {
    "duration": 31,
    "start_time": "2022-05-04T10:39:49.186Z"
   },
   {
    "duration": 131,
    "start_time": "2022-05-04T10:40:26.643Z"
   },
   {
    "duration": 138,
    "start_time": "2022-05-04T10:40:55.471Z"
   },
   {
    "duration": 132,
    "start_time": "2022-05-04T10:43:33.061Z"
   },
   {
    "duration": 111,
    "start_time": "2022-05-04T10:44:14.110Z"
   },
   {
    "duration": 124,
    "start_time": "2022-05-04T10:45:53.542Z"
   },
   {
    "duration": 121,
    "start_time": "2022-05-04T10:46:43.394Z"
   },
   {
    "duration": 242,
    "start_time": "2022-05-04T10:47:19.522Z"
   },
   {
    "duration": 483,
    "start_time": "2022-05-04T10:50:07.902Z"
   },
   {
    "duration": 240,
    "start_time": "2022-05-04T10:52:07.461Z"
   },
   {
    "duration": 133,
    "start_time": "2022-05-04T10:58:04.185Z"
   },
   {
    "duration": 154,
    "start_time": "2022-05-04T10:59:44.440Z"
   },
   {
    "duration": 191,
    "start_time": "2022-05-04T10:59:59.768Z"
   },
   {
    "duration": 15,
    "start_time": "2022-05-04T11:04:58.163Z"
   },
   {
    "duration": 15,
    "start_time": "2022-05-04T11:05:17.871Z"
   },
   {
    "duration": 15,
    "start_time": "2022-05-04T11:05:26.641Z"
   },
   {
    "duration": 1199,
    "start_time": "2022-05-04T11:05:39.580Z"
   },
   {
    "duration": 397,
    "start_time": "2022-05-04T11:05:40.780Z"
   },
   {
    "duration": 11,
    "start_time": "2022-05-04T11:05:41.179Z"
   },
   {
    "duration": 10,
    "start_time": "2022-05-04T11:05:41.192Z"
   },
   {
    "duration": 15,
    "start_time": "2022-05-04T11:05:41.205Z"
   },
   {
    "duration": 7,
    "start_time": "2022-05-04T11:05:41.222Z"
   },
   {
    "duration": 9,
    "start_time": "2022-05-04T11:05:41.230Z"
   },
   {
    "duration": 13,
    "start_time": "2022-05-04T11:05:41.241Z"
   },
   {
    "duration": 101,
    "start_time": "2022-05-04T11:05:41.255Z"
   },
   {
    "duration": 52,
    "start_time": "2022-05-04T11:05:41.358Z"
   },
   {
    "duration": 41,
    "start_time": "2022-05-04T11:05:41.412Z"
   },
   {
    "duration": 191,
    "start_time": "2022-05-04T11:05:41.455Z"
   },
   {
    "duration": 12,
    "start_time": "2022-05-04T11:05:41.650Z"
   },
   {
    "duration": 16,
    "start_time": "2022-05-04T11:05:41.666Z"
   },
   {
    "duration": 297,
    "start_time": "2022-05-04T11:05:41.684Z"
   },
   {
    "duration": 17,
    "start_time": "2022-05-04T11:05:41.982Z"
   },
   {
    "duration": 60,
    "start_time": "2022-05-04T11:05:42.001Z"
   },
   {
    "duration": 8,
    "start_time": "2022-05-04T11:05:42.062Z"
   },
   {
    "duration": 44,
    "start_time": "2022-05-04T11:05:42.071Z"
   },
   {
    "duration": 55,
    "start_time": "2022-05-04T11:05:42.116Z"
   },
   {
    "duration": 25,
    "start_time": "2022-05-04T11:05:42.172Z"
   },
   {
    "duration": 22,
    "start_time": "2022-05-04T11:05:42.199Z"
   },
   {
    "duration": 33,
    "start_time": "2022-05-04T11:05:42.223Z"
   },
   {
    "duration": 15,
    "start_time": "2022-05-04T11:05:42.258Z"
   },
   {
    "duration": 10,
    "start_time": "2022-05-04T11:05:42.275Z"
   },
   {
    "duration": 14,
    "start_time": "2022-05-04T11:05:42.286Z"
   },
   {
    "duration": 6,
    "start_time": "2022-05-04T11:05:42.302Z"
   },
   {
    "duration": 17,
    "start_time": "2022-05-04T11:05:42.310Z"
   },
   {
    "duration": 5,
    "start_time": "2022-05-04T11:05:42.329Z"
   },
   {
    "duration": 11,
    "start_time": "2022-05-04T11:05:42.352Z"
   },
   {
    "duration": 419,
    "start_time": "2022-05-04T11:05:42.365Z"
   },
   {
    "duration": 4,
    "start_time": "2022-05-04T11:05:42.786Z"
   },
   {
    "duration": 4,
    "start_time": "2022-05-04T11:05:42.792Z"
   },
   {
    "duration": 28,
    "start_time": "2022-05-04T11:05:42.798Z"
   },
   {
    "duration": 23,
    "start_time": "2022-05-04T11:05:42.853Z"
   },
   {
    "duration": 105,
    "start_time": "2022-05-04T11:05:42.878Z"
   },
   {
    "duration": 0,
    "start_time": "2022-05-04T11:05:42.984Z"
   },
   {
    "duration": 0,
    "start_time": "2022-05-04T11:05:42.985Z"
   },
   {
    "duration": 0,
    "start_time": "2022-05-04T11:05:42.986Z"
   },
   {
    "duration": 0,
    "start_time": "2022-05-04T11:05:42.987Z"
   },
   {
    "duration": 0,
    "start_time": "2022-05-04T11:05:42.988Z"
   },
   {
    "duration": 0,
    "start_time": "2022-05-04T11:05:42.989Z"
   },
   {
    "duration": 0,
    "start_time": "2022-05-04T11:05:42.990Z"
   },
   {
    "duration": 0,
    "start_time": "2022-05-04T11:05:42.991Z"
   },
   {
    "duration": 0,
    "start_time": "2022-05-04T11:05:42.992Z"
   },
   {
    "duration": 0,
    "start_time": "2022-05-04T11:05:42.993Z"
   },
   {
    "duration": 0,
    "start_time": "2022-05-04T11:05:42.994Z"
   },
   {
    "duration": 0,
    "start_time": "2022-05-04T11:05:42.996Z"
   },
   {
    "duration": 0,
    "start_time": "2022-05-04T11:05:42.997Z"
   },
   {
    "duration": 0,
    "start_time": "2022-05-04T11:05:42.998Z"
   },
   {
    "duration": 0,
    "start_time": "2022-05-04T11:05:42.999Z"
   },
   {
    "duration": 0,
    "start_time": "2022-05-04T11:05:43.000Z"
   },
   {
    "duration": 0,
    "start_time": "2022-05-04T11:05:43.001Z"
   },
   {
    "duration": 0,
    "start_time": "2022-05-04T11:05:43.002Z"
   },
   {
    "duration": 0,
    "start_time": "2022-05-04T11:05:43.003Z"
   },
   {
    "duration": 0,
    "start_time": "2022-05-04T11:05:43.004Z"
   },
   {
    "duration": 0,
    "start_time": "2022-05-04T11:05:43.005Z"
   },
   {
    "duration": 0,
    "start_time": "2022-05-04T11:05:43.049Z"
   },
   {
    "duration": 0,
    "start_time": "2022-05-04T11:05:43.050Z"
   },
   {
    "duration": 13,
    "start_time": "2022-05-04T11:06:25.969Z"
   },
   {
    "duration": 20,
    "start_time": "2022-05-04T11:06:33.488Z"
   },
   {
    "duration": 23,
    "start_time": "2022-05-04T11:19:58.309Z"
   },
   {
    "duration": 143,
    "start_time": "2022-05-04T11:23:37.289Z"
   },
   {
    "duration": 29,
    "start_time": "2022-05-04T11:23:52.514Z"
   },
   {
    "duration": 14,
    "start_time": "2022-05-04T11:23:55.789Z"
   },
   {
    "duration": 13,
    "start_time": "2022-05-04T11:24:00.949Z"
   },
   {
    "duration": 7,
    "start_time": "2022-05-04T11:24:01.840Z"
   },
   {
    "duration": 15,
    "start_time": "2022-05-04T11:24:04.211Z"
   },
   {
    "duration": 6,
    "start_time": "2022-05-04T11:24:07.309Z"
   },
   {
    "duration": 15,
    "start_time": "2022-05-04T11:24:17.889Z"
   },
   {
    "duration": 14,
    "start_time": "2022-05-04T11:24:22.429Z"
   },
   {
    "duration": 15,
    "start_time": "2022-05-04T11:24:23.708Z"
   },
   {
    "duration": 28,
    "start_time": "2022-05-04T11:24:24.769Z"
   },
   {
    "duration": 348,
    "start_time": "2022-05-04T11:24:33.549Z"
   },
   {
    "duration": 431,
    "start_time": "2022-05-04T11:24:36.830Z"
   },
   {
    "duration": 501,
    "start_time": "2022-05-04T11:24:40.349Z"
   },
   {
    "duration": 29,
    "start_time": "2022-05-04T11:25:06.379Z"
   },
   {
    "duration": 114,
    "start_time": "2022-05-04T11:25:07.691Z"
   },
   {
    "duration": 121,
    "start_time": "2022-05-04T11:25:10.390Z"
   },
   {
    "duration": 21,
    "start_time": "2022-05-04T11:34:08.949Z"
   },
   {
    "duration": 166,
    "start_time": "2022-05-04T11:34:44.994Z"
   },
   {
    "duration": 222,
    "start_time": "2022-05-04T11:43:46.829Z"
   },
   {
    "duration": 17,
    "start_time": "2022-05-04T12:09:56.101Z"
   },
   {
    "duration": 22,
    "start_time": "2022-05-04T12:10:01.462Z"
   },
   {
    "duration": 21,
    "start_time": "2022-05-04T12:10:16.710Z"
   },
   {
    "duration": 36,
    "start_time": "2022-05-04T12:10:32.029Z"
   },
   {
    "duration": 573,
    "start_time": "2022-05-04T12:12:46.192Z"
   },
   {
    "duration": 375,
    "start_time": "2022-05-04T12:13:11.365Z"
   },
   {
    "duration": 459,
    "start_time": "2022-05-04T12:13:30.832Z"
   },
   {
    "duration": 378,
    "start_time": "2022-05-04T12:13:42.191Z"
   },
   {
    "duration": 494,
    "start_time": "2022-05-04T12:14:04.256Z"
   },
   {
    "duration": 359,
    "start_time": "2022-05-04T12:14:17.351Z"
   },
   {
    "duration": 15,
    "start_time": "2022-05-04T12:16:06.531Z"
   },
   {
    "duration": 16,
    "start_time": "2022-05-04T12:16:12.567Z"
   },
   {
    "duration": 31,
    "start_time": "2022-05-04T12:16:19.615Z"
   },
   {
    "duration": 14,
    "start_time": "2022-05-04T12:17:20.240Z"
   },
   {
    "duration": 12,
    "start_time": "2022-05-04T12:18:31.463Z"
   },
   {
    "duration": 19,
    "start_time": "2022-05-04T12:19:10.047Z"
   },
   {
    "duration": 139,
    "start_time": "2022-05-04T12:20:10.127Z"
   },
   {
    "duration": 48,
    "start_time": "2022-05-04T12:20:46.337Z"
   },
   {
    "duration": 1275,
    "start_time": "2022-05-04T12:21:22.082Z"
   },
   {
    "duration": 421,
    "start_time": "2022-05-04T12:21:23.362Z"
   },
   {
    "duration": 12,
    "start_time": "2022-05-04T12:21:23.786Z"
   },
   {
    "duration": 9,
    "start_time": "2022-05-04T12:21:23.799Z"
   },
   {
    "duration": 13,
    "start_time": "2022-05-04T12:21:23.810Z"
   },
   {
    "duration": 7,
    "start_time": "2022-05-04T12:21:23.824Z"
   },
   {
    "duration": 10,
    "start_time": "2022-05-04T12:21:23.833Z"
   },
   {
    "duration": 15,
    "start_time": "2022-05-04T12:21:23.848Z"
   },
   {
    "duration": 94,
    "start_time": "2022-05-04T12:21:23.865Z"
   },
   {
    "duration": 62,
    "start_time": "2022-05-04T12:21:23.962Z"
   },
   {
    "duration": 51,
    "start_time": "2022-05-04T12:21:24.025Z"
   },
   {
    "duration": 288,
    "start_time": "2022-05-04T12:21:24.077Z"
   },
   {
    "duration": 9,
    "start_time": "2022-05-04T12:21:24.367Z"
   },
   {
    "duration": 17,
    "start_time": "2022-05-04T12:21:24.379Z"
   },
   {
    "duration": 360,
    "start_time": "2022-05-04T12:21:24.398Z"
   },
   {
    "duration": 24,
    "start_time": "2022-05-04T12:21:24.760Z"
   },
   {
    "duration": 62,
    "start_time": "2022-05-04T12:21:24.786Z"
   },
   {
    "duration": 11,
    "start_time": "2022-05-04T12:21:24.850Z"
   },
   {
    "duration": 52,
    "start_time": "2022-05-04T12:21:24.863Z"
   },
   {
    "duration": 55,
    "start_time": "2022-05-04T12:21:24.917Z"
   },
   {
    "duration": 26,
    "start_time": "2022-05-04T12:21:24.974Z"
   },
   {
    "duration": 47,
    "start_time": "2022-05-04T12:21:25.002Z"
   },
   {
    "duration": 10,
    "start_time": "2022-05-04T12:21:25.051Z"
   },
   {
    "duration": 23,
    "start_time": "2022-05-04T12:21:25.063Z"
   },
   {
    "duration": 12,
    "start_time": "2022-05-04T12:21:25.088Z"
   },
   {
    "duration": 14,
    "start_time": "2022-05-04T12:21:25.101Z"
   },
   {
    "duration": 9,
    "start_time": "2022-05-04T12:21:25.116Z"
   },
   {
    "duration": 35,
    "start_time": "2022-05-04T12:21:25.126Z"
   },
   {
    "duration": 6,
    "start_time": "2022-05-04T12:21:25.164Z"
   },
   {
    "duration": 10,
    "start_time": "2022-05-04T12:21:25.172Z"
   },
   {
    "duration": 267,
    "start_time": "2022-05-04T12:21:25.184Z"
   },
   {
    "duration": 6,
    "start_time": "2022-05-04T12:21:25.454Z"
   },
   {
    "duration": 14,
    "start_time": "2022-05-04T12:21:25.462Z"
   },
   {
    "duration": 22,
    "start_time": "2022-05-04T12:21:25.478Z"
   },
   {
    "duration": 52,
    "start_time": "2022-05-04T12:21:25.502Z"
   },
   {
    "duration": 20,
    "start_time": "2022-05-04T12:21:25.556Z"
   },
   {
    "duration": 16,
    "start_time": "2022-05-04T12:21:25.579Z"
   },
   {
    "duration": 7,
    "start_time": "2022-05-04T12:21:25.597Z"
   },
   {
    "duration": 43,
    "start_time": "2022-05-04T12:21:25.606Z"
   },
   {
    "duration": 7,
    "start_time": "2022-05-04T12:21:25.651Z"
   },
   {
    "duration": 21,
    "start_time": "2022-05-04T12:21:25.662Z"
   },
   {
    "duration": 20,
    "start_time": "2022-05-04T12:21:25.685Z"
   },
   {
    "duration": 47,
    "start_time": "2022-05-04T12:21:25.707Z"
   },
   {
    "duration": 34,
    "start_time": "2022-05-04T12:21:25.756Z"
   },
   {
    "duration": 415,
    "start_time": "2022-05-04T12:21:25.792Z"
   },
   {
    "duration": 469,
    "start_time": "2022-05-04T12:21:26.209Z"
   },
   {
    "duration": 395,
    "start_time": "2022-05-04T12:21:26.680Z"
   },
   {
    "duration": 44,
    "start_time": "2022-05-04T12:21:27.077Z"
   },
   {
    "duration": 49,
    "start_time": "2022-05-04T12:21:27.123Z"
   },
   {
    "duration": 185,
    "start_time": "2022-05-04T12:21:27.174Z"
   },
   {
    "duration": 221,
    "start_time": "2022-05-04T12:21:27.361Z"
   },
   {
    "duration": 125,
    "start_time": "2022-05-04T12:21:27.584Z"
   },
   {
    "duration": 138,
    "start_time": "2022-05-04T12:21:27.711Z"
   },
   {
    "duration": 28,
    "start_time": "2022-05-04T12:21:27.851Z"
   },
   {
    "duration": 6,
    "start_time": "2022-05-04T12:21:27.881Z"
   },
   {
    "duration": 32,
    "start_time": "2022-05-04T12:21:27.889Z"
   },
   {
    "duration": 36,
    "start_time": "2022-05-04T12:21:27.923Z"
   },
   {
    "duration": 20,
    "start_time": "2022-05-04T12:21:27.961Z"
   },
   {
    "duration": 30,
    "start_time": "2022-05-04T12:22:26.169Z"
   },
   {
    "duration": 29,
    "start_time": "2022-05-04T12:22:52.797Z"
   },
   {
    "duration": 22,
    "start_time": "2022-05-04T12:23:18.693Z"
   },
   {
    "duration": 183,
    "start_time": "2022-05-04T12:23:39.246Z"
   },
   {
    "duration": 24,
    "start_time": "2022-05-04T12:24:04.680Z"
   },
   {
    "duration": 1310,
    "start_time": "2022-05-04T18:51:47.781Z"
   },
   {
    "duration": 362,
    "start_time": "2022-05-04T18:51:49.095Z"
   },
   {
    "duration": 12,
    "start_time": "2022-05-04T18:51:49.458Z"
   },
   {
    "duration": 11,
    "start_time": "2022-05-04T18:51:49.472Z"
   },
   {
    "duration": 16,
    "start_time": "2022-05-04T18:51:49.486Z"
   },
   {
    "duration": 10,
    "start_time": "2022-05-04T18:51:49.504Z"
   },
   {
    "duration": 10,
    "start_time": "2022-05-04T18:51:49.516Z"
   },
   {
    "duration": 13,
    "start_time": "2022-05-04T18:51:49.527Z"
   },
   {
    "duration": 120,
    "start_time": "2022-05-04T18:51:49.541Z"
   },
   {
    "duration": 63,
    "start_time": "2022-05-04T18:51:49.663Z"
   },
   {
    "duration": 26,
    "start_time": "2022-05-04T18:51:49.727Z"
   },
   {
    "duration": 190,
    "start_time": "2022-05-04T18:51:49.755Z"
   },
   {
    "duration": 9,
    "start_time": "2022-05-04T18:51:49.947Z"
   },
   {
    "duration": 20,
    "start_time": "2022-05-04T18:51:49.960Z"
   },
   {
    "duration": 371,
    "start_time": "2022-05-04T18:51:49.982Z"
   },
   {
    "duration": 17,
    "start_time": "2022-05-04T18:51:50.354Z"
   },
   {
    "duration": 67,
    "start_time": "2022-05-04T18:51:50.372Z"
   },
   {
    "duration": 7,
    "start_time": "2022-05-04T18:51:50.440Z"
   },
   {
    "duration": 42,
    "start_time": "2022-05-04T18:51:50.449Z"
   },
   {
    "duration": 43,
    "start_time": "2022-05-04T18:51:50.493Z"
   },
   {
    "duration": 22,
    "start_time": "2022-05-04T18:51:50.538Z"
   },
   {
    "duration": 21,
    "start_time": "2022-05-04T18:51:50.562Z"
   },
   {
    "duration": 5,
    "start_time": "2022-05-04T18:51:50.585Z"
   },
   {
    "duration": 33,
    "start_time": "2022-05-04T18:51:50.592Z"
   },
   {
    "duration": 6,
    "start_time": "2022-05-04T18:51:50.627Z"
   },
   {
    "duration": 13,
    "start_time": "2022-05-04T18:51:50.635Z"
   },
   {
    "duration": 9,
    "start_time": "2022-05-04T18:51:50.649Z"
   },
   {
    "duration": 44,
    "start_time": "2022-05-04T18:51:50.660Z"
   },
   {
    "duration": 5,
    "start_time": "2022-05-04T18:51:50.706Z"
   },
   {
    "duration": 16,
    "start_time": "2022-05-04T18:51:50.713Z"
   },
   {
    "duration": 436,
    "start_time": "2022-05-04T18:51:50.731Z"
   },
   {
    "duration": 5,
    "start_time": "2022-05-04T18:51:51.169Z"
   },
   {
    "duration": 8,
    "start_time": "2022-05-04T18:51:51.175Z"
   },
   {
    "duration": 43,
    "start_time": "2022-05-04T18:51:51.185Z"
   },
   {
    "duration": 44,
    "start_time": "2022-05-04T18:51:51.230Z"
   },
   {
    "duration": 20,
    "start_time": "2022-05-04T18:51:51.277Z"
   },
   {
    "duration": 36,
    "start_time": "2022-05-04T18:51:51.299Z"
   },
   {
    "duration": 10,
    "start_time": "2022-05-04T18:51:51.337Z"
   },
   {
    "duration": 16,
    "start_time": "2022-05-04T18:51:51.348Z"
   },
   {
    "duration": 7,
    "start_time": "2022-05-04T18:51:51.366Z"
   },
   {
    "duration": 15,
    "start_time": "2022-05-04T18:51:51.377Z"
   },
   {
    "duration": 47,
    "start_time": "2022-05-04T18:51:51.394Z"
   },
   {
    "duration": 20,
    "start_time": "2022-05-04T18:51:51.443Z"
   },
   {
    "duration": 82,
    "start_time": "2022-05-04T18:51:51.465Z"
   },
   {
    "duration": 977,
    "start_time": "2022-05-04T18:51:51.549Z"
   },
   {
    "duration": 833,
    "start_time": "2022-05-04T18:51:52.528Z"
   },
   {
    "duration": 415,
    "start_time": "2022-05-04T18:51:53.363Z"
   },
   {
    "duration": 28,
    "start_time": "2022-05-04T18:51:53.779Z"
   },
   {
    "duration": 32,
    "start_time": "2022-05-04T18:51:53.808Z"
   },
   {
    "duration": 162,
    "start_time": "2022-05-04T18:51:53.841Z"
   },
   {
    "duration": 154,
    "start_time": "2022-05-04T18:51:54.005Z"
   },
   {
    "duration": 163,
    "start_time": "2022-05-04T18:51:54.160Z"
   },
   {
    "duration": 130,
    "start_time": "2022-05-04T18:51:54.325Z"
   },
   {
    "duration": 17,
    "start_time": "2022-05-04T18:51:54.457Z"
   },
   {
    "duration": 5,
    "start_time": "2022-05-04T18:51:54.475Z"
   },
   {
    "duration": 32,
    "start_time": "2022-05-04T18:51:54.481Z"
   },
   {
    "duration": 16,
    "start_time": "2022-05-04T18:51:54.515Z"
   },
   {
    "duration": 14,
    "start_time": "2022-05-04T18:51:54.532Z"
   },
   {
    "duration": 8,
    "start_time": "2022-05-04T18:59:27.280Z"
   },
   {
    "duration": 36,
    "start_time": "2022-05-04T19:06:42.761Z"
   }
  ],
  "kernelspec": {
   "display_name": "Python 3 (ipykernel)",
   "language": "python",
   "name": "python3"
  },
  "language_info": {
   "codemirror_mode": {
    "name": "ipython",
    "version": 3
   },
   "file_extension": ".py",
   "mimetype": "text/x-python",
   "name": "python",
   "nbconvert_exporter": "python",
   "pygments_lexer": "ipython3",
   "version": "3.9.13"
  },
  "toc": {
   "base_numbering": 1,
   "nav_menu": {},
   "number_sections": true,
   "sideBar": true,
   "skip_h1_title": true,
   "title_cell": "Table of Contents",
   "title_sidebar": "Contents",
   "toc_cell": false,
   "toc_position": {
    "height": "calc(100% - 180px)",
    "left": "10px",
    "top": "150px",
    "width": "165px"
   },
   "toc_section_display": true,
   "toc_window_display": true
  }
 },
 "nbformat": 4,
 "nbformat_minor": 2
}
