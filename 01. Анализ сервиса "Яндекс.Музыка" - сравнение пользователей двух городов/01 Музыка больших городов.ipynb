{
 "cells": [
  {
   "cell_type": "markdown",
   "metadata": {
    "id": "E0vqbgi9ay0H"
   },
   "source": [
    "# Яндекс.Музыка"
   ]
  },
  {
   "cell_type": "markdown",
   "metadata": {
    "id": "VUC88oWjTJw2"
   },
   "source": [
    "Сравнение Москвы и Петербурга окружено мифами. Например:\n",
    " * Москва — мегаполис, подчинённый жёсткому ритму рабочей недели;\n",
    " * Петербург — культурная столица, со своими вкусами.\n",
    "\n",
    "На данных Яндекс.Музыки вы сравните поведение пользователей двух столиц.\n",
    "\n",
    "**Цель исследования** — проверьте три гипотезы:\n",
    "1. Активность пользователей зависит от дня недели. Причём в Москве и Петербурге это проявляется по-разному.\n",
    "2. В понедельник утром в Москве преобладают одни жанры, а в Петербурге — другие. Так же и вечером пятницы преобладают разные жанры — в зависимости от города. \n",
    "3. Москва и Петербург предпочитают разные жанры музыки. В Москве чаще слушают поп-музыку, в Петербурге — русский рэп.\n",
    "\n",
    "**Ход исследования**\n",
    "\n",
    "Данные о поведении пользователей вы получите из файла `yandex_music_project.csv`. О качестве данных ничего не известно. Поэтому перед проверкой гипотез понадобится обзор данных. \n",
    "\n",
    "Вы проверите данные на ошибки и оцените их влияние на исследование. Затем, на этапе предобработки вы поищете возможность исправить самые критичные ошибки данных.\n",
    " \n",
    "Таким образом, исследование пройдёт в три этапа:\n",
    " 1. Обзор данных.\n",
    " 2. Предобработка данных.\n",
    " 3. Проверка гипотез.\n",
    "\n"
   ]
  },
  {
   "cell_type": "markdown",
   "metadata": {
    "id": "Ml1hmfXC_Zcs"
   },
   "source": [
    "## Обзор данных\n",
    "\n",
    "Составьте первое представление о данных Яндекс.Музыки.\n",
    "\n",
    "\n"
   ]
  },
  {
   "cell_type": "markdown",
   "metadata": {
    "id": "57eAOGIz_Zcs"
   },
   "source": [
    "Основной инструмент аналитика — `pandas`. Импортируйте эту библиотеку."
   ]
  },
  {
   "cell_type": "code",
   "execution_count": 2,
   "metadata": {
    "id": "AXN7PHPN_Zcs"
   },
   "outputs": [],
   "source": [
    "import pandas as pd"
   ]
  },
  {
   "cell_type": "markdown",
   "metadata": {
    "id": "SG23P8tt_Zcs"
   },
   "source": [
    "Прочитайте файл `yandex_music_project.csv` из папки `/datasets` и сохраните его в переменной `df`:"
   ]
  },
  {
   "cell_type": "code",
   "execution_count": 3,
   "metadata": {
    "id": "fFVu7vqh_Zct"
   },
   "outputs": [],
   "source": [
    "df = pd.read_csv('/datasets/yandex_music_project.csv')"
   ]
  },
  {
   "cell_type": "markdown",
   "metadata": {
    "id": "rDoOMd3uTqnZ"
   },
   "source": [
    "Выведите на экран первые десять строк таблицы:"
   ]
  },
  {
   "cell_type": "code",
   "execution_count": 4,
   "metadata": {
    "id": "oWTVX3gW_Zct"
   },
   "outputs": [
    {
     "data": {
      "text/html": [
       "<div>\n",
       "<style scoped>\n",
       "    .dataframe tbody tr th:only-of-type {\n",
       "        vertical-align: middle;\n",
       "    }\n",
       "\n",
       "    .dataframe tbody tr th {\n",
       "        vertical-align: top;\n",
       "    }\n",
       "\n",
       "    .dataframe thead th {\n",
       "        text-align: right;\n",
       "    }\n",
       "</style>\n",
       "<table border=\"1\" class=\"dataframe\">\n",
       "  <thead>\n",
       "    <tr style=\"text-align: right;\">\n",
       "      <th></th>\n",
       "      <th>userID</th>\n",
       "      <th>Track</th>\n",
       "      <th>artist</th>\n",
       "      <th>genre</th>\n",
       "      <th>City</th>\n",
       "      <th>time</th>\n",
       "      <th>Day</th>\n",
       "    </tr>\n",
       "  </thead>\n",
       "  <tbody>\n",
       "    <tr>\n",
       "      <td>0</td>\n",
       "      <td>FFB692EC</td>\n",
       "      <td>Kamigata To Boots</td>\n",
       "      <td>The Mass Missile</td>\n",
       "      <td>rock</td>\n",
       "      <td>Saint-Petersburg</td>\n",
       "      <td>20:28:33</td>\n",
       "      <td>Wednesday</td>\n",
       "    </tr>\n",
       "    <tr>\n",
       "      <td>1</td>\n",
       "      <td>55204538</td>\n",
       "      <td>Delayed Because of Accident</td>\n",
       "      <td>Andreas Rönnberg</td>\n",
       "      <td>rock</td>\n",
       "      <td>Moscow</td>\n",
       "      <td>14:07:09</td>\n",
       "      <td>Friday</td>\n",
       "    </tr>\n",
       "    <tr>\n",
       "      <td>2</td>\n",
       "      <td>20EC38</td>\n",
       "      <td>Funiculì funiculà</td>\n",
       "      <td>Mario Lanza</td>\n",
       "      <td>pop</td>\n",
       "      <td>Saint-Petersburg</td>\n",
       "      <td>20:58:07</td>\n",
       "      <td>Wednesday</td>\n",
       "    </tr>\n",
       "    <tr>\n",
       "      <td>3</td>\n",
       "      <td>A3DD03C9</td>\n",
       "      <td>Dragons in the Sunset</td>\n",
       "      <td>Fire + Ice</td>\n",
       "      <td>folk</td>\n",
       "      <td>Saint-Petersburg</td>\n",
       "      <td>08:37:09</td>\n",
       "      <td>Monday</td>\n",
       "    </tr>\n",
       "    <tr>\n",
       "      <td>4</td>\n",
       "      <td>E2DC1FAE</td>\n",
       "      <td>Soul People</td>\n",
       "      <td>Space Echo</td>\n",
       "      <td>dance</td>\n",
       "      <td>Moscow</td>\n",
       "      <td>08:34:34</td>\n",
       "      <td>Monday</td>\n",
       "    </tr>\n",
       "    <tr>\n",
       "      <td>5</td>\n",
       "      <td>842029A1</td>\n",
       "      <td>Преданная</td>\n",
       "      <td>IMPERVTOR</td>\n",
       "      <td>rusrap</td>\n",
       "      <td>Saint-Petersburg</td>\n",
       "      <td>13:09:41</td>\n",
       "      <td>Friday</td>\n",
       "    </tr>\n",
       "    <tr>\n",
       "      <td>6</td>\n",
       "      <td>4CB90AA5</td>\n",
       "      <td>True</td>\n",
       "      <td>Roman Messer</td>\n",
       "      <td>dance</td>\n",
       "      <td>Moscow</td>\n",
       "      <td>13:00:07</td>\n",
       "      <td>Wednesday</td>\n",
       "    </tr>\n",
       "    <tr>\n",
       "      <td>7</td>\n",
       "      <td>F03E1C1F</td>\n",
       "      <td>Feeling This Way</td>\n",
       "      <td>Polina Griffith</td>\n",
       "      <td>dance</td>\n",
       "      <td>Moscow</td>\n",
       "      <td>20:47:49</td>\n",
       "      <td>Wednesday</td>\n",
       "    </tr>\n",
       "    <tr>\n",
       "      <td>8</td>\n",
       "      <td>8FA1D3BE</td>\n",
       "      <td>И вновь продолжается бой</td>\n",
       "      <td>NaN</td>\n",
       "      <td>ruspop</td>\n",
       "      <td>Moscow</td>\n",
       "      <td>09:17:40</td>\n",
       "      <td>Friday</td>\n",
       "    </tr>\n",
       "    <tr>\n",
       "      <td>9</td>\n",
       "      <td>E772D5C0</td>\n",
       "      <td>Pessimist</td>\n",
       "      <td>NaN</td>\n",
       "      <td>dance</td>\n",
       "      <td>Saint-Petersburg</td>\n",
       "      <td>21:20:49</td>\n",
       "      <td>Wednesday</td>\n",
       "    </tr>\n",
       "  </tbody>\n",
       "</table>\n",
       "</div>"
      ],
      "text/plain": [
       "     userID                        Track            artist   genre  \\\n",
       "0  FFB692EC            Kamigata To Boots  The Mass Missile    rock   \n",
       "1  55204538  Delayed Because of Accident  Andreas Rönnberg    rock   \n",
       "2    20EC38            Funiculì funiculà       Mario Lanza     pop   \n",
       "3  A3DD03C9        Dragons in the Sunset        Fire + Ice    folk   \n",
       "4  E2DC1FAE                  Soul People        Space Echo   dance   \n",
       "5  842029A1                    Преданная         IMPERVTOR  rusrap   \n",
       "6  4CB90AA5                         True      Roman Messer   dance   \n",
       "7  F03E1C1F             Feeling This Way   Polina Griffith   dance   \n",
       "8  8FA1D3BE     И вновь продолжается бой               NaN  ruspop   \n",
       "9  E772D5C0                    Pessimist               NaN   dance   \n",
       "\n",
       "             City        time        Day  \n",
       "0  Saint-Petersburg  20:28:33  Wednesday  \n",
       "1            Moscow  14:07:09     Friday  \n",
       "2  Saint-Petersburg  20:58:07  Wednesday  \n",
       "3  Saint-Petersburg  08:37:09     Monday  \n",
       "4            Moscow  08:34:34     Monday  \n",
       "5  Saint-Petersburg  13:09:41     Friday  \n",
       "6            Moscow  13:00:07  Wednesday  \n",
       "7            Moscow  20:47:49  Wednesday  \n",
       "8            Moscow  09:17:40     Friday  \n",
       "9  Saint-Petersburg  21:20:49  Wednesday  "
      ]
     },
     "execution_count": 4,
     "metadata": {},
     "output_type": "execute_result"
    }
   ],
   "source": [
    "df.head(10)"
   ]
  },
  {
   "cell_type": "markdown",
   "metadata": {
    "id": "EO73Kwic_Zct"
   },
   "source": [
    "Одной командой получить общую информацию о таблице:"
   ]
  },
  {
   "cell_type": "code",
   "execution_count": 5,
   "metadata": {
    "id": "DSf2kIb-_Zct"
   },
   "outputs": [
    {
     "name": "stdout",
     "output_type": "stream",
     "text": [
      "<class 'pandas.core.frame.DataFrame'>\n",
      "RangeIndex: 65079 entries, 0 to 65078\n",
      "Data columns (total 7 columns):\n",
      "  userID    65079 non-null object\n",
      "Track       63848 non-null object\n",
      "artist      57876 non-null object\n",
      "genre       63881 non-null object\n",
      "  City      65079 non-null object\n",
      "time        65079 non-null object\n",
      "Day         65079 non-null object\n",
      "dtypes: object(7)\n",
      "memory usage: 3.5+ MB\n"
     ]
    }
   ],
   "source": [
    "df.info()"
   ]
  },
  {
   "cell_type": "markdown",
   "metadata": {
    "id": "TaQ2Iwbr_Zct"
   },
   "source": [
    "Итак, в таблице семь столбцов. Тип данных во всех столбцах — `object`.\n",
    "\n",
    "Согласно документации к данным:\n",
    "* `userID` — идентификатор пользователя;\n",
    "* `Track` — название трека;  \n",
    "* `artist` — имя исполнителя;\n",
    "* `genre` — название жанра;\n",
    "* `City` — город пользователя;\n",
    "* `time` — время начала прослушивания;\n",
    "* `Day` — день недели.\n",
    "\n",
    "В названиях колонок видны три нарушения стиля:\n",
    "1. Строчные буквы сочетаются с прописными.\n",
    "2. Встречаются пробелы.\n",
    "3. Найдите ещё одну проблему в названии колонок и опишите её в этом пункте.\n",
    "\n",
    "На мой взгляд, название столбца 'time' не совсем корректно. Следует уточнить что это время начала прослушивания, возможно 'start_time'.\n",
    "Также, можно переименовать 'day' в 'weekday'.\n",
    "\n",
    "\n",
    "\n",
    "Количество значений в столбцах различается. Значит, в данных есть пропущенные значения.\n",
    "\n"
   ]
  },
  {
   "cell_type": "markdown",
   "metadata": {
    "id": "MCB6-dXG_Zct"
   },
   "source": [
    "**Выводы**\n",
    "\n",
    "В каждой строке таблицы — данные о прослушанном треке. Часть колонок описывает саму композицию: название, исполнителя и жанр. Остальные данные рассказывают о пользователе: из какого он города, когда он слушал музыку. \n",
    "\n",
    "Предварительно можно утверждать, что, данных достаточно для проверки гипотез. Но встречаются пропуски в данных, а в названиях колонок — расхождения с хорошим стилем.\n",
    "\n",
    "Чтобы двигаться дальше, нужно устранить проблемы в данных."
   ]
  },
  {
   "cell_type": "markdown",
   "metadata": {
    "id": "SjYF6Ub9_Zct"
   },
   "source": [
    "## Предобработка данных\n",
    "Исправьте стиль в заголовках столбцов, исключите пропуски. Затем проверьте данные на дубликаты."
   ]
  },
  {
   "cell_type": "markdown",
   "metadata": {
    "id": "dIaKXr29_Zct"
   },
   "source": [
    "### Стиль заголовков\n",
    "Выведите на экран названия столбцов:"
   ]
  },
  {
   "cell_type": "code",
   "execution_count": 6,
   "metadata": {
    "id": "oKOTdF_Q_Zct"
   },
   "outputs": [
    {
     "data": {
      "text/plain": [
       "Index(['  userID', 'Track', 'artist', 'genre', '  City  ', 'time', 'Day'], dtype='object')"
      ]
     },
     "execution_count": 6,
     "metadata": {},
     "output_type": "execute_result"
    }
   ],
   "source": [
    "df.columns"
   ]
  },
  {
   "cell_type": "markdown",
   "metadata": {
    "id": "zj5534cv_Zct"
   },
   "source": [
    "Приведите названия в соответствие с хорошим стилем:\n",
    "* несколько слов в названии запишите в «змеином_регистре»,\n",
    "* все символы сделайте строчными,\n",
    "* устраните пробелы.\n",
    "\n",
    "Для этого переименуйте колонки так:\n",
    "* `'  userID'` → `'user_id'`;\n",
    "* `'Track'` → `'track'`;\n",
    "* `'  City  '` → `'city'`;\n",
    "* `'Day'` → `'day'`."
   ]
  },
  {
   "cell_type": "code",
   "execution_count": 7,
   "metadata": {
    "id": "ISlFqs5y_Zct"
   },
   "outputs": [],
   "source": [
    "df = df.rename(columns={'  userID': 'user_id', 'Track': 'track', '  City  ': 'city', 'Day': 'day'})"
   ]
  },
  {
   "cell_type": "markdown",
   "metadata": {
    "id": "1dqbh00J_Zct"
   },
   "source": [
    "Проверьте результат. Для этого ещё раз выведите на экран названия столбцов:"
   ]
  },
  {
   "cell_type": "code",
   "execution_count": 8,
   "metadata": {
    "id": "d4NOAmTW_Zct"
   },
   "outputs": [
    {
     "data": {
      "text/plain": [
       "Index(['user_id', 'track', 'artist', 'genre', 'city', 'time', 'day'], dtype='object')"
      ]
     },
     "execution_count": 8,
     "metadata": {},
     "output_type": "execute_result"
    }
   ],
   "source": [
    "df.columns"
   ]
  },
  {
   "cell_type": "markdown",
   "metadata": {
    "id": "5ISfbcfY_Zct"
   },
   "source": [
    "### Пропуски значений\n",
    "Сначала посчитайте, сколько в таблице пропущенных значений. Для этого достаточно двух методов `pandas`:"
   ]
  },
  {
   "cell_type": "code",
   "execution_count": 8,
   "metadata": {
    "id": "RskX29qr_Zct"
   },
   "outputs": [
    {
     "data": {
      "text/plain": [
       "user_id       0\n",
       "track      1231\n",
       "artist     7203\n",
       "genre      1198\n",
       "city          0\n",
       "time          0\n",
       "day           0\n",
       "dtype: int64"
      ]
     },
     "execution_count": 8,
     "metadata": {},
     "output_type": "execute_result"
    }
   ],
   "source": [
    "df.isna().sum()"
   ]
  },
  {
   "cell_type": "markdown",
   "metadata": {
    "id": "qubhgnlO_Zct"
   },
   "source": [
    "Не все пропущенные значения влияют на исследование. Так в `track` и `artist` пропуски не важны для вашей работы. Достаточно заменить их явными обозначениями.\n",
    "\n",
    "Но пропуски в `genre` могут помешать сравнению музыкальных вкусов в Москве и Санкт-Петербурге. На практике было бы правильно установить причину пропусков и восстановить данные. Такой возможности нет в учебном проекте. Придётся:\n",
    "* заполнить и эти пропуски явными обозначениями,\n",
    "* оценить, насколько они повредят расчётам. "
   ]
  },
  {
   "cell_type": "markdown",
   "metadata": {
    "id": "fSv2laPA_Zct"
   },
   "source": [
    "Замените пропущенные значения в столбцах `track`, `artist` и `genre` на строку `'unknown'`. Для этого создайте список `columns_to_replace`, переберите его элементы циклом `for` и для каждого столбца выполните замену пропущенных значений:"
   ]
  },
  {
   "cell_type": "code",
   "execution_count": 9,
   "metadata": {
    "id": "KplB5qWs_Zct"
   },
   "outputs": [],
   "source": [
    "columns_to_replace = ['track', 'artist', 'genre']\n",
    "for column in columns_to_replace:\n",
    "    df[column] = df[column].fillna('unknown')"
   ]
  },
  {
   "cell_type": "markdown",
   "metadata": {
    "id": "Ilsm-MZo_Zct"
   },
   "source": [
    "Убедитесь, что в таблице не осталось пропусков. Для этого ещё раз посчитайте пропущенные значения."
   ]
  },
  {
   "cell_type": "code",
   "execution_count": 9,
   "metadata": {
    "id": "Tq4nYRX4_Zct"
   },
   "outputs": [
    {
     "data": {
      "text/plain": [
       "user_id       0\n",
       "track      1231\n",
       "artist     7203\n",
       "genre      1198\n",
       "city          0\n",
       "time          0\n",
       "day           0\n",
       "dtype: int64"
      ]
     },
     "execution_count": 9,
     "metadata": {},
     "output_type": "execute_result"
    }
   ],
   "source": [
    "df.isna().sum()"
   ]
  },
  {
   "cell_type": "markdown",
   "metadata": {
    "id": "BWKRtBJ3_Zct"
   },
   "source": [
    "### Дубликаты\n",
    "Посчитайте явные дубликаты в таблице одной командой:"
   ]
  },
  {
   "cell_type": "code",
   "execution_count": 11,
   "metadata": {
    "id": "36eES_S0_Zct"
   },
   "outputs": [
    {
     "data": {
      "text/plain": [
       "3826"
      ]
     },
     "execution_count": 11,
     "metadata": {},
     "output_type": "execute_result"
    }
   ],
   "source": [
    "df.duplicated().sum()"
   ]
  },
  {
   "cell_type": "markdown",
   "metadata": {
    "id": "Ot25h6XR_Zct"
   },
   "source": [
    "Вызовите специальный метод `pandas`, чтобы удалить явные дубликаты:"
   ]
  },
  {
   "cell_type": "code",
   "execution_count": 10,
   "metadata": {
    "id": "exFHq6tt_Zct"
   },
   "outputs": [],
   "source": [
    "df = df.drop_duplicates().reset_index(drop=True) "
   ]
  },
  {
   "cell_type": "markdown",
   "metadata": {
    "id": "Im2YwBEG_Zct"
   },
   "source": [
    "Ещё раз посчитайте явные дубликаты в таблице — убедитесь, что полностью от них избавились:"
   ]
  },
  {
   "cell_type": "code",
   "execution_count": 11,
   "metadata": {
    "id": "-8PuNWQ0_Zct"
   },
   "outputs": [
    {
     "data": {
      "text/plain": [
       "0"
      ]
     },
     "execution_count": 11,
     "metadata": {},
     "output_type": "execute_result"
    }
   ],
   "source": [
    "df.duplicated().sum()"
   ]
  },
  {
   "cell_type": "markdown",
   "metadata": {
    "id": "QlFBsxAr_Zct"
   },
   "source": [
    "Теперь избавьтесь от неявных дубликатов в колонке `genre`. Например, название одного и того же жанра может быть записано немного по-разному. Такие ошибки тоже повлияют на результат исследования."
   ]
  },
  {
   "cell_type": "markdown",
   "metadata": {
    "id": "eSjWwsOh_Zct"
   },
   "source": [
    "Выведите на экран список уникальных названий жанров, отсортированный в алфавитном порядке. Для этого:\n",
    "* извлеките нужный столбец датафрейма, \n",
    "* примените к нему метод сортировки,\n",
    "* для отсортированного столбца вызовите метод, который вернёт уникальные значения из столбца."
   ]
  },
  {
   "cell_type": "code",
   "execution_count": 12,
   "metadata": {
    "id": "JIUcqzZN_Zct"
   },
   "outputs": [
    {
     "data": {
      "text/plain": [
       "array(['acid', 'acoustic', 'action', 'adult', 'africa', 'afrikaans',\n",
       "       'alternative', 'alternativepunk', 'ambient', 'americana',\n",
       "       'animated', 'anime', 'arabesk', 'arabic', 'arena',\n",
       "       'argentinetango', 'art', 'audiobook', 'author', 'avantgarde',\n",
       "       'axé', 'baile', 'balkan', 'beats', 'bigroom', 'black', 'bluegrass',\n",
       "       'blues', 'bollywood', 'bossa', 'brazilian', 'breakbeat', 'breaks',\n",
       "       'broadway', 'cantautori', 'cantopop', 'canzone', 'caribbean',\n",
       "       'caucasian', 'celtic', 'chamber', 'chanson', 'children', 'chill',\n",
       "       'chinese', 'choral', 'christian', 'christmas', 'classical',\n",
       "       'classicmetal', 'club', 'colombian', 'comedy', 'conjazz',\n",
       "       'contemporary', 'country', 'cuban', 'dance', 'dancehall',\n",
       "       'dancepop', 'dark', 'death', 'deep', 'deutschrock', 'deutschspr',\n",
       "       'dirty', 'disco', 'dnb', 'documentary', 'downbeat', 'downtempo',\n",
       "       'drum', 'dub', 'dubstep', 'eastern', 'easy', 'electronic',\n",
       "       'electropop', 'emo', 'entehno', 'epicmetal', 'estrada', 'ethnic',\n",
       "       'eurofolk', 'european', 'experimental', 'extrememetal', 'fado',\n",
       "       'fairytail', 'film', 'fitness', 'flamenco', 'folk', 'folklore',\n",
       "       'folkmetal', 'folkrock', 'folktronica', 'forró', 'frankreich',\n",
       "       'französisch', 'french', 'funk', 'future', 'gangsta', 'garage',\n",
       "       'german', 'ghazal', 'gitarre', 'glitch', 'gospel', 'gothic',\n",
       "       'grime', 'grunge', 'gypsy', 'handsup', \"hard'n'heavy\", 'hardcore',\n",
       "       'hardstyle', 'hardtechno', 'hip', 'hip-hop', 'hiphop',\n",
       "       'historisch', 'holiday', 'hop', 'horror', 'house', 'hymn', 'idm',\n",
       "       'independent', 'indian', 'indie', 'indipop', 'industrial',\n",
       "       'inspirational', 'instrumental', 'international', 'irish', 'jam',\n",
       "       'japanese', 'jazz', 'jewish', 'jpop', 'jungle', 'k-pop',\n",
       "       'karadeniz', 'karaoke', 'kayokyoku', 'korean', 'laiko', 'latin',\n",
       "       'latino', 'leftfield', 'local', 'lounge', 'loungeelectronic',\n",
       "       'lovers', 'malaysian', 'mandopop', 'marschmusik', 'meditative',\n",
       "       'mediterranean', 'melodic', 'metal', 'metalcore', 'mexican',\n",
       "       'middle', 'minimal', 'miscellaneous', 'modern', 'mood', 'mpb',\n",
       "       'muslim', 'native', 'neoklassik', 'neue', 'new', 'newage',\n",
       "       'newwave', 'nu', 'nujazz', 'numetal', 'oceania', 'old', 'opera',\n",
       "       'orchestral', 'other', 'piano', 'podcasts', 'pop', 'popdance',\n",
       "       'popelectronic', 'popeurodance', 'poprussian', 'post',\n",
       "       'posthardcore', 'postrock', 'power', 'progmetal', 'progressive',\n",
       "       'psychedelic', 'punjabi', 'punk', 'quebecois', 'ragga', 'ram',\n",
       "       'rancheras', 'rap', 'rave', 'reggae', 'reggaeton', 'regional',\n",
       "       'relax', 'religious', 'retro', 'rhythm', 'rnb', 'rnr', 'rock',\n",
       "       'rockabilly', 'rockalternative', 'rockindie', 'rockother',\n",
       "       'romance', 'roots', 'ruspop', 'rusrap', 'rusrock', 'russian',\n",
       "       'salsa', 'samba', 'scenic', 'schlager', 'self', 'sertanejo',\n",
       "       'shanson', 'shoegazing', 'showtunes', 'singer', 'ska', 'skarock',\n",
       "       'slow', 'smooth', 'soft', 'soul', 'soulful', 'sound', 'soundtrack',\n",
       "       'southern', 'specialty', 'speech', 'spiritual', 'sport',\n",
       "       'stonerrock', 'surf', 'swing', 'synthpop', 'synthrock',\n",
       "       'sängerportrait', 'tango', 'tanzorchester', 'taraftar', 'tatar',\n",
       "       'tech', 'techno', 'teen', 'thrash', 'top', 'traditional',\n",
       "       'tradjazz', 'trance', 'tribal', 'trip', 'triphop', 'tropical',\n",
       "       'türk', 'türkçe', 'ukrrock', 'urban', 'uzbek', 'variété', 'vi',\n",
       "       'videogame', 'vocal', 'western', 'world', 'worldbeat', 'ïîï',\n",
       "       'электроника', nan], dtype=object)"
      ]
     },
     "execution_count": 12,
     "metadata": {},
     "output_type": "execute_result"
    }
   ],
   "source": [
    "genre_df = df['genre'].sort_values()\n",
    "\n",
    "genre_df.unique()\n",
    "\n"
   ]
  },
  {
   "cell_type": "markdown",
   "metadata": {
    "id": "qej-Qmuo_Zct"
   },
   "source": [
    "Просмотрите список и найдите неявные дубликаты названия `hiphop`. Это могут быть названия с ошибками или альтернативные названия того же жанра.\n",
    "\n",
    "Вы увидите следующие неявные дубликаты:\n",
    "* *hip*,\n",
    "* *hop*,\n",
    "* *hip-hop*.\n",
    "\n",
    "Чтобы очистить от них таблицу, напишите функцию `replace_wrong_genres()` с двумя параметрами: \n",
    "* `wrong_genres` — список дубликатов,\n",
    "* `correct_genre` — строка с правильным значением.\n",
    "\n",
    "Функция должна исправить колонку `genre` в таблице `df`: заменить каждое значение из списка `wrong_genres` на значение из `correct_genre`."
   ]
  },
  {
   "cell_type": "code",
   "execution_count": 13,
   "metadata": {
    "id": "ErNDkmns_Zct"
   },
   "outputs": [],
   "source": [
    "def replace_wrong_genres(wrong_values, correct_value):\n",
    "    for wrong_value in wrong_values:\n",
    "        df['genre'] = df['genre'].replace(wrong_value, correct_value)\n",
    "        \n",
    "wrong_genres = ['hip', 'hop', 'hip-hop']\n",
    "correct_genre = 'hiphop'\n",
    "replace_wrong_genres(wrong_genres, correct_genre)"
   ]
  },
  {
   "cell_type": "markdown",
   "metadata": {
    "id": "aDoBJxbA_Zct"
   },
   "source": [
    "Вызовите `replace_wrong_genres()` и передайте ей такие аргументы, чтобы она устранила неявные дубликаты: вместо `hip`, `hop` и `hip-hop` в таблице должно быть значение `hiphop`:"
   ]
  },
  {
   "cell_type": "code",
   "execution_count": 16,
   "metadata": {
    "id": "YN5i2hpmSo09"
   },
   "outputs": [],
   "source": [
    "replace_wrong_genres(wrong_genres, correct_genre)"
   ]
  },
  {
   "cell_type": "markdown",
   "metadata": {
    "id": "zQKF16_RG15m"
   },
   "source": [
    "Проверьте, что заменили неправильные названия:\n",
    "\n",
    "*   hip\n",
    "*   hop\n",
    "*   hip-hop\n",
    "\n",
    "Выведите отсортированный список уникальных значений столбца `genre`:"
   ]
  },
  {
   "cell_type": "code",
   "execution_count": 14,
   "metadata": {
    "id": "wvixALnFG15m"
   },
   "outputs": [
    {
     "data": {
      "text/plain": [
       "array(['acid', 'acoustic', 'action', 'adult', 'africa', 'afrikaans',\n",
       "       'alternative', 'alternativepunk', 'ambient', 'americana',\n",
       "       'animated', 'anime', 'arabesk', 'arabic', 'arena',\n",
       "       'argentinetango', 'art', 'audiobook', 'author', 'avantgarde',\n",
       "       'axé', 'baile', 'balkan', 'beats', 'bigroom', 'black', 'bluegrass',\n",
       "       'blues', 'bollywood', 'bossa', 'brazilian', 'breakbeat', 'breaks',\n",
       "       'broadway', 'cantautori', 'cantopop', 'canzone', 'caribbean',\n",
       "       'caucasian', 'celtic', 'chamber', 'chanson', 'children', 'chill',\n",
       "       'chinese', 'choral', 'christian', 'christmas', 'classical',\n",
       "       'classicmetal', 'club', 'colombian', 'comedy', 'conjazz',\n",
       "       'contemporary', 'country', 'cuban', 'dance', 'dancehall',\n",
       "       'dancepop', 'dark', 'death', 'deep', 'deutschrock', 'deutschspr',\n",
       "       'dirty', 'disco', 'dnb', 'documentary', 'downbeat', 'downtempo',\n",
       "       'drum', 'dub', 'dubstep', 'eastern', 'easy', 'electronic',\n",
       "       'electropop', 'emo', 'entehno', 'epicmetal', 'estrada', 'ethnic',\n",
       "       'eurofolk', 'european', 'experimental', 'extrememetal', 'fado',\n",
       "       'fairytail', 'film', 'fitness', 'flamenco', 'folk', 'folklore',\n",
       "       'folkmetal', 'folkrock', 'folktronica', 'forró', 'frankreich',\n",
       "       'französisch', 'french', 'funk', 'future', 'gangsta', 'garage',\n",
       "       'german', 'ghazal', 'gitarre', 'glitch', 'gospel', 'gothic',\n",
       "       'grime', 'grunge', 'gypsy', 'handsup', \"hard'n'heavy\", 'hardcore',\n",
       "       'hardstyle', 'hardtechno', 'hiphop', 'historisch', 'holiday',\n",
       "       'horror', 'house', 'hymn', 'idm', 'independent', 'indian', 'indie',\n",
       "       'indipop', 'industrial', 'inspirational', 'instrumental',\n",
       "       'international', 'irish', 'jam', 'japanese', 'jazz', 'jewish',\n",
       "       'jpop', 'jungle', 'k-pop', 'karadeniz', 'karaoke', 'kayokyoku',\n",
       "       'korean', 'laiko', 'latin', 'latino', 'leftfield', 'local',\n",
       "       'lounge', 'loungeelectronic', 'lovers', 'malaysian', 'mandopop',\n",
       "       'marschmusik', 'meditative', 'mediterranean', 'melodic', 'metal',\n",
       "       'metalcore', 'mexican', 'middle', 'minimal', 'miscellaneous',\n",
       "       'modern', 'mood', 'mpb', 'muslim', 'native', 'neoklassik', 'neue',\n",
       "       'new', 'newage', 'newwave', 'nu', 'nujazz', 'numetal', 'oceania',\n",
       "       'old', 'opera', 'orchestral', 'other', 'piano', 'podcasts', 'pop',\n",
       "       'popdance', 'popelectronic', 'popeurodance', 'poprussian', 'post',\n",
       "       'posthardcore', 'postrock', 'power', 'progmetal', 'progressive',\n",
       "       'psychedelic', 'punjabi', 'punk', 'quebecois', 'ragga', 'ram',\n",
       "       'rancheras', 'rap', 'rave', 'reggae', 'reggaeton', 'regional',\n",
       "       'relax', 'religious', 'retro', 'rhythm', 'rnb', 'rnr', 'rock',\n",
       "       'rockabilly', 'rockalternative', 'rockindie', 'rockother',\n",
       "       'romance', 'roots', 'ruspop', 'rusrap', 'rusrock', 'russian',\n",
       "       'salsa', 'samba', 'scenic', 'schlager', 'self', 'sertanejo',\n",
       "       'shanson', 'shoegazing', 'showtunes', 'singer', 'ska', 'skarock',\n",
       "       'slow', 'smooth', 'soft', 'soul', 'soulful', 'sound', 'soundtrack',\n",
       "       'southern', 'specialty', 'speech', 'spiritual', 'sport',\n",
       "       'stonerrock', 'surf', 'swing', 'synthpop', 'synthrock',\n",
       "       'sängerportrait', 'tango', 'tanzorchester', 'taraftar', 'tatar',\n",
       "       'tech', 'techno', 'teen', 'thrash', 'top', 'traditional',\n",
       "       'tradjazz', 'trance', 'tribal', 'trip', 'triphop', 'tropical',\n",
       "       'türk', 'türkçe', 'ukrrock', 'urban', 'uzbek', 'variété', 'vi',\n",
       "       'videogame', 'vocal', 'western', 'world', 'worldbeat', 'ïîï',\n",
       "       'электроника', nan], dtype=object)"
      ]
     },
     "execution_count": 14,
     "metadata": {},
     "output_type": "execute_result"
    }
   ],
   "source": [
    "genre_df = df['genre'].sort_values()\n",
    "\n",
    "genre_df.unique()"
   ]
  },
  {
   "cell_type": "markdown",
   "metadata": {
    "id": "jz6a9-7HQUDd"
   },
   "source": [
    "**Выводы**\n",
    "\n",
    "Предобработка обнаружила три проблемы в данных:\n",
    "\n",
    "- нарушения в стиле заголовков,\n",
    "- пропущенные значения,\n",
    "- дубликаты — явные и неявные.\n",
    "\n",
    "Вы исправили заголовки, чтобы упростить работу с таблицей. Без дубликатов исследование станет более точным.\n",
    "\n",
    "Пропущенные значения вы заменили на `'unknown'`. Ещё предстоит увидеть, не повредят ли исследованию пропуски в колонке `genre`.\n",
    "\n",
    "Теперь можно перейти к проверке гипотез. "
   ]
  },
  {
   "cell_type": "markdown",
   "metadata": {
    "id": "WttZHXH0SqKk"
   },
   "source": [
    "## Проверка гипотез"
   ]
  },
  {
   "cell_type": "markdown",
   "metadata": {
    "id": "Im936VVi_Zcu"
   },
   "source": [
    "### Сравнение поведения пользователей двух столиц"
   ]
  },
  {
   "cell_type": "markdown",
   "metadata": {
    "id": "nwt_MuaL_Zcu"
   },
   "source": [
    "Первая гипотеза утверждает, что пользователи по-разному слушают музыку в Москве и Санкт-Петербурге. Проверьте это предположение по данным о трёх днях недели — понедельнике, среде и пятнице. Для этого:\n",
    "\n",
    "* Разделите пользователей Москвы и Санкт-Петербурга\n",
    "* Сравните, сколько треков послушала каждая группа пользователей в понедельник, среду и пятницу.\n"
   ]
  },
  {
   "cell_type": "markdown",
   "metadata": {
    "id": "8Dw_YMmT_Zcu"
   },
   "source": [
    "Для тренировки сначала выполните каждый из расчётов по отдельности. \n",
    "\n",
    "Оцените активность пользователей в каждом городе. Сгруппируйте данные по городу и посчитайте прослушивания в каждой группе.\n",
    "\n"
   ]
  },
  {
   "cell_type": "code",
   "execution_count": 15,
   "metadata": {
    "id": "0_Qs96oh_Zcu"
   },
   "outputs": [
    {
     "data": {
      "text/html": [
       "<div>\n",
       "<style scoped>\n",
       "    .dataframe tbody tr th:only-of-type {\n",
       "        vertical-align: middle;\n",
       "    }\n",
       "\n",
       "    .dataframe tbody tr th {\n",
       "        vertical-align: top;\n",
       "    }\n",
       "\n",
       "    .dataframe thead th {\n",
       "        text-align: right;\n",
       "    }\n",
       "</style>\n",
       "<table border=\"1\" class=\"dataframe\">\n",
       "  <thead>\n",
       "    <tr style=\"text-align: right;\">\n",
       "      <th></th>\n",
       "      <th>user_id</th>\n",
       "      <th>track</th>\n",
       "      <th>artist</th>\n",
       "      <th>genre</th>\n",
       "      <th>time</th>\n",
       "      <th>day</th>\n",
       "    </tr>\n",
       "    <tr>\n",
       "      <th>city</th>\n",
       "      <th></th>\n",
       "      <th></th>\n",
       "      <th></th>\n",
       "      <th></th>\n",
       "      <th></th>\n",
       "      <th></th>\n",
       "    </tr>\n",
       "  </thead>\n",
       "  <tbody>\n",
       "    <tr>\n",
       "      <td>Moscow</td>\n",
       "      <td>42741</td>\n",
       "      <td>41952</td>\n",
       "      <td>37986</td>\n",
       "      <td>41892</td>\n",
       "      <td>42741</td>\n",
       "      <td>42741</td>\n",
       "    </tr>\n",
       "    <tr>\n",
       "      <td>Saint-Petersburg</td>\n",
       "      <td>18512</td>\n",
       "      <td>18146</td>\n",
       "      <td>16495</td>\n",
       "      <td>18234</td>\n",
       "      <td>18512</td>\n",
       "      <td>18512</td>\n",
       "    </tr>\n",
       "  </tbody>\n",
       "</table>\n",
       "</div>"
      ],
      "text/plain": [
       "                  user_id  track  artist  genre   time    day\n",
       "city                                                         \n",
       "Moscow              42741  41952   37986  41892  42741  42741\n",
       "Saint-Petersburg    18512  18146   16495  18234  18512  18512"
      ]
     },
     "execution_count": 15,
     "metadata": {},
     "output_type": "execute_result"
    }
   ],
   "source": [
    "df.groupby('city').count()"
   ]
  },
  {
   "cell_type": "markdown",
   "metadata": {
    "id": "dzli3w8o_Zcu"
   },
   "source": [
    "В Москве прослушиваний больше, чем в Петербурге. Из этого не следует, что московские пользователи чаще слушают музыку. Просто самих пользователей в Москве больше.\n",
    "\n",
    "Теперь сгруппируйте данные по дню недели и подсчитайте прослушивания в понедельник, среду и пятницу. Учтите, что в данных есть информация только о прослушиваниях только за эти дни.\n"
   ]
  },
  {
   "cell_type": "code",
   "execution_count": 21,
   "metadata": {
    "id": "uZMKjiJz_Zcu"
   },
   "outputs": [
    {
     "data": {
      "text/plain": [
       "day\n",
       "Friday       21840\n",
       "Monday       21354\n",
       "Wednesday    18059\n",
       "Name: day, dtype: int64"
      ]
     },
     "execution_count": 21,
     "metadata": {},
     "output_type": "execute_result"
    }
   ],
   "source": [
    "df.groupby('day')['day'].count() "
   ]
  },
  {
   "cell_type": "markdown",
   "metadata": {
    "id": "cC2tNrlL_Zcu"
   },
   "source": [
    "В среднем пользователи из двух городов менее активны по средам. Но картина может измениться, если рассмотреть каждый город в отдельности."
   ]
  },
  {
   "cell_type": "markdown",
   "metadata": {
    "id": "POzs8bGa_Zcu"
   },
   "source": [
    "Вы видели, как работает группировка по городу и по дням недели. Теперь напишите функцию, которая объединит два эти расчёта.\n",
    "\n",
    "Создайте функцию `number_tracks()`, которая посчитает прослушивания для заданного дня и города. Ей понадобятся два параметра:\n",
    "* день недели,\n",
    "* название города.\n",
    "\n",
    "В функции сохраните в переменную строки исходной таблицы, у которых значение:\n",
    "  * в колонке `day` равно параметру `day`,\n",
    "  * в колонке `city` равно параметру `city`.\n",
    "\n",
    "Для этого примените последовательную фильтрацию с логической индексацией.\n",
    "\n",
    "Затем посчитайте значения в столбце `user_id` получившейся таблицы. Результат сохраните в новую переменную. Верните эту переменную из функции."
   ]
  },
  {
   "cell_type": "code",
   "execution_count": 22,
   "metadata": {
    "id": "Nz3GdQB1_Zcu"
   },
   "outputs": [],
   "source": [
    "# В переменной track_list сохраняются те строки таблицы df, для которых \n",
    "# значение в столбце 'day' равно параметру day и одновременно значение\n",
    "# в столбце 'city' равно параметру city (используйте последовательную фильтрацию\n",
    "# с помощью логической индексации).\n",
    "# В переменной track_list_count сохраняется число значений столбца 'user_id',\n",
    "# рассчитанное методом count() для таблицы track_list.\n",
    "# Функция возвращает число - значение track_list_count.\n",
    "# Функция для подсчёта прослушиваний для конкретного города и дня.\n",
    "# С помощью последовательной фильтрации с логической индексацией она \n",
    "# сначала получит из исходной таблицы строки с нужным днём,\n",
    "# затем из результата отфильтрует строки с нужным городом,\n",
    "# методом count() посчитает количество значений в колонке user_id. \n",
    "# Это количество функция вернёт в качестве результата\n",
    "\n",
    "def number_tracks(day, city):\n",
    "    track_list = df[df['day'] == day]\n",
    "    track_list = track_list[track_list['city'] == city]\n",
    "    track_list_count = track_list['user_id'].count()\n",
    "    return track_list_count\n",
    "   \n",
    "\n",
    "\n",
    "\n",
    "\n",
    "\n",
    "\n"
   ]
  },
  {
   "cell_type": "markdown",
   "metadata": {
    "id": "ytf7xFrFJQ2r"
   },
   "source": [
    "Вызовите `number_tracks()` шесть раз, меняя значение параметров — так, чтобы получить данные для каждого города в каждый из трёх дней."
   ]
  },
  {
   "cell_type": "code",
   "execution_count": 23,
   "metadata": {
    "id": "rJcRATNQ_Zcu"
   },
   "outputs": [
    {
     "data": {
      "text/plain": [
       "15740"
      ]
     },
     "execution_count": 23,
     "metadata": {},
     "output_type": "execute_result"
    }
   ],
   "source": [
    "number_tracks('Monday', 'Moscow')# количество прослушиваний в Москве по понедельникам"
   ]
  },
  {
   "cell_type": "code",
   "execution_count": 24,
   "metadata": {
    "id": "hq_ncZ5T_Zcu"
   },
   "outputs": [
    {
     "data": {
      "text/plain": [
       "5614"
      ]
     },
     "execution_count": 24,
     "metadata": {},
     "output_type": "execute_result"
    }
   ],
   "source": [
    "number_tracks('Monday', 'Saint-Petersburg')# количество прослушиваний в Санкт-Петербурге по понедельникам"
   ]
  },
  {
   "cell_type": "code",
   "execution_count": 25,
   "metadata": {
    "id": "_NTy2VPU_Zcu"
   },
   "outputs": [
    {
     "data": {
      "text/plain": [
       "11056"
      ]
     },
     "execution_count": 25,
     "metadata": {},
     "output_type": "execute_result"
    }
   ],
   "source": [
    "number_tracks('Wednesday','Moscow')# количество прослушиваний в Москве по средам"
   ]
  },
  {
   "cell_type": "code",
   "execution_count": 26,
   "metadata": {
    "id": "j2y3TAwo_Zcu"
   },
   "outputs": [
    {
     "data": {
      "text/plain": [
       "7003"
      ]
     },
     "execution_count": 26,
     "metadata": {},
     "output_type": "execute_result"
    }
   ],
   "source": [
    "number_tracks('Wednesday','Saint-Petersburg')# количество прослушиваний в Санкт-Петербурге по средам"
   ]
  },
  {
   "cell_type": "code",
   "execution_count": 27,
   "metadata": {
    "id": "vYDw5u_K_Zcu"
   },
   "outputs": [
    {
     "data": {
      "text/plain": [
       "15945"
      ]
     },
     "execution_count": 27,
     "metadata": {},
     "output_type": "execute_result"
    }
   ],
   "source": [
    "number_tracks('Friday','Moscow')# количество прослушиваний в Москве по пятницам"
   ]
  },
  {
   "cell_type": "code",
   "execution_count": 28,
   "metadata": {
    "id": "8_yzFtW3_Zcu"
   },
   "outputs": [
    {
     "data": {
      "text/plain": [
       "5895"
      ]
     },
     "execution_count": 28,
     "metadata": {},
     "output_type": "execute_result"
    }
   ],
   "source": [
    "number_tracks('Friday','Saint-Petersburg')# количество прослушиваний в Санкт-Петербурге по пятницам"
   ]
  },
  {
   "cell_type": "raw",
   "metadata": {
    "id": "7QXffbO-_Zcu"
   },
   "source": [
    "Создайте c помощью конструктора `pd.DataFrame` таблицу, где\n",
    "* названия колонок — `['city', 'monday', 'wednesday', 'friday']`;\n",
    "* данные — результаты, которые вы получили с помощью `number_tracks`."
   ]
  },
  {
   "cell_type": "code",
   "execution_count": 30,
   "metadata": {
    "id": "APAcLpOr_Zcu"
   },
   "outputs": [
    {
     "data": {
      "text/html": [
       "<div>\n",
       "<style scoped>\n",
       "    .dataframe tbody tr th:only-of-type {\n",
       "        vertical-align: middle;\n",
       "    }\n",
       "\n",
       "    .dataframe tbody tr th {\n",
       "        vertical-align: top;\n",
       "    }\n",
       "\n",
       "    .dataframe thead th {\n",
       "        text-align: right;\n",
       "    }\n",
       "</style>\n",
       "<table border=\"1\" class=\"dataframe\">\n",
       "  <thead>\n",
       "    <tr style=\"text-align: right;\">\n",
       "      <th></th>\n",
       "      <th>city</th>\n",
       "      <th>monday</th>\n",
       "      <th>wednesday</th>\n",
       "      <th>friday</th>\n",
       "    </tr>\n",
       "  </thead>\n",
       "  <tbody>\n",
       "    <tr>\n",
       "      <td>0</td>\n",
       "      <td>Moscow</td>\n",
       "      <td>15740</td>\n",
       "      <td>11056</td>\n",
       "      <td>15945</td>\n",
       "    </tr>\n",
       "    <tr>\n",
       "      <td>1</td>\n",
       "      <td>Saint-Petersburg</td>\n",
       "      <td>5614</td>\n",
       "      <td>7003</td>\n",
       "      <td>5895</td>\n",
       "    </tr>\n",
       "  </tbody>\n",
       "</table>\n",
       "</div>"
      ],
      "text/plain": [
       "               city  monday  wednesday  friday\n",
       "0            Moscow   15740      11056   15945\n",
       "1  Saint-Petersburg    5614       7003    5895"
      ]
     },
     "execution_count": 30,
     "metadata": {},
     "output_type": "execute_result"
    }
   ],
   "source": [
    "listeners = [\n",
    "    ['Moscow', number_tracks('Monday', 'Moscow'), number_tracks('Wednesday','Moscow'), number_tracks('Friday','Moscow')],\n",
    "    ['Saint-Petersburg', number_tracks('Monday', 'Saint-Petersburg'), number_tracks('Wednesday','Saint-Petersburg'), number_tracks('Friday','Saint-Petersburg')]\n",
    "]\n",
    "entries = ['city', 'monday', 'wednesday', 'friday']\n",
    "city_day = pd.DataFrame(data=listeners, columns=entries)\n",
    "city_day\n",
    "# Таблица с результатами"
   ]
  },
  {
   "cell_type": "markdown",
   "metadata": {
    "id": "-EgPIHYu_Zcu"
   },
   "source": [
    "**Выводы**\n",
    "\n",
    "Данные показывают разницу поведения пользователей:\n",
    "\n",
    "- В Москве пик прослушиваний приходится на понедельник и пятницу, а в среду заметен спад.\n",
    "- В Петербурге, наоборот, больше слушают музыку по средам. Активность в понедельник и пятницу здесь почти в равной мере уступает среде.\n",
    "\n",
    "Значит, данные говорят в пользу первой гипотезы."
   ]
  },
  {
   "cell_type": "markdown",
   "metadata": {
    "id": "atZAxtq4_Zcu"
   },
   "source": [
    "### Музыка в начале и в конце недели"
   ]
  },
  {
   "cell_type": "markdown",
   "metadata": {
    "id": "eXrQqXFH_Zcu"
   },
   "source": [
    "Согласно второй гипотезе, утром в понедельник в Москве преобладают одни жанры, а в Петербурге — другие. Так же и вечером пятницы преобладают разные жанры — в зависимости от города."
   ]
  },
  {
   "cell_type": "markdown",
   "metadata": {
    "id": "S8UcW6Hw_Zcu"
   },
   "source": [
    "Сохраните таблицы с данными в две переменные:\n",
    "* по Москве — в `moscow_general`;\n",
    "* по Санкт-Петербургу — в `spb_general`."
   ]
  },
  {
   "cell_type": "code",
   "execution_count": 31,
   "metadata": {
    "id": "qeaFfM_P_Zcu"
   },
   "outputs": [],
   "source": [
    "moscow_general = df[df['city'] == 'Moscow']  # получение таблицы moscow_general из тех строк таблицы df, \n",
    "# для которых значение в столбце 'city' равно 'Moscow'\n",
    "\n"
   ]
  },
  {
   "cell_type": "code",
   "execution_count": 32,
   "metadata": {
    "id": "ORaVRKto_Zcu"
   },
   "outputs": [],
   "source": [
    "spb_general = df[df['city'] == 'Saint-Petersburg']\n"
   ]
  },
  {
   "cell_type": "markdown",
   "metadata": {
    "id": "MEJV-CX2_Zcu"
   },
   "source": [
    "Создайте функцию `genre_weekday()` с четырьмя параметрами:\n",
    "* таблица (датафрейм) с данными,\n",
    "* день недели,\n",
    "* начальная временная метка в формате 'hh:mm', \n",
    "* последняя временная метка в формате 'hh:mm'.\n",
    "\n",
    "Функция должна вернуть информацию о топ-10 жанров тех треков, которые прослушивали в указанный день, в промежутке между двумя отметками времени."
   ]
  },
  {
   "cell_type": "code",
   "execution_count": 33,
   "metadata": {
    "id": "laJT9BYl_Zcu"
   },
   "outputs": [],
   "source": [
    "# Объявление функции genre_weekday() с параметрами table, day, time1, time2,\n",
    "# которая возвращает информацию о самых популярных жанрах в указанный день в\n",
    "# заданное время:\n",
    "# 1) в переменную genre_df сохраняются те строки переданного датафрейма table, для\n",
    "#    которых одновременно:\n",
    "#    - значение в столбце day равно значению аргумента day\n",
    "#    - значение в столбце time больше значения аргумента time1\n",
    "#    - значение в столбце time меньше значения аргумента time2\n",
    "#    Используйте последовательную фильтрацию с помощью логической индексации.\n",
    "# 2) сгруппировать датафрейм genre_df по столбцу genre, взять один из его\n",
    "#    столбцов и посчитать методом count() количество записей для каждого из\n",
    "#    присутствующих жанров, получившийся Series записать в переменную\n",
    "#    genre_df_count\n",
    "# 3) отсортировать genre_df_count по убыванию встречаемости и сохранить\n",
    "#    в переменную genre_df_sorted\n",
    "# 4) вернуть Series из 10 первых значений genre_df_sorted, это будут топ-10\n",
    "#    популярных жанров (в указанный день, в заданное время)\n",
    "\n",
    "def genre_weekday(table, day, time1, time2):\n",
    "    genre_df = table[table['day'] == day]\n",
    "    genre_df = genre_df[genre_df['time'] > time1]\n",
    "    genre_df = genre_df[genre_df['time'] < time2]\n",
    "    genre_df_count = genre_df.groupby('genre')['genre'].count()\n",
    "    genre_df_sorted = genre_df_count.sort_values(ascending=False)\n",
    "    return genre_df_sorted.head(10)\n",
    "\n"
   ]
  },
  {
   "cell_type": "markdown",
   "metadata": {
    "id": "la2s2_PF_Zcu"
   },
   "source": [
    "Cравните результаты функции `genre_weekday()` для Москвы и Санкт-Петербурга в понедельник утром (с 7:00 до 11:00) и в пятницу вечером (с 17:00 до 23:00):"
   ]
  },
  {
   "cell_type": "code",
   "execution_count": 34,
   "metadata": {
    "id": "yz7itPUQ_Zcu"
   },
   "outputs": [
    {
     "data": {
      "text/plain": [
       "genre\n",
       "pop            781\n",
       "dance          549\n",
       "electronic     480\n",
       "rock           474\n",
       "hiphop         286\n",
       "ruspop         186\n",
       "world          181\n",
       "rusrap         175\n",
       "alternative    164\n",
       "classical      157\n",
       "Name: genre, dtype: int64"
      ]
     },
     "execution_count": 34,
     "metadata": {},
     "output_type": "execute_result"
    }
   ],
   "source": [
    "genre_weekday(moscow_general, 'Monday', '07:00', '11:00')\n",
    "\n",
    "# вызов функции для утра понедельника в Москве (вместо df — таблица moscow_general)\n",
    "# объекты, хранящие время, являются строками и сравниваются как строки\n",
    "# пример вызова: genre_weekday(moscow_general, 'Monday', '07:00', '11:00')"
   ]
  },
  {
   "cell_type": "code",
   "execution_count": 35,
   "metadata": {
    "id": "kwUcHPdy_Zcu"
   },
   "outputs": [
    {
     "data": {
      "text/plain": [
       "genre\n",
       "pop            218\n",
       "dance          182\n",
       "rock           162\n",
       "electronic     147\n",
       "hiphop          80\n",
       "ruspop          64\n",
       "alternative     58\n",
       "rusrap          55\n",
       "jazz            44\n",
       "classical       40\n",
       "Name: genre, dtype: int64"
      ]
     },
     "execution_count": 35,
     "metadata": {},
     "output_type": "execute_result"
    }
   ],
   "source": [
    "genre_weekday(spb_general, 'Monday', '07:00', '11:00')\n",
    "# вызов функции для утра понедельника в Петербурге (вместо df — таблица spb_general)"
   ]
  },
  {
   "cell_type": "code",
   "execution_count": 36,
   "metadata": {
    "id": "EzXVRE1o_Zcu"
   },
   "outputs": [
    {
     "data": {
      "text/plain": [
       "genre\n",
       "pop            713\n",
       "rock           517\n",
       "dance          495\n",
       "electronic     482\n",
       "hiphop         273\n",
       "world          208\n",
       "ruspop         170\n",
       "alternative    163\n",
       "classical      163\n",
       "rusrap         142\n",
       "Name: genre, dtype: int64"
      ]
     },
     "execution_count": 36,
     "metadata": {},
     "output_type": "execute_result"
    }
   ],
   "source": [
    "genre_weekday(moscow_general, 'Friday', '17:00', '23:00')\n",
    "# вызов функции для вечера пятницы в Москве"
   ]
  },
  {
   "cell_type": "code",
   "execution_count": 37,
   "metadata": {
    "id": "JZaEKu5v_Zcu"
   },
   "outputs": [
    {
     "data": {
      "text/plain": [
       "genre\n",
       "pop            256\n",
       "rock           216\n",
       "electronic     216\n",
       "dance          210\n",
       "hiphop          97\n",
       "alternative     63\n",
       "jazz            61\n",
       "classical       60\n",
       "rusrap          59\n",
       "world           54\n",
       "Name: genre, dtype: int64"
      ]
     },
     "execution_count": 37,
     "metadata": {},
     "output_type": "execute_result"
    }
   ],
   "source": [
    "genre_weekday(spb_general, 'Friday', '17:00', '23:00')\n",
    "# вызов функции для вечера пятницы в Петербурге"
   ]
  },
  {
   "cell_type": "markdown",
   "metadata": {
    "id": "wrCe4MNX_Zcu"
   },
   "source": [
    "**Выводы**\n",
    "\n",
    "Если сравнить топ-10 жанров в понедельник утром, можно сделать такие выводы:\n",
    "\n",
    "1. В Москве и Петербурге слушают похожую музыку. Единственное отличие — в московский рейтинг вошёл жанр “world”, а в петербургский — джаз и классика.\n",
    "\n",
    "2. В Москве пропущенных значений оказалось так много, что значение `'unknown'` заняло десятое место среди самых популярных жанров. Значит, пропущенные значения занимают существенную долю в данных и угрожают достоверности исследования.\n",
    "\n",
    "Вечер пятницы не меняет эту картину. Некоторые жанры поднимаются немного выше, другие спускаются, но в целом топ-10 остаётся тем же самым.\n",
    "\n",
    "Таким образом, вторая гипотеза подтвердилась лишь частично:\n",
    "* Пользователи слушают похожую музыку в начале недели и в конце.\n",
    "* Разница между Москвой и Петербургом не слишком выражена. В Москве чаще слушают русскую популярную музыку, в Петербурге — джаз.\n",
    "\n",
    "Однако пропуски в данных ставят под сомнение этот результат. В Москве их так много, что рейтинг топ-10 мог бы выглядеть иначе, если бы не утерянные  данные о жанрах."
   ]
  },
  {
   "cell_type": "markdown",
   "metadata": {
    "id": "JolODAqr_Zcu"
   },
   "source": [
    "### Жанровые предпочтения в Москве и Петербурге\n",
    "\n",
    "Гипотеза: Петербург — столица рэпа, музыку этого жанра там слушают чаще, чем в Москве.  А Москва — город контрастов, в котором, тем не менее, преобладает поп-музыка."
   ]
  },
  {
   "cell_type": "markdown",
   "metadata": {
    "id": "DlegSvaT_Zcu"
   },
   "source": [
    "Сгруппируйте таблицу `moscow_general` по жанру и посчитайте прослушивания треков каждого жанра методом `count()`. Затем отсортируйте результат в порядке убывания и сохраните его в таблице `moscow_genres`."
   ]
  },
  {
   "cell_type": "code",
   "execution_count": 38,
   "metadata": {
    "id": "r19lIPke_Zcu"
   },
   "outputs": [],
   "source": [
    "moscow_genres = moscow_general.groupby('genre')['genre'].count().sort_values(ascending=False)\n",
    "# одной строкой: группировка таблицы moscow_general по столбцу 'genre', \n",
    "# подсчёт числа значений 'genre' в этой группировке методом count(), \n",
    "# сортировка получившегося Series в порядке убывания и сохранение в moscow_genres"
   ]
  },
  {
   "cell_type": "markdown",
   "metadata": {
    "id": "6kMuomxTiIr8"
   },
   "source": [
    "Выведите на экран первые десять строк `moscow_genres`:"
   ]
  },
  {
   "cell_type": "code",
   "execution_count": 39,
   "metadata": {
    "id": "WhCSooF8_Zcv"
   },
   "outputs": [
    {
     "data": {
      "text/plain": [
       "genre\n",
       "pop            5892\n",
       "dance          4435\n",
       "rock           3965\n",
       "electronic     3786\n",
       "hiphop         2096\n",
       "classical      1616\n",
       "world          1432\n",
       "alternative    1379\n",
       "ruspop         1372\n",
       "rusrap         1161\n",
       "Name: genre, dtype: int64"
      ]
     },
     "execution_count": 39,
     "metadata": {},
     "output_type": "execute_result"
    }
   ],
   "source": [
    "moscow_genres.head(10)# просмотр первых 10 строк moscow_genres"
   ]
  },
  {
   "cell_type": "markdown",
   "metadata": {
    "id": "cnPG2vnN_Zcv"
   },
   "source": [
    "Теперь повторите то же и для Петербурга.\n",
    "\n",
    "Сгруппируйте таблицу `spb_general` по жанру. Посчитайте прослушивания треков каждого жанра. Результат отсортируйте в порядке убывания и сохраните в таблице `spb_genres`:\n"
   ]
  },
  {
   "cell_type": "code",
   "execution_count": 40,
   "metadata": {
    "id": "gluLIpE7_Zcv"
   },
   "outputs": [],
   "source": [
    "spb_genres = spb_general.groupby('genre')['genre'].count().sort_values(ascending=False)\n",
    "# одной строкой: группировка таблицы spb_general по столбцу 'genre', \n",
    "# подсчёт числа значений 'genre' в этой группировке методом count(), \n",
    "# сортировка получившегося Series в порядке убывания и сохранение в spb_genres"
   ]
  },
  {
   "cell_type": "markdown",
   "metadata": {
    "id": "5Doha_ODgyQ8"
   },
   "source": [
    "Выведите на экран первые десять строк `spb_genres`:"
   ]
  },
  {
   "cell_type": "code",
   "execution_count": 41,
   "metadata": {
    "id": "uaGJHjVU_Zcv"
   },
   "outputs": [
    {
     "data": {
      "text/plain": [
       "genre\n",
       "pop            2431\n",
       "dance          1932\n",
       "rock           1879\n",
       "electronic     1736\n",
       "hiphop          960\n",
       "alternative     649\n",
       "classical       646\n",
       "rusrap          564\n",
       "ruspop          538\n",
       "world           515\n",
       "Name: genre, dtype: int64"
      ]
     },
     "execution_count": 41,
     "metadata": {},
     "output_type": "execute_result"
    }
   ],
   "source": [
    "spb_genres.head(10)# просмотр первых 10 строк spb_genres"
   ]
  },
  {
   "cell_type": "markdown",
   "metadata": {
    "id": "RY51YJYu_Zcv"
   },
   "source": [
    "**Выводы**"
   ]
  },
  {
   "cell_type": "markdown",
   "metadata": {
    "id": "nVhnJEm__Zcv"
   },
   "source": [
    "Гипотеза частично подтвердилась:\n",
    "* Поп-музыка — самый популярный жанр в Москве, как и предполагала гипотеза. Более того, в топ-10 жанров встречается близкий жанр — русская популярная музыка.\n",
    "* Вопреки ожиданиям, рэп одинаково популярен в Москве и Петербурге. \n"
   ]
  },
  {
   "cell_type": "markdown",
   "metadata": {
    "id": "ykKQ0N65_Zcv"
   },
   "source": [
    "## Итоги исследования"
   ]
  },
  {
   "cell_type": "markdown",
   "metadata": {
    "id": "tjUwbHb3_Zcv"
   },
   "source": [
    "Вы проверили три гипотезы и установили:\n",
    "\n",
    "1. День недели по-разному влияет на активность пользователей в Москве и Петербурге. \n",
    "\n",
    "Первая гипотеза полностью подтвердилась.\n",
    "\n",
    "2. Музыкальные предпочтения не сильно меняются в течение недели — будь то Москва или Петербург. Небольшие различия заметны в начале недели, по понедельникам:\n",
    "* в Москве слушают музыку жанра “world”,\n",
    "* в Петербурге — джаз и классику.\n",
    "\n",
    "Таким образом, вторая гипотеза подтвердилась лишь отчасти. Этот результат мог оказаться иным, если бы не пропуски в данных.\n",
    "\n",
    "3. Во вкусах пользователей Москвы и Петербурга больше общего чем различий. Вопреки ожиданиям, предпочтения жанров в Петербурге напоминают московские.\n",
    "\n",
    "Третья гипотеза не подтвердилась. Если различия в предпочтениях и существуют, на основной массе пользователей они незаметны.\n",
    "\n",
    "**На практике исследования содержат проверки статистических гипотез.**\n",
    "Из данных одного сервиса не всегда можно сделать вывод о всех жителях города.\n",
    "Проверки статистических гипотез покажут, насколько они достоверны, исходя из имеющихся данных. \n",
    "С методами проверок гипотез вы ещё познакомитесь в следующих темах."
   ]
  },
  {
   "cell_type": "code",
   "execution_count": null,
   "metadata": {},
   "outputs": [],
   "source": []
  }
 ],
 "metadata": {
  "ExecuteTimeLog": [
   {
    "duration": 786,
    "start_time": "2022-03-05T09:58:01.272Z"
   },
   {
    "duration": 1690,
    "start_time": "2022-03-05T09:58:55.480Z"
   },
   {
    "duration": 1669,
    "start_time": "2022-03-05T09:59:11.758Z"
   },
   {
    "duration": 169,
    "start_time": "2022-03-05T10:00:03.170Z"
   },
   {
    "duration": 11,
    "start_time": "2022-03-05T10:00:23.516Z"
   },
   {
    "duration": 31,
    "start_time": "2022-03-05T10:00:47.658Z"
   },
   {
    "duration": 4,
    "start_time": "2022-03-05T10:05:27.934Z"
   },
   {
    "duration": 29,
    "start_time": "2022-03-05T10:08:50.041Z"
   },
   {
    "duration": 4,
    "start_time": "2022-03-05T10:09:13.104Z"
   },
   {
    "duration": 5,
    "start_time": "2022-03-05T10:10:21.221Z"
   },
   {
    "duration": 25,
    "start_time": "2022-03-05T10:10:42.848Z"
   },
   {
    "duration": 5,
    "start_time": "2022-03-05T10:12:22.198Z"
   },
   {
    "duration": 4,
    "start_time": "2022-03-05T10:12:57.390Z"
   },
   {
    "duration": 4,
    "start_time": "2022-03-05T10:13:20.545Z"
   },
   {
    "duration": 4,
    "start_time": "2022-03-05T10:14:00.680Z"
   },
   {
    "duration": 4,
    "start_time": "2022-03-05T10:14:46.682Z"
   },
   {
    "duration": 19,
    "start_time": "2022-03-05T10:16:35.164Z"
   },
   {
    "duration": 5,
    "start_time": "2022-03-05T10:16:39.519Z"
   },
   {
    "duration": 29,
    "start_time": "2022-03-05T10:19:33.054Z"
   },
   {
    "duration": 22,
    "start_time": "2022-03-05T11:00:45.591Z"
   },
   {
    "duration": 29,
    "start_time": "2022-03-05T11:01:13.065Z"
   },
   {
    "duration": 78,
    "start_time": "2022-03-05T11:02:32.771Z"
   },
   {
    "duration": 92,
    "start_time": "2022-03-05T11:03:30.091Z"
   },
   {
    "duration": 71,
    "start_time": "2022-03-05T11:03:43.162Z"
   },
   {
    "duration": 221,
    "start_time": "2022-03-05T11:10:32.187Z"
   },
   {
    "duration": 75,
    "start_time": "2022-03-05T11:11:07.825Z"
   },
   {
    "duration": 7,
    "start_time": "2022-03-05T11:21:01.707Z"
   },
   {
    "duration": 244,
    "start_time": "2022-03-05T11:26:07.724Z"
   },
   {
    "duration": 227,
    "start_time": "2022-03-05T11:26:22.578Z"
   },
   {
    "duration": 238,
    "start_time": "2022-03-05T11:26:58.756Z"
   },
   {
    "duration": 53,
    "start_time": "2022-03-05T11:27:33.031Z"
   },
   {
    "duration": 54,
    "start_time": "2022-03-05T11:29:39.048Z"
   },
   {
    "duration": 58,
    "start_time": "2022-03-05T11:31:23.828Z"
   },
   {
    "duration": 62,
    "start_time": "2022-03-05T11:43:47.854Z"
   },
   {
    "duration": 70,
    "start_time": "2022-03-05T11:44:10.500Z"
   },
   {
    "duration": 17,
    "start_time": "2022-03-05T11:44:39.246Z"
   },
   {
    "duration": 4,
    "start_time": "2022-03-05T11:44:59.948Z"
   },
   {
    "duration": 6,
    "start_time": "2022-03-05T11:45:10.972Z"
   },
   {
    "duration": 29,
    "start_time": "2022-03-05T11:45:20.596Z"
   },
   {
    "duration": 28,
    "start_time": "2022-03-05T11:45:30.222Z"
   },
   {
    "duration": 79,
    "start_time": "2022-03-05T11:45:41.324Z"
   },
   {
    "duration": 239,
    "start_time": "2022-03-05T11:46:33.737Z"
   },
   {
    "duration": 403,
    "start_time": "2022-03-05T11:46:55.024Z"
   },
   {
    "duration": 14,
    "start_time": "2022-03-05T11:51:16.793Z"
   },
   {
    "duration": 14,
    "start_time": "2022-03-05T11:51:24.891Z"
   },
   {
    "duration": 13,
    "start_time": "2022-03-05T11:52:06.066Z"
   },
   {
    "duration": 9,
    "start_time": "2022-03-05T11:52:24.087Z"
   },
   {
    "duration": 9,
    "start_time": "2022-03-05T11:52:40.512Z"
   },
   {
    "duration": 9,
    "start_time": "2022-03-05T11:53:14.794Z"
   },
   {
    "duration": 7,
    "start_time": "2022-03-05T11:54:59.309Z"
   },
   {
    "duration": 55,
    "start_time": "2022-03-05T11:56:58.999Z"
   },
   {
    "duration": 236,
    "start_time": "2022-03-06T13:35:10.774Z"
   },
   {
    "duration": 203,
    "start_time": "2022-03-06T13:43:57.506Z"
   },
   {
    "duration": 193,
    "start_time": "2022-03-06T13:44:23.402Z"
   },
   {
    "duration": 190,
    "start_time": "2022-03-06T13:45:16.173Z"
   },
   {
    "duration": 191,
    "start_time": "2022-03-06T13:45:38.882Z"
   },
   {
    "duration": 579,
    "start_time": "2022-03-06T13:45:52.454Z"
   },
   {
    "duration": 125,
    "start_time": "2022-03-06T13:45:55.698Z"
   },
   {
    "duration": 16,
    "start_time": "2022-03-06T13:45:59.746Z"
   },
   {
    "duration": 23,
    "start_time": "2022-03-06T13:46:04.642Z"
   },
   {
    "duration": 4,
    "start_time": "2022-03-06T13:46:12.190Z"
   },
   {
    "duration": 20,
    "start_time": "2022-03-06T13:46:16.838Z"
   },
   {
    "duration": 4,
    "start_time": "2022-03-06T13:46:20.130Z"
   },
   {
    "duration": 23,
    "start_time": "2022-03-06T13:46:23.349Z"
   },
   {
    "duration": 17,
    "start_time": "2022-03-06T13:46:27.514Z"
   },
   {
    "duration": 22,
    "start_time": "2022-03-06T13:46:29.966Z"
   },
   {
    "duration": 58,
    "start_time": "2022-03-06T13:46:34.202Z"
   },
   {
    "duration": 69,
    "start_time": "2022-03-06T13:46:37.922Z"
   },
   {
    "duration": 51,
    "start_time": "2022-03-06T13:46:40.418Z"
   },
   {
    "duration": 43,
    "start_time": "2022-03-06T13:46:44.694Z"
   },
   {
    "duration": 11,
    "start_time": "2022-03-06T13:46:50.938Z"
   },
   {
    "duration": 10,
    "start_time": "2022-03-06T13:46:55.762Z"
   },
   {
    "duration": 41,
    "start_time": "2022-03-06T13:46:58.770Z"
   },
   {
    "duration": 247,
    "start_time": "2022-03-06T13:47:16.542Z"
   },
   {
    "duration": 86,
    "start_time": "2022-03-06T13:47:35.022Z"
   },
   {
    "duration": 31,
    "start_time": "2022-03-06T13:47:47.538Z"
   },
   {
    "duration": 32,
    "start_time": "2022-03-06T13:49:48.618Z"
   },
   {
    "duration": 3,
    "start_time": "2022-03-06T14:25:04.959Z"
   },
   {
    "duration": 3,
    "start_time": "2022-03-06T14:25:25.668Z"
   },
   {
    "duration": 186,
    "start_time": "2022-03-06T14:25:54.164Z"
   },
   {
    "duration": 198,
    "start_time": "2022-03-06T14:26:33.264Z"
   },
   {
    "duration": 408,
    "start_time": "2022-03-06T14:35:32.394Z"
   },
   {
    "duration": 511,
    "start_time": "2022-03-06T14:35:46.923Z"
   },
   {
    "duration": 522,
    "start_time": "2022-03-06T14:35:58.424Z"
   },
   {
    "duration": 140,
    "start_time": "2022-03-06T14:36:01.771Z"
   },
   {
    "duration": 17,
    "start_time": "2022-03-06T14:36:04.712Z"
   },
   {
    "duration": 24,
    "start_time": "2022-03-06T14:36:10.320Z"
   },
   {
    "duration": 4,
    "start_time": "2022-03-06T14:36:18.164Z"
   },
   {
    "duration": 22,
    "start_time": "2022-03-06T14:36:22.351Z"
   },
   {
    "duration": 4,
    "start_time": "2022-03-06T14:36:24.506Z"
   },
   {
    "duration": 23,
    "start_time": "2022-03-06T14:36:28.816Z"
   },
   {
    "duration": 17,
    "start_time": "2022-03-06T14:36:32.824Z"
   },
   {
    "duration": 23,
    "start_time": "2022-03-06T14:36:35.791Z"
   },
   {
    "duration": 56,
    "start_time": "2022-03-06T14:36:39.948Z"
   },
   {
    "duration": 68,
    "start_time": "2022-03-06T14:36:43.205Z"
   },
   {
    "duration": 50,
    "start_time": "2022-03-06T14:36:46.728Z"
   },
   {
    "duration": 40,
    "start_time": "2022-03-06T14:36:49.852Z"
   },
   {
    "duration": 10,
    "start_time": "2022-03-06T14:36:55.023Z"
   },
   {
    "duration": 10,
    "start_time": "2022-03-06T14:36:57.627Z"
   },
   {
    "duration": 41,
    "start_time": "2022-03-06T14:37:01.316Z"
   },
   {
    "duration": 32,
    "start_time": "2022-03-06T14:37:08.003Z"
   },
   {
    "duration": 4920,
    "start_time": "2022-03-06T14:37:13.496Z"
   },
   {
    "duration": 4760,
    "start_time": "2022-03-06T14:38:16.639Z"
   },
   {
    "duration": 325,
    "start_time": "2022-03-06T14:39:42.452Z"
   },
   {
    "duration": 17,
    "start_time": "2022-03-06T14:40:45.256Z"
   },
   {
    "duration": 18,
    "start_time": "2022-03-06T14:40:57.399Z"
   },
   {
    "duration": 23,
    "start_time": "2022-03-06T14:41:29.815Z"
   },
   {
    "duration": 43,
    "start_time": "2022-03-06T14:43:47.691Z"
   },
   {
    "duration": 44,
    "start_time": "2022-03-06T14:44:51.931Z"
   },
   {
    "duration": 39,
    "start_time": "2022-03-06T14:45:12.995Z"
   },
   {
    "duration": 67,
    "start_time": "2022-03-06T14:47:16.371Z"
   },
   {
    "duration": 16,
    "start_time": "2022-03-06T14:48:24.599Z"
   },
   {
    "duration": 14,
    "start_time": "2022-03-06T14:48:48.191Z"
   },
   {
    "duration": 15,
    "start_time": "2022-03-06T14:49:06.302Z"
   },
   {
    "duration": 14,
    "start_time": "2022-03-06T14:49:21.342Z"
   },
   {
    "duration": 17,
    "start_time": "2022-03-06T14:49:38.718Z"
   },
   {
    "duration": 16,
    "start_time": "2022-03-06T14:49:53.594Z"
   },
   {
    "duration": 182,
    "start_time": "2022-03-06T15:06:40.541Z"
   },
   {
    "duration": 8,
    "start_time": "2022-03-06T15:11:39.361Z"
   },
   {
    "duration": 76,
    "start_time": "2022-03-06T15:14:15.481Z"
   },
   {
    "duration": 20,
    "start_time": "2022-03-06T15:14:28.985Z"
   },
   {
    "duration": 11,
    "start_time": "2022-03-06T15:14:37.941Z"
   },
   {
    "duration": 19,
    "start_time": "2022-03-06T15:15:27.765Z"
   },
   {
    "duration": 10,
    "start_time": "2022-03-06T15:15:32.869Z"
   },
   {
    "duration": 197,
    "start_time": "2022-03-06T15:48:14.140Z"
   },
   {
    "duration": 187,
    "start_time": "2022-03-06T15:48:34.020Z"
   },
   {
    "duration": 4,
    "start_time": "2022-03-06T15:50:49.660Z"
   },
   {
    "duration": 383,
    "start_time": "2022-03-06T15:54:52.711Z"
   },
   {
    "duration": 368,
    "start_time": "2022-03-06T16:07:19.800Z"
   },
   {
    "duration": 4,
    "start_time": "2022-03-06T16:08:41.504Z"
   },
   {
    "duration": 22,
    "start_time": "2022-03-06T16:08:49.856Z"
   },
   {
    "duration": 23,
    "start_time": "2022-03-06T16:09:43.024Z"
   },
   {
    "duration": 24,
    "start_time": "2022-03-06T16:09:47.305Z"
   },
   {
    "duration": 4,
    "start_time": "2022-03-06T16:09:51.384Z"
   },
   {
    "duration": 23,
    "start_time": "2022-03-06T16:09:55.736Z"
   },
   {
    "duration": 17,
    "start_time": "2022-03-06T16:11:34.892Z"
   },
   {
    "duration": 21,
    "start_time": "2022-03-06T16:12:22.400Z"
   },
   {
    "duration": 16,
    "start_time": "2022-03-06T16:12:44.228Z"
   },
   {
    "duration": 608,
    "start_time": "2022-03-06T16:15:30.339Z"
   },
   {
    "duration": 124,
    "start_time": "2022-03-06T16:15:39.051Z"
   },
   {
    "duration": 17,
    "start_time": "2022-03-06T16:15:42.735Z"
   },
   {
    "duration": 23,
    "start_time": "2022-03-06T16:15:47.615Z"
   },
   {
    "duration": 5,
    "start_time": "2022-03-06T16:16:08.295Z"
   },
   {
    "duration": 21,
    "start_time": "2022-03-06T16:16:12.927Z"
   },
   {
    "duration": 4,
    "start_time": "2022-03-06T16:16:16.168Z"
   },
   {
    "duration": 23,
    "start_time": "2022-03-06T16:16:19.967Z"
   },
   {
    "duration": 16,
    "start_time": "2022-03-06T16:16:23.715Z"
   },
   {
    "duration": 24,
    "start_time": "2022-03-06T16:16:27.355Z"
   },
   {
    "duration": 60,
    "start_time": "2022-03-06T16:16:31.187Z"
   },
   {
    "duration": 69,
    "start_time": "2022-03-06T16:16:34.391Z"
   },
   {
    "duration": 51,
    "start_time": "2022-03-06T16:16:37.035Z"
   },
   {
    "duration": 41,
    "start_time": "2022-03-06T16:16:40.812Z"
   },
   {
    "duration": 11,
    "start_time": "2022-03-06T16:16:49.419Z"
   },
   {
    "duration": 10,
    "start_time": "2022-03-06T16:16:51.939Z"
   },
   {
    "duration": 43,
    "start_time": "2022-03-06T16:16:54.655Z"
   },
   {
    "duration": 34,
    "start_time": "2022-03-06T16:17:01.679Z"
   },
   {
    "duration": 30,
    "start_time": "2022-03-06T16:17:05.211Z"
   },
   {
    "duration": 4,
    "start_time": "2022-03-06T16:17:15.827Z"
   },
   {
    "duration": 17,
    "start_time": "2022-03-06T16:17:19.607Z"
   },
   {
    "duration": 15,
    "start_time": "2022-03-06T16:17:22.732Z"
   },
   {
    "duration": 15,
    "start_time": "2022-03-06T16:17:27.816Z"
   },
   {
    "duration": 15,
    "start_time": "2022-03-06T16:17:33.555Z"
   },
   {
    "duration": 16,
    "start_time": "2022-03-06T16:17:37.891Z"
   },
   {
    "duration": 15,
    "start_time": "2022-03-06T16:17:39.528Z"
   },
   {
    "duration": 8,
    "start_time": "2022-03-06T16:17:46.775Z"
   },
   {
    "duration": 11,
    "start_time": "2022-03-06T16:18:06.680Z"
   },
   {
    "duration": 9,
    "start_time": "2022-03-06T16:18:20.055Z"
   },
   {
    "duration": 4,
    "start_time": "2022-03-06T16:18:46.575Z"
   },
   {
    "duration": 22,
    "start_time": "2022-03-06T16:18:53.152Z"
   },
   {
    "duration": 17,
    "start_time": "2022-03-06T16:18:57.352Z"
   },
   {
    "duration": 22,
    "start_time": "2022-03-06T16:19:03.027Z"
   },
   {
    "duration": 17,
    "start_time": "2022-03-06T16:19:06.828Z"
   },
   {
    "duration": 32,
    "start_time": "2022-03-06T16:28:49.775Z"
   },
   {
    "duration": 5,
    "start_time": "2022-03-06T16:29:02.947Z"
   },
   {
    "duration": 22,
    "start_time": "2022-03-06T16:29:07.187Z"
   },
   {
    "duration": 17,
    "start_time": "2022-03-06T16:29:22.071Z"
   },
   {
    "duration": 22,
    "start_time": "2022-03-06T16:29:32.819Z"
   },
   {
    "duration": 17,
    "start_time": "2022-03-06T16:29:36.623Z"
   },
   {
    "duration": 5,
    "start_time": "2022-03-06T16:31:20.130Z"
   },
   {
    "duration": 4,
    "start_time": "2022-03-06T16:31:55.567Z"
   },
   {
    "duration": 440,
    "start_time": "2022-03-06T16:31:59.644Z"
   },
   {
    "duration": 4,
    "start_time": "2022-03-06T16:32:45.603Z"
   },
   {
    "duration": 396,
    "start_time": "2022-03-06T16:32:49.830Z"
   },
   {
    "duration": 4,
    "start_time": "2022-03-06T16:38:38.778Z"
   },
   {
    "duration": 403,
    "start_time": "2022-03-06T16:38:42.370Z"
   },
   {
    "duration": 4,
    "start_time": "2022-03-06T16:39:51.257Z"
   },
   {
    "duration": 400,
    "start_time": "2022-03-06T16:39:54.212Z"
   },
   {
    "duration": 4,
    "start_time": "2022-03-06T16:40:28.832Z"
   },
   {
    "duration": 390,
    "start_time": "2022-03-06T16:40:31.590Z"
   },
   {
    "duration": 11,
    "start_time": "2022-03-06T16:40:48.913Z"
   },
   {
    "duration": 10,
    "start_time": "2022-03-06T16:40:58.841Z"
   },
   {
    "duration": 14,
    "start_time": "2022-03-06T16:41:12.877Z"
   },
   {
    "duration": 4,
    "start_time": "2022-03-06T16:42:07.984Z"
   },
   {
    "duration": 650,
    "start_time": "2022-03-06T16:42:12.729Z"
   },
   {
    "duration": 5,
    "start_time": "2022-03-06T16:57:48.707Z"
   },
   {
    "duration": 26,
    "start_time": "2022-03-06T16:57:53.876Z"
   },
   {
    "duration": 16,
    "start_time": "2022-03-06T16:57:58.408Z"
   },
   {
    "duration": 21,
    "start_time": "2022-03-06T16:58:03.120Z"
   },
   {
    "duration": 17,
    "start_time": "2022-03-06T16:58:06.744Z"
   },
   {
    "duration": 4,
    "start_time": "2022-03-06T17:14:23.131Z"
   },
   {
    "duration": 374,
    "start_time": "2022-03-06T17:14:27.247Z"
   },
   {
    "duration": 374,
    "start_time": "2022-03-06T17:14:55.512Z"
   },
   {
    "duration": 428,
    "start_time": "2022-03-06T17:15:02.463Z"
   },
   {
    "duration": 5,
    "start_time": "2022-03-06T17:15:43.611Z"
   },
   {
    "duration": 4,
    "start_time": "2022-03-06T17:16:05.547Z"
   },
   {
    "duration": 13,
    "start_time": "2022-03-06T17:16:13.207Z"
   },
   {
    "duration": 18,
    "start_time": "2022-03-06T17:16:24.367Z"
   },
   {
    "duration": 13,
    "start_time": "2022-03-06T17:16:32.703Z"
   },
   {
    "duration": 568,
    "start_time": "2022-03-06T17:20:15.284Z"
   },
   {
    "duration": 135,
    "start_time": "2022-03-06T17:20:18.901Z"
   },
   {
    "duration": 17,
    "start_time": "2022-03-06T17:20:21.313Z"
   },
   {
    "duration": 24,
    "start_time": "2022-03-06T17:20:25.724Z"
   },
   {
    "duration": 5,
    "start_time": "2022-03-06T17:20:32.272Z"
   },
   {
    "duration": 27,
    "start_time": "2022-03-06T17:20:37.532Z"
   },
   {
    "duration": 4,
    "start_time": "2022-03-06T17:20:44.484Z"
   },
   {
    "duration": 24,
    "start_time": "2022-03-06T17:20:48.137Z"
   },
   {
    "duration": 27,
    "start_time": "2022-03-06T17:20:52.509Z"
   },
   {
    "duration": 23,
    "start_time": "2022-03-06T17:20:56.484Z"
   },
   {
    "duration": 57,
    "start_time": "2022-03-06T17:20:59.888Z"
   },
   {
    "duration": 68,
    "start_time": "2022-03-06T17:21:02.523Z"
   },
   {
    "duration": 52,
    "start_time": "2022-03-06T17:21:05.100Z"
   },
   {
    "duration": 42,
    "start_time": "2022-03-06T17:21:09.038Z"
   },
   {
    "duration": 11,
    "start_time": "2022-03-06T17:21:14.860Z"
   },
   {
    "duration": 10,
    "start_time": "2022-03-06T17:21:21.945Z"
   },
   {
    "duration": 43,
    "start_time": "2022-03-06T17:21:24.284Z"
   },
   {
    "duration": 34,
    "start_time": "2022-03-06T17:21:30.656Z"
   },
   {
    "duration": 32,
    "start_time": "2022-03-06T17:21:33.916Z"
   },
   {
    "duration": 3,
    "start_time": "2022-03-06T17:21:37.955Z"
   },
   {
    "duration": 19,
    "start_time": "2022-03-06T17:21:42.692Z"
   },
   {
    "duration": 15,
    "start_time": "2022-03-06T17:21:44.340Z"
   },
   {
    "duration": 15,
    "start_time": "2022-03-06T17:21:45.464Z"
   },
   {
    "duration": 14,
    "start_time": "2022-03-06T17:21:47.116Z"
   },
   {
    "duration": 16,
    "start_time": "2022-03-06T17:21:49.408Z"
   },
   {
    "duration": 14,
    "start_time": "2022-03-06T17:21:50.376Z"
   },
   {
    "duration": 9,
    "start_time": "2022-03-06T17:21:55.372Z"
   },
   {
    "duration": 11,
    "start_time": "2022-03-06T17:22:02.056Z"
   },
   {
    "duration": 10,
    "start_time": "2022-03-06T17:22:03.340Z"
   },
   {
    "duration": 4,
    "start_time": "2022-03-06T17:22:06.569Z"
   },
   {
    "duration": 281,
    "start_time": "2022-03-06T17:33:56.526Z"
   },
   {
    "duration": 212,
    "start_time": "2022-03-06T17:35:00.626Z"
   },
   {
    "duration": 22,
    "start_time": "2022-03-06T17:35:15.499Z"
   },
   {
    "duration": 24,
    "start_time": "2022-03-06T17:35:27.398Z"
   },
   {
    "duration": 8,
    "start_time": "2022-03-06T17:35:57.430Z"
   },
   {
    "duration": 8,
    "start_time": "2022-03-06T17:38:36.382Z"
   },
   {
    "duration": 6,
    "start_time": "2022-03-06T17:38:39.951Z"
   },
   {
    "duration": 11,
    "start_time": "2022-03-06T17:40:38.379Z"
   },
   {
    "duration": 197,
    "start_time": "2022-03-06T17:41:06.234Z"
   },
   {
    "duration": 6,
    "start_time": "2022-03-06T17:42:24.682Z"
   },
   {
    "duration": 4,
    "start_time": "2022-03-06T17:42:26.935Z"
   },
   {
    "duration": 189,
    "start_time": "2022-03-06T17:42:41.515Z"
   },
   {
    "duration": 9,
    "start_time": "2022-03-06T17:42:52.820Z"
   },
   {
    "duration": 5,
    "start_time": "2022-03-06T17:42:55.828Z"
   },
   {
    "duration": 585,
    "start_time": "2022-03-06T17:47:51.658Z"
   },
   {
    "duration": 139,
    "start_time": "2022-03-06T17:47:56.775Z"
   },
   {
    "duration": 18,
    "start_time": "2022-03-06T17:47:59.307Z"
   },
   {
    "duration": 25,
    "start_time": "2022-03-06T17:48:03.863Z"
   },
   {
    "duration": 4,
    "start_time": "2022-03-06T17:48:09.391Z"
   },
   {
    "duration": 21,
    "start_time": "2022-03-06T17:48:13.071Z"
   },
   {
    "duration": 4,
    "start_time": "2022-03-06T17:48:15.247Z"
   },
   {
    "duration": 27,
    "start_time": "2022-03-06T17:48:21.423Z"
   },
   {
    "duration": 18,
    "start_time": "2022-03-06T17:48:29.967Z"
   },
   {
    "duration": 22,
    "start_time": "2022-03-06T17:48:33.903Z"
   },
   {
    "duration": 62,
    "start_time": "2022-03-06T17:48:38.364Z"
   },
   {
    "duration": 70,
    "start_time": "2022-03-06T17:48:42.034Z"
   },
   {
    "duration": 53,
    "start_time": "2022-03-06T17:48:45.747Z"
   },
   {
    "duration": 42,
    "start_time": "2022-03-06T17:48:48.619Z"
   },
   {
    "duration": 11,
    "start_time": "2022-03-06T17:48:53.110Z"
   },
   {
    "duration": 9,
    "start_time": "2022-03-06T17:48:55.878Z"
   },
   {
    "duration": 42,
    "start_time": "2022-03-06T17:48:58.090Z"
   },
   {
    "duration": 33,
    "start_time": "2022-03-06T17:49:04.903Z"
   },
   {
    "duration": 32,
    "start_time": "2022-03-06T17:49:09.347Z"
   },
   {
    "duration": 4,
    "start_time": "2022-03-06T17:49:13.865Z"
   },
   {
    "duration": 18,
    "start_time": "2022-03-06T17:49:17.835Z"
   },
   {
    "duration": 16,
    "start_time": "2022-03-06T17:49:18.963Z"
   },
   {
    "duration": 16,
    "start_time": "2022-03-06T17:49:19.730Z"
   },
   {
    "duration": 15,
    "start_time": "2022-03-06T17:49:20.450Z"
   },
   {
    "duration": 18,
    "start_time": "2022-03-06T17:49:21.831Z"
   },
   {
    "duration": 16,
    "start_time": "2022-03-06T17:49:22.643Z"
   },
   {
    "duration": 9,
    "start_time": "2022-03-06T17:49:27.571Z"
   },
   {
    "duration": 11,
    "start_time": "2022-03-06T17:49:33.235Z"
   },
   {
    "duration": 9,
    "start_time": "2022-03-06T17:49:35.039Z"
   },
   {
    "duration": 4,
    "start_time": "2022-03-06T17:49:38.583Z"
   },
   {
    "duration": 20,
    "start_time": "2022-03-06T17:49:45.631Z"
   },
   {
    "duration": 14,
    "start_time": "2022-03-06T17:49:54.911Z"
   },
   {
    "duration": 17,
    "start_time": "2022-03-06T17:49:57.963Z"
   },
   {
    "duration": 13,
    "start_time": "2022-03-06T17:50:00.035Z"
   },
   {
    "duration": 8,
    "start_time": "2022-03-06T17:50:41.874Z"
   },
   {
    "duration": 5,
    "start_time": "2022-03-06T17:50:44.495Z"
   },
   {
    "duration": 7,
    "start_time": "2022-03-06T17:50:47.599Z"
   },
   {
    "duration": 5,
    "start_time": "2022-03-06T17:50:49.651Z"
   },
   {
    "duration": 633,
    "start_time": "2022-03-07T07:13:28.679Z"
   },
   {
    "duration": 153,
    "start_time": "2022-03-07T07:13:29.314Z"
   },
   {
    "duration": 20,
    "start_time": "2022-03-07T07:13:29.470Z"
   },
   {
    "duration": 27,
    "start_time": "2022-03-07T07:13:29.500Z"
   },
   {
    "duration": 25,
    "start_time": "2022-03-07T07:13:29.529Z"
   },
   {
    "duration": 43,
    "start_time": "2022-03-07T07:13:29.555Z"
   },
   {
    "duration": 6,
    "start_time": "2022-03-07T07:13:29.600Z"
   },
   {
    "duration": 33,
    "start_time": "2022-03-07T07:13:29.609Z"
   },
   {
    "duration": 36,
    "start_time": "2022-03-07T07:13:29.644Z"
   },
   {
    "duration": 35,
    "start_time": "2022-03-07T07:13:29.682Z"
   },
   {
    "duration": 75,
    "start_time": "2022-03-07T07:13:29.719Z"
   },
   {
    "duration": 82,
    "start_time": "2022-03-07T07:13:29.795Z"
   },
   {
    "duration": 70,
    "start_time": "2022-03-07T07:13:29.879Z"
   },
   {
    "duration": 56,
    "start_time": "2022-03-07T07:13:29.952Z"
   },
   {
    "duration": 12,
    "start_time": "2022-03-07T07:13:30.010Z"
   },
   {
    "duration": 17,
    "start_time": "2022-03-07T07:13:30.024Z"
   },
   {
    "duration": 63,
    "start_time": "2022-03-07T07:13:30.043Z"
   },
   {
    "duration": 32,
    "start_time": "2022-03-07T07:13:30.108Z"
   },
   {
    "duration": 33,
    "start_time": "2022-03-07T07:13:30.142Z"
   },
   {
    "duration": 26,
    "start_time": "2022-03-07T07:13:30.176Z"
   },
   {
    "duration": 31,
    "start_time": "2022-03-07T07:13:30.204Z"
   },
   {
    "duration": 18,
    "start_time": "2022-03-07T07:13:30.236Z"
   },
   {
    "duration": 19,
    "start_time": "2022-03-07T07:13:30.258Z"
   },
   {
    "duration": 37,
    "start_time": "2022-03-07T07:13:30.279Z"
   },
   {
    "duration": 21,
    "start_time": "2022-03-07T07:13:30.318Z"
   },
   {
    "duration": 22,
    "start_time": "2022-03-07T07:13:30.341Z"
   },
   {
    "duration": 10,
    "start_time": "2022-03-07T07:13:30.365Z"
   },
   {
    "duration": 12,
    "start_time": "2022-03-07T07:13:30.401Z"
   },
   {
    "duration": 19,
    "start_time": "2022-03-07T07:13:30.415Z"
   },
   {
    "duration": 27,
    "start_time": "2022-03-07T07:13:30.436Z"
   },
   {
    "duration": 62,
    "start_time": "2022-03-07T07:13:30.465Z"
   },
   {
    "duration": 24,
    "start_time": "2022-03-07T07:13:30.529Z"
   },
   {
    "duration": 27,
    "start_time": "2022-03-07T07:13:30.555Z"
   },
   {
    "duration": 26,
    "start_time": "2022-03-07T07:13:30.584Z"
   },
   {
    "duration": 9,
    "start_time": "2022-03-07T07:13:30.612Z"
   },
   {
    "duration": 18,
    "start_time": "2022-03-07T07:13:30.622Z"
   },
   {
    "duration": 17,
    "start_time": "2022-03-07T07:13:30.642Z"
   },
   {
    "duration": 13,
    "start_time": "2022-03-07T07:13:30.661Z"
   },
   {
    "duration": 479,
    "start_time": "2022-03-07T09:44:29.760Z"
   },
   {
    "duration": 782,
    "start_time": "2022-03-07T09:44:59.911Z"
   },
   {
    "duration": 178,
    "start_time": "2022-03-07T09:45:03.408Z"
   },
   {
    "duration": 26,
    "start_time": "2022-03-07T09:45:18.568Z"
   },
   {
    "duration": 32,
    "start_time": "2022-03-07T09:45:21.756Z"
   },
   {
    "duration": 6,
    "start_time": "2022-03-07T09:45:27.872Z"
   },
   {
    "duration": 29,
    "start_time": "2022-03-07T09:45:30.976Z"
   },
   {
    "duration": 5,
    "start_time": "2022-03-07T09:45:33.668Z"
   },
   {
    "duration": 29,
    "start_time": "2022-03-07T09:45:38.888Z"
   },
   {
    "duration": 99,
    "start_time": "2022-03-07T09:45:43.240Z"
   },
   {
    "duration": 74,
    "start_time": "2022-03-07T09:45:44.884Z"
   },
   {
    "duration": 59,
    "start_time": "2022-03-07T09:45:48.992Z"
   },
   {
    "duration": 17,
    "start_time": "2022-03-07T09:45:54.404Z"
   },
   {
    "duration": 60,
    "start_time": "2022-03-07T09:45:58.348Z"
   },
   {
    "duration": 45,
    "start_time": "2022-03-07T09:46:11.920Z"
   },
   {
    "duration": 15,
    "start_time": "2022-03-07T09:46:52.632Z"
   },
   {
    "duration": 15,
    "start_time": "2022-03-07T09:47:15.564Z"
   },
   {
    "duration": 41,
    "start_time": "2022-03-07T09:47:24.868Z"
   },
   {
    "duration": 15,
    "start_time": "2022-03-07T09:47:57.935Z"
   },
   {
    "duration": 42,
    "start_time": "2022-03-07T09:48:06.588Z"
   },
   {
    "duration": 13,
    "start_time": "2022-03-07T09:48:55.720Z"
   },
   {
    "duration": 5,
    "start_time": "2022-03-07T09:49:19.292Z"
   },
   {
    "duration": 20,
    "start_time": "2022-03-07T09:49:22.876Z"
   },
   {
    "duration": 19,
    "start_time": "2022-03-07T09:49:26.064Z"
   },
   {
    "duration": 18,
    "start_time": "2022-03-07T09:49:26.631Z"
   },
   {
    "duration": 18,
    "start_time": "2022-03-07T09:49:27.267Z"
   },
   {
    "duration": 22,
    "start_time": "2022-03-07T09:49:28.035Z"
   },
   {
    "duration": 20,
    "start_time": "2022-03-07T09:49:30.267Z"
   },
   {
    "duration": 27,
    "start_time": "2022-03-07T09:49:35.324Z"
   },
   {
    "duration": 88,
    "start_time": "2022-03-07T09:51:28.559Z"
   },
   {
    "duration": 15,
    "start_time": "2022-03-07T09:51:41.752Z"
   },
   {
    "duration": 12,
    "start_time": "2022-03-07T09:51:44.583Z"
   },
   {
    "duration": 6,
    "start_time": "2022-03-07T09:51:47.260Z"
   },
   {
    "duration": 24,
    "start_time": "2022-03-07T09:52:16.787Z"
   },
   {
    "duration": 16,
    "start_time": "2022-03-07T09:52:20.703Z"
   },
   {
    "duration": 25,
    "start_time": "2022-03-07T09:52:24.570Z"
   },
   {
    "duration": 15,
    "start_time": "2022-03-07T09:52:27.636Z"
   },
   {
    "duration": 11,
    "start_time": "2022-03-07T09:52:34.584Z"
   },
   {
    "duration": 11,
    "start_time": "2022-03-07T09:52:36.976Z"
   },
   {
    "duration": 11,
    "start_time": "2022-03-07T09:52:42.355Z"
   },
   {
    "duration": 7,
    "start_time": "2022-03-07T09:52:45.748Z"
   }
  ],
  "colab": {
   "collapsed_sections": [
    "E0vqbgi9ay0H",
    "VUC88oWjTJw2"
   ],
   "name": "yandex_music_project_2021.2.ipynb",
   "provenance": []
  },
  "kernelspec": {
   "display_name": "Python 3 (ipykernel)",
   "language": "python",
   "name": "python3"
  },
  "language_info": {
   "codemirror_mode": {
    "name": "ipython",
    "version": 3
   },
   "file_extension": ".py",
   "mimetype": "text/x-python",
   "name": "python",
   "nbconvert_exporter": "python",
   "pygments_lexer": "ipython3",
   "version": "3.9.13"
  },
  "toc": {
   "base_numbering": 1,
   "nav_menu": {},
   "number_sections": true,
   "sideBar": true,
   "skip_h1_title": true,
   "title_cell": "Table of Contents",
   "title_sidebar": "Contents",
   "toc_cell": false,
   "toc_position": {},
   "toc_section_display": true,
   "toc_window_display": true
  }
 },
 "nbformat": 4,
 "nbformat_minor": 1
}
