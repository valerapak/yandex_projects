{
 "cells": [
  {
   "cell_type": "markdown",
   "metadata": {
    "toc": true
   },
   "source": [
    "<h1>Содержание<span class=\"tocSkip\"></span></h1>\n",
    "<div class=\"toc\"><ul class=\"toc-item\"><li><span><a href=\"#Изучение-данных-из-файла\" data-toc-modified-id=\"Изучение-данных-из-файла-1\"><span class=\"toc-item-num\">1&nbsp;&nbsp;</span>Изучение данных из файла</a></span><ul class=\"toc-item\"><li><span><a href=\"#Вывод\" data-toc-modified-id=\"Вывод-1.1\"><span class=\"toc-item-num\">1.1&nbsp;&nbsp;</span>Вывод</a></span></li></ul></li><li><span><a href=\"#Предобработка-данных\" data-toc-modified-id=\"Предобработка-данных-2\"><span class=\"toc-item-num\">2&nbsp;&nbsp;</span>Предобработка данных</a></span></li><li><span><a href=\"#Расчёты-и-добавление-результатов-в-таблицу\" data-toc-modified-id=\"Расчёты-и-добавление-результатов-в-таблицу-3\"><span class=\"toc-item-num\">3&nbsp;&nbsp;</span>Расчёты и добавление результатов в таблицу</a></span></li><li><span><a href=\"#Исследовательский-анализ-данных\" data-toc-modified-id=\"Исследовательский-анализ-данных-4\"><span class=\"toc-item-num\">4&nbsp;&nbsp;</span>Исследовательский анализ данных</a></span></li><li><span><a href=\"#Общий-вывод\" data-toc-modified-id=\"Общий-вывод-5\"><span class=\"toc-item-num\">5&nbsp;&nbsp;</span>Общий вывод</a></span></li><li><span><a href=\"#Чек-лист-готовности-проекта\" data-toc-modified-id=\"Чек-лист-готовности-проекта-6\"><span class=\"toc-item-num\">6&nbsp;&nbsp;</span>Чек-лист готовности проекта</a></span></li></ul></div>"
   ]
  },
  {
   "cell_type": "markdown",
   "metadata": {},
   "source": [
    "# Исследование объявлений о продаже квартир\n",
    "\n",
    "В вашем распоряжении данные сервиса Яндекc Недвижимость — архив объявлений о продаже квартир в Санкт-Петербурге и соседних населённых пунктах за несколько лет. Нужно научиться определять рыночную стоимость объектов недвижимости. Ваша задача — установить параметры. Это позволит построить автоматизированную систему: она отследит аномалии и мошенническую деятельность. \n",
    "\n",
    "По каждой квартире на продажу доступны два вида данных. Первые вписаны пользователем, вторые получены автоматически на основе картографических данных. Например, расстояние до центра, аэропорта, ближайшего парка и водоёма. "
   ]
  },
  {
   "cell_type": "markdown",
   "metadata": {},
   "source": [
    "## Изучение данных из файла"
   ]
  },
  {
   "cell_type": "code",
   "execution_count": 1,
   "metadata": {},
   "outputs": [
    {
     "data": {
      "text/html": [
       "<div>\n",
       "<style scoped>\n",
       "    .dataframe tbody tr th:only-of-type {\n",
       "        vertical-align: middle;\n",
       "    }\n",
       "\n",
       "    .dataframe tbody tr th {\n",
       "        vertical-align: top;\n",
       "    }\n",
       "\n",
       "    .dataframe thead th {\n",
       "        text-align: right;\n",
       "    }\n",
       "</style>\n",
       "<table border=\"1\" class=\"dataframe\">\n",
       "  <thead>\n",
       "    <tr style=\"text-align: right;\">\n",
       "      <th></th>\n",
       "      <th>total_images\\tlast_price\\ttotal_area\\tfirst_day_exposition\\trooms\\tceiling_height\\tfloors_total\\tliving_area\\tfloor\\tis_apartment\\tstudio\\topen_plan\\tkitchen_area\\tbalcony\\tlocality_name\\tairports_nearest\\tcityCenters_nearest\\tparks_around3000\\tparks_nearest\\tponds_around3000\\tponds_nearest\\tdays_exposition</th>\n",
       "    </tr>\n",
       "  </thead>\n",
       "  <tbody>\n",
       "    <tr>\n",
       "      <th>0</th>\n",
       "      <td>20\\t13000000.0\\t108.0\\t2019-03-07T00:00:00\\t3\\...</td>\n",
       "    </tr>\n",
       "    <tr>\n",
       "      <th>1</th>\n",
       "      <td>7\\t3350000.0\\t40.4\\t2018-12-04T00:00:00\\t1\\t\\t...</td>\n",
       "    </tr>\n",
       "    <tr>\n",
       "      <th>2</th>\n",
       "      <td>10\\t5196000.0\\t56.0\\t2015-08-20T00:00:00\\t2\\t\\...</td>\n",
       "    </tr>\n",
       "    <tr>\n",
       "      <th>3</th>\n",
       "      <td>0\\t64900000.0\\t159.0\\t2015-07-24T00:00:00\\t3\\t...</td>\n",
       "    </tr>\n",
       "    <tr>\n",
       "      <th>4</th>\n",
       "      <td>2\\t10000000.0\\t100.0\\t2018-06-19T00:00:00\\t2\\t...</td>\n",
       "    </tr>\n",
       "  </tbody>\n",
       "</table>\n",
       "</div>"
      ],
      "text/plain": [
       "  total_images\\tlast_price\\ttotal_area\\tfirst_day_exposition\\trooms\\tceiling_height\\tfloors_total\\tliving_area\\tfloor\\tis_apartment\\tstudio\\topen_plan\\tkitchen_area\\tbalcony\\tlocality_name\\tairports_nearest\\tcityCenters_nearest\\tparks_around3000\\tparks_nearest\\tponds_around3000\\tponds_nearest\\tdays_exposition\n",
       "0  20\\t13000000.0\\t108.0\\t2019-03-07T00:00:00\\t3\\...                                                                                                                                                                                                                                                                  \n",
       "1  7\\t3350000.0\\t40.4\\t2018-12-04T00:00:00\\t1\\t\\t...                                                                                                                                                                                                                                                                  \n",
       "2  10\\t5196000.0\\t56.0\\t2015-08-20T00:00:00\\t2\\t\\...                                                                                                                                                                                                                                                                  \n",
       "3  0\\t64900000.0\\t159.0\\t2015-07-24T00:00:00\\t3\\t...                                                                                                                                                                                                                                                                  \n",
       "4  2\\t10000000.0\\t100.0\\t2018-06-19T00:00:00\\t2\\t...                                                                                                                                                                                                                                                                  "
      ]
     },
     "execution_count": 1,
     "metadata": {},
     "output_type": "execute_result"
    }
   ],
   "source": [
    "import pandas as pd\n",
    "import matplotlib.pyplot as plt\n",
    "import seaborn as sns\n",
    "\n",
    "data = pd.read_csv('/datasets/real_estate_data.csv')\n",
    "data.head()"
   ]
  },
  {
   "cell_type": "markdown",
   "metadata": {},
   "source": [
    "### Вывод\n",
    "\n"
   ]
  },
  {
   "cell_type": "markdown",
   "metadata": {},
   "source": [
    "<div class=\"alert alert-info\"> \n",
    "Данные склеились, необходимо разделить. \n",
    "    \n",
    "Изменим формат данных столбца 'first_day_exposition'.\n",
    "    \n",
    "Поменяем пропуски на 'False' в столбце 'is_apartment'.\n",
    "    \n",
    "Поменяем пропуски на 0 в столбцах 'balcony', 'days_exposition' и изменим тип данных на 'int', если потребуется.\n",
    "    \n",
    "Заменим пропуски в 'ceiling_height' на медиану.\n",
    "    \n",
    "Заменим пропуски в 'living_area': узнаем долю жилой площади от общей в имеющихся данных и рассчитаем жилую площадь там, где её нет \n",
    "    "
   ]
  },
  {
   "cell_type": "markdown",
   "metadata": {},
   "source": [
    "## Предобработка данных"
   ]
  },
  {
   "cell_type": "markdown",
   "metadata": {},
   "source": [
    "Определите и изучите пропущенные значения:\n",
    "Для некоторых пропущенных значений можно предположить логичную замену. Например, если человек не указал число балконов — скорее всего, их нет. Такие пропуски правильно заменить на 0. Для других типов данных нет подходящего значения на замену. В этом случае правильно оставить эти значения пустыми. Отсутствие значения — тоже важный сигнал, который не нужно прятать.\n",
    "Заполните пропуски, где это уместно. Опишите, почему вы решили заполнить пропуски именно в этих столбцах и как выбрали значения.\n",
    "Укажите причины, которые могли привести к пропускам в данных.\n",
    "Приведите данные к нужным типам:\n",
    "Поясните, в каких столбцах нужно изменить тип данных и почему."
   ]
  },
  {
   "cell_type": "code",
   "execution_count": 2,
   "metadata": {
    "scrolled": false
   },
   "outputs": [
    {
     "data": {
      "text/html": [
       "<div>\n",
       "<style scoped>\n",
       "    .dataframe tbody tr th:only-of-type {\n",
       "        vertical-align: middle;\n",
       "    }\n",
       "\n",
       "    .dataframe tbody tr th {\n",
       "        vertical-align: top;\n",
       "    }\n",
       "\n",
       "    .dataframe thead th {\n",
       "        text-align: right;\n",
       "    }\n",
       "</style>\n",
       "<table border=\"1\" class=\"dataframe\">\n",
       "  <thead>\n",
       "    <tr style=\"text-align: right;\">\n",
       "      <th></th>\n",
       "      <th>total_images</th>\n",
       "      <th>last_price</th>\n",
       "      <th>total_area</th>\n",
       "      <th>first_day_exposition</th>\n",
       "      <th>rooms</th>\n",
       "      <th>ceiling_height</th>\n",
       "      <th>floors_total</th>\n",
       "      <th>living_area</th>\n",
       "      <th>floor</th>\n",
       "      <th>is_apartment</th>\n",
       "      <th>...</th>\n",
       "      <th>kitchen_area</th>\n",
       "      <th>balcony</th>\n",
       "      <th>locality_name</th>\n",
       "      <th>airports_nearest</th>\n",
       "      <th>cityCenters_nearest</th>\n",
       "      <th>parks_around3000</th>\n",
       "      <th>parks_nearest</th>\n",
       "      <th>ponds_around3000</th>\n",
       "      <th>ponds_nearest</th>\n",
       "      <th>days_exposition</th>\n",
       "    </tr>\n",
       "  </thead>\n",
       "  <tbody>\n",
       "    <tr>\n",
       "      <th>0</th>\n",
       "      <td>20</td>\n",
       "      <td>13000000.0</td>\n",
       "      <td>108.0</td>\n",
       "      <td>2019-03-07T00:00:00</td>\n",
       "      <td>3</td>\n",
       "      <td>2.70</td>\n",
       "      <td>16.0</td>\n",
       "      <td>51.0</td>\n",
       "      <td>8</td>\n",
       "      <td>NaN</td>\n",
       "      <td>...</td>\n",
       "      <td>25.0</td>\n",
       "      <td>NaN</td>\n",
       "      <td>Санкт-Петербург</td>\n",
       "      <td>18863.0</td>\n",
       "      <td>16028.0</td>\n",
       "      <td>1.0</td>\n",
       "      <td>482.0</td>\n",
       "      <td>2.0</td>\n",
       "      <td>755.0</td>\n",
       "      <td>NaN</td>\n",
       "    </tr>\n",
       "    <tr>\n",
       "      <th>1</th>\n",
       "      <td>7</td>\n",
       "      <td>3350000.0</td>\n",
       "      <td>40.4</td>\n",
       "      <td>2018-12-04T00:00:00</td>\n",
       "      <td>1</td>\n",
       "      <td>NaN</td>\n",
       "      <td>11.0</td>\n",
       "      <td>18.6</td>\n",
       "      <td>1</td>\n",
       "      <td>NaN</td>\n",
       "      <td>...</td>\n",
       "      <td>11.0</td>\n",
       "      <td>2.0</td>\n",
       "      <td>посёлок Шушары</td>\n",
       "      <td>12817.0</td>\n",
       "      <td>18603.0</td>\n",
       "      <td>0.0</td>\n",
       "      <td>NaN</td>\n",
       "      <td>0.0</td>\n",
       "      <td>NaN</td>\n",
       "      <td>81.0</td>\n",
       "    </tr>\n",
       "    <tr>\n",
       "      <th>2</th>\n",
       "      <td>10</td>\n",
       "      <td>5196000.0</td>\n",
       "      <td>56.0</td>\n",
       "      <td>2015-08-20T00:00:00</td>\n",
       "      <td>2</td>\n",
       "      <td>NaN</td>\n",
       "      <td>5.0</td>\n",
       "      <td>34.3</td>\n",
       "      <td>4</td>\n",
       "      <td>NaN</td>\n",
       "      <td>...</td>\n",
       "      <td>8.3</td>\n",
       "      <td>0.0</td>\n",
       "      <td>Санкт-Петербург</td>\n",
       "      <td>21741.0</td>\n",
       "      <td>13933.0</td>\n",
       "      <td>1.0</td>\n",
       "      <td>90.0</td>\n",
       "      <td>2.0</td>\n",
       "      <td>574.0</td>\n",
       "      <td>558.0</td>\n",
       "    </tr>\n",
       "    <tr>\n",
       "      <th>3</th>\n",
       "      <td>0</td>\n",
       "      <td>64900000.0</td>\n",
       "      <td>159.0</td>\n",
       "      <td>2015-07-24T00:00:00</td>\n",
       "      <td>3</td>\n",
       "      <td>NaN</td>\n",
       "      <td>14.0</td>\n",
       "      <td>NaN</td>\n",
       "      <td>9</td>\n",
       "      <td>NaN</td>\n",
       "      <td>...</td>\n",
       "      <td>NaN</td>\n",
       "      <td>0.0</td>\n",
       "      <td>Санкт-Петербург</td>\n",
       "      <td>28098.0</td>\n",
       "      <td>6800.0</td>\n",
       "      <td>2.0</td>\n",
       "      <td>84.0</td>\n",
       "      <td>3.0</td>\n",
       "      <td>234.0</td>\n",
       "      <td>424.0</td>\n",
       "    </tr>\n",
       "    <tr>\n",
       "      <th>4</th>\n",
       "      <td>2</td>\n",
       "      <td>10000000.0</td>\n",
       "      <td>100.0</td>\n",
       "      <td>2018-06-19T00:00:00</td>\n",
       "      <td>2</td>\n",
       "      <td>3.03</td>\n",
       "      <td>14.0</td>\n",
       "      <td>32.0</td>\n",
       "      <td>13</td>\n",
       "      <td>NaN</td>\n",
       "      <td>...</td>\n",
       "      <td>41.0</td>\n",
       "      <td>NaN</td>\n",
       "      <td>Санкт-Петербург</td>\n",
       "      <td>31856.0</td>\n",
       "      <td>8098.0</td>\n",
       "      <td>2.0</td>\n",
       "      <td>112.0</td>\n",
       "      <td>1.0</td>\n",
       "      <td>48.0</td>\n",
       "      <td>121.0</td>\n",
       "    </tr>\n",
       "  </tbody>\n",
       "</table>\n",
       "<p>5 rows × 22 columns</p>\n",
       "</div>"
      ],
      "text/plain": [
       "   total_images  last_price  total_area first_day_exposition  rooms  \\\n",
       "0            20  13000000.0       108.0  2019-03-07T00:00:00      3   \n",
       "1             7   3350000.0        40.4  2018-12-04T00:00:00      1   \n",
       "2            10   5196000.0        56.0  2015-08-20T00:00:00      2   \n",
       "3             0  64900000.0       159.0  2015-07-24T00:00:00      3   \n",
       "4             2  10000000.0       100.0  2018-06-19T00:00:00      2   \n",
       "\n",
       "   ceiling_height  floors_total  living_area  floor is_apartment  ...  \\\n",
       "0            2.70          16.0         51.0      8          NaN  ...   \n",
       "1             NaN          11.0         18.6      1          NaN  ...   \n",
       "2             NaN           5.0         34.3      4          NaN  ...   \n",
       "3             NaN          14.0          NaN      9          NaN  ...   \n",
       "4            3.03          14.0         32.0     13          NaN  ...   \n",
       "\n",
       "   kitchen_area  balcony    locality_name  airports_nearest  \\\n",
       "0          25.0      NaN  Санкт-Петербург           18863.0   \n",
       "1          11.0      2.0   посёлок Шушары           12817.0   \n",
       "2           8.3      0.0  Санкт-Петербург           21741.0   \n",
       "3           NaN      0.0  Санкт-Петербург           28098.0   \n",
       "4          41.0      NaN  Санкт-Петербург           31856.0   \n",
       "\n",
       "  cityCenters_nearest  parks_around3000  parks_nearest  ponds_around3000  \\\n",
       "0             16028.0               1.0          482.0               2.0   \n",
       "1             18603.0               0.0            NaN               0.0   \n",
       "2             13933.0               1.0           90.0               2.0   \n",
       "3              6800.0               2.0           84.0               3.0   \n",
       "4              8098.0               2.0          112.0               1.0   \n",
       "\n",
       "   ponds_nearest  days_exposition  \n",
       "0          755.0              NaN  \n",
       "1            NaN             81.0  \n",
       "2          574.0            558.0  \n",
       "3          234.0            424.0  \n",
       "4           48.0            121.0  \n",
       "\n",
       "[5 rows x 22 columns]"
      ]
     },
     "execution_count": 2,
     "metadata": {},
     "output_type": "execute_result"
    }
   ],
   "source": [
    "data = pd.read_csv('/datasets/real_estate_data.csv', sep='\\t')\n",
    "data.head()"
   ]
  },
  {
   "cell_type": "code",
   "execution_count": 3,
   "metadata": {},
   "outputs": [
    {
     "name": "stdout",
     "output_type": "stream",
     "text": [
      "<class 'pandas.core.frame.DataFrame'>\n",
      "RangeIndex: 23699 entries, 0 to 23698\n",
      "Data columns (total 22 columns):\n",
      " #   Column                Non-Null Count  Dtype  \n",
      "---  ------                --------------  -----  \n",
      " 0   total_images          23699 non-null  int64  \n",
      " 1   last_price            23699 non-null  float64\n",
      " 2   total_area            23699 non-null  float64\n",
      " 3   first_day_exposition  23699 non-null  object \n",
      " 4   rooms                 23699 non-null  int64  \n",
      " 5   ceiling_height        14504 non-null  float64\n",
      " 6   floors_total          23613 non-null  float64\n",
      " 7   living_area           21796 non-null  float64\n",
      " 8   floor                 23699 non-null  int64  \n",
      " 9   is_apartment          2775 non-null   object \n",
      " 10  studio                23699 non-null  bool   \n",
      " 11  open_plan             23699 non-null  bool   \n",
      " 12  kitchen_area          21421 non-null  float64\n",
      " 13  balcony               12180 non-null  float64\n",
      " 14  locality_name         23650 non-null  object \n",
      " 15  airports_nearest      18157 non-null  float64\n",
      " 16  cityCenters_nearest   18180 non-null  float64\n",
      " 17  parks_around3000      18181 non-null  float64\n",
      " 18  parks_nearest         8079 non-null   float64\n",
      " 19  ponds_around3000      18181 non-null  float64\n",
      " 20  ponds_nearest         9110 non-null   float64\n",
      " 21  days_exposition       20518 non-null  float64\n",
      "dtypes: bool(2), float64(14), int64(3), object(3)\n",
      "memory usage: 3.7+ MB\n"
     ]
    }
   ],
   "source": [
    "data.info()"
   ]
  },
  {
   "cell_type": "code",
   "execution_count": 4,
   "metadata": {},
   "outputs": [
    {
     "data": {
      "text/plain": [
       "total_images                0\n",
       "last_price                  0\n",
       "total_area                  0\n",
       "first_day_exposition        0\n",
       "rooms                       0\n",
       "ceiling_height           9195\n",
       "floors_total               86\n",
       "living_area              1903\n",
       "floor                       0\n",
       "is_apartment            20924\n",
       "studio                      0\n",
       "open_plan                   0\n",
       "kitchen_area             2278\n",
       "balcony                 11519\n",
       "locality_name              49\n",
       "airports_nearest         5542\n",
       "cityCenters_nearest      5519\n",
       "parks_around3000         5518\n",
       "parks_nearest           15620\n",
       "ponds_around3000         5518\n",
       "ponds_nearest           14589\n",
       "days_exposition          3181\n",
       "dtype: int64"
      ]
     },
     "execution_count": 4,
     "metadata": {},
     "output_type": "execute_result"
    }
   ],
   "source": [
    "data.isna().sum()"
   ]
  },
  {
   "cell_type": "code",
   "execution_count": 5,
   "metadata": {
    "scrolled": true
   },
   "outputs": [
    {
     "data": {
      "text/html": [
       "<div>\n",
       "<style scoped>\n",
       "    .dataframe tbody tr th:only-of-type {\n",
       "        vertical-align: middle;\n",
       "    }\n",
       "\n",
       "    .dataframe tbody tr th {\n",
       "        vertical-align: top;\n",
       "    }\n",
       "\n",
       "    .dataframe thead th {\n",
       "        text-align: right;\n",
       "    }\n",
       "</style>\n",
       "<table border=\"1\" class=\"dataframe\">\n",
       "  <thead>\n",
       "    <tr style=\"text-align: right;\">\n",
       "      <th></th>\n",
       "      <th>total_images</th>\n",
       "      <th>last_price</th>\n",
       "      <th>total_area</th>\n",
       "      <th>first_day_exposition</th>\n",
       "      <th>rooms</th>\n",
       "      <th>ceiling_height</th>\n",
       "      <th>floors_total</th>\n",
       "      <th>living_area</th>\n",
       "      <th>floor</th>\n",
       "      <th>is_apartment</th>\n",
       "      <th>...</th>\n",
       "      <th>kitchen_area</th>\n",
       "      <th>balcony</th>\n",
       "      <th>locality_name</th>\n",
       "      <th>airports_nearest</th>\n",
       "      <th>cityCenters_nearest</th>\n",
       "      <th>parks_around3000</th>\n",
       "      <th>parks_nearest</th>\n",
       "      <th>ponds_around3000</th>\n",
       "      <th>ponds_nearest</th>\n",
       "      <th>days_exposition</th>\n",
       "    </tr>\n",
       "  </thead>\n",
       "  <tbody>\n",
       "    <tr>\n",
       "      <th>0</th>\n",
       "      <td>20</td>\n",
       "      <td>13000000.0</td>\n",
       "      <td>108.0</td>\n",
       "      <td>2019-03-07</td>\n",
       "      <td>3</td>\n",
       "      <td>2.70</td>\n",
       "      <td>16.0</td>\n",
       "      <td>51.0</td>\n",
       "      <td>8</td>\n",
       "      <td>NaN</td>\n",
       "      <td>...</td>\n",
       "      <td>25.0</td>\n",
       "      <td>NaN</td>\n",
       "      <td>Санкт-Петербург</td>\n",
       "      <td>18863.0</td>\n",
       "      <td>16028.0</td>\n",
       "      <td>1.0</td>\n",
       "      <td>482.0</td>\n",
       "      <td>2.0</td>\n",
       "      <td>755.0</td>\n",
       "      <td>NaN</td>\n",
       "    </tr>\n",
       "    <tr>\n",
       "      <th>1</th>\n",
       "      <td>7</td>\n",
       "      <td>3350000.0</td>\n",
       "      <td>40.4</td>\n",
       "      <td>2018-12-04</td>\n",
       "      <td>1</td>\n",
       "      <td>NaN</td>\n",
       "      <td>11.0</td>\n",
       "      <td>18.6</td>\n",
       "      <td>1</td>\n",
       "      <td>NaN</td>\n",
       "      <td>...</td>\n",
       "      <td>11.0</td>\n",
       "      <td>2.0</td>\n",
       "      <td>посёлок Шушары</td>\n",
       "      <td>12817.0</td>\n",
       "      <td>18603.0</td>\n",
       "      <td>0.0</td>\n",
       "      <td>NaN</td>\n",
       "      <td>0.0</td>\n",
       "      <td>NaN</td>\n",
       "      <td>81.0</td>\n",
       "    </tr>\n",
       "    <tr>\n",
       "      <th>2</th>\n",
       "      <td>10</td>\n",
       "      <td>5196000.0</td>\n",
       "      <td>56.0</td>\n",
       "      <td>2015-08-20</td>\n",
       "      <td>2</td>\n",
       "      <td>NaN</td>\n",
       "      <td>5.0</td>\n",
       "      <td>34.3</td>\n",
       "      <td>4</td>\n",
       "      <td>NaN</td>\n",
       "      <td>...</td>\n",
       "      <td>8.3</td>\n",
       "      <td>0.0</td>\n",
       "      <td>Санкт-Петербург</td>\n",
       "      <td>21741.0</td>\n",
       "      <td>13933.0</td>\n",
       "      <td>1.0</td>\n",
       "      <td>90.0</td>\n",
       "      <td>2.0</td>\n",
       "      <td>574.0</td>\n",
       "      <td>558.0</td>\n",
       "    </tr>\n",
       "    <tr>\n",
       "      <th>3</th>\n",
       "      <td>0</td>\n",
       "      <td>64900000.0</td>\n",
       "      <td>159.0</td>\n",
       "      <td>2015-07-24</td>\n",
       "      <td>3</td>\n",
       "      <td>NaN</td>\n",
       "      <td>14.0</td>\n",
       "      <td>NaN</td>\n",
       "      <td>9</td>\n",
       "      <td>NaN</td>\n",
       "      <td>...</td>\n",
       "      <td>NaN</td>\n",
       "      <td>0.0</td>\n",
       "      <td>Санкт-Петербург</td>\n",
       "      <td>28098.0</td>\n",
       "      <td>6800.0</td>\n",
       "      <td>2.0</td>\n",
       "      <td>84.0</td>\n",
       "      <td>3.0</td>\n",
       "      <td>234.0</td>\n",
       "      <td>424.0</td>\n",
       "    </tr>\n",
       "    <tr>\n",
       "      <th>4</th>\n",
       "      <td>2</td>\n",
       "      <td>10000000.0</td>\n",
       "      <td>100.0</td>\n",
       "      <td>2018-06-19</td>\n",
       "      <td>2</td>\n",
       "      <td>3.03</td>\n",
       "      <td>14.0</td>\n",
       "      <td>32.0</td>\n",
       "      <td>13</td>\n",
       "      <td>NaN</td>\n",
       "      <td>...</td>\n",
       "      <td>41.0</td>\n",
       "      <td>NaN</td>\n",
       "      <td>Санкт-Петербург</td>\n",
       "      <td>31856.0</td>\n",
       "      <td>8098.0</td>\n",
       "      <td>2.0</td>\n",
       "      <td>112.0</td>\n",
       "      <td>1.0</td>\n",
       "      <td>48.0</td>\n",
       "      <td>121.0</td>\n",
       "    </tr>\n",
       "  </tbody>\n",
       "</table>\n",
       "<p>5 rows × 22 columns</p>\n",
       "</div>"
      ],
      "text/plain": [
       "   total_images  last_price  total_area first_day_exposition  rooms  \\\n",
       "0            20  13000000.0       108.0           2019-03-07      3   \n",
       "1             7   3350000.0        40.4           2018-12-04      1   \n",
       "2            10   5196000.0        56.0           2015-08-20      2   \n",
       "3             0  64900000.0       159.0           2015-07-24      3   \n",
       "4             2  10000000.0       100.0           2018-06-19      2   \n",
       "\n",
       "   ceiling_height  floors_total  living_area  floor is_apartment  ...  \\\n",
       "0            2.70          16.0         51.0      8          NaN  ...   \n",
       "1             NaN          11.0         18.6      1          NaN  ...   \n",
       "2             NaN           5.0         34.3      4          NaN  ...   \n",
       "3             NaN          14.0          NaN      9          NaN  ...   \n",
       "4            3.03          14.0         32.0     13          NaN  ...   \n",
       "\n",
       "   kitchen_area  balcony    locality_name  airports_nearest  \\\n",
       "0          25.0      NaN  Санкт-Петербург           18863.0   \n",
       "1          11.0      2.0   посёлок Шушары           12817.0   \n",
       "2           8.3      0.0  Санкт-Петербург           21741.0   \n",
       "3           NaN      0.0  Санкт-Петербург           28098.0   \n",
       "4          41.0      NaN  Санкт-Петербург           31856.0   \n",
       "\n",
       "  cityCenters_nearest  parks_around3000  parks_nearest  ponds_around3000  \\\n",
       "0             16028.0               1.0          482.0               2.0   \n",
       "1             18603.0               0.0            NaN               0.0   \n",
       "2             13933.0               1.0           90.0               2.0   \n",
       "3              6800.0               2.0           84.0               3.0   \n",
       "4              8098.0               2.0          112.0               1.0   \n",
       "\n",
       "   ponds_nearest  days_exposition  \n",
       "0          755.0              NaN  \n",
       "1            NaN             81.0  \n",
       "2          574.0            558.0  \n",
       "3          234.0            424.0  \n",
       "4           48.0            121.0  \n",
       "\n",
       "[5 rows x 22 columns]"
      ]
     },
     "execution_count": 5,
     "metadata": {},
     "output_type": "execute_result"
    }
   ],
   "source": [
    "#Уберем ненужные нули из столбца 'first_day_exposition'\n",
    "data['first_day_exposition'] = pd.to_datetime(data['first_day_exposition'], format='%Y-%m-%d')\n",
    "data.head()"
   ]
  },
  {
   "cell_type": "code",
   "execution_count": 6,
   "metadata": {},
   "outputs": [
    {
     "data": {
      "text/html": [
       "<div>\n",
       "<style scoped>\n",
       "    .dataframe tbody tr th:only-of-type {\n",
       "        vertical-align: middle;\n",
       "    }\n",
       "\n",
       "    .dataframe tbody tr th {\n",
       "        vertical-align: top;\n",
       "    }\n",
       "\n",
       "    .dataframe thead th {\n",
       "        text-align: right;\n",
       "    }\n",
       "</style>\n",
       "<table border=\"1\" class=\"dataframe\">\n",
       "  <thead>\n",
       "    <tr style=\"text-align: right;\">\n",
       "      <th></th>\n",
       "      <th>total_images</th>\n",
       "      <th>last_price_mln</th>\n",
       "      <th>total_area</th>\n",
       "      <th>first_day_exposition</th>\n",
       "      <th>rooms</th>\n",
       "      <th>ceiling_height</th>\n",
       "      <th>floors_total</th>\n",
       "      <th>living_area</th>\n",
       "      <th>floor</th>\n",
       "      <th>is_apartment</th>\n",
       "      <th>...</th>\n",
       "      <th>kitchen_area</th>\n",
       "      <th>balcony</th>\n",
       "      <th>locality_name</th>\n",
       "      <th>airports_nearest</th>\n",
       "      <th>cityCenters_nearest</th>\n",
       "      <th>parks_around3000</th>\n",
       "      <th>parks_nearest</th>\n",
       "      <th>ponds_around3000</th>\n",
       "      <th>ponds_nearest</th>\n",
       "      <th>days_exposition</th>\n",
       "    </tr>\n",
       "  </thead>\n",
       "  <tbody>\n",
       "    <tr>\n",
       "      <th>0</th>\n",
       "      <td>20</td>\n",
       "      <td>13.000</td>\n",
       "      <td>108.0</td>\n",
       "      <td>2019-03-07</td>\n",
       "      <td>3</td>\n",
       "      <td>2.70</td>\n",
       "      <td>16.0</td>\n",
       "      <td>51.0</td>\n",
       "      <td>8</td>\n",
       "      <td>NaN</td>\n",
       "      <td>...</td>\n",
       "      <td>25.0</td>\n",
       "      <td>NaN</td>\n",
       "      <td>Санкт-Петербург</td>\n",
       "      <td>18863.0</td>\n",
       "      <td>16028.0</td>\n",
       "      <td>1.0</td>\n",
       "      <td>482.0</td>\n",
       "      <td>2.0</td>\n",
       "      <td>755.0</td>\n",
       "      <td>NaN</td>\n",
       "    </tr>\n",
       "    <tr>\n",
       "      <th>1</th>\n",
       "      <td>7</td>\n",
       "      <td>3.350</td>\n",
       "      <td>40.4</td>\n",
       "      <td>2018-12-04</td>\n",
       "      <td>1</td>\n",
       "      <td>NaN</td>\n",
       "      <td>11.0</td>\n",
       "      <td>18.6</td>\n",
       "      <td>1</td>\n",
       "      <td>NaN</td>\n",
       "      <td>...</td>\n",
       "      <td>11.0</td>\n",
       "      <td>2.0</td>\n",
       "      <td>посёлок Шушары</td>\n",
       "      <td>12817.0</td>\n",
       "      <td>18603.0</td>\n",
       "      <td>0.0</td>\n",
       "      <td>NaN</td>\n",
       "      <td>0.0</td>\n",
       "      <td>NaN</td>\n",
       "      <td>81.0</td>\n",
       "    </tr>\n",
       "    <tr>\n",
       "      <th>2</th>\n",
       "      <td>10</td>\n",
       "      <td>5.196</td>\n",
       "      <td>56.0</td>\n",
       "      <td>2015-08-20</td>\n",
       "      <td>2</td>\n",
       "      <td>NaN</td>\n",
       "      <td>5.0</td>\n",
       "      <td>34.3</td>\n",
       "      <td>4</td>\n",
       "      <td>NaN</td>\n",
       "      <td>...</td>\n",
       "      <td>8.3</td>\n",
       "      <td>0.0</td>\n",
       "      <td>Санкт-Петербург</td>\n",
       "      <td>21741.0</td>\n",
       "      <td>13933.0</td>\n",
       "      <td>1.0</td>\n",
       "      <td>90.0</td>\n",
       "      <td>2.0</td>\n",
       "      <td>574.0</td>\n",
       "      <td>558.0</td>\n",
       "    </tr>\n",
       "    <tr>\n",
       "      <th>3</th>\n",
       "      <td>0</td>\n",
       "      <td>64.900</td>\n",
       "      <td>159.0</td>\n",
       "      <td>2015-07-24</td>\n",
       "      <td>3</td>\n",
       "      <td>NaN</td>\n",
       "      <td>14.0</td>\n",
       "      <td>NaN</td>\n",
       "      <td>9</td>\n",
       "      <td>NaN</td>\n",
       "      <td>...</td>\n",
       "      <td>NaN</td>\n",
       "      <td>0.0</td>\n",
       "      <td>Санкт-Петербург</td>\n",
       "      <td>28098.0</td>\n",
       "      <td>6800.0</td>\n",
       "      <td>2.0</td>\n",
       "      <td>84.0</td>\n",
       "      <td>3.0</td>\n",
       "      <td>234.0</td>\n",
       "      <td>424.0</td>\n",
       "    </tr>\n",
       "    <tr>\n",
       "      <th>4</th>\n",
       "      <td>2</td>\n",
       "      <td>10.000</td>\n",
       "      <td>100.0</td>\n",
       "      <td>2018-06-19</td>\n",
       "      <td>2</td>\n",
       "      <td>3.03</td>\n",
       "      <td>14.0</td>\n",
       "      <td>32.0</td>\n",
       "      <td>13</td>\n",
       "      <td>NaN</td>\n",
       "      <td>...</td>\n",
       "      <td>41.0</td>\n",
       "      <td>NaN</td>\n",
       "      <td>Санкт-Петербург</td>\n",
       "      <td>31856.0</td>\n",
       "      <td>8098.0</td>\n",
       "      <td>2.0</td>\n",
       "      <td>112.0</td>\n",
       "      <td>1.0</td>\n",
       "      <td>48.0</td>\n",
       "      <td>121.0</td>\n",
       "    </tr>\n",
       "  </tbody>\n",
       "</table>\n",
       "<p>5 rows × 22 columns</p>\n",
       "</div>"
      ],
      "text/plain": [
       "   total_images  last_price_mln  total_area first_day_exposition  rooms  \\\n",
       "0            20          13.000       108.0           2019-03-07      3   \n",
       "1             7           3.350        40.4           2018-12-04      1   \n",
       "2            10           5.196        56.0           2015-08-20      2   \n",
       "3             0          64.900       159.0           2015-07-24      3   \n",
       "4             2          10.000       100.0           2018-06-19      2   \n",
       "\n",
       "   ceiling_height  floors_total  living_area  floor is_apartment  ...  \\\n",
       "0            2.70          16.0         51.0      8          NaN  ...   \n",
       "1             NaN          11.0         18.6      1          NaN  ...   \n",
       "2             NaN           5.0         34.3      4          NaN  ...   \n",
       "3             NaN          14.0          NaN      9          NaN  ...   \n",
       "4            3.03          14.0         32.0     13          NaN  ...   \n",
       "\n",
       "   kitchen_area  balcony    locality_name  airports_nearest  \\\n",
       "0          25.0      NaN  Санкт-Петербург           18863.0   \n",
       "1          11.0      2.0   посёлок Шушары           12817.0   \n",
       "2           8.3      0.0  Санкт-Петербург           21741.0   \n",
       "3           NaN      0.0  Санкт-Петербург           28098.0   \n",
       "4          41.0      NaN  Санкт-Петербург           31856.0   \n",
       "\n",
       "  cityCenters_nearest  parks_around3000  parks_nearest  ponds_around3000  \\\n",
       "0             16028.0               1.0          482.0               2.0   \n",
       "1             18603.0               0.0            NaN               0.0   \n",
       "2             13933.0               1.0           90.0               2.0   \n",
       "3              6800.0               2.0           84.0               3.0   \n",
       "4              8098.0               2.0          112.0               1.0   \n",
       "\n",
       "   ponds_nearest  days_exposition  \n",
       "0          755.0              NaN  \n",
       "1            NaN             81.0  \n",
       "2          574.0            558.0  \n",
       "3          234.0            424.0  \n",
       "4           48.0            121.0  \n",
       "\n",
       "[5 rows x 22 columns]"
      ]
     },
     "execution_count": 6,
     "metadata": {},
     "output_type": "execute_result"
    }
   ],
   "source": [
    "#для удобства отобразим данные столбца цены в миллионах, переименуем столбец:\n",
    "data['last_price'] = data['last_price']/1000000\n",
    "data.rename(columns={'last_price':'last_price_mln'}, inplace=True)\n",
    "data.head()"
   ]
  },
  {
   "cell_type": "code",
   "execution_count": 7,
   "metadata": {},
   "outputs": [
    {
     "data": {
      "text/plain": [
       "0    15277\n",
       "1     4195\n",
       "2     3659\n",
       "5      304\n",
       "4      183\n",
       "3       81\n",
       "Name: balcony, dtype: int64"
      ]
     },
     "execution_count": 7,
     "metadata": {},
     "output_type": "execute_result"
    }
   ],
   "source": [
    "#Заполним пропуски нулями в столбце \"балкон\". Скорее всего, здесь пропуски свидетельствуют об отсутствии балкона\n",
    "data['balcony'] = data['balcony'].fillna(0).astype('int')\n",
    "data['balcony'].value_counts()"
   ]
  },
  {
   "cell_type": "code",
   "execution_count": 8,
   "metadata": {},
   "outputs": [
    {
     "data": {
      "text/plain": [
       "3181"
      ]
     },
     "execution_count": 8,
     "metadata": {},
     "output_type": "execute_result"
    }
   ],
   "source": [
    "data['days_exposition'].isna().sum()"
   ]
  },
  {
   "cell_type": "code",
   "execution_count": 9,
   "metadata": {},
   "outputs": [],
   "source": [
    "#no_exposition = data.query('days_exposition.isna()')\n",
    "#no_exposition['first_day_exposition'].hist(bins=100)"
   ]
  },
  {
   "cell_type": "code",
   "execution_count": 10,
   "metadata": {},
   "outputs": [],
   "source": [
    "#no_exposition['first_day_exposition'].value_counts()"
   ]
  },
  {
   "cell_type": "code",
   "execution_count": 11,
   "metadata": {},
   "outputs": [
    {
     "data": {
      "text/plain": [
       "False    23649\n",
       "True        50\n",
       "Name: is_apartment, dtype: int64"
      ]
     },
     "execution_count": 11,
     "metadata": {},
     "output_type": "execute_result"
    }
   ],
   "source": [
    "# Здесь речь идет о том, является ли объект апартаментами или нет (True or False). \n",
    "# Вероятнее всего, если графу не заполнили, значит это False\n",
    "data['is_apartment'] = data['is_apartment'].fillna(False)\n",
    "data['is_apartment'].value_counts()"
   ]
  },
  {
   "cell_type": "code",
   "execution_count": 12,
   "metadata": {},
   "outputs": [
    {
     "data": {
      "text/plain": [
       "count    14504.000000\n",
       "mean         2.771499\n",
       "std          1.261056\n",
       "min          1.000000\n",
       "25%          2.520000\n",
       "50%          2.650000\n",
       "75%          2.800000\n",
       "max        100.000000\n",
       "Name: ceiling_height, dtype: float64"
      ]
     },
     "execution_count": 12,
     "metadata": {},
     "output_type": "execute_result"
    }
   ],
   "source": [
    "# Здесь заменим пропуски медианным значением\n",
    "data['ceiling_height'].describe()"
   ]
  },
  {
   "cell_type": "code",
   "execution_count": 13,
   "metadata": {},
   "outputs": [
    {
     "data": {
      "text/plain": [
       "0"
      ]
     },
     "execution_count": 13,
     "metadata": {},
     "output_type": "execute_result"
    }
   ],
   "source": [
    "data['ceiling_height'] = data['ceiling_height'].fillna(data['ceiling_height'].median())\n",
    "data['ceiling_height'].isna().sum()"
   ]
  },
  {
   "cell_type": "code",
   "execution_count": 14,
   "metadata": {},
   "outputs": [
    {
     "data": {
      "text/plain": [
       "count    21796.000000\n",
       "mean        34.457852\n",
       "std         22.030445\n",
       "min          2.000000\n",
       "25%         18.600000\n",
       "50%         30.000000\n",
       "75%         42.300000\n",
       "max        409.700000\n",
       "Name: living_area, dtype: float64"
      ]
     },
     "execution_count": 14,
     "metadata": {},
     "output_type": "execute_result"
    }
   ],
   "source": [
    "data['living_area'].describe()"
   ]
  },
  {
   "cell_type": "code",
   "execution_count": 15,
   "metadata": {},
   "outputs": [],
   "source": [
    "# изменил код с учетом замечаний\n",
    "k_area = data[data['living_area'].isnull() == False]['living_area'].mean() / data[data['living_area'].isnull()== False]['total_area'].mean()\n",
    "data['living_area'] = data['living_area'].fillna(data['total_area']*k_area)"
   ]
  },
  {
   "cell_type": "code",
   "execution_count": 16,
   "metadata": {},
   "outputs": [
    {
     "data": {
      "text/html": [
       "<div>\n",
       "<style scoped>\n",
       "    .dataframe tbody tr th:only-of-type {\n",
       "        vertical-align: middle;\n",
       "    }\n",
       "\n",
       "    .dataframe tbody tr th {\n",
       "        vertical-align: top;\n",
       "    }\n",
       "\n",
       "    .dataframe thead th {\n",
       "        text-align: right;\n",
       "    }\n",
       "</style>\n",
       "<table border=\"1\" class=\"dataframe\">\n",
       "  <thead>\n",
       "    <tr style=\"text-align: right;\">\n",
       "      <th></th>\n",
       "      <th>total_images</th>\n",
       "      <th>last_price_mln</th>\n",
       "      <th>total_area</th>\n",
       "      <th>first_day_exposition</th>\n",
       "      <th>rooms</th>\n",
       "      <th>ceiling_height</th>\n",
       "      <th>floors_total</th>\n",
       "      <th>living_area</th>\n",
       "      <th>floor</th>\n",
       "      <th>is_apartment</th>\n",
       "      <th>...</th>\n",
       "      <th>balcony</th>\n",
       "      <th>locality_name</th>\n",
       "      <th>airports_nearest</th>\n",
       "      <th>cityCenters_nearest</th>\n",
       "      <th>parks_around3000</th>\n",
       "      <th>parks_nearest</th>\n",
       "      <th>ponds_around3000</th>\n",
       "      <th>ponds_nearest</th>\n",
       "      <th>days_exposition</th>\n",
       "      <th>living_area_ratio</th>\n",
       "    </tr>\n",
       "  </thead>\n",
       "  <tbody>\n",
       "    <tr>\n",
       "      <th>0</th>\n",
       "      <td>20</td>\n",
       "      <td>13.000</td>\n",
       "      <td>108.0</td>\n",
       "      <td>2019-03-07</td>\n",
       "      <td>3</td>\n",
       "      <td>2.70</td>\n",
       "      <td>16.0</td>\n",
       "      <td>51.000000</td>\n",
       "      <td>8</td>\n",
       "      <td>False</td>\n",
       "      <td>...</td>\n",
       "      <td>0</td>\n",
       "      <td>Санкт-Петербург</td>\n",
       "      <td>18863.0</td>\n",
       "      <td>16028.0</td>\n",
       "      <td>1.0</td>\n",
       "      <td>482.0</td>\n",
       "      <td>2.0</td>\n",
       "      <td>755.0</td>\n",
       "      <td>NaN</td>\n",
       "      <td>0.472222</td>\n",
       "    </tr>\n",
       "    <tr>\n",
       "      <th>1</th>\n",
       "      <td>7</td>\n",
       "      <td>3.350</td>\n",
       "      <td>40.4</td>\n",
       "      <td>2018-12-04</td>\n",
       "      <td>1</td>\n",
       "      <td>2.65</td>\n",
       "      <td>11.0</td>\n",
       "      <td>18.600000</td>\n",
       "      <td>1</td>\n",
       "      <td>False</td>\n",
       "      <td>...</td>\n",
       "      <td>2</td>\n",
       "      <td>посёлок Шушары</td>\n",
       "      <td>12817.0</td>\n",
       "      <td>18603.0</td>\n",
       "      <td>0.0</td>\n",
       "      <td>NaN</td>\n",
       "      <td>0.0</td>\n",
       "      <td>NaN</td>\n",
       "      <td>81.0</td>\n",
       "      <td>0.460396</td>\n",
       "    </tr>\n",
       "    <tr>\n",
       "      <th>2</th>\n",
       "      <td>10</td>\n",
       "      <td>5.196</td>\n",
       "      <td>56.0</td>\n",
       "      <td>2015-08-20</td>\n",
       "      <td>2</td>\n",
       "      <td>2.65</td>\n",
       "      <td>5.0</td>\n",
       "      <td>34.300000</td>\n",
       "      <td>4</td>\n",
       "      <td>False</td>\n",
       "      <td>...</td>\n",
       "      <td>0</td>\n",
       "      <td>Санкт-Петербург</td>\n",
       "      <td>21741.0</td>\n",
       "      <td>13933.0</td>\n",
       "      <td>1.0</td>\n",
       "      <td>90.0</td>\n",
       "      <td>2.0</td>\n",
       "      <td>574.0</td>\n",
       "      <td>558.0</td>\n",
       "      <td>0.612500</td>\n",
       "    </tr>\n",
       "    <tr>\n",
       "      <th>3</th>\n",
       "      <td>0</td>\n",
       "      <td>64.900</td>\n",
       "      <td>159.0</td>\n",
       "      <td>2015-07-24</td>\n",
       "      <td>3</td>\n",
       "      <td>2.65</td>\n",
       "      <td>14.0</td>\n",
       "      <td>91.177695</td>\n",
       "      <td>9</td>\n",
       "      <td>False</td>\n",
       "      <td>...</td>\n",
       "      <td>0</td>\n",
       "      <td>Санкт-Петербург</td>\n",
       "      <td>28098.0</td>\n",
       "      <td>6800.0</td>\n",
       "      <td>2.0</td>\n",
       "      <td>84.0</td>\n",
       "      <td>3.0</td>\n",
       "      <td>234.0</td>\n",
       "      <td>424.0</td>\n",
       "      <td>0.573445</td>\n",
       "    </tr>\n",
       "    <tr>\n",
       "      <th>4</th>\n",
       "      <td>2</td>\n",
       "      <td>10.000</td>\n",
       "      <td>100.0</td>\n",
       "      <td>2018-06-19</td>\n",
       "      <td>2</td>\n",
       "      <td>3.03</td>\n",
       "      <td>14.0</td>\n",
       "      <td>32.000000</td>\n",
       "      <td>13</td>\n",
       "      <td>False</td>\n",
       "      <td>...</td>\n",
       "      <td>0</td>\n",
       "      <td>Санкт-Петербург</td>\n",
       "      <td>31856.0</td>\n",
       "      <td>8098.0</td>\n",
       "      <td>2.0</td>\n",
       "      <td>112.0</td>\n",
       "      <td>1.0</td>\n",
       "      <td>48.0</td>\n",
       "      <td>121.0</td>\n",
       "      <td>0.320000</td>\n",
       "    </tr>\n",
       "  </tbody>\n",
       "</table>\n",
       "<p>5 rows × 23 columns</p>\n",
       "</div>"
      ],
      "text/plain": [
       "   total_images  last_price_mln  total_area first_day_exposition  rooms  \\\n",
       "0            20          13.000       108.0           2019-03-07      3   \n",
       "1             7           3.350        40.4           2018-12-04      1   \n",
       "2            10           5.196        56.0           2015-08-20      2   \n",
       "3             0          64.900       159.0           2015-07-24      3   \n",
       "4             2          10.000       100.0           2018-06-19      2   \n",
       "\n",
       "   ceiling_height  floors_total  living_area  floor  is_apartment  ...  \\\n",
       "0            2.70          16.0    51.000000      8         False  ...   \n",
       "1            2.65          11.0    18.600000      1         False  ...   \n",
       "2            2.65           5.0    34.300000      4         False  ...   \n",
       "3            2.65          14.0    91.177695      9         False  ...   \n",
       "4            3.03          14.0    32.000000     13         False  ...   \n",
       "\n",
       "   balcony    locality_name  airports_nearest  cityCenters_nearest  \\\n",
       "0        0  Санкт-Петербург           18863.0              16028.0   \n",
       "1        2   посёлок Шушары           12817.0              18603.0   \n",
       "2        0  Санкт-Петербург           21741.0              13933.0   \n",
       "3        0  Санкт-Петербург           28098.0               6800.0   \n",
       "4        0  Санкт-Петербург           31856.0               8098.0   \n",
       "\n",
       "  parks_around3000  parks_nearest  ponds_around3000  ponds_nearest  \\\n",
       "0              1.0          482.0               2.0          755.0   \n",
       "1              0.0            NaN               0.0            NaN   \n",
       "2              1.0           90.0               2.0          574.0   \n",
       "3              2.0           84.0               3.0          234.0   \n",
       "4              2.0          112.0               1.0           48.0   \n",
       "\n",
       "   days_exposition  living_area_ratio  \n",
       "0              NaN           0.472222  \n",
       "1             81.0           0.460396  \n",
       "2            558.0           0.612500  \n",
       "3            424.0           0.573445  \n",
       "4            121.0           0.320000  \n",
       "\n",
       "[5 rows x 23 columns]"
      ]
     },
     "execution_count": 16,
     "metadata": {},
     "output_type": "execute_result"
    }
   ],
   "source": [
    "# Вставим столбец \"доля жилой площади\" \n",
    "data['living_area_ratio'] = data['living_area'] / data['total_area']\n",
    "data.head()"
   ]
  },
  {
   "cell_type": "markdown",
   "metadata": {},
   "source": [
    "## Расчёты и добавление результатов в таблицу"
   ]
  },
  {
   "cell_type": "markdown",
   "metadata": {},
   "source": [
    "<div class=\"alert alert-info\"> \n",
    "Далее добавим в таблицу столбцы со следующими данными:\n",
    "    \n",
    "цена квадратного метра;\n",
    "\n",
    "день недели, месяц и год публикации объявления;\n",
    "\n",
    "этаж квартиры; варианты — первый, последний, другой;\n",
    "\n",
    "отношение площади кухни к общей.\n",
    "\n",
    "Соотношение жилой и общей площади уже сделано ранее. "
   ]
  },
  {
   "cell_type": "code",
   "execution_count": 17,
   "metadata": {},
   "outputs": [
    {
     "data": {
      "text/html": [
       "<div>\n",
       "<style scoped>\n",
       "    .dataframe tbody tr th:only-of-type {\n",
       "        vertical-align: middle;\n",
       "    }\n",
       "\n",
       "    .dataframe tbody tr th {\n",
       "        vertical-align: top;\n",
       "    }\n",
       "\n",
       "    .dataframe thead th {\n",
       "        text-align: right;\n",
       "    }\n",
       "</style>\n",
       "<table border=\"1\" class=\"dataframe\">\n",
       "  <thead>\n",
       "    <tr style=\"text-align: right;\">\n",
       "      <th></th>\n",
       "      <th>total_images</th>\n",
       "      <th>last_price_mln</th>\n",
       "      <th>total_area</th>\n",
       "      <th>first_day_exposition</th>\n",
       "      <th>rooms</th>\n",
       "      <th>ceiling_height</th>\n",
       "      <th>floors_total</th>\n",
       "      <th>living_area</th>\n",
       "      <th>floor</th>\n",
       "      <th>is_apartment</th>\n",
       "      <th>...</th>\n",
       "      <th>locality_name</th>\n",
       "      <th>airports_nearest</th>\n",
       "      <th>cityCenters_nearest</th>\n",
       "      <th>parks_around3000</th>\n",
       "      <th>parks_nearest</th>\n",
       "      <th>ponds_around3000</th>\n",
       "      <th>ponds_nearest</th>\n",
       "      <th>days_exposition</th>\n",
       "      <th>living_area_ratio</th>\n",
       "      <th>price_sq_m</th>\n",
       "    </tr>\n",
       "  </thead>\n",
       "  <tbody>\n",
       "    <tr>\n",
       "      <th>0</th>\n",
       "      <td>20</td>\n",
       "      <td>13.000</td>\n",
       "      <td>108.0</td>\n",
       "      <td>2019-03-07</td>\n",
       "      <td>3</td>\n",
       "      <td>2.70</td>\n",
       "      <td>16.0</td>\n",
       "      <td>51.000000</td>\n",
       "      <td>8</td>\n",
       "      <td>False</td>\n",
       "      <td>...</td>\n",
       "      <td>Санкт-Петербург</td>\n",
       "      <td>18863.0</td>\n",
       "      <td>16028.0</td>\n",
       "      <td>1.0</td>\n",
       "      <td>482.0</td>\n",
       "      <td>2.0</td>\n",
       "      <td>755.0</td>\n",
       "      <td>NaN</td>\n",
       "      <td>0.472222</td>\n",
       "      <td>120370</td>\n",
       "    </tr>\n",
       "    <tr>\n",
       "      <th>1</th>\n",
       "      <td>7</td>\n",
       "      <td>3.350</td>\n",
       "      <td>40.4</td>\n",
       "      <td>2018-12-04</td>\n",
       "      <td>1</td>\n",
       "      <td>2.65</td>\n",
       "      <td>11.0</td>\n",
       "      <td>18.600000</td>\n",
       "      <td>1</td>\n",
       "      <td>False</td>\n",
       "      <td>...</td>\n",
       "      <td>посёлок Шушары</td>\n",
       "      <td>12817.0</td>\n",
       "      <td>18603.0</td>\n",
       "      <td>0.0</td>\n",
       "      <td>NaN</td>\n",
       "      <td>0.0</td>\n",
       "      <td>NaN</td>\n",
       "      <td>81.0</td>\n",
       "      <td>0.460396</td>\n",
       "      <td>82920</td>\n",
       "    </tr>\n",
       "    <tr>\n",
       "      <th>2</th>\n",
       "      <td>10</td>\n",
       "      <td>5.196</td>\n",
       "      <td>56.0</td>\n",
       "      <td>2015-08-20</td>\n",
       "      <td>2</td>\n",
       "      <td>2.65</td>\n",
       "      <td>5.0</td>\n",
       "      <td>34.300000</td>\n",
       "      <td>4</td>\n",
       "      <td>False</td>\n",
       "      <td>...</td>\n",
       "      <td>Санкт-Петербург</td>\n",
       "      <td>21741.0</td>\n",
       "      <td>13933.0</td>\n",
       "      <td>1.0</td>\n",
       "      <td>90.0</td>\n",
       "      <td>2.0</td>\n",
       "      <td>574.0</td>\n",
       "      <td>558.0</td>\n",
       "      <td>0.612500</td>\n",
       "      <td>92785</td>\n",
       "    </tr>\n",
       "    <tr>\n",
       "      <th>3</th>\n",
       "      <td>0</td>\n",
       "      <td>64.900</td>\n",
       "      <td>159.0</td>\n",
       "      <td>2015-07-24</td>\n",
       "      <td>3</td>\n",
       "      <td>2.65</td>\n",
       "      <td>14.0</td>\n",
       "      <td>91.177695</td>\n",
       "      <td>9</td>\n",
       "      <td>False</td>\n",
       "      <td>...</td>\n",
       "      <td>Санкт-Петербург</td>\n",
       "      <td>28098.0</td>\n",
       "      <td>6800.0</td>\n",
       "      <td>2.0</td>\n",
       "      <td>84.0</td>\n",
       "      <td>3.0</td>\n",
       "      <td>234.0</td>\n",
       "      <td>424.0</td>\n",
       "      <td>0.573445</td>\n",
       "      <td>408176</td>\n",
       "    </tr>\n",
       "    <tr>\n",
       "      <th>4</th>\n",
       "      <td>2</td>\n",
       "      <td>10.000</td>\n",
       "      <td>100.0</td>\n",
       "      <td>2018-06-19</td>\n",
       "      <td>2</td>\n",
       "      <td>3.03</td>\n",
       "      <td>14.0</td>\n",
       "      <td>32.000000</td>\n",
       "      <td>13</td>\n",
       "      <td>False</td>\n",
       "      <td>...</td>\n",
       "      <td>Санкт-Петербург</td>\n",
       "      <td>31856.0</td>\n",
       "      <td>8098.0</td>\n",
       "      <td>2.0</td>\n",
       "      <td>112.0</td>\n",
       "      <td>1.0</td>\n",
       "      <td>48.0</td>\n",
       "      <td>121.0</td>\n",
       "      <td>0.320000</td>\n",
       "      <td>100000</td>\n",
       "    </tr>\n",
       "  </tbody>\n",
       "</table>\n",
       "<p>5 rows × 24 columns</p>\n",
       "</div>"
      ],
      "text/plain": [
       "   total_images  last_price_mln  total_area first_day_exposition  rooms  \\\n",
       "0            20          13.000       108.0           2019-03-07      3   \n",
       "1             7           3.350        40.4           2018-12-04      1   \n",
       "2            10           5.196        56.0           2015-08-20      2   \n",
       "3             0          64.900       159.0           2015-07-24      3   \n",
       "4             2          10.000       100.0           2018-06-19      2   \n",
       "\n",
       "   ceiling_height  floors_total  living_area  floor  is_apartment  ...  \\\n",
       "0            2.70          16.0    51.000000      8         False  ...   \n",
       "1            2.65          11.0    18.600000      1         False  ...   \n",
       "2            2.65           5.0    34.300000      4         False  ...   \n",
       "3            2.65          14.0    91.177695      9         False  ...   \n",
       "4            3.03          14.0    32.000000     13         False  ...   \n",
       "\n",
       "     locality_name  airports_nearest  cityCenters_nearest  parks_around3000  \\\n",
       "0  Санкт-Петербург           18863.0              16028.0               1.0   \n",
       "1   посёлок Шушары           12817.0              18603.0               0.0   \n",
       "2  Санкт-Петербург           21741.0              13933.0               1.0   \n",
       "3  Санкт-Петербург           28098.0               6800.0               2.0   \n",
       "4  Санкт-Петербург           31856.0               8098.0               2.0   \n",
       "\n",
       "  parks_nearest  ponds_around3000  ponds_nearest  days_exposition  \\\n",
       "0         482.0               2.0          755.0              NaN   \n",
       "1           NaN               0.0            NaN             81.0   \n",
       "2          90.0               2.0          574.0            558.0   \n",
       "3          84.0               3.0          234.0            424.0   \n",
       "4         112.0               1.0           48.0            121.0   \n",
       "\n",
       "   living_area_ratio  price_sq_m  \n",
       "0           0.472222      120370  \n",
       "1           0.460396       82920  \n",
       "2           0.612500       92785  \n",
       "3           0.573445      408176  \n",
       "4           0.320000      100000  \n",
       "\n",
       "[5 rows x 24 columns]"
      ]
     },
     "execution_count": 17,
     "metadata": {},
     "output_type": "execute_result"
    }
   ],
   "source": [
    "# Цена за квадрат\n",
    "data['price_sq_m'] = data['last_price_mln'] / data['total_area']*1000000\n",
    "data['price_sq_m'] = data['price_sq_m'].astype('int')\n",
    "data.head()"
   ]
  },
  {
   "cell_type": "code",
   "execution_count": 18,
   "metadata": {},
   "outputs": [
    {
     "data": {
      "text/html": [
       "<div>\n",
       "<style scoped>\n",
       "    .dataframe tbody tr th:only-of-type {\n",
       "        vertical-align: middle;\n",
       "    }\n",
       "\n",
       "    .dataframe tbody tr th {\n",
       "        vertical-align: top;\n",
       "    }\n",
       "\n",
       "    .dataframe thead th {\n",
       "        text-align: right;\n",
       "    }\n",
       "</style>\n",
       "<table border=\"1\" class=\"dataframe\">\n",
       "  <thead>\n",
       "    <tr style=\"text-align: right;\">\n",
       "      <th></th>\n",
       "      <th>total_images</th>\n",
       "      <th>last_price_mln</th>\n",
       "      <th>total_area</th>\n",
       "      <th>first_day_exposition</th>\n",
       "      <th>rooms</th>\n",
       "      <th>ceiling_height</th>\n",
       "      <th>floors_total</th>\n",
       "      <th>living_area</th>\n",
       "      <th>floor</th>\n",
       "      <th>is_apartment</th>\n",
       "      <th>...</th>\n",
       "      <th>parks_around3000</th>\n",
       "      <th>parks_nearest</th>\n",
       "      <th>ponds_around3000</th>\n",
       "      <th>ponds_nearest</th>\n",
       "      <th>days_exposition</th>\n",
       "      <th>living_area_ratio</th>\n",
       "      <th>price_sq_m</th>\n",
       "      <th>weekday_exposition</th>\n",
       "      <th>month_exposition</th>\n",
       "      <th>year_exposition</th>\n",
       "    </tr>\n",
       "  </thead>\n",
       "  <tbody>\n",
       "    <tr>\n",
       "      <th>0</th>\n",
       "      <td>20</td>\n",
       "      <td>13.000</td>\n",
       "      <td>108.0</td>\n",
       "      <td>2019-03-07</td>\n",
       "      <td>3</td>\n",
       "      <td>2.70</td>\n",
       "      <td>16.0</td>\n",
       "      <td>51.000000</td>\n",
       "      <td>8</td>\n",
       "      <td>False</td>\n",
       "      <td>...</td>\n",
       "      <td>1.0</td>\n",
       "      <td>482.0</td>\n",
       "      <td>2.0</td>\n",
       "      <td>755.0</td>\n",
       "      <td>NaN</td>\n",
       "      <td>0.472222</td>\n",
       "      <td>120370</td>\n",
       "      <td>3</td>\n",
       "      <td>3</td>\n",
       "      <td>2019</td>\n",
       "    </tr>\n",
       "    <tr>\n",
       "      <th>1</th>\n",
       "      <td>7</td>\n",
       "      <td>3.350</td>\n",
       "      <td>40.4</td>\n",
       "      <td>2018-12-04</td>\n",
       "      <td>1</td>\n",
       "      <td>2.65</td>\n",
       "      <td>11.0</td>\n",
       "      <td>18.600000</td>\n",
       "      <td>1</td>\n",
       "      <td>False</td>\n",
       "      <td>...</td>\n",
       "      <td>0.0</td>\n",
       "      <td>NaN</td>\n",
       "      <td>0.0</td>\n",
       "      <td>NaN</td>\n",
       "      <td>81.0</td>\n",
       "      <td>0.460396</td>\n",
       "      <td>82920</td>\n",
       "      <td>1</td>\n",
       "      <td>12</td>\n",
       "      <td>2018</td>\n",
       "    </tr>\n",
       "    <tr>\n",
       "      <th>2</th>\n",
       "      <td>10</td>\n",
       "      <td>5.196</td>\n",
       "      <td>56.0</td>\n",
       "      <td>2015-08-20</td>\n",
       "      <td>2</td>\n",
       "      <td>2.65</td>\n",
       "      <td>5.0</td>\n",
       "      <td>34.300000</td>\n",
       "      <td>4</td>\n",
       "      <td>False</td>\n",
       "      <td>...</td>\n",
       "      <td>1.0</td>\n",
       "      <td>90.0</td>\n",
       "      <td>2.0</td>\n",
       "      <td>574.0</td>\n",
       "      <td>558.0</td>\n",
       "      <td>0.612500</td>\n",
       "      <td>92785</td>\n",
       "      <td>3</td>\n",
       "      <td>8</td>\n",
       "      <td>2015</td>\n",
       "    </tr>\n",
       "    <tr>\n",
       "      <th>3</th>\n",
       "      <td>0</td>\n",
       "      <td>64.900</td>\n",
       "      <td>159.0</td>\n",
       "      <td>2015-07-24</td>\n",
       "      <td>3</td>\n",
       "      <td>2.65</td>\n",
       "      <td>14.0</td>\n",
       "      <td>91.177695</td>\n",
       "      <td>9</td>\n",
       "      <td>False</td>\n",
       "      <td>...</td>\n",
       "      <td>2.0</td>\n",
       "      <td>84.0</td>\n",
       "      <td>3.0</td>\n",
       "      <td>234.0</td>\n",
       "      <td>424.0</td>\n",
       "      <td>0.573445</td>\n",
       "      <td>408176</td>\n",
       "      <td>4</td>\n",
       "      <td>7</td>\n",
       "      <td>2015</td>\n",
       "    </tr>\n",
       "    <tr>\n",
       "      <th>4</th>\n",
       "      <td>2</td>\n",
       "      <td>10.000</td>\n",
       "      <td>100.0</td>\n",
       "      <td>2018-06-19</td>\n",
       "      <td>2</td>\n",
       "      <td>3.03</td>\n",
       "      <td>14.0</td>\n",
       "      <td>32.000000</td>\n",
       "      <td>13</td>\n",
       "      <td>False</td>\n",
       "      <td>...</td>\n",
       "      <td>2.0</td>\n",
       "      <td>112.0</td>\n",
       "      <td>1.0</td>\n",
       "      <td>48.0</td>\n",
       "      <td>121.0</td>\n",
       "      <td>0.320000</td>\n",
       "      <td>100000</td>\n",
       "      <td>1</td>\n",
       "      <td>6</td>\n",
       "      <td>2018</td>\n",
       "    </tr>\n",
       "  </tbody>\n",
       "</table>\n",
       "<p>5 rows × 27 columns</p>\n",
       "</div>"
      ],
      "text/plain": [
       "   total_images  last_price_mln  total_area first_day_exposition  rooms  \\\n",
       "0            20          13.000       108.0           2019-03-07      3   \n",
       "1             7           3.350        40.4           2018-12-04      1   \n",
       "2            10           5.196        56.0           2015-08-20      2   \n",
       "3             0          64.900       159.0           2015-07-24      3   \n",
       "4             2          10.000       100.0           2018-06-19      2   \n",
       "\n",
       "   ceiling_height  floors_total  living_area  floor  is_apartment  ...  \\\n",
       "0            2.70          16.0    51.000000      8         False  ...   \n",
       "1            2.65          11.0    18.600000      1         False  ...   \n",
       "2            2.65           5.0    34.300000      4         False  ...   \n",
       "3            2.65          14.0    91.177695      9         False  ...   \n",
       "4            3.03          14.0    32.000000     13         False  ...   \n",
       "\n",
       "   parks_around3000  parks_nearest  ponds_around3000  ponds_nearest  \\\n",
       "0               1.0          482.0               2.0          755.0   \n",
       "1               0.0            NaN               0.0            NaN   \n",
       "2               1.0           90.0               2.0          574.0   \n",
       "3               2.0           84.0               3.0          234.0   \n",
       "4               2.0          112.0               1.0           48.0   \n",
       "\n",
       "  days_exposition  living_area_ratio  price_sq_m  weekday_exposition  \\\n",
       "0             NaN           0.472222      120370                   3   \n",
       "1            81.0           0.460396       82920                   1   \n",
       "2           558.0           0.612500       92785                   3   \n",
       "3           424.0           0.573445      408176                   4   \n",
       "4           121.0           0.320000      100000                   1   \n",
       "\n",
       "   month_exposition  year_exposition  \n",
       "0                 3             2019  \n",
       "1                12             2018  \n",
       "2                 8             2015  \n",
       "3                 7             2015  \n",
       "4                 6             2018  \n",
       "\n",
       "[5 rows x 27 columns]"
      ]
     },
     "execution_count": 18,
     "metadata": {},
     "output_type": "execute_result"
    }
   ],
   "source": [
    "# Дата\n",
    "data['weekday_exposition'] = data['first_day_exposition'].dt.weekday\n",
    "data['month_exposition'] = data['first_day_exposition'].dt.month\n",
    "data['year_exposition'] = data['first_day_exposition'].dt.year\n",
    "data.head()"
   ]
  },
  {
   "cell_type": "code",
   "execution_count": 19,
   "metadata": {},
   "outputs": [
    {
     "data": {
      "text/html": [
       "<div>\n",
       "<style scoped>\n",
       "    .dataframe tbody tr th:only-of-type {\n",
       "        vertical-align: middle;\n",
       "    }\n",
       "\n",
       "    .dataframe tbody tr th {\n",
       "        vertical-align: top;\n",
       "    }\n",
       "\n",
       "    .dataframe thead th {\n",
       "        text-align: right;\n",
       "    }\n",
       "</style>\n",
       "<table border=\"1\" class=\"dataframe\">\n",
       "  <thead>\n",
       "    <tr style=\"text-align: right;\">\n",
       "      <th></th>\n",
       "      <th>total_images</th>\n",
       "      <th>last_price_mln</th>\n",
       "      <th>total_area</th>\n",
       "      <th>first_day_exposition</th>\n",
       "      <th>rooms</th>\n",
       "      <th>ceiling_height</th>\n",
       "      <th>floors_total</th>\n",
       "      <th>living_area</th>\n",
       "      <th>floor</th>\n",
       "      <th>is_apartment</th>\n",
       "      <th>...</th>\n",
       "      <th>parks_nearest</th>\n",
       "      <th>ponds_around3000</th>\n",
       "      <th>ponds_nearest</th>\n",
       "      <th>days_exposition</th>\n",
       "      <th>living_area_ratio</th>\n",
       "      <th>price_sq_m</th>\n",
       "      <th>weekday_exposition</th>\n",
       "      <th>month_exposition</th>\n",
       "      <th>year_exposition</th>\n",
       "      <th>floor_category</th>\n",
       "    </tr>\n",
       "  </thead>\n",
       "  <tbody>\n",
       "    <tr>\n",
       "      <th>0</th>\n",
       "      <td>20</td>\n",
       "      <td>13.000</td>\n",
       "      <td>108.0</td>\n",
       "      <td>2019-03-07</td>\n",
       "      <td>3</td>\n",
       "      <td>2.70</td>\n",
       "      <td>16.0</td>\n",
       "      <td>51.000000</td>\n",
       "      <td>8</td>\n",
       "      <td>False</td>\n",
       "      <td>...</td>\n",
       "      <td>482.0</td>\n",
       "      <td>2.0</td>\n",
       "      <td>755.0</td>\n",
       "      <td>NaN</td>\n",
       "      <td>0.472222</td>\n",
       "      <td>120370</td>\n",
       "      <td>3</td>\n",
       "      <td>3</td>\n",
       "      <td>2019</td>\n",
       "      <td>Другой</td>\n",
       "    </tr>\n",
       "    <tr>\n",
       "      <th>1</th>\n",
       "      <td>7</td>\n",
       "      <td>3.350</td>\n",
       "      <td>40.4</td>\n",
       "      <td>2018-12-04</td>\n",
       "      <td>1</td>\n",
       "      <td>2.65</td>\n",
       "      <td>11.0</td>\n",
       "      <td>18.600000</td>\n",
       "      <td>1</td>\n",
       "      <td>False</td>\n",
       "      <td>...</td>\n",
       "      <td>NaN</td>\n",
       "      <td>0.0</td>\n",
       "      <td>NaN</td>\n",
       "      <td>81.0</td>\n",
       "      <td>0.460396</td>\n",
       "      <td>82920</td>\n",
       "      <td>1</td>\n",
       "      <td>12</td>\n",
       "      <td>2018</td>\n",
       "      <td>Первый</td>\n",
       "    </tr>\n",
       "    <tr>\n",
       "      <th>2</th>\n",
       "      <td>10</td>\n",
       "      <td>5.196</td>\n",
       "      <td>56.0</td>\n",
       "      <td>2015-08-20</td>\n",
       "      <td>2</td>\n",
       "      <td>2.65</td>\n",
       "      <td>5.0</td>\n",
       "      <td>34.300000</td>\n",
       "      <td>4</td>\n",
       "      <td>False</td>\n",
       "      <td>...</td>\n",
       "      <td>90.0</td>\n",
       "      <td>2.0</td>\n",
       "      <td>574.0</td>\n",
       "      <td>558.0</td>\n",
       "      <td>0.612500</td>\n",
       "      <td>92785</td>\n",
       "      <td>3</td>\n",
       "      <td>8</td>\n",
       "      <td>2015</td>\n",
       "      <td>Другой</td>\n",
       "    </tr>\n",
       "    <tr>\n",
       "      <th>3</th>\n",
       "      <td>0</td>\n",
       "      <td>64.900</td>\n",
       "      <td>159.0</td>\n",
       "      <td>2015-07-24</td>\n",
       "      <td>3</td>\n",
       "      <td>2.65</td>\n",
       "      <td>14.0</td>\n",
       "      <td>91.177695</td>\n",
       "      <td>9</td>\n",
       "      <td>False</td>\n",
       "      <td>...</td>\n",
       "      <td>84.0</td>\n",
       "      <td>3.0</td>\n",
       "      <td>234.0</td>\n",
       "      <td>424.0</td>\n",
       "      <td>0.573445</td>\n",
       "      <td>408176</td>\n",
       "      <td>4</td>\n",
       "      <td>7</td>\n",
       "      <td>2015</td>\n",
       "      <td>Другой</td>\n",
       "    </tr>\n",
       "    <tr>\n",
       "      <th>4</th>\n",
       "      <td>2</td>\n",
       "      <td>10.000</td>\n",
       "      <td>100.0</td>\n",
       "      <td>2018-06-19</td>\n",
       "      <td>2</td>\n",
       "      <td>3.03</td>\n",
       "      <td>14.0</td>\n",
       "      <td>32.000000</td>\n",
       "      <td>13</td>\n",
       "      <td>False</td>\n",
       "      <td>...</td>\n",
       "      <td>112.0</td>\n",
       "      <td>1.0</td>\n",
       "      <td>48.0</td>\n",
       "      <td>121.0</td>\n",
       "      <td>0.320000</td>\n",
       "      <td>100000</td>\n",
       "      <td>1</td>\n",
       "      <td>6</td>\n",
       "      <td>2018</td>\n",
       "      <td>Другой</td>\n",
       "    </tr>\n",
       "  </tbody>\n",
       "</table>\n",
       "<p>5 rows × 28 columns</p>\n",
       "</div>"
      ],
      "text/plain": [
       "   total_images  last_price_mln  total_area first_day_exposition  rooms  \\\n",
       "0            20          13.000       108.0           2019-03-07      3   \n",
       "1             7           3.350        40.4           2018-12-04      1   \n",
       "2            10           5.196        56.0           2015-08-20      2   \n",
       "3             0          64.900       159.0           2015-07-24      3   \n",
       "4             2          10.000       100.0           2018-06-19      2   \n",
       "\n",
       "   ceiling_height  floors_total  living_area  floor  is_apartment  ...  \\\n",
       "0            2.70          16.0    51.000000      8         False  ...   \n",
       "1            2.65          11.0    18.600000      1         False  ...   \n",
       "2            2.65           5.0    34.300000      4         False  ...   \n",
       "3            2.65          14.0    91.177695      9         False  ...   \n",
       "4            3.03          14.0    32.000000     13         False  ...   \n",
       "\n",
       "   parks_nearest  ponds_around3000  ponds_nearest  days_exposition  \\\n",
       "0          482.0               2.0          755.0              NaN   \n",
       "1            NaN               0.0            NaN             81.0   \n",
       "2           90.0               2.0          574.0            558.0   \n",
       "3           84.0               3.0          234.0            424.0   \n",
       "4          112.0               1.0           48.0            121.0   \n",
       "\n",
       "  living_area_ratio  price_sq_m  weekday_exposition  month_exposition  \\\n",
       "0          0.472222      120370                   3                 3   \n",
       "1          0.460396       82920                   1                12   \n",
       "2          0.612500       92785                   3                 8   \n",
       "3          0.573445      408176                   4                 7   \n",
       "4          0.320000      100000                   1                 6   \n",
       "\n",
       "   year_exposition  floor_category  \n",
       "0             2019          Другой  \n",
       "1             2018          Первый  \n",
       "2             2015          Другой  \n",
       "3             2015          Другой  \n",
       "4             2018          Другой  \n",
       "\n",
       "[5 rows x 28 columns]"
      ]
     },
     "execution_count": 19,
     "metadata": {},
     "output_type": "execute_result"
    }
   ],
   "source": [
    "# Категоризация данных по этажам\n",
    "def floor_category(row):\n",
    "    floor = row['floor']\n",
    "    floors_total = row['floors_total']\n",
    "    if floor == 1:\n",
    "        return 'Первый'\n",
    "    elif floor == floors_total:\n",
    "        return 'Последний'\n",
    "    else:\n",
    "        return 'Другой'\n",
    "data['floor_category'] = data.apply(floor_category, axis='columns')\n",
    "data.head()"
   ]
  },
  {
   "cell_type": "code",
   "execution_count": 20,
   "metadata": {},
   "outputs": [
    {
     "data": {
      "text/html": [
       "<div>\n",
       "<style scoped>\n",
       "    .dataframe tbody tr th:only-of-type {\n",
       "        vertical-align: middle;\n",
       "    }\n",
       "\n",
       "    .dataframe tbody tr th {\n",
       "        vertical-align: top;\n",
       "    }\n",
       "\n",
       "    .dataframe thead th {\n",
       "        text-align: right;\n",
       "    }\n",
       "</style>\n",
       "<table border=\"1\" class=\"dataframe\">\n",
       "  <thead>\n",
       "    <tr style=\"text-align: right;\">\n",
       "      <th></th>\n",
       "      <th>total_images</th>\n",
       "      <th>last_price_mln</th>\n",
       "      <th>total_area</th>\n",
       "      <th>first_day_exposition</th>\n",
       "      <th>rooms</th>\n",
       "      <th>ceiling_height</th>\n",
       "      <th>floors_total</th>\n",
       "      <th>living_area</th>\n",
       "      <th>floor</th>\n",
       "      <th>is_apartment</th>\n",
       "      <th>...</th>\n",
       "      <th>parks_nearest</th>\n",
       "      <th>ponds_around3000</th>\n",
       "      <th>ponds_nearest</th>\n",
       "      <th>days_exposition</th>\n",
       "      <th>living_area_ratio</th>\n",
       "      <th>price_sq_m</th>\n",
       "      <th>weekday_exposition</th>\n",
       "      <th>month_exposition</th>\n",
       "      <th>year_exposition</th>\n",
       "      <th>floor_category</th>\n",
       "    </tr>\n",
       "  </thead>\n",
       "  <tbody>\n",
       "    <tr>\n",
       "      <th>0</th>\n",
       "      <td>20</td>\n",
       "      <td>13.000</td>\n",
       "      <td>108.0</td>\n",
       "      <td>2019-03-07</td>\n",
       "      <td>3</td>\n",
       "      <td>2.70</td>\n",
       "      <td>16.0</td>\n",
       "      <td>51.000000</td>\n",
       "      <td>8</td>\n",
       "      <td>False</td>\n",
       "      <td>...</td>\n",
       "      <td>482.0</td>\n",
       "      <td>2.0</td>\n",
       "      <td>755.0</td>\n",
       "      <td>NaN</td>\n",
       "      <td>0.47</td>\n",
       "      <td>120370</td>\n",
       "      <td>3</td>\n",
       "      <td>3</td>\n",
       "      <td>2019</td>\n",
       "      <td>Другой</td>\n",
       "    </tr>\n",
       "    <tr>\n",
       "      <th>1</th>\n",
       "      <td>7</td>\n",
       "      <td>3.350</td>\n",
       "      <td>40.4</td>\n",
       "      <td>2018-12-04</td>\n",
       "      <td>1</td>\n",
       "      <td>2.65</td>\n",
       "      <td>11.0</td>\n",
       "      <td>18.600000</td>\n",
       "      <td>1</td>\n",
       "      <td>False</td>\n",
       "      <td>...</td>\n",
       "      <td>NaN</td>\n",
       "      <td>0.0</td>\n",
       "      <td>NaN</td>\n",
       "      <td>81.0</td>\n",
       "      <td>0.46</td>\n",
       "      <td>82920</td>\n",
       "      <td>1</td>\n",
       "      <td>12</td>\n",
       "      <td>2018</td>\n",
       "      <td>Первый</td>\n",
       "    </tr>\n",
       "    <tr>\n",
       "      <th>2</th>\n",
       "      <td>10</td>\n",
       "      <td>5.196</td>\n",
       "      <td>56.0</td>\n",
       "      <td>2015-08-20</td>\n",
       "      <td>2</td>\n",
       "      <td>2.65</td>\n",
       "      <td>5.0</td>\n",
       "      <td>34.300000</td>\n",
       "      <td>4</td>\n",
       "      <td>False</td>\n",
       "      <td>...</td>\n",
       "      <td>90.0</td>\n",
       "      <td>2.0</td>\n",
       "      <td>574.0</td>\n",
       "      <td>558.0</td>\n",
       "      <td>0.61</td>\n",
       "      <td>92785</td>\n",
       "      <td>3</td>\n",
       "      <td>8</td>\n",
       "      <td>2015</td>\n",
       "      <td>Другой</td>\n",
       "    </tr>\n",
       "    <tr>\n",
       "      <th>3</th>\n",
       "      <td>0</td>\n",
       "      <td>64.900</td>\n",
       "      <td>159.0</td>\n",
       "      <td>2015-07-24</td>\n",
       "      <td>3</td>\n",
       "      <td>2.65</td>\n",
       "      <td>14.0</td>\n",
       "      <td>91.177695</td>\n",
       "      <td>9</td>\n",
       "      <td>False</td>\n",
       "      <td>...</td>\n",
       "      <td>84.0</td>\n",
       "      <td>3.0</td>\n",
       "      <td>234.0</td>\n",
       "      <td>424.0</td>\n",
       "      <td>0.57</td>\n",
       "      <td>408176</td>\n",
       "      <td>4</td>\n",
       "      <td>7</td>\n",
       "      <td>2015</td>\n",
       "      <td>Другой</td>\n",
       "    </tr>\n",
       "    <tr>\n",
       "      <th>4</th>\n",
       "      <td>2</td>\n",
       "      <td>10.000</td>\n",
       "      <td>100.0</td>\n",
       "      <td>2018-06-19</td>\n",
       "      <td>2</td>\n",
       "      <td>3.03</td>\n",
       "      <td>14.0</td>\n",
       "      <td>32.000000</td>\n",
       "      <td>13</td>\n",
       "      <td>False</td>\n",
       "      <td>...</td>\n",
       "      <td>112.0</td>\n",
       "      <td>1.0</td>\n",
       "      <td>48.0</td>\n",
       "      <td>121.0</td>\n",
       "      <td>0.32</td>\n",
       "      <td>100000</td>\n",
       "      <td>1</td>\n",
       "      <td>6</td>\n",
       "      <td>2018</td>\n",
       "      <td>Другой</td>\n",
       "    </tr>\n",
       "  </tbody>\n",
       "</table>\n",
       "<p>5 rows × 28 columns</p>\n",
       "</div>"
      ],
      "text/plain": [
       "   total_images  last_price_mln  total_area first_day_exposition  rooms  \\\n",
       "0            20          13.000       108.0           2019-03-07      3   \n",
       "1             7           3.350        40.4           2018-12-04      1   \n",
       "2            10           5.196        56.0           2015-08-20      2   \n",
       "3             0          64.900       159.0           2015-07-24      3   \n",
       "4             2          10.000       100.0           2018-06-19      2   \n",
       "\n",
       "   ceiling_height  floors_total  living_area  floor  is_apartment  ...  \\\n",
       "0            2.70          16.0    51.000000      8         False  ...   \n",
       "1            2.65          11.0    18.600000      1         False  ...   \n",
       "2            2.65           5.0    34.300000      4         False  ...   \n",
       "3            2.65          14.0    91.177695      9         False  ...   \n",
       "4            3.03          14.0    32.000000     13         False  ...   \n",
       "\n",
       "   parks_nearest  ponds_around3000  ponds_nearest  days_exposition  \\\n",
       "0          482.0               2.0          755.0              NaN   \n",
       "1            NaN               0.0            NaN             81.0   \n",
       "2           90.0               2.0          574.0            558.0   \n",
       "3           84.0               3.0          234.0            424.0   \n",
       "4          112.0               1.0           48.0            121.0   \n",
       "\n",
       "  living_area_ratio  price_sq_m  weekday_exposition  month_exposition  \\\n",
       "0              0.47      120370                   3                 3   \n",
       "1              0.46       82920                   1                12   \n",
       "2              0.61       92785                   3                 8   \n",
       "3              0.57      408176                   4                 7   \n",
       "4              0.32      100000                   1                 6   \n",
       "\n",
       "   year_exposition  floor_category  \n",
       "0             2019          Другой  \n",
       "1             2018          Первый  \n",
       "2             2015          Другой  \n",
       "3             2015          Другой  \n",
       "4             2018          Другой  \n",
       "\n",
       "[5 rows x 28 columns]"
      ]
     },
     "execution_count": 20,
     "metadata": {},
     "output_type": "execute_result"
    }
   ],
   "source": [
    "# Округлим значения столбца доли жилой площади в общей\n",
    "data['living_area_ratio'] = (data['living_area']/data['total_area']).round(2)\n",
    "data.head()"
   ]
  },
  {
   "cell_type": "code",
   "execution_count": 21,
   "metadata": {},
   "outputs": [
    {
     "data": {
      "text/html": [
       "<div>\n",
       "<style scoped>\n",
       "    .dataframe tbody tr th:only-of-type {\n",
       "        vertical-align: middle;\n",
       "    }\n",
       "\n",
       "    .dataframe tbody tr th {\n",
       "        vertical-align: top;\n",
       "    }\n",
       "\n",
       "    .dataframe thead th {\n",
       "        text-align: right;\n",
       "    }\n",
       "</style>\n",
       "<table border=\"1\" class=\"dataframe\">\n",
       "  <thead>\n",
       "    <tr style=\"text-align: right;\">\n",
       "      <th></th>\n",
       "      <th>total_images</th>\n",
       "      <th>last_price_mln</th>\n",
       "      <th>total_area</th>\n",
       "      <th>first_day_exposition</th>\n",
       "      <th>rooms</th>\n",
       "      <th>ceiling_height</th>\n",
       "      <th>floors_total</th>\n",
       "      <th>living_area</th>\n",
       "      <th>floor</th>\n",
       "      <th>is_apartment</th>\n",
       "      <th>...</th>\n",
       "      <th>ponds_around3000</th>\n",
       "      <th>ponds_nearest</th>\n",
       "      <th>days_exposition</th>\n",
       "      <th>living_area_ratio</th>\n",
       "      <th>price_sq_m</th>\n",
       "      <th>weekday_exposition</th>\n",
       "      <th>month_exposition</th>\n",
       "      <th>year_exposition</th>\n",
       "      <th>floor_category</th>\n",
       "      <th>kitchen_area_ratio</th>\n",
       "    </tr>\n",
       "  </thead>\n",
       "  <tbody>\n",
       "    <tr>\n",
       "      <th>0</th>\n",
       "      <td>20</td>\n",
       "      <td>13.000</td>\n",
       "      <td>108.0</td>\n",
       "      <td>2019-03-07</td>\n",
       "      <td>3</td>\n",
       "      <td>2.70</td>\n",
       "      <td>16.0</td>\n",
       "      <td>51.000000</td>\n",
       "      <td>8</td>\n",
       "      <td>False</td>\n",
       "      <td>...</td>\n",
       "      <td>2.0</td>\n",
       "      <td>755.0</td>\n",
       "      <td>NaN</td>\n",
       "      <td>0.47</td>\n",
       "      <td>120370</td>\n",
       "      <td>3</td>\n",
       "      <td>3</td>\n",
       "      <td>2019</td>\n",
       "      <td>Другой</td>\n",
       "      <td>0.23</td>\n",
       "    </tr>\n",
       "    <tr>\n",
       "      <th>1</th>\n",
       "      <td>7</td>\n",
       "      <td>3.350</td>\n",
       "      <td>40.4</td>\n",
       "      <td>2018-12-04</td>\n",
       "      <td>1</td>\n",
       "      <td>2.65</td>\n",
       "      <td>11.0</td>\n",
       "      <td>18.600000</td>\n",
       "      <td>1</td>\n",
       "      <td>False</td>\n",
       "      <td>...</td>\n",
       "      <td>0.0</td>\n",
       "      <td>NaN</td>\n",
       "      <td>81.0</td>\n",
       "      <td>0.46</td>\n",
       "      <td>82920</td>\n",
       "      <td>1</td>\n",
       "      <td>12</td>\n",
       "      <td>2018</td>\n",
       "      <td>Первый</td>\n",
       "      <td>0.27</td>\n",
       "    </tr>\n",
       "    <tr>\n",
       "      <th>2</th>\n",
       "      <td>10</td>\n",
       "      <td>5.196</td>\n",
       "      <td>56.0</td>\n",
       "      <td>2015-08-20</td>\n",
       "      <td>2</td>\n",
       "      <td>2.65</td>\n",
       "      <td>5.0</td>\n",
       "      <td>34.300000</td>\n",
       "      <td>4</td>\n",
       "      <td>False</td>\n",
       "      <td>...</td>\n",
       "      <td>2.0</td>\n",
       "      <td>574.0</td>\n",
       "      <td>558.0</td>\n",
       "      <td>0.61</td>\n",
       "      <td>92785</td>\n",
       "      <td>3</td>\n",
       "      <td>8</td>\n",
       "      <td>2015</td>\n",
       "      <td>Другой</td>\n",
       "      <td>0.15</td>\n",
       "    </tr>\n",
       "    <tr>\n",
       "      <th>3</th>\n",
       "      <td>0</td>\n",
       "      <td>64.900</td>\n",
       "      <td>159.0</td>\n",
       "      <td>2015-07-24</td>\n",
       "      <td>3</td>\n",
       "      <td>2.65</td>\n",
       "      <td>14.0</td>\n",
       "      <td>91.177695</td>\n",
       "      <td>9</td>\n",
       "      <td>False</td>\n",
       "      <td>...</td>\n",
       "      <td>3.0</td>\n",
       "      <td>234.0</td>\n",
       "      <td>424.0</td>\n",
       "      <td>0.57</td>\n",
       "      <td>408176</td>\n",
       "      <td>4</td>\n",
       "      <td>7</td>\n",
       "      <td>2015</td>\n",
       "      <td>Другой</td>\n",
       "      <td>NaN</td>\n",
       "    </tr>\n",
       "    <tr>\n",
       "      <th>4</th>\n",
       "      <td>2</td>\n",
       "      <td>10.000</td>\n",
       "      <td>100.0</td>\n",
       "      <td>2018-06-19</td>\n",
       "      <td>2</td>\n",
       "      <td>3.03</td>\n",
       "      <td>14.0</td>\n",
       "      <td>32.000000</td>\n",
       "      <td>13</td>\n",
       "      <td>False</td>\n",
       "      <td>...</td>\n",
       "      <td>1.0</td>\n",
       "      <td>48.0</td>\n",
       "      <td>121.0</td>\n",
       "      <td>0.32</td>\n",
       "      <td>100000</td>\n",
       "      <td>1</td>\n",
       "      <td>6</td>\n",
       "      <td>2018</td>\n",
       "      <td>Другой</td>\n",
       "      <td>0.41</td>\n",
       "    </tr>\n",
       "  </tbody>\n",
       "</table>\n",
       "<p>5 rows × 29 columns</p>\n",
       "</div>"
      ],
      "text/plain": [
       "   total_images  last_price_mln  total_area first_day_exposition  rooms  \\\n",
       "0            20          13.000       108.0           2019-03-07      3   \n",
       "1             7           3.350        40.4           2018-12-04      1   \n",
       "2            10           5.196        56.0           2015-08-20      2   \n",
       "3             0          64.900       159.0           2015-07-24      3   \n",
       "4             2          10.000       100.0           2018-06-19      2   \n",
       "\n",
       "   ceiling_height  floors_total  living_area  floor  is_apartment  ...  \\\n",
       "0            2.70          16.0    51.000000      8         False  ...   \n",
       "1            2.65          11.0    18.600000      1         False  ...   \n",
       "2            2.65           5.0    34.300000      4         False  ...   \n",
       "3            2.65          14.0    91.177695      9         False  ...   \n",
       "4            3.03          14.0    32.000000     13         False  ...   \n",
       "\n",
       "   ponds_around3000  ponds_nearest  days_exposition  living_area_ratio  \\\n",
       "0               2.0          755.0              NaN               0.47   \n",
       "1               0.0            NaN             81.0               0.46   \n",
       "2               2.0          574.0            558.0               0.61   \n",
       "3               3.0          234.0            424.0               0.57   \n",
       "4               1.0           48.0            121.0               0.32   \n",
       "\n",
       "  price_sq_m  weekday_exposition  month_exposition  year_exposition  \\\n",
       "0     120370                   3                 3             2019   \n",
       "1      82920                   1                12             2018   \n",
       "2      92785                   3                 8             2015   \n",
       "3     408176                   4                 7             2015   \n",
       "4     100000                   1                 6             2018   \n",
       "\n",
       "   floor_category  kitchen_area_ratio  \n",
       "0          Другой                0.23  \n",
       "1          Первый                0.27  \n",
       "2          Другой                0.15  \n",
       "3          Другой                 NaN  \n",
       "4          Другой                0.41  \n",
       "\n",
       "[5 rows x 29 columns]"
      ]
     },
     "execution_count": 21,
     "metadata": {},
     "output_type": "execute_result"
    }
   ],
   "source": [
    "# Доля кухни в общей площади\n",
    "data['kitchen_area_ratio'] = (data['kitchen_area']/data['total_area']).round(2)\n",
    "data.head()"
   ]
  },
  {
   "cell_type": "markdown",
   "metadata": {},
   "source": [
    "## Исследовательский анализ данных"
   ]
  },
  {
   "cell_type": "markdown",
   "metadata": {},
   "source": [
    "Изучите следующие параметры: площадь, цена, число комнат, высота потолков. \n",
    "Постройте гистограммы для каждого параметра."
   ]
  },
  {
   "cell_type": "code",
   "execution_count": 22,
   "metadata": {},
   "outputs": [
    {
     "data": {
      "text/plain": [
       "count    23699.000000\n",
       "mean        60.348651\n",
       "std         35.654083\n",
       "min         12.000000\n",
       "25%         40.000000\n",
       "50%         52.000000\n",
       "75%         69.900000\n",
       "max        900.000000\n",
       "Name: total_area, dtype: float64"
      ]
     },
     "execution_count": 22,
     "metadata": {},
     "output_type": "execute_result"
    }
   ],
   "source": [
    "# Исследование общей площади \n",
    "data['total_area'].describe()"
   ]
  },
  {
   "cell_type": "code",
   "execution_count": 23,
   "metadata": {},
   "outputs": [
    {
     "data": {
      "text/plain": [
       "19904     12.0\n",
       "17961     13.0\n",
       "19546     13.0\n",
       "19807     13.0\n",
       "19558     13.2\n",
       "         ...  \n",
       "5358     590.0\n",
       "15651    618.0\n",
       "3117     631.0\n",
       "12859    631.2\n",
       "19540    900.0\n",
       "Name: total_area, Length: 23699, dtype: float64"
      ]
     },
     "execution_count": 23,
     "metadata": {},
     "output_type": "execute_result"
    }
   ],
   "source": [
    "data['total_area'].sort_values()"
   ]
  },
  {
   "cell_type": "code",
   "execution_count": 24,
   "metadata": {},
   "outputs": [
    {
     "data": {
      "text/plain": [
       "45.00     419\n",
       "42.00     383\n",
       "60.00     347\n",
       "31.00     346\n",
       "44.00     345\n",
       "         ... \n",
       "44.24       1\n",
       "56.85       1\n",
       "37.92       1\n",
       "115.60      1\n",
       "55.06       1\n",
       "Name: total_area, Length: 2182, dtype: int64"
      ]
     },
     "execution_count": 24,
     "metadata": {},
     "output_type": "execute_result"
    }
   ],
   "source": [
    "data['total_area'].value_counts()"
   ]
  },
  {
   "cell_type": "code",
   "execution_count": 25,
   "metadata": {},
   "outputs": [
    {
     "data": {
      "text/plain": [
       "<AxesSubplot:>"
      ]
     },
     "execution_count": 25,
     "metadata": {},
     "output_type": "execute_result"
    },
    {
     "data": {
      "image/png": "[encoded data removed]",
      "text/plain": [
       "<Figure size 432x288 with 1 Axes>"
      ]
     },
     "metadata": {
      "needs_background": "light"
     },
     "output_type": "display_data"
    }
   ],
   "source": [
    "data['total_area'].hist(bins=100, range=(0, 500))"
   ]
  },
  {
   "cell_type": "markdown",
   "metadata": {},
   "source": [
    "<div class=\"alert alert-info\"> \n",
    "По таблице describe видно, что самая большая площадь, выставленная на продажу = 900 кв.м, самая маленькая = 12 кв.м, скорее всего это не вся квартира, а комната. Средняя площадь = 60,3 кв.м. Самые популярные квартиры на продажу площадью 45 кв.м. Из всего объема данных видно, что большинство квартир на продажу площадью до 70 кв.м - это третий квартиль. Распределение нормальное, критических выбросов нет"
   ]
  },
  {
   "cell_type": "code",
   "execution_count": 26,
   "metadata": {},
   "outputs": [
    {
     "data": {
      "text/plain": [
       "count    23699.000000\n",
       "mean         6.541549\n",
       "std         10.887013\n",
       "min          0.012190\n",
       "25%          3.400000\n",
       "50%          4.650000\n",
       "75%          6.800000\n",
       "max        763.000000\n",
       "Name: last_price_mln, dtype: float64"
      ]
     },
     "execution_count": 26,
     "metadata": {},
     "output_type": "execute_result"
    }
   ],
   "source": [
    "data['last_price_mln'].describe()"
   ]
  },
  {
   "cell_type": "code",
   "execution_count": 27,
   "metadata": {},
   "outputs": [
    {
     "data": {
      "text/plain": [
       "4.500000     342\n",
       "3.500000     291\n",
       "4.000000     260\n",
       "4.300000     260\n",
       "4.200000     259\n",
       "            ... \n",
       "36.001900      1\n",
       "10.660000      1\n",
       "19.370000      1\n",
       "3.937424       1\n",
       "2.561000       1\n",
       "Name: last_price_mln, Length: 2978, dtype: int64"
      ]
     },
     "execution_count": 27,
     "metadata": {},
     "output_type": "execute_result"
    }
   ],
   "source": [
    "data['last_price_mln'].value_counts()"
   ]
  },
  {
   "cell_type": "code",
   "execution_count": 28,
   "metadata": {},
   "outputs": [
    {
     "data": {
      "text/plain": [
       "<AxesSubplot:>"
      ]
     },
     "execution_count": 28,
     "metadata": {},
     "output_type": "execute_result"
    },
    {
     "data": {
      "image/png": "[encoded data removed]",
      "text/plain": [
       "<Figure size 432x288 with 1 Axes>"
      ]
     },
     "metadata": {
      "needs_background": "light"
     },
     "output_type": "display_data"
    }
   ],
   "source": [
    "data['last_price_mln'].hist(bins=100, range=(0,30))"
   ]
  },
  {
   "cell_type": "markdown",
   "metadata": {},
   "source": [
    "<div class=\"alert alert-info\">\n",
    "    Нормальное распределение, средняя стоимость квартиры = 6,5 млн, самый дорогой объект на продажу = 763 млн, самое дешевое предложение = 12,19 тыс, скорее всего на продажу выставлена доля в собственности, а не вся квартира. Больше всего предложений в пределах 3,4 - 6,8 млн"
   ]
  },
  {
   "cell_type": "code",
   "execution_count": 29,
   "metadata": {},
   "outputs": [
    {
     "data": {
      "text/plain": [
       "count    23699.000000\n",
       "mean         2.070636\n",
       "std          1.078405\n",
       "min          0.000000\n",
       "25%          1.000000\n",
       "50%          2.000000\n",
       "75%          3.000000\n",
       "max         19.000000\n",
       "Name: rooms, dtype: float64"
      ]
     },
     "execution_count": 29,
     "metadata": {},
     "output_type": "execute_result"
    }
   ],
   "source": [
    "data['rooms'].describe()"
   ]
  },
  {
   "cell_type": "code",
   "execution_count": 30,
   "metadata": {},
   "outputs": [
    {
     "data": {
      "text/plain": [
       "1     8047\n",
       "2     7940\n",
       "3     5814\n",
       "4     1180\n",
       "5      326\n",
       "0      197\n",
       "6      105\n",
       "7       59\n",
       "8       12\n",
       "9        8\n",
       "10       3\n",
       "11       2\n",
       "14       2\n",
       "19       1\n",
       "16       1\n",
       "12       1\n",
       "15       1\n",
       "Name: rooms, dtype: int64"
      ]
     },
     "execution_count": 30,
     "metadata": {},
     "output_type": "execute_result"
    }
   ],
   "source": [
    "data['rooms'].value_counts()"
   ]
  },
  {
   "cell_type": "code",
   "execution_count": 31,
   "metadata": {},
   "outputs": [
    {
     "data": {
      "text/plain": [
       "False    23550\n",
       "True       149\n",
       "Name: studio, dtype: int64"
      ]
     },
     "execution_count": 31,
     "metadata": {},
     "output_type": "execute_result"
    }
   ],
   "source": [
    "data['studio'].value_counts()"
   ]
  },
  {
   "cell_type": "code",
   "execution_count": 32,
   "metadata": {},
   "outputs": [
    {
     "data": {
      "text/plain": [
       "14498    19\n",
       "18848    16\n",
       "5358     15\n",
       "20829    14\n",
       "866      14\n",
       "         ..\n",
       "12737     0\n",
       "15569     0\n",
       "11331     0\n",
       "9817      0\n",
       "2727      0\n",
       "Name: rooms, Length: 23699, dtype: int64"
      ]
     },
     "execution_count": 32,
     "metadata": {},
     "output_type": "execute_result"
    }
   ],
   "source": [
    "data['rooms'].sort_values(ascending=False)"
   ]
  },
  {
   "cell_type": "code",
   "execution_count": 33,
   "metadata": {},
   "outputs": [
    {
     "data": {
      "text/plain": [
       "<AxesSubplot:>"
      ]
     },
     "execution_count": 33,
     "metadata": {},
     "output_type": "execute_result"
    },
    {
     "data": {
      "image/png": "[encoded data removed]",
      "text/plain": [
       "<Figure size 432x288 with 1 Axes>"
      ]
     },
     "metadata": {
      "needs_background": "light"
     },
     "output_type": "display_data"
    }
   ],
   "source": [
    "data['rooms'].hist()"
   ]
  },
  {
   "cell_type": "markdown",
   "metadata": {},
   "source": [
    "<div class=\"alert alert-info\"> Данные выглядят вполне логично: чаще всего продают одно-, двух-, и трехкомнатные квартиры. Преимущество однушек и двушек над трешками можно объяснить стремлением людей улучшить жилищные условия. Немного удивляет малое количество предложений где 0 комнат (это скорее студии и квартиры без отделки). \n",
    "    "
   ]
  },
  {
   "cell_type": "code",
   "execution_count": 34,
   "metadata": {},
   "outputs": [
    {
     "data": {
      "text/plain": [
       "count    23699.000000\n",
       "mean         2.724358\n",
       "std          0.988298\n",
       "min          1.000000\n",
       "25%          2.600000\n",
       "50%          2.650000\n",
       "75%          2.700000\n",
       "max        100.000000\n",
       "Name: ceiling_height, dtype: float64"
      ]
     },
     "execution_count": 34,
     "metadata": {},
     "output_type": "execute_result"
    }
   ],
   "source": [
    "data['ceiling_height'].describe()"
   ]
  },
  {
   "cell_type": "code",
   "execution_count": 35,
   "metadata": {},
   "outputs": [
    {
     "data": {
      "text/plain": [
       "2.65     9871\n",
       "2.50     3515\n",
       "2.60     1646\n",
       "2.70     1574\n",
       "3.00     1112\n",
       "         ... \n",
       "4.25        1\n",
       "3.39        1\n",
       "3.93        1\n",
       "10.30       1\n",
       "4.65        1\n",
       "Name: ceiling_height, Length: 183, dtype: int64"
      ]
     },
     "execution_count": 35,
     "metadata": {},
     "output_type": "execute_result"
    }
   ],
   "source": [
    "data['ceiling_height'].value_counts()"
   ]
  },
  {
   "cell_type": "code",
   "execution_count": 36,
   "metadata": {},
   "outputs": [
    {
     "data": {
      "text/plain": [
       "22869    100.0\n",
       "3148      32.0\n",
       "22336     32.0\n",
       "21377     27.5\n",
       "4876      27.0\n",
       "17857     27.0\n",
       "5246      27.0\n",
       "20478     27.0\n",
       "22938     27.0\n",
       "5807      27.0\n",
       "Name: ceiling_height, dtype: float64"
      ]
     },
     "execution_count": 36,
     "metadata": {},
     "output_type": "execute_result"
    }
   ],
   "source": [
    "data['ceiling_height'].sort_values(ascending=False).head(10)"
   ]
  },
  {
   "cell_type": "code",
   "execution_count": 37,
   "metadata": {},
   "outputs": [
    {
     "data": {
      "text/plain": [
       "22590    1.00\n",
       "5712     1.20\n",
       "16934    1.75\n",
       "20520    2.00\n",
       "552      2.00\n",
       "4212     2.00\n",
       "5850     2.00\n",
       "16884    2.00\n",
       "19098    2.00\n",
       "16446    2.00\n",
       "Name: ceiling_height, dtype: float64"
      ]
     },
     "execution_count": 37,
     "metadata": {},
     "output_type": "execute_result"
    }
   ],
   "source": [
    "data['ceiling_height'].sort_values().head(10)"
   ]
  },
  {
   "cell_type": "code",
   "execution_count": 38,
   "metadata": {},
   "outputs": [
    {
     "data": {
      "text/plain": [
       "<AxesSubplot:>"
      ]
     },
     "execution_count": 38,
     "metadata": {},
     "output_type": "execute_result"
    },
    {
     "data": {
      "image/png": "[encoded data removed]",
      "text/plain": [
       "<Figure size 432x288 with 1 Axes>"
      ]
     },
     "metadata": {
      "needs_background": "light"
     },
     "output_type": "display_data"
    }
   ],
   "source": [
    "data['ceiling_height'].hist(range=(1, 5))"
   ]
  },
  {
   "cell_type": "markdown",
   "metadata": {},
   "source": [
    "<div class=\"alert alert-info\"> Высота потолков в 1 метр и в 100 метров являются единичными выбивающимися значениями, которые однако не влияет на общее распределение. Тем не менее, от таких выбросов лучше избавляться.  "
   ]
  },
  {
   "cell_type": "markdown",
   "metadata": {},
   "source": [
    "Изучите время продажи квартиры. Постройте гистограмму. Посчитайте среднее и медиану. Опишите, сколько обычно занимает продажа. Когда можно считать, что продажи прошли очень быстро, а когда необычно долго?"
   ]
  },
  {
   "cell_type": "code",
   "execution_count": 39,
   "metadata": {},
   "outputs": [],
   "source": [
    "exposition = data.query('days_exposition!=days_exposition.isna()')"
   ]
  },
  {
   "cell_type": "code",
   "execution_count": 40,
   "metadata": {},
   "outputs": [
    {
     "data": {
      "text/plain": [
       "count    20518.000000\n",
       "mean       180.888634\n",
       "std        219.727988\n",
       "min          1.000000\n",
       "25%         45.000000\n",
       "50%         95.000000\n",
       "75%        232.000000\n",
       "max       1580.000000\n",
       "Name: days_exposition, dtype: float64"
      ]
     },
     "execution_count": 40,
     "metadata": {},
     "output_type": "execute_result"
    }
   ],
   "source": [
    "exposition['days_exposition'].describe()"
   ]
  },
  {
   "cell_type": "code",
   "execution_count": 41,
   "metadata": {},
   "outputs": [
    {
     "data": {
      "text/plain": [
       "45.0    880\n",
       "60.0    538\n",
       "7.0     234\n",
       "30.0    208\n",
       "90.0    204\n",
       "4.0     176\n",
       "3.0     158\n",
       "5.0     152\n",
       "14.0    148\n",
       "9.0     143\n",
       "Name: days_exposition, dtype: int64"
      ]
     },
     "execution_count": 41,
     "metadata": {},
     "output_type": "execute_result"
    }
   ],
   "source": [
    "exposition['days_exposition'].value_counts().head(10)"
   ]
  },
  {
   "cell_type": "code",
   "execution_count": 42,
   "metadata": {},
   "outputs": [
    {
     "data": {
      "text/plain": [
       "<AxesSubplot:>"
      ]
     },
     "execution_count": 42,
     "metadata": {},
     "output_type": "execute_result"
    },
    {
     "data": {
      "image/png": "[encoded data removed]",
      "text/plain": [
       "<Figure size 432x288 with 1 Axes>"
      ]
     },
     "metadata": {
      "needs_background": "light"
     },
     "output_type": "display_data"
    }
   ],
   "source": [
    "exposition['days_exposition'].hist(bins=100, range=(0, 1000))"
   ]
  },
  {
   "cell_type": "code",
   "execution_count": 43,
   "metadata": {},
   "outputs": [
    {
     "data": {
      "text/plain": [
       "<AxesSubplot:>"
      ]
     },
     "execution_count": 43,
     "metadata": {},
     "output_type": "execute_result"
    },
    {
     "data": {
      "image/png": "[encoded data removed]",
      "text/plain": [
       "<Figure size 360x360 with 1 Axes>"
      ]
     },
     "metadata": {
      "needs_background": "light"
     },
     "output_type": "display_data"
    }
   ],
   "source": [
    "exposition['days_exposition'].hist(bins=100, range=(0,600), figsize=(5,5))"
   ]
  },
  {
   "cell_type": "code",
   "execution_count": 44,
   "metadata": {},
   "outputs": [
    {
     "data": {
      "text/plain": [
       "<AxesSubplot:ylabel='Frequency'>"
      ]
     },
     "execution_count": 44,
     "metadata": {},
     "output_type": "execute_result"
    },
    {
     "data": {
      "image/png": "[encoded data removed]",
      "text/plain": [
       "<Figure size 432x288 with 1 Axes>"
      ]
     },
     "metadata": {
      "needs_background": "light"
     },
     "output_type": "display_data"
    }
   ],
   "source": [
    "exposition.plot(y='days_exposition', kind='hist', bins=100, range=(0,200), grid=True)"
   ]
  },
  {
   "cell_type": "code",
   "execution_count": 45,
   "metadata": {},
   "outputs": [
    {
     "data": {
      "text/plain": [
       "{'whiskers': [<matplotlib.lines.Line2D at 0x7f898f028be0>,\n",
       "  <matplotlib.lines.Line2D at 0x7f898f028f40>],\n",
       " 'caps': [<matplotlib.lines.Line2D at 0x7f898efb52e0>,\n",
       "  <matplotlib.lines.Line2D at 0x7f898efb5640>],\n",
       " 'boxes': [<matplotlib.lines.Line2D at 0x7f898f028880>],\n",
       " 'medians': [<matplotlib.lines.Line2D at 0x7f898efb59a0>],\n",
       " 'fliers': [<matplotlib.lines.Line2D at 0x7f898efb5d00>],\n",
       " 'means': []}"
      ]
     },
     "execution_count": 45,
     "metadata": {},
     "output_type": "execute_result"
    },
    {
     "data": {
      "image/png": "[encoded data removed]",
      "text/plain": [
       "<Figure size 432x288 with 1 Axes>"
      ]
     },
     "metadata": {
      "needs_background": "light"
     },
     "output_type": "display_data"
    }
   ],
   "source": [
    "plt.boxplot(exposition['days_exposition'])\n"
   ]
  },
  {
   "cell_type": "code",
   "execution_count": 92,
   "metadata": {},
   "outputs": [
    {
     "name": "stdout",
     "output_type": "stream",
     "text": [
      "There are NaN values, I need to remove\n"
     ]
    }
   ],
   "source": [
    "import numpy as np\n",
    "if np.isnan(exposition['days_exposition']).any():\n",
    "  print(\"There are NaN values, I need to remove\")"
   ]
  },
  {
   "cell_type": "code",
   "execution_count": 93,
   "metadata": {},
   "outputs": [
    {
     "data": {
      "image/png": "[encoded data removed]",
      "text/plain": [
       "<Figure size 432x288 with 1 Axes>"
      ]
     },
     "metadata": {
      "needs_background": "light"
     },
     "output_type": "display_data"
    }
   ],
   "source": [
    "fig1, ax1 = plt.subplots()\n",
    "ax1.set_title('Basic Plot')\n",
    "ax1.boxplot(exposition['days_exposition'])\n",
    "plt.show()"
   ]
  },
  {
   "cell_type": "code",
   "execution_count": 47,
   "metadata": {},
   "outputs": [
    {
     "data": {
      "text/plain": [
       "<AxesSubplot:>"
      ]
     },
     "execution_count": 47,
     "metadata": {},
     "output_type": "execute_result"
    },
    {
     "data": {
      "image/png": "[encoded data removed]",
      "text/plain": [
       "<Figure size 432x288 with 1 Axes>"
      ]
     },
     "metadata": {
      "needs_background": "light"
     },
     "output_type": "display_data"
    }
   ],
   "source": [
    "data['days_exposition'].hist(bins=100, range=(1, 500))"
   ]
  },
  {
   "cell_type": "markdown",
   "metadata": {},
   "source": [
    "<div class=\"alert alert-info\">  \n",
    "    \n",
    "Describe показывает межквартильный размах - от 45 до 232 дней, ???(на boxplot верхняя граница размаха в районе 500, очень много необоснованно долгих объявлений (выбросов))???. \n",
    "\n",
    "Среднее количество дней с учетом аномальных значений = 180, медиана = 95 дней. На графике видно что есть несколько - явные выбивающиеся, мешающие исследованию. Методом value_counts определили эти значения. Что касается 45, 60, 90, то здесь скорее всего речь идет о конкретных сроках размещения, по истечению которых владельцы должны их продлевать, иначе они автоматически снимаются. Вполне возможно что и значения 7 и 30 дней также являются сроками, которые надо продлевать. \n",
    "\n"
   ]
  },
  {
   "cell_type": "markdown",
   "metadata": {},
   "source": [
    "<div class=\"alert alert-info\"> Если брать межквартильный размах, в данном случае если квартира продалась за 45 дней - это очень быстро, от 45 до 232 - нормально, от 232 до 500 - долго, дольше 500 дней - аномально долго"
   ]
  },
  {
   "cell_type": "markdown",
   "metadata": {},
   "source": [
    "Уберите редкие и выбивающиеся значения. Опишите, какие особенности обнаружили."
   ]
  },
  {
   "cell_type": "code",
   "execution_count": 48,
   "metadata": {},
   "outputs": [
    {
     "data": {
      "text/plain": [
       "45.0    880\n",
       "60.0    538\n",
       "7.0     234\n",
       "30.0    208\n",
       "90.0    204\n",
       "4.0     176\n",
       "3.0     158\n",
       "5.0     152\n",
       "14.0    148\n",
       "9.0     143\n",
       "Name: days_exposition, dtype: int64"
      ]
     },
     "execution_count": 48,
     "metadata": {},
     "output_type": "execute_result"
    }
   ],
   "source": [
    "data['days_exposition'].value_counts().head(10)"
   ]
  },
  {
   "cell_type": "code",
   "execution_count": 49,
   "metadata": {},
   "outputs": [
    {
     "data": {
      "text/plain": [
       "<AxesSubplot:>"
      ]
     },
     "execution_count": 49,
     "metadata": {},
     "output_type": "execute_result"
    },
    {
     "data": {
      "image/png": "[encoded data removed]",
      "text/plain": [
       "<Figure size 360x360 with 1 Axes>"
      ]
     },
     "metadata": {
      "needs_background": "light"
     },
     "output_type": "display_data"
    }
   ],
   "source": [
    "data['days_exposition'].hist(bins=100, range=(1,200), figsize=(5,5))"
   ]
  },
  {
   "cell_type": "code",
   "execution_count": 50,
   "metadata": {},
   "outputs": [
    {
     "data": {
      "text/plain": [
       "45.0      880\n",
       "90.0      204\n",
       "4.0       176\n",
       "3.0       158\n",
       "5.0       152\n",
       "         ... \n",
       "1452.0      1\n",
       "1280.0      1\n",
       "844.0       1\n",
       "1344.0      1\n",
       "1174.0      1\n",
       "Name: days_exposition, Length: 1138, dtype: int64"
      ]
     },
     "execution_count": 50,
     "metadata": {},
     "output_type": "execute_result"
    }
   ],
   "source": [
    "import numpy as np\n",
    "#Избавимся от аномалий\n",
    "good_data = exposition.query('days_exposition !=7 and days_exposition !=30 and days_exposition !=45 and days_exposition !=60 and days_exposition !=90')\n",
    "#good_data = good_data.query(\"days_exposition not in [7,30,45,60,90]\")\n",
    "#good_data = good_data.loc[good_data['days_exposition'] != 90]\n",
    "good_data = good_data.drop(np.where(good_data['days_exposition'] == 90)[0])\n",
    "good_data['days_exposition'].value_counts()\n",
    "#good_data['days_exposition'].hist(bins=100, range=(0,100))"
   ]
  },
  {
   "cell_type": "markdown",
   "metadata": {},
   "source": [
    "<div class=\"alert alert-info\">  Снова проблема - значения 45 и 90 все равно учитываются. Что происходит????"
   ]
  },
  {
   "cell_type": "code",
   "execution_count": 51,
   "metadata": {},
   "outputs": [
    {
     "data": {
      "text/plain": [
       "{'whiskers': [<matplotlib.lines.Line2D at 0x7f898f1ca910>,\n",
       "  <matplotlib.lines.Line2D at 0x7f898f1ca670>],\n",
       " 'caps': [<matplotlib.lines.Line2D at 0x7f898f1e0e80>,\n",
       "  <matplotlib.lines.Line2D at 0x7f898efccca0>],\n",
       " 'boxes': [<matplotlib.lines.Line2D at 0x7f898f1ca100>],\n",
       " 'medians': [<matplotlib.lines.Line2D at 0x7f898efd4f40>],\n",
       " 'fliers': [<matplotlib.lines.Line2D at 0x7f898efd4460>],\n",
       " 'means': []}"
      ]
     },
     "execution_count": 51,
     "metadata": {},
     "output_type": "execute_result"
    },
    {
     "data": {
      "image/png": "[encoded data removed]",
      "text/plain": [
       "<Figure size 432x288 with 1 Axes>"
      ]
     },
     "metadata": {
      "needs_background": "light"
     },
     "output_type": "display_data"
    }
   ],
   "source": [
    "plt.boxplot(good_data['days_exposition'])"
   ]
  },
  {
   "cell_type": "code",
   "execution_count": 52,
   "metadata": {},
   "outputs": [
    {
     "data": {
      "text/plain": [
       "count    19538.000000\n",
       "mean       187.906388\n",
       "std        222.813722\n",
       "min          1.000000\n",
       "25%         45.000000\n",
       "50%        104.000000\n",
       "75%        244.000000\n",
       "max       1580.000000\n",
       "Name: days_exposition, dtype: float64"
      ]
     },
     "execution_count": 52,
     "metadata": {},
     "output_type": "execute_result"
    }
   ],
   "source": [
    "good_data['days_exposition'].describe()"
   ]
  },
  {
   "cell_type": "code",
   "execution_count": 53,
   "metadata": {},
   "outputs": [
    {
     "data": {
      "text/plain": [
       "45.0      880\n",
       "90.0      204\n",
       "4.0       176\n",
       "3.0       158\n",
       "5.0       152\n",
       "         ... \n",
       "1452.0      1\n",
       "1280.0      1\n",
       "844.0       1\n",
       "1344.0      1\n",
       "1174.0      1\n",
       "Name: days_exposition, Length: 1138, dtype: int64"
      ]
     },
     "execution_count": 53,
     "metadata": {},
     "output_type": "execute_result"
    }
   ],
   "source": [
    "good_data['days_exposition'].value_counts()"
   ]
  },
  {
   "cell_type": "markdown",
   "metadata": {},
   "source": [
    "<div class=\"alert alert-info\"> После избавления от аномалий, средний срок размещения (=срок продажи) и медиана увеличились = 195 вместо 156 (mean) и 144 вместо 74 (median). Максимальная граница нормального распределения также сдвинулась вверх до значения в 600 дней.  "
   ]
  },
  {
   "cell_type": "code",
   "execution_count": 54,
   "metadata": {},
   "outputs": [
    {
     "data": {
      "text/plain": [
       "0.9645976623486223"
      ]
     },
     "execution_count": 54,
     "metadata": {},
     "output_type": "execute_result"
    }
   ],
   "source": [
    "good_data2 = data.query('last_price_mln<20 and 2.2<=ceiling_height<=4 and total_area<200')\n",
    "good_data2_ratio = len(good_data2['total_area'])/len(data['total_area'])\n",
    "good_data2_ratio                                                     "
   ]
  },
  {
   "cell_type": "markdown",
   "metadata": {},
   "source": [
    "<div class=\"alert alert-info\"> Исключили 4 процента данных"
   ]
  },
  {
   "cell_type": "markdown",
   "metadata": {},
   "source": [
    "Какие факторы больше всего влияют на стоимость квартиры? Изучите, зависит ли цена от площади, числа комнат, удалённости от центра. Изучите зависимость цены от того, на каком этаже расположена квартира: первом, последнем или другом. Также изучите зависимость от даты размещения: дня недели, месяца и года."
   ]
  },
  {
   "cell_type": "code",
   "execution_count": 55,
   "metadata": {},
   "outputs": [
    {
     "data": {
      "text/plain": [
       "<AxesSubplot:xlabel='total_area'>"
      ]
     },
     "execution_count": 55,
     "metadata": {},
     "output_type": "execute_result"
    },
    {
     "data": {
      "image/png": "[encoded data removed]",
      "text/plain": [
       "<Figure size 1440x360 with 1 Axes>"
      ]
     },
     "metadata": {
      "needs_background": "light"
     },
     "output_type": "display_data"
    }
   ],
   "source": [
    "#зависимость цены кв. метра от общей площади\n",
    "pivot_price_area = data.pivot_table(index = 'total_area', values = 'last_price_mln', aggfunc=['mean', 'median'])\n",
    "#pivot_price_area.mean()\n",
    "pivot_price_area.plot(y='mean', figsize=(20,5), style='o', grid=True)"
   ]
  },
  {
   "cell_type": "code",
   "execution_count": 56,
   "metadata": {},
   "outputs": [
    {
     "data": {
      "text/plain": [
       "0.6536750579657246"
      ]
     },
     "execution_count": 56,
     "metadata": {},
     "output_type": "execute_result"
    }
   ],
   "source": [
    "data['total_area'].corr(data['last_price_mln'])"
   ]
  },
  {
   "cell_type": "markdown",
   "metadata": {},
   "source": [
    "<div class=\"alert alert-info\">\n",
    "коэффициент корреляции высокий - стоимость квартиры увеличивается при увеличении площади. "
   ]
  },
  {
   "cell_type": "code",
   "execution_count": 57,
   "metadata": {},
   "outputs": [
    {
     "data": {
      "text/html": [
       "<div>\n",
       "<style scoped>\n",
       "    .dataframe tbody tr th:only-of-type {\n",
       "        vertical-align: middle;\n",
       "    }\n",
       "\n",
       "    .dataframe tbody tr th {\n",
       "        vertical-align: top;\n",
       "    }\n",
       "\n",
       "    .dataframe thead tr th {\n",
       "        text-align: left;\n",
       "    }\n",
       "\n",
       "    .dataframe thead tr:last-of-type th {\n",
       "        text-align: right;\n",
       "    }\n",
       "</style>\n",
       "<table border=\"1\" class=\"dataframe\">\n",
       "  <thead>\n",
       "    <tr>\n",
       "      <th></th>\n",
       "      <th>mean</th>\n",
       "      <th>count</th>\n",
       "      <th>median</th>\n",
       "    </tr>\n",
       "    <tr>\n",
       "      <th></th>\n",
       "      <th>last_price_mln</th>\n",
       "      <th>last_price_mln</th>\n",
       "      <th>last_price_mln</th>\n",
       "    </tr>\n",
       "    <tr>\n",
       "      <th>rooms</th>\n",
       "      <th></th>\n",
       "      <th></th>\n",
       "      <th></th>\n",
       "    </tr>\n",
       "  </thead>\n",
       "  <tbody>\n",
       "    <tr>\n",
       "      <th>0</th>\n",
       "      <td>3.337724</td>\n",
       "      <td>197</td>\n",
       "      <td>2.700000</td>\n",
       "    </tr>\n",
       "    <tr>\n",
       "      <th>1</th>\n",
       "      <td>3.835362</td>\n",
       "      <td>8047</td>\n",
       "      <td>3.600000</td>\n",
       "    </tr>\n",
       "    <tr>\n",
       "      <th>2</th>\n",
       "      <td>5.591605</td>\n",
       "      <td>7940</td>\n",
       "      <td>4.770169</td>\n",
       "    </tr>\n",
       "    <tr>\n",
       "      <th>3</th>\n",
       "      <td>8.179119</td>\n",
       "      <td>5814</td>\n",
       "      <td>6.200000</td>\n",
       "    </tr>\n",
       "    <tr>\n",
       "      <th>4</th>\n",
       "      <td>13.423497</td>\n",
       "      <td>1180</td>\n",
       "      <td>9.000000</td>\n",
       "    </tr>\n",
       "    <tr>\n",
       "      <th>5</th>\n",
       "      <td>23.762082</td>\n",
       "      <td>326</td>\n",
       "      <td>14.000000</td>\n",
       "    </tr>\n",
       "    <tr>\n",
       "      <th>6</th>\n",
       "      <td>31.709752</td>\n",
       "      <td>105</td>\n",
       "      <td>19.000000</td>\n",
       "    </tr>\n",
       "    <tr>\n",
       "      <th>7</th>\n",
       "      <td>51.470069</td>\n",
       "      <td>59</td>\n",
       "      <td>24.900000</td>\n",
       "    </tr>\n",
       "    <tr>\n",
       "      <th>8</th>\n",
       "      <td>50.224167</td>\n",
       "      <td>12</td>\n",
       "      <td>23.095000</td>\n",
       "    </tr>\n",
       "    <tr>\n",
       "      <th>9</th>\n",
       "      <td>34.152362</td>\n",
       "      <td>8</td>\n",
       "      <td>23.750000</td>\n",
       "    </tr>\n",
       "    <tr>\n",
       "      <th>10</th>\n",
       "      <td>26.166667</td>\n",
       "      <td>3</td>\n",
       "      <td>23.000000</td>\n",
       "    </tr>\n",
       "    <tr>\n",
       "      <th>11</th>\n",
       "      <td>25.250000</td>\n",
       "      <td>2</td>\n",
       "      <td>25.250000</td>\n",
       "    </tr>\n",
       "    <tr>\n",
       "      <th>12</th>\n",
       "      <td>420.000000</td>\n",
       "      <td>1</td>\n",
       "      <td>420.000000</td>\n",
       "    </tr>\n",
       "    <tr>\n",
       "      <th>14</th>\n",
       "      <td>26.829500</td>\n",
       "      <td>2</td>\n",
       "      <td>26.829500</td>\n",
       "    </tr>\n",
       "    <tr>\n",
       "      <th>15</th>\n",
       "      <td>65.000000</td>\n",
       "      <td>1</td>\n",
       "      <td>65.000000</td>\n",
       "    </tr>\n",
       "    <tr>\n",
       "      <th>16</th>\n",
       "      <td>28.500000</td>\n",
       "      <td>1</td>\n",
       "      <td>28.500000</td>\n",
       "    </tr>\n",
       "    <tr>\n",
       "      <th>19</th>\n",
       "      <td>32.250000</td>\n",
       "      <td>1</td>\n",
       "      <td>32.250000</td>\n",
       "    </tr>\n",
       "  </tbody>\n",
       "</table>\n",
       "</div>"
      ],
      "text/plain": [
       "                mean          count         median\n",
       "      last_price_mln last_price_mln last_price_mln\n",
       "rooms                                             \n",
       "0           3.337724            197       2.700000\n",
       "1           3.835362           8047       3.600000\n",
       "2           5.591605           7940       4.770169\n",
       "3           8.179119           5814       6.200000\n",
       "4          13.423497           1180       9.000000\n",
       "5          23.762082            326      14.000000\n",
       "6          31.709752            105      19.000000\n",
       "7          51.470069             59      24.900000\n",
       "8          50.224167             12      23.095000\n",
       "9          34.152362              8      23.750000\n",
       "10         26.166667              3      23.000000\n",
       "11         25.250000              2      25.250000\n",
       "12        420.000000              1     420.000000\n",
       "14         26.829500              2      26.829500\n",
       "15         65.000000              1      65.000000\n",
       "16         28.500000              1      28.500000\n",
       "19         32.250000              1      32.250000"
      ]
     },
     "execution_count": 57,
     "metadata": {},
     "output_type": "execute_result"
    }
   ],
   "source": [
    "#зависимость цены кв. метра от числа комнат\n",
    "pivot_price_rooms = data.pivot_table(index='rooms', values='last_price_mln', aggfunc=['mean', 'count', 'median'])\n",
    "pivot_price_rooms"
   ]
  },
  {
   "cell_type": "code",
   "execution_count": 58,
   "metadata": {},
   "outputs": [
    {
     "data": {
      "text/plain": [
       "<AxesSubplot:xlabel='rooms'>"
      ]
     },
     "execution_count": 58,
     "metadata": {},
     "output_type": "execute_result"
    },
    {
     "data": {
      "image/png": "[encoded data removed]",
      "text/plain": [
       "<Figure size 432x288 with 1 Axes>"
      ]
     },
     "metadata": {
      "needs_background": "light"
     },
     "output_type": "display_data"
    }
   ],
   "source": [
    "pivot_price_rooms.plot(y='median', style='-o')"
   ]
  },
  {
   "cell_type": "code",
   "execution_count": 59,
   "metadata": {},
   "outputs": [
    {
     "data": {
      "text/plain": [
       "0.3633428499648953"
      ]
     },
     "execution_count": 59,
     "metadata": {},
     "output_type": "execute_result"
    }
   ],
   "source": [
    "data['rooms'].corr(data['last_price_mln'])"
   ]
  },
  {
   "cell_type": "markdown",
   "metadata": {},
   "source": [
    "<div class=\"alert alert-info\"> Анализ показывает что количество комнат не так сильно влияет на стоимость квартиры, особенно в самых распространенных планировках (до 4-х комнат)."
   ]
  },
  {
   "cell_type": "code",
   "execution_count": 60,
   "metadata": {},
   "outputs": [
    {
     "data": {
      "text/plain": [
       "<AxesSubplot:xlabel='cityCenters_nearest', ylabel='last_price_mln'>"
      ]
     },
     "execution_count": 60,
     "metadata": {},
     "output_type": "execute_result"
    },
    {
     "data": {
      "image/png": "[encoded data removed]",
      "text/plain": [
       "<Figure size 576x432 with 2 Axes>"
      ]
     },
     "metadata": {
      "needs_background": "light"
     },
     "output_type": "display_data"
    }
   ],
   "source": [
    "#зависимость цены кв. метра от удаленности от центра\n",
    "#data.plot(kind='scatter',  y='price_sq_m', x='cityCenters_nearest', alpha=0.5)\n",
    "data.plot(kind='hexbin', gridsize=10, figsize=(8, 6), sharex=False, grid=True, x='cityCenters_nearest', y='last_price_mln')"
   ]
  },
  {
   "cell_type": "code",
   "execution_count": 61,
   "metadata": {},
   "outputs": [
    {
     "data": {
      "text/plain": [
       "-0.20674734874298373"
      ]
     },
     "execution_count": 61,
     "metadata": {},
     "output_type": "execute_result"
    }
   ],
   "source": [
    "data['cityCenters_nearest'].corr(data['last_price_mln'])"
   ]
  },
  {
   "cell_type": "markdown",
   "metadata": {},
   "source": [
    "<div class=\"alert alert-info\"> Чем дальше от центра, тем дешевле"
   ]
  },
  {
   "cell_type": "code",
   "execution_count": 62,
   "metadata": {},
   "outputs": [
    {
     "data": {
      "text/html": [
       "<div>\n",
       "<style scoped>\n",
       "    .dataframe tbody tr th:only-of-type {\n",
       "        vertical-align: middle;\n",
       "    }\n",
       "\n",
       "    .dataframe tbody tr th {\n",
       "        vertical-align: top;\n",
       "    }\n",
       "\n",
       "    .dataframe thead tr th {\n",
       "        text-align: left;\n",
       "    }\n",
       "\n",
       "    .dataframe thead tr:last-of-type th {\n",
       "        text-align: right;\n",
       "    }\n",
       "</style>\n",
       "<table border=\"1\" class=\"dataframe\">\n",
       "  <thead>\n",
       "    <tr>\n",
       "      <th></th>\n",
       "      <th>mean</th>\n",
       "      <th>count</th>\n",
       "      <th>median</th>\n",
       "    </tr>\n",
       "    <tr>\n",
       "      <th></th>\n",
       "      <th>last_price_mln</th>\n",
       "      <th>last_price_mln</th>\n",
       "      <th>last_price_mln</th>\n",
       "    </tr>\n",
       "    <tr>\n",
       "      <th>floor_category</th>\n",
       "      <th></th>\n",
       "      <th></th>\n",
       "      <th></th>\n",
       "    </tr>\n",
       "  </thead>\n",
       "  <tbody>\n",
       "    <tr>\n",
       "      <th>Другой</th>\n",
       "      <td>6.675444</td>\n",
       "      <td>17446</td>\n",
       "      <td>4.85</td>\n",
       "    </tr>\n",
       "    <tr>\n",
       "      <th>Первый</th>\n",
       "      <td>4.803560</td>\n",
       "      <td>2917</td>\n",
       "      <td>3.90</td>\n",
       "    </tr>\n",
       "    <tr>\n",
       "      <th>Последний</th>\n",
       "      <td>7.361025</td>\n",
       "      <td>3336</td>\n",
       "      <td>4.30</td>\n",
       "    </tr>\n",
       "  </tbody>\n",
       "</table>\n",
       "</div>"
      ],
      "text/plain": [
       "                         mean          count         median\n",
       "               last_price_mln last_price_mln last_price_mln\n",
       "floor_category                                             \n",
       "Другой               6.675444          17446           4.85\n",
       "Первый               4.803560           2917           3.90\n",
       "Последний            7.361025           3336           4.30"
      ]
     },
     "execution_count": 62,
     "metadata": {},
     "output_type": "execute_result"
    }
   ],
   "source": [
    "#зависимость цены кв. метра от этажа (первый, последний, другой)\n",
    "pivot_price_floor = data.pivot_table(index='floor_category', values='last_price_mln', aggfunc=['mean', 'count', 'median'])\n",
    "pivot_price_floor"
   ]
  },
  {
   "cell_type": "code",
   "execution_count": 63,
   "metadata": {},
   "outputs": [
    {
     "data": {
      "text/plain": [
       "<AxesSubplot:xlabel='floor_category'>"
      ]
     },
     "execution_count": 63,
     "metadata": {},
     "output_type": "execute_result"
    },
    {
     "data": {
      "image/png": "[encoded data removed]",
      "text/plain": [
       "<Figure size 432x288 with 1 Axes>"
      ]
     },
     "metadata": {
      "needs_background": "light"
     },
     "output_type": "display_data"
    }
   ],
   "source": [
    "pivot_price_floor.plot(y='mean')"
   ]
  },
  {
   "cell_type": "markdown",
   "metadata": {},
   "source": [
    "<div class=\"alert alert-info\"> Точно можно сказать только то, что первый этаж дешевле, чем последний"
   ]
  },
  {
   "cell_type": "code",
   "execution_count": 64,
   "metadata": {},
   "outputs": [
    {
     "data": {
      "text/plain": [
       "<AxesSubplot:xlabel='weekday_exposition'>"
      ]
     },
     "execution_count": 64,
     "metadata": {},
     "output_type": "execute_result"
    },
    {
     "data": {
      "image/png": "[encoded data removed]",
      "text/plain": [
       "<Figure size 432x288 with 1 Axes>"
      ]
     },
     "metadata": {
      "needs_background": "light"
     },
     "output_type": "display_data"
    }
   ],
   "source": [
    "#зависимость цены кв. метра от даты размещения (дня недели, месяца и года)\n",
    "pivot_price_weekday = data.pivot_table(index='weekday_exposition', values='last_price_mln', aggfunc=['mean', 'count', 'median'])\n",
    "pivot_price_weekday.plot(y='median', style='-o', grid=True)\n"
   ]
  },
  {
   "cell_type": "markdown",
   "metadata": {},
   "source": [
    "<div class=\"alert alert-info\"> По вторникам публикуют объявления с более высокой ценой, в течение недели цена падает, в воскресенье самая низкая. Возможно это связано с тем, что в будни больше публикуют предложений от риэлторов, агентств,  которые выставляют цену с учетом своей комиссии, в то время как по выходным больше частников."
   ]
  },
  {
   "cell_type": "code",
   "execution_count": 65,
   "metadata": {},
   "outputs": [
    {
     "data": {
      "text/plain": [
       "<AxesSubplot:xlabel='month_exposition'>"
      ]
     },
     "execution_count": 65,
     "metadata": {},
     "output_type": "execute_result"
    },
    {
     "data": {
      "image/png": "[encoded data removed]",
      "text/plain": [
       "<Figure size 432x288 with 1 Axes>"
      ]
     },
     "metadata": {
      "needs_background": "light"
     },
     "output_type": "display_data"
    }
   ],
   "source": [
    "pivot_price_month = data.pivot_table(index='month_exposition', values='last_price_mln', aggfunc=['mean', 'count', 'median'])\n",
    "pivot_price_month.plot(y='median', style='-o', grid=True)"
   ]
  },
  {
   "cell_type": "markdown",
   "metadata": {},
   "source": [
    "<div class=\"alert alert-info\"> Играет роль фактор сезонности. Скорее всего именно в середине весны и начале осени повышается спрос на покупку квартиры, банки пересматривают ипотечные ставки, и это толкает цену вверх. Летом и в зимний праздничный сезон деловая активность низкая"
   ]
  },
  {
   "cell_type": "code",
   "execution_count": 66,
   "metadata": {},
   "outputs": [
    {
     "data": {
      "text/plain": [
       "<AxesSubplot:xlabel='year_exposition'>"
      ]
     },
     "execution_count": 66,
     "metadata": {},
     "output_type": "execute_result"
    },
    {
     "data": {
      "image/png": "[encoded data removed]",
      "text/plain": [
       "<Figure size 432x288 with 1 Axes>"
      ]
     },
     "metadata": {
      "needs_background": "light"
     },
     "output_type": "display_data"
    }
   ],
   "source": [
    "pivot_price_year = data.pivot_table(index='year_exposition', values='last_price_mln', aggfunc=['mean', 'count', 'median'])\n",
    "pivot_price_year.plot(y='median', grid=True, style='-o')\n"
   ]
  },
  {
   "cell_type": "markdown",
   "metadata": {},
   "source": [
    "<div class=\"alert alert-info\"> Из-за общей экономической ситуации и снижением покупательской способности населения, наблюдаем спад с 2014 по 2016, в 2016-2018 уровень оставался примерно на одном уровне, и небольшой подъем в 2018. Интересно было бы посмотреть на свежие данные с учетом пандемии и текущих событий "
   ]
  },
  {
   "cell_type": "markdown",
   "metadata": {},
   "source": [
    "Выберите 10 населённых пунктов с наибольшим числом объявлений. Посчитайте среднюю цену квадратного метра в этих населённых пунктах. Выделите населённые пункты с самой высокой и низкой стоимостью жилья. Эти данные можно найти по имени в столбце locality_name"
   ]
  },
  {
   "cell_type": "code",
   "execution_count": 67,
   "metadata": {},
   "outputs": [
    {
     "data": {
      "text/html": [
       "<div>\n",
       "<style scoped>\n",
       "    .dataframe tbody tr th:only-of-type {\n",
       "        vertical-align: middle;\n",
       "    }\n",
       "\n",
       "    .dataframe tbody tr th {\n",
       "        vertical-align: top;\n",
       "    }\n",
       "\n",
       "    .dataframe thead th {\n",
       "        text-align: right;\n",
       "    }\n",
       "</style>\n",
       "<table border=\"1\" class=\"dataframe\">\n",
       "  <thead>\n",
       "    <tr style=\"text-align: right;\">\n",
       "      <th></th>\n",
       "      <th>average_price_sq_m</th>\n",
       "      <th>for_sale</th>\n",
       "    </tr>\n",
       "    <tr>\n",
       "      <th>locality_name</th>\n",
       "      <th></th>\n",
       "      <th></th>\n",
       "    </tr>\n",
       "  </thead>\n",
       "  <tbody>\n",
       "    <tr>\n",
       "      <th>Санкт-Петербург</th>\n",
       "      <td>114848.552891</td>\n",
       "      <td>15721</td>\n",
       "    </tr>\n",
       "    <tr>\n",
       "      <th>посёлок Мурино</th>\n",
       "      <td>85751.727969</td>\n",
       "      <td>522</td>\n",
       "    </tr>\n",
       "    <tr>\n",
       "      <th>посёлок Шушары</th>\n",
       "      <td>78676.893182</td>\n",
       "      <td>440</td>\n",
       "    </tr>\n",
       "    <tr>\n",
       "      <th>Всеволожск</th>\n",
       "      <td>68653.997487</td>\n",
       "      <td>398</td>\n",
       "    </tr>\n",
       "    <tr>\n",
       "      <th>Пушкин</th>\n",
       "      <td>103125.352304</td>\n",
       "      <td>369</td>\n",
       "    </tr>\n",
       "    <tr>\n",
       "      <th>Колпино</th>\n",
       "      <td>75424.144970</td>\n",
       "      <td>338</td>\n",
       "    </tr>\n",
       "    <tr>\n",
       "      <th>посёлок Парголово</th>\n",
       "      <td>90175.477064</td>\n",
       "      <td>327</td>\n",
       "    </tr>\n",
       "    <tr>\n",
       "      <th>Гатчина</th>\n",
       "      <td>68745.684039</td>\n",
       "      <td>307</td>\n",
       "    </tr>\n",
       "    <tr>\n",
       "      <th>деревня Кудрово</th>\n",
       "      <td>92473.070234</td>\n",
       "      <td>299</td>\n",
       "    </tr>\n",
       "    <tr>\n",
       "      <th>Выборг</th>\n",
       "      <td>58141.468354</td>\n",
       "      <td>237</td>\n",
       "    </tr>\n",
       "  </tbody>\n",
       "</table>\n",
       "</div>"
      ],
      "text/plain": [
       "                   average_price_sq_m  for_sale\n",
       "locality_name                                  \n",
       "Санкт-Петербург         114848.552891     15721\n",
       "посёлок Мурино           85751.727969       522\n",
       "посёлок Шушары           78676.893182       440\n",
       "Всеволожск               68653.997487       398\n",
       "Пушкин                  103125.352304       369\n",
       "Колпино                  75424.144970       338\n",
       "посёлок Парголово        90175.477064       327\n",
       "Гатчина                  68745.684039       307\n",
       "деревня Кудрово          92473.070234       299\n",
       "Выборг                   58141.468354       237"
      ]
     },
     "execution_count": 67,
     "metadata": {},
     "output_type": "execute_result"
    }
   ],
   "source": [
    "rating = data.pivot_table(index='locality_name', values='price_sq_m', aggfunc=['mean', 'count'])\n",
    "rating.columns=['average_price_sq_m', 'for_sale']\n",
    "top_ten=rating.sort_values(by='for_sale', ascending=False).head(10)\n",
    "top_ten"
   ]
  },
  {
   "cell_type": "code",
   "execution_count": 68,
   "metadata": {},
   "outputs": [
    {
     "data": {
      "text/html": [
       "<div>\n",
       "<style scoped>\n",
       "    .dataframe tbody tr th:only-of-type {\n",
       "        vertical-align: middle;\n",
       "    }\n",
       "\n",
       "    .dataframe tbody tr th {\n",
       "        vertical-align: top;\n",
       "    }\n",
       "\n",
       "    .dataframe thead th {\n",
       "        text-align: right;\n",
       "    }\n",
       "</style>\n",
       "<table border=\"1\" class=\"dataframe\">\n",
       "  <thead>\n",
       "    <tr style=\"text-align: right;\">\n",
       "      <th></th>\n",
       "      <th>average_price_sq_m</th>\n",
       "      <th>for_sale</th>\n",
       "    </tr>\n",
       "    <tr>\n",
       "      <th>locality_name</th>\n",
       "      <th></th>\n",
       "      <th></th>\n",
       "    </tr>\n",
       "  </thead>\n",
       "  <tbody>\n",
       "    <tr>\n",
       "      <th>Выборг</th>\n",
       "      <td>58141.468354</td>\n",
       "      <td>237</td>\n",
       "    </tr>\n",
       "  </tbody>\n",
       "</table>\n",
       "</div>"
      ],
      "text/plain": [
       "               average_price_sq_m  for_sale\n",
       "locality_name                              \n",
       "Выборг               58141.468354       237"
      ]
     },
     "execution_count": 68,
     "metadata": {},
     "output_type": "execute_result"
    }
   ],
   "source": [
    "top_ten.query('average_price_sq_m==average_price_sq_m.min()')\n",
    "#rating.query('average_price_sq_m==average_price_sq_m.min()')"
   ]
  },
  {
   "cell_type": "code",
   "execution_count": 69,
   "metadata": {},
   "outputs": [
    {
     "data": {
      "text/html": [
       "<div>\n",
       "<style scoped>\n",
       "    .dataframe tbody tr th:only-of-type {\n",
       "        vertical-align: middle;\n",
       "    }\n",
       "\n",
       "    .dataframe tbody tr th {\n",
       "        vertical-align: top;\n",
       "    }\n",
       "\n",
       "    .dataframe thead th {\n",
       "        text-align: right;\n",
       "    }\n",
       "</style>\n",
       "<table border=\"1\" class=\"dataframe\">\n",
       "  <thead>\n",
       "    <tr style=\"text-align: right;\">\n",
       "      <th></th>\n",
       "      <th>average_price_sq_m</th>\n",
       "      <th>for_sale</th>\n",
       "    </tr>\n",
       "    <tr>\n",
       "      <th>locality_name</th>\n",
       "      <th></th>\n",
       "      <th></th>\n",
       "    </tr>\n",
       "  </thead>\n",
       "  <tbody>\n",
       "    <tr>\n",
       "      <th>Санкт-Петербург</th>\n",
       "      <td>114848.552891</td>\n",
       "      <td>15721</td>\n",
       "    </tr>\n",
       "  </tbody>\n",
       "</table>\n",
       "</div>"
      ],
      "text/plain": [
       "                 average_price_sq_m  for_sale\n",
       "locality_name                                \n",
       "Санкт-Петербург       114848.552891     15721"
      ]
     },
     "execution_count": 69,
     "metadata": {},
     "output_type": "execute_result"
    }
   ],
   "source": [
    "top_ten.query('average_price_sq_m==average_price_sq_m.max()')\n",
    "#rating.query('average_price_sq_m==average_price_sq_m.max()')"
   ]
  },
  {
   "cell_type": "markdown",
   "metadata": {},
   "source": [
    "<div class=\"alert alert-info\"> \n",
    "Из топ-10 регионов в Санкт-Петербурге с самой высокой ценой за квадратный метр 1-е место занимает Санкт-Петербург,\n",
    "\n",
    "10-е место - у Выборга"
   ]
  },
  {
   "cell_type": "markdown",
   "metadata": {},
   "source": [
    "Изучите предложения квартир: для каждой квартиры есть информация о расстоянии до центра. Выделите квартиры в Санкт-Петербурге (locality_name). Ваша задача — выяснить, какая область входит в центр. Создайте столбец с расстоянием до центра в километрах: округлите до целых значений. После этого посчитайте среднюю цену для каждого километра. Постройте график: он должен показывать, как цена зависит от удалённости от центра. Определите границу, где график сильно меняется, — это и будет центральная зона."
   ]
  },
  {
   "cell_type": "code",
   "execution_count": 70,
   "metadata": {},
   "outputs": [
    {
     "data": {
      "text/plain": [
       "9640     65968.0\n",
       "5340     65952.0\n",
       "577      65764.0\n",
       "20746    65105.0\n",
       "5218     64857.0\n",
       "Name: cityCenters_nearest, dtype: float64"
      ]
     },
     "execution_count": 70,
     "metadata": {},
     "output_type": "execute_result"
    }
   ],
   "source": [
    "data['cityCenters_nearest'].sort_values(ascending=False).head()"
   ]
  },
  {
   "cell_type": "code",
   "execution_count": 71,
   "metadata": {},
   "outputs": [],
   "source": [
    "#с учетом sort_values, заменим пропуски на 70 км - условную границу\n",
    "data['cityCenters_nearest'] = data['cityCenters_nearest'].fillna(70000)\n",
    "data['cityCenters_nearest_km'] = data['cityCenters_nearest']/1000\n",
    "data['cityCenters_nearest_km'] = data['cityCenters_nearest_km'].astype('int')"
   ]
  },
  {
   "cell_type": "code",
   "execution_count": 72,
   "metadata": {},
   "outputs": [
    {
     "data": {
      "text/html": [
       "<div>\n",
       "<style scoped>\n",
       "    .dataframe tbody tr th:only-of-type {\n",
       "        vertical-align: middle;\n",
       "    }\n",
       "\n",
       "    .dataframe tbody tr th {\n",
       "        vertical-align: top;\n",
       "    }\n",
       "\n",
       "    .dataframe thead th {\n",
       "        text-align: right;\n",
       "    }\n",
       "</style>\n",
       "<table border=\"1\" class=\"dataframe\">\n",
       "  <thead>\n",
       "    <tr style=\"text-align: right;\">\n",
       "      <th></th>\n",
       "      <th>last_price_mln</th>\n",
       "    </tr>\n",
       "    <tr>\n",
       "      <th>cityCenters_nearest_km</th>\n",
       "      <th></th>\n",
       "    </tr>\n",
       "  </thead>\n",
       "  <tbody>\n",
       "    <tr>\n",
       "      <th>0</th>\n",
       "      <td>23.442315</td>\n",
       "    </tr>\n",
       "    <tr>\n",
       "      <th>1</th>\n",
       "      <td>18.850852</td>\n",
       "    </tr>\n",
       "    <tr>\n",
       "      <th>2</th>\n",
       "      <td>16.163314</td>\n",
       "    </tr>\n",
       "    <tr>\n",
       "      <th>3</th>\n",
       "      <td>13.436831</td>\n",
       "    </tr>\n",
       "    <tr>\n",
       "      <th>4</th>\n",
       "      <td>13.632025</td>\n",
       "    </tr>\n",
       "    <tr>\n",
       "      <th>5</th>\n",
       "      <td>15.306121</td>\n",
       "    </tr>\n",
       "    <tr>\n",
       "      <th>6</th>\n",
       "      <td>14.389106</td>\n",
       "    </tr>\n",
       "    <tr>\n",
       "      <th>7</th>\n",
       "      <td>12.797674</td>\n",
       "    </tr>\n",
       "    <tr>\n",
       "      <th>8</th>\n",
       "      <td>8.445272</td>\n",
       "    </tr>\n",
       "    <tr>\n",
       "      <th>9</th>\n",
       "      <td>6.426055</td>\n",
       "    </tr>\n",
       "    <tr>\n",
       "      <th>10</th>\n",
       "      <td>6.376092</td>\n",
       "    </tr>\n",
       "    <tr>\n",
       "      <th>11</th>\n",
       "      <td>5.977039</td>\n",
       "    </tr>\n",
       "    <tr>\n",
       "      <th>12</th>\n",
       "      <td>5.972820</td>\n",
       "    </tr>\n",
       "    <tr>\n",
       "      <th>13</th>\n",
       "      <td>6.022927</td>\n",
       "    </tr>\n",
       "    <tr>\n",
       "      <th>14</th>\n",
       "      <td>5.769469</td>\n",
       "    </tr>\n",
       "    <tr>\n",
       "      <th>15</th>\n",
       "      <td>5.545776</td>\n",
       "    </tr>\n",
       "    <tr>\n",
       "      <th>16</th>\n",
       "      <td>5.527928</td>\n",
       "    </tr>\n",
       "    <tr>\n",
       "      <th>17</th>\n",
       "      <td>4.865574</td>\n",
       "    </tr>\n",
       "    <tr>\n",
       "      <th>18</th>\n",
       "      <td>5.334929</td>\n",
       "    </tr>\n",
       "    <tr>\n",
       "      <th>19</th>\n",
       "      <td>4.678756</td>\n",
       "    </tr>\n",
       "    <tr>\n",
       "      <th>20</th>\n",
       "      <td>6.365864</td>\n",
       "    </tr>\n",
       "    <tr>\n",
       "      <th>21</th>\n",
       "      <td>5.183239</td>\n",
       "    </tr>\n",
       "    <tr>\n",
       "      <th>22</th>\n",
       "      <td>5.425513</td>\n",
       "    </tr>\n",
       "    <tr>\n",
       "      <th>23</th>\n",
       "      <td>4.126867</td>\n",
       "    </tr>\n",
       "    <tr>\n",
       "      <th>24</th>\n",
       "      <td>3.862235</td>\n",
       "    </tr>\n",
       "    <tr>\n",
       "      <th>25</th>\n",
       "      <td>4.014913</td>\n",
       "    </tr>\n",
       "    <tr>\n",
       "      <th>26</th>\n",
       "      <td>3.575000</td>\n",
       "    </tr>\n",
       "    <tr>\n",
       "      <th>27</th>\n",
       "      <td>8.300000</td>\n",
       "    </tr>\n",
       "    <tr>\n",
       "      <th>28</th>\n",
       "      <td>4.910500</td>\n",
       "    </tr>\n",
       "    <tr>\n",
       "      <th>29</th>\n",
       "      <td>3.833333</td>\n",
       "    </tr>\n",
       "  </tbody>\n",
       "</table>\n",
       "</div>"
      ],
      "text/plain": [
       "                        last_price_mln\n",
       "cityCenters_nearest_km                \n",
       "0                            23.442315\n",
       "1                            18.850852\n",
       "2                            16.163314\n",
       "3                            13.436831\n",
       "4                            13.632025\n",
       "5                            15.306121\n",
       "6                            14.389106\n",
       "7                            12.797674\n",
       "8                             8.445272\n",
       "9                             6.426055\n",
       "10                            6.376092\n",
       "11                            5.977039\n",
       "12                            5.972820\n",
       "13                            6.022927\n",
       "14                            5.769469\n",
       "15                            5.545776\n",
       "16                            5.527928\n",
       "17                            4.865574\n",
       "18                            5.334929\n",
       "19                            4.678756\n",
       "20                            6.365864\n",
       "21                            5.183239\n",
       "22                            5.425513\n",
       "23                            4.126867\n",
       "24                            3.862235\n",
       "25                            4.014913\n",
       "26                            3.575000\n",
       "27                            8.300000\n",
       "28                            4.910500\n",
       "29                            3.833333"
      ]
     },
     "execution_count": 72,
     "metadata": {},
     "output_type": "execute_result"
    }
   ],
   "source": [
    "spb_center=data.query('locality_name==\"Санкт-Петербург\" and cityCenters_nearest_km < 70').pivot_table(index='cityCenters_nearest_km', values='last_price_mln', aggfunc='mean')\n",
    "spb_center"
   ]
  },
  {
   "cell_type": "code",
   "execution_count": 73,
   "metadata": {},
   "outputs": [
    {
     "data": {
      "text/plain": [
       "<AxesSubplot:xlabel='cityCenters_nearest_km'>"
      ]
     },
     "execution_count": 73,
     "metadata": {},
     "output_type": "execute_result"
    },
    {
     "data": {
      "image/png": "[encoded data removed]",
      "text/plain": [
       "<Figure size 432x288 with 1 Axes>"
      ]
     },
     "metadata": {
      "needs_background": "light"
     },
     "output_type": "display_data"
    }
   ],
   "source": [
    "spb_center.plot(grid=True)"
   ]
  },
  {
   "cell_type": "markdown",
   "metadata": {},
   "source": [
    "<div class=\"alert alert-info\"> Радиус центральной зоны Санкт-Петербурга = 6 км"
   ]
  },
  {
   "cell_type": "markdown",
   "metadata": {},
   "source": [
    "Выделите сегмент квартир в центре. Проанализируйте эту территорию и изучите следующие параметры: площадь, цена, число комнат, высота потолков. Также выделите факторы, которые влияют на стоимость квартиры (число комнат, этаж, удалённость от центра, дата размещения объявления). Сделайте выводы. Отличаются ли они от общих выводов по всей базе?"
   ]
  },
  {
   "cell_type": "code",
   "execution_count": 74,
   "metadata": {},
   "outputs": [
    {
     "data": {
      "text/html": [
       "<div>\n",
       "<style scoped>\n",
       "    .dataframe tbody tr th:only-of-type {\n",
       "        vertical-align: middle;\n",
       "    }\n",
       "\n",
       "    .dataframe tbody tr th {\n",
       "        vertical-align: top;\n",
       "    }\n",
       "\n",
       "    .dataframe thead th {\n",
       "        text-align: right;\n",
       "    }\n",
       "</style>\n",
       "<table border=\"1\" class=\"dataframe\">\n",
       "  <thead>\n",
       "    <tr style=\"text-align: right;\">\n",
       "      <th></th>\n",
       "      <th>total_images</th>\n",
       "      <th>last_price_mln</th>\n",
       "      <th>total_area</th>\n",
       "      <th>first_day_exposition</th>\n",
       "      <th>rooms</th>\n",
       "      <th>ceiling_height</th>\n",
       "      <th>floors_total</th>\n",
       "      <th>living_area</th>\n",
       "      <th>floor</th>\n",
       "      <th>is_apartment</th>\n",
       "      <th>...</th>\n",
       "      <th>ponds_nearest</th>\n",
       "      <th>days_exposition</th>\n",
       "      <th>living_area_ratio</th>\n",
       "      <th>price_sq_m</th>\n",
       "      <th>weekday_exposition</th>\n",
       "      <th>month_exposition</th>\n",
       "      <th>year_exposition</th>\n",
       "      <th>floor_category</th>\n",
       "      <th>kitchen_area_ratio</th>\n",
       "      <th>cityCenters_nearest_km</th>\n",
       "    </tr>\n",
       "  </thead>\n",
       "  <tbody>\n",
       "    <tr>\n",
       "      <th>24</th>\n",
       "      <td>8</td>\n",
       "      <td>6.50</td>\n",
       "      <td>97.2</td>\n",
       "      <td>2015-10-31</td>\n",
       "      <td>2</td>\n",
       "      <td>2.65</td>\n",
       "      <td>3.0</td>\n",
       "      <td>46.5</td>\n",
       "      <td>1</td>\n",
       "      <td>False</td>\n",
       "      <td>...</td>\n",
       "      <td>124.0</td>\n",
       "      <td>265.0</td>\n",
       "      <td>0.48</td>\n",
       "      <td>66872</td>\n",
       "      <td>5</td>\n",
       "      <td>10</td>\n",
       "      <td>2015</td>\n",
       "      <td>Первый</td>\n",
       "      <td>0.20</td>\n",
       "      <td>2</td>\n",
       "    </tr>\n",
       "    <tr>\n",
       "      <th>35</th>\n",
       "      <td>6</td>\n",
       "      <td>15.50</td>\n",
       "      <td>149.0</td>\n",
       "      <td>2017-06-26</td>\n",
       "      <td>5</td>\n",
       "      <td>2.65</td>\n",
       "      <td>5.0</td>\n",
       "      <td>104.0</td>\n",
       "      <td>4</td>\n",
       "      <td>False</td>\n",
       "      <td>...</td>\n",
       "      <td>779.0</td>\n",
       "      <td>644.0</td>\n",
       "      <td>0.70</td>\n",
       "      <td>104026</td>\n",
       "      <td>0</td>\n",
       "      <td>6</td>\n",
       "      <td>2017</td>\n",
       "      <td>Другой</td>\n",
       "      <td>0.11</td>\n",
       "      <td>3</td>\n",
       "    </tr>\n",
       "    <tr>\n",
       "      <th>61</th>\n",
       "      <td>18</td>\n",
       "      <td>7.99</td>\n",
       "      <td>74.0</td>\n",
       "      <td>2017-08-24</td>\n",
       "      <td>2</td>\n",
       "      <td>2.65</td>\n",
       "      <td>4.0</td>\n",
       "      <td>43.0</td>\n",
       "      <td>4</td>\n",
       "      <td>False</td>\n",
       "      <td>...</td>\n",
       "      <td>NaN</td>\n",
       "      <td>609.0</td>\n",
       "      <td>0.58</td>\n",
       "      <td>107972</td>\n",
       "      <td>3</td>\n",
       "      <td>8</td>\n",
       "      <td>2017</td>\n",
       "      <td>Последний</td>\n",
       "      <td>0.27</td>\n",
       "      <td>4</td>\n",
       "    </tr>\n",
       "    <tr>\n",
       "      <th>63</th>\n",
       "      <td>2</td>\n",
       "      <td>20.00</td>\n",
       "      <td>118.0</td>\n",
       "      <td>2018-09-11</td>\n",
       "      <td>3</td>\n",
       "      <td>3.00</td>\n",
       "      <td>9.0</td>\n",
       "      <td>68.0</td>\n",
       "      <td>7</td>\n",
       "      <td>False</td>\n",
       "      <td>...</td>\n",
       "      <td>779.0</td>\n",
       "      <td>37.0</td>\n",
       "      <td>0.58</td>\n",
       "      <td>169491</td>\n",
       "      <td>1</td>\n",
       "      <td>9</td>\n",
       "      <td>2018</td>\n",
       "      <td>Другой</td>\n",
       "      <td>0.14</td>\n",
       "      <td>4</td>\n",
       "    </tr>\n",
       "    <tr>\n",
       "      <th>99</th>\n",
       "      <td>32</td>\n",
       "      <td>9.60</td>\n",
       "      <td>90.0</td>\n",
       "      <td>2017-09-26</td>\n",
       "      <td>4</td>\n",
       "      <td>2.65</td>\n",
       "      <td>5.0</td>\n",
       "      <td>67.0</td>\n",
       "      <td>2</td>\n",
       "      <td>False</td>\n",
       "      <td>...</td>\n",
       "      <td>NaN</td>\n",
       "      <td>104.0</td>\n",
       "      <td>0.74</td>\n",
       "      <td>106666</td>\n",
       "      <td>1</td>\n",
       "      <td>9</td>\n",
       "      <td>2017</td>\n",
       "      <td>Другой</td>\n",
       "      <td>0.09</td>\n",
       "      <td>2</td>\n",
       "    </tr>\n",
       "  </tbody>\n",
       "</table>\n",
       "<p>5 rows × 30 columns</p>\n",
       "</div>"
      ],
      "text/plain": [
       "    total_images  last_price_mln  total_area first_day_exposition  rooms  \\\n",
       "24             8            6.50        97.2           2015-10-31      2   \n",
       "35             6           15.50       149.0           2017-06-26      5   \n",
       "61            18            7.99        74.0           2017-08-24      2   \n",
       "63             2           20.00       118.0           2018-09-11      3   \n",
       "99            32            9.60        90.0           2017-09-26      4   \n",
       "\n",
       "    ceiling_height  floors_total  living_area  floor  is_apartment  ...  \\\n",
       "24            2.65           3.0         46.5      1         False  ...   \n",
       "35            2.65           5.0        104.0      4         False  ...   \n",
       "61            2.65           4.0         43.0      4         False  ...   \n",
       "63            3.00           9.0         68.0      7         False  ...   \n",
       "99            2.65           5.0         67.0      2         False  ...   \n",
       "\n",
       "    ponds_nearest  days_exposition  living_area_ratio  price_sq_m  \\\n",
       "24          124.0            265.0               0.48       66872   \n",
       "35          779.0            644.0               0.70      104026   \n",
       "61            NaN            609.0               0.58      107972   \n",
       "63          779.0             37.0               0.58      169491   \n",
       "99            NaN            104.0               0.74      106666   \n",
       "\n",
       "   weekday_exposition  month_exposition  year_exposition  floor_category  \\\n",
       "24                  5                10             2015          Первый   \n",
       "35                  0                 6             2017          Другой   \n",
       "61                  3                 8             2017       Последний   \n",
       "63                  1                 9             2018          Другой   \n",
       "99                  1                 9             2017          Другой   \n",
       "\n",
       "    kitchen_area_ratio  cityCenters_nearest_km  \n",
       "24                0.20                       2  \n",
       "35                0.11                       3  \n",
       "61                0.27                       4  \n",
       "63                0.14                       4  \n",
       "99                0.09                       2  \n",
       "\n",
       "[5 rows x 30 columns]"
      ]
     },
     "execution_count": 74,
     "metadata": {},
     "output_type": "execute_result"
    }
   ],
   "source": [
    "piter_data = data.query('locality_name==\"Санкт-Петербург\" and cityCenters_nearest_km<6')\n",
    "piter_data.head()"
   ]
  },
  {
   "cell_type": "code",
   "execution_count": 75,
   "metadata": {},
   "outputs": [
    {
     "data": {
      "text/plain": [
       "count    2835.000000\n",
       "mean       96.064526\n",
       "std        60.793969\n",
       "min        12.000000\n",
       "25%        60.000000\n",
       "50%        82.000000\n",
       "75%       113.000000\n",
       "max       631.200000\n",
       "Name: total_area, dtype: float64"
      ]
     },
     "execution_count": 75,
     "metadata": {},
     "output_type": "execute_result"
    }
   ],
   "source": [
    "piter_data['total_area'].describe()"
   ]
  },
  {
   "cell_type": "markdown",
   "metadata": {},
   "source": [
    "<div class=\"alert alert-info\"> Средняя площадь квартиры в центре = 96 кв.м, минимальная = 12 кв.м, максимальная = 631. \n",
    "    \n",
    "Межквартильный размах = от 60 до 113 кв.м."
   ]
  },
  {
   "cell_type": "code",
   "execution_count": 76,
   "metadata": {},
   "outputs": [
    {
     "data": {
      "text/plain": [
       "count    2835.000000\n",
       "mean       15.063424\n",
       "std        25.479547\n",
       "min         1.600000\n",
       "25%         6.900000\n",
       "50%         9.490000\n",
       "75%        14.650000\n",
       "max       763.000000\n",
       "Name: last_price_mln, dtype: float64"
      ]
     },
     "execution_count": 76,
     "metadata": {},
     "output_type": "execute_result"
    }
   ],
   "source": [
    "piter_data['last_price_mln'].describe()"
   ]
  },
  {
   "cell_type": "code",
   "execution_count": 77,
   "metadata": {},
   "outputs": [
    {
     "data": {
      "text/plain": [
       "23394      1.6000\n",
       "19558      1.6860\n",
       "17753      1.8000\n",
       "19546      1.8500\n",
       "10208      1.9000\n",
       "           ...   \n",
       "22831    289.2384\n",
       "15651    300.0000\n",
       "1436     330.0000\n",
       "14706    401.3000\n",
       "12971    763.0000\n",
       "Name: last_price_mln, Length: 2835, dtype: float64"
      ]
     },
     "execution_count": 77,
     "metadata": {},
     "output_type": "execute_result"
    }
   ],
   "source": [
    "piter_data['last_price_mln'].sort_values()"
   ]
  },
  {
   "cell_type": "markdown",
   "metadata": {},
   "source": [
    "<div class=\"alert alert-info\">Показатели цены в центре в два раза превышают общегородские"
   ]
  },
  {
   "cell_type": "code",
   "execution_count": 78,
   "metadata": {},
   "outputs": [
    {
     "data": {
      "text/plain": [
       "count    2835.000000\n",
       "mean        2.948148\n",
       "std         1.506207\n",
       "min         0.000000\n",
       "25%         2.000000\n",
       "50%         3.000000\n",
       "75%         4.000000\n",
       "max        19.000000\n",
       "Name: rooms, dtype: float64"
      ]
     },
     "execution_count": 78,
     "metadata": {},
     "output_type": "execute_result"
    }
   ],
   "source": [
    "piter_data['rooms'].describe()"
   ]
  },
  {
   "cell_type": "code",
   "execution_count": 79,
   "metadata": {},
   "outputs": [
    {
     "data": {
      "text/plain": [
       "3     870\n",
       "2     786\n",
       "4     434\n",
       "1     379\n",
       "5     207\n",
       "6      76\n",
       "7      51\n",
       "0      11\n",
       "8      10\n",
       "9       3\n",
       "10      2\n",
       "11      2\n",
       "14      1\n",
       "16      1\n",
       "15      1\n",
       "19      1\n",
       "Name: rooms, dtype: int64"
      ]
     },
     "execution_count": 79,
     "metadata": {},
     "output_type": "execute_result"
    }
   ],
   "source": [
    "piter_data['rooms'].value_counts()"
   ]
  },
  {
   "cell_type": "markdown",
   "metadata": {},
   "source": [
    "<div class=\"alert alert-info\"> В отличие от общих данных, в центре трешки самые продаваемые, а предложений по продаже 4хкомнатных больше, чем однушек - люди неохотно продают маленькие квартиры в центре, а спрос на них всегда высокий."
   ]
  },
  {
   "cell_type": "code",
   "execution_count": 80,
   "metadata": {},
   "outputs": [
    {
     "data": {
      "text/plain": [
       "count    2835.000000\n",
       "mean        2.987235\n",
       "std         0.803991\n",
       "min         2.400000\n",
       "25%         2.650000\n",
       "50%         2.900000\n",
       "75%         3.200000\n",
       "max        32.000000\n",
       "Name: ceiling_height, dtype: float64"
      ]
     },
     "execution_count": 80,
     "metadata": {},
     "output_type": "execute_result"
    }
   ],
   "source": [
    "piter_data['ceiling_height'].describe()"
   ]
  },
  {
   "cell_type": "code",
   "execution_count": 81,
   "metadata": {},
   "outputs": [
    {
     "data": {
      "text/plain": [
       "2.65     978\n",
       "3.00     352\n",
       "3.20     154\n",
       "3.50     101\n",
       "2.70     100\n",
       "        ... \n",
       "3.43       1\n",
       "27.00      1\n",
       "3.24       1\n",
       "4.14       1\n",
       "3.42       1\n",
       "Name: ceiling_height, Length: 141, dtype: int64"
      ]
     },
     "execution_count": 81,
     "metadata": {},
     "output_type": "execute_result"
    }
   ],
   "source": [
    "piter_data['ceiling_height'].value_counts()"
   ]
  },
  {
   "cell_type": "markdown",
   "metadata": {},
   "source": [
    "<div class=\"alert alert-info\"> Тут ситуация по сути такая же как и общая по городу"
   ]
  },
  {
   "cell_type": "markdown",
   "metadata": {},
   "source": [
    "Также выделите факторы, которые влияют на стоимость квартиры (число комнат, этаж, удалённость от центра, дата размещения объявления). Сделайте выводы. Отличаются ли они от общих выводов по всей базе?"
   ]
  },
  {
   "cell_type": "code",
   "execution_count": 82,
   "metadata": {},
   "outputs": [
    {
     "data": {
      "text/plain": [
       "<AxesSubplot:xlabel='rooms'>"
      ]
     },
     "execution_count": 82,
     "metadata": {},
     "output_type": "execute_result"
    },
    {
     "data": {
      "image/png": "[encoded data removed]",
      "text/plain": [
       "<Figure size 432x288 with 1 Axes>"
      ]
     },
     "metadata": {
      "needs_background": "light"
     },
     "output_type": "display_data"
    }
   ],
   "source": [
    "rooms_piter_data = piter_data.pivot_table(index='rooms', values='last_price_mln', aggfunc=('mean', 'count', 'median'))\n",
    "rooms_piter_data.plot(y='median', style='-o')"
   ]
  },
  {
   "cell_type": "code",
   "execution_count": 83,
   "metadata": {},
   "outputs": [
    {
     "data": {
      "text/plain": [
       "0.2969637823030159"
      ]
     },
     "execution_count": 83,
     "metadata": {},
     "output_type": "execute_result"
    }
   ],
   "source": [
    "piter_data['rooms'].corr(piter_data['last_price_mln'])"
   ]
  },
  {
   "cell_type": "markdown",
   "metadata": {},
   "source": [
    "<div class=\"alert alert-info\"> В \"золотом треугольнике\" картина от общей отличается: чем больше комнат - тем выше цена  "
   ]
  },
  {
   "cell_type": "code",
   "execution_count": 84,
   "metadata": {},
   "outputs": [
    {
     "data": {
      "text/plain": [
       "<AxesSubplot:xlabel='floor_category'>"
      ]
     },
     "execution_count": 84,
     "metadata": {},
     "output_type": "execute_result"
    },
    {
     "data": {
      "image/png": "[encoded data removed]",
      "text/plain": [
       "<Figure size 432x288 with 1 Axes>"
      ]
     },
     "metadata": {
      "needs_background": "light"
     },
     "output_type": "display_data"
    }
   ],
   "source": [
    "floors_piter_data = piter_data.pivot_table(index='floor_category', values='last_price_mln', aggfunc=('mean', 'count', 'median'))\n",
    "floors_piter_data.plot(y='median', style='-o')"
   ]
  },
  {
   "cell_type": "code",
   "execution_count": 85,
   "metadata": {},
   "outputs": [
    {
     "data": {
      "text/html": [
       "<div>\n",
       "<style scoped>\n",
       "    .dataframe tbody tr th:only-of-type {\n",
       "        vertical-align: middle;\n",
       "    }\n",
       "\n",
       "    .dataframe tbody tr th {\n",
       "        vertical-align: top;\n",
       "    }\n",
       "\n",
       "    .dataframe thead th {\n",
       "        text-align: right;\n",
       "    }\n",
       "</style>\n",
       "<table border=\"1\" class=\"dataframe\">\n",
       "  <thead>\n",
       "    <tr style=\"text-align: right;\">\n",
       "      <th></th>\n",
       "      <th>mean</th>\n",
       "      <th>median</th>\n",
       "    </tr>\n",
       "    <tr>\n",
       "      <th>floor_category</th>\n",
       "      <th></th>\n",
       "      <th></th>\n",
       "    </tr>\n",
       "  </thead>\n",
       "  <tbody>\n",
       "    <tr>\n",
       "      <th>Другой</th>\n",
       "      <td>14.944341</td>\n",
       "      <td>9.90</td>\n",
       "    </tr>\n",
       "    <tr>\n",
       "      <th>Первый</th>\n",
       "      <td>9.449389</td>\n",
       "      <td>6.83</td>\n",
       "    </tr>\n",
       "    <tr>\n",
       "      <th>Последний</th>\n",
       "      <td>18.997265</td>\n",
       "      <td>9.70</td>\n",
       "    </tr>\n",
       "  </tbody>\n",
       "</table>\n",
       "</div>"
      ],
      "text/plain": [
       "                     mean  median\n",
       "floor_category                   \n",
       "Другой          14.944341    9.90\n",
       "Первый           9.449389    6.83\n",
       "Последний       18.997265    9.70"
      ]
     },
     "execution_count": 85,
     "metadata": {},
     "output_type": "execute_result"
    }
   ],
   "source": [
    "piter_data.pivot_table(index='floor_category', values = 'last_price_mln', aggfunc=('mean', 'median'))"
   ]
  },
  {
   "cell_type": "markdown",
   "metadata": {},
   "source": [
    "<div class=\"alert alert-info\"> Интересно, что здесь, в отличие от общих данных, цены первого и последнего этажа практически одинаковы. Получается, не важно нак каком этаже, главное - в центре ))"
   ]
  },
  {
   "cell_type": "code",
   "execution_count": 86,
   "metadata": {},
   "outputs": [
    {
     "data": {
      "text/plain": [
       "<AxesSubplot:xlabel='cityCenters_nearest', ylabel='last_price_mln'>"
      ]
     },
     "execution_count": 86,
     "metadata": {},
     "output_type": "execute_result"
    },
    {
     "data": {
      "image/png": "[encoded data removed]",
      "text/plain": [
       "<Figure size 432x288 with 1 Axes>"
      ]
     },
     "metadata": {
      "needs_background": "light"
     },
     "output_type": "display_data"
    }
   ],
   "source": [
    "piter_data.plot(kind='scatter', x='cityCenters_nearest', y='last_price_mln', grid=True, alpha=0.3 )\n",
    "#piter_data.plot(kind='hexbin', gridsize=20, figsize=(8, 6), sharex=False, grid=True, x='cityCenters_nearest', y='price_sq_m')"
   ]
  },
  {
   "cell_type": "code",
   "execution_count": 87,
   "metadata": {},
   "outputs": [
    {
     "data": {
      "text/plain": [
       "-0.062300401942798504"
      ]
     },
     "execution_count": 87,
     "metadata": {},
     "output_type": "execute_result"
    }
   ],
   "source": [
    "piter_data['cityCenters_nearest'].corr(piter_data['price_sq_m'])"
   ]
  },
  {
   "cell_type": "markdown",
   "metadata": {},
   "source": [
    "<div class=\"alert alert-info\">В пределах изучаемых границ центральной зоны радиусом 6 км зависимость уже не наблюдается, что ожидаемо."
   ]
  },
  {
   "cell_type": "code",
   "execution_count": 88,
   "metadata": {},
   "outputs": [
    {
     "data": {
      "text/plain": [
       "<AxesSubplot:xlabel='weekday_exposition'>"
      ]
     },
     "execution_count": 88,
     "metadata": {},
     "output_type": "execute_result"
    },
    {
     "data": {
      "image/png": "[encoded data removed]",
      "text/plain": [
       "<Figure size 432x288 with 1 Axes>"
      ]
     },
     "metadata": {
      "needs_background": "light"
     },
     "output_type": "display_data"
    }
   ],
   "source": [
    "weekday_piter_data = piter_data.pivot_table(index='weekday_exposition', values='last_price_mln', aggfunc=['mean', 'count', 'median'])\n",
    "weekday_piter_data.plot(y='median', style='-o')"
   ]
  },
  {
   "cell_type": "raw",
   "metadata": {},
   "source": [
    "<div class=\"alert alert-info\"> Наблюдается спад активности во второй половине рабочей недели, и новый всплеск на выходных"
   ]
  },
  {
   "cell_type": "code",
   "execution_count": 89,
   "metadata": {},
   "outputs": [
    {
     "data": {
      "text/plain": [
       "<AxesSubplot:xlabel='month_exposition'>"
      ]
     },
     "execution_count": 89,
     "metadata": {},
     "output_type": "execute_result"
    },
    {
     "data": {
      "image/png": "[encoded data removed]",
      "text/plain": [
       "<Figure size 432x288 with 1 Axes>"
      ]
     },
     "metadata": {
      "needs_background": "light"
     },
     "output_type": "display_data"
    }
   ],
   "source": [
    "month_piter_data = piter_data.pivot_table(index='month_exposition', values='last_price_mln', aggfunc=['mean', 'count', 'median'])\n",
    "month_piter_data.plot(y='median', style='-o')"
   ]
  },
  {
   "cell_type": "markdown",
   "metadata": {},
   "source": [
    "<div class=\"alert alert-info\"> Здесь ситуация примерно такая же как и по общим данным"
   ]
  },
  {
   "cell_type": "code",
   "execution_count": 90,
   "metadata": {},
   "outputs": [
    {
     "data": {
      "text/plain": [
       "<AxesSubplot:xlabel='year_exposition'>"
      ]
     },
     "execution_count": 90,
     "metadata": {},
     "output_type": "execute_result"
    },
    {
     "data": {
      "image/png": "[encoded data removed]",
      "text/plain": [
       "<Figure size 432x288 with 1 Axes>"
      ]
     },
     "metadata": {
      "needs_background": "light"
     },
     "output_type": "display_data"
    }
   ],
   "source": [
    "year_piter_data = piter_data.pivot_table(index='year_exposition', values='last_price_mln', aggfunc=['mean', 'count', 'median'])\n",
    "year_piter_data.plot(y='median', style='-o')"
   ]
  },
  {
   "cell_type": "markdown",
   "metadata": {},
   "source": [
    "<div class=\"alert alert-info\">Ожидаемо, что годовые показатели не отличаются от значений  по всей базе"
   ]
  },
  {
   "cell_type": "markdown",
   "metadata": {},
   "source": [
    "## Общий вывод"
   ]
  },
  {
   "cell_type": "markdown",
   "metadata": {},
   "source": [
    "<div class=\"alert alert-info\"> \n",
    "В данном проекте был исследован архив объявлений Яндекс.Недвижимости Санкт-Петербурга за 2014-2019 гг. Была проведена предварительная обработка данных: для удобства изменена стоимость на миллионы, отформатированы даты публикаций, произведена замена пропусков в столбцах \"Балкон\", \"Апартаменты\", \"Длительность размещения\", \"Высота потолков\", \"Жилая площадь\".\n",
    "\n",
    "Пропуски в балконах мы заменили на 0, т.к. логично предположили, что отсутсвие данных равнозначно отсутствию балкона.\n",
    "\n",
    "По той же логике заменили на False пропуски в столбце \"Апартаменты\".\n",
    "\n",
    "Пропуски в данных длительности размещения заменили на 0, предполагая что объывление было снято в тот же день, возможно автоматически (предположение, нужно уточнить у разработчиков). В дальнейшем анализе сроков продажи квартир на Яндекс.Недвижимости эти данные показали себя как аномалии (что неудивительно) и были убраны.\n",
    "\n",
    "Недостающие показатели высоты потолков заменили на медианное значение.\n",
    "Для пропуков в жилой площади рассчитали этот показатель с учетом среднего значения доли к общей площади по всей базе данных.\n",
    " \n",
    "Далее провели расчеты и добавили в таблицу столбцы со следующими данными: цена квадратного метра; день неделя, месяц и год публикации объявления; этаж квартиры; варианты — первый, последний, другой; отношение площади кухни к общей.\n",
    "\n",
    "Исследовательский анализ данных выявил средние, минимальные и максимальные показатели, а также выбивающиеся значения в таких параметрах как площадь, цена, число комнат, высота потолков. Согласно анализу, средняя стоимость квартиры в Санкт-Петербурге за отчетный период = 6,5 млн, больше всего предложений 1, 2, 3хкомнатных квартир. Очень мало квартир, где комнат не указано (0), скорее всего это студии либо новостройки без отделки - всего 159 объявлений. \n",
    "    \n",
    "Анализ сроков продажи (сроков публикации) показал, что эти данные неправильные и не соответствуют действительности. Очень много аномалий - объявлений, снятых с публикации через 0, 7, 30, 45, 60 и 90 дней. Вероятнее всего в данном случае мы имеем дело с автоматическим прекращением публикации по какой-либо причине (уточнить у разработчиков). Данные аномалии были опущены, что отобразило нормальное распределение и более правдивые показатели сроков продажи. В среднем квартира продается за 195 дней, медианное значение = 114 дней, межквартильный размах = от 44 до 259 дней, нормальное распределение = от 1 до 600 дней. \n",
    "\n",
    "Больше всего на стоимость квадратного метра влияет площадь квартиры и ее местоположение - чем ближе к центру тем дороже. Первый этаж дешевле последнего. Также влияет и сезонность - весной и осенью цена идет вверх, во время отпусков и зимних праздников активность ниже. Анализ продаж в центральной зоне Санкт-Петербурга (в радиусе 6 км от центра) показал что средняя цена за квадрат в два раза выше общей средней по всей базе, в центре гораздо чаще продают трёшки, в общих данных превалируют однушки. Также в центре чаще расстаются 4-хкомнатными кватирами, чем в целом по городу , и очень неохотно с однушками (наверно влияют большие расходы на коммуналку). \n",
    "    \n",
    "Общая тенденция по годам показывает падение цен с 2014 до 2016 года и их постепенный дальнейший рост. На это оказала влияние общая экономическая ситуация в стране.\n",
    "\n"
   ]
  }
 ],
 "metadata": {
  "ExecuteTimeLog": [
   {
    "duration": 1125,
    "start_time": "2022-04-02T20:57:45.043Z"
   },
   {
    "duration": 91,
    "start_time": "2022-04-02T20:58:26.235Z"
   },
   {
    "duration": 96,
    "start_time": "2022-04-02T20:58:50.355Z"
   },
   {
    "duration": 91,
    "start_time": "2022-04-02T20:59:12.791Z"
   },
   {
    "duration": 185,
    "start_time": "2022-04-02T20:59:43.443Z"
   },
   {
    "duration": 120,
    "start_time": "2022-04-02T20:59:51.514Z"
   },
   {
    "duration": 96,
    "start_time": "2022-04-02T21:00:14.043Z"
   },
   {
    "duration": 198,
    "start_time": "2022-04-02T21:02:26.882Z"
   },
   {
    "duration": 129,
    "start_time": "2022-04-02T21:03:14.949Z"
   },
   {
    "duration": 122,
    "start_time": "2022-04-02T21:37:40.501Z"
   },
   {
    "duration": 22,
    "start_time": "2022-04-02T21:38:02.148Z"
   },
   {
    "duration": 16,
    "start_time": "2022-04-02T21:42:56.772Z"
   },
   {
    "duration": 42,
    "start_time": "2022-04-02T21:46:05.176Z"
   },
   {
    "duration": 20,
    "start_time": "2022-04-02T21:46:17.711Z"
   },
   {
    "duration": 13,
    "start_time": "2022-04-02T21:48:05.528Z"
   },
   {
    "duration": 7,
    "start_time": "2022-04-02T21:51:35.155Z"
   },
   {
    "duration": 6,
    "start_time": "2022-04-02T21:52:01.696Z"
   },
   {
    "duration": 7,
    "start_time": "2022-04-02T21:52:19.195Z"
   },
   {
    "duration": 7,
    "start_time": "2022-04-02T21:52:32.655Z"
   },
   {
    "duration": 9,
    "start_time": "2022-04-02T21:52:59.903Z"
   },
   {
    "duration": 10,
    "start_time": "2022-04-02T21:53:35.303Z"
   },
   {
    "duration": 10,
    "start_time": "2022-04-02T21:54:54.247Z"
   },
   {
    "duration": 9,
    "start_time": "2022-04-02T21:55:16.891Z"
   },
   {
    "duration": 7,
    "start_time": "2022-04-02T21:55:39.379Z"
   },
   {
    "duration": 13,
    "start_time": "2022-04-02T21:58:35.715Z"
   },
   {
    "duration": 14,
    "start_time": "2022-04-02T22:05:34.883Z"
   },
   {
    "duration": 11,
    "start_time": "2022-04-02T22:06:27.719Z"
   },
   {
    "duration": 9,
    "start_time": "2022-04-02T22:07:12.467Z"
   },
   {
    "duration": 6,
    "start_time": "2022-04-02T22:07:42.027Z"
   },
   {
    "duration": 10,
    "start_time": "2022-04-02T22:11:59.175Z"
   },
   {
    "duration": 7,
    "start_time": "2022-04-02T22:13:47.651Z"
   },
   {
    "duration": 16,
    "start_time": "2022-04-02T22:14:33.535Z"
   },
   {
    "duration": 12,
    "start_time": "2022-04-02T22:15:00.283Z"
   },
   {
    "duration": 16,
    "start_time": "2022-04-02T22:16:00.704Z"
   },
   {
    "duration": 856,
    "start_time": "2022-04-02T22:16:50.303Z"
   },
   {
    "duration": 127,
    "start_time": "2022-04-02T22:16:51.162Z"
   },
   {
    "duration": 22,
    "start_time": "2022-04-02T22:16:51.291Z"
   },
   {
    "duration": 12,
    "start_time": "2022-04-02T22:16:51.316Z"
   },
   {
    "duration": 45,
    "start_time": "2022-04-02T22:16:51.330Z"
   },
   {
    "duration": 6,
    "start_time": "2022-04-02T22:16:51.378Z"
   },
   {
    "duration": 9,
    "start_time": "2022-04-02T22:16:51.386Z"
   },
   {
    "duration": 9,
    "start_time": "2022-04-02T22:16:51.398Z"
   },
   {
    "duration": 8,
    "start_time": "2022-04-02T22:20:01.743Z"
   },
   {
    "duration": 13,
    "start_time": "2022-04-02T22:30:17.615Z"
   },
   {
    "duration": 1322,
    "start_time": "2022-04-02T22:31:29.575Z"
   },
   {
    "duration": 205,
    "start_time": "2022-04-02T22:31:30.901Z"
   },
   {
    "duration": 33,
    "start_time": "2022-04-02T22:31:31.109Z"
   },
   {
    "duration": 20,
    "start_time": "2022-04-02T22:31:31.167Z"
   },
   {
    "duration": 21,
    "start_time": "2022-04-02T22:31:31.190Z"
   },
   {
    "duration": 9,
    "start_time": "2022-04-02T22:31:31.213Z"
   },
   {
    "duration": 49,
    "start_time": "2022-04-02T22:31:31.224Z"
   },
   {
    "duration": 17,
    "start_time": "2022-04-02T22:31:31.276Z"
   },
   {
    "duration": 7,
    "start_time": "2022-04-02T22:31:31.296Z"
   },
   {
    "duration": 186,
    "start_time": "2022-04-02T22:33:54.524Z"
   },
   {
    "duration": 11,
    "start_time": "2022-04-02T22:34:06.908Z"
   },
   {
    "duration": 10,
    "start_time": "2022-04-02T22:35:01.672Z"
   },
   {
    "duration": 5,
    "start_time": "2022-04-02T22:35:48.348Z"
   },
   {
    "duration": 16,
    "start_time": "2022-04-02T22:36:20.871Z"
   },
   {
    "duration": 7,
    "start_time": "2022-04-02T22:37:04.592Z"
   },
   {
    "duration": 10,
    "start_time": "2022-04-02T22:37:28.947Z"
   },
   {
    "duration": 9,
    "start_time": "2022-04-02T22:38:13.075Z"
   },
   {
    "duration": 10,
    "start_time": "2022-04-02T22:39:11.091Z"
   },
   {
    "duration": 9,
    "start_time": "2022-04-02T22:39:27.759Z"
   },
   {
    "duration": 6,
    "start_time": "2022-04-02T22:40:09.084Z"
   },
   {
    "duration": 886,
    "start_time": "2022-04-02T22:41:36.979Z"
   },
   {
    "duration": 132,
    "start_time": "2022-04-02T22:42:08.951Z"
   },
   {
    "duration": 32,
    "start_time": "2022-04-02T22:42:13.987Z"
   },
   {
    "duration": 20,
    "start_time": "2022-04-02T22:42:19.011Z"
   },
   {
    "duration": 24,
    "start_time": "2022-04-02T22:42:24.560Z"
   },
   {
    "duration": 11,
    "start_time": "2022-04-02T22:42:29.051Z"
   },
   {
    "duration": 114,
    "start_time": "2022-04-02T22:42:53.996Z"
   },
   {
    "duration": 11,
    "start_time": "2022-04-02T22:43:22.243Z"
   },
   {
    "duration": 12,
    "start_time": "2022-04-02T22:43:51.231Z"
   },
   {
    "duration": 877,
    "start_time": "2022-04-02T22:45:51.303Z"
   },
   {
    "duration": 133,
    "start_time": "2022-04-02T22:45:56.547Z"
   },
   {
    "duration": 22,
    "start_time": "2022-04-02T22:46:02.954Z"
   },
   {
    "duration": 104,
    "start_time": "2022-04-02T22:48:16.106Z"
   },
   {
    "duration": 46,
    "start_time": "2022-04-02T22:48:26.770Z"
   },
   {
    "duration": 48,
    "start_time": "2022-04-02T22:48:39.678Z"
   },
   {
    "duration": 15,
    "start_time": "2022-04-02T22:51:49.202Z"
   },
   {
    "duration": 12,
    "start_time": "2022-04-02T22:52:25.210Z"
   },
   {
    "duration": 13,
    "start_time": "2022-04-02T22:54:55.194Z"
   },
   {
    "duration": 228,
    "start_time": "2022-04-02T22:55:45.286Z"
   },
   {
    "duration": 252,
    "start_time": "2022-04-02T22:56:29.730Z"
   },
   {
    "duration": 213,
    "start_time": "2022-04-02T22:56:40.451Z"
   },
   {
    "duration": 260,
    "start_time": "2022-04-02T22:57:33.582Z"
   },
   {
    "duration": 244,
    "start_time": "2022-04-02T22:58:59.778Z"
   },
   {
    "duration": 227,
    "start_time": "2022-04-02T23:00:08.434Z"
   },
   {
    "duration": 108,
    "start_time": "2022-04-02T23:00:36.478Z"
   },
   {
    "duration": 238,
    "start_time": "2022-04-02T23:00:52.646Z"
   },
   {
    "duration": 212,
    "start_time": "2022-04-02T23:01:25.704Z"
   },
   {
    "duration": 190,
    "start_time": "2022-04-02T23:01:37.995Z"
   },
   {
    "duration": 231,
    "start_time": "2022-04-02T23:01:48.898Z"
   },
   {
    "duration": 227,
    "start_time": "2022-04-02T23:01:58.718Z"
   },
   {
    "duration": 362,
    "start_time": "2022-04-02T23:02:11.054Z"
   },
   {
    "duration": 354,
    "start_time": "2022-04-02T23:02:34.774Z"
   },
   {
    "duration": 265,
    "start_time": "2022-04-02T23:02:46.675Z"
   },
   {
    "duration": 760,
    "start_time": "2022-04-02T23:03:00.362Z"
   },
   {
    "duration": 233,
    "start_time": "2022-04-02T23:03:18.070Z"
   },
   {
    "duration": 9,
    "start_time": "2022-04-02T23:04:59.510Z"
   },
   {
    "duration": 11,
    "start_time": "2022-04-02T23:05:26.814Z"
   },
   {
    "duration": 12,
    "start_time": "2022-04-02T23:06:12.665Z"
   },
   {
    "duration": 11,
    "start_time": "2022-04-02T23:06:23.101Z"
   },
   {
    "duration": 236,
    "start_time": "2022-04-02T23:06:55.545Z"
   },
   {
    "duration": 222,
    "start_time": "2022-04-02T23:07:13.862Z"
   },
   {
    "duration": 230,
    "start_time": "2022-04-02T23:07:22.926Z"
   },
   {
    "duration": 12,
    "start_time": "2022-04-02T23:08:46.386Z"
   },
   {
    "duration": 5,
    "start_time": "2022-04-02T23:08:53.757Z"
   },
   {
    "duration": 10,
    "start_time": "2022-04-02T23:09:45.986Z"
   },
   {
    "duration": 929,
    "start_time": "2022-04-02T23:16:19.409Z"
   },
   {
    "duration": 134,
    "start_time": "2022-04-02T23:16:24.429Z"
   },
   {
    "duration": 21,
    "start_time": "2022-04-02T23:16:25.529Z"
   },
   {
    "duration": 990,
    "start_time": "2022-04-02T23:16:31.357Z"
   },
   {
    "duration": 1320,
    "start_time": "2022-04-02T23:17:07.064Z"
   },
   {
    "duration": 201,
    "start_time": "2022-04-02T23:17:08.387Z"
   },
   {
    "duration": 33,
    "start_time": "2022-04-02T23:17:08.591Z"
   },
   {
    "duration": 1052,
    "start_time": "2022-04-02T23:17:08.629Z"
   },
   {
    "duration": 0,
    "start_time": "2022-04-02T23:17:09.684Z"
   },
   {
    "duration": 0,
    "start_time": "2022-04-02T23:17:09.693Z"
   },
   {
    "duration": 0,
    "start_time": "2022-04-02T23:17:09.694Z"
   },
   {
    "duration": 0,
    "start_time": "2022-04-02T23:17:09.696Z"
   },
   {
    "duration": 0,
    "start_time": "2022-04-02T23:17:09.698Z"
   },
   {
    "duration": 0,
    "start_time": "2022-04-02T23:17:09.699Z"
   },
   {
    "duration": 0,
    "start_time": "2022-04-02T23:17:09.701Z"
   },
   {
    "duration": 0,
    "start_time": "2022-04-02T23:17:09.703Z"
   },
   {
    "duration": 0,
    "start_time": "2022-04-02T23:17:09.704Z"
   },
   {
    "duration": 0,
    "start_time": "2022-04-02T23:17:09.706Z"
   },
   {
    "duration": 1275,
    "start_time": "2022-04-02T23:19:56.975Z"
   },
   {
    "duration": 213,
    "start_time": "2022-04-02T23:20:02.177Z"
   },
   {
    "duration": 35,
    "start_time": "2022-04-02T23:20:04.101Z"
   },
   {
    "duration": 74,
    "start_time": "2022-04-02T23:20:07.376Z"
   },
   {
    "duration": 13,
    "start_time": "2022-04-02T23:20:44.050Z"
   },
   {
    "duration": 15,
    "start_time": "2022-04-02T23:20:47.925Z"
   },
   {
    "duration": 10,
    "start_time": "2022-04-02T23:21:20.005Z"
   },
   {
    "duration": 13,
    "start_time": "2022-04-02T23:22:06.197Z"
   },
   {
    "duration": 8,
    "start_time": "2022-04-02T23:22:23.929Z"
   },
   {
    "duration": 259,
    "start_time": "2022-04-02T23:27:00.257Z"
   },
   {
    "duration": 72,
    "start_time": "2022-04-03T20:04:17.086Z"
   },
   {
    "duration": 1237,
    "start_time": "2022-04-03T20:04:31.175Z"
   },
   {
    "duration": 137,
    "start_time": "2022-04-03T20:04:32.415Z"
   },
   {
    "duration": 40,
    "start_time": "2022-04-03T20:04:32.554Z"
   },
   {
    "duration": 45,
    "start_time": "2022-04-03T20:04:32.597Z"
   },
   {
    "duration": 41,
    "start_time": "2022-04-03T20:04:32.644Z"
   },
   {
    "duration": 15,
    "start_time": "2022-04-03T20:04:32.688Z"
   },
   {
    "duration": 15,
    "start_time": "2022-04-03T20:04:32.705Z"
   },
   {
    "duration": 15,
    "start_time": "2022-04-03T20:04:32.722Z"
   },
   {
    "duration": 13,
    "start_time": "2022-04-03T20:04:32.775Z"
   },
   {
    "duration": 8,
    "start_time": "2022-04-03T20:04:32.795Z"
   },
   {
    "duration": 275,
    "start_time": "2022-04-03T20:04:32.805Z"
   },
   {
    "duration": 9,
    "start_time": "2022-04-03T20:04:33.083Z"
   },
   {
    "duration": 10,
    "start_time": "2022-04-03T20:04:33.094Z"
   },
   {
    "duration": 11,
    "start_time": "2022-04-03T20:04:33.107Z"
   },
   {
    "duration": 9,
    "start_time": "2022-04-03T20:05:26.123Z"
   },
   {
    "duration": 9,
    "start_time": "2022-04-03T20:05:58.742Z"
   },
   {
    "duration": 8,
    "start_time": "2022-04-03T20:06:38.688Z"
   },
   {
    "duration": 10,
    "start_time": "2022-04-03T20:07:02.930Z"
   },
   {
    "duration": 9,
    "start_time": "2022-04-03T20:08:33.647Z"
   },
   {
    "duration": 7,
    "start_time": "2022-04-03T20:09:05.434Z"
   },
   {
    "duration": 116,
    "start_time": "2022-04-03T20:09:18.555Z"
   },
   {
    "duration": 12,
    "start_time": "2022-04-03T20:09:35.346Z"
   },
   {
    "duration": 10,
    "start_time": "2022-04-03T20:10:04.686Z"
   },
   {
    "duration": 6,
    "start_time": "2022-04-03T20:11:29.067Z"
   },
   {
    "duration": 10,
    "start_time": "2022-04-03T20:11:40.458Z"
   },
   {
    "duration": 51,
    "start_time": "2022-04-03T20:29:05.401Z"
   },
   {
    "duration": 8,
    "start_time": "2022-04-03T20:29:46.634Z"
   },
   {
    "duration": 1607,
    "start_time": "2022-04-03T20:43:32.009Z"
   },
   {
    "duration": 22,
    "start_time": "2022-04-03T20:44:16.405Z"
   },
   {
    "duration": 1699,
    "start_time": "2022-04-03T20:44:54.737Z"
   },
   {
    "duration": 18,
    "start_time": "2022-04-03T20:49:44.689Z"
   },
   {
    "duration": 16,
    "start_time": "2022-04-03T20:51:12.025Z"
   },
   {
    "duration": 8,
    "start_time": "2022-04-03T21:01:21.629Z"
   },
   {
    "duration": 13,
    "start_time": "2022-04-03T21:03:39.516Z"
   },
   {
    "duration": 10,
    "start_time": "2022-04-03T21:19:25.288Z"
   },
   {
    "duration": 14,
    "start_time": "2022-04-03T21:20:05.779Z"
   },
   {
    "duration": 8,
    "start_time": "2022-04-03T21:20:24.282Z"
   },
   {
    "duration": 88,
    "start_time": "2022-04-03T21:30:47.139Z"
   },
   {
    "duration": 30,
    "start_time": "2022-04-03T21:30:52.578Z"
   },
   {
    "duration": 9,
    "start_time": "2022-04-03T21:42:45.663Z"
   },
   {
    "duration": 8,
    "start_time": "2022-04-03T21:45:47.978Z"
   },
   {
    "duration": 11078,
    "start_time": "2022-04-03T21:49:03.366Z"
   },
   {
    "duration": 7,
    "start_time": "2022-04-03T22:05:50.266Z"
   },
   {
    "duration": 1463,
    "start_time": "2022-04-03T22:06:07.074Z"
   },
   {
    "duration": 1394,
    "start_time": "2022-04-03T22:06:27.149Z"
   },
   {
    "duration": 13,
    "start_time": "2022-04-03T22:07:03.901Z"
   },
   {
    "duration": 42,
    "start_time": "2022-04-03T22:08:30.153Z"
   },
   {
    "duration": 1253,
    "start_time": "2022-04-04T10:19:48.339Z"
   },
   {
    "duration": 142,
    "start_time": "2022-04-04T10:19:49.595Z"
   },
   {
    "duration": 38,
    "start_time": "2022-04-04T10:19:49.739Z"
   },
   {
    "duration": 13,
    "start_time": "2022-04-04T10:19:49.780Z"
   },
   {
    "duration": 44,
    "start_time": "2022-04-04T10:19:49.795Z"
   },
   {
    "duration": 37,
    "start_time": "2022-04-04T10:19:49.841Z"
   },
   {
    "duration": 16,
    "start_time": "2022-04-04T10:19:49.881Z"
   },
   {
    "duration": 12,
    "start_time": "2022-04-04T10:19:49.899Z"
   },
   {
    "duration": 15,
    "start_time": "2022-04-04T10:19:49.913Z"
   },
   {
    "duration": 38,
    "start_time": "2022-04-04T10:19:49.931Z"
   },
   {
    "duration": 11,
    "start_time": "2022-04-04T10:37:01.707Z"
   },
   {
    "duration": 38,
    "start_time": "2022-04-04T10:37:18.831Z"
   },
   {
    "duration": 38,
    "start_time": "2022-04-04T10:40:31.978Z"
   },
   {
    "duration": 40,
    "start_time": "2022-04-04T10:41:04.174Z"
   },
   {
    "duration": 40,
    "start_time": "2022-04-04T10:42:15.326Z"
   },
   {
    "duration": 13,
    "start_time": "2022-04-04T11:13:26.886Z"
   },
   {
    "duration": 12,
    "start_time": "2022-04-04T11:14:07.868Z"
   },
   {
    "duration": 61,
    "start_time": "2022-04-04T11:14:53.136Z"
   },
   {
    "duration": 39,
    "start_time": "2022-04-04T11:18:26.028Z"
   },
   {
    "duration": 140,
    "start_time": "2022-04-04T11:42:06.081Z"
   },
   {
    "duration": 497,
    "start_time": "2022-04-04T11:42:35.842Z"
   },
   {
    "duration": 22,
    "start_time": "2022-04-04T11:45:55.130Z"
   },
   {
    "duration": 508,
    "start_time": "2022-04-04T11:46:07.804Z"
   },
   {
    "duration": 552,
    "start_time": "2022-04-04T11:47:17.510Z"
   },
   {
    "duration": 10,
    "start_time": "2022-04-04T11:49:27.236Z"
   },
   {
    "duration": 8,
    "start_time": "2022-04-04T11:49:41.455Z"
   },
   {
    "duration": 40,
    "start_time": "2022-04-04T11:49:50.176Z"
   },
   {
    "duration": 17,
    "start_time": "2022-04-04T12:04:24.218Z"
   },
   {
    "duration": 10,
    "start_time": "2022-04-04T12:04:42.312Z"
   },
   {
    "duration": 10,
    "start_time": "2022-04-04T12:08:05.640Z"
   },
   {
    "duration": 10,
    "start_time": "2022-04-04T12:11:02.862Z"
   },
   {
    "duration": 13,
    "start_time": "2022-04-04T12:13:46.543Z"
   },
   {
    "duration": 15,
    "start_time": "2022-04-04T12:15:31.261Z"
   },
   {
    "duration": 15,
    "start_time": "2022-04-04T12:16:46.087Z"
   },
   {
    "duration": 12,
    "start_time": "2022-04-04T12:20:39.310Z"
   },
   {
    "duration": 6,
    "start_time": "2022-04-04T12:22:20.935Z"
   },
   {
    "duration": 42,
    "start_time": "2022-04-04T12:23:20.112Z"
   },
   {
    "duration": 10,
    "start_time": "2022-04-04T12:24:15.425Z"
   },
   {
    "duration": 6,
    "start_time": "2022-04-04T12:25:54.827Z"
   },
   {
    "duration": 6,
    "start_time": "2022-04-04T12:26:01.874Z"
   },
   {
    "duration": 33,
    "start_time": "2022-04-04T12:26:29.202Z"
   },
   {
    "duration": 923,
    "start_time": "2022-04-04T18:25:20.400Z"
   },
   {
    "duration": 93,
    "start_time": "2022-04-04T18:25:21.326Z"
   },
   {
    "duration": 14,
    "start_time": "2022-04-04T18:25:21.421Z"
   },
   {
    "duration": 9,
    "start_time": "2022-04-04T18:25:21.437Z"
   },
   {
    "duration": 39,
    "start_time": "2022-04-04T18:25:21.447Z"
   },
   {
    "duration": 5,
    "start_time": "2022-04-04T18:25:21.488Z"
   },
   {
    "duration": 7,
    "start_time": "2022-04-04T18:25:21.495Z"
   },
   {
    "duration": 7,
    "start_time": "2022-04-04T18:25:21.504Z"
   },
   {
    "duration": 12,
    "start_time": "2022-04-04T18:25:21.512Z"
   },
   {
    "duration": 5,
    "start_time": "2022-04-04T18:25:21.526Z"
   },
   {
    "duration": 8,
    "start_time": "2022-04-04T18:25:21.563Z"
   },
   {
    "duration": 21,
    "start_time": "2022-04-04T18:25:21.573Z"
   },
   {
    "duration": 5,
    "start_time": "2022-04-04T18:25:21.596Z"
   },
   {
    "duration": 5,
    "start_time": "2022-04-04T18:25:21.602Z"
   },
   {
    "duration": 21,
    "start_time": "2022-04-04T18:25:21.608Z"
   },
   {
    "duration": 319,
    "start_time": "2022-04-04T18:25:21.631Z"
   },
   {
    "duration": 3,
    "start_time": "2022-04-04T18:25:21.952Z"
   },
   {
    "duration": 21,
    "start_time": "2022-04-04T18:25:21.962Z"
   },
   {
    "duration": 78,
    "start_time": "2022-04-04T18:31:05.952Z"
   },
   {
    "duration": 25,
    "start_time": "2022-04-04T18:31:47.044Z"
   },
   {
    "duration": 18,
    "start_time": "2022-04-04T18:32:34.048Z"
   },
   {
    "duration": 2244,
    "start_time": "2022-04-04T18:32:48.095Z"
   },
   {
    "duration": 8,
    "start_time": "2022-04-04T18:41:37.392Z"
   },
   {
    "duration": 11,
    "start_time": "2022-04-04T18:42:33.788Z"
   },
   {
    "duration": 11,
    "start_time": "2022-04-04T18:45:12.580Z"
   },
   {
    "duration": 8,
    "start_time": "2022-04-04T18:45:44.976Z"
   },
   {
    "duration": 8,
    "start_time": "2022-04-04T18:46:14.168Z"
   },
   {
    "duration": 9,
    "start_time": "2022-04-04T18:47:00.572Z"
   },
   {
    "duration": 8,
    "start_time": "2022-04-04T18:47:26.148Z"
   },
   {
    "duration": 21,
    "start_time": "2022-04-04T18:49:06.292Z"
   },
   {
    "duration": 21,
    "start_time": "2022-04-04T18:49:44.288Z"
   },
   {
    "duration": 24,
    "start_time": "2022-04-04T18:50:16.108Z"
   },
   {
    "duration": 6,
    "start_time": "2022-04-04T18:50:50.956Z"
   },
   {
    "duration": 8,
    "start_time": "2022-04-04T18:51:38.220Z"
   },
   {
    "duration": 7,
    "start_time": "2022-04-04T18:53:31.919Z"
   },
   {
    "duration": 6,
    "start_time": "2022-04-04T18:53:50.431Z"
   },
   {
    "duration": 7,
    "start_time": "2022-04-04T18:54:01.645Z"
   },
   {
    "duration": 6,
    "start_time": "2022-04-04T18:54:08.275Z"
   },
   {
    "duration": 8,
    "start_time": "2022-04-04T18:54:26.959Z"
   },
   {
    "duration": 8,
    "start_time": "2022-04-04T18:55:06.179Z"
   },
   {
    "duration": 137,
    "start_time": "2022-04-04T18:57:41.775Z"
   },
   {
    "duration": 162,
    "start_time": "2022-04-04T18:58:23.680Z"
   },
   {
    "duration": 7,
    "start_time": "2022-04-04T19:19:10.739Z"
   },
   {
    "duration": 6,
    "start_time": "2022-04-04T19:19:41.515Z"
   },
   {
    "duration": 7,
    "start_time": "2022-04-04T19:20:20.047Z"
   },
   {
    "duration": 9,
    "start_time": "2022-04-04T19:20:23.727Z"
   },
   {
    "duration": 7,
    "start_time": "2022-04-04T19:20:27.463Z"
   },
   {
    "duration": 8,
    "start_time": "2022-04-04T20:28:38.662Z"
   },
   {
    "duration": 10,
    "start_time": "2022-04-04T20:30:11.437Z"
   },
   {
    "duration": 5,
    "start_time": "2022-04-04T20:30:40.622Z"
   },
   {
    "duration": 10,
    "start_time": "2022-04-04T20:40:46.664Z"
   },
   {
    "duration": 9,
    "start_time": "2022-04-04T20:40:51.025Z"
   },
   {
    "duration": 719,
    "start_time": "2022-04-04T20:41:35.856Z"
   },
   {
    "duration": 10,
    "start_time": "2022-04-04T20:49:40.028Z"
   },
   {
    "duration": 29,
    "start_time": "2022-04-04T21:01:39.975Z"
   },
   {
    "duration": 28,
    "start_time": "2022-04-04T21:01:48.252Z"
   },
   {
    "duration": 740,
    "start_time": "2022-04-04T21:02:06.581Z"
   },
   {
    "duration": 83,
    "start_time": "2022-04-04T21:02:07.323Z"
   },
   {
    "duration": 13,
    "start_time": "2022-04-04T21:02:07.407Z"
   },
   {
    "duration": 8,
    "start_time": "2022-04-04T21:02:07.421Z"
   },
   {
    "duration": 1227,
    "start_time": "2022-04-04T21:02:07.430Z"
   },
   {
    "duration": 0,
    "start_time": "2022-04-04T21:02:08.659Z"
   },
   {
    "duration": 0,
    "start_time": "2022-04-04T21:02:08.660Z"
   },
   {
    "duration": 0,
    "start_time": "2022-04-04T21:02:08.661Z"
   },
   {
    "duration": 0,
    "start_time": "2022-04-04T21:02:08.662Z"
   },
   {
    "duration": 0,
    "start_time": "2022-04-04T21:02:08.663Z"
   },
   {
    "duration": 0,
    "start_time": "2022-04-04T21:02:08.664Z"
   },
   {
    "duration": 0,
    "start_time": "2022-04-04T21:02:08.665Z"
   },
   {
    "duration": 0,
    "start_time": "2022-04-04T21:02:08.666Z"
   },
   {
    "duration": 0,
    "start_time": "2022-04-04T21:02:08.667Z"
   },
   {
    "duration": 0,
    "start_time": "2022-04-04T21:02:08.668Z"
   },
   {
    "duration": 0,
    "start_time": "2022-04-04T21:02:08.669Z"
   },
   {
    "duration": 0,
    "start_time": "2022-04-04T21:02:08.670Z"
   },
   {
    "duration": 0,
    "start_time": "2022-04-04T21:02:08.671Z"
   },
   {
    "duration": 0,
    "start_time": "2022-04-04T21:02:08.672Z"
   },
   {
    "duration": 0,
    "start_time": "2022-04-04T21:02:08.673Z"
   },
   {
    "duration": 0,
    "start_time": "2022-04-04T21:02:08.674Z"
   },
   {
    "duration": 1246,
    "start_time": "2022-04-04T21:02:22.586Z"
   },
   {
    "duration": 738,
    "start_time": "2022-04-04T21:02:44.837Z"
   },
   {
    "duration": 87,
    "start_time": "2022-04-04T21:02:45.577Z"
   },
   {
    "duration": 13,
    "start_time": "2022-04-04T21:02:45.665Z"
   },
   {
    "duration": 16,
    "start_time": "2022-04-04T21:02:45.680Z"
   },
   {
    "duration": 1306,
    "start_time": "2022-04-04T21:02:45.698Z"
   },
   {
    "duration": 0,
    "start_time": "2022-04-04T21:02:47.007Z"
   },
   {
    "duration": 0,
    "start_time": "2022-04-04T21:02:47.008Z"
   },
   {
    "duration": 1,
    "start_time": "2022-04-04T21:02:47.009Z"
   },
   {
    "duration": 0,
    "start_time": "2022-04-04T21:02:47.011Z"
   },
   {
    "duration": 0,
    "start_time": "2022-04-04T21:02:47.013Z"
   },
   {
    "duration": 0,
    "start_time": "2022-04-04T21:02:47.014Z"
   },
   {
    "duration": 0,
    "start_time": "2022-04-04T21:02:47.016Z"
   },
   {
    "duration": 0,
    "start_time": "2022-04-04T21:02:47.017Z"
   },
   {
    "duration": 0,
    "start_time": "2022-04-04T21:02:47.018Z"
   },
   {
    "duration": 0,
    "start_time": "2022-04-04T21:02:47.019Z"
   },
   {
    "duration": 0,
    "start_time": "2022-04-04T21:02:47.021Z"
   },
   {
    "duration": 0,
    "start_time": "2022-04-04T21:02:47.022Z"
   },
   {
    "duration": 0,
    "start_time": "2022-04-04T21:02:47.023Z"
   },
   {
    "duration": 0,
    "start_time": "2022-04-04T21:02:47.025Z"
   },
   {
    "duration": 0,
    "start_time": "2022-04-04T21:02:47.026Z"
   },
   {
    "duration": 0,
    "start_time": "2022-04-04T21:02:47.063Z"
   },
   {
    "duration": 25,
    "start_time": "2022-04-04T21:03:19.581Z"
   },
   {
    "duration": 1298,
    "start_time": "2022-04-05T09:18:58.715Z"
   },
   {
    "duration": 140,
    "start_time": "2022-04-05T09:19:00.016Z"
   },
   {
    "duration": 22,
    "start_time": "2022-04-05T09:19:00.165Z"
   },
   {
    "duration": 12,
    "start_time": "2022-04-05T09:19:00.189Z"
   },
   {
    "duration": 67,
    "start_time": "2022-04-05T09:19:00.203Z"
   },
   {
    "duration": 3,
    "start_time": "2022-04-05T09:19:00.272Z"
   },
   {
    "duration": 15,
    "start_time": "2022-04-05T09:19:00.277Z"
   },
   {
    "duration": 12,
    "start_time": "2022-04-05T09:19:00.294Z"
   },
   {
    "duration": 9,
    "start_time": "2022-04-05T09:19:00.308Z"
   },
   {
    "duration": 16,
    "start_time": "2022-04-05T09:19:00.319Z"
   },
   {
    "duration": 27,
    "start_time": "2022-04-05T09:19:00.337Z"
   },
   {
    "duration": 22,
    "start_time": "2022-04-05T09:19:00.366Z"
   },
   {
    "duration": 15,
    "start_time": "2022-04-05T09:19:00.390Z"
   },
   {
    "duration": 7,
    "start_time": "2022-04-05T09:19:00.407Z"
   },
   {
    "duration": 17,
    "start_time": "2022-04-05T09:19:00.416Z"
   },
   {
    "duration": 45,
    "start_time": "2022-04-05T09:19:00.435Z"
   },
   {
    "duration": 5,
    "start_time": "2022-04-05T09:19:00.482Z"
   },
   {
    "duration": 17,
    "start_time": "2022-04-05T09:19:00.488Z"
   },
   {
    "duration": 31,
    "start_time": "2022-04-05T09:19:00.507Z"
   },
   {
    "duration": 487,
    "start_time": "2022-04-05T09:19:00.539Z"
   },
   {
    "duration": 5,
    "start_time": "2022-04-05T09:19:01.028Z"
   },
   {
    "duration": 61,
    "start_time": "2022-04-05T09:19:01.035Z"
   },
   {
    "duration": 5,
    "start_time": "2022-04-05T09:55:17.481Z"
   },
   {
    "duration": 107,
    "start_time": "2022-04-05T09:55:30.936Z"
   },
   {
    "duration": 5,
    "start_time": "2022-04-05T09:55:50.726Z"
   },
   {
    "duration": 8,
    "start_time": "2022-04-05T09:55:58.094Z"
   },
   {
    "duration": 141,
    "start_time": "2022-04-05T09:56:11.066Z"
   },
   {
    "duration": 126,
    "start_time": "2022-04-05T09:56:33.543Z"
   },
   {
    "duration": 400,
    "start_time": "2022-04-05T09:56:47.967Z"
   },
   {
    "duration": 115,
    "start_time": "2022-04-05T09:56:56.473Z"
   },
   {
    "duration": 162,
    "start_time": "2022-04-05T09:58:24.605Z"
   },
   {
    "duration": 198,
    "start_time": "2022-04-05T09:58:37.061Z"
   },
   {
    "duration": 139,
    "start_time": "2022-04-05T09:58:51.357Z"
   },
   {
    "duration": 157,
    "start_time": "2022-04-05T09:59:40.577Z"
   },
   {
    "duration": 144,
    "start_time": "2022-04-05T10:00:01.287Z"
   },
   {
    "duration": 264,
    "start_time": "2022-04-05T10:00:08.443Z"
   },
   {
    "duration": 203,
    "start_time": "2022-04-05T10:00:19.535Z"
   },
   {
    "duration": 212,
    "start_time": "2022-04-05T10:00:51.553Z"
   },
   {
    "duration": 9,
    "start_time": "2022-04-05T10:01:01.194Z"
   },
   {
    "duration": 113,
    "start_time": "2022-04-05T10:01:25.133Z"
   },
   {
    "duration": 447,
    "start_time": "2022-04-05T10:02:03.230Z"
   },
   {
    "duration": 213,
    "start_time": "2022-04-05T10:02:21.005Z"
   },
   {
    "duration": 2157,
    "start_time": "2022-04-05T10:02:47.655Z"
   },
   {
    "duration": 8,
    "start_time": "2022-04-05T10:03:04.497Z"
   },
   {
    "duration": 5,
    "start_time": "2022-04-05T10:06:42.377Z"
   },
   {
    "duration": 157,
    "start_time": "2022-04-05T10:13:39.307Z"
   },
   {
    "duration": 9,
    "start_time": "2022-04-05T10:13:52.153Z"
   },
   {
    "duration": 9,
    "start_time": "2022-04-05T10:14:09.310Z"
   },
   {
    "duration": 8,
    "start_time": "2022-04-05T10:16:07.022Z"
   },
   {
    "duration": 9,
    "start_time": "2022-04-05T10:19:25.619Z"
   },
   {
    "duration": 9,
    "start_time": "2022-04-05T10:19:32.156Z"
   },
   {
    "duration": 184,
    "start_time": "2022-04-05T10:19:55.050Z"
   },
   {
    "duration": 1566,
    "start_time": "2022-04-05T10:20:10.934Z"
   },
   {
    "duration": 9,
    "start_time": "2022-04-05T10:20:28.338Z"
   },
   {
    "duration": 9,
    "start_time": "2022-04-05T10:21:16.308Z"
   },
   {
    "duration": 10,
    "start_time": "2022-04-05T10:24:46.293Z"
   },
   {
    "duration": 23,
    "start_time": "2022-04-05T10:25:26.456Z"
   },
   {
    "duration": 4642,
    "start_time": "2022-04-05T10:26:17.318Z"
   },
   {
    "duration": 5002,
    "start_time": "2022-04-05T10:26:43.271Z"
   },
   {
    "duration": 1014,
    "start_time": "2022-04-05T10:27:03.828Z"
   },
   {
    "duration": 81,
    "start_time": "2022-04-05T10:27:04.843Z"
   },
   {
    "duration": 15,
    "start_time": "2022-04-05T10:27:04.926Z"
   },
   {
    "duration": 23,
    "start_time": "2022-04-05T10:27:04.943Z"
   },
   {
    "duration": 25,
    "start_time": "2022-04-05T10:27:04.968Z"
   },
   {
    "duration": 26,
    "start_time": "2022-04-05T10:27:04.994Z"
   },
   {
    "duration": 2,
    "start_time": "2022-04-05T10:27:05.022Z"
   },
   {
    "duration": 12,
    "start_time": "2022-04-05T10:27:05.026Z"
   },
   {
    "duration": 30,
    "start_time": "2022-04-05T10:27:05.040Z"
   },
   {
    "duration": 13,
    "start_time": "2022-04-05T10:27:05.073Z"
   },
   {
    "duration": 9,
    "start_time": "2022-04-05T10:27:05.088Z"
   },
   {
    "duration": 6,
    "start_time": "2022-04-05T10:27:05.098Z"
   },
   {
    "duration": 8,
    "start_time": "2022-04-05T10:27:05.106Z"
   },
   {
    "duration": 10,
    "start_time": "2022-04-05T10:27:05.115Z"
   },
   {
    "duration": 37,
    "start_time": "2022-04-05T10:27:05.127Z"
   },
   {
    "duration": 7,
    "start_time": "2022-04-05T10:27:05.166Z"
   },
   {
    "duration": 25,
    "start_time": "2022-04-05T10:27:05.175Z"
   },
   {
    "duration": 6,
    "start_time": "2022-04-05T10:27:05.202Z"
   },
   {
    "duration": 10,
    "start_time": "2022-04-05T10:27:05.210Z"
   },
   {
    "duration": 45,
    "start_time": "2022-04-05T10:27:05.222Z"
   },
   {
    "duration": 295,
    "start_time": "2022-04-05T10:27:05.269Z"
   },
   {
    "duration": 4,
    "start_time": "2022-04-05T10:27:05.565Z"
   },
   {
    "duration": 25,
    "start_time": "2022-04-05T10:27:05.570Z"
   },
   {
    "duration": 280,
    "start_time": "2022-04-05T10:27:05.597Z"
   },
   {
    "duration": 7,
    "start_time": "2022-04-05T10:27:05.879Z"
   },
   {
    "duration": 25,
    "start_time": "2022-04-05T10:27:56.888Z"
   },
   {
    "duration": 866,
    "start_time": "2022-04-05T10:28:16.214Z"
   },
   {
    "duration": 91,
    "start_time": "2022-04-05T10:28:17.081Z"
   },
   {
    "duration": 15,
    "start_time": "2022-04-05T10:28:17.173Z"
   },
   {
    "duration": 8,
    "start_time": "2022-04-05T10:28:17.190Z"
   },
   {
    "duration": 27,
    "start_time": "2022-04-05T10:28:17.200Z"
   },
   {
    "duration": 51,
    "start_time": "2022-04-05T10:28:17.228Z"
   },
   {
    "duration": 3,
    "start_time": "2022-04-05T10:28:17.280Z"
   },
   {
    "duration": 10,
    "start_time": "2022-04-05T10:28:17.284Z"
   },
   {
    "duration": 8,
    "start_time": "2022-04-05T10:28:17.296Z"
   },
   {
    "duration": 8,
    "start_time": "2022-04-05T10:28:17.306Z"
   },
   {
    "duration": 10,
    "start_time": "2022-04-05T10:28:17.315Z"
   },
   {
    "duration": 8,
    "start_time": "2022-04-05T10:28:17.327Z"
   },
   {
    "duration": 11,
    "start_time": "2022-04-05T10:28:17.363Z"
   },
   {
    "duration": 12,
    "start_time": "2022-04-05T10:28:17.376Z"
   },
   {
    "duration": 6,
    "start_time": "2022-04-05T10:28:17.389Z"
   },
   {
    "duration": 6,
    "start_time": "2022-04-05T10:28:17.396Z"
   },
   {
    "duration": 75,
    "start_time": "2022-04-05T10:28:17.404Z"
   },
   {
    "duration": 7,
    "start_time": "2022-04-05T10:28:17.481Z"
   },
   {
    "duration": 7,
    "start_time": "2022-04-05T10:28:17.489Z"
   },
   {
    "duration": 86,
    "start_time": "2022-04-05T10:28:17.497Z"
   },
   {
    "duration": 896,
    "start_time": "2022-04-05T10:28:17.585Z"
   },
   {
    "duration": 4,
    "start_time": "2022-04-05T10:28:18.483Z"
   },
   {
    "duration": 79,
    "start_time": "2022-04-05T10:28:18.489Z"
   },
   {
    "duration": 642,
    "start_time": "2022-04-05T10:28:18.570Z"
   },
   {
    "duration": 10,
    "start_time": "2022-04-05T10:28:19.214Z"
   },
   {
    "duration": 837,
    "start_time": "2022-04-05T10:29:24.965Z"
   },
   {
    "duration": 89,
    "start_time": "2022-04-05T10:29:32.886Z"
   },
   {
    "duration": 20,
    "start_time": "2022-04-05T10:29:37.956Z"
   },
   {
    "duration": 13,
    "start_time": "2022-04-05T10:29:38.718Z"
   },
   {
    "duration": 40,
    "start_time": "2022-04-05T10:29:41.831Z"
   },
   {
    "duration": 36,
    "start_time": "2022-04-05T10:29:42.966Z"
   },
   {
    "duration": 3,
    "start_time": "2022-04-05T10:30:00.886Z"
   },
   {
    "duration": 9,
    "start_time": "2022-04-05T10:30:05.067Z"
   },
   {
    "duration": 14,
    "start_time": "2022-04-05T10:30:05.078Z"
   },
   {
    "duration": 10,
    "start_time": "2022-04-05T10:30:09.065Z"
   },
   {
    "duration": 10,
    "start_time": "2022-04-05T10:30:09.902Z"
   },
   {
    "duration": 7,
    "start_time": "2022-04-05T10:30:10.449Z"
   },
   {
    "duration": 9,
    "start_time": "2022-04-05T10:30:10.909Z"
   },
   {
    "duration": 10,
    "start_time": "2022-04-05T10:30:11.471Z"
   },
   {
    "duration": 6,
    "start_time": "2022-04-05T10:30:12.004Z"
   },
   {
    "duration": 8,
    "start_time": "2022-04-05T10:30:12.757Z"
   },
   {
    "duration": 6829,
    "start_time": "2022-04-05T10:30:13.524Z"
   },
   {
    "duration": 0,
    "start_time": "2022-04-05T10:30:20.355Z"
   },
   {
    "duration": 0,
    "start_time": "2022-04-05T10:30:20.356Z"
   },
   {
    "duration": 0,
    "start_time": "2022-04-05T10:30:20.358Z"
   },
   {
    "duration": 0,
    "start_time": "2022-04-05T10:30:20.359Z"
   },
   {
    "duration": 0,
    "start_time": "2022-04-05T10:30:20.360Z"
   },
   {
    "duration": 0,
    "start_time": "2022-04-05T10:30:20.362Z"
   },
   {
    "duration": 0,
    "start_time": "2022-04-05T10:30:20.363Z"
   },
   {
    "duration": 0,
    "start_time": "2022-04-05T10:30:20.364Z"
   },
   {
    "duration": 24,
    "start_time": "2022-04-05T10:30:45.539Z"
   },
   {
    "duration": 5,
    "start_time": "2022-04-05T10:30:51.108Z"
   },
   {
    "duration": 6,
    "start_time": "2022-04-05T10:31:13.979Z"
   },
   {
    "duration": 6,
    "start_time": "2022-04-05T10:31:37.923Z"
   },
   {
    "duration": 6,
    "start_time": "2022-04-05T10:31:38.965Z"
   },
   {
    "duration": 24,
    "start_time": "2022-04-05T10:31:39.728Z"
   },
   {
    "duration": 279,
    "start_time": "2022-04-05T10:32:34.234Z"
   },
   {
    "duration": 23,
    "start_time": "2022-04-05T10:32:45.217Z"
   },
   {
    "duration": 24,
    "start_time": "2022-04-05T10:32:53.728Z"
   },
   {
    "duration": 7,
    "start_time": "2022-04-05T10:33:11.580Z"
   },
   {
    "duration": 124,
    "start_time": "2022-04-05T10:33:42.052Z"
   },
   {
    "duration": 7,
    "start_time": "2022-04-05T10:34:03.239Z"
   },
   {
    "duration": 245,
    "start_time": "2022-04-05T10:34:24.726Z"
   },
   {
    "duration": 9,
    "start_time": "2022-04-05T10:35:07.790Z"
   },
   {
    "duration": 122,
    "start_time": "2022-04-05T10:36:12.355Z"
   },
   {
    "duration": 203,
    "start_time": "2022-04-05T10:36:43.678Z"
   },
   {
    "duration": 147,
    "start_time": "2022-04-05T10:36:54.902Z"
   },
   {
    "duration": 163,
    "start_time": "2022-04-05T10:37:05.744Z"
   },
   {
    "duration": 151,
    "start_time": "2022-04-05T10:37:22.814Z"
   },
   {
    "duration": 152,
    "start_time": "2022-04-05T10:37:34.401Z"
   },
   {
    "duration": 104,
    "start_time": "2022-04-05T10:41:45.111Z"
   },
   {
    "duration": 258,
    "start_time": "2022-04-05T10:41:51.685Z"
   },
   {
    "duration": 8,
    "start_time": "2022-04-05T10:43:20.725Z"
   },
   {
    "duration": 209,
    "start_time": "2022-04-05T10:51:19.531Z"
   },
   {
    "duration": 110,
    "start_time": "2022-04-05T10:51:28.575Z"
   },
   {
    "duration": 1178,
    "start_time": "2022-04-05T10:51:49.763Z"
   },
   {
    "duration": 115,
    "start_time": "2022-04-05T10:52:11.202Z"
   },
   {
    "duration": 8,
    "start_time": "2022-04-05T10:52:32.778Z"
   },
   {
    "duration": 132,
    "start_time": "2022-04-05T10:53:24.847Z"
   },
   {
    "duration": 6,
    "start_time": "2022-04-05T10:53:53.217Z"
   },
   {
    "duration": 11,
    "start_time": "2022-04-05T10:54:29.669Z"
   },
   {
    "duration": 100,
    "start_time": "2022-04-05T10:54:39.739Z"
   },
   {
    "duration": 8,
    "start_time": "2022-04-05T10:54:51.852Z"
   },
   {
    "duration": 141,
    "start_time": "2022-04-05T10:55:52.765Z"
   },
   {
    "duration": 118,
    "start_time": "2022-04-05T10:56:07.683Z"
   },
   {
    "duration": 136,
    "start_time": "2022-04-05T10:58:34.516Z"
   },
   {
    "duration": 246,
    "start_time": "2022-04-05T10:58:51.357Z"
   },
   {
    "duration": 2,
    "start_time": "2022-04-05T11:08:45.662Z"
   },
   {
    "duration": 7,
    "start_time": "2022-04-05T11:16:05.295Z"
   },
   {
    "duration": 133,
    "start_time": "2022-04-05T11:18:59.070Z"
   },
   {
    "duration": 26,
    "start_time": "2022-04-05T11:22:55.151Z"
   },
   {
    "duration": 25,
    "start_time": "2022-04-05T11:28:53.107Z"
   },
   {
    "duration": 107,
    "start_time": "2022-04-05T11:30:54.025Z"
   },
   {
    "duration": 19,
    "start_time": "2022-04-05T11:31:22.671Z"
   },
   {
    "duration": 690,
    "start_time": "2022-04-05T11:31:34.694Z"
   },
   {
    "duration": 42,
    "start_time": "2022-04-05T11:31:58.982Z"
   },
   {
    "duration": 36,
    "start_time": "2022-04-05T11:32:19.301Z"
   },
   {
    "duration": 82,
    "start_time": "2022-04-05T11:37:22.954Z"
   },
   {
    "duration": 8,
    "start_time": "2022-04-05T11:37:55.454Z"
   },
   {
    "duration": 75,
    "start_time": "2022-04-05T11:38:09.009Z"
   },
   {
    "duration": 13,
    "start_time": "2022-04-05T11:38:36.429Z"
   },
   {
    "duration": 1698,
    "start_time": "2022-04-05T11:43:44.487Z"
   },
   {
    "duration": 7381,
    "start_time": "2022-04-05T11:44:09.744Z"
   },
   {
    "duration": 7431,
    "start_time": "2022-04-05T11:44:17.745Z"
   },
   {
    "duration": 132,
    "start_time": "2022-04-05T11:44:30.051Z"
   },
   {
    "duration": 8,
    "start_time": "2022-04-05T11:44:46.837Z"
   },
   {
    "duration": 106,
    "start_time": "2022-04-05T11:45:12.961Z"
   },
   {
    "duration": 95,
    "start_time": "2022-04-05T11:46:08.087Z"
   },
   {
    "duration": 48,
    "start_time": "2022-04-05T11:49:44.188Z"
   },
   {
    "duration": 45,
    "start_time": "2022-04-05T11:50:06.329Z"
   },
   {
    "duration": 51,
    "start_time": "2022-04-05T11:50:19.279Z"
   },
   {
    "duration": 359,
    "start_time": "2022-04-05T11:55:38.199Z"
   },
   {
    "duration": 771,
    "start_time": "2022-04-05T11:55:52.778Z"
   },
   {
    "duration": 8482,
    "start_time": "2022-04-05T11:56:04.596Z"
   },
   {
    "duration": 14,
    "start_time": "2022-04-05T11:56:24.695Z"
   },
   {
    "duration": 15,
    "start_time": "2022-04-05T11:57:41.769Z"
   },
   {
    "duration": 8,
    "start_time": "2022-04-05T11:59:13.132Z"
   },
   {
    "duration": 3,
    "start_time": "2022-04-05T11:59:26.035Z"
   },
   {
    "duration": 5272,
    "start_time": "2022-04-05T12:07:24.593Z"
   },
   {
    "duration": 279,
    "start_time": "2022-04-05T12:07:45.565Z"
   },
   {
    "duration": 374,
    "start_time": "2022-04-05T12:08:06.456Z"
   },
   {
    "duration": 633,
    "start_time": "2022-04-05T12:08:41.319Z"
   },
   {
    "duration": 427,
    "start_time": "2022-04-05T12:09:12.954Z"
   },
   {
    "duration": 532,
    "start_time": "2022-04-05T12:09:31.552Z"
   },
   {
    "duration": 468,
    "start_time": "2022-04-05T12:09:43.298Z"
   },
   {
    "duration": 674,
    "start_time": "2022-04-05T12:09:54.488Z"
   },
   {
    "duration": 542,
    "start_time": "2022-04-05T12:10:06.314Z"
   },
   {
    "duration": 775,
    "start_time": "2022-04-05T12:10:31.356Z"
   },
   {
    "duration": 7,
    "start_time": "2022-04-05T12:12:05.120Z"
   },
   {
    "duration": 682,
    "start_time": "2022-04-05T12:15:37.848Z"
   },
   {
    "duration": 20,
    "start_time": "2022-04-05T12:16:22.744Z"
   },
   {
    "duration": 730,
    "start_time": "2022-04-05T12:17:11.502Z"
   },
   {
    "duration": 21,
    "start_time": "2022-04-05T12:19:03.003Z"
   },
   {
    "duration": 958,
    "start_time": "2022-04-05T12:20:47.919Z"
   },
   {
    "duration": 11,
    "start_time": "2022-04-05T12:21:17.609Z"
   },
   {
    "duration": 12,
    "start_time": "2022-04-05T12:21:26.428Z"
   },
   {
    "duration": 133,
    "start_time": "2022-04-05T12:26:43.490Z"
   },
   {
    "duration": 199,
    "start_time": "2022-04-05T12:26:54.842Z"
   },
   {
    "duration": 133,
    "start_time": "2022-04-05T12:27:15.599Z"
   },
   {
    "duration": 204,
    "start_time": "2022-04-05T12:27:22.979Z"
   },
   {
    "duration": 127,
    "start_time": "2022-04-05T12:27:31.213Z"
   },
   {
    "duration": 209,
    "start_time": "2022-04-05T12:27:52.724Z"
   },
   {
    "duration": 143,
    "start_time": "2022-04-05T12:28:01.004Z"
   },
   {
    "duration": 295,
    "start_time": "2022-04-05T12:28:15.730Z"
   },
   {
    "duration": 190,
    "start_time": "2022-04-05T12:29:48.216Z"
   },
   {
    "duration": 135,
    "start_time": "2022-04-05T12:30:19.043Z"
   },
   {
    "duration": 144,
    "start_time": "2022-04-05T12:32:02.687Z"
   },
   {
    "duration": 204,
    "start_time": "2022-04-05T12:32:13.745Z"
   },
   {
    "duration": 93,
    "start_time": "2022-04-05T12:36:33.504Z"
   },
   {
    "duration": 190,
    "start_time": "2022-04-05T12:36:47.892Z"
   },
   {
    "duration": 202,
    "start_time": "2022-04-05T12:37:34.200Z"
   },
   {
    "duration": 189,
    "start_time": "2022-04-05T12:40:33.911Z"
   },
   {
    "duration": 147,
    "start_time": "2022-04-05T12:41:06.601Z"
   },
   {
    "duration": 492,
    "start_time": "2022-04-05T12:41:16.534Z"
   },
   {
    "duration": 192,
    "start_time": "2022-04-05T12:41:47.663Z"
   },
   {
    "duration": 196,
    "start_time": "2022-04-05T12:42:05.033Z"
   },
   {
    "duration": 201,
    "start_time": "2022-04-05T12:42:27.139Z"
   },
   {
    "duration": 282,
    "start_time": "2022-04-05T12:42:42.979Z"
   },
   {
    "duration": 192,
    "start_time": "2022-04-05T12:43:02.252Z"
   },
   {
    "duration": 355,
    "start_time": "2022-04-05T12:43:37.071Z"
   },
   {
    "duration": 209,
    "start_time": "2022-04-05T12:43:49.165Z"
   },
   {
    "duration": 191,
    "start_time": "2022-04-05T12:44:19.810Z"
   },
   {
    "duration": 197,
    "start_time": "2022-04-05T12:45:09.311Z"
   },
   {
    "duration": 197,
    "start_time": "2022-04-05T12:45:22.607Z"
   },
   {
    "duration": 192,
    "start_time": "2022-04-05T12:46:35.241Z"
   },
   {
    "duration": 206,
    "start_time": "2022-04-05T12:46:57.347Z"
   },
   {
    "duration": 204,
    "start_time": "2022-04-05T12:47:53.394Z"
   },
   {
    "duration": 923,
    "start_time": "2022-04-06T08:57:37.283Z"
   },
   {
    "duration": 97,
    "start_time": "2022-04-06T08:57:38.209Z"
   },
   {
    "duration": 31,
    "start_time": "2022-04-06T08:57:38.308Z"
   },
   {
    "duration": 11,
    "start_time": "2022-04-06T08:57:38.342Z"
   },
   {
    "duration": 32,
    "start_time": "2022-04-06T08:57:38.355Z"
   },
   {
    "duration": 55,
    "start_time": "2022-04-06T08:57:38.389Z"
   },
   {
    "duration": 3,
    "start_time": "2022-04-06T08:57:38.446Z"
   },
   {
    "duration": 13,
    "start_time": "2022-04-06T08:57:38.451Z"
   },
   {
    "duration": 11,
    "start_time": "2022-04-06T08:57:38.465Z"
   },
   {
    "duration": 9,
    "start_time": "2022-04-06T08:57:38.479Z"
   },
   {
    "duration": 44,
    "start_time": "2022-04-06T08:57:38.490Z"
   },
   {
    "duration": 7,
    "start_time": "2022-04-06T08:57:38.536Z"
   },
   {
    "duration": 9,
    "start_time": "2022-04-06T08:57:38.545Z"
   },
   {
    "duration": 11,
    "start_time": "2022-04-06T08:57:38.556Z"
   },
   {
    "duration": 5,
    "start_time": "2022-04-06T08:57:38.569Z"
   },
   {
    "duration": 8,
    "start_time": "2022-04-06T08:57:38.576Z"
   },
   {
    "duration": 63,
    "start_time": "2022-04-06T08:57:38.586Z"
   },
   {
    "duration": 6,
    "start_time": "2022-04-06T08:57:38.651Z"
   },
   {
    "duration": 10,
    "start_time": "2022-04-06T08:57:38.659Z"
   },
   {
    "duration": 27,
    "start_time": "2022-04-06T08:57:38.671Z"
   },
   {
    "duration": 340,
    "start_time": "2022-04-06T08:57:38.700Z"
   },
   {
    "duration": 26,
    "start_time": "2022-04-06T08:57:39.042Z"
   },
   {
    "duration": 27,
    "start_time": "2022-04-06T08:57:39.070Z"
   },
   {
    "duration": 34,
    "start_time": "2022-04-06T08:57:39.099Z"
   },
   {
    "duration": 320,
    "start_time": "2022-04-06T08:57:39.135Z"
   },
   {
    "duration": 9,
    "start_time": "2022-04-06T08:57:39.457Z"
   },
   {
    "duration": 152,
    "start_time": "2022-04-06T08:57:39.468Z"
   },
   {
    "duration": 15,
    "start_time": "2022-04-06T08:57:39.623Z"
   },
   {
    "duration": 161,
    "start_time": "2022-04-06T08:57:39.640Z"
   },
   {
    "duration": 7,
    "start_time": "2022-04-06T08:57:39.803Z"
   },
   {
    "duration": 22,
    "start_time": "2022-04-06T08:57:39.812Z"
   },
   {
    "duration": 156,
    "start_time": "2022-04-06T08:57:39.835Z"
   },
   {
    "duration": 9,
    "start_time": "2022-04-06T08:57:39.992Z"
   },
   {
    "duration": 31,
    "start_time": "2022-04-06T08:57:40.002Z"
   },
   {
    "duration": 121,
    "start_time": "2022-04-06T08:57:40.035Z"
   },
   {
    "duration": 260,
    "start_time": "2022-04-06T08:57:40.158Z"
   },
   {
    "duration": 264,
    "start_time": "2022-04-06T08:57:40.419Z"
   },
   {
    "duration": 159,
    "start_time": "2022-04-06T09:17:21.423Z"
   },
   {
    "duration": 146,
    "start_time": "2022-04-06T09:18:07.821Z"
   },
   {
    "duration": 304,
    "start_time": "2022-04-06T09:18:20.537Z"
   },
   {
    "duration": 245,
    "start_time": "2022-04-06T09:20:57.637Z"
   },
   {
    "duration": 320,
    "start_time": "2022-04-06T09:22:47.622Z"
   },
   {
    "duration": 220,
    "start_time": "2022-04-06T09:23:01.699Z"
   },
   {
    "duration": 445,
    "start_time": "2022-04-06T09:23:10.088Z"
   },
   {
    "duration": 404,
    "start_time": "2022-04-06T09:23:24.204Z"
   },
   {
    "duration": 10,
    "start_time": "2022-04-06T09:25:36.507Z"
   },
   {
    "duration": 7,
    "start_time": "2022-04-06T09:26:04.417Z"
   },
   {
    "duration": 6,
    "start_time": "2022-04-06T09:31:07.569Z"
   },
   {
    "duration": 100,
    "start_time": "2022-04-06T09:35:21.564Z"
   },
   {
    "duration": 31,
    "start_time": "2022-04-06T09:36:17.215Z"
   },
   {
    "duration": 875,
    "start_time": "2022-04-06T09:36:29.400Z"
   },
   {
    "duration": 109,
    "start_time": "2022-04-06T09:36:30.278Z"
   },
   {
    "duration": 15,
    "start_time": "2022-04-06T09:36:30.389Z"
   },
   {
    "duration": 10,
    "start_time": "2022-04-06T09:36:30.406Z"
   },
   {
    "duration": 36,
    "start_time": "2022-04-06T09:36:30.432Z"
   },
   {
    "duration": 30,
    "start_time": "2022-04-06T09:36:30.469Z"
   },
   {
    "duration": 2,
    "start_time": "2022-04-06T09:36:30.501Z"
   },
   {
    "duration": 40,
    "start_time": "2022-04-06T09:36:30.505Z"
   },
   {
    "duration": 15,
    "start_time": "2022-04-06T09:36:30.546Z"
   },
   {
    "duration": 9,
    "start_time": "2022-04-06T09:36:30.564Z"
   },
   {
    "duration": 19,
    "start_time": "2022-04-06T09:36:30.575Z"
   },
   {
    "duration": 8,
    "start_time": "2022-04-06T09:36:30.596Z"
   },
   {
    "duration": 33,
    "start_time": "2022-04-06T09:36:30.605Z"
   },
   {
    "duration": 12,
    "start_time": "2022-04-06T09:36:30.640Z"
   },
   {
    "duration": 20,
    "start_time": "2022-04-06T09:36:30.653Z"
   },
   {
    "duration": 12,
    "start_time": "2022-04-06T09:36:30.674Z"
   },
   {
    "duration": 35,
    "start_time": "2022-04-06T09:36:30.688Z"
   },
   {
    "duration": 11,
    "start_time": "2022-04-06T09:36:30.724Z"
   },
   {
    "duration": 13,
    "start_time": "2022-04-06T09:36:30.737Z"
   },
   {
    "duration": 39,
    "start_time": "2022-04-06T09:36:30.752Z"
   },
   {
    "duration": 332,
    "start_time": "2022-04-06T09:36:30.793Z"
   },
   {
    "duration": 30,
    "start_time": "2022-04-06T09:36:31.130Z"
   },
   {
    "duration": 31,
    "start_time": "2022-04-06T09:36:31.162Z"
   },
   {
    "duration": 9,
    "start_time": "2022-04-06T09:36:31.194Z"
   },
   {
    "duration": 737,
    "start_time": "2022-04-06T09:36:31.205Z"
   },
   {
    "duration": 9,
    "start_time": "2022-04-06T09:36:31.944Z"
   },
   {
    "duration": 316,
    "start_time": "2022-04-06T09:36:31.955Z"
   },
   {
    "duration": 69,
    "start_time": "2022-04-06T09:36:32.276Z"
   },
   {
    "duration": 323,
    "start_time": "2022-04-06T09:36:32.349Z"
   },
   {
    "duration": 65,
    "start_time": "2022-04-06T09:36:32.674Z"
   },
   {
    "duration": 14,
    "start_time": "2022-04-06T09:36:32.741Z"
   },
   {
    "duration": 312,
    "start_time": "2022-04-06T09:36:32.757Z"
   },
   {
    "duration": 8,
    "start_time": "2022-04-06T09:36:33.071Z"
   },
   {
    "duration": 264,
    "start_time": "2022-04-06T09:36:33.081Z"
   },
   {
    "duration": 329,
    "start_time": "2022-04-06T09:36:33.347Z"
   },
   {
    "duration": 16,
    "start_time": "2022-04-06T09:36:33.678Z"
   },
   {
    "duration": 133,
    "start_time": "2022-04-06T09:36:33.695Z"
   },
   {
    "duration": 267,
    "start_time": "2022-04-06T09:36:33.830Z"
   },
   {
    "duration": 347,
    "start_time": "2022-04-06T09:36:34.098Z"
   },
   {
    "duration": 6,
    "start_time": "2022-04-06T09:36:34.447Z"
   },
   {
    "duration": 108,
    "start_time": "2022-04-06T09:36:34.455Z"
   },
   {
    "duration": 11,
    "start_time": "2022-04-06T09:37:45.501Z"
   },
   {
    "duration": 15,
    "start_time": "2022-04-06T09:38:36.479Z"
   },
   {
    "duration": 164,
    "start_time": "2022-04-06T09:39:01.207Z"
   },
   {
    "duration": 253,
    "start_time": "2022-04-06T09:39:27.594Z"
   },
   {
    "duration": 8,
    "start_time": "2022-04-06T09:40:09.181Z"
   },
   {
    "duration": 7,
    "start_time": "2022-04-06T09:41:00.834Z"
   },
   {
    "duration": 7,
    "start_time": "2022-04-06T09:41:11.583Z"
   },
   {
    "duration": 244,
    "start_time": "2022-04-06T09:41:28.215Z"
   },
   {
    "duration": 35,
    "start_time": "2022-04-06T09:43:18.308Z"
   },
   {
    "duration": 6,
    "start_time": "2022-04-06T09:44:09.597Z"
   },
   {
    "duration": 261,
    "start_time": "2022-04-06T09:44:57.130Z"
   },
   {
    "duration": 257,
    "start_time": "2022-04-06T09:46:50.483Z"
   },
   {
    "duration": 190,
    "start_time": "2022-04-06T09:48:09.897Z"
   },
   {
    "duration": 7,
    "start_time": "2022-04-06T09:49:37.641Z"
   },
   {
    "duration": 8,
    "start_time": "2022-04-06T09:49:51.448Z"
   },
   {
    "duration": 7,
    "start_time": "2022-04-06T09:50:13.264Z"
   },
   {
    "duration": 9,
    "start_time": "2022-04-06T09:50:56.963Z"
   },
   {
    "duration": 285,
    "start_time": "2022-04-06T09:52:01.137Z"
   },
   {
    "duration": 9,
    "start_time": "2022-04-06T09:52:10.392Z"
   },
   {
    "duration": 250,
    "start_time": "2022-04-06T09:53:03.992Z"
   },
   {
    "duration": 249,
    "start_time": "2022-04-06T09:53:27.127Z"
   },
   {
    "duration": 253,
    "start_time": "2022-04-06T09:53:58.666Z"
   },
   {
    "duration": 6,
    "start_time": "2022-04-06T09:56:20.414Z"
   },
   {
    "duration": 7,
    "start_time": "2022-04-06T09:56:43.090Z"
   },
   {
    "duration": 239,
    "start_time": "2022-04-06T09:56:54.911Z"
   },
   {
    "duration": 391,
    "start_time": "2022-04-06T09:57:20.201Z"
   },
   {
    "duration": 238,
    "start_time": "2022-04-06T09:58:49.653Z"
   },
   {
    "duration": 257,
    "start_time": "2022-04-06T09:59:14.893Z"
   },
   {
    "duration": 6,
    "start_time": "2022-04-06T09:59:47.110Z"
   },
   {
    "duration": 241,
    "start_time": "2022-04-06T10:00:17.308Z"
   },
   {
    "duration": 167,
    "start_time": "2022-04-06T10:01:25.844Z"
   },
   {
    "duration": 262,
    "start_time": "2022-04-06T10:01:33.916Z"
   },
   {
    "duration": 8,
    "start_time": "2022-04-06T10:01:46.505Z"
   },
   {
    "duration": 368,
    "start_time": "2022-04-06T10:02:28.892Z"
   },
   {
    "duration": 8,
    "start_time": "2022-04-06T10:02:33.275Z"
   },
   {
    "duration": 36,
    "start_time": "2022-04-06T10:17:36.988Z"
   },
   {
    "duration": 775,
    "start_time": "2022-04-06T10:18:10.869Z"
   },
   {
    "duration": 106,
    "start_time": "2022-04-06T10:18:11.647Z"
   },
   {
    "duration": 16,
    "start_time": "2022-04-06T10:18:11.755Z"
   },
   {
    "duration": 10,
    "start_time": "2022-04-06T10:18:11.773Z"
   },
   {
    "duration": 53,
    "start_time": "2022-04-06T10:18:11.785Z"
   },
   {
    "duration": 30,
    "start_time": "2022-04-06T10:18:11.840Z"
   },
   {
    "duration": 3,
    "start_time": "2022-04-06T10:18:11.872Z"
   },
   {
    "duration": 13,
    "start_time": "2022-04-06T10:18:11.876Z"
   },
   {
    "duration": 11,
    "start_time": "2022-04-06T10:18:11.890Z"
   },
   {
    "duration": 10,
    "start_time": "2022-04-06T10:18:11.933Z"
   },
   {
    "duration": 15,
    "start_time": "2022-04-06T10:18:11.944Z"
   },
   {
    "duration": 8,
    "start_time": "2022-04-06T10:18:11.961Z"
   },
   {
    "duration": 12,
    "start_time": "2022-04-06T10:18:11.971Z"
   },
   {
    "duration": 48,
    "start_time": "2022-04-06T10:18:11.985Z"
   },
   {
    "duration": 8,
    "start_time": "2022-04-06T10:18:12.035Z"
   },
   {
    "duration": 12,
    "start_time": "2022-04-06T10:18:12.045Z"
   },
   {
    "duration": 31,
    "start_time": "2022-04-06T10:18:12.059Z"
   },
   {
    "duration": 6,
    "start_time": "2022-04-06T10:18:12.092Z"
   },
   {
    "duration": 35,
    "start_time": "2022-04-06T10:18:12.100Z"
   },
   {
    "duration": 33,
    "start_time": "2022-04-06T10:18:12.137Z"
   },
   {
    "duration": 333,
    "start_time": "2022-04-06T10:18:12.172Z"
   },
   {
    "duration": 36,
    "start_time": "2022-04-06T10:18:12.507Z"
   },
   {
    "duration": 28,
    "start_time": "2022-04-06T10:18:12.544Z"
   },
   {
    "duration": 10,
    "start_time": "2022-04-06T10:18:12.574Z"
   },
   {
    "duration": 361,
    "start_time": "2022-04-06T10:18:12.585Z"
   },
   {
    "duration": 10,
    "start_time": "2022-04-06T10:18:12.948Z"
   },
   {
    "duration": 163,
    "start_time": "2022-04-06T10:18:12.960Z"
   },
   {
    "duration": 10,
    "start_time": "2022-04-06T10:18:13.133Z"
   },
   {
    "duration": 189,
    "start_time": "2022-04-06T10:18:13.145Z"
   },
   {
    "duration": 7,
    "start_time": "2022-04-06T10:18:13.336Z"
   },
   {
    "duration": 10,
    "start_time": "2022-04-06T10:18:13.345Z"
   },
   {
    "duration": 183,
    "start_time": "2022-04-06T10:18:13.357Z"
   },
   {
    "duration": 10,
    "start_time": "2022-04-06T10:18:13.542Z"
   },
   {
    "duration": 279,
    "start_time": "2022-04-06T10:18:13.554Z"
   },
   {
    "duration": 353,
    "start_time": "2022-04-06T10:18:13.835Z"
   },
   {
    "duration": 17,
    "start_time": "2022-04-06T10:18:14.190Z"
   },
   {
    "duration": 136,
    "start_time": "2022-04-06T10:18:14.208Z"
   },
   {
    "duration": 273,
    "start_time": "2022-04-06T10:18:14.346Z"
   },
   {
    "duration": 14,
    "start_time": "2022-04-06T10:18:14.621Z"
   },
   {
    "duration": 332,
    "start_time": "2022-04-06T10:18:14.637Z"
   },
   {
    "duration": 288,
    "start_time": "2022-04-06T10:18:14.970Z"
   },
   {
    "duration": 9,
    "start_time": "2022-04-06T10:18:15.260Z"
   },
   {
    "duration": 2747,
    "start_time": "2022-04-06T10:18:15.271Z"
   },
   {
    "duration": 0,
    "start_time": "2022-04-06T10:18:18.020Z"
   },
   {
    "duration": 0,
    "start_time": "2022-04-06T10:18:18.022Z"
   },
   {
    "duration": 0,
    "start_time": "2022-04-06T10:18:18.024Z"
   },
   {
    "duration": 0,
    "start_time": "2022-04-06T10:18:18.025Z"
   },
   {
    "duration": 7,
    "start_time": "2022-04-06T10:18:33.363Z"
   },
   {
    "duration": 28,
    "start_time": "2022-04-06T10:19:45.994Z"
   },
   {
    "duration": 28,
    "start_time": "2022-04-06T10:20:10.122Z"
   },
   {
    "duration": 28,
    "start_time": "2022-04-06T10:20:31.720Z"
   },
   {
    "duration": 7,
    "start_time": "2022-04-06T10:20:49.105Z"
   },
   {
    "duration": 4,
    "start_time": "2022-04-06T10:23:31.072Z"
   },
   {
    "duration": 6,
    "start_time": "2022-04-06T10:23:45.434Z"
   },
   {
    "duration": 5,
    "start_time": "2022-04-06T10:24:26.521Z"
   },
   {
    "duration": 167,
    "start_time": "2022-04-06T10:28:50.494Z"
   },
   {
    "duration": 164,
    "start_time": "2022-04-06T10:29:30.526Z"
   },
   {
    "duration": 32,
    "start_time": "2022-04-06T10:32:06.829Z"
   },
   {
    "duration": 687,
    "start_time": "2022-04-06T10:32:52.211Z"
   },
   {
    "duration": 15,
    "start_time": "2022-04-06T10:33:11.981Z"
   },
   {
    "duration": 18,
    "start_time": "2022-04-06T10:34:16.141Z"
   },
   {
    "duration": 5478,
    "start_time": "2022-04-06T10:35:48.563Z"
   },
   {
    "duration": 13,
    "start_time": "2022-04-06T10:37:19.446Z"
   },
   {
    "duration": 17,
    "start_time": "2022-04-06T10:37:40.473Z"
   },
   {
    "duration": 31,
    "start_time": "2022-04-06T10:41:22.776Z"
   },
   {
    "duration": 654,
    "start_time": "2022-04-06T10:45:41.662Z"
   },
   {
    "duration": 173,
    "start_time": "2022-04-06T10:45:50.910Z"
   },
   {
    "duration": 852,
    "start_time": "2022-04-06T10:46:03.168Z"
   },
   {
    "duration": 16,
    "start_time": "2022-04-06T10:46:11.824Z"
   },
   {
    "duration": 193,
    "start_time": "2022-04-06T10:46:54.608Z"
   },
   {
    "duration": 15,
    "start_time": "2022-04-06T10:47:05.556Z"
   },
   {
    "duration": 26,
    "start_time": "2022-04-06T10:48:04.072Z"
   },
   {
    "duration": 152,
    "start_time": "2022-04-06T10:48:47.579Z"
   },
   {
    "duration": 158,
    "start_time": "2022-04-06T10:49:45.602Z"
   },
   {
    "duration": 171,
    "start_time": "2022-04-06T10:49:56.185Z"
   },
   {
    "duration": 162,
    "start_time": "2022-04-06T10:50:21.279Z"
   },
   {
    "duration": 162,
    "start_time": "2022-04-06T10:50:36.594Z"
   },
   {
    "duration": 276,
    "start_time": "2022-04-06T10:51:21.290Z"
   },
   {
    "duration": 5,
    "start_time": "2022-04-06T10:52:19.330Z"
   },
   {
    "duration": 285,
    "start_time": "2022-04-06T10:57:29.685Z"
   },
   {
    "duration": 187,
    "start_time": "2022-04-06T10:58:30.904Z"
   },
   {
    "duration": 177,
    "start_time": "2022-04-06T11:00:05.894Z"
   },
   {
    "duration": 236,
    "start_time": "2022-04-06T11:00:23.652Z"
   },
   {
    "duration": 6,
    "start_time": "2022-04-06T11:01:02.529Z"
   },
   {
    "duration": 194,
    "start_time": "2022-04-06T11:10:02.528Z"
   },
   {
    "duration": 193,
    "start_time": "2022-04-06T11:28:38.205Z"
   },
   {
    "duration": 255,
    "start_time": "2022-04-06T11:29:07.932Z"
   },
   {
    "duration": 6,
    "start_time": "2022-04-06T11:30:23.864Z"
   },
   {
    "duration": 185,
    "start_time": "2022-04-06T12:02:22.809Z"
   },
   {
    "duration": 152,
    "start_time": "2022-04-06T12:03:00.907Z"
   },
   {
    "duration": 163,
    "start_time": "2022-04-06T12:03:38.371Z"
   },
   {
    "duration": 660,
    "start_time": "2022-04-06T12:05:19.793Z"
   },
   {
    "duration": 2734,
    "start_time": "2022-04-06T12:07:00.874Z"
   },
   {
    "duration": 2655,
    "start_time": "2022-04-06T12:07:25.403Z"
   },
   {
    "duration": 25,
    "start_time": "2022-04-06T12:08:28.487Z"
   },
   {
    "duration": 9,
    "start_time": "2022-04-06T12:09:31.823Z"
   },
   {
    "duration": 9,
    "start_time": "2022-04-06T12:09:44.054Z"
   },
   {
    "duration": 32,
    "start_time": "2022-04-06T12:10:39.423Z"
   },
   {
    "duration": 4,
    "start_time": "2022-04-06T12:10:51.322Z"
   },
   {
    "duration": 161,
    "start_time": "2022-04-06T12:11:53.902Z"
   },
   {
    "duration": 195,
    "start_time": "2022-04-06T12:12:10.508Z"
   },
   {
    "duration": 161,
    "start_time": "2022-04-06T12:12:23.973Z"
   },
   {
    "duration": 157,
    "start_time": "2022-04-06T12:12:35.272Z"
   },
   {
    "duration": 190,
    "start_time": "2022-04-06T12:12:47.337Z"
   },
   {
    "duration": 177,
    "start_time": "2022-04-06T12:12:58.883Z"
   },
   {
    "duration": 2771,
    "start_time": "2022-04-06T12:13:32.685Z"
   },
   {
    "duration": 2622,
    "start_time": "2022-04-06T12:13:54.668Z"
   },
   {
    "duration": 179,
    "start_time": "2022-04-06T12:14:32.231Z"
   },
   {
    "duration": 165,
    "start_time": "2022-04-06T12:15:11.243Z"
   },
   {
    "duration": 242,
    "start_time": "2022-04-06T12:15:21.507Z"
   },
   {
    "duration": 130,
    "start_time": "2022-04-06T12:15:29.886Z"
   },
   {
    "duration": 180,
    "start_time": "2022-04-06T12:17:59.306Z"
   },
   {
    "duration": 31,
    "start_time": "2022-04-06T12:18:04.193Z"
   },
   {
    "duration": 27,
    "start_time": "2022-04-06T12:18:55.902Z"
   },
   {
    "duration": 17,
    "start_time": "2022-04-06T12:19:19.586Z"
   },
   {
    "duration": 164,
    "start_time": "2022-04-06T12:19:28.309Z"
   },
   {
    "duration": 164,
    "start_time": "2022-04-06T12:19:36.272Z"
   },
   {
    "duration": 30,
    "start_time": "2022-04-06T12:19:51.615Z"
   },
   {
    "duration": 8,
    "start_time": "2022-04-06T12:20:30.242Z"
   },
   {
    "duration": 11,
    "start_time": "2022-04-06T12:20:56.791Z"
   },
   {
    "duration": 190,
    "start_time": "2022-04-06T12:21:41.311Z"
   },
   {
    "duration": 30,
    "start_time": "2022-04-06T12:22:12.986Z"
   },
   {
    "duration": 192,
    "start_time": "2022-04-06T12:23:09.882Z"
   },
   {
    "duration": 197,
    "start_time": "2022-04-06T12:23:30.653Z"
   },
   {
    "duration": 207,
    "start_time": "2022-04-06T12:23:45.687Z"
   },
   {
    "duration": 207,
    "start_time": "2022-04-06T12:24:01.301Z"
   },
   {
    "duration": 2818,
    "start_time": "2022-04-06T12:25:14.011Z"
   },
   {
    "duration": 5,
    "start_time": "2022-04-06T12:25:59.469Z"
   },
   {
    "duration": 31,
    "start_time": "2022-04-06T12:27:48.285Z"
   },
   {
    "duration": 196,
    "start_time": "2022-04-06T12:28:44.848Z"
   },
   {
    "duration": 25,
    "start_time": "2022-04-06T12:40:27.487Z"
   },
   {
    "duration": 164,
    "start_time": "2022-04-06T12:40:56.562Z"
   },
   {
    "duration": 216,
    "start_time": "2022-04-06T12:41:12.156Z"
   },
   {
    "duration": 161,
    "start_time": "2022-04-06T12:41:23.485Z"
   },
   {
    "duration": 6,
    "start_time": "2022-04-06T12:42:04.257Z"
   },
   {
    "duration": 164,
    "start_time": "2022-04-06T12:44:00.999Z"
   },
   {
    "duration": 20,
    "start_time": "2022-04-06T12:47:12.421Z"
   },
   {
    "duration": 19,
    "start_time": "2022-04-06T12:48:23.351Z"
   },
   {
    "duration": 17,
    "start_time": "2022-04-06T12:48:54.907Z"
   },
   {
    "duration": 4,
    "start_time": "2022-04-06T12:49:43.289Z"
   },
   {
    "duration": 27,
    "start_time": "2022-04-06T12:49:52.219Z"
   },
   {
    "duration": 25,
    "start_time": "2022-04-06T12:51:41.890Z"
   },
   {
    "duration": 26,
    "start_time": "2022-04-06T12:51:54.042Z"
   },
   {
    "duration": 15,
    "start_time": "2022-04-06T12:54:05.816Z"
   },
   {
    "duration": 5,
    "start_time": "2022-04-06T12:55:15.231Z"
   },
   {
    "duration": 164,
    "start_time": "2022-04-06T12:56:39.822Z"
   },
   {
    "duration": 167,
    "start_time": "2022-04-06T12:57:51.142Z"
   },
   {
    "duration": 167,
    "start_time": "2022-04-06T12:58:35.818Z"
   },
   {
    "duration": 31,
    "start_time": "2022-04-06T12:59:00.933Z"
   },
   {
    "duration": 2965,
    "start_time": "2022-04-06T13:00:22.700Z"
   },
   {
    "duration": 2876,
    "start_time": "2022-04-06T13:01:23.057Z"
   },
   {
    "duration": 216,
    "start_time": "2022-04-06T13:01:46.981Z"
   },
   {
    "duration": 247,
    "start_time": "2022-04-06T13:02:13.910Z"
   },
   {
    "duration": 256,
    "start_time": "2022-04-06T13:02:21.411Z"
   },
   {
    "duration": 160,
    "start_time": "2022-04-06T13:02:40.407Z"
   },
   {
    "duration": 175,
    "start_time": "2022-04-06T13:02:59.086Z"
   },
   {
    "duration": 400,
    "start_time": "2022-04-06T13:03:39.825Z"
   },
   {
    "duration": 263,
    "start_time": "2022-04-06T13:03:46.653Z"
   },
   {
    "duration": 254,
    "start_time": "2022-04-06T13:03:55.898Z"
   },
   {
    "duration": 222,
    "start_time": "2022-04-06T13:04:13.986Z"
   },
   {
    "duration": 221,
    "start_time": "2022-04-06T13:04:20.886Z"
   },
   {
    "duration": 35,
    "start_time": "2022-04-06T13:05:43.553Z"
   },
   {
    "duration": 255,
    "start_time": "2022-04-06T13:06:04.519Z"
   },
   {
    "duration": 274,
    "start_time": "2022-04-06T13:08:07.086Z"
   },
   {
    "duration": 286,
    "start_time": "2022-04-06T13:08:17.316Z"
   },
   {
    "duration": 150,
    "start_time": "2022-04-06T13:08:23.018Z"
   },
   {
    "duration": 246,
    "start_time": "2022-04-06T13:08:28.719Z"
   },
   {
    "duration": 237,
    "start_time": "2022-04-06T13:09:42.197Z"
   },
   {
    "duration": 240,
    "start_time": "2022-04-06T13:10:00.509Z"
   },
   {
    "duration": 267,
    "start_time": "2022-04-06T13:13:46.064Z"
   },
   {
    "duration": 2668,
    "start_time": "2022-04-06T13:15:55.272Z"
   },
   {
    "duration": 245,
    "start_time": "2022-04-06T13:16:04.143Z"
   },
   {
    "duration": 226,
    "start_time": "2022-04-06T13:16:33.289Z"
   },
   {
    "duration": 214,
    "start_time": "2022-04-06T13:17:41.898Z"
   },
   {
    "duration": 216,
    "start_time": "2022-04-06T13:17:53.952Z"
   },
   {
    "duration": 3260,
    "start_time": "2022-04-06T13:19:28.009Z"
   },
   {
    "duration": 35,
    "start_time": "2022-04-06T13:19:48.007Z"
   },
   {
    "duration": 157,
    "start_time": "2022-04-06T13:20:09.407Z"
   },
   {
    "duration": 203,
    "start_time": "2022-04-06T13:20:32.117Z"
   },
   {
    "duration": 37,
    "start_time": "2022-04-06T13:21:11.520Z"
   },
   {
    "duration": 31,
    "start_time": "2022-04-06T13:21:31.687Z"
   },
   {
    "duration": 270,
    "start_time": "2022-04-06T13:22:06.165Z"
   },
   {
    "duration": 22,
    "start_time": "2022-04-06T13:22:35.105Z"
   },
   {
    "duration": 192,
    "start_time": "2022-04-06T13:23:04.245Z"
   },
   {
    "duration": 175,
    "start_time": "2022-04-06T13:23:26.748Z"
   },
   {
    "duration": 188,
    "start_time": "2022-04-06T13:23:39.211Z"
   },
   {
    "duration": 29,
    "start_time": "2022-04-06T13:24:23.641Z"
   },
   {
    "duration": 28,
    "start_time": "2022-04-06T13:25:29.843Z"
   },
   {
    "duration": 195,
    "start_time": "2022-04-06T13:25:45.217Z"
   },
   {
    "duration": 182,
    "start_time": "2022-04-06T13:26:21.629Z"
   },
   {
    "duration": 185,
    "start_time": "2022-04-06T13:26:46.435Z"
   },
   {
    "duration": 175,
    "start_time": "2022-04-06T13:26:54.765Z"
   },
   {
    "duration": 30,
    "start_time": "2022-04-06T13:29:46.228Z"
   },
   {
    "duration": 8,
    "start_time": "2022-04-06T13:32:09.199Z"
   },
   {
    "duration": 14,
    "start_time": "2022-04-06T13:32:24.430Z"
   },
   {
    "duration": 15,
    "start_time": "2022-04-06T13:32:51.830Z"
   },
   {
    "duration": 44,
    "start_time": "2022-04-06T13:35:08.155Z"
   },
   {
    "duration": 24,
    "start_time": "2022-04-06T13:44:27.095Z"
   },
   {
    "duration": 10,
    "start_time": "2022-04-06T13:44:41.444Z"
   },
   {
    "duration": 10,
    "start_time": "2022-04-06T13:44:53.349Z"
   },
   {
    "duration": 10,
    "start_time": "2022-04-06T13:46:21.455Z"
   },
   {
    "duration": 44,
    "start_time": "2022-04-06T13:46:49.357Z"
   },
   {
    "duration": 10,
    "start_time": "2022-04-06T13:50:28.676Z"
   },
   {
    "duration": 11,
    "start_time": "2022-04-06T13:51:10.026Z"
   },
   {
    "duration": 8,
    "start_time": "2022-04-06T13:51:53.498Z"
   },
   {
    "duration": 185,
    "start_time": "2022-04-06T13:52:18.011Z"
   },
   {
    "duration": 23,
    "start_time": "2022-04-06T13:52:36.728Z"
   },
   {
    "duration": 12,
    "start_time": "2022-04-06T13:52:50.133Z"
   },
   {
    "duration": 11,
    "start_time": "2022-04-06T13:54:58.588Z"
   },
   {
    "duration": 16,
    "start_time": "2022-04-06T13:55:04.064Z"
   },
   {
    "duration": 15,
    "start_time": "2022-04-06T13:59:09.368Z"
   },
   {
    "duration": 23,
    "start_time": "2022-04-06T14:00:42.680Z"
   },
   {
    "duration": 26,
    "start_time": "2022-04-06T14:00:56.070Z"
   },
   {
    "duration": 8,
    "start_time": "2022-04-06T14:01:19.134Z"
   },
   {
    "duration": 8,
    "start_time": "2022-04-06T14:01:29.820Z"
   },
   {
    "duration": 25,
    "start_time": "2022-04-06T14:01:51.198Z"
   },
   {
    "duration": 21,
    "start_time": "2022-04-06T14:02:14.060Z"
   },
   {
    "duration": 23,
    "start_time": "2022-04-06T14:02:25.524Z"
   },
   {
    "duration": 20,
    "start_time": "2022-04-06T14:04:00.309Z"
   },
   {
    "duration": 7,
    "start_time": "2022-04-06T14:04:43.412Z"
   },
   {
    "duration": 10,
    "start_time": "2022-04-06T14:05:09.884Z"
   },
   {
    "duration": 14,
    "start_time": "2022-04-06T14:06:01.135Z"
   },
   {
    "duration": 7,
    "start_time": "2022-04-06T14:06:10.751Z"
   },
   {
    "duration": 18,
    "start_time": "2022-04-06T14:07:17.745Z"
   },
   {
    "duration": 18,
    "start_time": "2022-04-06T14:07:35.057Z"
   },
   {
    "duration": 6,
    "start_time": "2022-04-06T14:08:37.721Z"
   },
   {
    "duration": 6,
    "start_time": "2022-04-06T14:09:46.104Z"
   },
   {
    "duration": 788,
    "start_time": "2022-04-06T14:09:55.260Z"
   },
   {
    "duration": 105,
    "start_time": "2022-04-06T14:09:56.050Z"
   },
   {
    "duration": 6,
    "start_time": "2022-04-06T14:09:56.157Z"
   },
   {
    "duration": 28,
    "start_time": "2022-04-06T14:09:56.165Z"
   },
   {
    "duration": 25,
    "start_time": "2022-04-06T14:09:56.195Z"
   },
   {
    "duration": 38,
    "start_time": "2022-04-06T14:09:56.222Z"
   },
   {
    "duration": 31,
    "start_time": "2022-04-06T14:09:56.262Z"
   },
   {
    "duration": 2,
    "start_time": "2022-04-06T14:09:56.294Z"
   },
   {
    "duration": 26,
    "start_time": "2022-04-06T14:09:56.298Z"
   },
   {
    "duration": 20,
    "start_time": "2022-04-06T14:09:56.332Z"
   },
   {
    "duration": 28,
    "start_time": "2022-04-06T14:09:56.354Z"
   },
   {
    "duration": 14,
    "start_time": "2022-04-06T14:09:56.384Z"
   },
   {
    "duration": 28,
    "start_time": "2022-04-06T14:09:56.400Z"
   },
   {
    "duration": 16,
    "start_time": "2022-04-06T14:09:56.430Z"
   },
   {
    "duration": 24,
    "start_time": "2022-04-06T14:09:56.447Z"
   },
   {
    "duration": 12,
    "start_time": "2022-04-06T14:09:56.473Z"
   },
   {
    "duration": 26,
    "start_time": "2022-04-06T14:09:56.486Z"
   },
   {
    "duration": 40,
    "start_time": "2022-04-06T14:09:56.514Z"
   },
   {
    "duration": 6,
    "start_time": "2022-04-06T14:09:56.556Z"
   },
   {
    "duration": 14,
    "start_time": "2022-04-06T14:09:56.563Z"
   },
   {
    "duration": 33,
    "start_time": "2022-04-06T14:09:56.579Z"
   },
   {
    "duration": 334,
    "start_time": "2022-04-06T14:09:56.614Z"
   },
   {
    "duration": 24,
    "start_time": "2022-04-06T14:09:56.950Z"
   },
   {
    "duration": 30,
    "start_time": "2022-04-06T14:09:56.976Z"
   },
   {
    "duration": 26,
    "start_time": "2022-04-06T14:09:57.008Z"
   },
   {
    "duration": 337,
    "start_time": "2022-04-06T14:09:57.036Z"
   },
   {
    "duration": 10,
    "start_time": "2022-04-06T14:09:57.375Z"
   },
   {
    "duration": 162,
    "start_time": "2022-04-06T14:09:57.389Z"
   },
   {
    "duration": 9,
    "start_time": "2022-04-06T14:09:57.553Z"
   },
   {
    "duration": 176,
    "start_time": "2022-04-06T14:09:57.564Z"
   },
   {
    "duration": 7,
    "start_time": "2022-04-06T14:09:57.742Z"
   },
   {
    "duration": 9,
    "start_time": "2022-04-06T14:09:57.751Z"
   },
   {
    "duration": 178,
    "start_time": "2022-04-06T14:09:57.762Z"
   },
   {
    "duration": 9,
    "start_time": "2022-04-06T14:09:57.941Z"
   },
   {
    "duration": 270,
    "start_time": "2022-04-06T14:09:57.952Z"
   },
   {
    "duration": 332,
    "start_time": "2022-04-06T14:09:58.224Z"
   },
   {
    "duration": 16,
    "start_time": "2022-04-06T14:09:58.558Z"
   },
   {
    "duration": 128,
    "start_time": "2022-04-06T14:09:58.576Z"
   },
   {
    "duration": 293,
    "start_time": "2022-04-06T14:09:58.706Z"
   },
   {
    "duration": 7,
    "start_time": "2022-04-06T14:09:59.000Z"
   },
   {
    "duration": 340,
    "start_time": "2022-04-06T14:09:59.009Z"
   },
   {
    "duration": 273,
    "start_time": "2022-04-06T14:09:59.351Z"
   },
   {
    "duration": 12,
    "start_time": "2022-04-06T14:09:59.626Z"
   },
   {
    "duration": 231,
    "start_time": "2022-04-06T14:09:59.640Z"
   },
   {
    "duration": 5,
    "start_time": "2022-04-06T14:09:59.873Z"
   },
   {
    "duration": 197,
    "start_time": "2022-04-06T14:09:59.880Z"
   },
   {
    "duration": 6,
    "start_time": "2022-04-06T14:10:00.079Z"
   },
   {
    "duration": 247,
    "start_time": "2022-04-06T14:10:00.086Z"
   },
   {
    "duration": 6,
    "start_time": "2022-04-06T14:10:00.335Z"
   },
   {
    "duration": 33,
    "start_time": "2022-04-06T14:10:00.342Z"
   },
   {
    "duration": 161,
    "start_time": "2022-04-06T14:10:00.377Z"
   },
   {
    "duration": 176,
    "start_time": "2022-04-06T14:10:00.540Z"
   },
   {
    "duration": 183,
    "start_time": "2022-04-06T14:10:00.718Z"
   },
   {
    "duration": 190,
    "start_time": "2022-04-06T14:10:00.903Z"
   },
   {
    "duration": 40,
    "start_time": "2022-04-06T14:10:01.095Z"
   },
   {
    "duration": 10,
    "start_time": "2022-04-06T14:10:01.137Z"
   },
   {
    "duration": 17,
    "start_time": "2022-04-06T14:10:01.149Z"
   },
   {
    "duration": 11,
    "start_time": "2022-04-06T14:10:01.168Z"
   },
   {
    "duration": 5,
    "start_time": "2022-04-06T14:10:01.181Z"
   },
   {
    "duration": 8,
    "start_time": "2022-04-06T14:10:27.582Z"
   },
   {
    "duration": 7,
    "start_time": "2022-04-06T14:10:38.944Z"
   },
   {
    "duration": 8,
    "start_time": "2022-04-06T14:10:45.753Z"
   },
   {
    "duration": 6,
    "start_time": "2022-04-06T14:11:31.878Z"
   },
   {
    "duration": 9,
    "start_time": "2022-04-06T14:11:46.173Z"
   },
   {
    "duration": 8,
    "start_time": "2022-04-06T14:13:21.831Z"
   },
   {
    "duration": 4,
    "start_time": "2022-04-06T14:16:13.483Z"
   },
   {
    "duration": 16,
    "start_time": "2022-04-06T14:16:38.171Z"
   },
   {
    "duration": 20,
    "start_time": "2022-04-06T14:16:48.891Z"
   },
   {
    "duration": 20,
    "start_time": "2022-04-06T14:17:31.507Z"
   },
   {
    "duration": 21,
    "start_time": "2022-04-06T14:17:41.149Z"
   },
   {
    "duration": 104,
    "start_time": "2022-04-06T14:20:08.491Z"
   },
   {
    "duration": 26,
    "start_time": "2022-04-06T14:20:27.288Z"
   },
   {
    "duration": 83,
    "start_time": "2022-04-06T14:23:32.951Z"
   },
   {
    "duration": 27,
    "start_time": "2022-04-06T14:24:01.295Z"
   },
   {
    "duration": 152,
    "start_time": "2022-04-06T14:24:35.662Z"
   },
   {
    "duration": 7,
    "start_time": "2022-04-06T14:27:18.389Z"
   },
   {
    "duration": 26,
    "start_time": "2022-04-06T14:27:24.089Z"
   },
   {
    "duration": 155,
    "start_time": "2022-04-06T14:27:26.925Z"
   },
   {
    "duration": 8,
    "start_time": "2022-04-06T14:28:41.668Z"
   },
   {
    "duration": 36,
    "start_time": "2022-04-06T14:28:51.421Z"
   },
   {
    "duration": 43,
    "start_time": "2022-04-06T14:29:07.812Z"
   },
   {
    "duration": 23,
    "start_time": "2022-04-06T14:29:19.092Z"
   },
   {
    "duration": 19,
    "start_time": "2022-04-06T14:29:38.395Z"
   },
   {
    "duration": 26,
    "start_time": "2022-04-06T14:29:46.853Z"
   },
   {
    "duration": 38,
    "start_time": "2022-04-06T14:30:13.613Z"
   },
   {
    "duration": 9,
    "start_time": "2022-04-06T14:31:10.386Z"
   },
   {
    "duration": 9,
    "start_time": "2022-04-06T14:31:51.115Z"
   },
   {
    "duration": 9,
    "start_time": "2022-04-06T14:33:19.154Z"
   },
   {
    "duration": 9,
    "start_time": "2022-04-06T14:33:21.544Z"
   },
   {
    "duration": 5,
    "start_time": "2022-04-06T14:39:27.463Z"
   },
   {
    "duration": 533,
    "start_time": "2022-04-06T14:41:56.630Z"
   },
   {
    "duration": 0,
    "start_time": "2022-04-06T14:41:57.165Z"
   },
   {
    "duration": 6,
    "start_time": "2022-04-06T14:41:57.282Z"
   },
   {
    "duration": 5,
    "start_time": "2022-04-06T14:42:11.748Z"
   },
   {
    "duration": 5,
    "start_time": "2022-04-06T14:42:14.596Z"
   },
   {
    "duration": 6,
    "start_time": "2022-04-06T14:42:16.662Z"
   },
   {
    "duration": 190,
    "start_time": "2022-04-06T14:47:47.355Z"
   },
   {
    "duration": 211,
    "start_time": "2022-04-06T14:48:55.177Z"
   },
   {
    "duration": 178,
    "start_time": "2022-04-06T14:49:30.002Z"
   },
   {
    "duration": 171,
    "start_time": "2022-04-06T14:50:20.623Z"
   },
   {
    "duration": 184,
    "start_time": "2022-04-06T14:50:54.407Z"
   },
   {
    "duration": 169,
    "start_time": "2022-04-06T14:51:13.961Z"
   },
   {
    "duration": 3190,
    "start_time": "2022-04-06T14:52:34.367Z"
   },
   {
    "duration": 3012,
    "start_time": "2022-04-06T14:54:45.159Z"
   },
   {
    "duration": 24,
    "start_time": "2022-04-06T14:56:19.697Z"
   },
   {
    "duration": 212,
    "start_time": "2022-04-06T14:58:26.732Z"
   },
   {
    "duration": 151,
    "start_time": "2022-04-06T14:59:31.655Z"
   },
   {
    "duration": 6,
    "start_time": "2022-04-06T15:00:02.157Z"
   },
   {
    "duration": 169,
    "start_time": "2022-04-06T15:02:24.898Z"
   },
   {
    "duration": 155,
    "start_time": "2022-04-06T15:03:10.379Z"
   },
   {
    "duration": 174,
    "start_time": "2022-04-06T15:03:48.922Z"
   },
   {
    "duration": 158,
    "start_time": "2022-04-06T15:04:23.650Z"
   },
   {
    "duration": 161,
    "start_time": "2022-04-06T15:05:54.834Z"
   },
   {
    "duration": 157,
    "start_time": "2022-04-06T15:06:05.498Z"
   },
   {
    "duration": 237,
    "start_time": "2022-04-06T15:10:09.867Z"
   },
   {
    "duration": 334,
    "start_time": "2022-04-06T15:11:47.655Z"
   },
   {
    "duration": 267,
    "start_time": "2022-04-06T15:12:33.223Z"
   },
   {
    "duration": 242,
    "start_time": "2022-04-06T15:12:51.573Z"
   },
   {
    "duration": 244,
    "start_time": "2022-04-06T15:13:11.511Z"
   },
   {
    "duration": 257,
    "start_time": "2022-04-06T15:13:44.617Z"
   },
   {
    "duration": 235,
    "start_time": "2022-04-06T15:16:37.210Z"
   },
   {
    "duration": 156,
    "start_time": "2022-04-06T15:16:45.020Z"
   },
   {
    "duration": 155,
    "start_time": "2022-04-06T15:17:08.296Z"
   },
   {
    "duration": 166,
    "start_time": "2022-04-06T15:17:28.378Z"
   },
   {
    "duration": 188,
    "start_time": "2022-04-06T15:17:45.953Z"
   },
   {
    "duration": 174,
    "start_time": "2022-04-06T15:18:20.204Z"
   },
   {
    "duration": 189,
    "start_time": "2022-04-06T15:18:51.076Z"
   },
   {
    "duration": 188,
    "start_time": "2022-04-06T15:19:26.419Z"
   },
   {
    "duration": 173,
    "start_time": "2022-04-06T15:19:35.704Z"
   },
   {
    "duration": 174,
    "start_time": "2022-04-06T15:19:50.883Z"
   },
   {
    "duration": 170,
    "start_time": "2022-04-06T15:20:11.776Z"
   },
   {
    "duration": 302,
    "start_time": "2022-04-06T15:20:27.059Z"
   },
   {
    "duration": 153,
    "start_time": "2022-04-06T15:20:41.667Z"
   },
   {
    "duration": 171,
    "start_time": "2022-04-06T15:20:59.343Z"
   },
   {
    "duration": 164,
    "start_time": "2022-04-06T15:21:27.189Z"
   },
   {
    "duration": 164,
    "start_time": "2022-04-06T15:21:46.667Z"
   },
   {
    "duration": 180,
    "start_time": "2022-04-06T15:21:53.722Z"
   },
   {
    "duration": 158,
    "start_time": "2022-04-06T15:22:03.665Z"
   },
   {
    "duration": 163,
    "start_time": "2022-04-06T15:22:15.298Z"
   },
   {
    "duration": 142,
    "start_time": "2022-04-06T15:37:21.630Z"
   },
   {
    "duration": 932,
    "start_time": "2022-04-06T21:42:07.941Z"
   },
   {
    "duration": 100,
    "start_time": "2022-04-06T21:42:08.875Z"
   },
   {
    "duration": 23,
    "start_time": "2022-04-06T21:42:08.977Z"
   },
   {
    "duration": 9,
    "start_time": "2022-04-06T21:42:09.003Z"
   },
   {
    "duration": 30,
    "start_time": "2022-04-06T21:42:09.013Z"
   },
   {
    "duration": 31,
    "start_time": "2022-04-06T21:42:09.045Z"
   },
   {
    "duration": 3,
    "start_time": "2022-04-06T21:42:09.077Z"
   },
   {
    "duration": 9,
    "start_time": "2022-04-06T21:42:09.102Z"
   },
   {
    "duration": 10,
    "start_time": "2022-04-06T21:42:09.113Z"
   },
   {
    "duration": 8,
    "start_time": "2022-04-06T21:42:09.126Z"
   },
   {
    "duration": 9,
    "start_time": "2022-04-06T21:42:09.136Z"
   },
   {
    "duration": 6,
    "start_time": "2022-04-06T21:42:09.147Z"
   },
   {
    "duration": 50,
    "start_time": "2022-04-06T21:42:09.155Z"
   },
   {
    "duration": 11,
    "start_time": "2022-04-06T21:42:09.206Z"
   },
   {
    "duration": 9,
    "start_time": "2022-04-06T21:42:09.218Z"
   },
   {
    "duration": 11,
    "start_time": "2022-04-06T21:42:09.228Z"
   },
   {
    "duration": 27,
    "start_time": "2022-04-06T21:42:09.240Z"
   },
   {
    "duration": 32,
    "start_time": "2022-04-06T21:42:09.269Z"
   },
   {
    "duration": 6,
    "start_time": "2022-04-06T21:42:09.303Z"
   },
   {
    "duration": 27,
    "start_time": "2022-04-06T21:42:09.310Z"
   },
   {
    "duration": 312,
    "start_time": "2022-04-06T21:42:09.339Z"
   },
   {
    "duration": 24,
    "start_time": "2022-04-06T21:42:09.653Z"
   },
   {
    "duration": 39,
    "start_time": "2022-04-06T21:42:09.679Z"
   },
   {
    "duration": 10,
    "start_time": "2022-04-06T21:42:09.720Z"
   },
   {
    "duration": 316,
    "start_time": "2022-04-06T21:42:09.732Z"
   },
   {
    "duration": 10,
    "start_time": "2022-04-06T21:42:10.050Z"
   },
   {
    "duration": 150,
    "start_time": "2022-04-06T21:42:10.063Z"
   },
   {
    "duration": 10,
    "start_time": "2022-04-06T21:42:10.218Z"
   },
   {
    "duration": 153,
    "start_time": "2022-04-06T21:42:10.230Z"
   },
   {
    "duration": 17,
    "start_time": "2022-04-06T21:42:10.385Z"
   },
   {
    "duration": 10,
    "start_time": "2022-04-06T21:42:10.404Z"
   },
   {
    "duration": 156,
    "start_time": "2022-04-06T21:42:10.416Z"
   },
   {
    "duration": 10,
    "start_time": "2022-04-06T21:42:10.575Z"
   },
   {
    "duration": 227,
    "start_time": "2022-04-06T21:42:10.586Z"
   },
   {
    "duration": 290,
    "start_time": "2022-04-06T21:42:10.816Z"
   },
   {
    "duration": 10,
    "start_time": "2022-04-06T21:42:11.108Z"
   },
   {
    "duration": 122,
    "start_time": "2022-04-06T21:42:11.120Z"
   },
   {
    "duration": 239,
    "start_time": "2022-04-06T21:42:11.244Z"
   },
   {
    "duration": 17,
    "start_time": "2022-04-06T21:42:11.485Z"
   },
   {
    "duration": 297,
    "start_time": "2022-04-06T21:42:11.504Z"
   },
   {
    "duration": 229,
    "start_time": "2022-04-06T21:42:11.803Z"
   },
   {
    "duration": 8,
    "start_time": "2022-04-06T21:42:12.034Z"
   },
   {
    "duration": 204,
    "start_time": "2022-04-06T21:42:12.044Z"
   },
   {
    "duration": 5,
    "start_time": "2022-04-06T21:42:12.249Z"
   },
   {
    "duration": 168,
    "start_time": "2022-04-06T21:42:12.256Z"
   },
   {
    "duration": 4,
    "start_time": "2022-04-06T21:42:12.426Z"
   },
   {
    "duration": 254,
    "start_time": "2022-04-06T21:42:12.432Z"
   },
   {
    "duration": 5,
    "start_time": "2022-04-06T21:42:12.688Z"
   },
   {
    "duration": 30,
    "start_time": "2022-04-06T21:42:12.701Z"
   },
   {
    "duration": 133,
    "start_time": "2022-04-06T21:42:12.733Z"
   },
   {
    "duration": 155,
    "start_time": "2022-04-06T21:42:12.868Z"
   },
   {
    "duration": 167,
    "start_time": "2022-04-06T21:42:13.025Z"
   },
   {
    "duration": 169,
    "start_time": "2022-04-06T21:42:13.194Z"
   },
   {
    "duration": 24,
    "start_time": "2022-04-06T21:42:13.364Z"
   },
   {
    "duration": 18,
    "start_time": "2022-04-06T21:42:13.390Z"
   },
   {
    "duration": 10,
    "start_time": "2022-04-06T21:42:13.409Z"
   },
   {
    "duration": 11,
    "start_time": "2022-04-06T21:42:13.421Z"
   },
   {
    "duration": 134,
    "start_time": "2022-04-06T21:42:13.433Z"
   },
   {
    "duration": 147,
    "start_time": "2022-04-06T21:42:13.569Z"
   },
   {
    "duration": 29,
    "start_time": "2022-04-06T21:42:13.718Z"
   },
   {
    "duration": 8,
    "start_time": "2022-04-06T21:42:13.749Z"
   },
   {
    "duration": 9,
    "start_time": "2022-04-06T21:42:13.758Z"
   },
   {
    "duration": 36,
    "start_time": "2022-04-06T21:42:13.769Z"
   },
   {
    "duration": 8,
    "start_time": "2022-04-06T21:42:13.807Z"
   },
   {
    "duration": 162,
    "start_time": "2022-04-06T21:42:13.816Z"
   },
   {
    "duration": 152,
    "start_time": "2022-04-06T21:42:13.979Z"
   },
   {
    "duration": 154,
    "start_time": "2022-04-06T21:42:14.132Z"
   },
   {
    "duration": 5,
    "start_time": "2022-04-06T21:42:14.288Z"
   },
   {
    "duration": 162,
    "start_time": "2022-04-06T21:42:14.301Z"
   },
   {
    "duration": 173,
    "start_time": "2022-04-06T21:42:14.465Z"
   },
   {
    "duration": 154,
    "start_time": "2022-04-06T21:42:14.639Z"
   },
   {
    "duration": 786,
    "start_time": "2022-04-06T21:43:30.716Z"
   },
   {
    "duration": 98,
    "start_time": "2022-04-06T21:43:31.504Z"
   },
   {
    "duration": 16,
    "start_time": "2022-04-06T21:43:31.604Z"
   },
   {
    "duration": 9,
    "start_time": "2022-04-06T21:43:31.622Z"
   },
   {
    "duration": 29,
    "start_time": "2022-04-06T21:43:31.633Z"
   },
   {
    "duration": 55,
    "start_time": "2022-04-06T21:43:31.664Z"
   },
   {
    "duration": 3,
    "start_time": "2022-04-06T21:43:31.721Z"
   },
   {
    "duration": 10,
    "start_time": "2022-04-06T21:43:31.725Z"
   },
   {
    "duration": 10,
    "start_time": "2022-04-06T21:43:31.737Z"
   },
   {
    "duration": 9,
    "start_time": "2022-04-06T21:43:31.750Z"
   },
   {
    "duration": 9,
    "start_time": "2022-04-06T21:43:31.760Z"
   },
   {
    "duration": 7,
    "start_time": "2022-04-06T21:43:31.800Z"
   },
   {
    "duration": 8,
    "start_time": "2022-04-06T21:43:31.809Z"
   },
   {
    "duration": 10,
    "start_time": "2022-04-06T21:43:31.819Z"
   },
   {
    "duration": 6,
    "start_time": "2022-04-06T21:43:31.831Z"
   },
   {
    "duration": 10,
    "start_time": "2022-04-06T21:43:31.838Z"
   },
   {
    "duration": 61,
    "start_time": "2022-04-06T21:43:31.849Z"
   },
   {
    "duration": 5,
    "start_time": "2022-04-06T21:43:31.912Z"
   },
   {
    "duration": 23,
    "start_time": "2022-04-06T21:43:31.919Z"
   },
   {
    "duration": 32,
    "start_time": "2022-04-06T21:43:31.943Z"
   },
   {
    "duration": 281,
    "start_time": "2022-04-06T21:43:31.976Z"
   },
   {
    "duration": 22,
    "start_time": "2022-04-06T21:43:32.259Z"
   },
   {
    "duration": 34,
    "start_time": "2022-04-06T21:43:32.282Z"
   },
   {
    "duration": 8,
    "start_time": "2022-04-06T21:43:32.318Z"
   },
   {
    "duration": 272,
    "start_time": "2022-04-06T21:43:32.327Z"
   },
   {
    "duration": 8,
    "start_time": "2022-04-06T21:43:32.601Z"
   },
   {
    "duration": 129,
    "start_time": "2022-04-06T21:43:32.611Z"
   },
   {
    "duration": 8,
    "start_time": "2022-04-06T21:43:32.744Z"
   },
   {
    "duration": 191,
    "start_time": "2022-04-06T21:43:32.753Z"
   },
   {
    "duration": 61,
    "start_time": "2022-04-06T21:43:32.945Z"
   },
   {
    "duration": 7,
    "start_time": "2022-04-06T21:43:33.008Z"
   },
   {
    "duration": 225,
    "start_time": "2022-04-06T21:43:33.017Z"
   },
   {
    "duration": 60,
    "start_time": "2022-04-06T21:43:33.244Z"
   },
   {
    "duration": 409,
    "start_time": "2022-04-06T21:43:33.306Z"
   },
   {
    "duration": 586,
    "start_time": "2022-04-06T21:43:33.716Z"
   },
   {
    "duration": 9,
    "start_time": "2022-04-06T21:43:34.304Z"
   },
   {
    "duration": 143,
    "start_time": "2022-04-06T21:43:34.315Z"
   },
   {
    "duration": 213,
    "start_time": "2022-04-06T21:43:34.460Z"
   },
   {
    "duration": 6,
    "start_time": "2022-04-06T21:43:34.675Z"
   },
   {
    "duration": 284,
    "start_time": "2022-04-06T21:43:34.682Z"
   },
   {
    "duration": 220,
    "start_time": "2022-04-06T21:43:34.968Z"
   },
   {
    "duration": 12,
    "start_time": "2022-04-06T21:43:35.190Z"
   },
   {
    "duration": 179,
    "start_time": "2022-04-06T21:43:35.203Z"
   },
   {
    "duration": 6,
    "start_time": "2022-04-06T21:43:35.384Z"
   },
   {
    "duration": 161,
    "start_time": "2022-04-06T21:43:35.401Z"
   },
   {
    "duration": 5,
    "start_time": "2022-04-06T21:43:35.564Z"
   },
   {
    "duration": 252,
    "start_time": "2022-04-06T21:43:35.571Z"
   },
   {
    "duration": 6,
    "start_time": "2022-04-06T21:43:35.825Z"
   },
   {
    "duration": 30,
    "start_time": "2022-04-06T21:43:35.834Z"
   },
   {
    "duration": 152,
    "start_time": "2022-04-06T21:43:35.866Z"
   },
   {
    "duration": 157,
    "start_time": "2022-04-06T21:43:36.020Z"
   },
   {
    "duration": 165,
    "start_time": "2022-04-06T21:43:36.180Z"
   },
   {
    "duration": 159,
    "start_time": "2022-04-06T21:43:36.347Z"
   },
   {
    "duration": 27,
    "start_time": "2022-04-06T21:43:36.508Z"
   },
   {
    "duration": 9,
    "start_time": "2022-04-06T21:43:36.537Z"
   },
   {
    "duration": 20,
    "start_time": "2022-04-06T21:43:36.548Z"
   },
   {
    "duration": 8,
    "start_time": "2022-04-06T21:43:36.571Z"
   },
   {
    "duration": 119,
    "start_time": "2022-04-06T21:43:36.602Z"
   },
   {
    "duration": 154,
    "start_time": "2022-04-06T21:43:36.723Z"
   },
   {
    "duration": 37,
    "start_time": "2022-04-06T21:43:36.879Z"
   },
   {
    "duration": 8,
    "start_time": "2022-04-06T21:43:36.918Z"
   },
   {
    "duration": 8,
    "start_time": "2022-04-06T21:43:36.928Z"
   },
   {
    "duration": 7,
    "start_time": "2022-04-06T21:43:36.938Z"
   },
   {
    "duration": 8,
    "start_time": "2022-04-06T21:43:36.947Z"
   },
   {
    "duration": 180,
    "start_time": "2022-04-06T21:43:36.957Z"
   },
   {
    "duration": 151,
    "start_time": "2022-04-06T21:43:37.139Z"
   },
   {
    "duration": 158,
    "start_time": "2022-04-06T21:43:37.292Z"
   },
   {
    "duration": 5,
    "start_time": "2022-04-06T21:43:37.453Z"
   },
   {
    "duration": 154,
    "start_time": "2022-04-06T21:43:37.460Z"
   },
   {
    "duration": 163,
    "start_time": "2022-04-06T21:43:37.616Z"
   },
   {
    "duration": 152,
    "start_time": "2022-04-06T21:43:37.781Z"
   },
   {
    "duration": 135,
    "start_time": "2022-04-06T22:02:34.103Z"
   },
   {
    "duration": 206,
    "start_time": "2022-04-06T22:02:46.595Z"
   },
   {
    "duration": 996,
    "start_time": "2022-04-07T11:02:29.188Z"
   },
   {
    "duration": 138,
    "start_time": "2022-04-07T11:02:30.187Z"
   },
   {
    "duration": 21,
    "start_time": "2022-04-07T11:02:30.328Z"
   },
   {
    "duration": 11,
    "start_time": "2022-04-07T11:02:30.352Z"
   },
   {
    "duration": 90,
    "start_time": "2022-04-07T11:02:30.365Z"
   },
   {
    "duration": 30,
    "start_time": "2022-04-07T11:02:30.456Z"
   },
   {
    "duration": 2,
    "start_time": "2022-04-07T11:02:30.487Z"
   },
   {
    "duration": 29,
    "start_time": "2022-04-07T11:02:30.491Z"
   },
   {
    "duration": 37,
    "start_time": "2022-04-07T11:02:30.523Z"
   },
   {
    "duration": 37,
    "start_time": "2022-04-07T11:02:30.563Z"
   },
   {
    "duration": 47,
    "start_time": "2022-04-07T11:02:30.602Z"
   },
   {
    "duration": 10,
    "start_time": "2022-04-07T11:02:30.651Z"
   },
   {
    "duration": 10,
    "start_time": "2022-04-07T11:02:30.662Z"
   },
   {
    "duration": 11,
    "start_time": "2022-04-07T11:02:30.674Z"
   },
   {
    "duration": 13,
    "start_time": "2022-04-07T11:02:30.687Z"
   },
   {
    "duration": 42,
    "start_time": "2022-04-07T11:02:30.702Z"
   },
   {
    "duration": 27,
    "start_time": "2022-04-07T11:02:30.746Z"
   },
   {
    "duration": 6,
    "start_time": "2022-04-07T11:02:30.775Z"
   },
   {
    "duration": 17,
    "start_time": "2022-04-07T11:02:30.783Z"
   },
   {
    "duration": 42,
    "start_time": "2022-04-07T11:02:30.802Z"
   },
   {
    "duration": 350,
    "start_time": "2022-04-07T11:02:30.846Z"
   },
   {
    "duration": 35,
    "start_time": "2022-04-07T11:02:31.198Z"
   },
   {
    "duration": 25,
    "start_time": "2022-04-07T11:02:31.234Z"
   },
   {
    "duration": 8,
    "start_time": "2022-04-07T11:02:31.261Z"
   },
   {
    "duration": 372,
    "start_time": "2022-04-07T11:02:31.271Z"
   },
   {
    "duration": 9,
    "start_time": "2022-04-07T11:02:31.645Z"
   },
   {
    "duration": 293,
    "start_time": "2022-04-07T11:02:31.655Z"
   },
   {
    "duration": 9,
    "start_time": "2022-04-07T11:02:31.952Z"
   },
   {
    "duration": 205,
    "start_time": "2022-04-07T11:02:31.962Z"
   },
   {
    "duration": 7,
    "start_time": "2022-04-07T11:02:32.168Z"
   },
   {
    "duration": 8,
    "start_time": "2022-04-07T11:02:32.176Z"
   },
   {
    "duration": 272,
    "start_time": "2022-04-07T11:02:32.186Z"
   },
   {
    "duration": 55,
    "start_time": "2022-04-07T11:02:32.460Z"
   },
   {
    "duration": 533,
    "start_time": "2022-04-07T11:02:32.516Z"
   },
   {
    "duration": 698,
    "start_time": "2022-04-07T11:02:33.051Z"
   },
   {
    "duration": 64,
    "start_time": "2022-04-07T11:02:33.750Z"
   },
   {
    "duration": 235,
    "start_time": "2022-04-07T11:02:33.816Z"
   },
   {
    "duration": 453,
    "start_time": "2022-04-07T11:02:34.052Z"
   },
   {
    "duration": 9,
    "start_time": "2022-04-07T11:02:34.511Z"
   },
   {
    "duration": 281,
    "start_time": "2022-04-07T11:02:34.524Z"
   },
   {
    "duration": 291,
    "start_time": "2022-04-07T11:02:34.810Z"
   },
   {
    "duration": 19,
    "start_time": "2022-04-07T11:02:35.103Z"
   },
   {
    "duration": 215,
    "start_time": "2022-04-07T11:02:35.124Z"
   },
   {
    "duration": 5,
    "start_time": "2022-04-07T11:02:35.341Z"
   },
   {
    "duration": 204,
    "start_time": "2022-04-07T11:02:35.348Z"
   },
   {
    "duration": 5,
    "start_time": "2022-04-07T11:02:35.554Z"
   },
   {
    "duration": 291,
    "start_time": "2022-04-07T11:02:35.561Z"
   },
   {
    "duration": 5,
    "start_time": "2022-04-07T11:02:35.854Z"
   },
   {
    "duration": 31,
    "start_time": "2022-04-07T11:02:35.861Z"
   },
   {
    "duration": 149,
    "start_time": "2022-04-07T11:02:35.908Z"
   },
   {
    "duration": 189,
    "start_time": "2022-04-07T11:02:36.058Z"
   },
   {
    "duration": 200,
    "start_time": "2022-04-07T11:02:36.249Z"
   },
   {
    "duration": 277,
    "start_time": "2022-04-07T11:02:36.451Z"
   },
   {
    "duration": 26,
    "start_time": "2022-04-07T11:02:36.730Z"
   },
   {
    "duration": 9,
    "start_time": "2022-04-07T11:02:36.758Z"
   },
   {
    "duration": 17,
    "start_time": "2022-04-07T11:02:36.769Z"
   },
   {
    "duration": 50,
    "start_time": "2022-04-07T11:02:36.788Z"
   },
   {
    "duration": 33,
    "start_time": "2022-04-07T11:02:36.840Z"
   },
   {
    "duration": 162,
    "start_time": "2022-04-07T11:02:36.874Z"
   },
   {
    "duration": 29,
    "start_time": "2022-04-07T11:02:37.038Z"
   },
   {
    "duration": 13,
    "start_time": "2022-04-07T11:02:37.069Z"
   },
   {
    "duration": 35,
    "start_time": "2022-04-07T11:02:37.083Z"
   },
   {
    "duration": 16,
    "start_time": "2022-04-07T11:02:37.120Z"
   },
   {
    "duration": 22,
    "start_time": "2022-04-07T11:02:37.138Z"
   },
   {
    "duration": 182,
    "start_time": "2022-04-07T11:02:37.162Z"
   },
   {
    "duration": 178,
    "start_time": "2022-04-07T11:02:37.346Z"
   },
   {
    "duration": 172,
    "start_time": "2022-04-07T11:02:37.527Z"
   },
   {
    "duration": 15,
    "start_time": "2022-04-07T11:02:37.700Z"
   },
   {
    "duration": 180,
    "start_time": "2022-04-07T11:02:37.719Z"
   },
   {
    "duration": 187,
    "start_time": "2022-04-07T11:02:37.900Z"
   },
   {
    "duration": 184,
    "start_time": "2022-04-07T11:02:38.089Z"
   },
   {
    "duration": 794,
    "start_time": "2022-04-07T11:05:42.506Z"
   },
   {
    "duration": 101,
    "start_time": "2022-04-07T11:05:43.302Z"
   },
   {
    "duration": 29,
    "start_time": "2022-04-07T11:05:43.404Z"
   },
   {
    "duration": 10,
    "start_time": "2022-04-07T11:05:43.436Z"
   },
   {
    "duration": 32,
    "start_time": "2022-04-07T11:05:43.448Z"
   },
   {
    "duration": 47,
    "start_time": "2022-04-07T11:05:43.482Z"
   },
   {
    "duration": 3,
    "start_time": "2022-04-07T11:05:43.538Z"
   },
   {
    "duration": 12,
    "start_time": "2022-04-07T11:05:43.542Z"
   },
   {
    "duration": 9,
    "start_time": "2022-04-07T11:05:43.556Z"
   },
   {
    "duration": 8,
    "start_time": "2022-04-07T11:05:43.568Z"
   },
   {
    "duration": 39,
    "start_time": "2022-04-07T11:05:43.577Z"
   },
   {
    "duration": 8,
    "start_time": "2022-04-07T11:05:43.619Z"
   },
   {
    "duration": 11,
    "start_time": "2022-04-07T11:05:43.630Z"
   },
   {
    "duration": 10,
    "start_time": "2022-04-07T11:05:43.642Z"
   },
   {
    "duration": 5,
    "start_time": "2022-04-07T11:05:43.654Z"
   },
   {
    "duration": 13,
    "start_time": "2022-04-07T11:05:43.661Z"
   },
   {
    "duration": 74,
    "start_time": "2022-04-07T11:05:43.675Z"
   },
   {
    "duration": 7,
    "start_time": "2022-04-07T11:05:43.751Z"
   },
   {
    "duration": 10,
    "start_time": "2022-04-07T11:05:43.759Z"
   },
   {
    "duration": 28,
    "start_time": "2022-04-07T11:05:43.771Z"
   },
   {
    "duration": 358,
    "start_time": "2022-04-07T11:05:43.801Z"
   },
   {
    "duration": 22,
    "start_time": "2022-04-07T11:05:44.161Z"
   },
   {
    "duration": 44,
    "start_time": "2022-04-07T11:05:44.184Z"
   },
   {
    "duration": 10,
    "start_time": "2022-04-07T11:05:44.233Z"
   },
   {
    "duration": 358,
    "start_time": "2022-04-07T11:05:44.245Z"
   },
   {
    "duration": 11,
    "start_time": "2022-04-07T11:05:44.605Z"
   },
   {
    "duration": 280,
    "start_time": "2022-04-07T11:05:44.618Z"
   },
   {
    "duration": 21,
    "start_time": "2022-04-07T11:05:44.902Z"
   },
   {
    "duration": 485,
    "start_time": "2022-04-07T11:05:44.925Z"
   },
   {
    "duration": 7,
    "start_time": "2022-04-07T11:05:45.412Z"
   },
   {
    "duration": 16,
    "start_time": "2022-04-07T11:05:45.421Z"
   },
   {
    "duration": 476,
    "start_time": "2022-04-07T11:05:45.439Z"
   },
   {
    "duration": 11,
    "start_time": "2022-04-07T11:05:45.917Z"
   },
   {
    "duration": 608,
    "start_time": "2022-04-07T11:05:45.930Z"
   },
   {
    "duration": 668,
    "start_time": "2022-04-07T11:05:46.540Z"
   },
   {
    "duration": 10,
    "start_time": "2022-04-07T11:05:47.211Z"
   },
   {
    "duration": 142,
    "start_time": "2022-04-07T11:05:47.224Z"
   },
   {
    "duration": 394,
    "start_time": "2022-04-07T11:05:47.368Z"
   },
   {
    "duration": 6,
    "start_time": "2022-04-07T11:05:47.764Z"
   },
   {
    "duration": 291,
    "start_time": "2022-04-07T11:05:47.772Z"
   },
   {
    "duration": 284,
    "start_time": "2022-04-07T11:05:48.065Z"
   },
   {
    "duration": 9,
    "start_time": "2022-04-07T11:05:48.351Z"
   },
   {
    "duration": 237,
    "start_time": "2022-04-07T11:05:48.362Z"
   },
   {
    "duration": 9,
    "start_time": "2022-04-07T11:05:48.601Z"
   },
   {
    "duration": 197,
    "start_time": "2022-04-07T11:05:48.612Z"
   },
   {
    "duration": 9,
    "start_time": "2022-04-07T11:05:48.811Z"
   },
   {
    "duration": 280,
    "start_time": "2022-04-07T11:05:48.822Z"
   },
   {
    "duration": 7,
    "start_time": "2022-04-07T11:05:49.111Z"
   },
   {
    "duration": 41,
    "start_time": "2022-04-07T11:05:49.120Z"
   },
   {
    "duration": 164,
    "start_time": "2022-04-07T11:05:49.162Z"
   },
   {
    "duration": 185,
    "start_time": "2022-04-07T11:05:49.329Z"
   },
   {
    "duration": 197,
    "start_time": "2022-04-07T11:05:49.516Z"
   },
   {
    "duration": 305,
    "start_time": "2022-04-07T11:05:49.715Z"
   },
   {
    "duration": 37,
    "start_time": "2022-04-07T11:05:50.023Z"
   },
   {
    "duration": 8,
    "start_time": "2022-04-07T11:05:50.062Z"
   },
   {
    "duration": 12,
    "start_time": "2022-04-07T11:05:50.072Z"
   },
   {
    "duration": 8,
    "start_time": "2022-04-07T11:05:50.086Z"
   },
   {
    "duration": 41,
    "start_time": "2022-04-07T11:05:50.108Z"
   },
   {
    "duration": 199,
    "start_time": "2022-04-07T11:05:50.151Z"
   },
   {
    "duration": 31,
    "start_time": "2022-04-07T11:05:50.352Z"
   },
   {
    "duration": 9,
    "start_time": "2022-04-07T11:05:50.385Z"
   },
   {
    "duration": 26,
    "start_time": "2022-04-07T11:05:50.395Z"
   },
   {
    "duration": 10,
    "start_time": "2022-04-07T11:05:50.431Z"
   },
   {
    "duration": 9,
    "start_time": "2022-04-07T11:05:50.443Z"
   },
   {
    "duration": 209,
    "start_time": "2022-04-07T11:05:50.453Z"
   },
   {
    "duration": 202,
    "start_time": "2022-04-07T11:05:50.664Z"
   },
   {
    "duration": 195,
    "start_time": "2022-04-07T11:05:50.868Z"
   },
   {
    "duration": 6,
    "start_time": "2022-04-07T11:05:51.064Z"
   },
   {
    "duration": 206,
    "start_time": "2022-04-07T11:05:51.072Z"
   },
   {
    "duration": 207,
    "start_time": "2022-04-07T11:05:51.280Z"
   },
   {
    "duration": 184,
    "start_time": "2022-04-07T11:05:51.489Z"
   },
   {
    "duration": 7,
    "start_time": "2022-04-07T11:09:46.202Z"
   },
   {
    "duration": 7,
    "start_time": "2022-04-07T11:11:54.670Z"
   },
   {
    "duration": 28,
    "start_time": "2022-04-07T11:28:43.740Z"
   },
   {
    "duration": 37,
    "start_time": "2022-04-07T11:31:56.196Z"
   },
   {
    "duration": 26,
    "start_time": "2022-04-07T11:35:56.143Z"
   },
   {
    "duration": 33,
    "start_time": "2022-04-07T11:36:20.916Z"
   },
   {
    "duration": 880,
    "start_time": "2022-04-08T18:26:15.068Z"
   },
   {
    "duration": 84,
    "start_time": "2022-04-08T18:26:15.950Z"
   },
   {
    "duration": 13,
    "start_time": "2022-04-08T18:26:16.036Z"
   },
   {
    "duration": 8,
    "start_time": "2022-04-08T18:26:16.051Z"
   },
   {
    "duration": 45,
    "start_time": "2022-04-08T18:26:16.061Z"
   },
   {
    "duration": 28,
    "start_time": "2022-04-08T18:26:16.108Z"
   },
   {
    "duration": 8,
    "start_time": "2022-04-08T18:26:16.138Z"
   },
   {
    "duration": 9,
    "start_time": "2022-04-08T18:26:16.148Z"
   },
   {
    "duration": 9,
    "start_time": "2022-04-08T18:26:16.181Z"
   },
   {
    "duration": 10,
    "start_time": "2022-04-08T18:26:16.193Z"
   },
   {
    "duration": 6,
    "start_time": "2022-04-08T18:26:16.204Z"
   },
   {
    "duration": 7,
    "start_time": "2022-04-08T18:26:16.212Z"
   },
   {
    "duration": 9,
    "start_time": "2022-04-08T18:26:16.221Z"
   },
   {
    "duration": 5,
    "start_time": "2022-04-08T18:26:16.232Z"
   },
   {
    "duration": 46,
    "start_time": "2022-04-08T18:26:16.239Z"
   },
   {
    "duration": 24,
    "start_time": "2022-04-08T18:26:16.287Z"
   },
   {
    "duration": 28,
    "start_time": "2022-04-08T18:26:16.312Z"
   },
   {
    "duration": 289,
    "start_time": "2022-04-08T18:26:16.342Z"
   },
   {
    "duration": 19,
    "start_time": "2022-04-08T18:26:16.632Z"
   },
   {
    "duration": 37,
    "start_time": "2022-04-08T18:26:16.652Z"
   },
   {
    "duration": 6,
    "start_time": "2022-04-08T18:26:16.690Z"
   },
   {
    "duration": 261,
    "start_time": "2022-04-08T18:26:16.698Z"
   },
   {
    "duration": 8,
    "start_time": "2022-04-08T18:26:16.961Z"
   },
   {
    "duration": 195,
    "start_time": "2022-04-08T18:26:16.981Z"
   },
   {
    "duration": 7,
    "start_time": "2022-04-08T18:26:17.181Z"
   },
   {
    "duration": 131,
    "start_time": "2022-04-08T18:26:17.189Z"
   },
   {
    "duration": 6,
    "start_time": "2022-04-08T18:26:17.321Z"
   },
   {
    "duration": 7,
    "start_time": "2022-04-08T18:26:17.331Z"
   },
   {
    "duration": 131,
    "start_time": "2022-04-08T18:26:17.339Z"
   },
   {
    "duration": 14,
    "start_time": "2022-04-08T18:26:17.472Z"
   },
   {
    "duration": 200,
    "start_time": "2022-04-08T18:26:17.487Z"
   },
   {
    "duration": 253,
    "start_time": "2022-04-08T18:26:17.689Z"
   },
   {
    "duration": 8,
    "start_time": "2022-04-08T18:26:17.943Z"
   },
   {
    "duration": 101,
    "start_time": "2022-04-08T18:26:17.953Z"
   },
   {
    "duration": 263,
    "start_time": "2022-04-08T18:26:18.055Z"
   },
   {
    "duration": 7,
    "start_time": "2022-04-08T18:26:18.319Z"
   },
   {
    "duration": 204,
    "start_time": "2022-04-08T18:26:18.327Z"
   },
   {
    "duration": 208,
    "start_time": "2022-04-08T18:26:18.533Z"
   },
   {
    "duration": 8,
    "start_time": "2022-04-08T18:26:18.743Z"
   },
   {
    "duration": 169,
    "start_time": "2022-04-08T18:26:18.752Z"
   },
   {
    "duration": 5,
    "start_time": "2022-04-08T18:26:18.923Z"
   },
   {
    "duration": 158,
    "start_time": "2022-04-08T18:26:18.930Z"
   },
   {
    "duration": 5,
    "start_time": "2022-04-08T18:26:19.090Z"
   },
   {
    "duration": 225,
    "start_time": "2022-04-08T18:26:19.096Z"
   },
   {
    "duration": 5,
    "start_time": "2022-04-08T18:26:19.323Z"
   },
   {
    "duration": 31,
    "start_time": "2022-04-08T18:26:19.329Z"
   },
   {
    "duration": 134,
    "start_time": "2022-04-08T18:26:19.362Z"
   },
   {
    "duration": 162,
    "start_time": "2022-04-08T18:26:19.498Z"
   },
   {
    "duration": 153,
    "start_time": "2022-04-08T18:26:19.662Z"
   },
   {
    "duration": 218,
    "start_time": "2022-04-08T18:26:19.817Z"
   },
   {
    "duration": 23,
    "start_time": "2022-04-08T18:26:20.037Z"
   },
   {
    "duration": 25,
    "start_time": "2022-04-08T18:26:20.061Z"
   },
   {
    "duration": 10,
    "start_time": "2022-04-08T18:26:20.087Z"
   },
   {
    "duration": 8,
    "start_time": "2022-04-08T18:26:20.098Z"
   },
   {
    "duration": 24,
    "start_time": "2022-04-08T18:26:20.108Z"
   },
   {
    "duration": 149,
    "start_time": "2022-04-08T18:26:20.133Z"
   },
   {
    "duration": 25,
    "start_time": "2022-04-08T18:26:20.284Z"
   },
   {
    "duration": 8,
    "start_time": "2022-04-08T18:26:20.311Z"
   },
   {
    "duration": 6,
    "start_time": "2022-04-08T18:26:20.321Z"
   },
   {
    "duration": 7,
    "start_time": "2022-04-08T18:26:20.329Z"
   },
   {
    "duration": 45,
    "start_time": "2022-04-08T18:26:20.337Z"
   },
   {
    "duration": 134,
    "start_time": "2022-04-08T18:26:20.383Z"
   },
   {
    "duration": 133,
    "start_time": "2022-04-08T18:26:20.519Z"
   },
   {
    "duration": 132,
    "start_time": "2022-04-08T18:26:20.654Z"
   },
   {
    "duration": 5,
    "start_time": "2022-04-08T18:26:20.788Z"
   },
   {
    "duration": 140,
    "start_time": "2022-04-08T18:26:20.794Z"
   },
   {
    "duration": 149,
    "start_time": "2022-04-08T18:26:20.935Z"
   },
   {
    "duration": 135,
    "start_time": "2022-04-08T18:26:21.085Z"
   },
   {
    "duration": 105,
    "start_time": "2022-04-08T18:27:29.391Z"
   },
   {
    "duration": 14,
    "start_time": "2022-04-08T18:27:36.028Z"
   },
   {
    "duration": 10,
    "start_time": "2022-04-08T18:27:45.264Z"
   },
   {
    "duration": 696,
    "start_time": "2022-04-08T18:28:00.120Z"
   },
   {
    "duration": 88,
    "start_time": "2022-04-08T18:28:00.818Z"
   },
   {
    "duration": 13,
    "start_time": "2022-04-08T18:28:00.908Z"
   },
   {
    "duration": 9,
    "start_time": "2022-04-08T18:28:00.923Z"
   },
   {
    "duration": 30,
    "start_time": "2022-04-08T18:28:00.933Z"
   },
   {
    "duration": 25,
    "start_time": "2022-04-08T18:28:00.980Z"
   },
   {
    "duration": 8,
    "start_time": "2022-04-08T18:28:01.007Z"
   },
   {
    "duration": 14,
    "start_time": "2022-04-08T18:28:01.017Z"
   },
   {
    "duration": 10,
    "start_time": "2022-04-08T18:28:01.032Z"
   },
   {
    "duration": 10,
    "start_time": "2022-04-08T18:28:01.045Z"
   },
   {
    "duration": 7,
    "start_time": "2022-04-08T18:28:01.081Z"
   },
   {
    "duration": 31,
    "start_time": "2022-04-08T18:28:01.089Z"
   },
   {
    "duration": 19,
    "start_time": "2022-04-08T18:28:01.122Z"
   },
   {
    "duration": 10,
    "start_time": "2022-04-08T18:28:01.142Z"
   },
   {
    "duration": 16,
    "start_time": "2022-04-08T18:28:01.154Z"
   },
   {
    "duration": 35,
    "start_time": "2022-04-08T18:28:01.172Z"
   },
   {
    "duration": 41,
    "start_time": "2022-04-08T18:28:01.208Z"
   },
   {
    "duration": 288,
    "start_time": "2022-04-08T18:28:01.250Z"
   },
   {
    "duration": 22,
    "start_time": "2022-04-08T18:28:01.539Z"
   },
   {
    "duration": 33,
    "start_time": "2022-04-08T18:28:01.562Z"
   },
   {
    "duration": 8,
    "start_time": "2022-04-08T18:28:01.596Z"
   },
   {
    "duration": 285,
    "start_time": "2022-04-08T18:28:01.605Z"
   },
   {
    "duration": 8,
    "start_time": "2022-04-08T18:28:01.892Z"
   },
   {
    "duration": 230,
    "start_time": "2022-04-08T18:28:01.902Z"
   },
   {
    "duration": 8,
    "start_time": "2022-04-08T18:28:02.133Z"
   },
   {
    "duration": 145,
    "start_time": "2022-04-08T18:28:02.142Z"
   },
   {
    "duration": 6,
    "start_time": "2022-04-08T18:28:02.289Z"
   },
   {
    "duration": 7,
    "start_time": "2022-04-08T18:28:02.298Z"
   },
   {
    "duration": 142,
    "start_time": "2022-04-08T18:28:02.307Z"
   },
   {
    "duration": 9,
    "start_time": "2022-04-08T18:28:02.451Z"
   },
   {
    "duration": 205,
    "start_time": "2022-04-08T18:28:02.461Z"
   },
   {
    "duration": 261,
    "start_time": "2022-04-08T18:28:02.668Z"
   },
   {
    "duration": 9,
    "start_time": "2022-04-08T18:28:02.931Z"
   },
   {
    "duration": 102,
    "start_time": "2022-04-08T18:28:02.942Z"
   },
   {
    "duration": 271,
    "start_time": "2022-04-08T18:28:03.045Z"
   },
   {
    "duration": 5,
    "start_time": "2022-04-08T18:28:03.318Z"
   },
   {
    "duration": 199,
    "start_time": "2022-04-08T18:28:03.324Z"
   },
   {
    "duration": 206,
    "start_time": "2022-04-08T18:28:03.524Z"
   },
   {
    "duration": 7,
    "start_time": "2022-04-08T18:28:03.731Z"
   },
   {
    "duration": 169,
    "start_time": "2022-04-08T18:28:03.740Z"
   },
   {
    "duration": 5,
    "start_time": "2022-04-08T18:28:03.911Z"
   },
   {
    "duration": 185,
    "start_time": "2022-04-08T18:28:03.917Z"
   },
   {
    "duration": 5,
    "start_time": "2022-04-08T18:28:04.104Z"
   },
   {
    "duration": 470,
    "start_time": "2022-04-08T18:28:04.111Z"
   },
   {
    "duration": 6,
    "start_time": "2022-04-08T18:28:04.584Z"
   },
   {
    "duration": 89,
    "start_time": "2022-04-08T18:28:04.593Z"
   },
   {
    "duration": 324,
    "start_time": "2022-04-08T18:28:04.684Z"
   },
   {
    "duration": 289,
    "start_time": "2022-04-08T18:28:05.010Z"
   },
   {
    "duration": 290,
    "start_time": "2022-04-08T18:28:05.301Z"
   },
   {
    "duration": 322,
    "start_time": "2022-04-08T18:28:05.593Z"
   },
   {
    "duration": 22,
    "start_time": "2022-04-08T18:28:05.916Z"
   },
   {
    "duration": 8,
    "start_time": "2022-04-08T18:28:05.939Z"
   },
   {
    "duration": 16,
    "start_time": "2022-04-08T18:28:05.948Z"
   },
   {
    "duration": 19,
    "start_time": "2022-04-08T18:28:05.965Z"
   },
   {
    "duration": 23,
    "start_time": "2022-04-08T18:28:05.985Z"
   },
   {
    "duration": 135,
    "start_time": "2022-04-08T18:28:06.009Z"
   },
   {
    "duration": 27,
    "start_time": "2022-04-08T18:28:06.145Z"
   },
   {
    "duration": 14,
    "start_time": "2022-04-08T18:28:06.173Z"
   },
   {
    "duration": 7,
    "start_time": "2022-04-08T18:28:06.188Z"
   },
   {
    "duration": 7,
    "start_time": "2022-04-08T18:28:06.196Z"
   },
   {
    "duration": 9,
    "start_time": "2022-04-08T18:28:06.205Z"
   },
   {
    "duration": 152,
    "start_time": "2022-04-08T18:28:06.215Z"
   },
   {
    "duration": 133,
    "start_time": "2022-04-08T18:28:06.369Z"
   },
   {
    "duration": 135,
    "start_time": "2022-04-08T18:28:06.503Z"
   },
   {
    "duration": 5,
    "start_time": "2022-04-08T18:28:06.640Z"
   },
   {
    "duration": 145,
    "start_time": "2022-04-08T18:28:06.646Z"
   },
   {
    "duration": 157,
    "start_time": "2022-04-08T18:28:06.793Z"
   },
   {
    "duration": 139,
    "start_time": "2022-04-08T18:28:06.951Z"
   },
   {
    "duration": 3093,
    "start_time": "2022-04-08T18:29:21.808Z"
   },
   {
    "duration": 727,
    "start_time": "2022-04-08T18:31:16.635Z"
   },
   {
    "duration": 83,
    "start_time": "2022-04-08T18:31:17.364Z"
   },
   {
    "duration": 13,
    "start_time": "2022-04-08T18:31:17.449Z"
   },
   {
    "duration": 17,
    "start_time": "2022-04-08T18:31:17.464Z"
   },
   {
    "duration": 24,
    "start_time": "2022-04-08T18:31:17.483Z"
   },
   {
    "duration": 6,
    "start_time": "2022-04-08T18:31:17.509Z"
   },
   {
    "duration": 7,
    "start_time": "2022-04-08T18:31:17.516Z"
   },
   {
    "duration": 7,
    "start_time": "2022-04-08T18:31:17.525Z"
   },
   {
    "duration": 14,
    "start_time": "2022-04-08T18:31:17.533Z"
   },
   {
    "duration": 31,
    "start_time": "2022-04-08T18:31:17.550Z"
   },
   {
    "duration": 7,
    "start_time": "2022-04-08T18:31:17.583Z"
   },
   {
    "duration": 9,
    "start_time": "2022-04-08T18:31:17.592Z"
   },
   {
    "duration": 5,
    "start_time": "2022-04-08T18:31:17.602Z"
   },
   {
    "duration": 8,
    "start_time": "2022-04-08T18:31:17.608Z"
   },
   {
    "duration": 24,
    "start_time": "2022-04-08T18:31:17.618Z"
   },
   {
    "duration": 61,
    "start_time": "2022-04-08T18:31:17.644Z"
   },
   {
    "duration": 377,
    "start_time": "2022-04-08T18:31:17.706Z"
   },
   {
    "duration": 32,
    "start_time": "2022-04-08T18:31:18.085Z"
   },
   {
    "duration": 76,
    "start_time": "2022-04-08T18:31:18.119Z"
   },
   {
    "duration": 10,
    "start_time": "2022-04-08T18:31:18.197Z"
   },
   {
    "duration": 517,
    "start_time": "2022-04-08T18:31:18.208Z"
   },
   {
    "duration": 11,
    "start_time": "2022-04-08T18:31:18.780Z"
   },
   {
    "duration": 433,
    "start_time": "2022-04-08T18:31:18.794Z"
   },
   {
    "duration": 58,
    "start_time": "2022-04-08T18:31:19.229Z"
   },
   {
    "duration": 300,
    "start_time": "2022-04-08T18:31:19.289Z"
   },
   {
    "duration": 6,
    "start_time": "2022-04-08T18:31:19.591Z"
   },
   {
    "duration": 10,
    "start_time": "2022-04-08T18:31:19.599Z"
   },
   {
    "duration": 179,
    "start_time": "2022-04-08T18:31:19.612Z"
   },
   {
    "duration": 8,
    "start_time": "2022-04-08T18:31:19.792Z"
   },
   {
    "duration": 210,
    "start_time": "2022-04-08T18:31:19.801Z"
   },
   {
    "duration": 270,
    "start_time": "2022-04-08T18:31:20.013Z"
   },
   {
    "duration": 7,
    "start_time": "2022-04-08T18:31:20.285Z"
   },
   {
    "duration": 102,
    "start_time": "2022-04-08T18:31:20.293Z"
   },
   {
    "duration": 270,
    "start_time": "2022-04-08T18:31:20.396Z"
   },
   {
    "duration": 14,
    "start_time": "2022-04-08T18:31:20.668Z"
   },
   {
    "duration": 198,
    "start_time": "2022-04-08T18:31:20.683Z"
   },
   {
    "duration": 215,
    "start_time": "2022-04-08T18:31:20.882Z"
   },
   {
    "duration": 7,
    "start_time": "2022-04-08T18:31:21.099Z"
   },
   {
    "duration": 168,
    "start_time": "2022-04-08T18:31:21.108Z"
   },
   {
    "duration": 5,
    "start_time": "2022-04-08T18:31:21.280Z"
   },
   {
    "duration": 143,
    "start_time": "2022-04-08T18:31:21.287Z"
   },
   {
    "duration": 5,
    "start_time": "2022-04-08T18:31:21.432Z"
   },
   {
    "duration": 219,
    "start_time": "2022-04-08T18:31:21.438Z"
   },
   {
    "duration": 5,
    "start_time": "2022-04-08T18:31:21.658Z"
   },
   {
    "duration": 36,
    "start_time": "2022-04-08T18:31:21.665Z"
   },
   {
    "duration": 128,
    "start_time": "2022-04-08T18:31:21.702Z"
   },
   {
    "duration": 135,
    "start_time": "2022-04-08T18:31:21.831Z"
   },
   {
    "duration": 153,
    "start_time": "2022-04-08T18:31:21.967Z"
   },
   {
    "duration": 211,
    "start_time": "2022-04-08T18:31:22.122Z"
   },
   {
    "duration": 21,
    "start_time": "2022-04-08T18:31:22.334Z"
   },
   {
    "duration": 7,
    "start_time": "2022-04-08T18:31:22.356Z"
   },
   {
    "duration": 6,
    "start_time": "2022-04-08T18:31:22.381Z"
   },
   {
    "duration": 8,
    "start_time": "2022-04-08T18:31:22.389Z"
   },
   {
    "duration": 22,
    "start_time": "2022-04-08T18:31:22.399Z"
   },
   {
    "duration": 139,
    "start_time": "2022-04-08T18:31:22.422Z"
   },
   {
    "duration": 32,
    "start_time": "2022-04-08T18:31:22.563Z"
   },
   {
    "duration": 7,
    "start_time": "2022-04-08T18:31:22.596Z"
   },
   {
    "duration": 8,
    "start_time": "2022-04-08T18:31:22.604Z"
   },
   {
    "duration": 6,
    "start_time": "2022-04-08T18:31:22.613Z"
   },
   {
    "duration": 6,
    "start_time": "2022-04-08T18:31:22.620Z"
   },
   {
    "duration": 155,
    "start_time": "2022-04-08T18:31:22.628Z"
   },
   {
    "duration": 132,
    "start_time": "2022-04-08T18:31:22.784Z"
   },
   {
    "duration": 136,
    "start_time": "2022-04-08T18:31:22.917Z"
   },
   {
    "duration": 5,
    "start_time": "2022-04-08T18:31:23.054Z"
   },
   {
    "duration": 142,
    "start_time": "2022-04-08T18:31:23.061Z"
   },
   {
    "duration": 153,
    "start_time": "2022-04-08T18:31:23.205Z"
   },
   {
    "duration": 141,
    "start_time": "2022-04-08T18:31:23.359Z"
   },
   {
    "duration": 723,
    "start_time": "2022-04-08T18:32:32.685Z"
   },
   {
    "duration": 89,
    "start_time": "2022-04-08T18:32:33.410Z"
   },
   {
    "duration": 13,
    "start_time": "2022-04-08T18:32:33.500Z"
   },
   {
    "duration": 8,
    "start_time": "2022-04-08T18:32:33.515Z"
   },
   {
    "duration": 25,
    "start_time": "2022-04-08T18:32:33.524Z"
   },
   {
    "duration": 5,
    "start_time": "2022-04-08T18:32:33.551Z"
   },
   {
    "duration": 29,
    "start_time": "2022-04-08T18:32:33.558Z"
   },
   {
    "duration": 7,
    "start_time": "2022-04-08T18:32:33.588Z"
   },
   {
    "duration": 7,
    "start_time": "2022-04-08T18:32:33.597Z"
   },
   {
    "duration": 5,
    "start_time": "2022-04-08T18:32:33.606Z"
   },
   {
    "duration": 7,
    "start_time": "2022-04-08T18:32:33.613Z"
   },
   {
    "duration": 9,
    "start_time": "2022-04-08T18:32:33.621Z"
   },
   {
    "duration": 5,
    "start_time": "2022-04-08T18:32:33.631Z"
   },
   {
    "duration": 45,
    "start_time": "2022-04-08T18:32:33.637Z"
   },
   {
    "duration": 23,
    "start_time": "2022-04-08T18:32:33.683Z"
   },
   {
    "duration": 27,
    "start_time": "2022-04-08T18:32:33.707Z"
   },
   {
    "duration": 294,
    "start_time": "2022-04-08T18:32:33.735Z"
   },
   {
    "duration": 19,
    "start_time": "2022-04-08T18:32:34.030Z"
   },
   {
    "duration": 31,
    "start_time": "2022-04-08T18:32:34.051Z"
   },
   {
    "duration": 7,
    "start_time": "2022-04-08T18:32:34.084Z"
   },
   {
    "duration": 260,
    "start_time": "2022-04-08T18:32:34.092Z"
   },
   {
    "duration": 8,
    "start_time": "2022-04-08T18:32:34.353Z"
   },
   {
    "duration": 195,
    "start_time": "2022-04-08T18:32:34.362Z"
   },
   {
    "duration": 7,
    "start_time": "2022-04-08T18:32:34.559Z"
   },
   {
    "duration": 133,
    "start_time": "2022-04-08T18:32:34.567Z"
   },
   {
    "duration": 5,
    "start_time": "2022-04-08T18:32:34.702Z"
   },
   {
    "duration": 25,
    "start_time": "2022-04-08T18:32:34.709Z"
   },
   {
    "duration": 116,
    "start_time": "2022-04-08T18:32:34.737Z"
   },
   {
    "duration": 7,
    "start_time": "2022-04-08T18:32:34.855Z"
   },
   {
    "duration": 193,
    "start_time": "2022-04-08T18:32:34.863Z"
   },
   {
    "duration": 251,
    "start_time": "2022-04-08T18:32:35.058Z"
   },
   {
    "duration": 8,
    "start_time": "2022-04-08T18:32:35.310Z"
   },
   {
    "duration": 101,
    "start_time": "2022-04-08T18:32:35.319Z"
   },
   {
    "duration": 381,
    "start_time": "2022-04-08T18:32:35.421Z"
   },
   {
    "duration": 5,
    "start_time": "2022-04-08T18:32:35.803Z"
   },
   {
    "duration": 383,
    "start_time": "2022-04-08T18:32:35.809Z"
   },
   {
    "duration": 402,
    "start_time": "2022-04-08T18:32:36.194Z"
   },
   {
    "duration": 7,
    "start_time": "2022-04-08T18:32:36.597Z"
   },
   {
    "duration": 313,
    "start_time": "2022-04-08T18:32:36.606Z"
   },
   {
    "duration": 5,
    "start_time": "2022-04-08T18:32:36.920Z"
   },
   {
    "duration": 281,
    "start_time": "2022-04-08T18:32:36.927Z"
   },
   {
    "duration": 5,
    "start_time": "2022-04-08T18:32:37.210Z"
   },
   {
    "duration": 215,
    "start_time": "2022-04-08T18:32:37.217Z"
   },
   {
    "duration": 6,
    "start_time": "2022-04-08T18:32:37.434Z"
   },
   {
    "duration": 41,
    "start_time": "2022-04-08T18:32:37.442Z"
   },
   {
    "duration": 111,
    "start_time": "2022-04-08T18:32:37.485Z"
   },
   {
    "duration": 133,
    "start_time": "2022-04-08T18:32:37.597Z"
   },
   {
    "duration": 139,
    "start_time": "2022-04-08T18:32:37.732Z"
   },
   {
    "duration": 214,
    "start_time": "2022-04-08T18:32:37.872Z"
   },
   {
    "duration": 21,
    "start_time": "2022-04-08T18:32:38.087Z"
   },
   {
    "duration": 7,
    "start_time": "2022-04-08T18:32:38.109Z"
   },
   {
    "duration": 8,
    "start_time": "2022-04-08T18:32:38.118Z"
   },
   {
    "duration": 14,
    "start_time": "2022-04-08T18:32:38.128Z"
   },
   {
    "duration": 43,
    "start_time": "2022-04-08T18:32:38.143Z"
   },
   {
    "duration": 126,
    "start_time": "2022-04-08T18:32:38.188Z"
   },
   {
    "duration": 25,
    "start_time": "2022-04-08T18:32:38.315Z"
   },
   {
    "duration": 9,
    "start_time": "2022-04-08T18:32:38.341Z"
   },
   {
    "duration": 12,
    "start_time": "2022-04-08T18:32:38.351Z"
   },
   {
    "duration": 6,
    "start_time": "2022-04-08T18:32:38.380Z"
   },
   {
    "duration": 8,
    "start_time": "2022-04-08T18:32:38.387Z"
   },
   {
    "duration": 136,
    "start_time": "2022-04-08T18:32:38.396Z"
   },
   {
    "duration": 125,
    "start_time": "2022-04-08T18:32:38.534Z"
   },
   {
    "duration": 130,
    "start_time": "2022-04-08T18:32:38.661Z"
   },
   {
    "duration": 5,
    "start_time": "2022-04-08T18:32:38.792Z"
   },
   {
    "duration": 136,
    "start_time": "2022-04-08T18:32:38.798Z"
   },
   {
    "duration": 149,
    "start_time": "2022-04-08T18:32:38.935Z"
   },
   {
    "duration": 130,
    "start_time": "2022-04-08T18:32:39.086Z"
   },
   {
    "duration": 113,
    "start_time": "2022-04-08T18:33:46.920Z"
   },
   {
    "duration": 198,
    "start_time": "2022-04-08T18:34:14.020Z"
   },
   {
    "duration": 187,
    "start_time": "2022-04-08T18:35:07.880Z"
   },
   {
    "duration": 272,
    "start_time": "2022-04-08T18:36:43.149Z"
   },
   {
    "duration": 204,
    "start_time": "2022-04-08T18:36:54.987Z"
   },
   {
    "duration": 189,
    "start_time": "2022-04-08T18:38:12.092Z"
   },
   {
    "duration": 73,
    "start_time": "2022-04-08T18:38:29.124Z"
   },
   {
    "duration": 8,
    "start_time": "2022-04-08T18:38:53.688Z"
   },
   {
    "duration": 9,
    "start_time": "2022-04-08T18:40:14.080Z"
   },
   {
    "duration": 234,
    "start_time": "2022-04-08T18:50:40.980Z"
   },
   {
    "duration": 192,
    "start_time": "2022-04-08T18:50:56.723Z"
   },
   {
    "duration": 193,
    "start_time": "2022-04-08T18:51:09.879Z"
   },
   {
    "duration": 21,
    "start_time": "2022-04-08T18:52:32.732Z"
   },
   {
    "duration": 177,
    "start_time": "2022-04-08T18:53:11.813Z"
   },
   {
    "duration": 189,
    "start_time": "2022-04-08T18:54:26.460Z"
   },
   {
    "duration": 196,
    "start_time": "2022-04-08T18:54:30.599Z"
   },
   {
    "duration": 8,
    "start_time": "2022-04-08T18:54:57.619Z"
   },
   {
    "duration": 9,
    "start_time": "2022-04-08T18:55:09.647Z"
   },
   {
    "duration": 693,
    "start_time": "2022-04-08T18:55:34.025Z"
   },
   {
    "duration": 91,
    "start_time": "2022-04-08T18:55:34.720Z"
   },
   {
    "duration": 14,
    "start_time": "2022-04-08T18:55:34.812Z"
   },
   {
    "duration": 8,
    "start_time": "2022-04-08T18:55:34.828Z"
   },
   {
    "duration": 46,
    "start_time": "2022-04-08T18:55:34.837Z"
   },
   {
    "duration": 28,
    "start_time": "2022-04-08T18:55:34.884Z"
   },
   {
    "duration": 6,
    "start_time": "2022-04-08T18:55:34.913Z"
   },
   {
    "duration": 8,
    "start_time": "2022-04-08T18:55:34.921Z"
   },
   {
    "duration": 7,
    "start_time": "2022-04-08T18:55:34.931Z"
   },
   {
    "duration": 8,
    "start_time": "2022-04-08T18:55:34.940Z"
   },
   {
    "duration": 32,
    "start_time": "2022-04-08T18:55:34.950Z"
   },
   {
    "duration": 9,
    "start_time": "2022-04-08T18:55:34.984Z"
   },
   {
    "duration": 9,
    "start_time": "2022-04-08T18:55:34.994Z"
   },
   {
    "duration": 5,
    "start_time": "2022-04-08T18:55:35.005Z"
   },
   {
    "duration": 8,
    "start_time": "2022-04-08T18:55:35.011Z"
   },
   {
    "duration": 3080,
    "start_time": "2022-04-08T18:55:35.114Z"
   },
   {
    "duration": 0,
    "start_time": "2022-04-08T18:55:38.198Z"
   },
   {
    "duration": 0,
    "start_time": "2022-04-08T18:55:38.199Z"
   },
   {
    "duration": 0,
    "start_time": "2022-04-08T18:55:38.199Z"
   },
   {
    "duration": 0,
    "start_time": "2022-04-08T18:55:38.200Z"
   },
   {
    "duration": 0,
    "start_time": "2022-04-08T18:55:38.201Z"
   },
   {
    "duration": 0,
    "start_time": "2022-04-08T18:55:38.202Z"
   },
   {
    "duration": 0,
    "start_time": "2022-04-08T18:55:38.203Z"
   },
   {
    "duration": 0,
    "start_time": "2022-04-08T18:55:38.204Z"
   },
   {
    "duration": 0,
    "start_time": "2022-04-08T18:55:38.205Z"
   },
   {
    "duration": 0,
    "start_time": "2022-04-08T18:55:38.206Z"
   },
   {
    "duration": 0,
    "start_time": "2022-04-08T18:55:38.206Z"
   },
   {
    "duration": 0,
    "start_time": "2022-04-08T18:55:38.207Z"
   },
   {
    "duration": 0,
    "start_time": "2022-04-08T18:55:38.208Z"
   },
   {
    "duration": 0,
    "start_time": "2022-04-08T18:55:38.209Z"
   },
   {
    "duration": 0,
    "start_time": "2022-04-08T18:55:38.210Z"
   },
   {
    "duration": 0,
    "start_time": "2022-04-08T18:55:38.211Z"
   },
   {
    "duration": 0,
    "start_time": "2022-04-08T18:55:38.211Z"
   },
   {
    "duration": 0,
    "start_time": "2022-04-08T18:55:38.212Z"
   },
   {
    "duration": 0,
    "start_time": "2022-04-08T18:55:38.213Z"
   },
   {
    "duration": 0,
    "start_time": "2022-04-08T18:55:38.214Z"
   },
   {
    "duration": 0,
    "start_time": "2022-04-08T18:55:38.215Z"
   },
   {
    "duration": 0,
    "start_time": "2022-04-08T18:55:38.216Z"
   },
   {
    "duration": 0,
    "start_time": "2022-04-08T18:55:38.216Z"
   },
   {
    "duration": 0,
    "start_time": "2022-04-08T18:55:38.217Z"
   },
   {
    "duration": 0,
    "start_time": "2022-04-08T18:55:38.218Z"
   },
   {
    "duration": 0,
    "start_time": "2022-04-08T18:55:38.219Z"
   },
   {
    "duration": 0,
    "start_time": "2022-04-08T18:55:38.220Z"
   },
   {
    "duration": 0,
    "start_time": "2022-04-08T18:55:38.221Z"
   },
   {
    "duration": 0,
    "start_time": "2022-04-08T18:55:38.222Z"
   },
   {
    "duration": 0,
    "start_time": "2022-04-08T18:55:38.223Z"
   },
   {
    "duration": 0,
    "start_time": "2022-04-08T18:55:38.224Z"
   },
   {
    "duration": 0,
    "start_time": "2022-04-08T18:55:38.224Z"
   },
   {
    "duration": 0,
    "start_time": "2022-04-08T18:55:38.225Z"
   },
   {
    "duration": 0,
    "start_time": "2022-04-08T18:55:38.226Z"
   },
   {
    "duration": 0,
    "start_time": "2022-04-08T18:55:38.227Z"
   },
   {
    "duration": 0,
    "start_time": "2022-04-08T18:55:38.228Z"
   },
   {
    "duration": 0,
    "start_time": "2022-04-08T18:55:38.229Z"
   },
   {
    "duration": 0,
    "start_time": "2022-04-08T18:55:38.230Z"
   },
   {
    "duration": 0,
    "start_time": "2022-04-08T18:55:38.231Z"
   },
   {
    "duration": 0,
    "start_time": "2022-04-08T18:55:38.232Z"
   },
   {
    "duration": 0,
    "start_time": "2022-04-08T18:55:38.232Z"
   },
   {
    "duration": 0,
    "start_time": "2022-04-08T18:55:38.233Z"
   },
   {
    "duration": 0,
    "start_time": "2022-04-08T18:55:38.234Z"
   },
   {
    "duration": 0,
    "start_time": "2022-04-08T18:55:38.235Z"
   },
   {
    "duration": 0,
    "start_time": "2022-04-08T18:55:38.236Z"
   },
   {
    "duration": 1,
    "start_time": "2022-04-08T18:55:38.280Z"
   },
   {
    "duration": 0,
    "start_time": "2022-04-08T18:55:38.281Z"
   },
   {
    "duration": 0,
    "start_time": "2022-04-08T18:55:38.282Z"
   },
   {
    "duration": 0,
    "start_time": "2022-04-08T18:55:38.284Z"
   },
   {
    "duration": 0,
    "start_time": "2022-04-08T18:55:38.285Z"
   },
   {
    "duration": 0,
    "start_time": "2022-04-08T18:55:38.286Z"
   },
   {
    "duration": 0,
    "start_time": "2022-04-08T18:55:38.287Z"
   },
   {
    "duration": 0,
    "start_time": "2022-04-08T18:55:38.287Z"
   },
   {
    "duration": 24,
    "start_time": "2022-04-08T18:56:16.509Z"
   },
   {
    "duration": 24,
    "start_time": "2022-04-08T18:56:28.805Z"
   },
   {
    "duration": 727,
    "start_time": "2022-04-08T18:56:42.175Z"
   },
   {
    "duration": 97,
    "start_time": "2022-04-08T18:56:51.575Z"
   },
   {
    "duration": 15,
    "start_time": "2022-04-08T18:56:54.748Z"
   },
   {
    "duration": 10,
    "start_time": "2022-04-08T18:57:07.615Z"
   },
   {
    "duration": 26,
    "start_time": "2022-04-08T18:57:16.532Z"
   },
   {
    "duration": 67,
    "start_time": "2022-04-08T18:57:27.176Z"
   },
   {
    "duration": 22,
    "start_time": "2022-04-08T18:57:33.792Z"
   },
   {
    "duration": 3043,
    "start_time": "2022-04-08T18:58:06.887Z"
   },
   {
    "duration": 3174,
    "start_time": "2022-04-08T18:58:29.688Z"
   },
   {
    "duration": 738,
    "start_time": "2022-04-08T18:58:46.978Z"
   },
   {
    "duration": 96,
    "start_time": "2022-04-08T18:58:51.622Z"
   },
   {
    "duration": 14,
    "start_time": "2022-04-08T18:58:54.705Z"
   },
   {
    "duration": 9,
    "start_time": "2022-04-08T18:59:00.245Z"
   },
   {
    "duration": 26,
    "start_time": "2022-04-08T18:59:06.094Z"
   },
   {
    "duration": 904,
    "start_time": "2022-04-08T18:59:26.647Z"
   },
   {
    "duration": 90,
    "start_time": "2022-04-08T18:59:27.552Z"
   },
   {
    "duration": 13,
    "start_time": "2022-04-08T18:59:27.643Z"
   },
   {
    "duration": 8,
    "start_time": "2022-04-08T18:59:27.658Z"
   },
   {
    "duration": 40,
    "start_time": "2022-04-08T18:59:27.667Z"
   },
   {
    "duration": 25,
    "start_time": "2022-04-08T18:59:27.708Z"
   },
   {
    "duration": 7,
    "start_time": "2022-04-08T18:59:27.734Z"
   },
   {
    "duration": 7,
    "start_time": "2022-04-08T18:59:27.742Z"
   },
   {
    "duration": 34,
    "start_time": "2022-04-08T18:59:27.751Z"
   },
   {
    "duration": 22,
    "start_time": "2022-04-08T18:59:27.787Z"
   },
   {
    "duration": 5,
    "start_time": "2022-04-08T18:59:27.811Z"
   },
   {
    "duration": 10,
    "start_time": "2022-04-08T18:59:27.817Z"
   },
   {
    "duration": 8,
    "start_time": "2022-04-08T18:59:27.828Z"
   },
   {
    "duration": 5,
    "start_time": "2022-04-08T18:59:27.837Z"
   },
   {
    "duration": 8,
    "start_time": "2022-04-08T18:59:27.843Z"
   },
   {
    "duration": 51,
    "start_time": "2022-04-08T18:59:27.853Z"
   },
   {
    "duration": 28,
    "start_time": "2022-04-08T18:59:27.906Z"
   },
   {
    "duration": 288,
    "start_time": "2022-04-08T18:59:27.935Z"
   },
   {
    "duration": 19,
    "start_time": "2022-04-08T18:59:28.225Z"
   },
   {
    "duration": 36,
    "start_time": "2022-04-08T18:59:28.245Z"
   },
   {
    "duration": 8,
    "start_time": "2022-04-08T18:59:28.282Z"
   },
   {
    "duration": 271,
    "start_time": "2022-04-08T18:59:28.292Z"
   },
   {
    "duration": 3340,
    "start_time": "2022-04-08T18:59:28.564Z"
   },
   {
    "duration": 0,
    "start_time": "2022-04-08T18:59:31.907Z"
   },
   {
    "duration": 0,
    "start_time": "2022-04-08T18:59:31.908Z"
   },
   {
    "duration": 0,
    "start_time": "2022-04-08T18:59:31.909Z"
   },
   {
    "duration": 0,
    "start_time": "2022-04-08T18:59:31.910Z"
   },
   {
    "duration": 0,
    "start_time": "2022-04-08T18:59:31.911Z"
   },
   {
    "duration": 0,
    "start_time": "2022-04-08T18:59:31.912Z"
   },
   {
    "duration": 0,
    "start_time": "2022-04-08T18:59:31.913Z"
   },
   {
    "duration": 0,
    "start_time": "2022-04-08T18:59:31.914Z"
   },
   {
    "duration": 0,
    "start_time": "2022-04-08T18:59:31.915Z"
   },
   {
    "duration": 0,
    "start_time": "2022-04-08T18:59:31.916Z"
   },
   {
    "duration": 0,
    "start_time": "2022-04-08T18:59:31.917Z"
   },
   {
    "duration": 0,
    "start_time": "2022-04-08T18:59:31.918Z"
   },
   {
    "duration": 0,
    "start_time": "2022-04-08T18:59:31.919Z"
   },
   {
    "duration": 0,
    "start_time": "2022-04-08T18:59:31.920Z"
   },
   {
    "duration": 0,
    "start_time": "2022-04-08T18:59:31.921Z"
   },
   {
    "duration": 0,
    "start_time": "2022-04-08T18:59:31.922Z"
   },
   {
    "duration": 0,
    "start_time": "2022-04-08T18:59:31.923Z"
   },
   {
    "duration": 0,
    "start_time": "2022-04-08T18:59:31.924Z"
   },
   {
    "duration": 0,
    "start_time": "2022-04-08T18:59:31.925Z"
   },
   {
    "duration": 0,
    "start_time": "2022-04-08T18:59:31.925Z"
   },
   {
    "duration": 0,
    "start_time": "2022-04-08T18:59:31.926Z"
   },
   {
    "duration": 0,
    "start_time": "2022-04-08T18:59:31.927Z"
   },
   {
    "duration": 0,
    "start_time": "2022-04-08T18:59:31.928Z"
   },
   {
    "duration": 0,
    "start_time": "2022-04-08T18:59:31.929Z"
   },
   {
    "duration": 0,
    "start_time": "2022-04-08T18:59:31.930Z"
   },
   {
    "duration": 0,
    "start_time": "2022-04-08T18:59:31.931Z"
   },
   {
    "duration": 0,
    "start_time": "2022-04-08T18:59:31.932Z"
   },
   {
    "duration": 0,
    "start_time": "2022-04-08T18:59:31.933Z"
   },
   {
    "duration": 0,
    "start_time": "2022-04-08T18:59:31.934Z"
   },
   {
    "duration": 0,
    "start_time": "2022-04-08T18:59:31.934Z"
   },
   {
    "duration": 0,
    "start_time": "2022-04-08T18:59:31.935Z"
   },
   {
    "duration": 0,
    "start_time": "2022-04-08T18:59:31.936Z"
   },
   {
    "duration": 0,
    "start_time": "2022-04-08T18:59:31.937Z"
   },
   {
    "duration": 0,
    "start_time": "2022-04-08T18:59:31.938Z"
   },
   {
    "duration": 0,
    "start_time": "2022-04-08T18:59:31.939Z"
   },
   {
    "duration": 0,
    "start_time": "2022-04-08T18:59:31.940Z"
   },
   {
    "duration": 0,
    "start_time": "2022-04-08T18:59:31.941Z"
   },
   {
    "duration": 0,
    "start_time": "2022-04-08T18:59:31.942Z"
   },
   {
    "duration": 0,
    "start_time": "2022-04-08T18:59:31.943Z"
   },
   {
    "duration": 0,
    "start_time": "2022-04-08T18:59:31.944Z"
   },
   {
    "duration": 0,
    "start_time": "2022-04-08T18:59:31.944Z"
   },
   {
    "duration": 0,
    "start_time": "2022-04-08T18:59:31.945Z"
   },
   {
    "duration": 0,
    "start_time": "2022-04-08T18:59:31.946Z"
   },
   {
    "duration": 0,
    "start_time": "2022-04-08T18:59:31.948Z"
   },
   {
    "duration": 0,
    "start_time": "2022-04-08T18:59:31.981Z"
   },
   {
    "duration": 0,
    "start_time": "2022-04-08T18:59:31.982Z"
   },
   {
    "duration": 22,
    "start_time": "2022-04-08T19:00:38.686Z"
   },
   {
    "duration": 23,
    "start_time": "2022-04-08T19:01:19.094Z"
   },
   {
    "duration": 22,
    "start_time": "2022-04-08T19:01:48.122Z"
   },
   {
    "duration": 10,
    "start_time": "2022-04-08T19:17:58.463Z"
   },
   {
    "duration": 9,
    "start_time": "2022-04-08T19:18:18.158Z"
   },
   {
    "duration": 9,
    "start_time": "2022-04-08T19:18:23.026Z"
   },
   {
    "duration": 3205,
    "start_time": "2022-04-08T19:21:46.058Z"
   },
   {
    "duration": 8,
    "start_time": "2022-04-08T19:22:01.130Z"
   },
   {
    "duration": 3341,
    "start_time": "2022-04-08T19:22:24.794Z"
   },
   {
    "duration": 208,
    "start_time": "2022-04-08T19:22:45.370Z"
   },
   {
    "duration": 209,
    "start_time": "2022-04-08T19:22:58.926Z"
   },
   {
    "duration": 127,
    "start_time": "2022-04-08T19:23:13.375Z"
   },
   {
    "duration": 200,
    "start_time": "2022-04-08T19:23:19.747Z"
   },
   {
    "duration": 205,
    "start_time": "2022-04-08T19:23:25.843Z"
   },
   {
    "duration": 260,
    "start_time": "2022-04-08T19:23:32.994Z"
   },
   {
    "duration": 198,
    "start_time": "2022-04-08T19:23:54.362Z"
   },
   {
    "duration": 203,
    "start_time": "2022-04-08T19:23:59.282Z"
   },
   {
    "duration": 187,
    "start_time": "2022-04-08T19:30:17.905Z"
   },
   {
    "duration": 256,
    "start_time": "2022-04-08T19:43:09.977Z"
   },
   {
    "duration": 206,
    "start_time": "2022-04-08T19:43:54.848Z"
   },
   {
    "duration": 8,
    "start_time": "2022-04-08T19:44:41.372Z"
   },
   {
    "duration": 7,
    "start_time": "2022-04-08T19:45:10.433Z"
   },
   {
    "duration": 7,
    "start_time": "2022-04-08T19:45:35.024Z"
   },
   {
    "duration": 285,
    "start_time": "2022-04-08T19:52:34.420Z"
   },
   {
    "duration": 345,
    "start_time": "2022-04-08T19:52:44.661Z"
   },
   {
    "duration": 7,
    "start_time": "2022-04-08T20:00:57.576Z"
   },
   {
    "duration": 7,
    "start_time": "2022-04-08T20:03:02.473Z"
   },
   {
    "duration": 199,
    "start_time": "2022-04-08T20:05:13.161Z"
   },
   {
    "duration": 213,
    "start_time": "2022-04-08T20:05:22.589Z"
   },
   {
    "duration": 8,
    "start_time": "2022-04-08T20:05:49.368Z"
   },
   {
    "duration": 198,
    "start_time": "2022-04-08T20:05:55.002Z"
   },
   {
    "duration": 355,
    "start_time": "2022-04-08T20:06:39.093Z"
   },
   {
    "duration": 290,
    "start_time": "2022-04-08T20:06:51.253Z"
   },
   {
    "duration": 126,
    "start_time": "2022-04-08T20:07:06.176Z"
   },
   {
    "duration": 7,
    "start_time": "2022-04-08T20:08:57.516Z"
   },
   {
    "duration": 6,
    "start_time": "2022-04-08T20:10:49.305Z"
   },
   {
    "duration": 7,
    "start_time": "2022-04-08T20:12:48.460Z"
   },
   {
    "duration": 6,
    "start_time": "2022-04-08T20:13:32.344Z"
   },
   {
    "duration": 7,
    "start_time": "2022-04-08T20:16:16.584Z"
   },
   {
    "duration": 6,
    "start_time": "2022-04-08T20:16:36.076Z"
   },
   {
    "duration": 5,
    "start_time": "2022-04-08T20:29:26.631Z"
   },
   {
    "duration": 7,
    "start_time": "2022-04-08T20:31:34.859Z"
   },
   {
    "duration": 7,
    "start_time": "2022-04-08T20:32:14.447Z"
   },
   {
    "duration": 6,
    "start_time": "2022-04-08T20:32:46.590Z"
   },
   {
    "duration": 122,
    "start_time": "2022-04-08T20:33:38.747Z"
   },
   {
    "duration": 119,
    "start_time": "2022-04-08T20:34:02.507Z"
   },
   {
    "duration": 9,
    "start_time": "2022-04-08T20:42:03.726Z"
   },
   {
    "duration": 117,
    "start_time": "2022-04-08T20:42:07.558Z"
   },
   {
    "duration": 340,
    "start_time": "2022-04-08T20:42:32.783Z"
   },
   {
    "duration": 209,
    "start_time": "2022-04-08T20:42:48.291Z"
   },
   {
    "duration": 8,
    "start_time": "2022-04-08T20:44:34.855Z"
   },
   {
    "duration": 7,
    "start_time": "2022-04-08T20:45:51.682Z"
   },
   {
    "duration": 6,
    "start_time": "2022-04-08T20:46:13.083Z"
   },
   {
    "duration": 7,
    "start_time": "2022-04-08T20:46:19.395Z"
   },
   {
    "duration": 7,
    "start_time": "2022-04-08T20:46:25.815Z"
   },
   {
    "duration": 7,
    "start_time": "2022-04-08T20:54:38.330Z"
   },
   {
    "duration": 7,
    "start_time": "2022-04-08T20:55:19.950Z"
   },
   {
    "duration": 7,
    "start_time": "2022-04-08T20:56:32.786Z"
   },
   {
    "duration": 182,
    "start_time": "2022-04-08T20:56:36.954Z"
   },
   {
    "duration": 454,
    "start_time": "2022-04-08T20:57:13.963Z"
   },
   {
    "duration": 91,
    "start_time": "2022-04-08T20:57:46.318Z"
   },
   {
    "duration": 336,
    "start_time": "2022-04-08T20:57:58.578Z"
   },
   {
    "duration": 206,
    "start_time": "2022-04-08T20:58:30.935Z"
   },
   {
    "duration": 6,
    "start_time": "2022-04-08T20:59:20.122Z"
   },
   {
    "duration": 5,
    "start_time": "2022-04-08T20:59:54.723Z"
   },
   {
    "duration": 5,
    "start_time": "2022-04-08T21:12:35.486Z"
   },
   {
    "duration": 242,
    "start_time": "2022-04-08T21:15:36.741Z"
   },
   {
    "duration": 277,
    "start_time": "2022-04-08T21:15:55.897Z"
   },
   {
    "duration": 191,
    "start_time": "2022-04-08T21:18:55.305Z"
   },
   {
    "duration": 194,
    "start_time": "2022-04-08T21:22:27.658Z"
   },
   {
    "duration": 218,
    "start_time": "2022-04-08T21:23:26.117Z"
   },
   {
    "duration": 339,
    "start_time": "2022-04-08T21:23:52.866Z"
   },
   {
    "duration": 198,
    "start_time": "2022-04-08T21:24:14.802Z"
   },
   {
    "duration": 208,
    "start_time": "2022-04-08T21:28:57.262Z"
   },
   {
    "duration": 9,
    "start_time": "2022-04-08T21:29:05.169Z"
   },
   {
    "duration": 8,
    "start_time": "2022-04-08T21:29:42.458Z"
   },
   {
    "duration": 8,
    "start_time": "2022-04-08T21:30:04.606Z"
   },
   {
    "duration": 130,
    "start_time": "2022-04-08T21:34:55.563Z"
   },
   {
    "duration": 123,
    "start_time": "2022-04-08T21:36:12.014Z"
   },
   {
    "duration": 10,
    "start_time": "2022-04-08T21:36:41.579Z"
   },
   {
    "duration": 92,
    "start_time": "2022-04-08T22:00:49.339Z"
   },
   {
    "duration": 164,
    "start_time": "2022-04-08T22:22:00.222Z"
   },
   {
    "duration": 6,
    "start_time": "2022-04-08T22:23:14.495Z"
   },
   {
    "duration": 140,
    "start_time": "2022-04-08T22:23:50.722Z"
   },
   {
    "duration": 6,
    "start_time": "2022-04-08T22:23:54.622Z"
   },
   {
    "duration": 201,
    "start_time": "2022-04-08T22:28:14.554Z"
   },
   {
    "duration": 127,
    "start_time": "2022-04-08T22:33:00.534Z"
   },
   {
    "duration": 40,
    "start_time": "2022-04-08T22:33:10.725Z"
   },
   {
    "duration": 6,
    "start_time": "2022-04-08T22:43:40.525Z"
   },
   {
    "duration": 198,
    "start_time": "2022-04-08T22:43:42.388Z"
   },
   {
    "duration": 29,
    "start_time": "2022-04-08T22:47:53.952Z"
   },
   {
    "duration": 109,
    "start_time": "2022-04-08T22:48:00.968Z"
   },
   {
    "duration": 127,
    "start_time": "2022-04-08T22:50:15.500Z"
   },
   {
    "duration": 135,
    "start_time": "2022-04-08T22:57:21.214Z"
   },
   {
    "duration": 135,
    "start_time": "2022-04-08T23:12:09.257Z"
   },
   {
    "duration": 139,
    "start_time": "2022-04-08T23:12:19.521Z"
   },
   {
    "duration": 137,
    "start_time": "2022-04-08T23:12:43.649Z"
   },
   {
    "duration": 23,
    "start_time": "2022-04-08T23:16:12.461Z"
   },
   {
    "duration": 7,
    "start_time": "2022-04-08T23:16:16.681Z"
   },
   {
    "duration": 8,
    "start_time": "2022-04-08T23:16:19.124Z"
   },
   {
    "duration": 7,
    "start_time": "2022-04-08T23:16:29.237Z"
   },
   {
    "duration": 23,
    "start_time": "2022-04-08T23:16:42.933Z"
   },
   {
    "duration": 22,
    "start_time": "2022-04-08T23:21:56.196Z"
   },
   {
    "duration": 9,
    "start_time": "2022-04-08T23:22:00.032Z"
   },
   {
    "duration": 9,
    "start_time": "2022-04-08T23:22:04.665Z"
   },
   {
    "duration": 123,
    "start_time": "2022-04-08T23:22:23.108Z"
   },
   {
    "duration": 20,
    "start_time": "2022-04-08T23:24:08.468Z"
   },
   {
    "duration": 8,
    "start_time": "2022-04-08T23:24:18.440Z"
   },
   {
    "duration": 8,
    "start_time": "2022-04-08T23:24:35.206Z"
   },
   {
    "duration": 22,
    "start_time": "2022-04-08T23:25:46.552Z"
   },
   {
    "duration": 18,
    "start_time": "2022-04-08T23:28:14.155Z"
   },
   {
    "duration": 36,
    "start_time": "2022-04-08T23:29:57.459Z"
   },
   {
    "duration": 10,
    "start_time": "2022-04-08T23:30:51.924Z"
   },
   {
    "duration": 10,
    "start_time": "2022-04-08T23:31:56.147Z"
   },
   {
    "duration": 30,
    "start_time": "2022-04-08T23:32:48.195Z"
   },
   {
    "duration": 21,
    "start_time": "2022-04-08T23:34:31.591Z"
   },
   {
    "duration": 11,
    "start_time": "2022-04-08T23:34:56.441Z"
   },
   {
    "duration": 19,
    "start_time": "2022-04-08T23:35:22.350Z"
   },
   {
    "duration": 19,
    "start_time": "2022-04-08T23:35:39.897Z"
   },
   {
    "duration": 20,
    "start_time": "2022-04-08T23:36:07.308Z"
   },
   {
    "duration": 15,
    "start_time": "2022-04-08T23:39:12.885Z"
   },
   {
    "duration": 13,
    "start_time": "2022-04-08T23:39:53.418Z"
   },
   {
    "duration": 17,
    "start_time": "2022-04-08T23:40:11.243Z"
   },
   {
    "duration": 12,
    "start_time": "2022-04-08T23:44:58.138Z"
   },
   {
    "duration": 12,
    "start_time": "2022-04-08T23:45:41.050Z"
   },
   {
    "duration": 38,
    "start_time": "2022-04-08T23:46:34.498Z"
   },
   {
    "duration": 5,
    "start_time": "2022-04-08T23:47:14.810Z"
   },
   {
    "duration": 7,
    "start_time": "2022-04-08T23:47:37.366Z"
   },
   {
    "duration": 24,
    "start_time": "2022-04-08T23:47:56.982Z"
   },
   {
    "duration": 26,
    "start_time": "2022-04-08T23:55:18.278Z"
   },
   {
    "duration": 8,
    "start_time": "2022-04-08T23:55:23.490Z"
   },
   {
    "duration": 8,
    "start_time": "2022-04-08T23:55:25.226Z"
   },
   {
    "duration": 6,
    "start_time": "2022-04-08T23:55:25.930Z"
   },
   {
    "duration": 25,
    "start_time": "2022-04-09T00:00:06.239Z"
   },
   {
    "duration": 8,
    "start_time": "2022-04-09T00:00:36.721Z"
   },
   {
    "duration": 7,
    "start_time": "2022-04-09T00:00:39.566Z"
   },
   {
    "duration": 8,
    "start_time": "2022-04-09T00:03:26.166Z"
   },
   {
    "duration": 34,
    "start_time": "2022-04-09T00:04:41.102Z"
   },
   {
    "duration": 25,
    "start_time": "2022-04-09T00:05:01.446Z"
   },
   {
    "duration": 10,
    "start_time": "2022-04-09T00:09:41.277Z"
   },
   {
    "duration": 8,
    "start_time": "2022-04-09T00:10:14.718Z"
   },
   {
    "duration": 7,
    "start_time": "2022-04-09T00:10:21.322Z"
   },
   {
    "duration": 7,
    "start_time": "2022-04-09T00:10:33.162Z"
   },
   {
    "duration": 8,
    "start_time": "2022-04-09T00:10:36.982Z"
   },
   {
    "duration": 733,
    "start_time": "2022-04-09T00:10:57.210Z"
   },
   {
    "duration": 86,
    "start_time": "2022-04-09T00:10:57.945Z"
   },
   {
    "duration": 14,
    "start_time": "2022-04-09T00:10:58.032Z"
   },
   {
    "duration": 8,
    "start_time": "2022-04-09T00:10:58.048Z"
   },
   {
    "duration": 45,
    "start_time": "2022-04-09T00:10:58.058Z"
   },
   {
    "duration": 23,
    "start_time": "2022-04-09T00:10:58.104Z"
   },
   {
    "duration": 7,
    "start_time": "2022-04-09T00:10:58.128Z"
   },
   {
    "duration": 10,
    "start_time": "2022-04-09T00:10:58.136Z"
   },
   {
    "duration": 9,
    "start_time": "2022-04-09T00:10:58.147Z"
   },
   {
    "duration": 9,
    "start_time": "2022-04-09T00:10:58.182Z"
   },
   {
    "duration": 7,
    "start_time": "2022-04-09T00:10:58.193Z"
   },
   {
    "duration": 9,
    "start_time": "2022-04-09T00:10:58.201Z"
   },
   {
    "duration": 9,
    "start_time": "2022-04-09T00:10:58.212Z"
   },
   {
    "duration": 6,
    "start_time": "2022-04-09T00:10:58.223Z"
   },
   {
    "duration": 57,
    "start_time": "2022-04-09T00:10:58.230Z"
   },
   {
    "duration": 25,
    "start_time": "2022-04-09T00:10:58.288Z"
   },
   {
    "duration": 28,
    "start_time": "2022-04-09T00:10:58.315Z"
   },
   {
    "duration": 313,
    "start_time": "2022-04-09T00:10:58.346Z"
   },
   {
    "duration": 29,
    "start_time": "2022-04-09T00:10:58.661Z"
   },
   {
    "duration": 21,
    "start_time": "2022-04-09T00:10:58.692Z"
   },
   {
    "duration": 8,
    "start_time": "2022-04-09T00:10:58.714Z"
   },
   {
    "duration": 6,
    "start_time": "2022-04-09T00:10:58.723Z"
   },
   {
    "duration": 6,
    "start_time": "2022-04-09T00:10:58.731Z"
   },
   {
    "duration": 274,
    "start_time": "2022-04-09T00:10:58.739Z"
   },
   {
    "duration": 7,
    "start_time": "2022-04-09T00:10:59.015Z"
   },
   {
    "duration": 7,
    "start_time": "2022-04-09T00:10:59.024Z"
   },
   {
    "duration": 211,
    "start_time": "2022-04-09T00:10:59.032Z"
   },
   {
    "duration": 8,
    "start_time": "2022-04-09T00:10:59.247Z"
   },
   {
    "duration": 5,
    "start_time": "2022-04-09T00:10:59.257Z"
   },
   {
    "duration": 21,
    "start_time": "2022-04-09T00:10:59.263Z"
   },
   {
    "duration": 126,
    "start_time": "2022-04-09T00:10:59.286Z"
   },
   {
    "duration": 9,
    "start_time": "2022-04-09T00:10:59.413Z"
   },
   {
    "duration": 5,
    "start_time": "2022-04-09T00:10:59.423Z"
   },
   {
    "duration": 6,
    "start_time": "2022-04-09T00:10:59.430Z"
   },
   {
    "duration": 6,
    "start_time": "2022-04-09T00:10:59.437Z"
   },
   {
    "duration": 156,
    "start_time": "2022-04-09T00:10:59.444Z"
   },
   {
    "duration": 8,
    "start_time": "2022-04-09T00:10:59.601Z"
   },
   {
    "duration": 5,
    "start_time": "2022-04-09T00:10:59.610Z"
   },
   {
    "duration": 200,
    "start_time": "2022-04-09T00:10:59.617Z"
   },
   {
    "duration": 202,
    "start_time": "2022-04-09T00:10:59.818Z"
   },
   {
    "duration": 260,
    "start_time": "2022-04-09T00:11:00.022Z"
   },
   {
    "duration": 297,
    "start_time": "2022-04-09T00:11:00.284Z"
   },
   {
    "duration": 346,
    "start_time": "2022-04-09T00:11:00.583Z"
   },
   {
    "duration": 5,
    "start_time": "2022-04-09T00:11:00.982Z"
   },
   {
    "duration": 401,
    "start_time": "2022-04-09T00:11:00.989Z"
   },
   {
    "duration": 415,
    "start_time": "2022-04-09T00:11:01.392Z"
   },
   {
    "duration": 133,
    "start_time": "2022-04-09T00:11:01.808Z"
   },
   {
    "duration": 8,
    "start_time": "2022-04-09T00:11:01.943Z"
   },
   {
    "duration": 8,
    "start_time": "2022-04-09T00:11:01.952Z"
   },
   {
    "duration": 183,
    "start_time": "2022-04-09T00:11:01.961Z"
   },
   {
    "duration": 5,
    "start_time": "2022-04-09T00:11:02.146Z"
   },
   {
    "duration": 34,
    "start_time": "2022-04-09T00:11:02.153Z"
   },
   {
    "duration": 129,
    "start_time": "2022-04-09T00:11:02.189Z"
   },
   {
    "duration": 5,
    "start_time": "2022-04-09T00:11:02.319Z"
   },
   {
    "duration": 213,
    "start_time": "2022-04-09T00:11:02.326Z"
   },
   {
    "duration": 5,
    "start_time": "2022-04-09T00:11:02.541Z"
   },
   {
    "duration": 36,
    "start_time": "2022-04-09T00:11:02.547Z"
   },
   {
    "duration": 186,
    "start_time": "2022-04-09T00:11:02.585Z"
   },
   {
    "duration": 139,
    "start_time": "2022-04-09T00:11:02.772Z"
   },
   {
    "duration": 145,
    "start_time": "2022-04-09T00:11:02.912Z"
   },
   {
    "duration": 146,
    "start_time": "2022-04-09T00:11:03.059Z"
   },
   {
    "duration": 22,
    "start_time": "2022-04-09T00:11:03.206Z"
   },
   {
    "duration": 7,
    "start_time": "2022-04-09T00:11:03.230Z"
   },
   {
    "duration": 10,
    "start_time": "2022-04-09T00:11:03.238Z"
   },
   {
    "duration": 32,
    "start_time": "2022-04-09T00:11:03.249Z"
   },
   {
    "duration": 5,
    "start_time": "2022-04-09T00:11:03.282Z"
   },
   {
    "duration": 24,
    "start_time": "2022-04-09T00:11:03.288Z"
   },
   {
    "duration": 136,
    "start_time": "2022-04-09T00:11:03.313Z"
   },
   {
    "duration": 31,
    "start_time": "2022-04-09T00:11:03.450Z"
   },
   {
    "duration": 7,
    "start_time": "2022-04-09T00:11:03.482Z"
   },
   {
    "duration": 7,
    "start_time": "2022-04-09T00:11:03.490Z"
   },
   {
    "duration": 204,
    "start_time": "2022-04-09T00:11:03.498Z"
   },
   {
    "duration": 0,
    "start_time": "2022-04-09T00:11:03.704Z"
   },
   {
    "duration": 0,
    "start_time": "2022-04-09T00:11:03.705Z"
   },
   {
    "duration": 0,
    "start_time": "2022-04-09T00:11:03.706Z"
   },
   {
    "duration": 0,
    "start_time": "2022-04-09T00:11:03.707Z"
   },
   {
    "duration": 0,
    "start_time": "2022-04-09T00:11:03.708Z"
   },
   {
    "duration": 0,
    "start_time": "2022-04-09T00:11:03.709Z"
   },
   {
    "duration": 0,
    "start_time": "2022-04-09T00:11:03.710Z"
   },
   {
    "duration": 0,
    "start_time": "2022-04-09T00:11:03.711Z"
   },
   {
    "duration": 0,
    "start_time": "2022-04-09T00:11:03.711Z"
   },
   {
    "duration": 0,
    "start_time": "2022-04-09T00:11:03.712Z"
   },
   {
    "duration": 63,
    "start_time": "2022-04-09T00:14:18.235Z"
   },
   {
    "duration": 200,
    "start_time": "2022-04-09T00:14:52.619Z"
   },
   {
    "duration": 7,
    "start_time": "2022-04-09T00:15:02.639Z"
   },
   {
    "duration": 6,
    "start_time": "2022-04-09T00:15:32.243Z"
   },
   {
    "duration": 6,
    "start_time": "2022-04-09T00:16:23.775Z"
   },
   {
    "duration": 9,
    "start_time": "2022-04-09T00:16:41.195Z"
   },
   {
    "duration": 5,
    "start_time": "2022-04-09T00:18:24.203Z"
   },
   {
    "duration": 7,
    "start_time": "2022-04-09T00:20:12.415Z"
   },
   {
    "duration": 7,
    "start_time": "2022-04-09T00:21:02.011Z"
   },
   {
    "duration": 6,
    "start_time": "2022-04-09T00:22:38.543Z"
   },
   {
    "duration": 8,
    "start_time": "2022-04-09T00:24:34.210Z"
   },
   {
    "duration": 5,
    "start_time": "2022-04-09T00:24:50.267Z"
   },
   {
    "duration": 130,
    "start_time": "2022-04-09T00:30:45.273Z"
   },
   {
    "duration": 128,
    "start_time": "2022-04-09T00:30:45.845Z"
   },
   {
    "duration": 134,
    "start_time": "2022-04-09T00:30:46.503Z"
   },
   {
    "duration": 5,
    "start_time": "2022-04-09T00:30:46.919Z"
   },
   {
    "duration": 130,
    "start_time": "2022-04-09T00:30:47.323Z"
   },
   {
    "duration": 131,
    "start_time": "2022-04-09T00:30:47.882Z"
   },
   {
    "duration": 131,
    "start_time": "2022-04-09T00:30:52.461Z"
   },
   {
    "duration": 16,
    "start_time": "2022-04-09T00:38:26.378Z"
   },
   {
    "duration": 1236,
    "start_time": "2022-04-09T08:46:31.385Z"
   },
   {
    "duration": 138,
    "start_time": "2022-04-09T08:46:32.625Z"
   },
   {
    "duration": 24,
    "start_time": "2022-04-09T08:46:32.765Z"
   },
   {
    "duration": 15,
    "start_time": "2022-04-09T08:46:32.793Z"
   },
   {
    "duration": 75,
    "start_time": "2022-04-09T08:46:32.810Z"
   },
   {
    "duration": 67,
    "start_time": "2022-04-09T08:46:32.888Z"
   },
   {
    "duration": 12,
    "start_time": "2022-04-09T08:46:32.958Z"
   },
   {
    "duration": 14,
    "start_time": "2022-04-09T08:46:32.972Z"
   },
   {
    "duration": 15,
    "start_time": "2022-04-09T08:46:32.988Z"
   },
   {
    "duration": 13,
    "start_time": "2022-04-09T08:46:33.047Z"
   },
   {
    "duration": 10,
    "start_time": "2022-04-09T08:46:33.063Z"
   },
   {
    "duration": 12,
    "start_time": "2022-04-09T08:46:33.077Z"
   },
   {
    "duration": 65,
    "start_time": "2022-04-09T08:46:33.091Z"
   },
   {
    "duration": 9,
    "start_time": "2022-04-09T08:46:33.158Z"
   },
   {
    "duration": 11,
    "start_time": "2022-04-09T08:46:33.170Z"
   },
   {
    "duration": 86,
    "start_time": "2022-04-09T08:46:33.183Z"
   },
   {
    "duration": 46,
    "start_time": "2022-04-09T08:46:33.272Z"
   },
   {
    "duration": 500,
    "start_time": "2022-04-09T08:46:33.321Z"
   },
   {
    "duration": 44,
    "start_time": "2022-04-09T08:46:33.824Z"
   },
   {
    "duration": 41,
    "start_time": "2022-04-09T08:46:33.870Z"
   },
   {
    "duration": 30,
    "start_time": "2022-04-09T08:46:33.913Z"
   },
   {
    "duration": 10,
    "start_time": "2022-04-09T08:46:33.945Z"
   },
   {
    "duration": 8,
    "start_time": "2022-04-09T08:46:33.957Z"
   },
   {
    "duration": 424,
    "start_time": "2022-04-09T08:46:33.967Z"
   },
   {
    "duration": 12,
    "start_time": "2022-04-09T08:46:34.393Z"
   },
   {
    "duration": 8,
    "start_time": "2022-04-09T08:46:34.407Z"
   },
   {
    "duration": 384,
    "start_time": "2022-04-09T08:46:34.417Z"
   },
   {
    "duration": 11,
    "start_time": "2022-04-09T08:46:34.808Z"
   },
   {
    "duration": 25,
    "start_time": "2022-04-09T08:46:34.822Z"
   },
   {
    "duration": 8,
    "start_time": "2022-04-09T08:46:34.850Z"
   },
   {
    "duration": 9,
    "start_time": "2022-04-09T08:46:34.860Z"
   },
   {
    "duration": 252,
    "start_time": "2022-04-09T08:46:34.871Z"
   },
   {
    "duration": 20,
    "start_time": "2022-04-09T08:46:35.125Z"
   },
   {
    "duration": 9,
    "start_time": "2022-04-09T08:46:35.148Z"
   },
   {
    "duration": 9,
    "start_time": "2022-04-09T08:46:35.159Z"
   },
   {
    "duration": 8,
    "start_time": "2022-04-09T08:46:35.171Z"
   },
   {
    "duration": 267,
    "start_time": "2022-04-09T08:46:35.181Z"
   },
   {
    "duration": 12,
    "start_time": "2022-04-09T08:46:35.451Z"
   },
   {
    "duration": 8,
    "start_time": "2022-04-09T08:46:35.465Z"
   },
   {
    "duration": 362,
    "start_time": "2022-04-09T08:46:35.476Z"
   },
   {
    "duration": 366,
    "start_time": "2022-04-09T08:46:35.840Z"
   },
   {
    "duration": 445,
    "start_time": "2022-04-09T08:46:36.208Z"
   },
   {
    "duration": 226,
    "start_time": "2022-04-09T08:46:36.655Z"
   },
   {
    "duration": 355,
    "start_time": "2022-04-09T08:46:36.883Z"
   },
   {
    "duration": 8,
    "start_time": "2022-04-09T08:46:37.241Z"
   },
   {
    "duration": 376,
    "start_time": "2022-04-09T08:46:37.251Z"
   },
   {
    "duration": 397,
    "start_time": "2022-04-09T08:46:37.629Z"
   },
   {
    "duration": 180,
    "start_time": "2022-04-09T08:46:38.029Z"
   },
   {
    "duration": 12,
    "start_time": "2022-04-09T08:46:38.211Z"
   },
   {
    "duration": 24,
    "start_time": "2022-04-09T08:46:38.225Z"
   },
   {
    "duration": 306,
    "start_time": "2022-04-09T08:46:38.251Z"
   },
   {
    "duration": 6,
    "start_time": "2022-04-09T08:46:38.560Z"
   },
   {
    "duration": 40,
    "start_time": "2022-04-09T08:46:38.568Z"
   },
   {
    "duration": 252,
    "start_time": "2022-04-09T08:46:38.610Z"
   },
   {
    "duration": 7,
    "start_time": "2022-04-09T08:46:38.864Z"
   },
   {
    "duration": 376,
    "start_time": "2022-04-09T08:46:38.873Z"
   },
   {
    "duration": 8,
    "start_time": "2022-04-09T08:46:39.252Z"
   },
   {
    "duration": 41,
    "start_time": "2022-04-09T08:46:39.262Z"
   },
   {
    "duration": 298,
    "start_time": "2022-04-09T08:46:39.305Z"
   },
   {
    "duration": 229,
    "start_time": "2022-04-09T08:46:39.606Z"
   },
   {
    "duration": 242,
    "start_time": "2022-04-09T08:46:39.837Z"
   },
   {
    "duration": 252,
    "start_time": "2022-04-09T08:46:40.081Z"
   },
   {
    "duration": 34,
    "start_time": "2022-04-09T08:46:40.342Z"
   },
   {
    "duration": 12,
    "start_time": "2022-04-09T08:46:40.378Z"
   },
   {
    "duration": 16,
    "start_time": "2022-04-09T08:46:40.392Z"
   },
   {
    "duration": 37,
    "start_time": "2022-04-09T08:46:40.410Z"
   },
   {
    "duration": 7,
    "start_time": "2022-04-09T08:46:40.450Z"
   },
   {
    "duration": 35,
    "start_time": "2022-04-09T08:46:40.459Z"
   },
   {
    "duration": 246,
    "start_time": "2022-04-09T08:46:40.497Z"
   },
   {
    "duration": 40,
    "start_time": "2022-04-09T08:46:40.745Z"
   },
   {
    "duration": 11,
    "start_time": "2022-04-09T08:46:40.787Z"
   },
   {
    "duration": 13,
    "start_time": "2022-04-09T08:46:40.799Z"
   },
   {
    "duration": 34,
    "start_time": "2022-04-09T08:46:40.814Z"
   },
   {
    "duration": 11,
    "start_time": "2022-04-09T08:46:40.850Z"
   },
   {
    "duration": 6,
    "start_time": "2022-04-09T08:46:40.863Z"
   },
   {
    "duration": 10,
    "start_time": "2022-04-09T08:46:40.872Z"
   },
   {
    "duration": 7,
    "start_time": "2022-04-09T08:46:40.884Z"
   },
   {
    "duration": 269,
    "start_time": "2022-04-09T08:46:40.893Z"
   },
   {
    "duration": 242,
    "start_time": "2022-04-09T08:46:41.164Z"
   },
   {
    "duration": 35,
    "start_time": "2022-04-09T08:46:41.409Z"
   },
   {
    "duration": 243,
    "start_time": "2022-04-09T08:46:41.446Z"
   },
   {
    "duration": 6,
    "start_time": "2022-04-09T08:46:41.697Z"
   },
   {
    "duration": 253,
    "start_time": "2022-04-09T08:46:41.705Z"
   },
   {
    "duration": 247,
    "start_time": "2022-04-09T08:46:41.960Z"
   },
   {
    "duration": 265,
    "start_time": "2022-04-09T08:46:42.210Z"
   },
   {
    "duration": 127,
    "start_time": "2022-04-10T05:36:55.367Z"
   },
   {
    "duration": 139,
    "start_time": "2022-04-10T05:37:00.281Z"
   },
   {
    "duration": 114,
    "start_time": "2022-04-10T06:08:46.684Z"
   },
   {
    "duration": 167,
    "start_time": "2022-04-10T06:17:09.220Z"
   },
   {
    "duration": 188,
    "start_time": "2022-04-10T06:27:05.468Z"
   },
   {
    "duration": 896,
    "start_time": "2022-04-10T18:05:23.171Z"
   },
   {
    "duration": 94,
    "start_time": "2022-04-10T18:05:28.324Z"
   },
   {
    "duration": 15,
    "start_time": "2022-04-10T18:05:30.847Z"
   },
   {
    "duration": 9,
    "start_time": "2022-04-10T18:05:33.967Z"
   },
   {
    "duration": 26,
    "start_time": "2022-04-10T18:05:37.996Z"
   },
   {
    "duration": 25,
    "start_time": "2022-04-10T18:05:42.140Z"
   },
   {
    "duration": 7,
    "start_time": "2022-04-10T18:05:50.859Z"
   },
   {
    "duration": 17,
    "start_time": "2022-04-10T18:14:31.310Z"
   },
   {
    "duration": 291,
    "start_time": "2022-04-10T18:21:51.226Z"
   },
   {
    "duration": 66,
    "start_time": "2022-04-10T18:35:29.350Z"
   },
   {
    "duration": 56,
    "start_time": "2022-04-10T18:36:33.775Z"
   },
   {
    "duration": 1282,
    "start_time": "2022-04-10T18:37:46.026Z"
   },
   {
    "duration": 117,
    "start_time": "2022-04-10T18:38:51.486Z"
   },
   {
    "duration": 412,
    "start_time": "2022-04-10T18:39:30.610Z"
   },
   {
    "duration": 6,
    "start_time": "2022-04-10T18:40:23.662Z"
   },
   {
    "duration": 32,
    "start_time": "2022-04-10T18:40:35.362Z"
   },
   {
    "duration": 9,
    "start_time": "2022-04-10T18:41:18.030Z"
   },
   {
    "duration": 35,
    "start_time": "2022-04-10T18:44:37.821Z"
   },
   {
    "duration": 11,
    "start_time": "2022-04-10T18:45:53.589Z"
   },
   {
    "duration": 11,
    "start_time": "2022-04-10T18:46:25.390Z"
   },
   {
    "duration": 12,
    "start_time": "2022-04-10T18:46:49.385Z"
   },
   {
    "duration": 13,
    "start_time": "2022-04-10T18:47:14.686Z"
   },
   {
    "duration": 101,
    "start_time": "2022-04-10T18:48:15.285Z"
   },
   {
    "duration": 1219,
    "start_time": "2022-04-10T18:48:32.670Z"
   },
   {
    "duration": 109,
    "start_time": "2022-04-10T18:49:13.478Z"
   },
   {
    "duration": 169,
    "start_time": "2022-04-10T18:49:31.478Z"
   },
   {
    "duration": 11,
    "start_time": "2022-04-10T18:49:52.802Z"
   },
   {
    "duration": 159,
    "start_time": "2022-04-10T19:16:38.605Z"
   },
   {
    "duration": 230,
    "start_time": "2022-04-10T19:16:54.169Z"
   },
   {
    "duration": 227,
    "start_time": "2022-04-10T19:18:20.425Z"
   },
   {
    "duration": 8,
    "start_time": "2022-04-10T19:19:15.165Z"
   },
   {
    "duration": 7,
    "start_time": "2022-04-10T19:19:37.552Z"
   },
   {
    "duration": 8,
    "start_time": "2022-04-10T19:20:32.448Z"
   },
   {
    "duration": 49,
    "start_time": "2022-04-10T19:36:57.607Z"
   },
   {
    "duration": 8,
    "start_time": "2022-04-10T19:41:41.415Z"
   },
   {
    "duration": 8,
    "start_time": "2022-04-10T19:41:45.348Z"
   },
   {
    "duration": 7,
    "start_time": "2022-04-10T19:41:46.671Z"
   },
   {
    "duration": 10,
    "start_time": "2022-04-10T19:41:51.116Z"
   },
   {
    "duration": 12,
    "start_time": "2022-04-10T19:49:38.237Z"
   },
   {
    "duration": 14,
    "start_time": "2022-04-10T19:50:01.219Z"
   },
   {
    "duration": 11,
    "start_time": "2022-04-10T19:50:10.248Z"
   },
   {
    "duration": 10,
    "start_time": "2022-04-10T19:57:07.444Z"
   },
   {
    "duration": 11,
    "start_time": "2022-04-10T19:57:54.412Z"
   },
   {
    "duration": 115,
    "start_time": "2022-04-10T19:59:29.594Z"
   },
   {
    "duration": 13,
    "start_time": "2022-04-10T20:06:09.983Z"
   },
   {
    "duration": 22,
    "start_time": "2022-04-10T20:06:16.742Z"
   },
   {
    "duration": 24,
    "start_time": "2022-04-10T20:07:34.503Z"
   },
   {
    "duration": 23,
    "start_time": "2022-04-10T20:07:45.859Z"
   },
   {
    "duration": 24,
    "start_time": "2022-04-10T20:07:54.435Z"
   },
   {
    "duration": 27,
    "start_time": "2022-04-10T20:07:58.567Z"
   },
   {
    "duration": 329,
    "start_time": "2022-04-10T20:08:10.474Z"
   },
   {
    "duration": 20,
    "start_time": "2022-04-10T20:08:15.439Z"
   },
   {
    "duration": 21,
    "start_time": "2022-04-10T20:08:40.619Z"
   },
   {
    "duration": 8,
    "start_time": "2022-04-10T20:08:46.391Z"
   },
   {
    "duration": 7,
    "start_time": "2022-04-10T20:08:48.987Z"
   },
   {
    "duration": 6,
    "start_time": "2022-04-10T20:08:49.811Z"
   },
   {
    "duration": 199,
    "start_time": "2022-04-10T20:08:52.299Z"
   },
   {
    "duration": 8,
    "start_time": "2022-04-10T20:09:09.459Z"
   },
   {
    "duration": 6,
    "start_time": "2022-04-10T20:09:10.443Z"
   },
   {
    "duration": 194,
    "start_time": "2022-04-10T20:09:12.412Z"
   },
   {
    "duration": 8,
    "start_time": "2022-04-10T20:09:15.907Z"
   },
   {
    "duration": 6,
    "start_time": "2022-04-10T20:09:16.871Z"
   },
   {
    "duration": 5,
    "start_time": "2022-04-10T20:09:19.252Z"
   },
   {
    "duration": 6,
    "start_time": "2022-04-10T20:09:19.915Z"
   },
   {
    "duration": 120,
    "start_time": "2022-04-10T20:09:21.851Z"
   },
   {
    "duration": 8,
    "start_time": "2022-04-10T20:09:25.083Z"
   },
   {
    "duration": 6,
    "start_time": "2022-04-10T20:09:26.299Z"
   },
   {
    "duration": 6,
    "start_time": "2022-04-10T20:09:28.583Z"
   },
   {
    "duration": 7,
    "start_time": "2022-04-10T20:09:30.843Z"
   },
   {
    "duration": 128,
    "start_time": "2022-04-10T20:09:33.119Z"
   },
   {
    "duration": 8,
    "start_time": "2022-04-10T20:09:37.451Z"
   },
   {
    "duration": 5,
    "start_time": "2022-04-10T20:09:38.335Z"
   },
   {
    "duration": 184,
    "start_time": "2022-04-10T20:09:40.495Z"
   },
   {
    "duration": 302,
    "start_time": "2022-04-10T20:09:44.331Z"
   },
   {
    "duration": 243,
    "start_time": "2022-04-10T20:09:45.731Z"
   },
   {
    "duration": 90,
    "start_time": "2022-04-10T20:09:46.860Z"
   },
   {
    "duration": 180,
    "start_time": "2022-04-10T20:09:47.827Z"
   },
   {
    "duration": 29,
    "start_time": "2022-04-10T20:30:05.772Z"
   },
   {
    "duration": 29,
    "start_time": "2022-04-10T20:30:23.052Z"
   },
   {
    "duration": 41,
    "start_time": "2022-04-10T20:30:33.592Z"
   },
   {
    "duration": 27,
    "start_time": "2022-04-10T20:31:20.652Z"
   },
   {
    "duration": 11,
    "start_time": "2022-04-10T20:31:26.936Z"
   },
   {
    "duration": 1946,
    "start_time": "2022-04-10T20:35:14.076Z"
   },
   {
    "duration": 12,
    "start_time": "2022-04-10T20:35:42.032Z"
   },
   {
    "duration": 14,
    "start_time": "2022-04-10T20:37:02.219Z"
   },
   {
    "duration": 10,
    "start_time": "2022-04-10T20:37:13.236Z"
   },
   {
    "duration": 13,
    "start_time": "2022-04-10T20:40:14.000Z"
   },
   {
    "duration": 9,
    "start_time": "2022-04-10T20:43:15.628Z"
   },
   {
    "duration": 145,
    "start_time": "2022-04-10T20:47:01.923Z"
   },
   {
    "duration": 6,
    "start_time": "2022-04-10T20:47:22.783Z"
   },
   {
    "duration": 24,
    "start_time": "2022-04-10T20:48:44.023Z"
   },
   {
    "duration": 122,
    "start_time": "2022-04-10T20:49:25.084Z"
   },
   {
    "duration": 5,
    "start_time": "2022-04-10T20:49:36.766Z"
   },
   {
    "duration": 113,
    "start_time": "2022-04-10T20:51:49.138Z"
   },
   {
    "duration": 112,
    "start_time": "2022-04-10T20:53:13.607Z"
   },
   {
    "duration": 207,
    "start_time": "2022-04-10T20:57:19.294Z"
   },
   {
    "duration": 5,
    "start_time": "2022-04-10T20:57:36.215Z"
   },
   {
    "duration": 25,
    "start_time": "2022-04-10T20:58:24.422Z"
   },
   {
    "duration": 142,
    "start_time": "2022-04-10T20:59:09.366Z"
   },
   {
    "duration": 146,
    "start_time": "2022-04-10T20:59:54.578Z"
   },
   {
    "duration": 152,
    "start_time": "2022-04-10T21:02:14.598Z"
   },
   {
    "duration": 639,
    "start_time": "2022-04-10T21:10:53.974Z"
   },
   {
    "duration": 430,
    "start_time": "2022-04-10T21:24:32.829Z"
   },
   {
    "duration": 17,
    "start_time": "2022-04-10T21:26:40.909Z"
   },
   {
    "duration": 18,
    "start_time": "2022-04-10T21:27:09.197Z"
   },
   {
    "duration": 646,
    "start_time": "2022-04-10T21:30:29.961Z"
   },
   {
    "duration": 714,
    "start_time": "2022-04-10T21:31:25.422Z"
   },
   {
    "duration": 9,
    "start_time": "2022-04-10T21:38:52.638Z"
   },
   {
    "duration": 19,
    "start_time": "2022-04-10T21:39:18.717Z"
   },
   {
    "duration": 3002,
    "start_time": "2022-04-10T21:39:38.869Z"
   },
   {
    "duration": 12,
    "start_time": "2022-04-10T21:46:22.029Z"
   },
   {
    "duration": 11,
    "start_time": "2022-04-10T21:46:54.037Z"
   },
   {
    "duration": 9,
    "start_time": "2022-04-10T21:47:56.533Z"
   },
   {
    "duration": 9,
    "start_time": "2022-04-10T21:49:09.869Z"
   },
   {
    "duration": 10,
    "start_time": "2022-04-10T21:49:43.061Z"
   },
   {
    "duration": 1273,
    "start_time": "2022-04-10T21:50:30.351Z"
   },
   {
    "duration": 84,
    "start_time": "2022-04-10T21:50:31.626Z"
   },
   {
    "duration": 15,
    "start_time": "2022-04-10T21:50:31.711Z"
   },
   {
    "duration": 8,
    "start_time": "2022-04-10T21:50:31.728Z"
   },
   {
    "duration": 51,
    "start_time": "2022-04-10T21:50:31.737Z"
   },
   {
    "duration": 23,
    "start_time": "2022-04-10T21:50:31.790Z"
   },
   {
    "duration": 6,
    "start_time": "2022-04-10T21:50:31.814Z"
   },
   {
    "duration": 10,
    "start_time": "2022-04-10T21:50:31.822Z"
   },
   {
    "duration": 3,
    "start_time": "2022-04-10T21:50:31.833Z"
   },
   {
    "duration": 114,
    "start_time": "2022-04-10T21:50:31.838Z"
   },
   {
    "duration": 0,
    "start_time": "2022-04-10T21:50:31.955Z"
   },
   {
    "duration": 0,
    "start_time": "2022-04-10T21:50:31.956Z"
   },
   {
    "duration": 0,
    "start_time": "2022-04-10T21:50:31.957Z"
   },
   {
    "duration": 0,
    "start_time": "2022-04-10T21:50:31.958Z"
   },
   {
    "duration": 0,
    "start_time": "2022-04-10T21:50:31.958Z"
   },
   {
    "duration": 0,
    "start_time": "2022-04-10T21:50:31.959Z"
   },
   {
    "duration": 0,
    "start_time": "2022-04-10T21:50:31.960Z"
   },
   {
    "duration": 0,
    "start_time": "2022-04-10T21:50:31.961Z"
   },
   {
    "duration": 0,
    "start_time": "2022-04-10T21:50:31.962Z"
   },
   {
    "duration": 0,
    "start_time": "2022-04-10T21:50:31.980Z"
   },
   {
    "duration": 0,
    "start_time": "2022-04-10T21:50:31.982Z"
   },
   {
    "duration": 0,
    "start_time": "2022-04-10T21:50:31.982Z"
   },
   {
    "duration": 0,
    "start_time": "2022-04-10T21:50:31.983Z"
   },
   {
    "duration": 0,
    "start_time": "2022-04-10T21:50:31.984Z"
   },
   {
    "duration": 0,
    "start_time": "2022-04-10T21:50:31.985Z"
   },
   {
    "duration": 0,
    "start_time": "2022-04-10T21:50:31.986Z"
   },
   {
    "duration": 0,
    "start_time": "2022-04-10T21:50:31.987Z"
   },
   {
    "duration": 0,
    "start_time": "2022-04-10T21:50:31.988Z"
   },
   {
    "duration": 0,
    "start_time": "2022-04-10T21:50:31.989Z"
   },
   {
    "duration": 0,
    "start_time": "2022-04-10T21:50:31.990Z"
   },
   {
    "duration": 0,
    "start_time": "2022-04-10T21:50:31.991Z"
   },
   {
    "duration": 0,
    "start_time": "2022-04-10T21:50:31.992Z"
   },
   {
    "duration": 0,
    "start_time": "2022-04-10T21:50:31.993Z"
   },
   {
    "duration": 0,
    "start_time": "2022-04-10T21:50:31.993Z"
   },
   {
    "duration": 0,
    "start_time": "2022-04-10T21:50:31.994Z"
   },
   {
    "duration": 0,
    "start_time": "2022-04-10T21:50:31.995Z"
   },
   {
    "duration": 0,
    "start_time": "2022-04-10T21:50:31.996Z"
   },
   {
    "duration": 0,
    "start_time": "2022-04-10T21:50:31.997Z"
   },
   {
    "duration": 0,
    "start_time": "2022-04-10T21:50:31.998Z"
   },
   {
    "duration": 0,
    "start_time": "2022-04-10T21:50:31.999Z"
   },
   {
    "duration": 0,
    "start_time": "2022-04-10T21:50:32.000Z"
   },
   {
    "duration": 0,
    "start_time": "2022-04-10T21:50:32.001Z"
   },
   {
    "duration": 0,
    "start_time": "2022-04-10T21:50:32.002Z"
   },
   {
    "duration": 0,
    "start_time": "2022-04-10T21:50:32.003Z"
   },
   {
    "duration": 0,
    "start_time": "2022-04-10T21:50:32.004Z"
   },
   {
    "duration": 0,
    "start_time": "2022-04-10T21:50:32.005Z"
   },
   {
    "duration": 1,
    "start_time": "2022-04-10T21:50:32.005Z"
   },
   {
    "duration": 1,
    "start_time": "2022-04-10T21:50:32.006Z"
   },
   {
    "duration": 1,
    "start_time": "2022-04-10T21:50:32.007Z"
   },
   {
    "duration": 0,
    "start_time": "2022-04-10T21:50:32.008Z"
   },
   {
    "duration": 0,
    "start_time": "2022-04-10T21:50:32.009Z"
   },
   {
    "duration": 0,
    "start_time": "2022-04-10T21:50:32.010Z"
   },
   {
    "duration": 0,
    "start_time": "2022-04-10T21:50:32.011Z"
   },
   {
    "duration": 0,
    "start_time": "2022-04-10T21:50:32.012Z"
   },
   {
    "duration": 0,
    "start_time": "2022-04-10T21:50:32.013Z"
   },
   {
    "duration": 0,
    "start_time": "2022-04-10T21:50:32.014Z"
   },
   {
    "duration": 0,
    "start_time": "2022-04-10T21:50:32.015Z"
   },
   {
    "duration": 0,
    "start_time": "2022-04-10T21:50:32.015Z"
   },
   {
    "duration": 0,
    "start_time": "2022-04-10T21:50:32.080Z"
   },
   {
    "duration": 0,
    "start_time": "2022-04-10T21:50:32.081Z"
   },
   {
    "duration": 0,
    "start_time": "2022-04-10T21:50:32.083Z"
   },
   {
    "duration": 0,
    "start_time": "2022-04-10T21:50:32.084Z"
   },
   {
    "duration": 0,
    "start_time": "2022-04-10T21:50:32.084Z"
   },
   {
    "duration": 0,
    "start_time": "2022-04-10T21:50:32.085Z"
   },
   {
    "duration": 0,
    "start_time": "2022-04-10T21:50:32.086Z"
   },
   {
    "duration": 0,
    "start_time": "2022-04-10T21:50:32.087Z"
   },
   {
    "duration": 0,
    "start_time": "2022-04-10T21:50:32.088Z"
   },
   {
    "duration": 0,
    "start_time": "2022-04-10T21:50:32.089Z"
   },
   {
    "duration": 0,
    "start_time": "2022-04-10T21:50:32.090Z"
   },
   {
    "duration": 0,
    "start_time": "2022-04-10T21:50:32.091Z"
   },
   {
    "duration": 0,
    "start_time": "2022-04-10T21:50:32.092Z"
   },
   {
    "duration": 0,
    "start_time": "2022-04-10T21:50:32.093Z"
   },
   {
    "duration": 0,
    "start_time": "2022-04-10T21:50:32.093Z"
   },
   {
    "duration": 0,
    "start_time": "2022-04-10T21:50:32.094Z"
   },
   {
    "duration": 0,
    "start_time": "2022-04-10T21:50:32.095Z"
   },
   {
    "duration": 0,
    "start_time": "2022-04-10T21:50:32.096Z"
   },
   {
    "duration": 0,
    "start_time": "2022-04-10T21:50:32.097Z"
   },
   {
    "duration": 0,
    "start_time": "2022-04-10T21:50:32.097Z"
   },
   {
    "duration": 0,
    "start_time": "2022-04-10T21:50:32.098Z"
   },
   {
    "duration": 0,
    "start_time": "2022-04-10T21:50:32.099Z"
   },
   {
    "duration": 0,
    "start_time": "2022-04-10T21:50:32.100Z"
   },
   {
    "duration": 0,
    "start_time": "2022-04-10T21:50:32.101Z"
   },
   {
    "duration": 0,
    "start_time": "2022-04-10T21:50:32.102Z"
   },
   {
    "duration": 0,
    "start_time": "2022-04-10T21:50:32.102Z"
   },
   {
    "duration": 0,
    "start_time": "2022-04-10T21:50:32.103Z"
   },
   {
    "duration": 0,
    "start_time": "2022-04-10T21:50:32.104Z"
   },
   {
    "duration": 0,
    "start_time": "2022-04-10T21:50:32.105Z"
   },
   {
    "duration": 9,
    "start_time": "2022-04-10T21:51:22.486Z"
   },
   {
    "duration": 9,
    "start_time": "2022-04-10T21:51:24.327Z"
   },
   {
    "duration": 1219,
    "start_time": "2022-04-10T21:51:37.599Z"
   },
   {
    "duration": 84,
    "start_time": "2022-04-10T21:51:38.820Z"
   },
   {
    "duration": 14,
    "start_time": "2022-04-10T21:51:38.905Z"
   },
   {
    "duration": 8,
    "start_time": "2022-04-10T21:51:38.921Z"
   },
   {
    "duration": 26,
    "start_time": "2022-04-10T21:51:38.930Z"
   },
   {
    "duration": 40,
    "start_time": "2022-04-10T21:51:38.958Z"
   },
   {
    "duration": 7,
    "start_time": "2022-04-10T21:51:39.000Z"
   },
   {
    "duration": 8,
    "start_time": "2022-04-10T21:51:39.009Z"
   },
   {
    "duration": 2,
    "start_time": "2022-04-10T21:51:39.018Z"
   },
   {
    "duration": 18,
    "start_time": "2022-04-10T21:51:39.022Z"
   },
   {
    "duration": 10,
    "start_time": "2022-04-10T21:51:39.041Z"
   },
   {
    "duration": 14,
    "start_time": "2022-04-10T21:51:39.052Z"
   },
   {
    "duration": 16,
    "start_time": "2022-04-10T21:51:39.068Z"
   },
   {
    "duration": 6,
    "start_time": "2022-04-10T21:51:39.086Z"
   },
   {
    "duration": 11,
    "start_time": "2022-04-10T21:51:39.094Z"
   },
   {
    "duration": 22,
    "start_time": "2022-04-10T21:51:39.106Z"
   },
   {
    "duration": 22,
    "start_time": "2022-04-10T21:51:39.130Z"
   },
   {
    "duration": 26,
    "start_time": "2022-04-10T21:51:39.181Z"
   },
   {
    "duration": 388,
    "start_time": "2022-04-10T21:51:39.209Z"
   },
   {
    "duration": 20,
    "start_time": "2022-04-10T21:51:39.599Z"
   },
   {
    "duration": 20,
    "start_time": "2022-04-10T21:51:39.621Z"
   },
   {
    "duration": 7,
    "start_time": "2022-04-10T21:51:39.642Z"
   },
   {
    "duration": 32,
    "start_time": "2022-04-10T21:51:39.650Z"
   },
   {
    "duration": 6,
    "start_time": "2022-04-10T21:51:39.683Z"
   },
   {
    "duration": 227,
    "start_time": "2022-04-10T21:51:39.690Z"
   },
   {
    "duration": 8,
    "start_time": "2022-04-10T21:51:39.919Z"
   },
   {
    "duration": 5,
    "start_time": "2022-04-10T21:51:39.929Z"
   },
   {
    "duration": 221,
    "start_time": "2022-04-10T21:51:39.938Z"
   },
   {
    "duration": 8,
    "start_time": "2022-04-10T21:51:40.160Z"
   },
   {
    "duration": 14,
    "start_time": "2022-04-10T21:51:40.169Z"
   },
   {
    "duration": 7,
    "start_time": "2022-04-10T21:51:40.184Z"
   },
   {
    "duration": 5,
    "start_time": "2022-04-10T21:51:40.192Z"
   },
   {
    "duration": 138,
    "start_time": "2022-04-10T21:51:40.198Z"
   },
   {
    "duration": 8,
    "start_time": "2022-04-10T21:51:40.337Z"
   },
   {
    "duration": 5,
    "start_time": "2022-04-10T21:51:40.346Z"
   },
   {
    "duration": 7,
    "start_time": "2022-04-10T21:51:40.353Z"
   },
   {
    "duration": 24,
    "start_time": "2022-04-10T21:51:40.361Z"
   },
   {
    "duration": 208,
    "start_time": "2022-04-10T21:51:40.387Z"
   },
   {
    "duration": 8,
    "start_time": "2022-04-10T21:51:40.597Z"
   },
   {
    "duration": 5,
    "start_time": "2022-04-10T21:51:40.607Z"
   },
   {
    "duration": 302,
    "start_time": "2022-04-10T21:51:40.613Z"
   },
   {
    "duration": 465,
    "start_time": "2022-04-10T21:51:40.916Z"
   },
   {
    "duration": 511,
    "start_time": "2022-04-10T21:51:41.383Z"
   },
   {
    "duration": 189,
    "start_time": "2022-04-10T21:51:41.896Z"
   },
   {
    "duration": 305,
    "start_time": "2022-04-10T21:51:42.087Z"
   },
   {
    "duration": 6,
    "start_time": "2022-04-10T21:51:42.393Z"
   },
   {
    "duration": 283,
    "start_time": "2022-04-10T21:51:42.400Z"
   },
   {
    "duration": 221,
    "start_time": "2022-04-10T21:51:42.684Z"
   },
   {
    "duration": 101,
    "start_time": "2022-04-10T21:51:42.907Z"
   },
   {
    "duration": 7,
    "start_time": "2022-04-10T21:51:43.010Z"
   },
   {
    "duration": 4,
    "start_time": "2022-04-10T21:51:43.019Z"
   },
   {
    "duration": 15,
    "start_time": "2022-04-10T21:51:43.025Z"
   },
   {
    "duration": 167,
    "start_time": "2022-04-10T21:51:43.041Z"
   },
   {
    "duration": 5,
    "start_time": "2022-04-10T21:51:43.209Z"
   },
   {
    "duration": 23,
    "start_time": "2022-04-10T21:51:43.216Z"
   },
   {
    "duration": 128,
    "start_time": "2022-04-10T21:51:43.240Z"
   },
   {
    "duration": 14,
    "start_time": "2022-04-10T21:51:43.370Z"
   },
   {
    "duration": 220,
    "start_time": "2022-04-10T21:51:43.385Z"
   },
   {
    "duration": 5,
    "start_time": "2022-04-10T21:51:43.607Z"
   },
   {
    "duration": 26,
    "start_time": "2022-04-10T21:51:43.614Z"
   },
   {
    "duration": 124,
    "start_time": "2022-04-10T21:51:43.641Z"
   },
   {
    "duration": 153,
    "start_time": "2022-04-10T21:51:43.767Z"
   },
   {
    "duration": 149,
    "start_time": "2022-04-10T21:51:43.922Z"
   },
   {
    "duration": 144,
    "start_time": "2022-04-10T21:51:44.073Z"
   },
   {
    "duration": 22,
    "start_time": "2022-04-10T21:51:44.218Z"
   },
   {
    "duration": 8,
    "start_time": "2022-04-10T21:51:44.241Z"
   },
   {
    "duration": 31,
    "start_time": "2022-04-10T21:51:44.251Z"
   },
   {
    "duration": 8,
    "start_time": "2022-04-10T21:51:44.284Z"
   },
   {
    "duration": 7,
    "start_time": "2022-04-10T21:51:44.294Z"
   },
   {
    "duration": 28,
    "start_time": "2022-04-10T21:51:44.303Z"
   },
   {
    "duration": 136,
    "start_time": "2022-04-10T21:51:44.333Z"
   },
   {
    "duration": 29,
    "start_time": "2022-04-10T21:51:44.471Z"
   },
   {
    "duration": 7,
    "start_time": "2022-04-10T21:51:44.502Z"
   },
   {
    "duration": 8,
    "start_time": "2022-04-10T21:51:44.511Z"
   },
   {
    "duration": 6,
    "start_time": "2022-04-10T21:51:44.520Z"
   },
   {
    "duration": 7,
    "start_time": "2022-04-10T21:51:44.527Z"
   },
   {
    "duration": 4,
    "start_time": "2022-04-10T21:51:44.536Z"
   },
   {
    "duration": 7,
    "start_time": "2022-04-10T21:51:44.581Z"
   },
   {
    "duration": 7,
    "start_time": "2022-04-10T21:51:44.589Z"
   },
   {
    "duration": 149,
    "start_time": "2022-04-10T21:51:44.597Z"
   },
   {
    "duration": 147,
    "start_time": "2022-04-10T21:51:44.748Z"
   },
   {
    "duration": 15,
    "start_time": "2022-04-10T21:51:44.901Z"
   },
   {
    "duration": 255,
    "start_time": "2022-04-10T21:51:44.918Z"
   },
   {
    "duration": 6,
    "start_time": "2022-04-10T21:51:45.175Z"
   },
   {
    "duration": 153,
    "start_time": "2022-04-10T21:51:45.183Z"
   },
   {
    "duration": 144,
    "start_time": "2022-04-10T21:51:45.338Z"
   },
   {
    "duration": 153,
    "start_time": "2022-04-10T21:51:45.484Z"
   },
   {
    "duration": 13,
    "start_time": "2022-04-10T21:52:15.899Z"
   },
   {
    "duration": 128,
    "start_time": "2022-04-11T03:50:08.047Z"
   },
   {
    "duration": 135,
    "start_time": "2022-04-11T04:55:34.671Z"
   },
   {
    "duration": 46,
    "start_time": "2022-04-11T05:15:16.356Z"
   },
   {
    "duration": 1419,
    "start_time": "2022-04-11T05:17:58.201Z"
   },
   {
    "duration": 86,
    "start_time": "2022-04-11T05:17:59.622Z"
   },
   {
    "duration": 15,
    "start_time": "2022-04-11T05:17:59.710Z"
   },
   {
    "duration": 8,
    "start_time": "2022-04-11T05:17:59.727Z"
   },
   {
    "duration": 45,
    "start_time": "2022-04-11T05:17:59.737Z"
   },
   {
    "duration": 28,
    "start_time": "2022-04-11T05:17:59.784Z"
   },
   {
    "duration": 7,
    "start_time": "2022-04-11T05:17:59.814Z"
   },
   {
    "duration": 9,
    "start_time": "2022-04-11T05:17:59.822Z"
   },
   {
    "duration": 27,
    "start_time": "2022-04-11T05:17:59.832Z"
   },
   {
    "duration": 5,
    "start_time": "2022-04-11T05:17:59.862Z"
   },
   {
    "duration": 10,
    "start_time": "2022-04-11T05:17:59.869Z"
   },
   {
    "duration": 10,
    "start_time": "2022-04-11T05:17:59.880Z"
   },
   {
    "duration": 6,
    "start_time": "2022-04-11T05:17:59.892Z"
   },
   {
    "duration": 8,
    "start_time": "2022-04-11T05:17:59.899Z"
   },
   {
    "duration": 13,
    "start_time": "2022-04-11T05:17:59.908Z"
   },
   {
    "duration": 54,
    "start_time": "2022-04-11T05:17:59.923Z"
   },
   {
    "duration": 27,
    "start_time": "2022-04-11T05:17:59.979Z"
   },
   {
    "duration": 50,
    "start_time": "2022-04-11T05:18:00.009Z"
   },
   {
    "duration": 299,
    "start_time": "2022-04-11T05:18:00.061Z"
   },
   {
    "duration": 27,
    "start_time": "2022-04-11T05:18:00.363Z"
   },
   {
    "duration": 21,
    "start_time": "2022-04-11T05:18:00.392Z"
   },
   {
    "duration": 8,
    "start_time": "2022-04-11T05:18:00.414Z"
   },
   {
    "duration": 42,
    "start_time": "2022-04-11T05:18:00.423Z"
   },
   {
    "duration": 9,
    "start_time": "2022-04-11T05:18:00.469Z"
   },
   {
    "duration": 258,
    "start_time": "2022-04-11T05:18:00.479Z"
   },
   {
    "duration": 9,
    "start_time": "2022-04-11T05:18:00.738Z"
   },
   {
    "duration": 14,
    "start_time": "2022-04-11T05:18:00.748Z"
   },
   {
    "duration": 252,
    "start_time": "2022-04-11T05:18:00.771Z"
   },
   {
    "duration": 8,
    "start_time": "2022-04-11T05:18:01.025Z"
   },
   {
    "duration": 7,
    "start_time": "2022-04-11T05:18:01.035Z"
   },
   {
    "duration": 27,
    "start_time": "2022-04-11T05:18:01.043Z"
   },
   {
    "duration": 12,
    "start_time": "2022-04-11T05:18:01.072Z"
   },
   {
    "duration": 214,
    "start_time": "2022-04-11T05:18:01.085Z"
   },
   {
    "duration": 8,
    "start_time": "2022-04-11T05:18:01.300Z"
   },
   {
    "duration": 6,
    "start_time": "2022-04-11T05:18:01.310Z"
   },
   {
    "duration": 9,
    "start_time": "2022-04-11T05:18:01.317Z"
   },
   {
    "duration": 11,
    "start_time": "2022-04-11T05:18:01.328Z"
   },
   {
    "duration": 151,
    "start_time": "2022-04-11T05:18:01.358Z"
   },
   {
    "duration": 8,
    "start_time": "2022-04-11T05:18:01.510Z"
   },
   {
    "duration": 7,
    "start_time": "2022-04-11T05:18:01.519Z"
   },
   {
    "duration": 226,
    "start_time": "2022-04-11T05:18:01.528Z"
   },
   {
    "duration": 232,
    "start_time": "2022-04-11T05:18:01.757Z"
   },
   {
    "duration": 458,
    "start_time": "2022-04-11T05:18:01.991Z"
   },
   {
    "duration": 176,
    "start_time": "2022-04-11T05:18:02.460Z"
   },
   {
    "duration": 344,
    "start_time": "2022-04-11T05:18:02.638Z"
   },
   {
    "duration": 7,
    "start_time": "2022-04-11T05:18:02.985Z"
   },
   {
    "duration": 485,
    "start_time": "2022-04-11T05:18:02.994Z"
   },
   {
    "duration": 384,
    "start_time": "2022-04-11T05:18:03.481Z"
   },
   {
    "duration": 152,
    "start_time": "2022-04-11T05:18:03.868Z"
   },
   {
    "duration": 10,
    "start_time": "2022-04-11T05:18:04.023Z"
   },
   {
    "duration": 25,
    "start_time": "2022-04-11T05:18:04.035Z"
   },
   {
    "duration": 19,
    "start_time": "2022-04-11T05:18:04.063Z"
   },
   {
    "duration": 267,
    "start_time": "2022-04-11T05:18:04.084Z"
   },
   {
    "duration": 7,
    "start_time": "2022-04-11T05:18:04.354Z"
   },
   {
    "duration": 37,
    "start_time": "2022-04-11T05:18:04.363Z"
   },
   {
    "duration": 212,
    "start_time": "2022-04-11T05:18:04.402Z"
   },
   {
    "duration": 14,
    "start_time": "2022-04-11T05:18:04.617Z"
   },
   {
    "duration": 244,
    "start_time": "2022-04-11T05:18:04.634Z"
   },
   {
    "duration": 6,
    "start_time": "2022-04-11T05:18:04.879Z"
   },
   {
    "duration": 25,
    "start_time": "2022-04-11T05:18:04.887Z"
   },
   {
    "duration": 154,
    "start_time": "2022-04-11T05:18:04.913Z"
   },
   {
    "duration": 164,
    "start_time": "2022-04-11T05:18:05.070Z"
   },
   {
    "duration": 168,
    "start_time": "2022-04-11T05:18:05.236Z"
   },
   {
    "duration": 149,
    "start_time": "2022-04-11T05:18:05.405Z"
   },
   {
    "duration": 31,
    "start_time": "2022-04-11T05:18:05.561Z"
   },
   {
    "duration": 8,
    "start_time": "2022-04-11T05:18:05.594Z"
   },
   {
    "duration": 13,
    "start_time": "2022-04-11T05:18:05.603Z"
   },
   {
    "duration": 10,
    "start_time": "2022-04-11T05:18:05.617Z"
   },
   {
    "duration": 5,
    "start_time": "2022-04-11T05:18:05.629Z"
   },
   {
    "duration": 163,
    "start_time": "2022-04-11T05:18:05.635Z"
   },
   {
    "duration": 144,
    "start_time": "2022-04-11T05:18:05.799Z"
   },
   {
    "duration": 32,
    "start_time": "2022-04-11T05:18:05.945Z"
   },
   {
    "duration": 6,
    "start_time": "2022-04-11T05:18:05.979Z"
   },
   {
    "duration": 6,
    "start_time": "2022-04-11T05:18:05.987Z"
   },
   {
    "duration": 5,
    "start_time": "2022-04-11T05:18:05.995Z"
   },
   {
    "duration": 23,
    "start_time": "2022-04-11T05:18:06.001Z"
   },
   {
    "duration": 4,
    "start_time": "2022-04-11T05:18:06.026Z"
   },
   {
    "duration": 28,
    "start_time": "2022-04-11T05:18:06.031Z"
   },
   {
    "duration": 8,
    "start_time": "2022-04-11T05:18:06.061Z"
   },
   {
    "duration": 144,
    "start_time": "2022-04-11T05:18:06.071Z"
   },
   {
    "duration": 144,
    "start_time": "2022-04-11T05:18:06.216Z"
   },
   {
    "duration": 17,
    "start_time": "2022-04-11T05:18:06.365Z"
   },
   {
    "duration": 161,
    "start_time": "2022-04-11T05:18:06.383Z"
   },
   {
    "duration": 12,
    "start_time": "2022-04-11T05:18:06.546Z"
   },
   {
    "duration": 147,
    "start_time": "2022-04-11T05:18:06.560Z"
   },
   {
    "duration": 150,
    "start_time": "2022-04-11T05:18:06.709Z"
   },
   {
    "duration": 142,
    "start_time": "2022-04-11T05:18:06.861Z"
   },
   {
    "duration": 158,
    "start_time": "2022-04-11T05:21:17.149Z"
   },
   {
    "duration": 6,
    "start_time": "2022-04-11T05:32:10.144Z"
   },
   {
    "duration": 130,
    "start_time": "2022-04-11T05:36:52.028Z"
   },
   {
    "duration": 8,
    "start_time": "2022-04-11T05:37:36.460Z"
   },
   {
    "duration": 7,
    "start_time": "2022-04-11T05:38:30.697Z"
   },
   {
    "duration": 1287,
    "start_time": "2022-04-11T05:40:18.836Z"
   },
   {
    "duration": 98,
    "start_time": "2022-04-11T05:40:20.125Z"
   },
   {
    "duration": 15,
    "start_time": "2022-04-11T05:40:20.225Z"
   },
   {
    "duration": 10,
    "start_time": "2022-04-11T05:40:20.257Z"
   },
   {
    "duration": 29,
    "start_time": "2022-04-11T05:40:20.269Z"
   },
   {
    "duration": 33,
    "start_time": "2022-04-11T05:40:20.300Z"
   },
   {
    "duration": 25,
    "start_time": "2022-04-11T05:40:20.336Z"
   },
   {
    "duration": 8,
    "start_time": "2022-04-11T05:40:20.362Z"
   },
   {
    "duration": 7,
    "start_time": "2022-04-11T05:40:20.372Z"
   },
   {
    "duration": 5,
    "start_time": "2022-04-11T05:40:20.382Z"
   },
   {
    "duration": 13,
    "start_time": "2022-04-11T05:40:20.388Z"
   },
   {
    "duration": 12,
    "start_time": "2022-04-11T05:40:20.402Z"
   },
   {
    "duration": 46,
    "start_time": "2022-04-11T05:40:20.416Z"
   },
   {
    "duration": 12,
    "start_time": "2022-04-11T05:40:20.464Z"
   },
   {
    "duration": 19,
    "start_time": "2022-04-11T05:40:20.478Z"
   },
   {
    "duration": 62,
    "start_time": "2022-04-11T05:40:20.499Z"
   },
   {
    "duration": 40,
    "start_time": "2022-04-11T05:40:20.563Z"
   },
   {
    "duration": 33,
    "start_time": "2022-04-11T05:40:20.605Z"
   },
   {
    "duration": 302,
    "start_time": "2022-04-11T05:40:20.659Z"
   },
   {
    "duration": 35,
    "start_time": "2022-04-11T05:40:20.963Z"
   },
   {
    "duration": 58,
    "start_time": "2022-04-11T05:40:21.000Z"
   },
   {
    "duration": 12,
    "start_time": "2022-04-11T05:40:21.061Z"
   },
   {
    "duration": 9,
    "start_time": "2022-04-11T05:40:21.075Z"
   },
   {
    "duration": 12,
    "start_time": "2022-04-11T05:40:21.086Z"
   },
   {
    "duration": 445,
    "start_time": "2022-04-11T05:40:21.100Z"
   },
   {
    "duration": 24,
    "start_time": "2022-04-11T05:40:21.547Z"
   },
   {
    "duration": 7,
    "start_time": "2022-04-11T05:40:21.574Z"
   },
   {
    "duration": 294,
    "start_time": "2022-04-11T05:40:21.585Z"
   },
   {
    "duration": 8,
    "start_time": "2022-04-11T05:40:21.882Z"
   },
   {
    "duration": 5,
    "start_time": "2022-04-11T05:40:21.892Z"
   },
   {
    "duration": 7,
    "start_time": "2022-04-11T05:40:21.899Z"
   },
   {
    "duration": 7,
    "start_time": "2022-04-11T05:40:21.907Z"
   },
   {
    "duration": 179,
    "start_time": "2022-04-11T05:40:21.915Z"
   },
   {
    "duration": 8,
    "start_time": "2022-04-11T05:40:22.096Z"
   },
   {
    "duration": 6,
    "start_time": "2022-04-11T05:40:22.106Z"
   },
   {
    "duration": 7,
    "start_time": "2022-04-11T05:40:22.114Z"
   },
   {
    "duration": 8,
    "start_time": "2022-04-11T05:40:22.123Z"
   },
   {
    "duration": 259,
    "start_time": "2022-04-11T05:40:22.133Z"
   },
   {
    "duration": 12,
    "start_time": "2022-04-11T05:40:22.394Z"
   },
   {
    "duration": 7,
    "start_time": "2022-04-11T05:40:22.408Z"
   },
   {
    "duration": 549,
    "start_time": "2022-04-11T05:40:22.417Z"
   },
   {
    "duration": 705,
    "start_time": "2022-04-11T05:40:22.969Z"
   },
   {
    "duration": 903,
    "start_time": "2022-04-11T05:40:23.676Z"
   },
   {
    "duration": 280,
    "start_time": "2022-04-11T05:40:24.581Z"
   },
   {
    "duration": 338,
    "start_time": "2022-04-11T05:40:24.863Z"
   },
   {
    "duration": 6,
    "start_time": "2022-04-11T05:40:25.203Z"
   },
   {
    "duration": 314,
    "start_time": "2022-04-11T05:40:25.211Z"
   },
   {
    "duration": 245,
    "start_time": "2022-04-11T05:40:25.526Z"
   },
   {
    "duration": 101,
    "start_time": "2022-04-11T05:40:25.774Z"
   },
   {
    "duration": 9,
    "start_time": "2022-04-11T05:40:25.877Z"
   },
   {
    "duration": 21,
    "start_time": "2022-04-11T05:40:25.887Z"
   },
   {
    "duration": 22,
    "start_time": "2022-04-11T05:40:25.910Z"
   },
   {
    "duration": 190,
    "start_time": "2022-04-11T05:40:25.934Z"
   },
   {
    "duration": 5,
    "start_time": "2022-04-11T05:40:26.125Z"
   },
   {
    "duration": 49,
    "start_time": "2022-04-11T05:40:26.132Z"
   },
   {
    "duration": 130,
    "start_time": "2022-04-11T05:40:26.183Z"
   },
   {
    "duration": 5,
    "start_time": "2022-04-11T05:40:26.315Z"
   },
   {
    "duration": 273,
    "start_time": "2022-04-11T05:40:26.322Z"
   },
   {
    "duration": 6,
    "start_time": "2022-04-11T05:40:26.598Z"
   },
   {
    "duration": 56,
    "start_time": "2022-04-11T05:40:26.606Z"
   },
   {
    "duration": 152,
    "start_time": "2022-04-11T05:40:26.664Z"
   },
   {
    "duration": 168,
    "start_time": "2022-04-11T05:40:26.818Z"
   },
   {
    "duration": 164,
    "start_time": "2022-04-11T05:40:26.988Z"
   },
   {
    "duration": 158,
    "start_time": "2022-04-11T05:40:27.158Z"
   },
   {
    "duration": 25,
    "start_time": "2022-04-11T05:40:27.318Z"
   },
   {
    "duration": 9,
    "start_time": "2022-04-11T05:40:27.358Z"
   },
   {
    "duration": 23,
    "start_time": "2022-04-11T05:40:27.369Z"
   },
   {
    "duration": 18,
    "start_time": "2022-04-11T05:40:27.394Z"
   },
   {
    "duration": 12,
    "start_time": "2022-04-11T05:40:27.414Z"
   },
   {
    "duration": 43,
    "start_time": "2022-04-11T05:40:27.428Z"
   },
   {
    "duration": 228,
    "start_time": "2022-04-11T05:40:27.472Z"
   },
   {
    "duration": 28,
    "start_time": "2022-04-11T05:40:27.702Z"
   },
   {
    "duration": 27,
    "start_time": "2022-04-11T05:40:27.732Z"
   },
   {
    "duration": 8,
    "start_time": "2022-04-11T05:40:27.760Z"
   },
   {
    "duration": 28,
    "start_time": "2022-04-11T05:40:27.769Z"
   },
   {
    "duration": 14,
    "start_time": "2022-04-11T05:40:27.799Z"
   },
   {
    "duration": 9,
    "start_time": "2022-04-11T05:40:27.815Z"
   },
   {
    "duration": 17,
    "start_time": "2022-04-11T05:40:27.826Z"
   },
   {
    "duration": 15,
    "start_time": "2022-04-11T05:40:27.845Z"
   },
   {
    "duration": 145,
    "start_time": "2022-04-11T05:40:27.862Z"
   },
   {
    "duration": 7,
    "start_time": "2022-04-11T05:40:28.010Z"
   },
   {
    "duration": 233,
    "start_time": "2022-04-11T05:40:28.025Z"
   },
   {
    "duration": 24,
    "start_time": "2022-04-11T05:40:28.261Z"
   },
   {
    "duration": 300,
    "start_time": "2022-04-11T05:40:28.288Z"
   },
   {
    "duration": 6,
    "start_time": "2022-04-11T05:40:28.590Z"
   },
   {
    "duration": 162,
    "start_time": "2022-04-11T05:40:28.598Z"
   },
   {
    "duration": 166,
    "start_time": "2022-04-11T05:40:28.762Z"
   },
   {
    "duration": 169,
    "start_time": "2022-04-11T05:40:28.929Z"
   },
   {
    "duration": 1336,
    "start_time": "2022-04-11T05:43:02.932Z"
   },
   {
    "duration": 115,
    "start_time": "2022-04-11T05:43:08.807Z"
   },
   {
    "duration": 15,
    "start_time": "2022-04-11T05:43:12.072Z"
   },
   {
    "duration": 9,
    "start_time": "2022-04-11T05:43:14.972Z"
   },
   {
    "duration": 28,
    "start_time": "2022-04-11T05:43:26.523Z"
   },
   {
    "duration": 29,
    "start_time": "2022-04-11T05:43:30.309Z"
   },
   {
    "duration": 8,
    "start_time": "2022-04-11T05:43:36.815Z"
   },
   {
    "duration": 8,
    "start_time": "2022-04-11T05:43:41.135Z"
   },
   {
    "duration": 11,
    "start_time": "2022-04-11T05:43:50.452Z"
   },
   {
    "duration": 9,
    "start_time": "2022-04-11T05:43:53.494Z"
   },
   {
    "duration": 8,
    "start_time": "2022-04-11T05:43:58.895Z"
   },
   {
    "duration": 10,
    "start_time": "2022-04-11T05:44:03.103Z"
   },
   {
    "duration": 15,
    "start_time": "2022-04-11T05:44:10.179Z"
   },
   {
    "duration": 25,
    "start_time": "2022-04-11T05:44:14.435Z"
   },
   {
    "duration": 41,
    "start_time": "2022-04-11T05:44:20.631Z"
   },
   {
    "duration": 31,
    "start_time": "2022-04-11T05:44:24.183Z"
   },
   {
    "duration": 491,
    "start_time": "2022-04-11T05:44:26.887Z"
   },
   {
    "duration": 28,
    "start_time": "2022-04-11T05:44:35.164Z"
   },
   {
    "duration": 21,
    "start_time": "2022-04-11T05:44:36.399Z"
   },
   {
    "duration": 9,
    "start_time": "2022-04-11T05:44:42.016Z"
   },
   {
    "duration": 11,
    "start_time": "2022-04-11T05:44:44.080Z"
   },
   {
    "duration": 7,
    "start_time": "2022-04-11T05:44:44.777Z"
   },
   {
    "duration": 230,
    "start_time": "2022-04-11T05:44:47.907Z"
   },
   {
    "duration": 14,
    "start_time": "2022-04-11T05:44:50.320Z"
   },
   {
    "duration": 7,
    "start_time": "2022-04-11T05:44:52.744Z"
   },
   {
    "duration": 220,
    "start_time": "2022-04-11T05:44:53.532Z"
   },
   {
    "duration": 8,
    "start_time": "2022-04-11T05:44:56.672Z"
   },
   {
    "duration": 8,
    "start_time": "2022-04-11T05:44:57.887Z"
   },
   {
    "duration": 6,
    "start_time": "2022-04-11T05:45:01.152Z"
   },
   {
    "duration": 7,
    "start_time": "2022-04-11T05:45:01.931Z"
   },
   {
    "duration": 133,
    "start_time": "2022-04-11T05:45:02.643Z"
   },
   {
    "duration": 10,
    "start_time": "2022-04-11T05:45:06.068Z"
   },
   {
    "duration": 6,
    "start_time": "2022-04-11T05:45:06.600Z"
   },
   {
    "duration": 8,
    "start_time": "2022-04-11T05:45:09.195Z"
   },
   {
    "duration": 10,
    "start_time": "2022-04-11T05:45:09.772Z"
   },
   {
    "duration": 271,
    "start_time": "2022-04-11T05:45:12.731Z"
   },
   {
    "duration": 9,
    "start_time": "2022-04-11T05:45:16.175Z"
   },
   {
    "duration": 7,
    "start_time": "2022-04-11T05:45:18.547Z"
   },
   {
    "duration": 349,
    "start_time": "2022-04-11T05:45:19.678Z"
   },
   {
    "duration": 341,
    "start_time": "2022-04-11T05:45:24.236Z"
   },
   {
    "duration": 275,
    "start_time": "2022-04-11T05:45:25.872Z"
   },
   {
    "duration": 80,
    "start_time": "2022-04-11T05:45:31.451Z"
   },
   {
    "duration": 183,
    "start_time": "2022-04-11T05:51:21.743Z"
   },
   {
    "duration": 512,
    "start_time": "2022-04-11T05:54:07.380Z"
   },
   {
    "duration": 242,
    "start_time": "2022-04-11T05:54:33.071Z"
   },
   {
    "duration": 351,
    "start_time": "2022-04-11T05:54:43.551Z"
   },
   {
    "duration": 117,
    "start_time": "2022-04-11T05:55:15.680Z"
   },
   {
    "duration": 201,
    "start_time": "2022-04-11T05:56:20.835Z"
   },
   {
    "duration": 204,
    "start_time": "2022-04-11T05:56:29.573Z"
   },
   {
    "duration": 14,
    "start_time": "2022-04-11T05:57:17.708Z"
   },
   {
    "duration": 1434,
    "start_time": "2022-04-11T05:57:52.905Z"
   },
   {
    "duration": 99,
    "start_time": "2022-04-11T05:57:54.341Z"
   },
   {
    "duration": 21,
    "start_time": "2022-04-11T05:57:54.442Z"
   },
   {
    "duration": 14,
    "start_time": "2022-04-11T05:57:54.465Z"
   },
   {
    "duration": 32,
    "start_time": "2022-04-11T05:57:54.481Z"
   },
   {
    "duration": 70,
    "start_time": "2022-04-11T05:57:54.515Z"
   },
   {
    "duration": 12,
    "start_time": "2022-04-11T05:57:54.587Z"
   },
   {
    "duration": 12,
    "start_time": "2022-04-11T05:57:54.601Z"
   },
   {
    "duration": 2,
    "start_time": "2022-04-11T05:57:54.616Z"
   },
   {
    "duration": 7,
    "start_time": "2022-04-11T05:57:54.622Z"
   },
   {
    "duration": 34,
    "start_time": "2022-04-11T05:57:54.631Z"
   },
   {
    "duration": 12,
    "start_time": "2022-04-11T05:57:54.667Z"
   },
   {
    "duration": 7,
    "start_time": "2022-04-11T05:57:54.682Z"
   },
   {
    "duration": 11,
    "start_time": "2022-04-11T05:57:54.691Z"
   },
   {
    "duration": 65,
    "start_time": "2022-04-11T05:57:54.704Z"
   },
   {
    "duration": 24,
    "start_time": "2022-04-11T05:57:54.772Z"
   },
   {
    "duration": 26,
    "start_time": "2022-04-11T05:57:54.798Z"
   },
   {
    "duration": 58,
    "start_time": "2022-04-11T05:57:54.825Z"
   },
   {
    "duration": 320,
    "start_time": "2022-04-11T05:57:54.884Z"
   },
   {
    "duration": 22,
    "start_time": "2022-04-11T05:57:55.206Z"
   },
   {
    "duration": 48,
    "start_time": "2022-04-11T05:57:55.229Z"
   },
   {
    "duration": 11,
    "start_time": "2022-04-11T05:57:55.279Z"
   },
   {
    "duration": 7,
    "start_time": "2022-04-11T05:57:55.292Z"
   },
   {
    "duration": 8,
    "start_time": "2022-04-11T05:57:55.301Z"
   },
   {
    "duration": 282,
    "start_time": "2022-04-11T05:57:55.310Z"
   },
   {
    "duration": 10,
    "start_time": "2022-04-11T05:57:55.594Z"
   },
   {
    "duration": 7,
    "start_time": "2022-04-11T05:57:55.606Z"
   },
   {
    "duration": 267,
    "start_time": "2022-04-11T05:57:55.617Z"
   },
   {
    "duration": 8,
    "start_time": "2022-04-11T05:57:55.886Z"
   },
   {
    "duration": 9,
    "start_time": "2022-04-11T05:57:55.896Z"
   },
   {
    "duration": 12,
    "start_time": "2022-04-11T05:57:55.907Z"
   },
   {
    "duration": 11,
    "start_time": "2022-04-11T05:57:55.921Z"
   },
   {
    "duration": 171,
    "start_time": "2022-04-11T05:57:55.934Z"
   },
   {
    "duration": 9,
    "start_time": "2022-04-11T05:57:56.107Z"
   },
   {
    "duration": 6,
    "start_time": "2022-04-11T05:57:56.117Z"
   },
   {
    "duration": 7,
    "start_time": "2022-04-11T05:57:56.125Z"
   },
   {
    "duration": 12,
    "start_time": "2022-04-11T05:57:56.159Z"
   },
   {
    "duration": 377,
    "start_time": "2022-04-11T05:57:56.173Z"
   },
   {
    "duration": 16,
    "start_time": "2022-04-11T05:57:56.553Z"
   },
   {
    "duration": 10,
    "start_time": "2022-04-11T05:57:56.572Z"
   },
   {
    "duration": 390,
    "start_time": "2022-04-11T05:57:56.584Z"
   },
   {
    "duration": 785,
    "start_time": "2022-04-11T05:57:56.976Z"
   },
   {
    "duration": 930,
    "start_time": "2022-04-11T05:57:57.764Z"
   },
   {
    "duration": 133,
    "start_time": "2022-04-11T05:57:58.696Z"
   },
   {
    "duration": 264,
    "start_time": "2022-04-11T05:57:58.831Z"
   },
   {
    "duration": 6,
    "start_time": "2022-04-11T05:57:59.097Z"
   },
   {
    "duration": 394,
    "start_time": "2022-04-11T05:57:59.104Z"
   },
   {
    "duration": 26,
    "start_time": "2022-04-11T05:57:59.501Z"
   },
   {
    "duration": 106,
    "start_time": "2022-04-11T05:57:59.529Z"
   },
   {
    "duration": 10,
    "start_time": "2022-04-11T05:57:59.636Z"
   },
   {
    "duration": 18,
    "start_time": "2022-04-11T05:57:59.647Z"
   },
   {
    "duration": 23,
    "start_time": "2022-04-11T05:57:59.666Z"
   },
   {
    "duration": 257,
    "start_time": "2022-04-11T05:57:59.692Z"
   },
   {
    "duration": 10,
    "start_time": "2022-04-11T05:57:59.951Z"
   },
   {
    "duration": 50,
    "start_time": "2022-04-11T05:57:59.962Z"
   },
   {
    "duration": 150,
    "start_time": "2022-04-11T05:58:00.013Z"
   },
   {
    "duration": 5,
    "start_time": "2022-04-11T05:58:00.165Z"
   },
   {
    "duration": 248,
    "start_time": "2022-04-11T05:58:00.172Z"
   },
   {
    "duration": 6,
    "start_time": "2022-04-11T05:58:00.422Z"
   },
   {
    "duration": 43,
    "start_time": "2022-04-11T05:58:00.430Z"
   },
   {
    "duration": 137,
    "start_time": "2022-04-11T05:58:00.475Z"
   },
   {
    "duration": 172,
    "start_time": "2022-04-11T05:58:00.614Z"
   },
   {
    "duration": 162,
    "start_time": "2022-04-11T05:58:00.788Z"
   },
   {
    "duration": 171,
    "start_time": "2022-04-11T05:58:00.952Z"
   },
   {
    "duration": 34,
    "start_time": "2022-04-11T05:58:01.125Z"
   },
   {
    "duration": 13,
    "start_time": "2022-04-11T05:58:01.161Z"
   },
   {
    "duration": 54,
    "start_time": "2022-04-11T05:58:01.176Z"
   },
   {
    "duration": 37,
    "start_time": "2022-04-11T05:58:01.232Z"
   },
   {
    "duration": 20,
    "start_time": "2022-04-11T05:58:01.271Z"
   },
   {
    "duration": 39,
    "start_time": "2022-04-11T05:58:01.294Z"
   },
   {
    "duration": 145,
    "start_time": "2022-04-11T05:58:01.335Z"
   },
   {
    "duration": 42,
    "start_time": "2022-04-11T05:58:01.482Z"
   },
   {
    "duration": 11,
    "start_time": "2022-04-11T05:58:01.526Z"
   },
   {
    "duration": 24,
    "start_time": "2022-04-11T05:58:01.559Z"
   },
   {
    "duration": 23,
    "start_time": "2022-04-11T05:58:01.585Z"
   },
   {
    "duration": 13,
    "start_time": "2022-04-11T05:58:01.611Z"
   },
   {
    "duration": 24,
    "start_time": "2022-04-11T05:58:01.626Z"
   },
   {
    "duration": 34,
    "start_time": "2022-04-11T05:58:01.652Z"
   },
   {
    "duration": 27,
    "start_time": "2022-04-11T05:58:01.688Z"
   },
   {
    "duration": 177,
    "start_time": "2022-04-11T05:58:01.717Z"
   },
   {
    "duration": 7,
    "start_time": "2022-04-11T05:58:01.896Z"
   },
   {
    "duration": 182,
    "start_time": "2022-04-11T05:58:01.908Z"
   },
   {
    "duration": 18,
    "start_time": "2022-04-11T05:58:02.092Z"
   },
   {
    "duration": 177,
    "start_time": "2022-04-11T05:58:02.112Z"
   },
   {
    "duration": 5,
    "start_time": "2022-04-11T05:58:02.291Z"
   },
   {
    "duration": 164,
    "start_time": "2022-04-11T05:58:02.298Z"
   },
   {
    "duration": 174,
    "start_time": "2022-04-11T05:58:02.465Z"
   },
   {
    "duration": 165,
    "start_time": "2022-04-11T05:58:02.640Z"
   },
   {
    "duration": 21,
    "start_time": "2022-04-11T05:59:36.494Z"
   },
   {
    "duration": 7,
    "start_time": "2022-04-11T06:00:35.217Z"
   },
   {
    "duration": 1636,
    "start_time": "2022-04-11T06:00:57.735Z"
   },
   {
    "duration": 97,
    "start_time": "2022-04-11T06:01:04.527Z"
   },
   {
    "duration": 17,
    "start_time": "2022-04-11T06:01:07.195Z"
   },
   {
    "duration": 9,
    "start_time": "2022-04-11T06:01:08.587Z"
   },
   {
    "duration": 31,
    "start_time": "2022-04-11T06:01:11.451Z"
   },
   {
    "duration": 26,
    "start_time": "2022-04-11T06:01:12.659Z"
   },
   {
    "duration": 8,
    "start_time": "2022-04-11T06:01:15.867Z"
   },
   {
    "duration": 8,
    "start_time": "2022-04-11T06:01:33.711Z"
   },
   {
    "duration": 7,
    "start_time": "2022-04-11T06:01:47.127Z"
   },
   {
    "duration": 6,
    "start_time": "2022-04-11T06:02:08.648Z"
   },
   {
    "duration": 8,
    "start_time": "2022-04-11T06:02:28.694Z"
   },
   {
    "duration": 17,
    "start_time": "2022-04-11T06:02:39.254Z"
   },
   {
    "duration": 7,
    "start_time": "2022-04-11T06:03:11.402Z"
   },
   {
    "duration": 7,
    "start_time": "2022-04-11T06:07:23.662Z"
   },
   {
    "duration": 9,
    "start_time": "2022-04-11T06:07:41.813Z"
   },
   {
    "duration": 11,
    "start_time": "2022-04-11T06:07:43.790Z"
   },
   {
    "duration": 9,
    "start_time": "2022-04-11T06:07:49.734Z"
   },
   {
    "duration": 9,
    "start_time": "2022-04-11T06:07:52.583Z"
   },
   {
    "duration": 1529,
    "start_time": "2022-04-11T06:08:03.658Z"
   },
   {
    "duration": 92,
    "start_time": "2022-04-11T06:08:05.188Z"
   },
   {
    "duration": 14,
    "start_time": "2022-04-11T06:08:05.282Z"
   },
   {
    "duration": 8,
    "start_time": "2022-04-11T06:08:05.298Z"
   },
   {
    "duration": 27,
    "start_time": "2022-04-11T06:08:05.307Z"
   },
   {
    "duration": 54,
    "start_time": "2022-04-11T06:08:05.335Z"
   },
   {
    "duration": 8,
    "start_time": "2022-04-11T06:08:05.391Z"
   },
   {
    "duration": 7,
    "start_time": "2022-04-11T06:08:05.400Z"
   },
   {
    "duration": 2,
    "start_time": "2022-04-11T06:08:05.408Z"
   },
   {
    "duration": 5,
    "start_time": "2022-04-11T06:08:05.413Z"
   },
   {
    "duration": 11,
    "start_time": "2022-04-11T06:08:05.419Z"
   },
   {
    "duration": 14,
    "start_time": "2022-04-11T06:08:05.462Z"
   },
   {
    "duration": 7,
    "start_time": "2022-04-11T06:08:05.477Z"
   },
   {
    "duration": 7,
    "start_time": "2022-04-11T06:08:05.486Z"
   },
   {
    "duration": 14,
    "start_time": "2022-04-11T06:08:05.494Z"
   },
   {
    "duration": 58,
    "start_time": "2022-04-11T06:08:05.509Z"
   },
   {
    "duration": 25,
    "start_time": "2022-04-11T06:08:05.570Z"
   },
   {
    "duration": 27,
    "start_time": "2022-04-11T06:08:05.597Z"
   },
   {
    "duration": 316,
    "start_time": "2022-04-11T06:08:05.626Z"
   },
   {
    "duration": 25,
    "start_time": "2022-04-11T06:08:05.944Z"
   },
   {
    "duration": 22,
    "start_time": "2022-04-11T06:08:05.971Z"
   },
   {
    "duration": 8,
    "start_time": "2022-04-11T06:08:05.994Z"
   },
   {
    "duration": 8,
    "start_time": "2022-04-11T06:08:06.004Z"
   },
   {
    "duration": 10,
    "start_time": "2022-04-11T06:08:06.013Z"
   },
   {
    "duration": 472,
    "start_time": "2022-04-11T06:08:06.026Z"
   },
   {
    "duration": 11,
    "start_time": "2022-04-11T06:08:06.500Z"
   },
   {
    "duration": 7,
    "start_time": "2022-04-11T06:08:06.514Z"
   },
   {
    "duration": 389,
    "start_time": "2022-04-11T06:08:06.527Z"
   },
   {
    "duration": 11,
    "start_time": "2022-04-11T06:08:06.918Z"
   },
   {
    "duration": 11,
    "start_time": "2022-04-11T06:08:06.931Z"
   },
   {
    "duration": 9,
    "start_time": "2022-04-11T06:08:06.957Z"
   },
   {
    "duration": 15,
    "start_time": "2022-04-11T06:08:06.968Z"
   },
   {
    "duration": 220,
    "start_time": "2022-04-11T06:08:06.986Z"
   },
   {
    "duration": 11,
    "start_time": "2022-04-11T06:08:07.209Z"
   },
   {
    "duration": 8,
    "start_time": "2022-04-11T06:08:07.222Z"
   },
   {
    "duration": 31,
    "start_time": "2022-04-11T06:08:07.232Z"
   },
   {
    "duration": 9,
    "start_time": "2022-04-11T06:08:07.265Z"
   },
   {
    "duration": 344,
    "start_time": "2022-04-11T06:08:07.276Z"
   },
   {
    "duration": 13,
    "start_time": "2022-04-11T06:08:07.623Z"
   },
   {
    "duration": 21,
    "start_time": "2022-04-11T06:08:07.638Z"
   },
   {
    "duration": 363,
    "start_time": "2022-04-11T06:08:07.661Z"
   },
   {
    "duration": 378,
    "start_time": "2022-04-11T06:08:08.026Z"
   },
   {
    "duration": 364,
    "start_time": "2022-04-11T06:08:08.406Z"
   },
   {
    "duration": 90,
    "start_time": "2022-04-11T06:08:08.772Z"
   },
   {
    "duration": 209,
    "start_time": "2022-04-11T06:08:08.865Z"
   },
   {
    "duration": 7,
    "start_time": "2022-04-11T06:08:09.075Z"
   },
   {
    "duration": 314,
    "start_time": "2022-04-11T06:08:09.083Z"
   },
   {
    "duration": 20,
    "start_time": "2022-04-11T06:08:09.399Z"
   },
   {
    "duration": 91,
    "start_time": "2022-04-11T06:08:09.420Z"
   },
   {
    "duration": 8,
    "start_time": "2022-04-11T06:08:09.512Z"
   },
   {
    "duration": 20,
    "start_time": "2022-04-11T06:08:09.522Z"
   },
   {
    "duration": 28,
    "start_time": "2022-04-11T06:08:09.543Z"
   },
   {
    "duration": 168,
    "start_time": "2022-04-11T06:08:09.573Z"
   },
   {
    "duration": 5,
    "start_time": "2022-04-11T06:08:09.742Z"
   },
   {
    "duration": 44,
    "start_time": "2022-04-11T06:08:09.748Z"
   },
   {
    "duration": 130,
    "start_time": "2022-04-11T06:08:09.794Z"
   },
   {
    "duration": 4,
    "start_time": "2022-04-11T06:08:09.926Z"
   },
   {
    "duration": 238,
    "start_time": "2022-04-11T06:08:09.932Z"
   },
   {
    "duration": 5,
    "start_time": "2022-04-11T06:08:10.172Z"
   },
   {
    "duration": 35,
    "start_time": "2022-04-11T06:08:10.179Z"
   },
   {
    "duration": 130,
    "start_time": "2022-04-11T06:08:10.216Z"
   },
   {
    "duration": 166,
    "start_time": "2022-04-11T06:08:10.348Z"
   },
   {
    "duration": 154,
    "start_time": "2022-04-11T06:08:10.516Z"
   },
   {
    "duration": 148,
    "start_time": "2022-04-11T06:08:10.672Z"
   },
   {
    "duration": 22,
    "start_time": "2022-04-11T06:08:10.822Z"
   },
   {
    "duration": 16,
    "start_time": "2022-04-11T06:08:10.846Z"
   },
   {
    "duration": 14,
    "start_time": "2022-04-11T06:08:10.864Z"
   },
   {
    "duration": 9,
    "start_time": "2022-04-11T06:08:10.879Z"
   },
   {
    "duration": 6,
    "start_time": "2022-04-11T06:08:10.890Z"
   },
   {
    "duration": 21,
    "start_time": "2022-04-11T06:08:10.898Z"
   },
   {
    "duration": 177,
    "start_time": "2022-04-11T06:08:10.921Z"
   },
   {
    "duration": 28,
    "start_time": "2022-04-11T06:08:11.100Z"
   },
   {
    "duration": 8,
    "start_time": "2022-04-11T06:08:11.129Z"
   },
   {
    "duration": 9,
    "start_time": "2022-04-11T06:08:11.158Z"
   },
   {
    "duration": 7,
    "start_time": "2022-04-11T06:08:11.169Z"
   },
   {
    "duration": 7,
    "start_time": "2022-04-11T06:08:11.178Z"
   },
   {
    "duration": 6,
    "start_time": "2022-04-11T06:08:11.187Z"
   },
   {
    "duration": 8,
    "start_time": "2022-04-11T06:08:11.195Z"
   },
   {
    "duration": 6,
    "start_time": "2022-04-11T06:08:11.204Z"
   },
   {
    "duration": 174,
    "start_time": "2022-04-11T06:08:11.212Z"
   },
   {
    "duration": 6,
    "start_time": "2022-04-11T06:08:11.388Z"
   },
   {
    "duration": 147,
    "start_time": "2022-04-11T06:08:11.401Z"
   },
   {
    "duration": 21,
    "start_time": "2022-04-11T06:08:11.551Z"
   },
   {
    "duration": 159,
    "start_time": "2022-04-11T06:08:11.573Z"
   },
   {
    "duration": 6,
    "start_time": "2022-04-11T06:08:11.735Z"
   },
   {
    "duration": 156,
    "start_time": "2022-04-11T06:08:11.742Z"
   },
   {
    "duration": 158,
    "start_time": "2022-04-11T06:08:11.900Z"
   },
   {
    "duration": 143,
    "start_time": "2022-04-11T06:08:12.059Z"
   },
   {
    "duration": 16,
    "start_time": "2022-04-11T06:08:47.586Z"
   },
   {
    "duration": 1549,
    "start_time": "2022-04-11T06:50:12.474Z"
   },
   {
    "duration": 118,
    "start_time": "2022-04-11T06:50:14.025Z"
   },
   {
    "duration": 25,
    "start_time": "2022-04-11T06:50:14.145Z"
   },
   {
    "duration": 22,
    "start_time": "2022-04-11T06:50:14.172Z"
   },
   {
    "duration": 57,
    "start_time": "2022-04-11T06:50:14.196Z"
   },
   {
    "duration": 27,
    "start_time": "2022-04-11T06:50:14.254Z"
   },
   {
    "duration": 9,
    "start_time": "2022-04-11T06:50:14.283Z"
   },
   {
    "duration": 36,
    "start_time": "2022-04-11T06:50:14.294Z"
   },
   {
    "duration": 7,
    "start_time": "2022-04-11T06:50:14.332Z"
   },
   {
    "duration": 25,
    "start_time": "2022-04-11T06:50:14.342Z"
   },
   {
    "duration": 24,
    "start_time": "2022-04-11T06:50:14.369Z"
   },
   {
    "duration": 33,
    "start_time": "2022-04-11T06:50:14.395Z"
   },
   {
    "duration": 34,
    "start_time": "2022-04-11T06:50:14.431Z"
   },
   {
    "duration": 10,
    "start_time": "2022-04-11T06:50:14.468Z"
   },
   {
    "duration": 16,
    "start_time": "2022-04-11T06:50:14.480Z"
   },
   {
    "duration": 24,
    "start_time": "2022-04-11T06:50:14.498Z"
   },
   {
    "duration": 55,
    "start_time": "2022-04-11T06:50:14.524Z"
   },
   {
    "duration": 29,
    "start_time": "2022-04-11T06:50:14.581Z"
   },
   {
    "duration": 327,
    "start_time": "2022-04-11T06:50:14.612Z"
   },
   {
    "duration": 35,
    "start_time": "2022-04-11T06:50:14.941Z"
   },
   {
    "duration": 27,
    "start_time": "2022-04-11T06:50:14.977Z"
   },
   {
    "duration": 11,
    "start_time": "2022-04-11T06:50:15.006Z"
   },
   {
    "duration": 38,
    "start_time": "2022-04-11T06:50:15.020Z"
   },
   {
    "duration": 8,
    "start_time": "2022-04-11T06:50:15.060Z"
   },
   {
    "duration": 258,
    "start_time": "2022-04-11T06:50:15.070Z"
   },
   {
    "duration": 10,
    "start_time": "2022-04-11T06:50:15.330Z"
   },
   {
    "duration": 20,
    "start_time": "2022-04-11T06:50:15.342Z"
   },
   {
    "duration": 230,
    "start_time": "2022-04-11T06:50:15.367Z"
   },
   {
    "duration": 8,
    "start_time": "2022-04-11T06:50:15.599Z"
   },
   {
    "duration": 6,
    "start_time": "2022-04-11T06:50:15.609Z"
   },
   {
    "duration": 5,
    "start_time": "2022-04-11T06:50:15.617Z"
   },
   {
    "duration": 35,
    "start_time": "2022-04-11T06:50:15.624Z"
   },
   {
    "duration": 137,
    "start_time": "2022-04-11T06:50:15.660Z"
   },
   {
    "duration": 10,
    "start_time": "2022-04-11T06:50:15.799Z"
   },
   {
    "duration": 8,
    "start_time": "2022-04-11T06:50:15.811Z"
   },
   {
    "duration": 8,
    "start_time": "2022-04-11T06:50:15.821Z"
   },
   {
    "duration": 35,
    "start_time": "2022-04-11T06:50:15.830Z"
   },
   {
    "duration": 390,
    "start_time": "2022-04-11T06:50:15.868Z"
   },
   {
    "duration": 10,
    "start_time": "2022-04-11T06:50:16.260Z"
   },
   {
    "duration": 6,
    "start_time": "2022-04-11T06:50:16.272Z"
   },
   {
    "duration": 481,
    "start_time": "2022-04-11T06:50:16.279Z"
   },
   {
    "duration": 436,
    "start_time": "2022-04-11T06:50:16.762Z"
   },
   {
    "duration": 559,
    "start_time": "2022-04-11T06:50:17.199Z"
   },
   {
    "duration": 112,
    "start_time": "2022-04-11T06:50:17.760Z"
   },
   {
    "duration": 415,
    "start_time": "2022-04-11T06:50:17.873Z"
   },
   {
    "duration": 7,
    "start_time": "2022-04-11T06:50:18.289Z"
   },
   {
    "duration": 591,
    "start_time": "2022-04-11T06:50:18.297Z"
   },
   {
    "duration": 70,
    "start_time": "2022-04-11T06:50:18.889Z"
   },
   {
    "duration": 135,
    "start_time": "2022-04-11T06:50:18.961Z"
   },
   {
    "duration": 62,
    "start_time": "2022-04-11T06:50:19.098Z"
   },
   {
    "duration": 7,
    "start_time": "2022-04-11T06:50:19.161Z"
   },
   {
    "duration": 13,
    "start_time": "2022-04-11T06:50:19.170Z"
   },
   {
    "duration": 314,
    "start_time": "2022-04-11T06:50:19.185Z"
   },
   {
    "duration": 6,
    "start_time": "2022-04-11T06:50:19.557Z"
   },
   {
    "duration": 26,
    "start_time": "2022-04-11T06:50:19.564Z"
   },
   {
    "duration": 279,
    "start_time": "2022-04-11T06:50:19.592Z"
   },
   {
    "duration": 6,
    "start_time": "2022-04-11T06:50:19.873Z"
   },
   {
    "duration": 497,
    "start_time": "2022-04-11T06:50:19.880Z"
   },
   {
    "duration": 6,
    "start_time": "2022-04-11T06:50:20.379Z"
   },
   {
    "duration": 80,
    "start_time": "2022-04-11T06:50:20.387Z"
   },
   {
    "duration": 395,
    "start_time": "2022-04-11T06:50:20.469Z"
   },
   {
    "duration": 421,
    "start_time": "2022-04-11T06:50:20.867Z"
   },
   {
    "duration": 339,
    "start_time": "2022-04-11T06:50:21.291Z"
   },
   {
    "duration": 172,
    "start_time": "2022-04-11T06:50:21.632Z"
   },
   {
    "duration": 27,
    "start_time": "2022-04-11T06:50:21.806Z"
   },
   {
    "duration": 24,
    "start_time": "2022-04-11T06:50:21.835Z"
   },
   {
    "duration": 10,
    "start_time": "2022-04-11T06:50:21.861Z"
   },
   {
    "duration": 10,
    "start_time": "2022-04-11T06:50:21.873Z"
   },
   {
    "duration": 7,
    "start_time": "2022-04-11T06:50:21.885Z"
   },
   {
    "duration": 28,
    "start_time": "2022-04-11T06:50:21.894Z"
   },
   {
    "duration": 187,
    "start_time": "2022-04-11T06:50:21.924Z"
   },
   {
    "duration": 46,
    "start_time": "2022-04-11T06:50:22.113Z"
   },
   {
    "duration": 9,
    "start_time": "2022-04-11T06:50:22.161Z"
   },
   {
    "duration": 8,
    "start_time": "2022-04-11T06:50:22.172Z"
   },
   {
    "duration": 6,
    "start_time": "2022-04-11T06:50:22.182Z"
   },
   {
    "duration": 8,
    "start_time": "2022-04-11T06:50:22.189Z"
   },
   {
    "duration": 5,
    "start_time": "2022-04-11T06:50:22.199Z"
   },
   {
    "duration": 10,
    "start_time": "2022-04-11T06:50:22.205Z"
   },
   {
    "duration": 46,
    "start_time": "2022-04-11T06:50:22.216Z"
   },
   {
    "duration": 164,
    "start_time": "2022-04-11T06:50:22.263Z"
   },
   {
    "duration": 6,
    "start_time": "2022-04-11T06:50:22.429Z"
   },
   {
    "duration": 153,
    "start_time": "2022-04-11T06:50:22.441Z"
   },
   {
    "duration": 17,
    "start_time": "2022-04-11T06:50:22.596Z"
   },
   {
    "duration": 166,
    "start_time": "2022-04-11T06:50:22.615Z"
   },
   {
    "duration": 6,
    "start_time": "2022-04-11T06:50:22.784Z"
   },
   {
    "duration": 158,
    "start_time": "2022-04-11T06:50:22.792Z"
   },
   {
    "duration": 161,
    "start_time": "2022-04-11T06:50:22.958Z"
   },
   {
    "duration": 151,
    "start_time": "2022-04-11T06:50:23.121Z"
   },
   {
    "duration": 5,
    "start_time": "2022-04-11T06:51:27.710Z"
   },
   {
    "duration": 6,
    "start_time": "2022-04-11T06:52:44.442Z"
   },
   {
    "duration": 9,
    "start_time": "2022-04-11T06:53:12.142Z"
   },
   {
    "duration": 238,
    "start_time": "2022-04-11T06:54:03.982Z"
   },
   {
    "duration": 118,
    "start_time": "2022-04-11T06:54:37.194Z"
   },
   {
    "duration": 5,
    "start_time": "2022-04-11T06:54:54.070Z"
   },
   {
    "duration": 12,
    "start_time": "2022-04-11T06:58:07.729Z"
   },
   {
    "duration": 11,
    "start_time": "2022-04-11T06:58:59.409Z"
   },
   {
    "duration": 8,
    "start_time": "2022-04-11T07:02:59.477Z"
   },
   {
    "duration": 101,
    "start_time": "2022-04-11T07:03:17.901Z"
   },
   {
    "duration": 9,
    "start_time": "2022-04-11T07:04:33.037Z"
   },
   {
    "duration": 8,
    "start_time": "2022-04-11T07:04:51.734Z"
   },
   {
    "duration": 9,
    "start_time": "2022-04-11T07:05:07.672Z"
   },
   {
    "duration": 10,
    "start_time": "2022-04-11T07:06:15.913Z"
   },
   {
    "duration": 6,
    "start_time": "2022-04-11T07:06:44.360Z"
   },
   {
    "duration": 24,
    "start_time": "2022-04-11T07:06:56.356Z"
   },
   {
    "duration": 23,
    "start_time": "2022-04-11T07:07:22.309Z"
   },
   {
    "duration": 20,
    "start_time": "2022-04-11T07:13:12.257Z"
   },
   {
    "duration": 18,
    "start_time": "2022-04-11T07:13:45.361Z"
   },
   {
    "duration": 6,
    "start_time": "2022-04-11T07:14:53.656Z"
   },
   {
    "duration": 1372,
    "start_time": "2022-04-11T07:15:01.877Z"
   },
   {
    "duration": 94,
    "start_time": "2022-04-11T07:15:03.252Z"
   },
   {
    "duration": 19,
    "start_time": "2022-04-11T07:15:03.348Z"
   },
   {
    "duration": 8,
    "start_time": "2022-04-11T07:15:03.370Z"
   },
   {
    "duration": 29,
    "start_time": "2022-04-11T07:15:03.380Z"
   },
   {
    "duration": 49,
    "start_time": "2022-04-11T07:15:03.411Z"
   },
   {
    "duration": 8,
    "start_time": "2022-04-11T07:15:03.462Z"
   },
   {
    "duration": 6,
    "start_time": "2022-04-11T07:15:03.471Z"
   },
   {
    "duration": 202,
    "start_time": "2022-04-11T07:15:03.478Z"
   },
   {
    "duration": 0,
    "start_time": "2022-04-11T07:15:03.683Z"
   },
   {
    "duration": 0,
    "start_time": "2022-04-11T07:15:03.685Z"
   },
   {
    "duration": 0,
    "start_time": "2022-04-11T07:15:03.686Z"
   },
   {
    "duration": 0,
    "start_time": "2022-04-11T07:15:03.687Z"
   },
   {
    "duration": 0,
    "start_time": "2022-04-11T07:15:03.688Z"
   },
   {
    "duration": 0,
    "start_time": "2022-04-11T07:15:03.689Z"
   },
   {
    "duration": 0,
    "start_time": "2022-04-11T07:15:03.690Z"
   },
   {
    "duration": 0,
    "start_time": "2022-04-11T07:15:03.691Z"
   },
   {
    "duration": 0,
    "start_time": "2022-04-11T07:15:03.691Z"
   },
   {
    "duration": 0,
    "start_time": "2022-04-11T07:15:03.692Z"
   },
   {
    "duration": 0,
    "start_time": "2022-04-11T07:15:03.693Z"
   },
   {
    "duration": 0,
    "start_time": "2022-04-11T07:15:03.694Z"
   },
   {
    "duration": 0,
    "start_time": "2022-04-11T07:15:03.695Z"
   },
   {
    "duration": 0,
    "start_time": "2022-04-11T07:15:03.696Z"
   },
   {
    "duration": 0,
    "start_time": "2022-04-11T07:15:03.697Z"
   },
   {
    "duration": 0,
    "start_time": "2022-04-11T07:15:03.697Z"
   },
   {
    "duration": 0,
    "start_time": "2022-04-11T07:15:03.698Z"
   },
   {
    "duration": 0,
    "start_time": "2022-04-11T07:15:03.699Z"
   },
   {
    "duration": 0,
    "start_time": "2022-04-11T07:15:03.700Z"
   },
   {
    "duration": 0,
    "start_time": "2022-04-11T07:15:03.701Z"
   },
   {
    "duration": 0,
    "start_time": "2022-04-11T07:15:03.702Z"
   },
   {
    "duration": 0,
    "start_time": "2022-04-11T07:15:03.702Z"
   },
   {
    "duration": 0,
    "start_time": "2022-04-11T07:15:03.703Z"
   },
   {
    "duration": 0,
    "start_time": "2022-04-11T07:15:03.704Z"
   },
   {
    "duration": 0,
    "start_time": "2022-04-11T07:15:03.705Z"
   },
   {
    "duration": 0,
    "start_time": "2022-04-11T07:15:03.706Z"
   },
   {
    "duration": 0,
    "start_time": "2022-04-11T07:15:03.707Z"
   },
   {
    "duration": 0,
    "start_time": "2022-04-11T07:15:03.708Z"
   },
   {
    "duration": 0,
    "start_time": "2022-04-11T07:15:03.709Z"
   },
   {
    "duration": 0,
    "start_time": "2022-04-11T07:15:03.709Z"
   },
   {
    "duration": 0,
    "start_time": "2022-04-11T07:15:03.710Z"
   },
   {
    "duration": 0,
    "start_time": "2022-04-11T07:15:03.711Z"
   },
   {
    "duration": 1,
    "start_time": "2022-04-11T07:15:03.711Z"
   },
   {
    "duration": 0,
    "start_time": "2022-04-11T07:15:03.712Z"
   },
   {
    "duration": 0,
    "start_time": "2022-04-11T07:15:03.713Z"
   },
   {
    "duration": 0,
    "start_time": "2022-04-11T07:15:03.714Z"
   },
   {
    "duration": 0,
    "start_time": "2022-04-11T07:15:03.715Z"
   },
   {
    "duration": 0,
    "start_time": "2022-04-11T07:15:03.716Z"
   },
   {
    "duration": 0,
    "start_time": "2022-04-11T07:15:03.717Z"
   },
   {
    "duration": 0,
    "start_time": "2022-04-11T07:15:03.718Z"
   },
   {
    "duration": 0,
    "start_time": "2022-04-11T07:15:03.719Z"
   },
   {
    "duration": 0,
    "start_time": "2022-04-11T07:15:03.719Z"
   },
   {
    "duration": 0,
    "start_time": "2022-04-11T07:15:03.758Z"
   },
   {
    "duration": 0,
    "start_time": "2022-04-11T07:15:03.759Z"
   },
   {
    "duration": 0,
    "start_time": "2022-04-11T07:15:03.761Z"
   },
   {
    "duration": 0,
    "start_time": "2022-04-11T07:15:03.761Z"
   },
   {
    "duration": 0,
    "start_time": "2022-04-11T07:15:03.762Z"
   },
   {
    "duration": 0,
    "start_time": "2022-04-11T07:15:03.763Z"
   },
   {
    "duration": 0,
    "start_time": "2022-04-11T07:15:03.764Z"
   },
   {
    "duration": 0,
    "start_time": "2022-04-11T07:15:03.765Z"
   },
   {
    "duration": 0,
    "start_time": "2022-04-11T07:15:03.766Z"
   },
   {
    "duration": 0,
    "start_time": "2022-04-11T07:15:03.767Z"
   },
   {
    "duration": 0,
    "start_time": "2022-04-11T07:15:03.767Z"
   },
   {
    "duration": 0,
    "start_time": "2022-04-11T07:15:03.768Z"
   },
   {
    "duration": 0,
    "start_time": "2022-04-11T07:15:03.770Z"
   },
   {
    "duration": 0,
    "start_time": "2022-04-11T07:15:03.770Z"
   },
   {
    "duration": 0,
    "start_time": "2022-04-11T07:15:03.771Z"
   },
   {
    "duration": 0,
    "start_time": "2022-04-11T07:15:03.772Z"
   },
   {
    "duration": 0,
    "start_time": "2022-04-11T07:15:03.773Z"
   },
   {
    "duration": 0,
    "start_time": "2022-04-11T07:15:03.775Z"
   },
   {
    "duration": 0,
    "start_time": "2022-04-11T07:15:03.775Z"
   },
   {
    "duration": 0,
    "start_time": "2022-04-11T07:15:03.776Z"
   },
   {
    "duration": 0,
    "start_time": "2022-04-11T07:15:03.777Z"
   },
   {
    "duration": 0,
    "start_time": "2022-04-11T07:15:03.778Z"
   },
   {
    "duration": 0,
    "start_time": "2022-04-11T07:15:03.779Z"
   },
   {
    "duration": 0,
    "start_time": "2022-04-11T07:15:03.780Z"
   },
   {
    "duration": 0,
    "start_time": "2022-04-11T07:15:03.781Z"
   },
   {
    "duration": 0,
    "start_time": "2022-04-11T07:15:03.783Z"
   },
   {
    "duration": 0,
    "start_time": "2022-04-11T07:15:03.784Z"
   },
   {
    "duration": 0,
    "start_time": "2022-04-11T07:15:03.785Z"
   },
   {
    "duration": 0,
    "start_time": "2022-04-11T07:15:03.786Z"
   },
   {
    "duration": 0,
    "start_time": "2022-04-11T07:15:03.787Z"
   },
   {
    "duration": 0,
    "start_time": "2022-04-11T07:15:03.788Z"
   },
   {
    "duration": 1,
    "start_time": "2022-04-11T07:15:03.788Z"
   },
   {
    "duration": 0,
    "start_time": "2022-04-11T07:15:03.789Z"
   },
   {
    "duration": 0,
    "start_time": "2022-04-11T07:15:03.790Z"
   },
   {
    "duration": 0,
    "start_time": "2022-04-11T07:15:03.791Z"
   },
   {
    "duration": 0,
    "start_time": "2022-04-11T07:15:03.792Z"
   },
   {
    "duration": 0,
    "start_time": "2022-04-11T07:15:03.794Z"
   },
   {
    "duration": 0,
    "start_time": "2022-04-11T07:15:03.858Z"
   },
   {
    "duration": 1376,
    "start_time": "2022-04-11T07:16:52.489Z"
   },
   {
    "duration": 102,
    "start_time": "2022-04-11T07:16:53.867Z"
   },
   {
    "duration": 16,
    "start_time": "2022-04-11T07:16:53.971Z"
   },
   {
    "duration": 11,
    "start_time": "2022-04-11T07:16:53.990Z"
   },
   {
    "duration": 56,
    "start_time": "2022-04-11T07:16:54.003Z"
   },
   {
    "duration": 26,
    "start_time": "2022-04-11T07:16:54.061Z"
   },
   {
    "duration": 8,
    "start_time": "2022-04-11T07:16:54.089Z"
   },
   {
    "duration": 5,
    "start_time": "2022-04-11T07:16:54.099Z"
   },
   {
    "duration": 5,
    "start_time": "2022-04-11T07:16:54.105Z"
   },
   {
    "duration": 6,
    "start_time": "2022-04-11T07:16:54.113Z"
   },
   {
    "duration": 40,
    "start_time": "2022-04-11T07:16:54.120Z"
   },
   {
    "duration": 10,
    "start_time": "2022-04-11T07:16:54.162Z"
   },
   {
    "duration": 7,
    "start_time": "2022-04-11T07:16:54.174Z"
   },
   {
    "duration": 9,
    "start_time": "2022-04-11T07:16:54.183Z"
   },
   {
    "duration": 15,
    "start_time": "2022-04-11T07:16:54.194Z"
   },
   {
    "duration": 58,
    "start_time": "2022-04-11T07:16:54.211Z"
   },
   {
    "duration": 25,
    "start_time": "2022-04-11T07:16:54.271Z"
   },
   {
    "duration": 31,
    "start_time": "2022-04-11T07:16:54.298Z"
   },
   {
    "duration": 315,
    "start_time": "2022-04-11T07:16:54.330Z"
   },
   {
    "duration": 33,
    "start_time": "2022-04-11T07:16:54.647Z"
   },
   {
    "duration": 24,
    "start_time": "2022-04-11T07:16:54.682Z"
   },
   {
    "duration": 8,
    "start_time": "2022-04-11T07:16:54.708Z"
   },
   {
    "duration": 10,
    "start_time": "2022-04-11T07:16:54.718Z"
   },
   {
    "duration": 33,
    "start_time": "2022-04-11T07:16:54.730Z"
   },
   {
    "duration": 238,
    "start_time": "2022-04-11T07:16:54.765Z"
   },
   {
    "duration": 11,
    "start_time": "2022-04-11T07:16:55.004Z"
   },
   {
    "duration": 7,
    "start_time": "2022-04-11T07:16:55.017Z"
   },
   {
    "duration": 350,
    "start_time": "2022-04-11T07:16:55.030Z"
   },
   {
    "duration": 9,
    "start_time": "2022-04-11T07:16:55.383Z"
   },
   {
    "duration": 6,
    "start_time": "2022-04-11T07:16:55.393Z"
   },
   {
    "duration": 6,
    "start_time": "2022-04-11T07:16:55.401Z"
   },
   {
    "duration": 7,
    "start_time": "2022-04-11T07:16:55.409Z"
   },
   {
    "duration": 163,
    "start_time": "2022-04-11T07:16:55.417Z"
   },
   {
    "duration": 8,
    "start_time": "2022-04-11T07:16:55.582Z"
   },
   {
    "duration": 6,
    "start_time": "2022-04-11T07:16:55.592Z"
   },
   {
    "duration": 7,
    "start_time": "2022-04-11T07:16:55.600Z"
   },
   {
    "duration": 8,
    "start_time": "2022-04-11T07:16:55.608Z"
   },
   {
    "duration": 259,
    "start_time": "2022-04-11T07:16:55.617Z"
   },
   {
    "duration": 9,
    "start_time": "2022-04-11T07:16:55.878Z"
   },
   {
    "duration": 7,
    "start_time": "2022-04-11T07:16:55.888Z"
   },
   {
    "duration": 465,
    "start_time": "2022-04-11T07:16:55.896Z"
   },
   {
    "duration": 421,
    "start_time": "2022-04-11T07:16:56.362Z"
   },
   {
    "duration": 516,
    "start_time": "2022-04-11T07:16:56.785Z"
   },
   {
    "duration": 182,
    "start_time": "2022-04-11T07:16:57.303Z"
   },
   {
    "duration": 390,
    "start_time": "2022-04-11T07:16:57.487Z"
   },
   {
    "duration": 6,
    "start_time": "2022-04-11T07:16:57.878Z"
   },
   {
    "duration": 598,
    "start_time": "2022-04-11T07:16:57.886Z"
   },
   {
    "duration": 73,
    "start_time": "2022-04-11T07:16:58.486Z"
   },
   {
    "duration": 124,
    "start_time": "2022-04-11T07:16:58.561Z"
   },
   {
    "duration": 9,
    "start_time": "2022-04-11T07:16:58.687Z"
   },
   {
    "duration": 6,
    "start_time": "2022-04-11T07:16:58.698Z"
   },
   {
    "duration": 14,
    "start_time": "2022-04-11T07:16:58.706Z"
   },
   {
    "duration": 195,
    "start_time": "2022-04-11T07:16:58.721Z"
   },
   {
    "duration": 6,
    "start_time": "2022-04-11T07:16:58.919Z"
   },
   {
    "duration": 46,
    "start_time": "2022-04-11T07:16:58.926Z"
   },
   {
    "duration": 141,
    "start_time": "2022-04-11T07:16:58.974Z"
   },
   {
    "duration": 5,
    "start_time": "2022-04-11T07:16:59.117Z"
   },
   {
    "duration": 323,
    "start_time": "2022-04-11T07:16:59.124Z"
   },
   {
    "duration": 13,
    "start_time": "2022-04-11T07:16:59.449Z"
   },
   {
    "duration": 29,
    "start_time": "2022-04-11T07:16:59.464Z"
   },
   {
    "duration": 134,
    "start_time": "2022-04-11T07:16:59.495Z"
   },
   {
    "duration": 163,
    "start_time": "2022-04-11T07:16:59.631Z"
   },
   {
    "duration": 164,
    "start_time": "2022-04-11T07:16:59.796Z"
   },
   {
    "duration": 159,
    "start_time": "2022-04-11T07:16:59.962Z"
   },
   {
    "duration": 35,
    "start_time": "2022-04-11T07:17:00.123Z"
   },
   {
    "duration": 8,
    "start_time": "2022-04-11T07:17:00.160Z"
   },
   {
    "duration": 10,
    "start_time": "2022-04-11T07:17:00.170Z"
   },
   {
    "duration": 11,
    "start_time": "2022-04-11T07:17:00.182Z"
   },
   {
    "duration": 8,
    "start_time": "2022-04-11T07:17:00.195Z"
   },
   {
    "duration": 25,
    "start_time": "2022-04-11T07:17:00.204Z"
   },
   {
    "duration": 177,
    "start_time": "2022-04-11T07:17:00.230Z"
   },
   {
    "duration": 29,
    "start_time": "2022-04-11T07:17:00.408Z"
   },
   {
    "duration": 25,
    "start_time": "2022-04-11T07:17:00.439Z"
   },
   {
    "duration": 11,
    "start_time": "2022-04-11T07:17:00.465Z"
   },
   {
    "duration": 22,
    "start_time": "2022-04-11T07:17:00.478Z"
   },
   {
    "duration": 10,
    "start_time": "2022-04-11T07:17:00.502Z"
   },
   {
    "duration": 16,
    "start_time": "2022-04-11T07:17:00.514Z"
   },
   {
    "duration": 17,
    "start_time": "2022-04-11T07:17:00.532Z"
   },
   {
    "duration": 11,
    "start_time": "2022-04-11T07:17:00.551Z"
   },
   {
    "duration": 155,
    "start_time": "2022-04-11T07:17:00.564Z"
   },
   {
    "duration": 6,
    "start_time": "2022-04-11T07:17:00.721Z"
   },
   {
    "duration": 142,
    "start_time": "2022-04-11T07:17:00.732Z"
   },
   {
    "duration": 18,
    "start_time": "2022-04-11T07:17:00.875Z"
   },
   {
    "duration": 166,
    "start_time": "2022-04-11T07:17:00.894Z"
   },
   {
    "duration": 6,
    "start_time": "2022-04-11T07:17:01.062Z"
   },
   {
    "duration": 166,
    "start_time": "2022-04-11T07:17:01.070Z"
   },
   {
    "duration": 168,
    "start_time": "2022-04-11T07:17:01.238Z"
   },
   {
    "duration": 163,
    "start_time": "2022-04-11T07:17:01.409Z"
   },
   {
    "duration": 12,
    "start_time": "2022-04-11T07:18:59.157Z"
   },
   {
    "duration": 293,
    "start_time": "2022-04-11T07:19:14.549Z"
   },
   {
    "duration": 14,
    "start_time": "2022-04-11T07:19:30.625Z"
   },
   {
    "duration": 9,
    "start_time": "2022-04-11T07:19:43.453Z"
   },
   {
    "duration": 222,
    "start_time": "2022-04-11T07:19:51.885Z"
   },
   {
    "duration": 213,
    "start_time": "2022-04-11T07:20:00.081Z"
   },
   {
    "duration": 263,
    "start_time": "2022-04-11T07:20:09.505Z"
   },
   {
    "duration": 82,
    "start_time": "2022-04-11T07:20:19.080Z"
   },
   {
    "duration": 305,
    "start_time": "2022-04-11T07:22:39.421Z"
   },
   {
    "duration": 142,
    "start_time": "2022-04-11T07:22:53.353Z"
   },
   {
    "duration": 17,
    "start_time": "2022-04-11T07:23:31.881Z"
   },
   {
    "duration": 209,
    "start_time": "2022-04-11T07:24:21.704Z"
   },
   {
    "duration": 149,
    "start_time": "2022-04-11T07:33:50.476Z"
   },
   {
    "duration": 46,
    "start_time": "2022-04-12T05:42:35.544Z"
   },
   {
    "duration": 1324,
    "start_time": "2022-04-12T05:42:45.090Z"
   },
   {
    "duration": 95,
    "start_time": "2022-04-12T05:42:50.084Z"
   },
   {
    "duration": 15,
    "start_time": "2022-04-12T05:42:51.107Z"
   },
   {
    "duration": 9,
    "start_time": "2022-04-12T05:42:51.917Z"
   },
   {
    "duration": 27,
    "start_time": "2022-04-12T05:42:54.017Z"
   },
   {
    "duration": 26,
    "start_time": "2022-04-12T05:42:54.996Z"
   },
   {
    "duration": 7,
    "start_time": "2022-04-12T05:42:58.532Z"
   },
   {
    "duration": 5,
    "start_time": "2022-04-12T05:43:05.800Z"
   },
   {
    "duration": 2,
    "start_time": "2022-04-12T05:43:12.714Z"
   },
   {
    "duration": 3,
    "start_time": "2022-04-12T05:43:13.122Z"
   },
   {
    "duration": 9,
    "start_time": "2022-04-12T05:43:13.547Z"
   },
   {
    "duration": 10,
    "start_time": "2022-04-12T05:43:14.094Z"
   },
   {
    "duration": 7,
    "start_time": "2022-04-12T05:43:15.514Z"
   },
   {
    "duration": 9,
    "start_time": "2022-04-12T05:43:16.940Z"
   },
   {
    "duration": 13,
    "start_time": "2022-04-12T05:43:21.201Z"
   },
   {
    "duration": 24,
    "start_time": "2022-04-12T05:43:21.636Z"
   },
   {
    "duration": 27,
    "start_time": "2022-04-12T05:43:25.042Z"
   },
   {
    "duration": 43,
    "start_time": "2022-04-12T05:43:25.600Z"
   },
   {
    "duration": 287,
    "start_time": "2022-04-12T05:43:27.415Z"
   },
   {
    "duration": 22,
    "start_time": "2022-04-12T05:43:28.666Z"
   },
   {
    "duration": 24,
    "start_time": "2022-04-12T05:43:31.291Z"
   },
   {
    "duration": 8,
    "start_time": "2022-04-12T05:43:33.871Z"
   },
   {
    "duration": 7,
    "start_time": "2022-04-12T05:43:34.382Z"
   },
   {
    "duration": 6,
    "start_time": "2022-04-12T05:43:36.866Z"
   },
   {
    "duration": 210,
    "start_time": "2022-04-12T05:43:37.309Z"
   },
   {
    "duration": 9,
    "start_time": "2022-04-12T05:43:46.573Z"
   },
   {
    "duration": 7,
    "start_time": "2022-04-12T05:43:50.023Z"
   },
   {
    "duration": 210,
    "start_time": "2022-04-12T05:43:50.468Z"
   },
   {
    "duration": 8,
    "start_time": "2022-04-12T05:43:53.560Z"
   },
   {
    "duration": 6,
    "start_time": "2022-04-12T05:43:54.101Z"
   },
   {
    "duration": 6,
    "start_time": "2022-04-12T05:43:56.372Z"
   },
   {
    "duration": 7,
    "start_time": "2022-04-12T05:43:56.849Z"
   },
   {
    "duration": 138,
    "start_time": "2022-04-12T05:44:00.034Z"
   },
   {
    "duration": 9,
    "start_time": "2022-04-12T05:44:00.815Z"
   },
   {
    "duration": 6,
    "start_time": "2022-04-12T05:44:03.351Z"
   },
   {
    "duration": 7,
    "start_time": "2022-04-12T05:44:03.573Z"
   },
   {
    "duration": 7,
    "start_time": "2022-04-12T05:44:04.247Z"
   },
   {
    "duration": 316,
    "start_time": "2022-04-12T05:44:06.753Z"
   },
   {
    "duration": 16,
    "start_time": "2022-04-12T05:44:08.416Z"
   },
   {
    "duration": 10,
    "start_time": "2022-04-12T05:44:08.976Z"
   },
   {
    "duration": 7,
    "start_time": "2022-04-12T05:44:09.589Z"
   },
   {
    "duration": 360,
    "start_time": "2022-04-12T05:44:11.807Z"
   },
   {
    "duration": 398,
    "start_time": "2022-04-12T05:44:12.170Z"
   },
   {
    "duration": 458,
    "start_time": "2022-04-12T05:44:17.730Z"
   },
   {
    "duration": 78,
    "start_time": "2022-04-12T05:44:19.866Z"
   },
   {
    "duration": 73,
    "start_time": "2022-04-12T05:47:37.683Z"
   },
   {
    "duration": 70,
    "start_time": "2022-04-12T05:52:25.574Z"
   },
   {
    "duration": 92,
    "start_time": "2022-04-12T05:52:32.805Z"
   },
   {
    "duration": 14,
    "start_time": "2022-04-12T05:52:33.068Z"
   },
   {
    "duration": 10,
    "start_time": "2022-04-12T05:52:36.802Z"
   },
   {
    "duration": 26,
    "start_time": "2022-04-12T05:52:41.390Z"
   },
   {
    "duration": 23,
    "start_time": "2022-04-12T05:52:45.455Z"
   },
   {
    "duration": 7,
    "start_time": "2022-04-12T05:52:48.917Z"
   },
   {
    "duration": 4,
    "start_time": "2022-04-12T05:52:51.440Z"
   },
   {
    "duration": 79,
    "start_time": "2022-04-12T05:55:51.965Z"
   },
   {
    "duration": 80,
    "start_time": "2022-04-12T05:59:02.047Z"
   },
   {
    "duration": 1341,
    "start_time": "2022-04-12T06:01:18.510Z"
   },
   {
    "duration": 106,
    "start_time": "2022-04-12T06:01:19.853Z"
   },
   {
    "duration": 16,
    "start_time": "2022-04-12T06:01:19.962Z"
   },
   {
    "duration": 9,
    "start_time": "2022-04-12T06:01:19.980Z"
   },
   {
    "duration": 29,
    "start_time": "2022-04-12T06:01:19.991Z"
   },
   {
    "duration": 54,
    "start_time": "2022-04-12T06:01:20.022Z"
   },
   {
    "duration": 8,
    "start_time": "2022-04-12T06:01:20.077Z"
   },
   {
    "duration": 5,
    "start_time": "2022-04-12T06:01:20.086Z"
   },
   {
    "duration": 3,
    "start_time": "2022-04-12T06:01:20.093Z"
   },
   {
    "duration": 11,
    "start_time": "2022-04-12T06:01:20.099Z"
   },
   {
    "duration": 37,
    "start_time": "2022-04-12T06:01:20.112Z"
   },
   {
    "duration": 20,
    "start_time": "2022-04-12T06:01:20.151Z"
   },
   {
    "duration": 8,
    "start_time": "2022-04-12T06:01:20.173Z"
   },
   {
    "duration": 9,
    "start_time": "2022-04-12T06:01:20.183Z"
   },
   {
    "duration": 14,
    "start_time": "2022-04-12T06:01:20.193Z"
   },
   {
    "duration": 58,
    "start_time": "2022-04-12T06:01:20.208Z"
   },
   {
    "duration": 26,
    "start_time": "2022-04-12T06:01:20.268Z"
   },
   {
    "duration": 29,
    "start_time": "2022-04-12T06:01:20.296Z"
   },
   {
    "duration": 360,
    "start_time": "2022-04-12T06:01:20.327Z"
   },
   {
    "duration": 20,
    "start_time": "2022-04-12T06:01:20.689Z"
   },
   {
    "duration": 40,
    "start_time": "2022-04-12T06:01:20.711Z"
   },
   {
    "duration": 12,
    "start_time": "2022-04-12T06:01:20.754Z"
   },
   {
    "duration": 7,
    "start_time": "2022-04-12T06:01:20.768Z"
   },
   {
    "duration": 9,
    "start_time": "2022-04-12T06:01:20.777Z"
   },
   {
    "duration": 254,
    "start_time": "2022-04-12T06:01:20.788Z"
   },
   {
    "duration": 13,
    "start_time": "2022-04-12T06:01:21.047Z"
   },
   {
    "duration": 12,
    "start_time": "2022-04-12T06:01:21.062Z"
   },
   {
    "duration": 251,
    "start_time": "2022-04-12T06:01:21.079Z"
   },
   {
    "duration": 17,
    "start_time": "2022-04-12T06:01:21.332Z"
   },
   {
    "duration": 8,
    "start_time": "2022-04-12T06:01:21.352Z"
   },
   {
    "duration": 7,
    "start_time": "2022-04-12T06:01:21.362Z"
   },
   {
    "duration": 8,
    "start_time": "2022-04-12T06:01:21.370Z"
   },
   {
    "duration": 182,
    "start_time": "2022-04-12T06:01:21.380Z"
   },
   {
    "duration": 8,
    "start_time": "2022-04-12T06:01:21.564Z"
   },
   {
    "duration": 8,
    "start_time": "2022-04-12T06:01:21.573Z"
   },
   {
    "duration": 6,
    "start_time": "2022-04-12T06:01:21.583Z"
   },
   {
    "duration": 6,
    "start_time": "2022-04-12T06:01:21.590Z"
   },
   {
    "duration": 252,
    "start_time": "2022-04-12T06:01:21.598Z"
   },
   {
    "duration": 19,
    "start_time": "2022-04-12T06:01:21.853Z"
   },
   {
    "duration": 9,
    "start_time": "2022-04-12T06:01:21.874Z"
   },
   {
    "duration": 7,
    "start_time": "2022-04-12T06:01:21.884Z"
   },
   {
    "duration": 248,
    "start_time": "2022-04-12T06:01:21.892Z"
   },
   {
    "duration": 237,
    "start_time": "2022-04-12T06:01:22.141Z"
   },
   {
    "duration": 281,
    "start_time": "2022-04-12T06:01:22.380Z"
   },
   {
    "duration": 98,
    "start_time": "2022-04-12T06:01:22.663Z"
   },
   {
    "duration": 216,
    "start_time": "2022-04-12T06:01:22.763Z"
   },
   {
    "duration": 6,
    "start_time": "2022-04-12T06:01:22.981Z"
   },
   {
    "duration": 330,
    "start_time": "2022-04-12T06:01:22.988Z"
   },
   {
    "duration": 29,
    "start_time": "2022-04-12T06:01:23.320Z"
   },
   {
    "duration": 78,
    "start_time": "2022-04-12T06:01:23.351Z"
   },
   {
    "duration": 28,
    "start_time": "2022-04-12T06:01:23.431Z"
   },
   {
    "duration": 7,
    "start_time": "2022-04-12T06:01:23.461Z"
   },
   {
    "duration": 13,
    "start_time": "2022-04-12T06:01:23.470Z"
   },
   {
    "duration": 193,
    "start_time": "2022-04-12T06:01:23.484Z"
   },
   {
    "duration": 6,
    "start_time": "2022-04-12T06:01:23.679Z"
   },
   {
    "duration": 24,
    "start_time": "2022-04-12T06:01:23.686Z"
   },
   {
    "duration": 162,
    "start_time": "2022-04-12T06:01:23.712Z"
   },
   {
    "duration": 5,
    "start_time": "2022-04-12T06:01:23.876Z"
   },
   {
    "duration": 240,
    "start_time": "2022-04-12T06:01:23.883Z"
   },
   {
    "duration": 6,
    "start_time": "2022-04-12T06:01:24.125Z"
   },
   {
    "duration": 47,
    "start_time": "2022-04-12T06:01:24.132Z"
   },
   {
    "duration": 146,
    "start_time": "2022-04-12T06:01:24.181Z"
   },
   {
    "duration": 170,
    "start_time": "2022-04-12T06:01:24.329Z"
   },
   {
    "duration": 169,
    "start_time": "2022-04-12T06:01:24.500Z"
   },
   {
    "duration": 155,
    "start_time": "2022-04-12T06:01:24.671Z"
   },
   {
    "duration": 38,
    "start_time": "2022-04-12T06:01:24.828Z"
   },
   {
    "duration": 8,
    "start_time": "2022-04-12T06:01:24.867Z"
   },
   {
    "duration": 12,
    "start_time": "2022-04-12T06:01:24.876Z"
   },
   {
    "duration": 10,
    "start_time": "2022-04-12T06:01:24.889Z"
   },
   {
    "duration": 5,
    "start_time": "2022-04-12T06:01:24.901Z"
   },
   {
    "duration": 53,
    "start_time": "2022-04-12T06:01:24.908Z"
   },
   {
    "duration": 149,
    "start_time": "2022-04-12T06:01:24.963Z"
   },
   {
    "duration": 36,
    "start_time": "2022-04-12T06:01:25.113Z"
   },
   {
    "duration": 11,
    "start_time": "2022-04-12T06:01:25.151Z"
   },
   {
    "duration": 10,
    "start_time": "2022-04-12T06:01:25.164Z"
   },
   {
    "duration": 12,
    "start_time": "2022-04-12T06:01:25.176Z"
   },
   {
    "duration": 8,
    "start_time": "2022-04-12T06:01:25.190Z"
   },
   {
    "duration": 6,
    "start_time": "2022-04-12T06:01:25.200Z"
   },
   {
    "duration": 9,
    "start_time": "2022-04-12T06:01:25.208Z"
   },
   {
    "duration": 36,
    "start_time": "2022-04-12T06:01:25.219Z"
   },
   {
    "duration": 151,
    "start_time": "2022-04-12T06:01:25.258Z"
   },
   {
    "duration": 5,
    "start_time": "2022-04-12T06:01:25.415Z"
   },
   {
    "duration": 159,
    "start_time": "2022-04-12T06:01:25.422Z"
   },
   {
    "duration": 16,
    "start_time": "2022-04-12T06:01:25.583Z"
   },
   {
    "duration": 173,
    "start_time": "2022-04-12T06:01:25.601Z"
   },
   {
    "duration": 5,
    "start_time": "2022-04-12T06:01:25.776Z"
   },
   {
    "duration": 153,
    "start_time": "2022-04-12T06:01:25.782Z"
   },
   {
    "duration": 161,
    "start_time": "2022-04-12T06:01:25.936Z"
   },
   {
    "duration": 151,
    "start_time": "2022-04-12T06:01:26.099Z"
   },
   {
    "duration": 15,
    "start_time": "2022-04-12T06:03:35.064Z"
   },
   {
    "duration": 14,
    "start_time": "2022-04-12T06:04:31.734Z"
   },
   {
    "duration": 23,
    "start_time": "2022-04-12T06:09:55.404Z"
   },
   {
    "duration": 22,
    "start_time": "2022-04-12T06:09:58.795Z"
   },
   {
    "duration": 118,
    "start_time": "2022-04-12T06:11:54.779Z"
   },
   {
    "duration": 17,
    "start_time": "2022-04-12T06:12:35.123Z"
   },
   {
    "duration": 16,
    "start_time": "2022-04-12T06:13:09.589Z"
   },
   {
    "duration": 9,
    "start_time": "2022-04-12T06:15:10.566Z"
   },
   {
    "duration": 118,
    "start_time": "2022-04-12T06:15:17.858Z"
   },
   {
    "duration": 15,
    "start_time": "2022-04-12T06:16:12.800Z"
   },
   {
    "duration": 18,
    "start_time": "2022-04-12T06:17:25.418Z"
   },
   {
    "duration": 16,
    "start_time": "2022-04-12T06:17:38.118Z"
   },
   {
    "duration": 19,
    "start_time": "2022-04-12T06:19:06.191Z"
   },
   {
    "duration": 270,
    "start_time": "2022-04-12T09:22:56.439Z"
   },
   {
    "duration": 1671,
    "start_time": "2022-04-12T09:23:03.986Z"
   },
   {
    "duration": 114,
    "start_time": "2022-04-12T09:23:05.659Z"
   },
   {
    "duration": 18,
    "start_time": "2022-04-12T09:23:05.775Z"
   },
   {
    "duration": 29,
    "start_time": "2022-04-12T09:23:05.795Z"
   },
   {
    "duration": 34,
    "start_time": "2022-04-12T09:23:05.826Z"
   },
   {
    "duration": 30,
    "start_time": "2022-04-12T09:23:05.863Z"
   },
   {
    "duration": 29,
    "start_time": "2022-04-12T09:23:05.895Z"
   },
   {
    "duration": 18,
    "start_time": "2022-04-12T09:23:05.926Z"
   },
   {
    "duration": 16,
    "start_time": "2022-04-12T09:23:05.947Z"
   },
   {
    "duration": 21,
    "start_time": "2022-04-12T09:23:05.967Z"
   },
   {
    "duration": 20,
    "start_time": "2022-04-12T09:23:05.990Z"
   },
   {
    "duration": 17,
    "start_time": "2022-04-12T09:23:06.012Z"
   },
   {
    "duration": 8,
    "start_time": "2022-04-12T09:23:06.031Z"
   },
   {
    "duration": 12,
    "start_time": "2022-04-12T09:23:06.041Z"
   },
   {
    "duration": 17,
    "start_time": "2022-04-12T09:23:06.055Z"
   },
   {
    "duration": 48,
    "start_time": "2022-04-12T09:23:06.075Z"
   },
   {
    "duration": 28,
    "start_time": "2022-04-12T09:23:06.125Z"
   },
   {
    "duration": 33,
    "start_time": "2022-04-12T09:23:06.154Z"
   },
   {
    "duration": 351,
    "start_time": "2022-04-12T09:23:06.189Z"
   },
   {
    "duration": 27,
    "start_time": "2022-04-12T09:23:06.543Z"
   },
   {
    "duration": 52,
    "start_time": "2022-04-12T09:23:06.572Z"
   },
   {
    "duration": 9,
    "start_time": "2022-04-12T09:23:06.626Z"
   },
   {
    "duration": 18,
    "start_time": "2022-04-12T09:23:06.637Z"
   },
   {
    "duration": 12,
    "start_time": "2022-04-12T09:23:06.658Z"
   },
   {
    "duration": 260,
    "start_time": "2022-04-12T09:23:06.673Z"
   },
   {
    "duration": 11,
    "start_time": "2022-04-12T09:23:06.935Z"
   },
   {
    "duration": 7,
    "start_time": "2022-04-12T09:23:06.948Z"
   },
   {
    "duration": 269,
    "start_time": "2022-04-12T09:23:06.960Z"
   },
   {
    "duration": 11,
    "start_time": "2022-04-12T09:23:07.231Z"
   },
   {
    "duration": 17,
    "start_time": "2022-04-12T09:23:07.244Z"
   },
   {
    "duration": 21,
    "start_time": "2022-04-12T09:23:07.264Z"
   },
   {
    "duration": 17,
    "start_time": "2022-04-12T09:23:07.287Z"
   },
   {
    "duration": 162,
    "start_time": "2022-04-12T09:23:07.306Z"
   },
   {
    "duration": 11,
    "start_time": "2022-04-12T09:23:07.470Z"
   },
   {
    "duration": 16,
    "start_time": "2022-04-12T09:23:07.484Z"
   },
   {
    "duration": 10,
    "start_time": "2022-04-12T09:23:07.517Z"
   },
   {
    "duration": 13,
    "start_time": "2022-04-12T09:23:07.530Z"
   },
   {
    "duration": 265,
    "start_time": "2022-04-12T09:23:07.545Z"
   },
   {
    "duration": 25,
    "start_time": "2022-04-12T09:23:07.812Z"
   },
   {
    "duration": 10,
    "start_time": "2022-04-12T09:23:07.840Z"
   },
   {
    "duration": 7,
    "start_time": "2022-04-12T09:23:07.852Z"
   },
   {
    "duration": 285,
    "start_time": "2022-04-12T09:23:07.861Z"
   },
   {
    "duration": 259,
    "start_time": "2022-04-12T09:23:08.148Z"
   },
   {
    "duration": 309,
    "start_time": "2022-04-12T09:23:08.409Z"
   },
   {
    "duration": 108,
    "start_time": "2022-04-12T09:23:08.720Z"
   },
   {
    "duration": 5,
    "start_time": "2022-04-12T09:23:08.830Z"
   },
   {
    "duration": 247,
    "start_time": "2022-04-12T09:23:08.837Z"
   },
   {
    "duration": 7,
    "start_time": "2022-04-12T09:23:09.086Z"
   },
   {
    "duration": 354,
    "start_time": "2022-04-12T09:23:09.095Z"
   },
   {
    "duration": 30,
    "start_time": "2022-04-12T09:23:09.451Z"
   },
   {
    "duration": 244,
    "start_time": "2022-04-12T09:23:09.483Z"
   },
   {
    "duration": 13,
    "start_time": "2022-04-12T09:23:09.729Z"
   },
   {
    "duration": 10,
    "start_time": "2022-04-12T09:23:09.744Z"
   },
   {
    "duration": 76,
    "start_time": "2022-04-12T09:23:09.757Z"
   },
   {
    "duration": 600,
    "start_time": "2022-04-12T09:23:09.835Z"
   },
   {
    "duration": 7,
    "start_time": "2022-04-12T09:23:10.438Z"
   },
   {
    "duration": 97,
    "start_time": "2022-04-12T09:23:10.448Z"
   },
   {
    "duration": 402,
    "start_time": "2022-04-12T09:23:10.548Z"
   },
   {
    "duration": 7,
    "start_time": "2022-04-12T09:23:10.953Z"
   },
   {
    "duration": 601,
    "start_time": "2022-04-12T09:23:11.017Z"
   },
   {
    "duration": 7,
    "start_time": "2022-04-12T09:23:11.620Z"
   },
   {
    "duration": 37,
    "start_time": "2022-04-12T09:23:11.629Z"
   },
   {
    "duration": 248,
    "start_time": "2022-04-12T09:23:11.718Z"
   },
   {
    "duration": 199,
    "start_time": "2022-04-12T09:23:11.968Z"
   },
   {
    "duration": 185,
    "start_time": "2022-04-12T09:23:12.169Z"
   },
   {
    "duration": 178,
    "start_time": "2022-04-12T09:23:12.356Z"
   },
   {
    "duration": 27,
    "start_time": "2022-04-12T09:23:12.536Z"
   },
   {
    "duration": 23,
    "start_time": "2022-04-12T09:23:12.565Z"
   },
   {
    "duration": 30,
    "start_time": "2022-04-12T09:23:12.590Z"
   },
   {
    "duration": 15,
    "start_time": "2022-04-12T09:23:12.622Z"
   },
   {
    "duration": 10,
    "start_time": "2022-04-12T09:23:12.639Z"
   },
   {
    "duration": 31,
    "start_time": "2022-04-12T09:23:12.651Z"
   },
   {
    "duration": 177,
    "start_time": "2022-04-12T09:23:12.686Z"
   },
   {
    "duration": 31,
    "start_time": "2022-04-12T09:23:12.865Z"
   },
   {
    "duration": 27,
    "start_time": "2022-04-12T09:23:12.898Z"
   },
   {
    "duration": 16,
    "start_time": "2022-04-12T09:23:12.927Z"
   },
   {
    "duration": 11,
    "start_time": "2022-04-12T09:23:12.945Z"
   },
   {
    "duration": 12,
    "start_time": "2022-04-12T09:23:12.958Z"
   },
   {
    "duration": 10,
    "start_time": "2022-04-12T09:23:12.972Z"
   },
   {
    "duration": 40,
    "start_time": "2022-04-12T09:23:12.983Z"
   },
   {
    "duration": 16,
    "start_time": "2022-04-12T09:23:13.025Z"
   },
   {
    "duration": 164,
    "start_time": "2022-04-12T09:23:13.047Z"
   },
   {
    "duration": 9,
    "start_time": "2022-04-12T09:23:13.213Z"
   },
   {
    "duration": 239,
    "start_time": "2022-04-12T09:23:13.224Z"
   },
   {
    "duration": 19,
    "start_time": "2022-04-12T09:23:13.466Z"
   },
   {
    "duration": 182,
    "start_time": "2022-04-12T09:23:13.487Z"
   },
   {
    "duration": 6,
    "start_time": "2022-04-12T09:23:13.671Z"
   },
   {
    "duration": 175,
    "start_time": "2022-04-12T09:23:13.678Z"
   },
   {
    "duration": 171,
    "start_time": "2022-04-12T09:23:13.855Z"
   },
   {
    "duration": 162,
    "start_time": "2022-04-12T09:23:14.028Z"
   },
   {
    "duration": 205,
    "start_time": "2022-04-12T09:24:07.326Z"
   },
   {
    "duration": 5,
    "start_time": "2022-04-12T09:26:05.711Z"
   },
   {
    "duration": 87,
    "start_time": "2022-04-12T09:26:21.640Z"
   }
  ],
  "kernelspec": {
   "display_name": "Python 3 (ipykernel)",
   "language": "python",
   "name": "python3"
  },
  "language_info": {
   "codemirror_mode": {
    "name": "ipython",
    "version": 3
   },
   "file_extension": ".py",
   "mimetype": "text/x-python",
   "name": "python",
   "nbconvert_exporter": "python",
   "pygments_lexer": "ipython3",
   "version": "3.9.13"
  },
  "toc": {
   "base_numbering": 1,
   "nav_menu": {},
   "number_sections": true,
   "sideBar": true,
   "skip_h1_title": true,
   "title_cell": "Содержание",
   "title_sidebar": "Contents",
   "toc_cell": true,
   "toc_position": {
    "height": "calc(100% - 180px)",
    "left": "10px",
    "top": "150px",
    "width": "165px"
   },
   "toc_section_display": true,
   "toc_window_display": true
  }
 },
 "nbformat": 4,
 "nbformat_minor": 4
}
