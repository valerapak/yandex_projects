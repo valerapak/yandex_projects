{
 "cells": [
  {
   "cell_type": "markdown",
   "id": "e620f8b7",
   "metadata": {},
   "source": [
    "# Исследование надежности заемщиков."
   ]
  },
  {
   "cell_type": "markdown",
   "id": "3fccae48",
   "metadata": {},
   "source": [
    "### Шаг 1. Обзор данных"
   ]
  },
  {
   "cell_type": "code",
   "execution_count": 1,
   "id": "3ee0474c",
   "metadata": {},
   "outputs": [],
   "source": [
    "import pandas as pd"
   ]
  },
  {
   "cell_type": "code",
   "execution_count": 2,
   "id": "eb88cbda",
   "metadata": {},
   "outputs": [
    {
     "data": {
      "text/html": [
       "<div>\n",
       "<style scoped>\n",
       "    .dataframe tbody tr th:only-of-type {\n",
       "        vertical-align: middle;\n",
       "    }\n",
       "\n",
       "    .dataframe tbody tr th {\n",
       "        vertical-align: top;\n",
       "    }\n",
       "\n",
       "    .dataframe thead th {\n",
       "        text-align: right;\n",
       "    }\n",
       "</style>\n",
       "<table border=\"1\" class=\"dataframe\">\n",
       "  <thead>\n",
       "    <tr style=\"text-align: right;\">\n",
       "      <th></th>\n",
       "      <th>children</th>\n",
       "      <th>days_employed</th>\n",
       "      <th>dob_years</th>\n",
       "      <th>education</th>\n",
       "      <th>education_id</th>\n",
       "      <th>family_status</th>\n",
       "      <th>family_status_id</th>\n",
       "      <th>gender</th>\n",
       "      <th>income_type</th>\n",
       "      <th>debt</th>\n",
       "      <th>total_income</th>\n",
       "      <th>purpose</th>\n",
       "    </tr>\n",
       "  </thead>\n",
       "  <tbody>\n",
       "    <tr>\n",
       "      <th>0</th>\n",
       "      <td>1</td>\n",
       "      <td>-8437.673028</td>\n",
       "      <td>42</td>\n",
       "      <td>высшее</td>\n",
       "      <td>0</td>\n",
       "      <td>женат / замужем</td>\n",
       "      <td>0</td>\n",
       "      <td>F</td>\n",
       "      <td>сотрудник</td>\n",
       "      <td>0</td>\n",
       "      <td>253875.639453</td>\n",
       "      <td>покупка жилья</td>\n",
       "    </tr>\n",
       "    <tr>\n",
       "      <th>1</th>\n",
       "      <td>1</td>\n",
       "      <td>-4024.803754</td>\n",
       "      <td>36</td>\n",
       "      <td>среднее</td>\n",
       "      <td>1</td>\n",
       "      <td>женат / замужем</td>\n",
       "      <td>0</td>\n",
       "      <td>F</td>\n",
       "      <td>сотрудник</td>\n",
       "      <td>0</td>\n",
       "      <td>112080.014102</td>\n",
       "      <td>приобретение автомобиля</td>\n",
       "    </tr>\n",
       "    <tr>\n",
       "      <th>2</th>\n",
       "      <td>0</td>\n",
       "      <td>-5623.422610</td>\n",
       "      <td>33</td>\n",
       "      <td>Среднее</td>\n",
       "      <td>1</td>\n",
       "      <td>женат / замужем</td>\n",
       "      <td>0</td>\n",
       "      <td>M</td>\n",
       "      <td>сотрудник</td>\n",
       "      <td>0</td>\n",
       "      <td>145885.952297</td>\n",
       "      <td>покупка жилья</td>\n",
       "    </tr>\n",
       "    <tr>\n",
       "      <th>3</th>\n",
       "      <td>3</td>\n",
       "      <td>-4124.747207</td>\n",
       "      <td>32</td>\n",
       "      <td>среднее</td>\n",
       "      <td>1</td>\n",
       "      <td>женат / замужем</td>\n",
       "      <td>0</td>\n",
       "      <td>M</td>\n",
       "      <td>сотрудник</td>\n",
       "      <td>0</td>\n",
       "      <td>267628.550329</td>\n",
       "      <td>дополнительное образование</td>\n",
       "    </tr>\n",
       "    <tr>\n",
       "      <th>4</th>\n",
       "      <td>0</td>\n",
       "      <td>340266.072047</td>\n",
       "      <td>53</td>\n",
       "      <td>среднее</td>\n",
       "      <td>1</td>\n",
       "      <td>гражданский брак</td>\n",
       "      <td>1</td>\n",
       "      <td>F</td>\n",
       "      <td>пенсионер</td>\n",
       "      <td>0</td>\n",
       "      <td>158616.077870</td>\n",
       "      <td>сыграть свадьбу</td>\n",
       "    </tr>\n",
       "  </tbody>\n",
       "</table>\n",
       "</div>"
      ],
      "text/plain": [
       "   children  days_employed  dob_years education  education_id  \\\n",
       "0         1   -8437.673028         42    высшее             0   \n",
       "1         1   -4024.803754         36   среднее             1   \n",
       "2         0   -5623.422610         33   Среднее             1   \n",
       "3         3   -4124.747207         32   среднее             1   \n",
       "4         0  340266.072047         53   среднее             1   \n",
       "\n",
       "      family_status  family_status_id gender income_type  debt   total_income  \\\n",
       "0   женат / замужем                 0      F   сотрудник     0  253875.639453   \n",
       "1   женат / замужем                 0      F   сотрудник     0  112080.014102   \n",
       "2   женат / замужем                 0      M   сотрудник     0  145885.952297   \n",
       "3   женат / замужем                 0      M   сотрудник     0  267628.550329   \n",
       "4  гражданский брак                 1      F   пенсионер     0  158616.077870   \n",
       "\n",
       "                      purpose  \n",
       "0               покупка жилья  \n",
       "1     приобретение автомобиля  \n",
       "2               покупка жилья  \n",
       "3  дополнительное образование  \n",
       "4             сыграть свадьбу  "
      ]
     },
     "execution_count": 2,
     "metadata": {},
     "output_type": "execute_result"
    }
   ],
   "source": [
    "data = pd.read_csv('/datasets/data.csv')\n",
    "data.head(5)"
   ]
  },
  {
   "cell_type": "code",
   "execution_count": 3,
   "id": "935daaf4",
   "metadata": {},
   "outputs": [
    {
     "name": "stdout",
     "output_type": "stream",
     "text": [
      "<class 'pandas.core.frame.DataFrame'>\n",
      "RangeIndex: 21525 entries, 0 to 21524\n",
      "Data columns (total 12 columns):\n",
      " #   Column            Non-Null Count  Dtype  \n",
      "---  ------            --------------  -----  \n",
      " 0   children          21525 non-null  int64  \n",
      " 1   days_employed     19351 non-null  float64\n",
      " 2   dob_years         21525 non-null  int64  \n",
      " 3   education         21525 non-null  object \n",
      " 4   education_id      21525 non-null  int64  \n",
      " 5   family_status     21525 non-null  object \n",
      " 6   family_status_id  21525 non-null  int64  \n",
      " 7   gender            21525 non-null  object \n",
      " 8   income_type       21525 non-null  object \n",
      " 9   debt              21525 non-null  int64  \n",
      " 10  total_income      19351 non-null  float64\n",
      " 11  purpose           21525 non-null  object \n",
      "dtypes: float64(2), int64(5), object(5)\n",
      "memory usage: 2.0+ MB\n"
     ]
    }
   ],
   "source": [
    "data.info()"
   ]
  },
  {
   "cell_type": "markdown",
   "id": "9381febf",
   "metadata": {},
   "source": [
    "### Шаг 2.1 Заполнение пропусков"
   ]
  },
  {
   "cell_type": "markdown",
   "id": "5871ae01",
   "metadata": {},
   "source": [
    "\n",
    "В двух столбцах есть пропущенные значения, найдите их и заполните медианным значением по столбцу. \n",
    "\n",
    "Опишите, какие пропущенные значения вы обнаружили;\n",
    "    \n"
   ]
  },
  {
   "cell_type": "markdown",
   "id": "c75c5302",
   "metadata": {},
   "source": [
    "<div class=\"alert alert-info\">\n",
    "В данном датасете пропущенные значения находятся в столбцах 'days_employed' и 'total_income':"
   ]
  },
  {
   "cell_type": "code",
   "execution_count": 4,
   "id": "6c035a1c",
   "metadata": {},
   "outputs": [
    {
     "data": {
      "text/plain": [
       "children               0\n",
       "days_employed       2174\n",
       "dob_years              0\n",
       "education              0\n",
       "education_id           0\n",
       "family_status          0\n",
       "family_status_id       0\n",
       "gender                 0\n",
       "income_type            0\n",
       "debt                   0\n",
       "total_income        2174\n",
       "purpose                0\n",
       "dtype: int64"
      ]
     },
     "execution_count": 4,
     "metadata": {},
     "output_type": "execute_result"
    }
   ],
   "source": [
    "data.isna().sum() "
   ]
  },
  {
   "cell_type": "code",
   "execution_count": 5,
   "id": "d0662cd8",
   "metadata": {},
   "outputs": [
    {
     "data": {
      "text/html": [
       "<div>\n",
       "<style scoped>\n",
       "    .dataframe tbody tr th:only-of-type {\n",
       "        vertical-align: middle;\n",
       "    }\n",
       "\n",
       "    .dataframe tbody tr th {\n",
       "        vertical-align: top;\n",
       "    }\n",
       "\n",
       "    .dataframe thead th {\n",
       "        text-align: right;\n",
       "    }\n",
       "</style>\n",
       "<table border=\"1\" class=\"dataframe\">\n",
       "  <thead>\n",
       "    <tr style=\"text-align: right;\">\n",
       "      <th></th>\n",
       "      <th>children</th>\n",
       "      <th>days_employed</th>\n",
       "      <th>dob_years</th>\n",
       "      <th>education</th>\n",
       "      <th>education_id</th>\n",
       "      <th>family_status</th>\n",
       "      <th>family_status_id</th>\n",
       "      <th>gender</th>\n",
       "      <th>income_type</th>\n",
       "      <th>debt</th>\n",
       "      <th>total_income</th>\n",
       "      <th>purpose</th>\n",
       "    </tr>\n",
       "  </thead>\n",
       "  <tbody>\n",
       "    <tr>\n",
       "      <th>12</th>\n",
       "      <td>0</td>\n",
       "      <td>NaN</td>\n",
       "      <td>65</td>\n",
       "      <td>среднее</td>\n",
       "      <td>1</td>\n",
       "      <td>гражданский брак</td>\n",
       "      <td>1</td>\n",
       "      <td>M</td>\n",
       "      <td>пенсионер</td>\n",
       "      <td>0</td>\n",
       "      <td>NaN</td>\n",
       "      <td>сыграть свадьбу</td>\n",
       "    </tr>\n",
       "    <tr>\n",
       "      <th>26</th>\n",
       "      <td>0</td>\n",
       "      <td>NaN</td>\n",
       "      <td>41</td>\n",
       "      <td>среднее</td>\n",
       "      <td>1</td>\n",
       "      <td>женат / замужем</td>\n",
       "      <td>0</td>\n",
       "      <td>M</td>\n",
       "      <td>госслужащий</td>\n",
       "      <td>0</td>\n",
       "      <td>NaN</td>\n",
       "      <td>образование</td>\n",
       "    </tr>\n",
       "    <tr>\n",
       "      <th>29</th>\n",
       "      <td>0</td>\n",
       "      <td>NaN</td>\n",
       "      <td>63</td>\n",
       "      <td>среднее</td>\n",
       "      <td>1</td>\n",
       "      <td>Не женат / не замужем</td>\n",
       "      <td>4</td>\n",
       "      <td>F</td>\n",
       "      <td>пенсионер</td>\n",
       "      <td>0</td>\n",
       "      <td>NaN</td>\n",
       "      <td>строительство жилой недвижимости</td>\n",
       "    </tr>\n",
       "    <tr>\n",
       "      <th>41</th>\n",
       "      <td>0</td>\n",
       "      <td>NaN</td>\n",
       "      <td>50</td>\n",
       "      <td>среднее</td>\n",
       "      <td>1</td>\n",
       "      <td>женат / замужем</td>\n",
       "      <td>0</td>\n",
       "      <td>F</td>\n",
       "      <td>госслужащий</td>\n",
       "      <td>0</td>\n",
       "      <td>NaN</td>\n",
       "      <td>сделка с подержанным автомобилем</td>\n",
       "    </tr>\n",
       "    <tr>\n",
       "      <th>55</th>\n",
       "      <td>0</td>\n",
       "      <td>NaN</td>\n",
       "      <td>54</td>\n",
       "      <td>среднее</td>\n",
       "      <td>1</td>\n",
       "      <td>гражданский брак</td>\n",
       "      <td>1</td>\n",
       "      <td>F</td>\n",
       "      <td>пенсионер</td>\n",
       "      <td>1</td>\n",
       "      <td>NaN</td>\n",
       "      <td>сыграть свадьбу</td>\n",
       "    </tr>\n",
       "  </tbody>\n",
       "</table>\n",
       "</div>"
      ],
      "text/plain": [
       "    children  days_employed  dob_years education  education_id  \\\n",
       "12         0            NaN         65   среднее             1   \n",
       "26         0            NaN         41   среднее             1   \n",
       "29         0            NaN         63   среднее             1   \n",
       "41         0            NaN         50   среднее             1   \n",
       "55         0            NaN         54   среднее             1   \n",
       "\n",
       "            family_status  family_status_id gender  income_type  debt  \\\n",
       "12       гражданский брак                 1      M    пенсионер     0   \n",
       "26        женат / замужем                 0      M  госслужащий     0   \n",
       "29  Не женат / не замужем                 4      F    пенсионер     0   \n",
       "41        женат / замужем                 0      F  госслужащий     0   \n",
       "55       гражданский брак                 1      F    пенсионер     1   \n",
       "\n",
       "    total_income                           purpose  \n",
       "12           NaN                   сыграть свадьбу  \n",
       "26           NaN                       образование  \n",
       "29           NaN  строительство жилой недвижимости  \n",
       "41           NaN  сделка с подержанным автомобилем  \n",
       "55           NaN                   сыграть свадьбу  "
      ]
     },
     "execution_count": 5,
     "metadata": {},
     "output_type": "execute_result"
    }
   ],
   "source": [
    "data[data['days_employed'].isna()].head()"
   ]
  },
  {
   "cell_type": "markdown",
   "id": "f4f36f1b",
   "metadata": {},
   "source": [
    "Проверьте, какую долю составляют пропущенные значения в каждом из столбцов с пропусками.\n",
    "\n"
   ]
  },
  {
   "cell_type": "markdown",
   "id": "b57e5b35",
   "metadata": {},
   "source": [
    "<div class=\"alert alert-info\">Доля пропущенных значений составляет 10% от общего количества:"
   ]
  },
  {
   "cell_type": "code",
   "execution_count": 6,
   "id": "f39b3d5a",
   "metadata": {},
   "outputs": [
    {
     "data": {
      "text/plain": [
       "10.099883855981417"
      ]
     },
     "execution_count": 6,
     "metadata": {},
     "output_type": "execute_result"
    }
   ],
   "source": [
    "data['days_employed'].isna().mean()*100 "
   ]
  },
  {
   "cell_type": "markdown",
   "id": "6a187cfa",
   "metadata": {},
   "source": [
    "Приведите возможные причины появления пропусков в данных.\n",
    "\n",
    "\n",
    "    "
   ]
  },
  {
   "cell_type": "markdown",
   "id": "5342f9ae",
   "metadata": {},
   "source": [
    "<div class=\"alert alert-info\">\n",
    "Причин может быть несколько: данные не были внесены, были утеряны (человеческий фактор), заёмщики не захотели предоставлять информацию о доходе и стаже."
   ]
  },
  {
   "cell_type": "markdown",
   "id": "67be944f",
   "metadata": {},
   "source": [
    "\n",
    "В двух столбцах есть пропущенные значения, найдите их и заполните медианным значением по столбцу"
   ]
  },
  {
   "cell_type": "code",
   "execution_count": 7,
   "id": "56677bf0",
   "metadata": {},
   "outputs": [
    {
     "data": {
      "text/plain": [
       "-1203.369528770489"
      ]
     },
     "execution_count": 7,
     "metadata": {},
     "output_type": "execute_result"
    }
   ],
   "source": [
    "days_emp_median = data['days_employed'].median()\n",
    "days_emp_median"
   ]
  },
  {
   "cell_type": "code",
   "execution_count": 8,
   "id": "a1ba84f1",
   "metadata": {},
   "outputs": [
    {
     "data": {
      "text/plain": [
       "145017.93753253992"
      ]
     },
     "execution_count": 8,
     "metadata": {},
     "output_type": "execute_result"
    }
   ],
   "source": [
    "income_median = data['total_income'].median()\n",
    "income_median"
   ]
  },
  {
   "cell_type": "code",
   "execution_count": 9,
   "id": "bcdfe24b",
   "metadata": {},
   "outputs": [
    {
     "data": {
      "text/plain": [
       "children            0\n",
       "days_employed       0\n",
       "dob_years           0\n",
       "education           0\n",
       "education_id        0\n",
       "family_status       0\n",
       "family_status_id    0\n",
       "gender              0\n",
       "income_type         0\n",
       "debt                0\n",
       "total_income        0\n",
       "purpose             0\n",
       "dtype: int64"
      ]
     },
     "execution_count": 9,
     "metadata": {},
     "output_type": "execute_result"
    }
   ],
   "source": [
    "# заменим пропуски на медиану:\n",
    "data['days_employed'] = data['days_employed'].fillna(days_emp_median)\n",
    "data['total_income'] = data['total_income'].fillna(income_median)\n",
    "data.isna().sum()"
   ]
  },
  {
   "cell_type": "markdown",
   "id": "907e6392",
   "metadata": {},
   "source": [
    "Объясните, почему заполнить пропуски медианным значением — лучшее решение для количественных переменных.\n",
    "    \n"
   ]
  },
  {
   "cell_type": "markdown",
   "id": "205724e8",
   "metadata": {},
   "source": [
    "<div class=\"alert alert-info\">Среднее значение некорректно характеризует данные, когда некоторые значения сильно выделяются среди большинства. Поэтому используем медиану"
   ]
  },
  {
   "cell_type": "markdown",
   "id": "b5945e0a",
   "metadata": {},
   "source": [
    "### Шаг 2.2 Проверка данных на аномалии и исправления."
   ]
  },
  {
   "cell_type": "markdown",
   "id": "36613a38",
   "metadata": {},
   "source": [
    "В данных могут встречаться артефакты (аномалии) — значения, которые не отражают действительность и появились по какой-то ошибке. Например, отрицательное количество дней трудового стажа в столбце days_employed. Для реальных данных это нормально. Обработайте значения в столбцах с аномалиями и опишите возможные причины появления таких данных."
   ]
  },
  {
   "cell_type": "code",
   "execution_count": 10,
   "id": "31b7f1c2",
   "metadata": {},
   "outputs": [
    {
     "data": {
      "text/plain": [
       "0      8437.673028\n",
       "1      4024.803754\n",
       "2      5623.422610\n",
       "3      4124.747207\n",
       "4    340266.072047\n",
       "5       926.185831\n",
       "6      2879.202052\n",
       "7       152.779569\n",
       "8      6929.865299\n",
       "9      2188.756445\n",
       "Name: days_employed, dtype: float64"
      ]
     },
     "execution_count": 10,
     "metadata": {},
     "output_type": "execute_result"
    }
   ],
   "source": [
    "data['days_employed'] = data['days_employed'].abs()\n",
    "data['days_employed'].head(10)"
   ]
  },
  {
   "cell_type": "markdown",
   "id": "1e1135b0",
   "metadata": {},
   "source": [
    "<div class=\"alert alert-info\">Скорее всего, ошибка была допущена изначально при внесении данных"
   ]
  },
  {
   "cell_type": "markdown",
   "id": "b51b80fd",
   "metadata": {},
   "source": [
    "### Шаг 2.3. Изменение типов данных."
   ]
  },
  {
   "cell_type": "markdown",
   "id": "26ad1f0c",
   "metadata": {},
   "source": [
    "Замените вещественный тип данных в столбце total_income на целочисленный, например, с помощью метода astype()"
   ]
  },
  {
   "cell_type": "code",
   "execution_count": 11,
   "id": "cfc44f0c",
   "metadata": {},
   "outputs": [
    {
     "data": {
      "text/plain": [
       "0    253875\n",
       "1    112080\n",
       "2    145885\n",
       "3    267628\n",
       "4    158616\n",
       "5    255763\n",
       "6    240525\n",
       "7    135823\n",
       "8     95856\n",
       "9    144425\n",
       "Name: total_income, dtype: int64"
      ]
     },
     "execution_count": 11,
     "metadata": {},
     "output_type": "execute_result"
    }
   ],
   "source": [
    "data['total_income'] = data['total_income'].astype('int')\n",
    "data['total_income'].head(10)"
   ]
  },
  {
   "cell_type": "markdown",
   "id": "51f847c4",
   "metadata": {},
   "source": [
    "### Шаг 2.4. Удаление дубликатов."
   ]
  },
  {
   "cell_type": "markdown",
   "id": "4a581ad9",
   "metadata": {},
   "source": [
    "Если в данных присутствуют строки-дубликаты, удалите их. Также обработайте неявные дубликаты. Например, в столбце education есть одни и те же значения, но записанные по-разному: с использованием заглавных и строчных букв. Приведите их к одному регистру. Проверьте остальные столбцы."
   ]
  },
  {
   "cell_type": "code",
   "execution_count": 12,
   "id": "431f2c59",
   "metadata": {},
   "outputs": [
    {
     "data": {
      "text/plain": [
       "54"
      ]
     },
     "execution_count": 12,
     "metadata": {},
     "output_type": "execute_result"
    }
   ],
   "source": [
    "data.duplicated().sum()"
   ]
  },
  {
   "cell_type": "code",
   "execution_count": 13,
   "id": "73b6caaa",
   "metadata": {
    "scrolled": true
   },
   "outputs": [
    {
     "data": {
      "text/html": [
       "<div>\n",
       "<style scoped>\n",
       "    .dataframe tbody tr th:only-of-type {\n",
       "        vertical-align: middle;\n",
       "    }\n",
       "\n",
       "    .dataframe tbody tr th {\n",
       "        vertical-align: top;\n",
       "    }\n",
       "\n",
       "    .dataframe thead th {\n",
       "        text-align: right;\n",
       "    }\n",
       "</style>\n",
       "<table border=\"1\" class=\"dataframe\">\n",
       "  <thead>\n",
       "    <tr style=\"text-align: right;\">\n",
       "      <th></th>\n",
       "      <th>children</th>\n",
       "      <th>days_employed</th>\n",
       "      <th>dob_years</th>\n",
       "      <th>education</th>\n",
       "      <th>education_id</th>\n",
       "      <th>family_status</th>\n",
       "      <th>family_status_id</th>\n",
       "      <th>gender</th>\n",
       "      <th>income_type</th>\n",
       "      <th>debt</th>\n",
       "      <th>total_income</th>\n",
       "      <th>purpose</th>\n",
       "    </tr>\n",
       "  </thead>\n",
       "  <tbody>\n",
       "    <tr>\n",
       "      <th>0</th>\n",
       "      <td>1</td>\n",
       "      <td>8437.673028</td>\n",
       "      <td>42</td>\n",
       "      <td>высшее</td>\n",
       "      <td>0</td>\n",
       "      <td>женат / замужем</td>\n",
       "      <td>0</td>\n",
       "      <td>F</td>\n",
       "      <td>сотрудник</td>\n",
       "      <td>0</td>\n",
       "      <td>253875</td>\n",
       "      <td>покупка жилья</td>\n",
       "    </tr>\n",
       "    <tr>\n",
       "      <th>1</th>\n",
       "      <td>1</td>\n",
       "      <td>4024.803754</td>\n",
       "      <td>36</td>\n",
       "      <td>среднее</td>\n",
       "      <td>1</td>\n",
       "      <td>женат / замужем</td>\n",
       "      <td>0</td>\n",
       "      <td>F</td>\n",
       "      <td>сотрудник</td>\n",
       "      <td>0</td>\n",
       "      <td>112080</td>\n",
       "      <td>приобретение автомобиля</td>\n",
       "    </tr>\n",
       "    <tr>\n",
       "      <th>2</th>\n",
       "      <td>0</td>\n",
       "      <td>5623.422610</td>\n",
       "      <td>33</td>\n",
       "      <td>Среднее</td>\n",
       "      <td>1</td>\n",
       "      <td>женат / замужем</td>\n",
       "      <td>0</td>\n",
       "      <td>M</td>\n",
       "      <td>сотрудник</td>\n",
       "      <td>0</td>\n",
       "      <td>145885</td>\n",
       "      <td>покупка жилья</td>\n",
       "    </tr>\n",
       "    <tr>\n",
       "      <th>3</th>\n",
       "      <td>3</td>\n",
       "      <td>4124.747207</td>\n",
       "      <td>32</td>\n",
       "      <td>среднее</td>\n",
       "      <td>1</td>\n",
       "      <td>женат / замужем</td>\n",
       "      <td>0</td>\n",
       "      <td>M</td>\n",
       "      <td>сотрудник</td>\n",
       "      <td>0</td>\n",
       "      <td>267628</td>\n",
       "      <td>дополнительное образование</td>\n",
       "    </tr>\n",
       "    <tr>\n",
       "      <th>4</th>\n",
       "      <td>0</td>\n",
       "      <td>340266.072047</td>\n",
       "      <td>53</td>\n",
       "      <td>среднее</td>\n",
       "      <td>1</td>\n",
       "      <td>гражданский брак</td>\n",
       "      <td>1</td>\n",
       "      <td>F</td>\n",
       "      <td>пенсионер</td>\n",
       "      <td>0</td>\n",
       "      <td>158616</td>\n",
       "      <td>сыграть свадьбу</td>\n",
       "    </tr>\n",
       "    <tr>\n",
       "      <th>...</th>\n",
       "      <td>...</td>\n",
       "      <td>...</td>\n",
       "      <td>...</td>\n",
       "      <td>...</td>\n",
       "      <td>...</td>\n",
       "      <td>...</td>\n",
       "      <td>...</td>\n",
       "      <td>...</td>\n",
       "      <td>...</td>\n",
       "      <td>...</td>\n",
       "      <td>...</td>\n",
       "      <td>...</td>\n",
       "    </tr>\n",
       "    <tr>\n",
       "      <th>21466</th>\n",
       "      <td>1</td>\n",
       "      <td>4529.316663</td>\n",
       "      <td>43</td>\n",
       "      <td>среднее</td>\n",
       "      <td>1</td>\n",
       "      <td>гражданский брак</td>\n",
       "      <td>1</td>\n",
       "      <td>F</td>\n",
       "      <td>компаньон</td>\n",
       "      <td>0</td>\n",
       "      <td>224791</td>\n",
       "      <td>операции с жильем</td>\n",
       "    </tr>\n",
       "    <tr>\n",
       "      <th>21467</th>\n",
       "      <td>0</td>\n",
       "      <td>343937.404131</td>\n",
       "      <td>67</td>\n",
       "      <td>среднее</td>\n",
       "      <td>1</td>\n",
       "      <td>женат / замужем</td>\n",
       "      <td>0</td>\n",
       "      <td>F</td>\n",
       "      <td>пенсионер</td>\n",
       "      <td>0</td>\n",
       "      <td>155999</td>\n",
       "      <td>сделка с автомобилем</td>\n",
       "    </tr>\n",
       "    <tr>\n",
       "      <th>21468</th>\n",
       "      <td>1</td>\n",
       "      <td>2113.346888</td>\n",
       "      <td>38</td>\n",
       "      <td>среднее</td>\n",
       "      <td>1</td>\n",
       "      <td>гражданский брак</td>\n",
       "      <td>1</td>\n",
       "      <td>M</td>\n",
       "      <td>сотрудник</td>\n",
       "      <td>1</td>\n",
       "      <td>89672</td>\n",
       "      <td>недвижимость</td>\n",
       "    </tr>\n",
       "    <tr>\n",
       "      <th>21469</th>\n",
       "      <td>3</td>\n",
       "      <td>3112.481705</td>\n",
       "      <td>38</td>\n",
       "      <td>среднее</td>\n",
       "      <td>1</td>\n",
       "      <td>женат / замужем</td>\n",
       "      <td>0</td>\n",
       "      <td>M</td>\n",
       "      <td>сотрудник</td>\n",
       "      <td>1</td>\n",
       "      <td>244093</td>\n",
       "      <td>на покупку своего автомобиля</td>\n",
       "    </tr>\n",
       "    <tr>\n",
       "      <th>21470</th>\n",
       "      <td>2</td>\n",
       "      <td>1984.507589</td>\n",
       "      <td>40</td>\n",
       "      <td>среднее</td>\n",
       "      <td>1</td>\n",
       "      <td>женат / замужем</td>\n",
       "      <td>0</td>\n",
       "      <td>F</td>\n",
       "      <td>сотрудник</td>\n",
       "      <td>0</td>\n",
       "      <td>82047</td>\n",
       "      <td>на покупку автомобиля</td>\n",
       "    </tr>\n",
       "  </tbody>\n",
       "</table>\n",
       "<p>21471 rows × 12 columns</p>\n",
       "</div>"
      ],
      "text/plain": [
       "       children  days_employed  dob_years education  education_id  \\\n",
       "0             1    8437.673028         42    высшее             0   \n",
       "1             1    4024.803754         36   среднее             1   \n",
       "2             0    5623.422610         33   Среднее             1   \n",
       "3             3    4124.747207         32   среднее             1   \n",
       "4             0  340266.072047         53   среднее             1   \n",
       "...         ...            ...        ...       ...           ...   \n",
       "21466         1    4529.316663         43   среднее             1   \n",
       "21467         0  343937.404131         67   среднее             1   \n",
       "21468         1    2113.346888         38   среднее             1   \n",
       "21469         3    3112.481705         38   среднее             1   \n",
       "21470         2    1984.507589         40   среднее             1   \n",
       "\n",
       "          family_status  family_status_id gender income_type  debt  \\\n",
       "0       женат / замужем                 0      F   сотрудник     0   \n",
       "1       женат / замужем                 0      F   сотрудник     0   \n",
       "2       женат / замужем                 0      M   сотрудник     0   \n",
       "3       женат / замужем                 0      M   сотрудник     0   \n",
       "4      гражданский брак                 1      F   пенсионер     0   \n",
       "...                 ...               ...    ...         ...   ...   \n",
       "21466  гражданский брак                 1      F   компаньон     0   \n",
       "21467   женат / замужем                 0      F   пенсионер     0   \n",
       "21468  гражданский брак                 1      M   сотрудник     1   \n",
       "21469   женат / замужем                 0      M   сотрудник     1   \n",
       "21470   женат / замужем                 0      F   сотрудник     0   \n",
       "\n",
       "       total_income                       purpose  \n",
       "0            253875                 покупка жилья  \n",
       "1            112080       приобретение автомобиля  \n",
       "2            145885                 покупка жилья  \n",
       "3            267628    дополнительное образование  \n",
       "4            158616               сыграть свадьбу  \n",
       "...             ...                           ...  \n",
       "21466        224791             операции с жильем  \n",
       "21467        155999          сделка с автомобилем  \n",
       "21468         89672                  недвижимость  \n",
       "21469        244093  на покупку своего автомобиля  \n",
       "21470         82047         на покупку автомобиля  \n",
       "\n",
       "[21471 rows x 12 columns]"
      ]
     },
     "execution_count": 13,
     "metadata": {},
     "output_type": "execute_result"
    }
   ],
   "source": [
    "data = data.drop_duplicates().reset_index(drop=True)\n",
    "data"
   ]
  },
  {
   "cell_type": "code",
   "execution_count": 14,
   "id": "715b798f",
   "metadata": {},
   "outputs": [
    {
     "data": {
      "text/plain": [
       "array(['высшее', 'среднее', 'Среднее', 'СРЕДНЕЕ', 'ВЫСШЕЕ',\n",
       "       'неоконченное высшее', 'начальное', 'Высшее',\n",
       "       'НЕОКОНЧЕННОЕ ВЫСШЕЕ', 'Неоконченное высшее', 'НАЧАЛЬНОЕ',\n",
       "       'Начальное', 'Ученая степень', 'УЧЕНАЯ СТЕПЕНЬ', 'ученая степень'],\n",
       "      dtype=object)"
      ]
     },
     "execution_count": 14,
     "metadata": {},
     "output_type": "execute_result"
    }
   ],
   "source": [
    "data['education'].unique()"
   ]
  },
  {
   "cell_type": "code",
   "execution_count": 15,
   "id": "940016ce",
   "metadata": {},
   "outputs": [
    {
     "data": {
      "text/plain": [
       "среднее                15188\n",
       "высшее                  5251\n",
       "неоконченное высшее      744\n",
       "начальное                282\n",
       "ученая степень             6\n",
       "Name: education, dtype: int64"
      ]
     },
     "execution_count": 15,
     "metadata": {},
     "output_type": "execute_result"
    }
   ],
   "source": [
    "data['education'] = data['education'].str.lower()\n",
    "data['education'].value_counts()"
   ]
  },
  {
   "cell_type": "code",
   "execution_count": 16,
   "id": "2da93188",
   "metadata": {},
   "outputs": [
    {
     "data": {
      "text/plain": [
       " 0     14107\n",
       " 1      4809\n",
       " 2      2052\n",
       " 3       330\n",
       " 20       76\n",
       "-1        47\n",
       " 4        41\n",
       " 5         9\n",
       "Name: children, dtype: int64"
      ]
     },
     "execution_count": 16,
     "metadata": {},
     "output_type": "execute_result"
    }
   ],
   "source": [
    "data['children'].value_counts()"
   ]
  },
  {
   "cell_type": "markdown",
   "id": "74af9442",
   "metadata": {},
   "source": [
    "<div class=\"alert alert-info\">Две аномалии в этом столбце: '-1' и '20'. -1 заменим на положительное число, 20 вероятнее всего тоже ошибка, заменим на медиану."
   ]
  },
  {
   "cell_type": "code",
   "execution_count": 17,
   "id": "c1b15ec3",
   "metadata": {},
   "outputs": [
    {
     "data": {
      "text/plain": [
       "0    14183\n",
       "1     4856\n",
       "2     2052\n",
       "3      330\n",
       "4       41\n",
       "5        9\n",
       "Name: children, dtype: int64"
      ]
     },
     "execution_count": 17,
     "metadata": {},
     "output_type": "execute_result"
    }
   ],
   "source": [
    "data['children'] = data['children'].replace(-1, 1)\n",
    "data['children'] = data['children'].replace(20, data['children'].median())\n",
    "data['children'] = data['children'].astype('int')\n",
    "data['children'].value_counts()"
   ]
  },
  {
   "cell_type": "code",
   "execution_count": null,
   "id": "76926d89",
   "metadata": {},
   "outputs": [],
   "source": []
  },
  {
   "cell_type": "code",
   "execution_count": 18,
   "id": "6bc0c821",
   "metadata": {},
   "outputs": [
    {
     "data": {
      "text/plain": [
       "женат / замужем          12344\n",
       "гражданский брак          4163\n",
       "Не женат / не замужем     2810\n",
       "в разводе                 1195\n",
       "вдовец / вдова             959\n",
       "Name: family_status, dtype: int64"
      ]
     },
     "execution_count": 18,
     "metadata": {},
     "output_type": "execute_result"
    }
   ],
   "source": [
    "data['family_status'].value_counts()"
   ]
  },
  {
   "cell_type": "code",
   "execution_count": 19,
   "id": "199167ce",
   "metadata": {},
   "outputs": [
    {
     "data": {
      "text/plain": [
       "женат / замужем          12344\n",
       "гражданский брак          4163\n",
       "не женат / не замужем     2810\n",
       "в разводе                 1195\n",
       "вдовец / вдова             959\n",
       "Name: family_status, dtype: int64"
      ]
     },
     "execution_count": 19,
     "metadata": {},
     "output_type": "execute_result"
    }
   ],
   "source": [
    "#заменим на нижний регистр\n",
    "data['family_status'] = data['family_status'].str.lower()\n",
    "data['family_status'].value_counts()"
   ]
  },
  {
   "cell_type": "code",
   "execution_count": 20,
   "id": "02cb5d15",
   "metadata": {},
   "outputs": [
    {
     "data": {
      "text/plain": [
       "F      14189\n",
       "M       7281\n",
       "XNA        1\n",
       "Name: gender, dtype: int64"
      ]
     },
     "execution_count": 20,
     "metadata": {},
     "output_type": "execute_result"
    }
   ],
   "source": [
    "data['gender'].value_counts()"
   ]
  },
  {
   "cell_type": "code",
   "execution_count": 21,
   "id": "7514e0a2",
   "metadata": {},
   "outputs": [
    {
     "data": {
      "text/plain": [
       "F          14189\n",
       "M           7281\n",
       "unknown        1\n",
       "Name: gender, dtype: int64"
      ]
     },
     "execution_count": 21,
     "metadata": {},
     "output_type": "execute_result"
    }
   ],
   "source": [
    "#заменим XNA на 'unknown'\n",
    "data['gender'] = data['gender'].replace('XNA', 'unknown')\n",
    "data['gender'].value_counts()"
   ]
  },
  {
   "cell_type": "code",
   "execution_count": 22,
   "id": "e185da56",
   "metadata": {},
   "outputs": [
    {
     "data": {
      "text/plain": [
       "array([42, 36, 33, 32, 53, 27, 43, 50, 35, 41, 40, 65, 54, 56, 26, 48, 24,\n",
       "       21, 57, 67, 28, 63, 62, 47, 34, 68, 25, 31, 30, 20, 49, 37, 45, 61,\n",
       "       64, 44, 52, 46, 23, 38, 39, 51,  0, 59, 29, 60, 55, 58, 71, 22, 73,\n",
       "       66, 69, 19, 72, 70, 74, 75])"
      ]
     },
     "execution_count": 22,
     "metadata": {},
     "output_type": "execute_result"
    }
   ],
   "source": [
    "data['dob_years'].unique()"
   ]
  },
  {
   "cell_type": "code",
   "execution_count": 23,
   "id": "354467ef",
   "metadata": {},
   "outputs": [
    {
     "data": {
      "text/plain": [
       "array([0, 1])"
      ]
     },
     "execution_count": 23,
     "metadata": {},
     "output_type": "execute_result"
    }
   ],
   "source": [
    "data['debt'].unique()"
   ]
  },
  {
   "cell_type": "code",
   "execution_count": 24,
   "id": "49a486aa",
   "metadata": {},
   "outputs": [
    {
     "data": {
      "text/plain": [
       "свадьба                                   793\n",
       "на проведение свадьбы                     773\n",
       "сыграть свадьбу                           769\n",
       "операции с недвижимостью                  675\n",
       "покупка коммерческой недвижимости         662\n",
       "операции с жильем                         652\n",
       "покупка жилья для сдачи                   652\n",
       "операции с коммерческой недвижимостью     650\n",
       "жилье                                     646\n",
       "покупка жилья                             646\n",
       "покупка жилья для семьи                   638\n",
       "строительство собственной недвижимости    635\n",
       "недвижимость                              633\n",
       "операции со своей недвижимостью           627\n",
       "строительство жилой недвижимости          625\n",
       "покупка недвижимости                      621\n",
       "покупка своего жилья                      620\n",
       "строительство недвижимости                619\n",
       "ремонт жилью                              607\n",
       "покупка жилой недвижимости                606\n",
       "на покупку своего автомобиля              505\n",
       "заняться высшим образованием              496\n",
       "автомобиль                                494\n",
       "сделка с подержанным автомобилем          486\n",
       "свой автомобиль                           479\n",
       "автомобили                                478\n",
       "на покупку подержанного автомобиля        478\n",
       "на покупку автомобиля                     472\n",
       "приобретение автомобиля                   461\n",
       "дополнительное образование                460\n",
       "сделка с автомобилем                      455\n",
       "высшее образование                        452\n",
       "образование                               447\n",
       "получение дополнительного образования     447\n",
       "получение образования                     442\n",
       "профильное образование                    436\n",
       "получение высшего образования             426\n",
       "заняться образованием                     408\n",
       "Name: purpose, dtype: int64"
      ]
     },
     "execution_count": 24,
     "metadata": {},
     "output_type": "execute_result"
    }
   ],
   "source": [
    "data['purpose'].value_counts()"
   ]
  },
  {
   "cell_type": "markdown",
   "id": "6892fa34",
   "metadata": {},
   "source": [
    "<div class=\"alert alert-info\"> Очень много неочевидных дубликатов в этом столбце, которые следует категоризировать, что и будет сделано ниже"
   ]
  },
  {
   "cell_type": "markdown",
   "id": "802777fa",
   "metadata": {},
   "source": [
    "После удаления дубликатов сделайте следующее:\n",
    "поясните, как выбирали метод для поиска и удаления дубликатов в данных;\n",
    "приведите возможные причины появления дубликатов."
   ]
  },
  {
   "cell_type": "markdown",
   "id": "98a72ab3",
   "metadata": {},
   "source": [
    "<div class=\"alert alert-info\">\n",
    "Для поиска дубликатов в столбце 'education' использовал unique(), так как он из-за маленького количества данных в этом фрейме позволяет более наглядно понять что не так со значениями. Для других столбцов ввиду большого объема значений применил value_counts()."
   ]
  },
  {
   "cell_type": "markdown",
   "id": "10321b0e",
   "metadata": {},
   "source": [
    "### Шаг 2.5. Формирование дополнительных датафреймов словарей, декомпозиция исходного датафрейма."
   ]
  },
  {
   "cell_type": "markdown",
   "id": "32c2ece8",
   "metadata": {},
   "source": [
    "Создайте два новых датафрейма, в которых:\n",
    "\n",
    "1) каждому уникальному значению из education соответствует уникальное значение education_id — в первом;\n",
    "\n",
    "2) каждому уникальному значению из family_status соответствует уникальное значение family_status_id — во втором.\n",
    "\n",
    "Удалите из исходного датафрейма столбцы education и family_status, оставив только их идентификаторы: education_id и family_status_id. \n",
    "\n",
    "Новые датафреймы — это те самые «словари» (не путайте с одноимённой структурой данных в Python), к которым вы сможете обращаться по идентификатору."
   ]
  },
  {
   "cell_type": "code",
   "execution_count": 25,
   "id": "3f9a33e0",
   "metadata": {},
   "outputs": [],
   "source": [
    "data_education = data.loc[:,['education', 'education_id']]\n",
    "data_education = data_education.drop_duplicates().reset_index(drop=True).sort_values(by='education_id')"
   ]
  },
  {
   "cell_type": "code",
   "execution_count": 26,
   "id": "3e8a29b0",
   "metadata": {},
   "outputs": [],
   "source": [
    "data_family_status = data[['family_status', 'family_status_id']]\n",
    "data_family = data_family_status.drop_duplicates().reset_index(drop=True).sort_values(by='family_status_id')"
   ]
  },
  {
   "cell_type": "code",
   "execution_count": 27,
   "id": "4b5a997c",
   "metadata": {},
   "outputs": [
    {
     "data": {
      "text/html": [
       "<div>\n",
       "<style scoped>\n",
       "    .dataframe tbody tr th:only-of-type {\n",
       "        vertical-align: middle;\n",
       "    }\n",
       "\n",
       "    .dataframe tbody tr th {\n",
       "        vertical-align: top;\n",
       "    }\n",
       "\n",
       "    .dataframe thead th {\n",
       "        text-align: right;\n",
       "    }\n",
       "</style>\n",
       "<table border=\"1\" class=\"dataframe\">\n",
       "  <thead>\n",
       "    <tr style=\"text-align: right;\">\n",
       "      <th></th>\n",
       "      <th>children</th>\n",
       "      <th>days_employed</th>\n",
       "      <th>dob_years</th>\n",
       "      <th>education_id</th>\n",
       "      <th>family_status_id</th>\n",
       "      <th>gender</th>\n",
       "      <th>income_type</th>\n",
       "      <th>debt</th>\n",
       "      <th>total_income</th>\n",
       "      <th>purpose</th>\n",
       "    </tr>\n",
       "  </thead>\n",
       "  <tbody>\n",
       "    <tr>\n",
       "      <th>0</th>\n",
       "      <td>1</td>\n",
       "      <td>8437.673028</td>\n",
       "      <td>42</td>\n",
       "      <td>0</td>\n",
       "      <td>0</td>\n",
       "      <td>F</td>\n",
       "      <td>сотрудник</td>\n",
       "      <td>0</td>\n",
       "      <td>253875</td>\n",
       "      <td>покупка жилья</td>\n",
       "    </tr>\n",
       "    <tr>\n",
       "      <th>1</th>\n",
       "      <td>1</td>\n",
       "      <td>4024.803754</td>\n",
       "      <td>36</td>\n",
       "      <td>1</td>\n",
       "      <td>0</td>\n",
       "      <td>F</td>\n",
       "      <td>сотрудник</td>\n",
       "      <td>0</td>\n",
       "      <td>112080</td>\n",
       "      <td>приобретение автомобиля</td>\n",
       "    </tr>\n",
       "    <tr>\n",
       "      <th>2</th>\n",
       "      <td>0</td>\n",
       "      <td>5623.422610</td>\n",
       "      <td>33</td>\n",
       "      <td>1</td>\n",
       "      <td>0</td>\n",
       "      <td>M</td>\n",
       "      <td>сотрудник</td>\n",
       "      <td>0</td>\n",
       "      <td>145885</td>\n",
       "      <td>покупка жилья</td>\n",
       "    </tr>\n",
       "    <tr>\n",
       "      <th>3</th>\n",
       "      <td>3</td>\n",
       "      <td>4124.747207</td>\n",
       "      <td>32</td>\n",
       "      <td>1</td>\n",
       "      <td>0</td>\n",
       "      <td>M</td>\n",
       "      <td>сотрудник</td>\n",
       "      <td>0</td>\n",
       "      <td>267628</td>\n",
       "      <td>дополнительное образование</td>\n",
       "    </tr>\n",
       "    <tr>\n",
       "      <th>4</th>\n",
       "      <td>0</td>\n",
       "      <td>340266.072047</td>\n",
       "      <td>53</td>\n",
       "      <td>1</td>\n",
       "      <td>1</td>\n",
       "      <td>F</td>\n",
       "      <td>пенсионер</td>\n",
       "      <td>0</td>\n",
       "      <td>158616</td>\n",
       "      <td>сыграть свадьбу</td>\n",
       "    </tr>\n",
       "  </tbody>\n",
       "</table>\n",
       "</div>"
      ],
      "text/plain": [
       "   children  days_employed  dob_years  education_id  family_status_id gender  \\\n",
       "0         1    8437.673028         42             0                 0      F   \n",
       "1         1    4024.803754         36             1                 0      F   \n",
       "2         0    5623.422610         33             1                 0      M   \n",
       "3         3    4124.747207         32             1                 0      M   \n",
       "4         0  340266.072047         53             1                 1      F   \n",
       "\n",
       "  income_type  debt  total_income                     purpose  \n",
       "0   сотрудник     0        253875               покупка жилья  \n",
       "1   сотрудник     0        112080     приобретение автомобиля  \n",
       "2   сотрудник     0        145885               покупка жилья  \n",
       "3   сотрудник     0        267628  дополнительное образование  \n",
       "4   пенсионер     0        158616             сыграть свадьбу  "
      ]
     },
     "execution_count": 27,
     "metadata": {},
     "output_type": "execute_result"
    }
   ],
   "source": [
    "data=data.drop(columns= ['family_status', 'education'], axis=1)\n",
    "data.head()"
   ]
  },
  {
   "cell_type": "markdown",
   "id": "e16ce3ff",
   "metadata": {},
   "source": [
    "### Шаг 2.6. Категоризация дохода."
   ]
  },
  {
   "cell_type": "markdown",
   "id": "205975be",
   "metadata": {},
   "source": [
    "На основании диапазонов, указанных ниже, создайте столбец total_income_category с категориями:\n",
    "\n",
    "0–30000 — 'E';\n",
    "\n",
    "30001–50000 — 'D';\n",
    "\n",
    "50001–200000 — 'C';\n",
    "\n",
    "200001–1000000 — 'B';\n",
    "\n",
    "1000001 и выше — 'A'."
   ]
  },
  {
   "cell_type": "code",
   "execution_count": 28,
   "id": "c02988f4",
   "metadata": {},
   "outputs": [
    {
     "data": {
      "text/html": [
       "<div>\n",
       "<style scoped>\n",
       "    .dataframe tbody tr th:only-of-type {\n",
       "        vertical-align: middle;\n",
       "    }\n",
       "\n",
       "    .dataframe tbody tr th {\n",
       "        vertical-align: top;\n",
       "    }\n",
       "\n",
       "    .dataframe thead th {\n",
       "        text-align: right;\n",
       "    }\n",
       "</style>\n",
       "<table border=\"1\" class=\"dataframe\">\n",
       "  <thead>\n",
       "    <tr style=\"text-align: right;\">\n",
       "      <th></th>\n",
       "      <th>children</th>\n",
       "      <th>days_employed</th>\n",
       "      <th>dob_years</th>\n",
       "      <th>education_id</th>\n",
       "      <th>family_status_id</th>\n",
       "      <th>gender</th>\n",
       "      <th>income_type</th>\n",
       "      <th>debt</th>\n",
       "      <th>total_income</th>\n",
       "      <th>purpose</th>\n",
       "      <th>total_income_category</th>\n",
       "    </tr>\n",
       "  </thead>\n",
       "  <tbody>\n",
       "    <tr>\n",
       "      <th>0</th>\n",
       "      <td>1</td>\n",
       "      <td>8437.673028</td>\n",
       "      <td>42</td>\n",
       "      <td>0</td>\n",
       "      <td>0</td>\n",
       "      <td>F</td>\n",
       "      <td>сотрудник</td>\n",
       "      <td>0</td>\n",
       "      <td>253875</td>\n",
       "      <td>покупка жилья</td>\n",
       "      <td>B</td>\n",
       "    </tr>\n",
       "    <tr>\n",
       "      <th>1</th>\n",
       "      <td>1</td>\n",
       "      <td>4024.803754</td>\n",
       "      <td>36</td>\n",
       "      <td>1</td>\n",
       "      <td>0</td>\n",
       "      <td>F</td>\n",
       "      <td>сотрудник</td>\n",
       "      <td>0</td>\n",
       "      <td>112080</td>\n",
       "      <td>приобретение автомобиля</td>\n",
       "      <td>C</td>\n",
       "    </tr>\n",
       "    <tr>\n",
       "      <th>2</th>\n",
       "      <td>0</td>\n",
       "      <td>5623.422610</td>\n",
       "      <td>33</td>\n",
       "      <td>1</td>\n",
       "      <td>0</td>\n",
       "      <td>M</td>\n",
       "      <td>сотрудник</td>\n",
       "      <td>0</td>\n",
       "      <td>145885</td>\n",
       "      <td>покупка жилья</td>\n",
       "      <td>C</td>\n",
       "    </tr>\n",
       "    <tr>\n",
       "      <th>3</th>\n",
       "      <td>3</td>\n",
       "      <td>4124.747207</td>\n",
       "      <td>32</td>\n",
       "      <td>1</td>\n",
       "      <td>0</td>\n",
       "      <td>M</td>\n",
       "      <td>сотрудник</td>\n",
       "      <td>0</td>\n",
       "      <td>267628</td>\n",
       "      <td>дополнительное образование</td>\n",
       "      <td>B</td>\n",
       "    </tr>\n",
       "    <tr>\n",
       "      <th>4</th>\n",
       "      <td>0</td>\n",
       "      <td>340266.072047</td>\n",
       "      <td>53</td>\n",
       "      <td>1</td>\n",
       "      <td>1</td>\n",
       "      <td>F</td>\n",
       "      <td>пенсионер</td>\n",
       "      <td>0</td>\n",
       "      <td>158616</td>\n",
       "      <td>сыграть свадьбу</td>\n",
       "      <td>C</td>\n",
       "    </tr>\n",
       "  </tbody>\n",
       "</table>\n",
       "</div>"
      ],
      "text/plain": [
       "   children  days_employed  dob_years  education_id  family_status_id gender  \\\n",
       "0         1    8437.673028         42             0                 0      F   \n",
       "1         1    4024.803754         36             1                 0      F   \n",
       "2         0    5623.422610         33             1                 0      M   \n",
       "3         3    4124.747207         32             1                 0      M   \n",
       "4         0  340266.072047         53             1                 1      F   \n",
       "\n",
       "  income_type  debt  total_income                     purpose  \\\n",
       "0   сотрудник     0        253875               покупка жилья   \n",
       "1   сотрудник     0        112080     приобретение автомобиля   \n",
       "2   сотрудник     0        145885               покупка жилья   \n",
       "3   сотрудник     0        267628  дополнительное образование   \n",
       "4   пенсионер     0        158616             сыграть свадьбу   \n",
       "\n",
       "  total_income_category  \n",
       "0                     B  \n",
       "1                     C  \n",
       "2                     C  \n",
       "3                     B  \n",
       "4                     C  "
      ]
     },
     "execution_count": 28,
     "metadata": {},
     "output_type": "execute_result"
    }
   ],
   "source": [
    "def total_income_category(income):\n",
    "    if income <= 30000:\n",
    "        return 'E'\n",
    "    elif 30001<income<=50000:\n",
    "        return 'D'\n",
    "    elif 50001<income<=200000:\n",
    "        return 'C'\n",
    "    elif 200001<income<=1000000:\n",
    "        return 'B'\n",
    "    else: \n",
    "        return 'A'\n",
    "data['total_income_category'] = data['total_income'].apply(total_income_category)\n",
    "data.head()\n",
    "    "
   ]
  },
  {
   "cell_type": "code",
   "execution_count": 29,
   "id": "75a147e1",
   "metadata": {},
   "outputs": [
    {
     "data": {
      "text/plain": [
       "C    16033\n",
       "B     5040\n",
       "D      350\n",
       "A       26\n",
       "E       22\n",
       "Name: total_income_category, dtype: int64"
      ]
     },
     "execution_count": 29,
     "metadata": {},
     "output_type": "execute_result"
    }
   ],
   "source": [
    "data['total_income_category'].value_counts()"
   ]
  },
  {
   "cell_type": "code",
   "execution_count": 30,
   "id": "a83102c1",
   "metadata": {},
   "outputs": [
    {
     "data": {
      "text/plain": [
       "21471"
      ]
     },
     "execution_count": 30,
     "metadata": {},
     "output_type": "execute_result"
    }
   ],
   "source": [
    "data['total_income_category'].count()"
   ]
  },
  {
   "cell_type": "markdown",
   "id": "da37e0dd",
   "metadata": {},
   "source": [
    "### Шаг 2.7. Категоризация целей кредита."
   ]
  },
  {
   "cell_type": "markdown",
   "id": "7853aa0e",
   "metadata": {},
   "source": [
    "Создайте функцию, которая на основании данных из столбца purpose сформирует новый столбец purpose_category, в который войдут следующие категории:\n",
    "\n",
    "'операции с автомобилем',\n",
    "\n",
    "'операции с недвижимостью',\n",
    "\n",
    "'проведение свадьбы',\n",
    "\n",
    "'получение образования'."
   ]
  },
  {
   "cell_type": "code",
   "execution_count": 31,
   "id": "e79954ea",
   "metadata": {},
   "outputs": [
    {
     "data": {
      "text/plain": [
       "array(['покупка жилья', 'приобретение автомобиля',\n",
       "       'дополнительное образование', 'сыграть свадьбу',\n",
       "       'операции с жильем', 'образование', 'на проведение свадьбы',\n",
       "       'покупка жилья для семьи', 'покупка недвижимости',\n",
       "       'покупка коммерческой недвижимости', 'покупка жилой недвижимости',\n",
       "       'строительство собственной недвижимости', 'недвижимость',\n",
       "       'строительство недвижимости', 'на покупку подержанного автомобиля',\n",
       "       'на покупку своего автомобиля',\n",
       "       'операции с коммерческой недвижимостью',\n",
       "       'строительство жилой недвижимости', 'жилье',\n",
       "       'операции со своей недвижимостью', 'автомобили',\n",
       "       'заняться образованием', 'сделка с подержанным автомобилем',\n",
       "       'получение образования', 'автомобиль', 'свадьба',\n",
       "       'получение дополнительного образования', 'покупка своего жилья',\n",
       "       'операции с недвижимостью', 'получение высшего образования',\n",
       "       'свой автомобиль', 'сделка с автомобилем',\n",
       "       'профильное образование', 'высшее образование',\n",
       "       'покупка жилья для сдачи', 'на покупку автомобиля', 'ремонт жилью',\n",
       "       'заняться высшим образованием'], dtype=object)"
      ]
     },
     "execution_count": 31,
     "metadata": {},
     "output_type": "execute_result"
    }
   ],
   "source": [
    "data['purpose'].unique()"
   ]
  },
  {
   "cell_type": "code",
   "execution_count": 32,
   "id": "4c9bc435",
   "metadata": {
    "scrolled": true
   },
   "outputs": [
    {
     "data": {
      "text/html": [
       "<div>\n",
       "<style scoped>\n",
       "    .dataframe tbody tr th:only-of-type {\n",
       "        vertical-align: middle;\n",
       "    }\n",
       "\n",
       "    .dataframe tbody tr th {\n",
       "        vertical-align: top;\n",
       "    }\n",
       "\n",
       "    .dataframe thead th {\n",
       "        text-align: right;\n",
       "    }\n",
       "</style>\n",
       "<table border=\"1\" class=\"dataframe\">\n",
       "  <thead>\n",
       "    <tr style=\"text-align: right;\">\n",
       "      <th></th>\n",
       "      <th>children</th>\n",
       "      <th>days_employed</th>\n",
       "      <th>dob_years</th>\n",
       "      <th>education_id</th>\n",
       "      <th>family_status_id</th>\n",
       "      <th>gender</th>\n",
       "      <th>income_type</th>\n",
       "      <th>debt</th>\n",
       "      <th>total_income</th>\n",
       "      <th>purpose</th>\n",
       "      <th>total_income_category</th>\n",
       "      <th>purpose_category</th>\n",
       "    </tr>\n",
       "  </thead>\n",
       "  <tbody>\n",
       "    <tr>\n",
       "      <th>0</th>\n",
       "      <td>1</td>\n",
       "      <td>8437.673028</td>\n",
       "      <td>42</td>\n",
       "      <td>0</td>\n",
       "      <td>0</td>\n",
       "      <td>F</td>\n",
       "      <td>сотрудник</td>\n",
       "      <td>0</td>\n",
       "      <td>253875</td>\n",
       "      <td>покупка жилья</td>\n",
       "      <td>B</td>\n",
       "      <td>операции с недвижимостью</td>\n",
       "    </tr>\n",
       "    <tr>\n",
       "      <th>1</th>\n",
       "      <td>1</td>\n",
       "      <td>4024.803754</td>\n",
       "      <td>36</td>\n",
       "      <td>1</td>\n",
       "      <td>0</td>\n",
       "      <td>F</td>\n",
       "      <td>сотрудник</td>\n",
       "      <td>0</td>\n",
       "      <td>112080</td>\n",
       "      <td>приобретение автомобиля</td>\n",
       "      <td>C</td>\n",
       "      <td>операции с автомобилем</td>\n",
       "    </tr>\n",
       "    <tr>\n",
       "      <th>2</th>\n",
       "      <td>0</td>\n",
       "      <td>5623.422610</td>\n",
       "      <td>33</td>\n",
       "      <td>1</td>\n",
       "      <td>0</td>\n",
       "      <td>M</td>\n",
       "      <td>сотрудник</td>\n",
       "      <td>0</td>\n",
       "      <td>145885</td>\n",
       "      <td>покупка жилья</td>\n",
       "      <td>C</td>\n",
       "      <td>операции с недвижимостью</td>\n",
       "    </tr>\n",
       "    <tr>\n",
       "      <th>3</th>\n",
       "      <td>3</td>\n",
       "      <td>4124.747207</td>\n",
       "      <td>32</td>\n",
       "      <td>1</td>\n",
       "      <td>0</td>\n",
       "      <td>M</td>\n",
       "      <td>сотрудник</td>\n",
       "      <td>0</td>\n",
       "      <td>267628</td>\n",
       "      <td>дополнительное образование</td>\n",
       "      <td>B</td>\n",
       "      <td>получение образования</td>\n",
       "    </tr>\n",
       "    <tr>\n",
       "      <th>4</th>\n",
       "      <td>0</td>\n",
       "      <td>340266.072047</td>\n",
       "      <td>53</td>\n",
       "      <td>1</td>\n",
       "      <td>1</td>\n",
       "      <td>F</td>\n",
       "      <td>пенсионер</td>\n",
       "      <td>0</td>\n",
       "      <td>158616</td>\n",
       "      <td>сыграть свадьбу</td>\n",
       "      <td>C</td>\n",
       "      <td>проведение свадьбы</td>\n",
       "    </tr>\n",
       "  </tbody>\n",
       "</table>\n",
       "</div>"
      ],
      "text/plain": [
       "   children  days_employed  dob_years  education_id  family_status_id gender  \\\n",
       "0         1    8437.673028         42             0                 0      F   \n",
       "1         1    4024.803754         36             1                 0      F   \n",
       "2         0    5623.422610         33             1                 0      M   \n",
       "3         3    4124.747207         32             1                 0      M   \n",
       "4         0  340266.072047         53             1                 1      F   \n",
       "\n",
       "  income_type  debt  total_income                     purpose  \\\n",
       "0   сотрудник     0        253875               покупка жилья   \n",
       "1   сотрудник     0        112080     приобретение автомобиля   \n",
       "2   сотрудник     0        145885               покупка жилья   \n",
       "3   сотрудник     0        267628  дополнительное образование   \n",
       "4   пенсионер     0        158616             сыграть свадьбу   \n",
       "\n",
       "  total_income_category          purpose_category  \n",
       "0                     B  операции с недвижимостью  \n",
       "1                     C    операции с автомобилем  \n",
       "2                     C  операции с недвижимостью  \n",
       "3                     B     получение образования  \n",
       "4                     C        проведение свадьбы  "
      ]
     },
     "execution_count": 32,
     "metadata": {},
     "output_type": "execute_result"
    }
   ],
   "source": [
    "def purpose_category(purpose):\n",
    "    if 'автомобил' in purpose:\n",
    "        return 'операции с автомобилем'\n",
    "    elif 'образовани' in purpose:\n",
    "        return 'получение образования'\n",
    "    elif 'свадьб' in purpose:\n",
    "        return 'проведение свадьбы'\n",
    "    else:\n",
    "        return 'операции с недвижимостью'\n",
    "data['purpose_category'] = data['purpose'].apply(purpose_category)\n",
    "data.head()"
   ]
  },
  {
   "cell_type": "code",
   "execution_count": 33,
   "id": "1d4fe776",
   "metadata": {},
   "outputs": [
    {
     "data": {
      "text/plain": [
       "операции с недвижимостью    10814\n",
       "операции с автомобилем       4308\n",
       "получение образования        4014\n",
       "проведение свадьбы           2335\n",
       "Name: purpose_category, dtype: int64"
      ]
     },
     "execution_count": 33,
     "metadata": {},
     "output_type": "execute_result"
    }
   ],
   "source": [
    "data['purpose_category'].value_counts()"
   ]
  },
  {
   "cell_type": "code",
   "execution_count": 34,
   "id": "8387654f",
   "metadata": {},
   "outputs": [
    {
     "data": {
      "text/plain": [
       "21471"
      ]
     },
     "execution_count": 34,
     "metadata": {},
     "output_type": "execute_result"
    }
   ],
   "source": [
    "# проверим суммарное количество значений\n",
    "len(data['purpose_category'])"
   ]
  },
  {
   "cell_type": "markdown",
   "id": "9a324ead",
   "metadata": {},
   "source": [
    "### Ответы на вопросы."
   ]
  },
  {
   "cell_type": "markdown",
   "id": "e5c9a364",
   "metadata": {},
   "source": [
    "##### Есть ли зависимость между количеством детей и возвратом кредита в срок?\n",
    "\n",
    "\n",
    "\n"
   ]
  },
  {
   "cell_type": "code",
   "execution_count": 35,
   "id": "89e2aaba",
   "metadata": {},
   "outputs": [
    {
     "data": {
      "text/html": [
       "<div>\n",
       "<style scoped>\n",
       "    .dataframe tbody tr th:only-of-type {\n",
       "        vertical-align: middle;\n",
       "    }\n",
       "\n",
       "    .dataframe tbody tr th {\n",
       "        vertical-align: top;\n",
       "    }\n",
       "\n",
       "    .dataframe thead th {\n",
       "        text-align: right;\n",
       "    }\n",
       "</style>\n",
       "<table border=\"1\" class=\"dataframe\">\n",
       "  <thead>\n",
       "    <tr style=\"text-align: right;\">\n",
       "      <th></th>\n",
       "      <th>debtors</th>\n",
       "      <th>debts</th>\n",
       "      <th>conversion</th>\n",
       "    </tr>\n",
       "    <tr>\n",
       "      <th>children</th>\n",
       "      <th></th>\n",
       "      <th></th>\n",
       "      <th></th>\n",
       "    </tr>\n",
       "  </thead>\n",
       "  <tbody>\n",
       "    <tr>\n",
       "      <th>5</th>\n",
       "      <td>9</td>\n",
       "      <td>0</td>\n",
       "      <td>0.000000</td>\n",
       "    </tr>\n",
       "    <tr>\n",
       "      <th>0</th>\n",
       "      <td>14183</td>\n",
       "      <td>1071</td>\n",
       "      <td>0.075513</td>\n",
       "    </tr>\n",
       "    <tr>\n",
       "      <th>3</th>\n",
       "      <td>330</td>\n",
       "      <td>27</td>\n",
       "      <td>0.081818</td>\n",
       "    </tr>\n",
       "    <tr>\n",
       "      <th>1</th>\n",
       "      <td>4856</td>\n",
       "      <td>445</td>\n",
       "      <td>0.091639</td>\n",
       "    </tr>\n",
       "    <tr>\n",
       "      <th>2</th>\n",
       "      <td>2052</td>\n",
       "      <td>194</td>\n",
       "      <td>0.094542</td>\n",
       "    </tr>\n",
       "    <tr>\n",
       "      <th>4</th>\n",
       "      <td>41</td>\n",
       "      <td>4</td>\n",
       "      <td>0.097561</td>\n",
       "    </tr>\n",
       "  </tbody>\n",
       "</table>\n",
       "</div>"
      ],
      "text/plain": [
       "          debtors  debts  conversion\n",
       "children                            \n",
       "5               9      0    0.000000\n",
       "0           14183   1071    0.075513\n",
       "3             330     27    0.081818\n",
       "1            4856    445    0.091639\n",
       "2            2052    194    0.094542\n",
       "4              41      4    0.097561"
      ]
     },
     "execution_count": 35,
     "metadata": {},
     "output_type": "execute_result"
    }
   ],
   "source": [
    "#найдем конверсию\n",
    "children_debt = pd.DataFrame()\n",
    "children_debt['debtors'] = data.groupby('children')['debt'].count() #количество заемщиков \n",
    "children_debt['debts'] = data.groupby('children')['debt'].sum() #количество просрочек\n",
    "children_debt['conversion'] = (children_debt['debts'] / children_debt['debtors']) #конверсия\n",
    "children_debt.sort_values(by='conversion')"
   ]
  },
  {
   "cell_type": "markdown",
   "id": "0b41f1d2",
   "metadata": {},
   "source": [
    "<div class=\"alert alert-info\"> Прямая зависимость между увеличением количества детей и увеличением просрочек неочевидная, так как у людей с 3-мя детьми меньше просрочек, чем у людей с 1 или 2-мя детьми. Зависимость есть, хоть и небольшая."
   ]
  },
  {
   "cell_type": "markdown",
   "id": "cfc40325",
   "metadata": {},
   "source": [
    "##### Есть ли зависимость между семейным положением и возвратом кредита в срок?"
   ]
  },
  {
   "cell_type": "code",
   "execution_count": 36,
   "id": "2d62a4a5",
   "metadata": {},
   "outputs": [
    {
     "data": {
      "text/plain": [
       "family_status          family_status_id  debtors  debts  conversion\n",
       "женат / замужем        0                 12344    931    0.075421      12344\n",
       "гражданский брак       1                 4163     388    0.093202       4163\n",
       "не женат / не замужем  4                 2810     274    0.097509       2810\n",
       "в разводе              3                 1195     85     0.071130       1195\n",
       "вдовец / вдова         2                 959      63     0.065693        959\n",
       "dtype: int64"
      ]
     },
     "execution_count": 36,
     "metadata": {},
     "output_type": "execute_result"
    }
   ],
   "source": [
    "#найдем конверсию\n",
    "family_status_debt = pd.DataFrame()\n",
    "family_status_debt['debtors'] = data.groupby('family_status_id')['debt'].count() #количество заемщиков \n",
    "family_status_debt['debts'] = data.groupby('family_status_id')['debt'].sum() #количество просрочек\n",
    "family_status_debt['conversion'] = (family_status_debt['debts'] / family_status_debt['debtors']) #конверсия \n",
    "\n",
    "#для удобства добавим описание идентификаторов\n",
    "marital_debt = data_family_status.merge(family_status_debt, on='family_status_id', how='left')\n",
    "\n",
    "marital_debt.sort_values(by='conversion').reset_index(drop=True).value_counts()\n",
    "\n"
   ]
  },
  {
   "cell_type": "markdown",
   "id": "773030d8",
   "metadata": {},
   "source": [
    "<div class=\"alert alert-info\">Одинокие люди, ранее побывавшие в браке, имеют меньше просрочек, чем люди, в браке не бывавшие никогда"
   ]
  },
  {
   "cell_type": "markdown",
   "id": "0337eb69",
   "metadata": {},
   "source": [
    "##### Есть ли зависимость между уровнем дохода и возвратом кредита в срок?"
   ]
  },
  {
   "cell_type": "code",
   "execution_count": 37,
   "id": "7fac1710",
   "metadata": {},
   "outputs": [
    {
     "data": {
      "text/html": [
       "<div>\n",
       "<style scoped>\n",
       "    .dataframe tbody tr th:only-of-type {\n",
       "        vertical-align: middle;\n",
       "    }\n",
       "\n",
       "    .dataframe tbody tr th {\n",
       "        vertical-align: top;\n",
       "    }\n",
       "\n",
       "    .dataframe thead th {\n",
       "        text-align: right;\n",
       "    }\n",
       "</style>\n",
       "<table border=\"1\" class=\"dataframe\">\n",
       "  <thead>\n",
       "    <tr style=\"text-align: right;\">\n",
       "      <th></th>\n",
       "      <th>debtors</th>\n",
       "      <th>debts</th>\n",
       "      <th>conversion</th>\n",
       "    </tr>\n",
       "    <tr>\n",
       "      <th>total_income_category</th>\n",
       "      <th></th>\n",
       "      <th></th>\n",
       "      <th></th>\n",
       "    </tr>\n",
       "  </thead>\n",
       "  <tbody>\n",
       "    <tr>\n",
       "      <th>D</th>\n",
       "      <td>350</td>\n",
       "      <td>21</td>\n",
       "      <td>0.060000</td>\n",
       "    </tr>\n",
       "    <tr>\n",
       "      <th>B</th>\n",
       "      <td>5040</td>\n",
       "      <td>356</td>\n",
       "      <td>0.070635</td>\n",
       "    </tr>\n",
       "    <tr>\n",
       "      <th>A</th>\n",
       "      <td>26</td>\n",
       "      <td>2</td>\n",
       "      <td>0.076923</td>\n",
       "    </tr>\n",
       "    <tr>\n",
       "      <th>C</th>\n",
       "      <td>16033</td>\n",
       "      <td>1360</td>\n",
       "      <td>0.084825</td>\n",
       "    </tr>\n",
       "    <tr>\n",
       "      <th>E</th>\n",
       "      <td>22</td>\n",
       "      <td>2</td>\n",
       "      <td>0.090909</td>\n",
       "    </tr>\n",
       "  </tbody>\n",
       "</table>\n",
       "</div>"
      ],
      "text/plain": [
       "                       debtors  debts  conversion\n",
       "total_income_category                            \n",
       "D                          350     21    0.060000\n",
       "B                         5040    356    0.070635\n",
       "A                           26      2    0.076923\n",
       "C                        16033   1360    0.084825\n",
       "E                           22      2    0.090909"
      ]
     },
     "execution_count": 37,
     "metadata": {},
     "output_type": "execute_result"
    }
   ],
   "source": [
    "#найдем конверсию\n",
    "income_debt = pd.DataFrame()\n",
    "income_debt['debtors'] = data.groupby('total_income_category')['debt'].count() #количество заемщиков \n",
    "income_debt['debts'] = data.groupby('total_income_category')['debt'].sum() #количество просрочек\n",
    "income_debt['conversion'] = (income_debt['debts'] / income_debt['debtors']) #конверсия\n",
    "income_debt.sort_values(by='conversion')"
   ]
  },
  {
   "cell_type": "markdown",
   "id": "b05df2aa",
   "metadata": {},
   "source": [
    "<div class=\"alert alert-info\">Исходя из таблицы, уровень дохода не влияет на дисциплинированность по возврату кредита. Зависимсоть прослеживается, хоть и небольшая.\n",
    "    \n"
   ]
  },
  {
   "cell_type": "markdown",
   "id": "a1556326",
   "metadata": {},
   "source": [
    "##### Как разные цели кредита влияют на его возврат в срок?"
   ]
  },
  {
   "cell_type": "code",
   "execution_count": 38,
   "id": "00430610",
   "metadata": {},
   "outputs": [
    {
     "data": {
      "text/html": [
       "<div>\n",
       "<style scoped>\n",
       "    .dataframe tbody tr th:only-of-type {\n",
       "        vertical-align: middle;\n",
       "    }\n",
       "\n",
       "    .dataframe tbody tr th {\n",
       "        vertical-align: top;\n",
       "    }\n",
       "\n",
       "    .dataframe thead th {\n",
       "        text-align: right;\n",
       "    }\n",
       "</style>\n",
       "<table border=\"1\" class=\"dataframe\">\n",
       "  <thead>\n",
       "    <tr style=\"text-align: right;\">\n",
       "      <th></th>\n",
       "      <th>debtors</th>\n",
       "      <th>debts</th>\n",
       "      <th>conversion</th>\n",
       "    </tr>\n",
       "    <tr>\n",
       "      <th>purpose_category</th>\n",
       "      <th></th>\n",
       "      <th></th>\n",
       "      <th></th>\n",
       "    </tr>\n",
       "  </thead>\n",
       "  <tbody>\n",
       "    <tr>\n",
       "      <th>операции с недвижимостью</th>\n",
       "      <td>10814</td>\n",
       "      <td>782</td>\n",
       "      <td>0.072314</td>\n",
       "    </tr>\n",
       "    <tr>\n",
       "      <th>проведение свадьбы</th>\n",
       "      <td>2335</td>\n",
       "      <td>186</td>\n",
       "      <td>0.079657</td>\n",
       "    </tr>\n",
       "    <tr>\n",
       "      <th>получение образования</th>\n",
       "      <td>4014</td>\n",
       "      <td>370</td>\n",
       "      <td>0.092177</td>\n",
       "    </tr>\n",
       "    <tr>\n",
       "      <th>операции с автомобилем</th>\n",
       "      <td>4308</td>\n",
       "      <td>403</td>\n",
       "      <td>0.093547</td>\n",
       "    </tr>\n",
       "  </tbody>\n",
       "</table>\n",
       "</div>"
      ],
      "text/plain": [
       "                          debtors  debts  conversion\n",
       "purpose_category                                    \n",
       "операции с недвижимостью    10814    782    0.072314\n",
       "проведение свадьбы           2335    186    0.079657\n",
       "получение образования        4014    370    0.092177\n",
       "операции с автомобилем       4308    403    0.093547"
      ]
     },
     "execution_count": 38,
     "metadata": {},
     "output_type": "execute_result"
    }
   ],
   "source": [
    "#найдем конверсию\n",
    "purpose_debt = pd.DataFrame()\n",
    "purpose_debt['debtors'] = data.groupby('purpose_category')['debt'].count() #количество заемщиков \n",
    "purpose_debt['debts'] = data.groupby('purpose_category')['debt'].sum() #количество просрочек\n",
    "purpose_debt['conversion'] = (purpose_debt['debts'] / purpose_debt['debtors']) #конверсия \n",
    "purpose_debt.sort_values(by='conversion')"
   ]
  },
  {
   "cell_type": "markdown",
   "id": "580817bd",
   "metadata": {},
   "source": [
    "<div class=\"alert alert-info\">Меньше всего просрочек у тех, кто берёт для сделок с недвижимостью, больше всего - у автозаёмщиков. "
   ]
  },
  {
   "cell_type": "markdown",
   "id": "03ce9d6d",
   "metadata": {},
   "source": [
    "## Общий вывод:"
   ]
  },
  {
   "cell_type": "markdown",
   "id": "9ca26dfd",
   "metadata": {},
   "source": [
    "<div class=\"alert alert-info\"> Как видно из обработанных данных, чаще всего за кредитом обращаются семьи без детей со средним достатком для приобретения жилья. Вдовы/вдовцы и разведенные чаще соблюдают сроки погашения. Несвоевременные выплаты по кредитам/займам характерны для одиноких людей, не бывавших в браке. Больше всего просрочек по автокредитам. Так же проявляется неявная зависимость между просрочками и бОльшим количеством детей, однако данная гипотеза требует дополнительного исследования. Зависимость просрочек от уровня дохода заёмщика отсутствует. "
   ]
  }
 ],
 "metadata": {
  "ExecuteTimeLog": [
   {
    "duration": 44,
    "start_time": "2022-03-19T16:48:34.637Z"
   },
   {
    "duration": 373,
    "start_time": "2022-03-19T16:48:42.513Z"
   },
   {
    "duration": 92,
    "start_time": "2022-03-19T16:48:44.337Z"
   },
   {
    "duration": 67,
    "start_time": "2022-03-19T16:50:02.683Z"
   },
   {
    "duration": 67,
    "start_time": "2022-03-19T16:50:29.068Z"
   },
   {
    "duration": 19,
    "start_time": "2022-03-19T16:51:31.137Z"
   },
   {
    "duration": 10,
    "start_time": "2022-03-19T16:51:47.081Z"
   },
   {
    "duration": 10,
    "start_time": "2022-03-19T16:54:54.797Z"
   },
   {
    "duration": 11,
    "start_time": "2022-03-19T16:58:17.294Z"
   },
   {
    "duration": 15,
    "start_time": "2022-03-19T17:04:02.974Z"
   },
   {
    "duration": 5,
    "start_time": "2022-03-19T17:07:12.868Z"
   },
   {
    "duration": 39,
    "start_time": "2022-03-19T17:07:40.850Z"
   },
   {
    "duration": 4,
    "start_time": "2022-03-19T17:08:19.153Z"
   },
   {
    "duration": 40,
    "start_time": "2022-03-19T17:09:54.376Z"
   },
   {
    "duration": 7,
    "start_time": "2022-03-19T17:10:28.064Z"
   },
   {
    "duration": 7,
    "start_time": "2022-03-19T17:10:58.076Z"
   },
   {
    "duration": 25,
    "start_time": "2022-03-19T17:23:51.211Z"
   },
   {
    "duration": 18,
    "start_time": "2022-03-19T17:24:17.379Z"
   },
   {
    "duration": 11,
    "start_time": "2022-03-19T17:24:33.208Z"
   },
   {
    "duration": 10,
    "start_time": "2022-03-19T17:24:42.868Z"
   },
   {
    "duration": 13,
    "start_time": "2022-03-19T17:24:59.388Z"
   },
   {
    "duration": 20,
    "start_time": "2022-03-19T17:25:11.559Z"
   },
   {
    "duration": 7,
    "start_time": "2022-03-19T17:26:32.171Z"
   },
   {
    "duration": 6,
    "start_time": "2022-03-19T17:26:48.432Z"
   },
   {
    "duration": 4,
    "start_time": "2022-03-19T17:26:59.580Z"
   },
   {
    "duration": 4,
    "start_time": "2022-03-19T17:27:15.344Z"
   },
   {
    "duration": 4,
    "start_time": "2022-03-19T17:27:32.928Z"
   },
   {
    "duration": 4,
    "start_time": "2022-03-19T17:27:40.004Z"
   },
   {
    "duration": 6,
    "start_time": "2022-03-19T17:28:04.727Z"
   },
   {
    "duration": 7,
    "start_time": "2022-03-19T17:31:10.827Z"
   },
   {
    "duration": 5,
    "start_time": "2022-03-19T17:31:33.012Z"
   },
   {
    "duration": 7,
    "start_time": "2022-03-19T17:33:48.027Z"
   },
   {
    "duration": 6,
    "start_time": "2022-03-19T17:34:05.587Z"
   },
   {
    "duration": 20,
    "start_time": "2022-03-19T17:35:08.775Z"
   },
   {
    "duration": 6005,
    "start_time": "2022-03-19T17:35:34.971Z"
   },
   {
    "duration": 14,
    "start_time": "2022-03-19T17:36:08.596Z"
   },
   {
    "duration": 6,
    "start_time": "2022-03-19T17:38:08.451Z"
   },
   {
    "duration": 6,
    "start_time": "2022-03-19T17:38:41.419Z"
   },
   {
    "duration": 13,
    "start_time": "2022-03-19T17:38:56.811Z"
   },
   {
    "duration": 4,
    "start_time": "2022-03-19T17:44:47.187Z"
   },
   {
    "duration": 5,
    "start_time": "2022-03-19T17:45:08.287Z"
   },
   {
    "duration": 9,
    "start_time": "2022-03-19T17:45:26.822Z"
   },
   {
    "duration": 6,
    "start_time": "2022-03-19T17:45:32.739Z"
   },
   {
    "duration": 8,
    "start_time": "2022-03-19T17:52:24.931Z"
   },
   {
    "duration": 8,
    "start_time": "2022-03-19T17:52:44.422Z"
   },
   {
    "duration": 8,
    "start_time": "2022-03-19T17:53:04.343Z"
   },
   {
    "duration": 3462,
    "start_time": "2022-03-19T17:53:11.576Z"
   },
   {
    "duration": 4,
    "start_time": "2022-03-19T17:53:33.587Z"
   },
   {
    "duration": 5,
    "start_time": "2022-03-19T17:53:45.851Z"
   },
   {
    "duration": 5,
    "start_time": "2022-03-19T17:53:59.786Z"
   },
   {
    "duration": 5,
    "start_time": "2022-03-19T17:54:14.567Z"
   },
   {
    "duration": 27,
    "start_time": "2022-03-19T17:54:37.766Z"
   },
   {
    "duration": 10,
    "start_time": "2022-03-19T17:54:49.894Z"
   },
   {
    "duration": 10,
    "start_time": "2022-03-19T17:55:20.703Z"
   },
   {
    "duration": 12,
    "start_time": "2022-03-19T17:58:51.415Z"
   },
   {
    "duration": 12,
    "start_time": "2022-03-19T17:58:53.967Z"
   },
   {
    "duration": 4,
    "start_time": "2022-03-19T18:01:53.975Z"
   },
   {
    "duration": 4,
    "start_time": "2022-03-19T18:02:04.966Z"
   },
   {
    "duration": 4,
    "start_time": "2022-03-19T18:02:29.775Z"
   },
   {
    "duration": 10,
    "start_time": "2022-03-19T18:03:39.206Z"
   },
   {
    "duration": 10,
    "start_time": "2022-03-19T18:04:14.210Z"
   },
   {
    "duration": 3,
    "start_time": "2022-03-19T18:04:55.525Z"
   },
   {
    "duration": 13,
    "start_time": "2022-03-19T18:05:16.083Z"
   },
   {
    "duration": 4,
    "start_time": "2022-03-19T18:05:45.699Z"
   },
   {
    "duration": 5,
    "start_time": "2022-03-19T18:07:43.698Z"
   },
   {
    "duration": 10,
    "start_time": "2022-03-19T18:09:37.075Z"
   },
   {
    "duration": 8,
    "start_time": "2022-03-19T18:10:03.091Z"
   },
   {
    "duration": 2,
    "start_time": "2022-03-19T18:11:29.526Z"
   },
   {
    "duration": 12,
    "start_time": "2022-03-19T18:11:46.462Z"
   },
   {
    "duration": 9,
    "start_time": "2022-03-19T18:11:54.158Z"
   },
   {
    "duration": 4,
    "start_time": "2022-03-19T18:13:56.774Z"
   },
   {
    "duration": 5,
    "start_time": "2022-03-19T18:14:38.113Z"
   },
   {
    "duration": 4,
    "start_time": "2022-03-19T18:15:00.534Z"
   },
   {
    "duration": 4,
    "start_time": "2022-03-19T18:15:37.761Z"
   },
   {
    "duration": 12,
    "start_time": "2022-03-19T18:16:44.406Z"
   },
   {
    "duration": 11,
    "start_time": "2022-03-19T18:17:13.053Z"
   },
   {
    "duration": 5,
    "start_time": "2022-03-19T18:17:49.777Z"
   },
   {
    "duration": 5,
    "start_time": "2022-03-19T18:24:36.915Z"
   },
   {
    "duration": 11,
    "start_time": "2022-03-19T18:26:26.693Z"
   },
   {
    "duration": 5,
    "start_time": "2022-03-19T18:31:10.073Z"
   },
   {
    "duration": 5,
    "start_time": "2022-03-19T18:31:45.356Z"
   },
   {
    "duration": 11,
    "start_time": "2022-03-19T18:32:22.097Z"
   },
   {
    "duration": 4,
    "start_time": "2022-03-19T18:33:17.181Z"
   },
   {
    "duration": 11,
    "start_time": "2022-03-19T18:33:21.061Z"
   },
   {
    "duration": 2,
    "start_time": "2022-03-19T18:35:48.073Z"
   },
   {
    "duration": 6,
    "start_time": "2022-03-19T18:46:41.372Z"
   },
   {
    "duration": 6,
    "start_time": "2022-03-19T18:48:20.340Z"
   },
   {
    "duration": 19,
    "start_time": "2022-03-19T18:51:06.252Z"
   },
   {
    "duration": 43,
    "start_time": "2022-03-19T18:51:50.860Z"
   },
   {
    "duration": 17,
    "start_time": "2022-03-19T18:52:09.852Z"
   },
   {
    "duration": 17,
    "start_time": "2022-03-19T18:52:23.193Z"
   },
   {
    "duration": 16,
    "start_time": "2022-03-19T18:52:38.224Z"
   },
   {
    "duration": 15,
    "start_time": "2022-03-19T18:52:49.956Z"
   },
   {
    "duration": 33,
    "start_time": "2022-03-19T18:55:28.536Z"
   },
   {
    "duration": 18,
    "start_time": "2022-03-19T18:55:51.448Z"
   },
   {
    "duration": 31,
    "start_time": "2022-03-19T18:56:02.995Z"
   },
   {
    "duration": 7,
    "start_time": "2022-03-19T18:56:47.948Z"
   },
   {
    "duration": 37,
    "start_time": "2022-03-19T18:58:08.764Z"
   },
   {
    "duration": 8,
    "start_time": "2022-03-19T19:07:26.935Z"
   },
   {
    "duration": 8,
    "start_time": "2022-03-19T19:08:01.349Z"
   },
   {
    "duration": 13,
    "start_time": "2022-03-19T19:09:15.615Z"
   },
   {
    "duration": 7,
    "start_time": "2022-03-19T19:09:28.524Z"
   },
   {
    "duration": 11,
    "start_time": "2022-03-19T19:09:50.268Z"
   },
   {
    "duration": 39,
    "start_time": "2022-03-19T19:14:21.858Z"
   },
   {
    "duration": 6,
    "start_time": "2022-03-19T19:15:14.442Z"
   },
   {
    "duration": 9,
    "start_time": "2022-03-19T19:15:27.785Z"
   },
   {
    "duration": 6,
    "start_time": "2022-03-19T19:15:46.498Z"
   },
   {
    "duration": 4,
    "start_time": "2022-03-19T19:16:01.546Z"
   },
   {
    "duration": 4,
    "start_time": "2022-03-19T19:16:09.902Z"
   },
   {
    "duration": 5,
    "start_time": "2022-03-19T19:16:48.433Z"
   },
   {
    "duration": 19,
    "start_time": "2022-03-19T19:17:23.677Z"
   },
   {
    "duration": 11,
    "start_time": "2022-03-19T19:17:50.434Z"
   },
   {
    "duration": 14,
    "start_time": "2022-03-19T19:18:08.794Z"
   },
   {
    "duration": 13,
    "start_time": "2022-03-19T19:18:20.146Z"
   },
   {
    "duration": 4,
    "start_time": "2022-03-19T19:18:59.498Z"
   },
   {
    "duration": 7,
    "start_time": "2022-03-19T19:19:12.854Z"
   },
   {
    "duration": 7,
    "start_time": "2022-03-19T19:19:28.113Z"
   },
   {
    "duration": 15,
    "start_time": "2022-03-19T19:20:01.738Z"
   },
   {
    "duration": 12,
    "start_time": "2022-03-19T19:20:08.565Z"
   },
   {
    "duration": 6,
    "start_time": "2022-03-19T19:21:12.697Z"
   },
   {
    "duration": 7,
    "start_time": "2022-03-19T19:21:36.349Z"
   },
   {
    "duration": 7,
    "start_time": "2022-03-19T19:22:38.745Z"
   },
   {
    "duration": 7,
    "start_time": "2022-03-19T19:22:58.570Z"
   },
   {
    "duration": 200,
    "start_time": "2022-03-19T19:23:13.101Z"
   },
   {
    "duration": 16,
    "start_time": "2022-03-19T19:25:47.529Z"
   },
   {
    "duration": 15,
    "start_time": "2022-03-19T19:26:27.945Z"
   },
   {
    "duration": 4,
    "start_time": "2022-03-19T19:27:17.749Z"
   },
   {
    "duration": 7,
    "start_time": "2022-03-19T19:27:24.533Z"
   },
   {
    "duration": 8,
    "start_time": "2022-03-19T19:27:45.257Z"
   },
   {
    "duration": 7,
    "start_time": "2022-03-19T19:28:20.581Z"
   },
   {
    "duration": 4,
    "start_time": "2022-03-19T20:53:55.650Z"
   },
   {
    "duration": 11,
    "start_time": "2022-03-19T20:54:08.786Z"
   },
   {
    "duration": 12,
    "start_time": "2022-03-19T20:56:18.054Z"
   },
   {
    "duration": 198,
    "start_time": "2022-03-19T21:00:06.034Z"
   },
   {
    "duration": 14,
    "start_time": "2022-03-19T21:00:19.534Z"
   },
   {
    "duration": 14,
    "start_time": "2022-03-19T21:01:10.614Z"
   },
   {
    "duration": 192,
    "start_time": "2022-03-19T21:03:44.297Z"
   },
   {
    "duration": 17,
    "start_time": "2022-03-19T21:04:17.314Z"
   },
   {
    "duration": 16,
    "start_time": "2022-03-19T21:04:45.019Z"
   },
   {
    "duration": 12,
    "start_time": "2022-03-19T21:05:24.606Z"
   },
   {
    "duration": 17,
    "start_time": "2022-03-19T21:18:56.821Z"
   },
   {
    "duration": 6,
    "start_time": "2022-03-19T21:20:36.245Z"
   },
   {
    "duration": 7,
    "start_time": "2022-03-19T21:21:53.370Z"
   },
   {
    "duration": 7,
    "start_time": "2022-03-19T21:21:59.613Z"
   },
   {
    "duration": 6,
    "start_time": "2022-03-19T21:22:13.657Z"
   },
   {
    "duration": 18,
    "start_time": "2022-03-19T21:35:01.737Z"
   },
   {
    "duration": 10,
    "start_time": "2022-03-19T22:10:17.535Z"
   },
   {
    "duration": 398,
    "start_time": "2022-03-19T22:11:05.469Z"
   },
   {
    "duration": 86,
    "start_time": "2022-03-19T22:11:14.321Z"
   },
   {
    "duration": 15,
    "start_time": "2022-03-19T22:11:18.381Z"
   },
   {
    "duration": 10,
    "start_time": "2022-03-19T22:11:22.720Z"
   },
   {
    "duration": 14,
    "start_time": "2022-03-19T22:12:16.009Z"
   },
   {
    "duration": 200,
    "start_time": "2022-03-19T22:13:14.477Z"
   },
   {
    "duration": 4,
    "start_time": "2022-03-19T22:13:42.581Z"
   },
   {
    "duration": 5,
    "start_time": "2022-03-19T22:13:57.240Z"
   },
   {
    "duration": 177,
    "start_time": "2022-03-19T22:18:27.512Z"
   },
   {
    "duration": 65,
    "start_time": "2022-03-19T22:23:31.492Z"
   },
   {
    "duration": 5,
    "start_time": "2022-03-19T22:23:40.236Z"
   },
   {
    "duration": 10,
    "start_time": "2022-03-19T22:23:44.476Z"
   },
   {
    "duration": 5,
    "start_time": "2022-03-19T22:23:51.512Z"
   },
   {
    "duration": 5,
    "start_time": "2022-03-19T22:23:53.637Z"
   },
   {
    "duration": 12,
    "start_time": "2022-03-19T22:23:56.296Z"
   },
   {
    "duration": 7,
    "start_time": "2022-03-19T22:23:59.255Z"
   },
   {
    "duration": 8,
    "start_time": "2022-03-19T22:24:33.408Z"
   },
   {
    "duration": 218,
    "start_time": "2022-03-19T22:27:14.227Z"
   },
   {
    "duration": 6,
    "start_time": "2022-03-19T22:35:57.127Z"
   },
   {
    "duration": 6,
    "start_time": "2022-03-19T22:36:07.440Z"
   },
   {
    "duration": 17,
    "start_time": "2022-03-19T22:37:59.379Z"
   },
   {
    "duration": 14,
    "start_time": "2022-03-19T22:38:17.404Z"
   },
   {
    "duration": 34,
    "start_time": "2022-03-19T22:38:22.507Z"
   },
   {
    "duration": 5,
    "start_time": "2022-03-19T22:38:28.551Z"
   },
   {
    "duration": 16,
    "start_time": "2022-03-19T22:38:30.824Z"
   },
   {
    "duration": 7,
    "start_time": "2022-03-19T22:38:34.887Z"
   },
   {
    "duration": 18,
    "start_time": "2022-03-19T22:38:35.447Z"
   },
   {
    "duration": 7,
    "start_time": "2022-03-19T22:38:36.059Z"
   },
   {
    "duration": 8,
    "start_time": "2022-03-19T22:38:36.639Z"
   },
   {
    "duration": 7,
    "start_time": "2022-03-19T22:38:37.107Z"
   },
   {
    "duration": 12,
    "start_time": "2022-03-19T22:38:40.823Z"
   },
   {
    "duration": 13,
    "start_time": "2022-03-19T22:38:41.120Z"
   },
   {
    "duration": 11,
    "start_time": "2022-03-19T22:38:41.395Z"
   },
   {
    "duration": 16,
    "start_time": "2022-03-19T22:38:41.924Z"
   },
   {
    "duration": 6,
    "start_time": "2022-03-19T22:38:42.451Z"
   },
   {
    "duration": 16,
    "start_time": "2022-03-19T22:38:42.711Z"
   },
   {
    "duration": 402,
    "start_time": "2022-03-19T23:00:15.893Z"
   },
   {
    "duration": 79,
    "start_time": "2022-03-19T23:00:19.115Z"
   },
   {
    "duration": 15,
    "start_time": "2022-03-19T23:00:20.585Z"
   },
   {
    "duration": 9,
    "start_time": "2022-03-19T23:00:24.217Z"
   },
   {
    "duration": 13,
    "start_time": "2022-03-19T23:00:24.745Z"
   },
   {
    "duration": 5,
    "start_time": "2022-03-19T23:00:25.917Z"
   },
   {
    "duration": 5,
    "start_time": "2022-03-19T23:00:27.349Z"
   },
   {
    "duration": 5,
    "start_time": "2022-03-19T23:00:27.621Z"
   },
   {
    "duration": 12,
    "start_time": "2022-03-19T23:00:27.925Z"
   },
   {
    "duration": 5,
    "start_time": "2022-03-19T23:00:29.341Z"
   },
   {
    "duration": 6,
    "start_time": "2022-03-19T23:00:30.389Z"
   },
   {
    "duration": 17,
    "start_time": "2022-03-19T23:00:31.193Z"
   },
   {
    "duration": 31,
    "start_time": "2022-03-19T23:00:31.430Z"
   },
   {
    "duration": 5,
    "start_time": "2022-03-19T23:00:31.645Z"
   },
   {
    "duration": 16,
    "start_time": "2022-03-19T23:00:31.917Z"
   },
   {
    "duration": 6,
    "start_time": "2022-03-19T23:00:32.229Z"
   },
   {
    "duration": 17,
    "start_time": "2022-03-19T23:00:32.805Z"
   },
   {
    "duration": 7,
    "start_time": "2022-03-19T23:00:33.809Z"
   },
   {
    "duration": 8,
    "start_time": "2022-03-19T23:00:34.293Z"
   },
   {
    "duration": 8,
    "start_time": "2022-03-19T23:00:34.717Z"
   },
   {
    "duration": 14,
    "start_time": "2022-03-19T23:00:42.461Z"
   },
   {
    "duration": 14,
    "start_time": "2022-03-19T23:00:43.553Z"
   },
   {
    "duration": 13,
    "start_time": "2022-03-19T23:00:44.249Z"
   },
   {
    "duration": 19,
    "start_time": "2022-03-19T23:00:46.397Z"
   },
   {
    "duration": 6,
    "start_time": "2022-03-19T23:00:50.297Z"
   },
   {
    "duration": 17,
    "start_time": "2022-03-19T23:00:51.345Z"
   },
   {
    "duration": 7,
    "start_time": "2022-03-19T23:12:42.028Z"
   },
   {
    "duration": 7,
    "start_time": "2022-03-19T23:12:59.256Z"
   },
   {
    "duration": 12,
    "start_time": "2022-03-19T23:17:04.328Z"
   },
   {
    "duration": 7,
    "start_time": "2022-03-19T23:17:24.521Z"
   },
   {
    "duration": 8,
    "start_time": "2022-03-19T23:17:39.528Z"
   },
   {
    "duration": 8,
    "start_time": "2022-03-19T23:18:09.165Z"
   },
   {
    "duration": 10,
    "start_time": "2022-03-19T23:19:06.792Z"
   },
   {
    "duration": 10,
    "start_time": "2022-03-19T23:20:28.208Z"
   },
   {
    "duration": 10,
    "start_time": "2022-03-19T23:26:05.378Z"
   },
   {
    "duration": 6,
    "start_time": "2022-03-19T23:38:14.036Z"
   },
   {
    "duration": 670,
    "start_time": "2022-03-19T23:39:02.468Z"
   },
   {
    "duration": 4,
    "start_time": "2022-03-19T23:39:19.935Z"
   },
   {
    "duration": 15,
    "start_time": "2022-03-19T23:41:21.507Z"
   },
   {
    "duration": 20,
    "start_time": "2022-03-19T23:47:00.507Z"
   },
   {
    "duration": 29,
    "start_time": "2022-03-19T23:47:09.132Z"
   },
   {
    "duration": 382,
    "start_time": "2022-03-19T23:47:54.079Z"
   },
   {
    "duration": 76,
    "start_time": "2022-03-19T23:47:55.566Z"
   },
   {
    "duration": 14,
    "start_time": "2022-03-19T23:48:00.362Z"
   },
   {
    "duration": 10,
    "start_time": "2022-03-19T23:48:21.362Z"
   },
   {
    "duration": 11,
    "start_time": "2022-03-19T23:48:24.107Z"
   },
   {
    "duration": 4,
    "start_time": "2022-03-19T23:48:29.338Z"
   },
   {
    "duration": 5,
    "start_time": "2022-03-19T23:48:32.342Z"
   },
   {
    "duration": 5,
    "start_time": "2022-03-19T23:48:33.050Z"
   },
   {
    "duration": 11,
    "start_time": "2022-03-19T23:48:33.682Z"
   },
   {
    "duration": 6,
    "start_time": "2022-03-19T23:48:40.522Z"
   },
   {
    "duration": 5,
    "start_time": "2022-03-19T23:48:50.556Z"
   },
   {
    "duration": 16,
    "start_time": "2022-03-19T23:48:55.574Z"
   },
   {
    "duration": 30,
    "start_time": "2022-03-19T23:48:59.618Z"
   },
   {
    "duration": 4,
    "start_time": "2022-03-19T23:49:09.762Z"
   },
   {
    "duration": 16,
    "start_time": "2022-03-19T23:49:11.142Z"
   },
   {
    "duration": 6,
    "start_time": "2022-03-19T23:49:11.770Z"
   },
   {
    "duration": 17,
    "start_time": "2022-03-19T23:49:12.586Z"
   },
   {
    "duration": 7,
    "start_time": "2022-03-19T23:49:13.170Z"
   },
   {
    "duration": 8,
    "start_time": "2022-03-19T23:49:13.614Z"
   },
   {
    "duration": 7,
    "start_time": "2022-03-19T23:49:15.047Z"
   },
   {
    "duration": 14,
    "start_time": "2022-03-19T23:49:20.484Z"
   },
   {
    "duration": 13,
    "start_time": "2022-03-19T23:49:21.794Z"
   },
   {
    "duration": 11,
    "start_time": "2022-03-19T23:49:22.858Z"
   },
   {
    "duration": 17,
    "start_time": "2022-03-19T23:49:27.776Z"
   },
   {
    "duration": 5,
    "start_time": "2022-03-19T23:49:32.296Z"
   },
   {
    "duration": 16,
    "start_time": "2022-03-19T23:49:33.283Z"
   },
   {
    "duration": 14,
    "start_time": "2022-03-19T23:49:35.118Z"
   },
   {
    "duration": 7,
    "start_time": "2022-03-20T00:02:48.009Z"
   },
   {
    "duration": 580,
    "start_time": "2022-03-20T00:04:01.125Z"
   },
   {
    "duration": 4,
    "start_time": "2022-03-20T00:04:17.933Z"
   },
   {
    "duration": 7,
    "start_time": "2022-03-20T00:05:20.977Z"
   },
   {
    "duration": 3,
    "start_time": "2022-03-20T00:06:09.390Z"
   },
   {
    "duration": 8,
    "start_time": "2022-03-20T00:11:28.473Z"
   },
   {
    "duration": 6,
    "start_time": "2022-03-20T00:12:39.237Z"
   },
   {
    "duration": 5,
    "start_time": "2022-03-20T00:13:09.870Z"
   },
   {
    "duration": 4,
    "start_time": "2022-03-20T00:13:41.857Z"
   },
   {
    "duration": 6,
    "start_time": "2022-03-20T00:14:05.993Z"
   },
   {
    "duration": 5,
    "start_time": "2022-03-20T00:14:55.066Z"
   },
   {
    "duration": 7,
    "start_time": "2022-03-20T00:15:27.521Z"
   },
   {
    "duration": 6,
    "start_time": "2022-03-20T00:15:53.426Z"
   },
   {
    "duration": 6,
    "start_time": "2022-03-20T00:16:02.518Z"
   },
   {
    "duration": 5,
    "start_time": "2022-03-20T00:16:14.785Z"
   },
   {
    "duration": 5,
    "start_time": "2022-03-20T00:16:53.025Z"
   },
   {
    "duration": 16,
    "start_time": "2022-03-20T00:16:54.929Z"
   },
   {
    "duration": 6,
    "start_time": "2022-03-20T00:16:55.938Z"
   },
   {
    "duration": 4,
    "start_time": "2022-03-20T00:16:57.537Z"
   },
   {
    "duration": 6,
    "start_time": "2022-03-20T00:17:00.670Z"
   },
   {
    "duration": 5,
    "start_time": "2022-03-20T00:23:37.753Z"
   },
   {
    "duration": 7,
    "start_time": "2022-03-20T00:27:11.433Z"
   },
   {
    "duration": 8,
    "start_time": "2022-03-20T00:28:10.077Z"
   },
   {
    "duration": 57,
    "start_time": "2022-03-20T00:37:48.288Z"
   },
   {
    "duration": 7,
    "start_time": "2022-03-20T00:38:09.800Z"
   },
   {
    "duration": 8,
    "start_time": "2022-03-20T00:39:28.089Z"
   },
   {
    "duration": 7,
    "start_time": "2022-03-20T00:43:32.771Z"
   },
   {
    "duration": 8,
    "start_time": "2022-03-20T00:50:07.583Z"
   },
   {
    "duration": 7,
    "start_time": "2022-03-20T00:53:02.895Z"
   },
   {
    "duration": 10,
    "start_time": "2022-03-20T00:54:12.899Z"
   },
   {
    "duration": 19,
    "start_time": "2022-03-20T00:58:08.600Z"
   },
   {
    "duration": 12,
    "start_time": "2022-03-20T00:58:31.401Z"
   },
   {
    "duration": 13,
    "start_time": "2022-03-20T00:59:01.952Z"
   },
   {
    "duration": 12,
    "start_time": "2022-03-20T00:59:46.475Z"
   },
   {
    "duration": 8,
    "start_time": "2022-03-20T01:02:14.608Z"
   },
   {
    "duration": 12,
    "start_time": "2022-03-20T01:02:23.252Z"
   },
   {
    "duration": 3440,
    "start_time": "2022-03-20T01:04:44.784Z"
   },
   {
    "duration": 13,
    "start_time": "2022-03-20T01:05:21.723Z"
   },
   {
    "duration": 13,
    "start_time": "2022-03-20T01:06:20.107Z"
   },
   {
    "duration": 339,
    "start_time": "2022-03-20T01:07:54.624Z"
   },
   {
    "duration": 80,
    "start_time": "2022-03-20T01:07:55.678Z"
   },
   {
    "duration": 15,
    "start_time": "2022-03-20T01:07:59.008Z"
   },
   {
    "duration": 11,
    "start_time": "2022-03-20T01:08:03.659Z"
   },
   {
    "duration": 13,
    "start_time": "2022-03-20T01:08:04.238Z"
   },
   {
    "duration": 4,
    "start_time": "2022-03-20T01:08:05.608Z"
   },
   {
    "duration": 6,
    "start_time": "2022-03-20T01:08:06.650Z"
   },
   {
    "duration": 5,
    "start_time": "2022-03-20T01:08:06.904Z"
   },
   {
    "duration": 13,
    "start_time": "2022-03-20T01:08:07.160Z"
   },
   {
    "duration": 6,
    "start_time": "2022-03-20T01:08:08.388Z"
   },
   {
    "duration": 6,
    "start_time": "2022-03-20T01:08:09.384Z"
   },
   {
    "duration": 18,
    "start_time": "2022-03-20T01:08:10.076Z"
   },
   {
    "duration": 31,
    "start_time": "2022-03-20T01:08:10.288Z"
   },
   {
    "duration": 6,
    "start_time": "2022-03-20T01:08:10.508Z"
   },
   {
    "duration": 16,
    "start_time": "2022-03-20T01:08:10.780Z"
   },
   {
    "duration": 6,
    "start_time": "2022-03-20T01:08:11.008Z"
   },
   {
    "duration": 7,
    "start_time": "2022-03-20T01:08:11.231Z"
   },
   {
    "duration": 7,
    "start_time": "2022-03-20T01:08:11.471Z"
   },
   {
    "duration": 18,
    "start_time": "2022-03-20T01:08:11.688Z"
   },
   {
    "duration": 6,
    "start_time": "2022-03-20T01:08:11.952Z"
   },
   {
    "duration": 9,
    "start_time": "2022-03-20T01:08:12.196Z"
   },
   {
    "duration": 8,
    "start_time": "2022-03-20T01:08:12.418Z"
   },
   {
    "duration": 16,
    "start_time": "2022-03-20T01:08:14.263Z"
   },
   {
    "duration": 12,
    "start_time": "2022-03-20T01:08:14.536Z"
   },
   {
    "duration": 12,
    "start_time": "2022-03-20T01:08:14.779Z"
   },
   {
    "duration": 18,
    "start_time": "2022-03-20T01:08:15.484Z"
   },
   {
    "duration": 7,
    "start_time": "2022-03-20T01:08:15.768Z"
   },
   {
    "duration": 5,
    "start_time": "2022-03-20T01:08:16.040Z"
   },
   {
    "duration": 5,
    "start_time": "2022-03-20T01:08:17.740Z"
   },
   {
    "duration": 17,
    "start_time": "2022-03-20T01:08:18.000Z"
   },
   {
    "duration": 7,
    "start_time": "2022-03-20T01:08:18.252Z"
   },
   {
    "duration": 4,
    "start_time": "2022-03-20T01:08:18.516Z"
   },
   {
    "duration": 15,
    "start_time": "2022-03-20T01:08:19.288Z"
   },
   {
    "duration": 12,
    "start_time": "2022-03-20T01:09:12.180Z"
   },
   {
    "duration": 12,
    "start_time": "2022-03-20T01:10:08.973Z"
   },
   {
    "duration": 61,
    "start_time": "2022-03-20T01:18:34.089Z"
   },
   {
    "duration": 12,
    "start_time": "2022-03-20T01:19:36.968Z"
   },
   {
    "duration": 16,
    "start_time": "2022-03-20T01:25:45.274Z"
   },
   {
    "duration": 15,
    "start_time": "2022-03-20T01:26:09.633Z"
   },
   {
    "duration": 12,
    "start_time": "2022-03-20T01:26:33.259Z"
   },
   {
    "duration": 11,
    "start_time": "2022-03-20T01:26:46.132Z"
   },
   {
    "duration": 11,
    "start_time": "2022-03-20T01:30:49.173Z"
   },
   {
    "duration": 10,
    "start_time": "2022-03-20T01:31:31.078Z"
   },
   {
    "duration": 7,
    "start_time": "2022-03-20T01:31:40.286Z"
   },
   {
    "duration": 13,
    "start_time": "2022-03-20T01:31:48.375Z"
   },
   {
    "duration": 44,
    "start_time": "2022-03-20T01:32:07.682Z"
   },
   {
    "duration": 6,
    "start_time": "2022-03-20T01:32:08.081Z"
   },
   {
    "duration": 367,
    "start_time": "2022-03-20T01:32:15.702Z"
   },
   {
    "duration": 369,
    "start_time": "2022-03-20T01:32:24.501Z"
   },
   {
    "duration": 78,
    "start_time": "2022-03-20T01:32:26.542Z"
   },
   {
    "duration": 15,
    "start_time": "2022-03-20T01:32:27.593Z"
   },
   {
    "duration": 11,
    "start_time": "2022-03-20T01:32:30.377Z"
   },
   {
    "duration": 13,
    "start_time": "2022-03-20T01:32:31.136Z"
   },
   {
    "duration": 4,
    "start_time": "2022-03-20T01:32:33.001Z"
   },
   {
    "duration": 5,
    "start_time": "2022-03-20T01:32:35.355Z"
   },
   {
    "duration": 5,
    "start_time": "2022-03-20T01:32:36.065Z"
   },
   {
    "duration": 12,
    "start_time": "2022-03-20T01:32:36.757Z"
   },
   {
    "duration": 6,
    "start_time": "2022-03-20T01:32:43.948Z"
   },
   {
    "duration": 7,
    "start_time": "2022-03-20T01:32:50.112Z"
   },
   {
    "duration": 17,
    "start_time": "2022-03-20T01:32:54.161Z"
   },
   {
    "duration": 32,
    "start_time": "2022-03-20T01:32:55.740Z"
   },
   {
    "duration": 5,
    "start_time": "2022-03-20T01:32:59.469Z"
   },
   {
    "duration": 16,
    "start_time": "2022-03-20T01:33:02.333Z"
   },
   {
    "duration": 6,
    "start_time": "2022-03-20T01:33:02.953Z"
   },
   {
    "duration": 6,
    "start_time": "2022-03-20T01:33:04.405Z"
   },
   {
    "duration": 7,
    "start_time": "2022-03-20T01:33:08.528Z"
   },
   {
    "duration": 18,
    "start_time": "2022-03-20T01:33:09.776Z"
   },
   {
    "duration": 7,
    "start_time": "2022-03-20T01:33:18.624Z"
   },
   {
    "duration": 10,
    "start_time": "2022-03-20T01:33:19.252Z"
   },
   {
    "duration": 8,
    "start_time": "2022-03-20T01:33:20.437Z"
   },
   {
    "duration": 14,
    "start_time": "2022-03-20T01:33:27.476Z"
   },
   {
    "duration": 14,
    "start_time": "2022-03-20T01:33:31.777Z"
   },
   {
    "duration": 9,
    "start_time": "2022-03-20T01:33:53.273Z"
   },
   {
    "duration": 13,
    "start_time": "2022-03-20T01:34:10.628Z"
   },
   {
    "duration": 11,
    "start_time": "2022-03-20T01:34:14.665Z"
   },
   {
    "duration": 18,
    "start_time": "2022-03-20T01:34:15.894Z"
   },
   {
    "duration": 8,
    "start_time": "2022-03-20T01:34:16.174Z"
   },
   {
    "duration": 5,
    "start_time": "2022-03-20T01:34:16.428Z"
   },
   {
    "duration": 7,
    "start_time": "2022-03-20T01:34:17.120Z"
   },
   {
    "duration": 16,
    "start_time": "2022-03-20T01:34:17.341Z"
   },
   {
    "duration": 7,
    "start_time": "2022-03-20T01:34:17.516Z"
   },
   {
    "duration": 4,
    "start_time": "2022-03-20T01:34:17.697Z"
   },
   {
    "duration": 15,
    "start_time": "2022-03-20T01:34:18.190Z"
   },
   {
    "duration": 13,
    "start_time": "2022-03-20T01:34:18.668Z"
   },
   {
    "duration": 7,
    "start_time": "2022-03-20T01:34:18.826Z"
   },
   {
    "duration": 13,
    "start_time": "2022-03-20T01:34:19.349Z"
   },
   {
    "duration": 10,
    "start_time": "2022-03-20T01:38:40.213Z"
   },
   {
    "duration": 69,
    "start_time": "2022-03-20T01:39:05.429Z"
   },
   {
    "duration": 15,
    "start_time": "2022-03-20T01:39:16.621Z"
   },
   {
    "duration": 16,
    "start_time": "2022-03-20T01:40:05.610Z"
   },
   {
    "duration": 16,
    "start_time": "2022-03-20T01:40:32.507Z"
   },
   {
    "duration": 10,
    "start_time": "2022-03-20T01:41:04.118Z"
   },
   {
    "duration": 11,
    "start_time": "2022-03-20T01:41:13.757Z"
   },
   {
    "duration": 15,
    "start_time": "2022-03-20T01:41:29.105Z"
   },
   {
    "duration": 17,
    "start_time": "2022-03-20T01:43:49.761Z"
   },
   {
    "duration": 13,
    "start_time": "2022-03-20T01:47:02.739Z"
   },
   {
    "duration": 10,
    "start_time": "2022-03-20T01:49:41.365Z"
   },
   {
    "duration": 14,
    "start_time": "2022-03-20T01:49:54.304Z"
   },
   {
    "duration": 14,
    "start_time": "2022-03-20T01:50:35.021Z"
   },
   {
    "duration": 14,
    "start_time": "2022-03-20T01:51:37.049Z"
   },
   {
    "duration": 13,
    "start_time": "2022-03-20T01:52:24.489Z"
   },
   {
    "duration": 16,
    "start_time": "2022-03-20T01:52:38.289Z"
   },
   {
    "duration": 13,
    "start_time": "2022-03-20T01:52:47.181Z"
   },
   {
    "duration": 14,
    "start_time": "2022-03-20T01:55:35.957Z"
   },
   {
    "duration": 196,
    "start_time": "2022-03-20T01:59:41.412Z"
   },
   {
    "duration": 3,
    "start_time": "2022-03-20T02:13:10.269Z"
   },
   {
    "duration": 410,
    "start_time": "2022-03-20T02:13:21.658Z"
   },
   {
    "duration": 76,
    "start_time": "2022-03-20T02:13:23.290Z"
   },
   {
    "duration": 14,
    "start_time": "2022-03-20T02:13:23.874Z"
   },
   {
    "duration": 10,
    "start_time": "2022-03-20T02:13:25.286Z"
   },
   {
    "duration": 12,
    "start_time": "2022-03-20T02:13:25.545Z"
   },
   {
    "duration": 5,
    "start_time": "2022-03-20T02:13:26.125Z"
   },
   {
    "duration": 5,
    "start_time": "2022-03-20T02:13:26.737Z"
   },
   {
    "duration": 5,
    "start_time": "2022-03-20T02:13:26.897Z"
   },
   {
    "duration": 11,
    "start_time": "2022-03-20T02:13:27.037Z"
   },
   {
    "duration": 6,
    "start_time": "2022-03-20T02:13:27.812Z"
   },
   {
    "duration": 5,
    "start_time": "2022-03-20T02:13:28.670Z"
   },
   {
    "duration": 16,
    "start_time": "2022-03-20T02:13:29.154Z"
   },
   {
    "duration": 30,
    "start_time": "2022-03-20T02:13:29.326Z"
   },
   {
    "duration": 5,
    "start_time": "2022-03-20T02:13:29.470Z"
   },
   {
    "duration": 15,
    "start_time": "2022-03-20T02:13:29.626Z"
   },
   {
    "duration": 5,
    "start_time": "2022-03-20T02:13:29.774Z"
   },
   {
    "duration": 5,
    "start_time": "2022-03-20T02:13:29.934Z"
   },
   {
    "duration": 7,
    "start_time": "2022-03-20T02:13:30.078Z"
   },
   {
    "duration": 18,
    "start_time": "2022-03-20T02:13:30.254Z"
   },
   {
    "duration": 6,
    "start_time": "2022-03-20T02:13:30.410Z"
   },
   {
    "duration": 8,
    "start_time": "2022-03-20T02:13:30.562Z"
   },
   {
    "duration": 7,
    "start_time": "2022-03-20T02:13:30.734Z"
   },
   {
    "duration": 14,
    "start_time": "2022-03-20T02:13:31.690Z"
   },
   {
    "duration": 14,
    "start_time": "2022-03-20T02:13:31.838Z"
   },
   {
    "duration": 11,
    "start_time": "2022-03-20T02:13:31.994Z"
   },
   {
    "duration": 17,
    "start_time": "2022-03-20T02:13:32.490Z"
   },
   {
    "duration": 6,
    "start_time": "2022-03-20T02:13:32.650Z"
   },
   {
    "duration": 5,
    "start_time": "2022-03-20T02:13:32.822Z"
   },
   {
    "duration": 5,
    "start_time": "2022-03-20T02:13:33.330Z"
   },
   {
    "duration": 16,
    "start_time": "2022-03-20T02:13:33.494Z"
   },
   {
    "duration": 6,
    "start_time": "2022-03-20T02:13:33.658Z"
   },
   {
    "duration": 3,
    "start_time": "2022-03-20T02:13:33.830Z"
   },
   {
    "duration": 15,
    "start_time": "2022-03-20T02:13:34.330Z"
   },
   {
    "duration": 22,
    "start_time": "2022-03-20T02:13:34.902Z"
   },
   {
    "duration": 14,
    "start_time": "2022-03-20T02:13:35.454Z"
   },
   {
    "duration": 16,
    "start_time": "2022-03-20T02:13:36.005Z"
   },
   {
    "duration": 409,
    "start_time": "2022-03-20T07:44:27.864Z"
   },
   {
    "duration": 75,
    "start_time": "2022-03-20T07:44:29.296Z"
   },
   {
    "duration": 14,
    "start_time": "2022-03-20T07:44:33.921Z"
   },
   {
    "duration": 9,
    "start_time": "2022-03-20T07:44:37.772Z"
   },
   {
    "duration": 13,
    "start_time": "2022-03-20T07:44:38.056Z"
   },
   {
    "duration": 5,
    "start_time": "2022-03-20T07:44:38.792Z"
   },
   {
    "duration": 5,
    "start_time": "2022-03-20T07:44:39.596Z"
   },
   {
    "duration": 5,
    "start_time": "2022-03-20T07:44:39.789Z"
   },
   {
    "duration": 11,
    "start_time": "2022-03-20T07:44:39.957Z"
   },
   {
    "duration": 6,
    "start_time": "2022-03-20T07:44:40.760Z"
   },
   {
    "duration": 5,
    "start_time": "2022-03-20T07:44:41.416Z"
   },
   {
    "duration": 17,
    "start_time": "2022-03-20T07:44:42.300Z"
   },
   {
    "duration": 32,
    "start_time": "2022-03-20T07:44:42.488Z"
   },
   {
    "duration": 6,
    "start_time": "2022-03-20T07:44:42.672Z"
   },
   {
    "duration": 16,
    "start_time": "2022-03-20T07:44:42.864Z"
   },
   {
    "duration": 5,
    "start_time": "2022-03-20T07:44:43.045Z"
   },
   {
    "duration": 5,
    "start_time": "2022-03-20T07:44:43.221Z"
   },
   {
    "duration": 6,
    "start_time": "2022-03-20T07:44:43.401Z"
   },
   {
    "duration": 17,
    "start_time": "2022-03-20T07:44:43.564Z"
   },
   {
    "duration": 7,
    "start_time": "2022-03-20T07:44:43.736Z"
   },
   {
    "duration": 9,
    "start_time": "2022-03-20T07:44:44.252Z"
   },
   {
    "duration": 7,
    "start_time": "2022-03-20T07:44:44.453Z"
   },
   {
    "duration": 14,
    "start_time": "2022-03-20T07:44:45.512Z"
   },
   {
    "duration": 13,
    "start_time": "2022-03-20T07:44:45.664Z"
   },
   {
    "duration": 11,
    "start_time": "2022-03-20T07:44:45.852Z"
   },
   {
    "duration": 18,
    "start_time": "2022-03-20T07:44:46.373Z"
   },
   {
    "duration": 6,
    "start_time": "2022-03-20T07:44:46.569Z"
   },
   {
    "duration": 5,
    "start_time": "2022-03-20T07:44:46.760Z"
   },
   {
    "duration": 6,
    "start_time": "2022-03-20T07:44:47.346Z"
   },
   {
    "duration": 17,
    "start_time": "2022-03-20T07:44:47.533Z"
   },
   {
    "duration": 7,
    "start_time": "2022-03-20T07:44:47.704Z"
   },
   {
    "duration": 4,
    "start_time": "2022-03-20T07:44:47.861Z"
   },
   {
    "duration": 16,
    "start_time": "2022-03-20T07:44:48.617Z"
   },
   {
    "duration": 23,
    "start_time": "2022-03-20T07:44:49.200Z"
   },
   {
    "duration": 14,
    "start_time": "2022-03-20T07:44:49.812Z"
   },
   {
    "duration": 15,
    "start_time": "2022-03-20T07:44:50.396Z"
   },
   {
    "duration": 16,
    "start_time": "2022-03-20T07:54:24.076Z"
   },
   {
    "duration": 14,
    "start_time": "2022-03-20T07:54:27.779Z"
   },
   {
    "duration": 22,
    "start_time": "2022-03-20T07:54:31.784Z"
   },
   {
    "duration": 14,
    "start_time": "2022-03-20T07:54:34.863Z"
   },
   {
    "duration": 432,
    "start_time": "2022-03-20T15:14:14.228Z"
   },
   {
    "duration": 87,
    "start_time": "2022-03-20T15:14:14.828Z"
   },
   {
    "duration": 20,
    "start_time": "2022-03-20T15:14:19.687Z"
   },
   {
    "duration": 12,
    "start_time": "2022-03-20T15:14:20.764Z"
   },
   {
    "duration": 15,
    "start_time": "2022-03-20T15:14:20.972Z"
   },
   {
    "duration": 6,
    "start_time": "2022-03-20T15:14:21.612Z"
   },
   {
    "duration": 6,
    "start_time": "2022-03-20T15:14:22.396Z"
   },
   {
    "duration": 6,
    "start_time": "2022-03-20T15:14:22.576Z"
   },
   {
    "duration": 14,
    "start_time": "2022-03-20T15:14:22.764Z"
   },
   {
    "duration": 7,
    "start_time": "2022-03-20T15:14:23.701Z"
   },
   {
    "duration": 7,
    "start_time": "2022-03-20T15:14:24.412Z"
   },
   {
    "duration": 20,
    "start_time": "2022-03-20T15:14:24.952Z"
   },
   {
    "duration": 36,
    "start_time": "2022-03-20T15:14:25.132Z"
   },
   {
    "duration": 6,
    "start_time": "2022-03-20T15:14:25.312Z"
   },
   {
    "duration": 19,
    "start_time": "2022-03-20T15:14:25.484Z"
   },
   {
    "duration": 7,
    "start_time": "2022-03-20T15:14:25.664Z"
   },
   {
    "duration": 9,
    "start_time": "2022-03-20T15:14:25.868Z"
   },
   {
    "duration": 11,
    "start_time": "2022-03-20T15:14:26.260Z"
   },
   {
    "duration": 22,
    "start_time": "2022-03-20T15:14:26.456Z"
   },
   {
    "duration": 8,
    "start_time": "2022-03-20T15:14:26.652Z"
   },
   {
    "duration": 10,
    "start_time": "2022-03-20T15:14:26.836Z"
   },
   {
    "duration": 9,
    "start_time": "2022-03-20T15:14:27.012Z"
   },
   {
    "duration": 22,
    "start_time": "2022-03-20T15:14:28.144Z"
   },
   {
    "duration": 17,
    "start_time": "2022-03-20T15:14:28.356Z"
   },
   {
    "duration": 20,
    "start_time": "2022-03-20T15:14:28.568Z"
   },
   {
    "duration": 23,
    "start_time": "2022-03-20T15:14:29.156Z"
   },
   {
    "duration": 10,
    "start_time": "2022-03-20T15:14:29.316Z"
   },
   {
    "duration": 6,
    "start_time": "2022-03-20T15:14:29.480Z"
   },
   {
    "duration": 9,
    "start_time": "2022-03-20T15:14:29.924Z"
   },
   {
    "duration": 31,
    "start_time": "2022-03-20T15:14:30.096Z"
   },
   {
    "duration": 11,
    "start_time": "2022-03-20T15:14:30.216Z"
   },
   {
    "duration": 5,
    "start_time": "2022-03-20T15:14:30.372Z"
   },
   {
    "duration": 20,
    "start_time": "2022-03-20T15:14:30.841Z"
   },
   {
    "duration": 34,
    "start_time": "2022-03-20T15:14:31.324Z"
   },
   {
    "duration": 25,
    "start_time": "2022-03-20T15:14:32.024Z"
   },
   {
    "duration": 26,
    "start_time": "2022-03-20T15:14:32.733Z"
   },
   {
    "duration": 10,
    "start_time": "2022-03-20T15:21:39.580Z"
   },
   {
    "duration": 11,
    "start_time": "2022-03-20T15:22:00.072Z"
   },
   {
    "duration": 73,
    "start_time": "2022-03-20T15:24:16.140Z"
   },
   {
    "duration": 14,
    "start_time": "2022-03-20T15:25:17.240Z"
   },
   {
    "duration": 5,
    "start_time": "2022-03-20T15:26:32.233Z"
   },
   {
    "duration": 15,
    "start_time": "2022-03-20T15:29:00.760Z"
   },
   {
    "duration": 9,
    "start_time": "2022-03-20T15:29:33.704Z"
   },
   {
    "duration": 11,
    "start_time": "2022-03-20T15:31:04.256Z"
   },
   {
    "duration": 13,
    "start_time": "2022-03-20T15:32:19.636Z"
   },
   {
    "duration": 11,
    "start_time": "2022-03-20T15:33:14.496Z"
   },
   {
    "duration": 13,
    "start_time": "2022-03-20T15:33:50.587Z"
   },
   {
    "duration": 11,
    "start_time": "2022-03-20T15:34:37.288Z"
   },
   {
    "duration": 10,
    "start_time": "2022-03-20T15:35:43.296Z"
   },
   {
    "duration": 10,
    "start_time": "2022-03-20T15:37:02.487Z"
   },
   {
    "duration": 8,
    "start_time": "2022-03-20T15:37:37.367Z"
   },
   {
    "duration": 8,
    "start_time": "2022-03-20T15:37:56.370Z"
   },
   {
    "duration": 8,
    "start_time": "2022-03-20T15:38:36.227Z"
   },
   {
    "duration": 8,
    "start_time": "2022-03-20T15:39:18.215Z"
   },
   {
    "duration": 536,
    "start_time": "2022-03-20T15:39:37.596Z"
   },
   {
    "duration": 89,
    "start_time": "2022-03-20T15:39:38.135Z"
   },
   {
    "duration": 18,
    "start_time": "2022-03-20T15:39:38.226Z"
   },
   {
    "duration": 12,
    "start_time": "2022-03-20T15:39:38.246Z"
   },
   {
    "duration": 51,
    "start_time": "2022-03-20T15:39:38.260Z"
   },
   {
    "duration": 6,
    "start_time": "2022-03-20T15:39:38.313Z"
   },
   {
    "duration": 33,
    "start_time": "2022-03-20T15:39:38.322Z"
   },
   {
    "duration": 12,
    "start_time": "2022-03-20T15:39:38.358Z"
   },
   {
    "duration": 19,
    "start_time": "2022-03-20T15:39:38.372Z"
   },
   {
    "duration": 13,
    "start_time": "2022-03-20T15:39:38.395Z"
   },
   {
    "duration": 15,
    "start_time": "2022-03-20T15:39:38.410Z"
   },
   {
    "duration": 30,
    "start_time": "2022-03-20T15:39:38.428Z"
   },
   {
    "duration": 79,
    "start_time": "2022-03-20T15:39:38.460Z"
   },
   {
    "duration": 8,
    "start_time": "2022-03-20T15:39:38.541Z"
   },
   {
    "duration": 50,
    "start_time": "2022-03-20T15:39:38.551Z"
   },
   {
    "duration": 9,
    "start_time": "2022-03-20T15:39:38.604Z"
   },
   {
    "duration": 15,
    "start_time": "2022-03-20T15:39:38.615Z"
   },
   {
    "duration": 11,
    "start_time": "2022-03-20T15:39:38.636Z"
   },
   {
    "duration": 13,
    "start_time": "2022-03-20T15:39:38.650Z"
   },
   {
    "duration": 72,
    "start_time": "2022-03-20T15:39:38.665Z"
   },
   {
    "duration": 16,
    "start_time": "2022-03-20T15:39:38.740Z"
   },
   {
    "duration": 20,
    "start_time": "2022-03-20T15:39:38.759Z"
   },
   {
    "duration": 30,
    "start_time": "2022-03-20T15:39:38.781Z"
   },
   {
    "duration": 34,
    "start_time": "2022-03-20T15:39:38.813Z"
   },
   {
    "duration": 21,
    "start_time": "2022-03-20T15:39:38.850Z"
   },
   {
    "duration": 42,
    "start_time": "2022-03-20T15:39:38.874Z"
   },
   {
    "duration": 43,
    "start_time": "2022-03-20T15:39:38.918Z"
   },
   {
    "duration": 13,
    "start_time": "2022-03-20T15:39:38.966Z"
   },
   {
    "duration": 32,
    "start_time": "2022-03-20T15:39:38.981Z"
   },
   {
    "duration": 16,
    "start_time": "2022-03-20T15:39:39.016Z"
   },
   {
    "duration": 32,
    "start_time": "2022-03-20T15:39:39.034Z"
   },
   {
    "duration": 34,
    "start_time": "2022-03-20T15:39:39.068Z"
   },
   {
    "duration": 14,
    "start_time": "2022-03-20T15:39:39.104Z"
   },
   {
    "duration": 26,
    "start_time": "2022-03-20T15:39:39.121Z"
   },
   {
    "duration": 29,
    "start_time": "2022-03-20T15:39:39.149Z"
   },
   {
    "duration": 18,
    "start_time": "2022-03-20T15:39:39.200Z"
   },
   {
    "duration": 19,
    "start_time": "2022-03-20T15:39:39.220Z"
   },
   {
    "duration": 144,
    "start_time": "2022-03-20T15:41:24.726Z"
   },
   {
    "duration": 169,
    "start_time": "2022-03-20T15:41:52.086Z"
   },
   {
    "duration": 16,
    "start_time": "2022-03-20T15:43:57.298Z"
   },
   {
    "duration": 400,
    "start_time": "2022-03-20T15:44:08.241Z"
   },
   {
    "duration": 92,
    "start_time": "2022-03-20T15:44:08.644Z"
   },
   {
    "duration": 17,
    "start_time": "2022-03-20T15:44:08.738Z"
   },
   {
    "duration": 12,
    "start_time": "2022-03-20T15:44:08.758Z"
   },
   {
    "duration": 40,
    "start_time": "2022-03-20T15:44:08.774Z"
   },
   {
    "duration": 7,
    "start_time": "2022-03-20T15:44:08.816Z"
   },
   {
    "duration": 9,
    "start_time": "2022-03-20T15:44:08.825Z"
   },
   {
    "duration": 6,
    "start_time": "2022-03-20T15:44:08.836Z"
   },
   {
    "duration": 14,
    "start_time": "2022-03-20T15:44:08.844Z"
   },
   {
    "duration": 44,
    "start_time": "2022-03-20T15:44:08.860Z"
   },
   {
    "duration": 15,
    "start_time": "2022-03-20T15:44:08.906Z"
   },
   {
    "duration": 25,
    "start_time": "2022-03-20T15:44:08.923Z"
   },
   {
    "duration": 59,
    "start_time": "2022-03-20T15:44:08.949Z"
   },
   {
    "duration": 6,
    "start_time": "2022-03-20T15:44:09.012Z"
   },
   {
    "duration": 27,
    "start_time": "2022-03-20T15:44:09.020Z"
   },
   {
    "duration": 11,
    "start_time": "2022-03-20T15:44:09.049Z"
   },
   {
    "duration": 3,
    "start_time": "2022-03-20T15:44:09.062Z"
   },
   {
    "duration": 47,
    "start_time": "2022-03-20T15:44:09.067Z"
   },
   {
    "duration": 8,
    "start_time": "2022-03-20T15:44:09.116Z"
   },
   {
    "duration": 23,
    "start_time": "2022-03-20T15:44:09.126Z"
   },
   {
    "duration": 10,
    "start_time": "2022-03-20T15:44:09.151Z"
   },
   {
    "duration": 39,
    "start_time": "2022-03-20T15:44:09.164Z"
   },
   {
    "duration": 17,
    "start_time": "2022-03-20T15:44:09.205Z"
   },
   {
    "duration": 21,
    "start_time": "2022-03-20T15:44:09.225Z"
   },
   {
    "duration": 17,
    "start_time": "2022-03-20T15:44:09.248Z"
   },
   {
    "duration": 37,
    "start_time": "2022-03-20T15:44:09.268Z"
   },
   {
    "duration": 37,
    "start_time": "2022-03-20T15:44:09.306Z"
   },
   {
    "duration": 21,
    "start_time": "2022-03-20T15:44:09.345Z"
   },
   {
    "duration": 16,
    "start_time": "2022-03-20T15:44:09.368Z"
   },
   {
    "duration": 18,
    "start_time": "2022-03-20T15:44:09.387Z"
   },
   {
    "duration": 33,
    "start_time": "2022-03-20T15:44:09.408Z"
   },
   {
    "duration": 11,
    "start_time": "2022-03-20T15:44:09.443Z"
   },
   {
    "duration": 8,
    "start_time": "2022-03-20T15:44:09.456Z"
   },
   {
    "duration": 36,
    "start_time": "2022-03-20T15:44:09.466Z"
   },
   {
    "duration": 29,
    "start_time": "2022-03-20T15:44:09.504Z"
   },
   {
    "duration": 15,
    "start_time": "2022-03-20T15:44:09.535Z"
   },
   {
    "duration": 18,
    "start_time": "2022-03-20T15:44:09.552Z"
   },
   {
    "duration": 6,
    "start_time": "2022-03-20T15:45:06.306Z"
   },
   {
    "duration": 11,
    "start_time": "2022-03-20T15:45:20.957Z"
   },
   {
    "duration": 7,
    "start_time": "2022-03-20T15:46:45.481Z"
   },
   {
    "duration": 8,
    "start_time": "2022-03-20T15:47:13.769Z"
   },
   {
    "duration": 72,
    "start_time": "2022-03-20T15:48:16.069Z"
   },
   {
    "duration": 8,
    "start_time": "2022-03-20T15:48:31.222Z"
   },
   {
    "duration": 9,
    "start_time": "2022-03-20T15:49:30.261Z"
   },
   {
    "duration": 466,
    "start_time": "2022-03-20T15:50:01.370Z"
   },
   {
    "duration": 90,
    "start_time": "2022-03-20T15:50:01.838Z"
   },
   {
    "duration": 17,
    "start_time": "2022-03-20T15:50:01.930Z"
   },
   {
    "duration": 12,
    "start_time": "2022-03-20T15:50:01.950Z"
   },
   {
    "duration": 45,
    "start_time": "2022-03-20T15:50:01.963Z"
   },
   {
    "duration": 5,
    "start_time": "2022-03-20T15:50:02.010Z"
   },
   {
    "duration": 63,
    "start_time": "2022-03-20T15:50:02.017Z"
   },
   {
    "duration": 21,
    "start_time": "2022-03-20T15:50:02.082Z"
   },
   {
    "duration": 62,
    "start_time": "2022-03-20T15:50:02.106Z"
   },
   {
    "duration": 12,
    "start_time": "2022-03-20T15:50:02.171Z"
   },
   {
    "duration": 26,
    "start_time": "2022-03-20T15:50:02.186Z"
   },
   {
    "duration": 30,
    "start_time": "2022-03-20T15:50:02.214Z"
   },
   {
    "duration": 64,
    "start_time": "2022-03-20T15:50:02.246Z"
   },
   {
    "duration": 6,
    "start_time": "2022-03-20T15:50:02.312Z"
   },
   {
    "duration": 42,
    "start_time": "2022-03-20T15:50:02.320Z"
   },
   {
    "duration": 44,
    "start_time": "2022-03-20T15:50:02.365Z"
   },
   {
    "duration": 24,
    "start_time": "2022-03-20T15:50:02.411Z"
   },
   {
    "duration": 32,
    "start_time": "2022-03-20T15:50:02.437Z"
   },
   {
    "duration": 37,
    "start_time": "2022-03-20T15:50:02.471Z"
   },
   {
    "duration": 36,
    "start_time": "2022-03-20T15:50:02.510Z"
   },
   {
    "duration": 20,
    "start_time": "2022-03-20T15:50:02.548Z"
   },
   {
    "duration": 37,
    "start_time": "2022-03-20T15:50:02.570Z"
   },
   {
    "duration": 38,
    "start_time": "2022-03-20T15:50:02.609Z"
   },
   {
    "duration": 22,
    "start_time": "2022-03-20T15:50:02.649Z"
   },
   {
    "duration": 36,
    "start_time": "2022-03-20T15:50:02.673Z"
   },
   {
    "duration": 32,
    "start_time": "2022-03-20T15:50:02.714Z"
   },
   {
    "duration": 25,
    "start_time": "2022-03-20T15:50:02.748Z"
   },
   {
    "duration": 22,
    "start_time": "2022-03-20T15:50:02.778Z"
   },
   {
    "duration": 12,
    "start_time": "2022-03-20T15:50:02.802Z"
   },
   {
    "duration": 27,
    "start_time": "2022-03-20T15:50:02.817Z"
   },
   {
    "duration": 28,
    "start_time": "2022-03-20T15:50:02.845Z"
   },
   {
    "duration": 29,
    "start_time": "2022-03-20T15:50:02.876Z"
   },
   {
    "duration": 38,
    "start_time": "2022-03-20T15:50:02.908Z"
   },
   {
    "duration": 50,
    "start_time": "2022-03-20T15:50:02.949Z"
   },
   {
    "duration": 26,
    "start_time": "2022-03-20T15:50:03.002Z"
   },
   {
    "duration": 20,
    "start_time": "2022-03-20T15:50:03.030Z"
   },
   {
    "duration": 16,
    "start_time": "2022-03-20T15:50:49.026Z"
   },
   {
    "duration": 467,
    "start_time": "2022-03-20T15:51:05.196Z"
   },
   {
    "duration": 89,
    "start_time": "2022-03-20T15:51:05.666Z"
   },
   {
    "duration": 17,
    "start_time": "2022-03-20T15:51:05.757Z"
   },
   {
    "duration": 28,
    "start_time": "2022-03-20T15:51:05.777Z"
   },
   {
    "duration": 15,
    "start_time": "2022-03-20T15:51:05.807Z"
   },
   {
    "duration": 9,
    "start_time": "2022-03-20T15:51:05.824Z"
   },
   {
    "duration": 11,
    "start_time": "2022-03-20T15:51:05.836Z"
   },
   {
    "duration": 6,
    "start_time": "2022-03-20T15:51:05.849Z"
   },
   {
    "duration": 16,
    "start_time": "2022-03-20T15:51:05.857Z"
   },
   {
    "duration": 8,
    "start_time": "2022-03-20T15:51:05.903Z"
   },
   {
    "duration": 22,
    "start_time": "2022-03-20T15:51:05.912Z"
   },
   {
    "duration": 24,
    "start_time": "2022-03-20T15:51:05.936Z"
   },
   {
    "duration": 49,
    "start_time": "2022-03-20T15:51:05.962Z"
   },
   {
    "duration": 7,
    "start_time": "2022-03-20T15:51:06.013Z"
   },
   {
    "duration": 20,
    "start_time": "2022-03-20T15:51:06.035Z"
   },
   {
    "duration": 6,
    "start_time": "2022-03-20T15:51:06.058Z"
   },
   {
    "duration": 36,
    "start_time": "2022-03-20T15:51:06.066Z"
   },
   {
    "duration": 8,
    "start_time": "2022-03-20T15:51:06.104Z"
   },
   {
    "duration": 25,
    "start_time": "2022-03-20T15:51:06.114Z"
   },
   {
    "duration": 13,
    "start_time": "2022-03-20T15:51:06.140Z"
   },
   {
    "duration": 13,
    "start_time": "2022-03-20T15:51:06.155Z"
   },
   {
    "duration": 32,
    "start_time": "2022-03-20T15:51:06.170Z"
   },
   {
    "duration": 20,
    "start_time": "2022-03-20T15:51:06.204Z"
   },
   {
    "duration": 22,
    "start_time": "2022-03-20T15:51:06.226Z"
   },
   {
    "duration": 16,
    "start_time": "2022-03-20T15:51:06.250Z"
   },
   {
    "duration": 43,
    "start_time": "2022-03-20T15:51:06.268Z"
   },
   {
    "duration": 8,
    "start_time": "2022-03-20T15:51:06.313Z"
   },
   {
    "duration": 8,
    "start_time": "2022-03-20T15:51:06.325Z"
   },
   {
    "duration": 15,
    "start_time": "2022-03-20T15:51:06.335Z"
   },
   {
    "duration": 30,
    "start_time": "2022-03-20T15:51:06.352Z"
   },
   {
    "duration": 27,
    "start_time": "2022-03-20T15:51:06.384Z"
   },
   {
    "duration": 10,
    "start_time": "2022-03-20T15:51:06.413Z"
   },
   {
    "duration": 24,
    "start_time": "2022-03-20T15:51:06.425Z"
   },
   {
    "duration": 27,
    "start_time": "2022-03-20T15:51:06.451Z"
   },
   {
    "duration": 35,
    "start_time": "2022-03-20T15:51:06.480Z"
   },
   {
    "duration": 18,
    "start_time": "2022-03-20T15:51:06.516Z"
   },
   {
    "duration": 16,
    "start_time": "2022-03-20T15:55:37.641Z"
   },
   {
    "duration": 7,
    "start_time": "2022-03-20T15:58:38.165Z"
   },
   {
    "duration": 442,
    "start_time": "2022-03-20T15:59:00.553Z"
   },
   {
    "duration": 90,
    "start_time": "2022-03-20T15:59:01.169Z"
   },
   {
    "duration": 28,
    "start_time": "2022-03-20T15:59:03.013Z"
   },
   {
    "duration": 19,
    "start_time": "2022-03-20T15:59:12.261Z"
   },
   {
    "duration": 15,
    "start_time": "2022-03-20T15:59:14.692Z"
   },
   {
    "duration": 6,
    "start_time": "2022-03-20T15:59:18.056Z"
   },
   {
    "duration": 429,
    "start_time": "2022-03-20T16:00:49.907Z"
   },
   {
    "duration": 86,
    "start_time": "2022-03-20T16:00:52.231Z"
   },
   {
    "duration": 18,
    "start_time": "2022-03-20T16:01:00.884Z"
   },
   {
    "duration": 13,
    "start_time": "2022-03-20T16:01:15.707Z"
   },
   {
    "duration": 14,
    "start_time": "2022-03-20T16:01:23.887Z"
   },
   {
    "duration": 5,
    "start_time": "2022-03-20T16:01:41.992Z"
   },
   {
    "duration": 6,
    "start_time": "2022-03-20T16:02:46.816Z"
   },
   {
    "duration": 6,
    "start_time": "2022-03-20T16:03:08.991Z"
   },
   {
    "duration": 553,
    "start_time": "2022-03-20T16:03:29.551Z"
   },
   {
    "duration": 125,
    "start_time": "2022-03-20T16:03:30.107Z"
   },
   {
    "duration": 18,
    "start_time": "2022-03-20T16:03:31.243Z"
   },
   {
    "duration": 13,
    "start_time": "2022-03-20T16:03:35.463Z"
   },
   {
    "duration": 15,
    "start_time": "2022-03-20T16:03:36.820Z"
   },
   {
    "duration": 6,
    "start_time": "2022-03-20T16:03:44.343Z"
   },
   {
    "duration": 6,
    "start_time": "2022-03-20T16:03:48.988Z"
   },
   {
    "duration": 7,
    "start_time": "2022-03-20T16:07:57.204Z"
   },
   {
    "duration": 73,
    "start_time": "2022-03-20T16:09:13.636Z"
   },
   {
    "duration": 6,
    "start_time": "2022-03-20T16:09:27.531Z"
   },
   {
    "duration": 19,
    "start_time": "2022-03-20T16:09:29.835Z"
   },
   {
    "duration": 6,
    "start_time": "2022-03-20T16:10:51.963Z"
   },
   {
    "duration": 589,
    "start_time": "2022-03-20T16:11:05.665Z"
   },
   {
    "duration": 121,
    "start_time": "2022-03-20T16:11:06.278Z"
   },
   {
    "duration": 21,
    "start_time": "2022-03-20T16:11:09.430Z"
   },
   {
    "duration": 19,
    "start_time": "2022-03-20T16:11:13.233Z"
   },
   {
    "duration": 15,
    "start_time": "2022-03-20T16:11:16.025Z"
   },
   {
    "duration": 6,
    "start_time": "2022-03-20T16:11:22.361Z"
   },
   {
    "duration": 6,
    "start_time": "2022-03-20T16:11:26.972Z"
   },
   {
    "duration": 6,
    "start_time": "2022-03-20T16:11:41.633Z"
   },
   {
    "duration": 29,
    "start_time": "2022-03-20T16:11:45.649Z"
   },
   {
    "duration": 7,
    "start_time": "2022-03-20T16:12:06.497Z"
   },
   {
    "duration": 8,
    "start_time": "2022-03-20T16:12:55.489Z"
   },
   {
    "duration": 21,
    "start_time": "2022-03-20T16:13:00.341Z"
   },
   {
    "duration": 46,
    "start_time": "2022-03-20T16:13:03.214Z"
   },
   {
    "duration": 7,
    "start_time": "2022-03-20T16:14:27.637Z"
   },
   {
    "duration": 6,
    "start_time": "2022-03-20T16:15:03.349Z"
   },
   {
    "duration": 20,
    "start_time": "2022-03-20T16:15:09.802Z"
   },
   {
    "duration": 8,
    "start_time": "2022-03-20T16:15:29.945Z"
   },
   {
    "duration": 24,
    "start_time": "2022-03-20T16:16:03.845Z"
   },
   {
    "duration": 15,
    "start_time": "2022-03-20T16:16:36.934Z"
   },
   {
    "duration": 8,
    "start_time": "2022-03-20T16:16:47.745Z"
   },
   {
    "duration": 34,
    "start_time": "2022-03-20T16:16:51.770Z"
   },
   {
    "duration": 9,
    "start_time": "2022-03-20T16:16:56.441Z"
   },
   {
    "duration": 11,
    "start_time": "2022-03-20T16:17:21.769Z"
   },
   {
    "duration": 7,
    "start_time": "2022-03-20T16:18:12.313Z"
   },
   {
    "duration": 6,
    "start_time": "2022-03-20T16:18:30.564Z"
   },
   {
    "duration": 5,
    "start_time": "2022-03-20T16:19:13.833Z"
   },
   {
    "duration": 24,
    "start_time": "2022-03-20T16:19:57.573Z"
   },
   {
    "duration": 14,
    "start_time": "2022-03-20T16:21:00.041Z"
   },
   {
    "duration": 15,
    "start_time": "2022-03-20T16:21:12.441Z"
   },
   {
    "duration": 16,
    "start_time": "2022-03-20T16:21:16.301Z"
   },
   {
    "duration": 14,
    "start_time": "2022-03-20T16:21:19.962Z"
   },
   {
    "duration": 22,
    "start_time": "2022-03-20T16:21:25.029Z"
   },
   {
    "duration": 12,
    "start_time": "2022-03-20T16:21:28.685Z"
   },
   {
    "duration": 7,
    "start_time": "2022-03-20T16:21:30.929Z"
   },
   {
    "duration": 8,
    "start_time": "2022-03-20T16:21:38.209Z"
   },
   {
    "duration": 11,
    "start_time": "2022-03-20T16:25:13.285Z"
   },
   {
    "duration": 77,
    "start_time": "2022-03-20T16:25:37.753Z"
   },
   {
    "duration": 453,
    "start_time": "2022-03-20T16:25:55.631Z"
   },
   {
    "duration": 94,
    "start_time": "2022-03-20T16:25:56.087Z"
   },
   {
    "duration": 22,
    "start_time": "2022-03-20T16:25:56.183Z"
   },
   {
    "duration": 13,
    "start_time": "2022-03-20T16:25:56.208Z"
   },
   {
    "duration": 16,
    "start_time": "2022-03-20T16:25:56.223Z"
   },
   {
    "duration": 5,
    "start_time": "2022-03-20T16:25:56.241Z"
   },
   {
    "duration": 10,
    "start_time": "2022-03-20T16:25:56.248Z"
   },
   {
    "duration": 43,
    "start_time": "2022-03-20T16:25:56.260Z"
   },
   {
    "duration": 24,
    "start_time": "2022-03-20T16:25:56.305Z"
   },
   {
    "duration": 8,
    "start_time": "2022-03-20T16:25:56.333Z"
   },
   {
    "duration": 8,
    "start_time": "2022-03-20T16:25:56.343Z"
   },
   {
    "duration": 55,
    "start_time": "2022-03-20T16:25:56.353Z"
   },
   {
    "duration": 37,
    "start_time": "2022-03-20T16:25:56.410Z"
   },
   {
    "duration": 6,
    "start_time": "2022-03-20T16:25:56.449Z"
   },
   {
    "duration": 45,
    "start_time": "2022-03-20T16:25:56.457Z"
   },
   {
    "duration": 7,
    "start_time": "2022-03-20T16:25:56.504Z"
   },
   {
    "duration": 23,
    "start_time": "2022-03-20T16:25:56.512Z"
   },
   {
    "duration": 8,
    "start_time": "2022-03-20T16:25:56.537Z"
   },
   {
    "duration": 29,
    "start_time": "2022-03-20T16:25:56.547Z"
   },
   {
    "duration": 8,
    "start_time": "2022-03-20T16:25:56.601Z"
   },
   {
    "duration": 13,
    "start_time": "2022-03-20T16:25:56.611Z"
   },
   {
    "duration": 12,
    "start_time": "2022-03-20T16:25:56.626Z"
   },
   {
    "duration": 12,
    "start_time": "2022-03-20T16:25:56.640Z"
   },
   {
    "duration": 23,
    "start_time": "2022-03-20T16:25:56.654Z"
   },
   {
    "duration": 33,
    "start_time": "2022-03-20T16:25:56.681Z"
   },
   {
    "duration": 17,
    "start_time": "2022-03-20T16:25:56.716Z"
   },
   {
    "duration": 14,
    "start_time": "2022-03-20T16:25:56.735Z"
   },
   {
    "duration": 52,
    "start_time": "2022-03-20T16:25:56.753Z"
   },
   {
    "duration": 8,
    "start_time": "2022-03-20T16:25:56.807Z"
   },
   {
    "duration": 9,
    "start_time": "2022-03-20T16:25:56.817Z"
   },
   {
    "duration": 12,
    "start_time": "2022-03-20T16:25:56.828Z"
   },
   {
    "duration": 28,
    "start_time": "2022-03-20T16:25:56.841Z"
   },
   {
    "duration": 32,
    "start_time": "2022-03-20T16:25:56.871Z"
   },
   {
    "duration": 12,
    "start_time": "2022-03-20T16:25:56.905Z"
   },
   {
    "duration": 26,
    "start_time": "2022-03-20T16:25:56.918Z"
   },
   {
    "duration": 59,
    "start_time": "2022-03-20T16:25:56.946Z"
   },
   {
    "duration": 26,
    "start_time": "2022-03-20T16:25:57.007Z"
   },
   {
    "duration": 18,
    "start_time": "2022-03-20T16:25:57.036Z"
   },
   {
    "duration": 16,
    "start_time": "2022-03-20T16:26:42.590Z"
   },
   {
    "duration": 29,
    "start_time": "2022-03-20T16:27:03.715Z"
   },
   {
    "duration": 18,
    "start_time": "2022-03-20T16:27:21.602Z"
   },
   {
    "duration": 20,
    "start_time": "2022-03-20T16:27:39.367Z"
   },
   {
    "duration": 74,
    "start_time": "2022-03-20T17:18:51.060Z"
   },
   {
    "duration": 37,
    "start_time": "2022-03-20T17:19:19.556Z"
   },
   {
    "duration": 30,
    "start_time": "2022-03-20T17:25:40.456Z"
   },
   {
    "duration": 19,
    "start_time": "2022-03-20T17:30:29.124Z"
   },
   {
    "duration": 4,
    "start_time": "2022-03-20T17:42:16.136Z"
   },
   {
    "duration": 30,
    "start_time": "2022-03-20T17:44:14.435Z"
   },
   {
    "duration": 28,
    "start_time": "2022-03-20T17:44:36.644Z"
   },
   {
    "duration": 5,
    "start_time": "2022-03-20T17:44:53.799Z"
   },
   {
    "duration": 11,
    "start_time": "2022-03-20T17:45:42.352Z"
   },
   {
    "duration": 553,
    "start_time": "2022-03-31T11:12:34.632Z"
   },
   {
    "duration": 96,
    "start_time": "2022-03-31T11:12:35.188Z"
   },
   {
    "duration": 20,
    "start_time": "2022-03-31T11:12:35.287Z"
   },
   {
    "duration": 18,
    "start_time": "2022-03-31T11:12:35.309Z"
   },
   {
    "duration": 44,
    "start_time": "2022-03-31T11:12:35.330Z"
   },
   {
    "duration": 7,
    "start_time": "2022-03-31T11:12:35.376Z"
   },
   {
    "duration": 24,
    "start_time": "2022-03-31T11:12:35.384Z"
   },
   {
    "duration": 21,
    "start_time": "2022-03-31T11:12:35.410Z"
   },
   {
    "duration": 29,
    "start_time": "2022-03-31T11:12:35.433Z"
   },
   {
    "duration": 14,
    "start_time": "2022-03-31T11:12:35.464Z"
   },
   {
    "duration": 17,
    "start_time": "2022-03-31T11:12:35.480Z"
   },
   {
    "duration": 60,
    "start_time": "2022-03-31T11:12:35.536Z"
   },
   {
    "duration": 6,
    "start_time": "2022-03-31T11:12:35.601Z"
   },
   {
    "duration": 22,
    "start_time": "2022-03-31T11:12:35.609Z"
   },
   {
    "duration": 14,
    "start_time": "2022-03-31T11:12:35.634Z"
   },
   {
    "duration": 44,
    "start_time": "2022-03-31T11:12:35.650Z"
   },
   {
    "duration": 10,
    "start_time": "2022-03-31T11:12:35.697Z"
   },
   {
    "duration": 69,
    "start_time": "2022-03-31T11:12:35.709Z"
   },
   {
    "duration": 9,
    "start_time": "2022-03-31T11:12:35.780Z"
   },
   {
    "duration": 13,
    "start_time": "2022-03-31T11:12:35.791Z"
   },
   {
    "duration": 20,
    "start_time": "2022-03-31T11:12:35.806Z"
   },
   {
    "duration": 8,
    "start_time": "2022-03-31T11:12:35.828Z"
   },
   {
    "duration": 40,
    "start_time": "2022-03-31T11:12:35.837Z"
   },
   {
    "duration": 22,
    "start_time": "2022-03-31T11:12:35.879Z"
   },
   {
    "duration": 18,
    "start_time": "2022-03-31T11:12:35.903Z"
   },
   {
    "duration": 17,
    "start_time": "2022-03-31T11:12:35.923Z"
   },
   {
    "duration": 58,
    "start_time": "2022-03-31T11:12:35.942Z"
   },
   {
    "duration": 11,
    "start_time": "2022-03-31T11:12:36.002Z"
   },
   {
    "duration": 10,
    "start_time": "2022-03-31T11:12:36.015Z"
   },
   {
    "duration": 12,
    "start_time": "2022-03-31T11:12:36.027Z"
   },
   {
    "duration": 28,
    "start_time": "2022-03-31T11:12:36.073Z"
   },
   {
    "duration": 11,
    "start_time": "2022-03-31T11:12:36.103Z"
   },
   {
    "duration": 11,
    "start_time": "2022-03-31T11:12:36.116Z"
   },
   {
    "duration": 49,
    "start_time": "2022-03-31T11:12:36.129Z"
   },
   {
    "duration": 36,
    "start_time": "2022-03-31T11:12:36.180Z"
   },
   {
    "duration": 21,
    "start_time": "2022-03-31T11:12:36.218Z"
   },
   {
    "duration": 53,
    "start_time": "2022-03-31T11:12:36.241Z"
   },
   {
    "duration": 347,
    "start_time": "2022-03-31T15:10:44.621Z"
   },
   {
    "duration": 81,
    "start_time": "2022-03-31T15:10:46.073Z"
   },
   {
    "duration": 15,
    "start_time": "2022-03-31T15:10:49.573Z"
   },
   {
    "duration": 9,
    "start_time": "2022-03-31T15:10:56.409Z"
   },
   {
    "duration": 14,
    "start_time": "2022-03-31T15:11:01.921Z"
   },
   {
    "duration": 5,
    "start_time": "2022-03-31T15:11:08.740Z"
   },
   {
    "duration": 6,
    "start_time": "2022-03-31T15:11:21.000Z"
   },
   {
    "duration": 5,
    "start_time": "2022-03-31T15:11:25.100Z"
   },
   {
    "duration": 12,
    "start_time": "2022-03-31T15:11:25.857Z"
   },
   {
    "duration": 6,
    "start_time": "2022-03-31T15:11:31.128Z"
   },
   {
    "duration": 5,
    "start_time": "2022-03-31T15:11:35.049Z"
   },
   {
    "duration": 16,
    "start_time": "2022-03-31T15:11:42.105Z"
   },
   {
    "duration": 32,
    "start_time": "2022-03-31T15:11:44.697Z"
   },
   {
    "duration": 6,
    "start_time": "2022-03-31T15:11:50.372Z"
   },
   {
    "duration": 16,
    "start_time": "2022-03-31T15:11:54.336Z"
   },
   {
    "duration": 6,
    "start_time": "2022-03-31T15:11:55.300Z"
   },
   {
    "duration": 12,
    "start_time": "2022-03-31T15:11:59.960Z"
   },
   {
    "duration": 6,
    "start_time": "2022-03-31T15:12:01.461Z"
   },
   {
    "duration": 17,
    "start_time": "2022-03-31T15:12:04.125Z"
   },
   {
    "duration": 9,
    "start_time": "2022-03-31T15:12:04.877Z"
   },
   {
    "duration": 8,
    "start_time": "2022-03-31T15:12:05.568Z"
   },
   {
    "duration": 5,
    "start_time": "2022-03-31T15:12:06.204Z"
   },
   {
    "duration": 4,
    "start_time": "2022-03-31T15:12:08.425Z"
   },
   {
    "duration": 8,
    "start_time": "2022-03-31T15:12:09.164Z"
   },
   {
    "duration": 10,
    "start_time": "2022-03-31T15:12:20.828Z"
   },
   {
    "duration": 10,
    "start_time": "2022-03-31T15:12:21.924Z"
   },
   {
    "duration": 19,
    "start_time": "2022-03-31T15:15:24.664Z"
   },
   {
    "duration": 7,
    "start_time": "2022-03-31T15:15:29.436Z"
   },
   {
    "duration": 5,
    "start_time": "2022-03-31T15:15:30.304Z"
   },
   {
    "duration": 6,
    "start_time": "2022-03-31T15:15:35.096Z"
   },
   {
    "duration": 19,
    "start_time": "2022-03-31T15:15:38.620Z"
   },
   {
    "duration": 6,
    "start_time": "2022-03-31T15:15:41.532Z"
   },
   {
    "duration": 5,
    "start_time": "2022-03-31T15:15:42.388Z"
   },
   {
    "duration": 16,
    "start_time": "2022-03-31T15:15:46.716Z"
   },
   {
    "duration": 24,
    "start_time": "2022-03-31T15:18:58.060Z"
   },
   {
    "duration": 14,
    "start_time": "2022-03-31T15:19:03.740Z"
   },
   {
    "duration": 186,
    "start_time": "2022-03-31T15:23:46.204Z"
   },
   {
    "duration": 18,
    "start_time": "2022-03-31T15:24:15.372Z"
   },
   {
    "duration": 480,
    "start_time": "2022-04-01T10:43:45.232Z"
   },
   {
    "duration": 94,
    "start_time": "2022-04-01T10:43:45.715Z"
   },
   {
    "duration": 20,
    "start_time": "2022-04-01T10:43:45.811Z"
   },
   {
    "duration": 13,
    "start_time": "2022-04-01T10:43:45.834Z"
   },
   {
    "duration": 50,
    "start_time": "2022-04-01T10:43:45.849Z"
   },
   {
    "duration": 8,
    "start_time": "2022-04-01T10:43:45.901Z"
   },
   {
    "duration": 18,
    "start_time": "2022-04-01T10:43:45.911Z"
   },
   {
    "duration": 10,
    "start_time": "2022-04-01T10:43:45.931Z"
   },
   {
    "duration": 58,
    "start_time": "2022-04-01T10:43:45.944Z"
   },
   {
    "duration": 9,
    "start_time": "2022-04-01T10:43:46.008Z"
   },
   {
    "duration": 10,
    "start_time": "2022-04-01T10:43:46.020Z"
   },
   {
    "duration": 52,
    "start_time": "2022-04-01T10:43:46.032Z"
   },
   {
    "duration": 51,
    "start_time": "2022-04-01T10:43:46.086Z"
   },
   {
    "duration": 7,
    "start_time": "2022-04-01T10:43:46.139Z"
   },
   {
    "duration": 61,
    "start_time": "2022-04-01T10:43:46.148Z"
   },
   {
    "duration": 7,
    "start_time": "2022-04-01T10:43:46.211Z"
   },
   {
    "duration": 18,
    "start_time": "2022-04-01T10:43:46.220Z"
   },
   {
    "duration": 10,
    "start_time": "2022-04-01T10:43:46.240Z"
   },
   {
    "duration": 34,
    "start_time": "2022-04-01T10:43:46.282Z"
   },
   {
    "duration": 9,
    "start_time": "2022-04-01T10:43:46.318Z"
   },
   {
    "duration": 10,
    "start_time": "2022-04-01T10:43:46.330Z"
   },
   {
    "duration": 42,
    "start_time": "2022-04-01T10:43:46.343Z"
   },
   {
    "duration": 15,
    "start_time": "2022-04-01T10:43:46.388Z"
   },
   {
    "duration": 9,
    "start_time": "2022-04-01T10:43:46.406Z"
   },
   {
    "duration": 17,
    "start_time": "2022-04-01T10:43:46.417Z"
   },
   {
    "duration": 13,
    "start_time": "2022-04-01T10:43:46.436Z"
   },
   {
    "duration": 51,
    "start_time": "2022-04-01T10:43:46.450Z"
   },
   {
    "duration": 29,
    "start_time": "2022-04-01T10:43:46.507Z"
   },
   {
    "duration": 10,
    "start_time": "2022-04-01T10:43:46.538Z"
   },
   {
    "duration": 33,
    "start_time": "2022-04-01T10:43:46.550Z"
   },
   {
    "duration": 18,
    "start_time": "2022-04-01T10:43:46.586Z"
   },
   {
    "duration": 40,
    "start_time": "2022-04-01T10:43:46.607Z"
   },
   {
    "duration": 40,
    "start_time": "2022-04-01T10:43:46.650Z"
   },
   {
    "duration": 14,
    "start_time": "2022-04-01T10:43:46.693Z"
   },
   {
    "duration": 23,
    "start_time": "2022-04-01T10:43:46.709Z"
   },
   {
    "duration": 55,
    "start_time": "2022-04-01T10:43:46.735Z"
   },
   {
    "duration": 23,
    "start_time": "2022-04-01T10:43:46.793Z"
   },
   {
    "duration": 22,
    "start_time": "2022-04-01T10:43:46.819Z"
   },
   {
    "duration": 6293,
    "start_time": "2022-07-24T10:39:20.143Z"
   },
   {
    "duration": 476,
    "start_time": "2022-07-24T10:42:22.831Z"
   },
   {
    "duration": 18,
    "start_time": "2022-07-24T10:42:30.732Z"
   },
   {
    "duration": 92,
    "start_time": "2022-07-24T10:48:21.829Z"
   },
   {
    "duration": 470,
    "start_time": "2022-07-24T10:49:01.089Z"
   },
   {
    "duration": 453,
    "start_time": "2022-07-24T10:49:04.543Z"
   },
   {
    "duration": 29,
    "start_time": "2022-07-24T10:49:06.322Z"
   },
   {
    "duration": 17,
    "start_time": "2022-07-24T10:49:11.042Z"
   },
   {
    "duration": 14,
    "start_time": "2022-07-24T10:49:32.283Z"
   },
   {
    "duration": 332,
    "start_time": "2022-07-24T10:50:32.188Z"
   }
  ],
  "kernelspec": {
   "display_name": "Python 3 (ipykernel)",
   "language": "python",
   "name": "python3"
  },
  "language_info": {
   "codemirror_mode": {
    "name": "ipython",
    "version": 3
   },
   "file_extension": ".py",
   "mimetype": "text/x-python",
   "name": "python",
   "nbconvert_exporter": "python",
   "pygments_lexer": "ipython3",
   "version": "3.9.13"
  },
  "toc": {
   "base_numbering": 1,
   "nav_menu": {},
   "number_sections": true,
   "sideBar": true,
   "skip_h1_title": true,
   "title_cell": "Table of Contents",
   "title_sidebar": "Contents",
   "toc_cell": false,
   "toc_position": {},
   "toc_section_display": true,
   "toc_window_display": false
  }
 },
 "nbformat": 4,
 "nbformat_minor": 5
}
